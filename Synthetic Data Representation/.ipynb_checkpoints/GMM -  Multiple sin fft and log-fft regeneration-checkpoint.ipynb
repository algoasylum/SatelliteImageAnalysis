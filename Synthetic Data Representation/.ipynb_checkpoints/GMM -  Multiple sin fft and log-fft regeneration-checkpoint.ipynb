{
 "cells": [
  {
   "cell_type": "code",
   "execution_count": 1,
   "metadata": {},
   "outputs": [],
   "source": [
    "import numpy as np\n",
    "import pandas as pd\n",
    "import seaborn as sns\n",
    "sns.set(style='whitegrid')\n",
    "sns.set_palette('bright')\n",
    "import matplotlib.pyplot as plt\n",
    "import plotly.express as px\n",
    "import plotly.figure_factory as ff\n",
    "import plotly.graph_objects as go\n",
    "from plotly.subplots import make_subplots\n",
    "from scipy import fftpack\n",
    "import datetime\n",
    "from sklearn import mixture\n",
    "import warnings\n",
    "warnings.filterwarnings('ignore')\n",
    "from scipy import fft\n",
    "from scipy.stats import wasserstein_distance"
   ]
  },
  {
   "cell_type": "code",
   "execution_count": 44,
   "metadata": {},
   "outputs": [
    {
     "data": {
      "image/png": "[encoded data removed]",
      "text/plain": [
       "<Figure size 432x288 with 1 Axes>"
      ]
     },
     "metadata": {},
     "output_type": "display_data"
    }
   ],
   "source": [
    "from scipy import signal\n",
    "import math\n",
    "x = np.arange(-12.5, 12.5, 0.1)\n",
    "y = np.zeros(250)\n",
    "y = np.tanh(x)\n",
    "plt.plot(x, y)\n",
    "plt.show()"
   ]
  },
  {
   "cell_type": "code",
   "execution_count": 45,
   "metadata": {},
   "outputs": [],
   "source": [
    "#x = np.arange(1, 31, 1)\n",
    "signal_3 = pd.DataFrame(zip(x,y),columns=['Time','Value'])"
   ]
  },
  {
   "cell_type": "markdown",
   "metadata": {},
   "source": [
    "# FFT regeneration"
   ]
  },
  {
   "cell_type": "code",
   "execution_count": 29,
   "metadata": {},
   "outputs": [],
   "source": [
    "def freq(df):\n",
    "    N = df.shape[0]\n",
    "    y = np.array(df['Value'])\n",
    "    f = fftpack.fftfreq(len(y))\n",
    "    yf = fftpack.fft(y)\n",
    "    #freq_ampli_real = pd.DataFrame(zip(f[:N//2+1],yf[:N//2+1].real),columns=['Freq','Ampli'])\n",
    "    freq_ampli_img = pd.DataFrame(zip(f[:N//2+1],yf[:N//2+1].imag),columns=['Freq','Ampli'])\n",
    "    return freq_ampli_img\n",
    "freq_ampli3i = freq(signal_3)"
   ]
  },
  {
   "cell_type": "code",
   "execution_count": 30,
   "metadata": {},
   "outputs": [
    {
     "data": {
      "image/png": "[encoded data removed]",
      "text/plain": [
       "<Figure size 432x288 with 1 Axes>"
      ]
     },
     "metadata": {},
     "output_type": "display_data"
    }
   ],
   "source": [
    "#sns.lineplot(freq_ampli3['Freq'], freq_ampli3['Ampli'])\n",
    "#plt.xlim(0, 0.2)\n",
    "#plt.title('Real values of FFT')\n",
    "#plt.show()\n",
    "plt.scatter(freq_ampli3i['Freq'], freq_ampli3i['Ampli'])\n",
    "plt.title('Imaginary values of FFT')\n",
    "plt.show()"
   ]
  },
  {
   "cell_type": "code",
   "execution_count": 31,
   "metadata": {},
   "outputs": [
    {
     "data": {
      "text/plain": [
       "(126, 2)"
      ]
     },
     "execution_count": 31,
     "metadata": {},
     "output_type": "execute_result"
    }
   ],
   "source": [
    "np.shape(freq_ampli3i)"
   ]
  },
  {
   "cell_type": "code",
   "execution_count": 32,
   "metadata": {},
   "outputs": [],
   "source": [
    "def GMM_fit(df):\n",
    "    dfx = df\n",
    "    lowest_bic = np.infty\n",
    "    bic = []\n",
    "    n_components_range = range(1, 50)\n",
    "    cv_types = ['spherical', 'tied', 'diag', 'full']\n",
    "    for cv_type in cv_types:\n",
    "        for n_components in n_components_range:\n",
    "            # Fit a Gaussian mixture with EM\n",
    "            gmm = mixture.GaussianMixture(n_components=n_components,\n",
    "                                          covariance_type=cv_type)\n",
    "            gmm.fit(dfx)\n",
    "            bic.append(gmm.bic(dfx))\n",
    "            if bic[-1] < lowest_bic:\n",
    "                lowest_bic = bic[-1]\n",
    "                best_gmm = gmm\n",
    "    return best_gmm"
   ]
  },
  {
   "cell_type": "code",
   "execution_count": 33,
   "metadata": {},
   "outputs": [],
   "source": [
    "#best_gmm0 = GMM_fit(freq_ampli3)                        # GMM on real part of FFT data\n",
    "best_gmm0i = GMM_fit(freq_ampli3i)                      "
   ]
  },
  {
   "cell_type": "code",
   "execution_count": 34,
   "metadata": {},
   "outputs": [
    {
     "name": "stdout",
     "output_type": "stream",
     "text": [
      "GaussianMixture(n_components=23) \n",
      "\n",
      "WEIGHTS - [0.02385688 0.00793651 0.00793651 0.00793651 0.00793651 0.00793651\n",
      " 0.02433243 0.21148052 0.00793651 0.00793651 0.00793651 0.10826847\n",
      " 0.00793651 0.00793651 0.00793651 0.00793651 0.00793651 0.13654212\n",
      " 0.11873033 0.00793651 0.02328662 0.14027969 0.10211182] \n",
      "\n",
      "MEANS (Col 1: Freq; Col 2: Amplitude) - \n",
      " [[ 8.00158920e-02  1.00573017e+00]\n",
      " [ 3.20000000e-02 -1.19212028e+02]\n",
      " [ 2.00000000e-02  1.31188933e+01]\n",
      " [ 1.20000000e-02 -9.25222124e+01]\n",
      " [ 1.60000000e-02  2.62250298e+01]\n",
      " [ 8.00000000e-03 -1.19499188e+01]\n",
      " [ 4.40123525e-02  3.72983333e+00]\n",
      " [ 4.44441005e-01  6.62926106e-02]\n",
      " [ 2.80000000e-02  8.14635572e+00]\n",
      " [ 4.00000000e-03 -4.01165216e+00]\n",
      " [ 6.40000000e-02 -1.22529356e+02]\n",
      " [ 2.33641479e-01  4.11470308e-01]\n",
      " [ 2.40000000e-02  9.41335471e+00]\n",
      " [ 6.00000000e-02  4.89414485e+00]\n",
      " [-5.00000000e-01  0.00000000e+00]\n",
      " [ 6.80000000e-02 -5.25923102e-01]\n",
      " [ 7.20000000e-02  5.99901751e-01]\n",
      " [ 1.20486099e-01  8.87537481e-01]\n",
      " [ 2.90885140e-01  2.87411156e-01]\n",
      " [ 0.00000000e+00  0.00000000e+00]\n",
      " [ 4.80769136e-02  3.54890478e+00]\n",
      " [ 3.56277292e-01  1.81255149e-01]\n",
      " [ 1.80594554e-01  5.77789814e-01]] \n",
      "\n"
     ]
    }
   ],
   "source": [
    "print(best_gmm0i, '\\n')\n",
    "print('WEIGHTS -', best_gmm0i.weights_, '\\n')\n",
    "print('MEANS (Col 1: Freq; Col 2: Amplitude) - \\n',best_gmm0i.means_, '\\n')"
   ]
  },
  {
   "cell_type": "code",
   "execution_count": 35,
   "metadata": {},
   "outputs": [],
   "source": [
    "#Sampling\n",
    "#z1,_ = best_gmm0.sample(126)\n",
    "z1i,_ = best_gmm0i.sample(126)"
   ]
  },
  {
   "cell_type": "code",
   "execution_count": 36,
   "metadata": {},
   "outputs": [
    {
     "data": {
      "image/png": "[encoded data removed]",
      "text/plain": [
       "<Figure size 432x288 with 2 Axes>"
      ]
     },
     "metadata": {},
     "output_type": "display_data"
    }
   ],
   "source": [
    "fig, ax = plt.subplots(2, sharex='all', sharey='all')\n",
    "ax[0].scatter(freq_ampli3i['Freq'], freq_ampli3i['Ampli'])\n",
    "#plt.show()\n",
    "ax[1].scatter(z1i[:, 0], z1i[:, 1])\n",
    "plt.show()"
   ]
  },
  {
   "cell_type": "code",
   "execution_count": 37,
   "metadata": {},
   "outputs": [],
   "source": [
    "#sample_1 = pd.DataFrame(zip(z1[:,0],z1[:,1]),columns=['Freq','Ampli'])           \n",
    "sample_1i = pd.DataFrame(zip(z1i[:,0],z1i[:,1]),columns=['Freq','Ampli'])"
   ]
  },
  {
   "cell_type": "code",
   "execution_count": 38,
   "metadata": {},
   "outputs": [],
   "source": [
    "#sample_1 = sample_1.sort_values(by=['Freq'],ascending=True)     \n",
    "#sample_1 = sample_1[sample_1.Freq > 0]                           \n",
    "sample_1i = sample_1i.sort_values(by=['Freq'],ascending=True)\n",
    "sample_1i = sample_1i[sample_1i.Freq > 0]                        "
   ]
  },
  {
   "cell_type": "code",
   "execution_count": 39,
   "metadata": {},
   "outputs": [],
   "source": [
    "f = fftpack.fftfreq(250)       \n",
    "sd = dict(zip(np.round(f,3),np.zeros(len(f))))\n",
    "#sample_1.Freq = sample_1.Freq.apply(lambda x:round(x,3))       \n",
    "sample_1i.Freq = sample_1i.Freq.apply(lambda x:round(x,3))\n",
    "#samp_1 = dict(zip(sample_1.Freq,sample_1.Ampli))\n",
    "samp_1i = dict(zip(sample_1i.Freq,sample_1i.Ampli))"
   ]
  },
  {
   "cell_type": "code",
   "execution_count": 40,
   "metadata": {},
   "outputs": [
    {
     "data": {
      "text/plain": [
       "{0.0: 0.0,\n",
       " 0.004: 0.0,\n",
       " 0.008: 0.0,\n",
       " 0.012: -185.04308961062213j,\n",
       " 0.016: 0.0,\n",
       " 0.02: 0.0,\n",
       " 0.024: 9.412882215861488j,\n",
       " 0.028: 0.0,\n",
       " 0.032: -238.4232580042671j,\n",
       " 0.036: 3.678579311846262j,\n",
       " 0.04: 0.0,\n",
       " 0.044: 0.0,\n",
       " 0.048: 7.377084564886258j,\n",
       " 0.052: 0.0,\n",
       " 0.056: 0.0,\n",
       " 0.06: 0.0,\n",
       " 0.064: 3.6932902622469257j,\n",
       " 0.068: 0.0,\n",
       " 0.072: 0.0,\n",
       " 0.076: 1.8935439487962036j,\n",
       " 0.08: 0.0,\n",
       " 0.084: 1.1221077224754386j,\n",
       " 0.088: 0.0,\n",
       " 0.092: 0.0,\n",
       " 0.096: 1.0331253328960373j,\n",
       " 0.1: 0.0,\n",
       " 0.104: 0.0,\n",
       " 0.108: 0.0,\n",
       " 0.112: 0.9457445365839399j,\n",
       " 0.116: 1.836971326538395j,\n",
       " 0.12: 1.7951124425057219j,\n",
       " 0.124: 0.0,\n",
       " 0.128: 0.0,\n",
       " 0.132: 0.8095251021728465j,\n",
       " 0.136: 0.7964881638303171j,\n",
       " 0.14: 0.0,\n",
       " 0.144: 0.735794504391643j,\n",
       " 0.148: 0.7127510879488015j,\n",
       " 0.152: 0.0,\n",
       " 0.156: 0.6506708243701438j,\n",
       " 0.16: 0.0,\n",
       " 0.164: 0.6524228881509544j,\n",
       " 0.168: 0.6419860043946143j,\n",
       " 0.172: 0.0,\n",
       " 0.176: 1.196656330111947j,\n",
       " 0.18: 0.5754346726429506j,\n",
       " 0.184: 0.5686310206107476j,\n",
       " 0.188: 1.6513402844645069j,\n",
       " 0.192: 0.0,\n",
       " 0.196: 0.5157777839953881j,\n",
       " 0.2: 1.010002835806849j,\n",
       " 0.204: 0.4839500032028594j,\n",
       " 0.208: 0.48509182395850103j,\n",
       " 0.212: 0.45578790806748704j,\n",
       " 0.216: 1.369365198698591j,\n",
       " 0.22: 0.8898694567808307j,\n",
       " 0.224: 0.0,\n",
       " 0.228: 0.0,\n",
       " 0.232: 0.41798123579885316j,\n",
       " 0.236: 0.40165806952593996j,\n",
       " 0.24: 0.3936672962405692j,\n",
       " 0.244: 0.3897884006260763j,\n",
       " 0.248: 0.3763400036106368j,\n",
       " 0.252: 0.37298034509838j,\n",
       " 0.256: 0.358410267252587j,\n",
       " 0.26: 0.3481306472331971j,\n",
       " 0.264: 0.0,\n",
       " 0.268: 0.0,\n",
       " 0.272: 0.32091068971413284j,\n",
       " 0.276: 0.0,\n",
       " 0.28: 0.300378966342957j,\n",
       " 0.284: 0.0,\n",
       " 0.288: 0.0,\n",
       " 0.292: 0.2856588696134368j,\n",
       " 0.296: 0.27786301657391976j,\n",
       " 0.3: 0.2732448796831373j,\n",
       " 0.304: 0.0,\n",
       " 0.308: 0.5014860271836448j,\n",
       " 0.312: 0.0,\n",
       " 0.316: 0.0,\n",
       " 0.32: 0.0,\n",
       " 0.324: 0.0,\n",
       " 0.328: 0.0,\n",
       " 0.332: 0.0,\n",
       " 0.336: 0.20872616380936848j,\n",
       " 0.34: 0.2031011214596231j,\n",
       " 0.344: 0.0,\n",
       " 0.348: 0.0,\n",
       " 0.352: 0.18786561504319887j,\n",
       " 0.356: 0.182597643862498j,\n",
       " 0.36: 0.0,\n",
       " 0.364: 0.3393245888124825j,\n",
       " 0.368: 0.3350365924389791j,\n",
       " 0.372: 0.31946761263045714j,\n",
       " 0.376: 0.0,\n",
       " 0.38: 0.0,\n",
       " 0.384: 0.0,\n",
       " 0.388: 0.2726950156049735j,\n",
       " 0.392: 0.0,\n",
       " 0.396: 0.0,\n",
       " 0.4: 0.1230503420440425j,\n",
       " 0.404: 0.0,\n",
       " 0.408: 0.11145761364541541j,\n",
       " 0.412: 0.20938239072799697j,\n",
       " 0.416: 0.20197761404904857j,\n",
       " 0.42: 0.0,\n",
       " 0.424: 0.0,\n",
       " 0.428: 0.08600657783672139j,\n",
       " 0.432: 0.08453394891367727j,\n",
       " 0.436: 0.07345165358693205j,\n",
       " 0.44: 0.0,\n",
       " 0.444: 0.13614031213382433j,\n",
       " 0.448: 0.12234860278571166j,\n",
       " 0.452: 0.11679536534506058j,\n",
       " 0.456: 0.05331970969715677j,\n",
       " 0.46: 0.0,\n",
       " 0.464: 0.0,\n",
       " 0.468: 0.036651567119371085j,\n",
       " 0.472: 0.0,\n",
       " 0.476: 0.0,\n",
       " 0.48: 0.0,\n",
       " 0.484: 0.0,\n",
       " 0.488: 0.02920560362328034j,\n",
       " 0.492: 0.0,\n",
       " 0.496: 0.0,\n",
       " -0.5: 0.0,\n",
       " -0.496: 0.0,\n",
       " -0.492: 0.0,\n",
       " -0.488: 0.01568856015283345j,\n",
       " -0.484: 0.0,\n",
       " -0.48: 0.0,\n",
       " -0.476: 0.0,\n",
       " -0.472: 0.0,\n",
       " -0.468: 0j,\n",
       " -0.464: 0.0,\n",
       " -0.46: 0.0,\n",
       " -0.456: 0j,\n",
       " -0.452: 0.06132291217473465j,\n",
       " -0.448: 0.06302890101138722j,\n",
       " -0.444: 0.06724258661281307j,\n",
       " -0.44: 0.0,\n",
       " -0.436: 0j,\n",
       " -0.432: 0j,\n",
       " -0.428: 0j,\n",
       " -0.424: 0.0,\n",
       " -0.42: 0.0,\n",
       " -0.416: 0.10158811528754223j,\n",
       " -0.412: 0.10393321513100369j,\n",
       " -0.408: 0j,\n",
       " -0.404: 0.0,\n",
       " -0.4: 0j,\n",
       " -0.396: 0.0,\n",
       " -0.392: 0.0,\n",
       " -0.388: 0.13856494710210154j,\n",
       " -0.384: 0.0,\n",
       " -0.38: 0.0,\n",
       " -0.376: 0.0,\n",
       " -0.372: 0.16185609095801293j,\n",
       " -0.368: 0.1696752836338793j,\n",
       " -0.364: 0.17261720778829226j,\n",
       " -0.36: 0.0,\n",
       " -0.356: 0j,\n",
       " -0.352: 0j,\n",
       " -0.348: 0.0,\n",
       " -0.344: 0.0,\n",
       " -0.34: 0j,\n",
       " -0.336: 0j,\n",
       " -0.332: 0.0,\n",
       " -0.328: 0.0,\n",
       " -0.324: 0.0,\n",
       " -0.32: 0.0,\n",
       " -0.316: 0.0,\n",
       " -0.312: 0.0,\n",
       " -0.308: 0.2501767630246584j,\n",
       " -0.304: 0.0,\n",
       " -0.3: 0j,\n",
       " -0.296: 0j,\n",
       " -0.292: 0j,\n",
       " -0.288: 0.0,\n",
       " -0.284: 0.0,\n",
       " -0.28: 0j,\n",
       " -0.276: 0.0,\n",
       " -0.272: 0j,\n",
       " -0.268: 0.0,\n",
       " -0.264: 0.0,\n",
       " -0.26: 0j,\n",
       " -0.256: 0j,\n",
       " -0.252: 0j,\n",
       " -0.248: 0j,\n",
       " -0.244: 0j,\n",
       " -0.24: 0j,\n",
       " -0.236: 0j,\n",
       " -0.232: 0j,\n",
       " -0.228: 0.0,\n",
       " -0.224: 0.0,\n",
       " -0.22: 0.4496060303377718j,\n",
       " -0.216: 0.9153754207800857j,\n",
       " -0.212: 0j,\n",
       " -0.208: 0j,\n",
       " -0.204: 0j,\n",
       " -0.2: 0.50570267769391j,\n",
       " -0.196: 0j,\n",
       " -0.192: 0.0,\n",
       " -0.188: 1.1039786376824958j,\n",
       " -0.184: 0j,\n",
       " -0.18: 0j,\n",
       " -0.176: 0.6003507340227087j,\n",
       " -0.172: 0.0,\n",
       " -0.168: 0j,\n",
       " -0.164: 0j,\n",
       " -0.16: 0.0,\n",
       " -0.156: 0j,\n",
       " -0.152: 0.0,\n",
       " -0.148: 0j,\n",
       " -0.144: 0j,\n",
       " -0.14: 0.0,\n",
       " -0.136: 0j,\n",
       " -0.132: 0j,\n",
       " -0.128: 0.0,\n",
       " -0.124: 0.0,\n",
       " -0.12: 0.8987945240402697j,\n",
       " -0.116: 0.9243141987650612j,\n",
       " -0.112: 0j,\n",
       " -0.108: 0.0,\n",
       " -0.104: 0.0,\n",
       " -0.1: 0.0,\n",
       " -0.096: 0j,\n",
       " -0.092: 0.0,\n",
       " -0.088: 0.0,\n",
       " -0.084: 0j,\n",
       " -0.08: 0.0,\n",
       " -0.076: 0.9430955365327396j,\n",
       " -0.072: 0.0,\n",
       " -0.068: 0.0,\n",
       " -0.064: 0j,\n",
       " -0.06: 0.0,\n",
       " -0.056: 0.0,\n",
       " -0.052: 0.0,\n",
       " -0.048: 3.5796876115442005j,\n",
       " -0.044: 0.0,\n",
       " -0.04: 0.0,\n",
       " -0.036: 0j,\n",
       " -0.032: -119.21148965496617j,\n",
       " -0.028: 0.0,\n",
       " -0.024: 0j,\n",
       " -0.02: 0.0,\n",
       " -0.016: 0.0,\n",
       " -0.012: -92.52154441854542j,\n",
       " -0.008: 0.0,\n",
       " -0.004: 0.0}"
      ]
     },
     "execution_count": 40,
     "metadata": {},
     "output_type": "execute_result"
    }
   ],
   "source": [
    "for i in samp_1i.keys():\n",
    "    if i in sd:\n",
    "        sd[i] = complex(sd[i],samp_1i[i])\n",
    "        sd[-i] = complex(sd[i],-(samp_1i[i]))\n",
    "    elif i+0.001 in sd:\n",
    "        sd[i+0.001] = complex(sd[i+0.001],samp_1i[i])\n",
    "        sd[-(i+0.001)] = complex(sd[i+0.001],-(samp_1i[i]))\n",
    "    elif i-0.001 in sd:\n",
    "        sd[i-0.001] = complex(sd[i-0.001],samp_1i[i])\n",
    "        sd[-(i-0.001)] = complex(sd[i-0.001],-(samp_1i[i]))\n",
    "sd"
   ]
  },
  {
   "cell_type": "code",
   "execution_count": 41,
   "metadata": {},
   "outputs": [],
   "source": [
    "value = list(sd.values())"
   ]
  },
  {
   "cell_type": "markdown",
   "metadata": {},
   "source": [
    "# Final IFFT"
   ]
  },
  {
   "cell_type": "code",
   "execution_count": 42,
   "metadata": {},
   "outputs": [
    {
     "data": {
      "text/plain": [
       "[<matplotlib.lines.Line2D at 0x24129e91970>]"
      ]
     },
     "execution_count": 42,
     "metadata": {},
     "output_type": "execute_result"
    },
    {
     "data": {
      "image/png": "[encoded data removed]",
      "text/plain": [
       "<Figure size 432x288 with 1 Axes>"
      ]
     },
     "metadata": {},
     "output_type": "display_data"
    }
   ],
   "source": [
    "ift = fft.ifft(value)\n",
    "plt.title('IFFT')\n",
    "plt.plot(signal_3['Time'], signal_3['Value'])\n",
    "plt.plot(x,ift)"
   ]
  },
  {
   "cell_type": "markdown",
   "metadata": {},
   "source": [
    "# Log FFT regeneration"
   ]
  },
  {
   "cell_type": "code",
   "execution_count": 71,
   "metadata": {},
   "outputs": [],
   "source": [
    "def freq(df):\n",
    "    N = df.shape[0]\n",
    "    y = np.array(df['Value'])\n",
    "    f = fftpack.fftfreq(len(y))\n",
    "    yf = fftpack.fft(y)\n",
    "    #freq_ampli_real = pd.DataFrame(zip(f[:N//2+1],yf[:N//2+1].real),columns=['Freq','Ampli'])\n",
    "    freq_ampli_img = pd.DataFrame(zip(f[:N//2+1],yf[:N//2+1].imag),columns=['Freq','Ampli'])\n",
    "    return freq_ampli_img\n",
    "freq_ampli3i = freq(signal_3)"
   ]
  },
  {
   "cell_type": "code",
   "execution_count": 72,
   "metadata": {},
   "outputs": [
    {
     "data": {
      "image/png": "[encoded data removed]",
      "text/plain": [
       "<Figure size 432x288 with 1 Axes>"
      ]
     },
     "metadata": {},
     "output_type": "display_data"
    }
   ],
   "source": [
    "#sns.lineplot(freq_ampli3['Freq'], freq_ampli3['Ampli'])\n",
    "#plt.xlim(0, 0.2)\n",
    "#plt.title('Real values of FFT')\n",
    "#plt.show()\n",
    "plt.scatter(freq_ampli3i['Freq'], freq_ampli3i['Ampli'])\n",
    "plt.title('Imaginary values of FFT')\n",
    "plt.show()"
   ]
  },
  {
   "cell_type": "code",
   "execution_count": 73,
   "metadata": {},
   "outputs": [
    {
     "data": {
      "image/png": "[encoded data removed]",
      "text/plain": [
       "<Figure size 432x288 with 1 Axes>"
      ]
     },
     "metadata": {},
     "output_type": "display_data"
    }
   ],
   "source": [
    "#freq_ampli3['Ampli'] = np.log(freq_ampli3[\"Ampli\"])\n",
    "#freq_ampli3 = freq_ampli3.loc[freq_ampli3['Ampli'] != float('-inf')]\n",
    "#freq_ampli3 = freq_ampli3.dropna()\n",
    "#plt.scatter(freq_ampli3['Freq'], freq_ampli3['Ampli'])\n",
    "#plt.show()\n",
    "freq_ampli3i['Ampli'] = np.log(freq_ampli3i[\"Ampli\"])\n",
    "freq_ampli3i = freq_ampli3i.loc[freq_ampli3i['Ampli'] != float('-inf')]\n",
    "freq_ampli3i = freq_ampli3i.fillna(0)\n",
    "plt.scatter(freq_ampli3i['Freq'], freq_ampli3i['Ampli'])\n",
    "plt.show()"
   ]
  },
  {
   "cell_type": "code",
   "execution_count": 74,
   "metadata": {},
   "outputs": [
    {
     "data": {
      "text/plain": [
       "(124, 2)"
      ]
     },
     "execution_count": 74,
     "metadata": {},
     "output_type": "execute_result"
    }
   ],
   "source": [
    "np.shape(freq_ampli3i)"
   ]
  },
  {
   "cell_type": "code",
   "execution_count": 75,
   "metadata": {},
   "outputs": [],
   "source": [
    "def GMM_fit(df):\n",
    "    dfx = df\n",
    "    lowest_bic = np.infty\n",
    "    bic = []\n",
    "    n_components_range = range(1, 50)\n",
    "    cv_types = ['spherical', 'tied', 'diag', 'full']\n",
    "    for cv_type in cv_types:\n",
    "        for n_components in n_components_range:\n",
    "            # Fit a Gaussian mixture with EM\n",
    "            gmm = mixture.GaussianMixture(n_components=n_components,\n",
    "                                          covariance_type=cv_type)\n",
    "            gmm.fit(dfx)\n",
    "            bic.append(gmm.bic(dfx))\n",
    "            if bic[-1] < lowest_bic:\n",
    "                lowest_bic = bic[-1]\n",
    "                best_gmm = gmm\n",
    "    return best_gmm"
   ]
  },
  {
   "cell_type": "code",
   "execution_count": 76,
   "metadata": {},
   "outputs": [],
   "source": [
    "#best_gmm0 = GMM_fit(freq_ampli3)                        # GMM on real part of FFT data\n",
    "best_gmm0i = GMM_fit(freq_ampli3i)                      # GMM on imaginary part of FFT data"
   ]
  },
  {
   "cell_type": "code",
   "execution_count": 77,
   "metadata": {},
   "outputs": [
    {
     "data": {
      "text/plain": [
       "\"print(best_gmm0, '\\n')\\nprint('WEIGHTS -', best_gmm0.weights_, '\\n')\\nprint('MEANS (Col 1: Freq; Col 2: Amplitude) - \\n',best_gmm0.means_, '\\n')\""
      ]
     },
     "execution_count": 77,
     "metadata": {},
     "output_type": "execute_result"
    }
   ],
   "source": [
    "'''print(best_gmm0, '\\n')\n",
    "print('WEIGHTS -', best_gmm0.weights_, '\\n')\n",
    "print('MEANS (Col 1: Freq; Col 2: Amplitude) - \\n',best_gmm0.means_, '\\n')'''"
   ]
  },
  {
   "cell_type": "code",
   "execution_count": 78,
   "metadata": {},
   "outputs": [
    {
     "name": "stdout",
     "output_type": "stream",
     "text": [
      "GaussianMixture(n_components=7) \n",
      "\n",
      "WEIGHTS - [0.06572378 0.16156141 0.10764126 0.10788428 0.3302416  0.07430581\n",
      " 0.15264185] \n",
      "\n",
      "MEANS (Col 1: Freq; Col 2: Amplitude) - \n",
      " [[ 0.48165925 -4.02148501]\n",
      " [ 0.13312512 -0.21840154]\n",
      " [ 0.04465178  1.41768356]\n",
      " [ 0.43861    -2.65477362]\n",
      " [ 0.25388674 -1.02133025]\n",
      " [ 0.0508792   0.02222937]\n",
      " [ 0.3739837  -1.87530307]] \n",
      "\n"
     ]
    }
   ],
   "source": [
    "print(best_gmm0i, '\\n')\n",
    "print('WEIGHTS -', best_gmm0i.weights_, '\\n')\n",
    "print('MEANS (Col 1: Freq; Col 2: Amplitude) - \\n',best_gmm0i.means_, '\\n')"
   ]
  },
  {
   "cell_type": "code",
   "execution_count": 113,
   "metadata": {},
   "outputs": [],
   "source": [
    "#Sampling\n",
    "#z1,_ = best_gmm0.sample(126)\n",
    "z1i,_ = best_gmm0i.sample(126)"
   ]
  },
  {
   "cell_type": "code",
   "execution_count": 114,
   "metadata": {},
   "outputs": [
    {
     "data": {
      "text/plain": [
       "\"fig, ax = plt.subplots(2, sharex='all', sharey='all')\\nax[0].scatter(freq_ampli3['Freq'], freq_ampli3['Ampli'])\\n#plt.show()\\nax[1].scatter(z1[:, 0], z1[:, 1])\\nplt.show()\""
      ]
     },
     "execution_count": 114,
     "metadata": {},
     "output_type": "execute_result"
    }
   ],
   "source": [
    "'''fig, ax = plt.subplots(2, sharex='all', sharey='all')\n",
    "ax[0].scatter(freq_ampli3['Freq'], freq_ampli3['Ampli'])\n",
    "#plt.show()\n",
    "ax[1].scatter(z1[:, 0], z1[:, 1])\n",
    "plt.show()'''"
   ]
  },
  {
   "cell_type": "code",
   "execution_count": 115,
   "metadata": {},
   "outputs": [
    {
     "data": {
      "image/png": "[encoded data removed]",
      "text/plain": [
       "<Figure size 432x288 with 2 Axes>"
      ]
     },
     "metadata": {},
     "output_type": "display_data"
    }
   ],
   "source": [
    "fig, ax = plt.subplots(2, sharex='all', sharey='all')\n",
    "ax[0].scatter(freq_ampli3i['Freq'], freq_ampli3i['Ampli'])\n",
    "#plt.show()\n",
    "ax[1].scatter(z1i[:, 0], z1i[:, 1])\n",
    "plt.show()"
   ]
  },
  {
   "cell_type": "code",
   "execution_count": 116,
   "metadata": {},
   "outputs": [],
   "source": [
    "#print('Real: ', wasserstein_distance(freq_ampli3['Ampli'], z1[:, 1]))\n",
    "#print('Imag: ', wasserstein_distance(freq_ampli3i['Ampli'], z1i[:, 1]))"
   ]
  },
  {
   "cell_type": "code",
   "execution_count": 117,
   "metadata": {},
   "outputs": [],
   "source": [
    "z1i[:, 1] = np.exp(z1i[:, 1])"
   ]
  },
  {
   "cell_type": "code",
   "execution_count": 118,
   "metadata": {},
   "outputs": [
    {
     "data": {
      "text/plain": [
       "\"plt.figure(figsize=(20,10))\\nsns.distplot(freq_ampli3['Ampli'], kde = True)\\nsns.distplot(z1[:, 1], kde = True)\\n#plt.ylim(0.0, 0.2)\\nplt.show()\""
      ]
     },
     "execution_count": 118,
     "metadata": {},
     "output_type": "execute_result"
    }
   ],
   "source": [
    "'''plt.figure(figsize=(20,10))\n",
    "sns.distplot(freq_ampli3['Ampli'], kde = True)\n",
    "sns.distplot(z1[:, 1], kde = True)\n",
    "#plt.ylim(0.0, 0.2)\n",
    "plt.show()'''"
   ]
  },
  {
   "cell_type": "code",
   "execution_count": 119,
   "metadata": {},
   "outputs": [],
   "source": [
    "#sample_1 = pd.DataFrame(zip(z1[:,0],z1[:,1]),columns=['Freq','Ampli'])           \n",
    "sample_1i = pd.DataFrame(zip(z1i[:,0],z1i[:,1]),columns=['Freq','Ampli'])"
   ]
  },
  {
   "cell_type": "code",
   "execution_count": 120,
   "metadata": {},
   "outputs": [],
   "source": [
    "#sample_1 = sample_1.sort_values(by=['Freq'],ascending=True)     \n",
    "#sample_1 = sample_1[sample_1.Freq > 0]                           \n",
    "sample_1i = sample_1i.sort_values(by=['Freq'],ascending=True)\n",
    "sample_1i = sample_1i[sample_1i.Freq > 0]                        "
   ]
  },
  {
   "cell_type": "code",
   "execution_count": 121,
   "metadata": {},
   "outputs": [],
   "source": [
    "#sample_1 = sample_1[(sample_1.Ampli>1) | (sample_1.Ampli<-1)]\n",
    "#sample_1i = sample_1i[(sample_1i.Ampli>1) | (sample_1i.Ampli<-1)]"
   ]
  },
  {
   "cell_type": "code",
   "execution_count": 157,
   "metadata": {},
   "outputs": [],
   "source": [
    "f = fftpack.fftfreq(250)                                    # The frequency corresponding to each value in FFT is stored in 'f'"
   ]
  },
  {
   "cell_type": "code",
   "execution_count": 123,
   "metadata": {},
   "outputs": [],
   "source": [
    "sd = dict(zip(np.round(f,3),np.zeros(len(f))))"
   ]
  },
  {
   "cell_type": "code",
   "execution_count": 124,
   "metadata": {},
   "outputs": [],
   "source": [
    "#sample_1.Freq = sample_1.Freq.apply(lambda x:round(x,3))       \n",
    "sample_1i.Freq = sample_1i.Freq.apply(lambda x:round(x,3))"
   ]
  },
  {
   "cell_type": "code",
   "execution_count": 125,
   "metadata": {},
   "outputs": [],
   "source": [
    "#samp_1 = dict(zip(sample_1.Freq,sample_1.Ampli))\n",
    "samp_1i = dict(zip(sample_1i.Freq,sample_1i.Ampli))"
   ]
  },
  {
   "cell_type": "code",
   "execution_count": 126,
   "metadata": {},
   "outputs": [
    {
     "data": {
      "text/plain": [
       "'for i in samp_1.keys():\\n    if i in sd:\\n        sd[i] = samp_1[i]\\n        sd[-i] = samp_1[i]\\n    elif i+0.001 in sd:\\n        sd[i+0.001] = samp_1[i]\\n        sd[-(i+0.001)] = samp_1[i]\\n    elif i-0.001 in sd:\\n        sd[i-0.001] = samp_1[i]\\n        sd[-(i-0.001)] = samp_1[i]\\nsd'"
      ]
     },
     "execution_count": 126,
     "metadata": {},
     "output_type": "execute_result"
    }
   ],
   "source": [
    "for i in samp_1.keys():\n",
    "    if i in sd:\n",
    "        sd[i] = samp_1[i]\n",
    "        sd[-i] = samp_1[i]\n",
    "    elif i+0.001 in sd:\n",
    "        sd[i+0.001] = samp_1[i]\n",
    "        sd[-(i+0.001)] = samp_1[i]\n",
    "    elif i-0.001 in sd:\n",
    "        sd[i-0.001] = samp_1[i]\n",
    "        sd[-(i-0.001)] = samp_1[i]\n",
    "sd"
   ]
  },
  {
   "cell_type": "code",
   "execution_count": 127,
   "metadata": {},
   "outputs": [
    {
     "data": {
      "text/plain": [
       "{0.0: 0.0,\n",
       " 0.004: 0.0,\n",
       " 0.008: 30.724436869962258j,\n",
       " 0.012: 14.879335040014107j,\n",
       " 0.016: 9.756895585083686j,\n",
       " 0.02: 0.9839603382942789j,\n",
       " 0.024: 14.917463495105203j,\n",
       " 0.028: 7.521131980282708j,\n",
       " 0.032: 0.0,\n",
       " 0.036: 0.0,\n",
       " 0.04: 20.205737474370984j,\n",
       " 0.044: 0.0,\n",
       " 0.048: 1.0044992058371274j,\n",
       " 0.052: 1.013416629990353j,\n",
       " 0.056: 0.0,\n",
       " 0.06: 6.584482976117736j,\n",
       " 0.064: 0.0,\n",
       " 0.068: 1.01961689934885j,\n",
       " 0.072: 0.5298327013427195j,\n",
       " 0.076: 0.0,\n",
       " 0.08: 1.054543303498209j,\n",
       " 0.084: 0.0,\n",
       " 0.088: 0.0,\n",
       " 0.092: 0.0,\n",
       " 0.096: 1.0514267307154082j,\n",
       " 0.1: 1.02427881804425j,\n",
       " 0.104: 0.0,\n",
       " 0.108: 0.0,\n",
       " 0.112: 0.0,\n",
       " 0.116: 1.8166536025341768j,\n",
       " 0.12: 0.0,\n",
       " 0.124: 0.0,\n",
       " 0.128: 0.8428153675186215j,\n",
       " 0.132: 0.0,\n",
       " 0.136: 1.5731890068892607j,\n",
       " 0.14: 1.5413160097672922j,\n",
       " 0.144: 0.7467133903241809j,\n",
       " 0.148: 0.0,\n",
       " 0.152: 0.0,\n",
       " 0.156: 0.6862190969046318j,\n",
       " 0.16: 0.0,\n",
       " 0.164: 0.6416226564279303j,\n",
       " 0.168: 0.0,\n",
       " 0.172: 0.6135627781560254j,\n",
       " 0.176: 0.0,\n",
       " 0.18: 0.0,\n",
       " 0.184: 0.0,\n",
       " 0.188: 0.5398976609480131j,\n",
       " 0.192: 0.5337733906412456j,\n",
       " 0.196: 0.5226042717137659j,\n",
       " 0.2: 0.0,\n",
       " 0.204: 0.0,\n",
       " 0.208: 0.0,\n",
       " 0.212: 0.46471925372959044j,\n",
       " 0.216: 0.9119814584358983j,\n",
       " 0.22: 0.8971589890325955j,\n",
       " 0.224: 0.4269708288143577j,\n",
       " 0.228: 0.43511158444724135j,\n",
       " 0.232: 0.4141322519371094j,\n",
       " 0.236: 0.0,\n",
       " 0.24: 0.0,\n",
       " 0.244: 0.0,\n",
       " 0.248: 0.38255912018485877j,\n",
       " 0.252: 0.0,\n",
       " 0.256: 0.0,\n",
       " 0.26: 0.0,\n",
       " 0.264: 0.6692264559728422j,\n",
       " 0.268: 0.6556783794400675j,\n",
       " 0.272: 0.0,\n",
       " 0.276: 0.0,\n",
       " 0.28: 0.612157694695461j,\n",
       " 0.284: 0.6020648715273222j,\n",
       " 0.288: 0.5834455842091033j,\n",
       " 0.292: 0.0,\n",
       " 0.296: 0.0,\n",
       " 0.3: 0.27122604980635984j,\n",
       " 0.304: 0.264995827139308j,\n",
       " 0.308: 0.25626328730918313j,\n",
       " 0.312: 0.0,\n",
       " 0.316: 0.0,\n",
       " 0.32: 0.0,\n",
       " 0.324: 0.0,\n",
       " 0.328: 0.0,\n",
       " 0.332: 0.22493389292926513j,\n",
       " 0.336: 0.0,\n",
       " 0.34: 0.0,\n",
       " 0.344: 0.0,\n",
       " 0.348: 0.38496355085444317j,\n",
       " 0.352: 0.18639328068393674j,\n",
       " 0.356: 0.0,\n",
       " 0.36: 0.17330133449442992j,\n",
       " 0.364: 0.0,\n",
       " 0.368: 0.32961415136527833j,\n",
       " 0.372: 0.15264545153081674j,\n",
       " 0.376: 0.0,\n",
       " 0.38: 0.0,\n",
       " 0.384: 0.2813106765126788j,\n",
       " 0.388: 0.0,\n",
       " 0.392: 0.0,\n",
       " 0.396: 0.0,\n",
       " 0.4: 0.0,\n",
       " 0.404: 0.0,\n",
       " 0.408: 0.11562405543635879j,\n",
       " 0.412: 0.0,\n",
       " 0.416: 0.10426488576597973j,\n",
       " 0.42: 0.10306172082447482j,\n",
       " 0.424: 0.10105941823902424j,\n",
       " 0.428: 0.0,\n",
       " 0.432: 0.15952781890774886j,\n",
       " 0.436: 0.07360508424794586j,\n",
       " 0.44: 0.07038830514240484j,\n",
       " 0.444: 0.1284988608841626j,\n",
       " 0.448: 0.0,\n",
       " 0.452: 0.0,\n",
       " 0.456: 0.0,\n",
       " 0.46: 0.0,\n",
       " 0.464: 0.044478200525880175j,\n",
       " 0.468: 0.0,\n",
       " 0.472: 0.04315079270908792j,\n",
       " 0.476: 0.0,\n",
       " 0.48: 0.0,\n",
       " 0.484: 0.031934135750390925j,\n",
       " 0.488: 0.012121095025589583j,\n",
       " 0.492: 0.0,\n",
       " 0.496: 0.0,\n",
       " -0.5: 0.0,\n",
       " -0.496: 0.0,\n",
       " -0.492: 0.0,\n",
       " -0.488: 0j,\n",
       " -0.484: 0.01889805401888748j,\n",
       " -0.48: 0.0,\n",
       " -0.476: 0.0,\n",
       " -0.472: 0j,\n",
       " -0.468: 0.0,\n",
       " -0.464: 0j,\n",
       " -0.46: 0.0,\n",
       " -0.456: 0.0,\n",
       " -0.452: 0.0,\n",
       " -0.448: 0.0,\n",
       " -0.444: 0.06388073348263816j,\n",
       " -0.44: 0j,\n",
       " -0.436: 0j,\n",
       " -0.432: 0.08229779058669681j,\n",
       " -0.428: 0.0,\n",
       " -0.424: 0j,\n",
       " -0.42: 0j,\n",
       " -0.416: 0j,\n",
       " -0.412: 0.0,\n",
       " -0.408: 0j,\n",
       " -0.404: 0.0,\n",
       " -0.4: 0.0,\n",
       " -0.396: 0.0,\n",
       " -0.392: 0.0,\n",
       " -0.388: 0.0,\n",
       " -0.384: 0.14307956316427806j,\n",
       " -0.38: 0.0,\n",
       " -0.376: 0.0,\n",
       " -0.372: 0j,\n",
       " -0.368: 0.16422893233138527j,\n",
       " -0.364: 0.0,\n",
       " -0.36: 0j,\n",
       " -0.356: 0.0,\n",
       " -0.352: 0j,\n",
       " -0.348: 0.1947678263123043j,\n",
       " -0.344: 0.0,\n",
       " -0.34: 0.0,\n",
       " -0.336: 0.0,\n",
       " -0.332: 0j,\n",
       " -0.328: 0.0,\n",
       " -0.324: 0.0,\n",
       " -0.32: 0.0,\n",
       " -0.316: 0.0,\n",
       " -0.312: 0.0,\n",
       " -0.308: 0j,\n",
       " -0.304: 0j,\n",
       " -0.3: 0j,\n",
       " -0.296: 0.0,\n",
       " -0.292: 0.0,\n",
       " -0.288: 0.2916731238689999j,\n",
       " -0.284: 0.3024321089876663j,\n",
       " -0.28: 0.3096273555175137j,\n",
       " -0.276: 0.0,\n",
       " -0.272: 0.0,\n",
       " -0.268: 0.3289951599242487j,\n",
       " -0.264: 0.3344844922575557j,\n",
       " -0.26: 0.0,\n",
       " -0.256: 0.0,\n",
       " -0.252: 0.0,\n",
       " -0.248: 0j,\n",
       " -0.244: 0.0,\n",
       " -0.24: 0.0,\n",
       " -0.236: 0.0,\n",
       " -0.232: 0j,\n",
       " -0.228: 0j,\n",
       " -0.224: 0j,\n",
       " -0.22: 0.44775257706963j,\n",
       " -0.216: 0.45392764366381927j,\n",
       " -0.212: 0j,\n",
       " -0.208: 0.0,\n",
       " -0.204: 0.0,\n",
       " -0.2: 0.0,\n",
       " -0.196: 0j,\n",
       " -0.192: 0j,\n",
       " -0.188: 0j,\n",
       " -0.184: 0.0,\n",
       " -0.18: 0.0,\n",
       " -0.176: 0.0,\n",
       " -0.172: 0j,\n",
       " -0.168: 0.0,\n",
       " -0.164: 0j,\n",
       " -0.16: 0.0,\n",
       " -0.156: 0j,\n",
       " -0.152: 0.0,\n",
       " -0.148: 0.0,\n",
       " -0.144: 0j,\n",
       " -0.14: 0.7724699331853723j,\n",
       " -0.136: 0.7964522888021482j,\n",
       " -0.132: 0.0,\n",
       " -0.128: 0j,\n",
       " -0.124: 0.0,\n",
       " -0.12: 0.0,\n",
       " -0.116: 0.9125275207008825j,\n",
       " -0.112: 0.0,\n",
       " -0.108: 0.0,\n",
       " -0.104: 0.0,\n",
       " -0.1: 0j,\n",
       " -0.096: 0j,\n",
       " -0.092: 0.0,\n",
       " -0.088: 0.0,\n",
       " -0.084: 0.0,\n",
       " -0.08: 0j,\n",
       " -0.076: 0.0,\n",
       " -0.072: 0j,\n",
       " -0.068: 0j,\n",
       " -0.064: 0.0,\n",
       " -0.06: 4.139203865605058j,\n",
       " -0.056: 0.0,\n",
       " -0.052: 0j,\n",
       " -0.048: 0j,\n",
       " -0.044: 0.0,\n",
       " -0.04: 10.17431154437368j,\n",
       " -0.036: 0.0,\n",
       " -0.032: 0.0,\n",
       " -0.028: 6.516290891224544j,\n",
       " -0.024: 7.502800051420781j,\n",
       " -0.02: 0j,\n",
       " -0.016: 1.0029636186113713j,\n",
       " -0.012: 0j,\n",
       " -0.008: 0j,\n",
       " -0.004: 0.0}"
      ]
     },
     "execution_count": 127,
     "metadata": {},
     "output_type": "execute_result"
    }
   ],
   "source": [
    "for i in samp_1i.keys():\n",
    "    if i in sd:\n",
    "        sd[i] = complex(sd[i],samp_1i[i])\n",
    "        sd[-i] = complex(sd[i],-(samp_1i[i]))\n",
    "    elif i+0.001 in sd:\n",
    "        sd[i+0.001] = complex(sd[i+0.001],samp_1i[i])\n",
    "        sd[-(i+0.001)] = complex(sd[i+0.001],-(samp_1i[i]))\n",
    "    elif i-0.001 in sd:\n",
    "        sd[i-0.001] = complex(sd[i-0.001],samp_1i[i])\n",
    "        sd[-(i-0.001)] = complex(sd[i-0.001],-(samp_1i[i]))\n",
    "sd"
   ]
  },
  {
   "cell_type": "code",
   "execution_count": 128,
   "metadata": {},
   "outputs": [],
   "source": [
    "value = list(sd.values())"
   ]
  },
  {
   "cell_type": "markdown",
   "metadata": {},
   "source": [
    "# Final IFFT "
   ]
  },
  {
   "cell_type": "code",
   "execution_count": 129,
   "metadata": {},
   "outputs": [
    {
     "data": {
      "text/plain": [
       "[<matplotlib.lines.Line2D at 0x2412a236850>]"
      ]
     },
     "execution_count": 129,
     "metadata": {},
     "output_type": "execute_result"
    },
    {
     "data": {
      "image/png": "[encoded data removed]",
      "text/plain": [
       "<Figure size 432x288 with 1 Axes>"
      ]
     },
     "metadata": {},
     "output_type": "display_data"
    }
   ],
   "source": [
    "ift = fft.ifft(value)\n",
    "plt.title('IFFT')\n",
    "plt.plot(signal_3['Time'], signal_3['Value'])\n",
    "plt.plot(x,ift)"
   ]
  },
  {
   "cell_type": "markdown",
   "metadata": {},
   "source": [
    "# Cepstrum"
   ]
  },
  {
   "cell_type": "code",
   "execution_count": 10,
   "metadata": {},
   "outputs": [
    {
     "data": {
      "text/plain": [
       "[<matplotlib.lines.Line2D at 0x1dc17999f70>]"
      ]
     },
     "execution_count": 10,
     "metadata": {},
     "output_type": "execute_result"
    },
    {
     "data": {
      "image/png": "[encoded data removed]",
      "text/plain": [
       "<Figure size 432x288 with 1 Axes>"
      ]
     },
     "metadata": {},
     "output_type": "display_data"
    }
   ],
   "source": [
    "frame_size = signal_3.shape[0]\n",
    "Fs = 1\n",
    "dt = 1/Fs\n",
    "freq_vector = np.fft.rfftfreq(frame_size, d=dt)\n",
    "y = np.array(signal_3['Value'])\n",
    "yf = fftpack.fft(y)\n",
    "yf1 = yf[yf != 0]\n",
    "quefrency = np.fft.rfftfreq(np.log(yf1).size,freq_vector[1] - freq_vector[0])\n",
    "cepstrum = np.fft.rfft(np.log(np.abs(yf1)))\n",
    "cep = pd.DataFrame(zip(quefrency,cepstrum.real),columns=['Quefrency','Cepstrum'])\n",
    "cep = cep.iloc[1:,:]\n",
    "plt.plot(cep.Quefrency,cep.Cepstrum)"
   ]
  },
  {
   "cell_type": "code",
   "execution_count": 32,
   "metadata": {},
   "outputs": [
    {
     "data": {
      "text/html": [
       "<div>\n",
       "<style scoped>\n",
       "    .dataframe tbody tr th:only-of-type {\n",
       "        vertical-align: middle;\n",
       "    }\n",
       "\n",
       "    .dataframe tbody tr th {\n",
       "        vertical-align: top;\n",
       "    }\n",
       "\n",
       "    .dataframe thead th {\n",
       "        text-align: right;\n",
       "    }\n",
       "</style>\n",
       "<table border=\"1\" class=\"dataframe\">\n",
       "  <thead>\n",
       "    <tr style=\"text-align: right;\">\n",
       "      <th></th>\n",
       "      <th>Quefrency</th>\n",
       "      <th>Cepstrum</th>\n",
       "    </tr>\n",
       "  </thead>\n",
       "  <tbody>\n",
       "    <tr>\n",
       "      <th>1</th>\n",
       "      <td>1.0</td>\n",
       "      <td>114.305160</td>\n",
       "    </tr>\n",
       "    <tr>\n",
       "      <th>2</th>\n",
       "      <td>2.0</td>\n",
       "      <td>51.866648</td>\n",
       "    </tr>\n",
       "    <tr>\n",
       "      <th>3</th>\n",
       "      <td>3.0</td>\n",
       "      <td>31.134172</td>\n",
       "    </tr>\n",
       "    <tr>\n",
       "      <th>4</th>\n",
       "      <td>4.0</td>\n",
       "      <td>20.855389</td>\n",
       "    </tr>\n",
       "    <tr>\n",
       "      <th>5</th>\n",
       "      <td>5.0</td>\n",
       "      <td>14.777179</td>\n",
       "    </tr>\n",
       "    <tr>\n",
       "      <th>...</th>\n",
       "      <td>...</td>\n",
       "      <td>...</td>\n",
       "    </tr>\n",
       "    <tr>\n",
       "      <th>121</th>\n",
       "      <td>121.0</td>\n",
       "      <td>-17.096970</td>\n",
       "    </tr>\n",
       "    <tr>\n",
       "      <th>122</th>\n",
       "      <td>122.0</td>\n",
       "      <td>-17.888085</td>\n",
       "    </tr>\n",
       "    <tr>\n",
       "      <th>123</th>\n",
       "      <td>123.0</td>\n",
       "      <td>-18.495206</td>\n",
       "    </tr>\n",
       "    <tr>\n",
       "      <th>124</th>\n",
       "      <td>124.0</td>\n",
       "      <td>-18.877692</td>\n",
       "    </tr>\n",
       "    <tr>\n",
       "      <th>125</th>\n",
       "      <td>125.0</td>\n",
       "      <td>-19.008374</td>\n",
       "    </tr>\n",
       "  </tbody>\n",
       "</table>\n",
       "<p>125 rows × 2 columns</p>\n",
       "</div>"
      ],
      "text/plain": [
       "     Quefrency    Cepstrum\n",
       "1          1.0  114.305160\n",
       "2          2.0   51.866648\n",
       "3          3.0   31.134172\n",
       "4          4.0   20.855389\n",
       "5          5.0   14.777179\n",
       "..         ...         ...\n",
       "121      121.0  -17.096970\n",
       "122      122.0  -17.888085\n",
       "123      123.0  -18.495206\n",
       "124      124.0  -18.877692\n",
       "125      125.0  -19.008374\n",
       "\n",
       "[125 rows x 2 columns]"
      ]
     },
     "execution_count": 32,
     "metadata": {},
     "output_type": "execute_result"
    }
   ],
   "source": [
    "cep"
   ]
  },
  {
   "cell_type": "code",
   "execution_count": 7,
   "metadata": {},
   "outputs": [],
   "source": [
    "dfx = cep\n",
    "lowest_bic = np.infty\n",
    "bic = []\n",
    "n_components_range = range(1, 50)\n",
    "cv_types = ['spherical', 'tied', 'diag', 'full']\n",
    "for cv_type in cv_types:\n",
    "    for n_components in n_components_range:\n",
    "        # Fit a Gaussian mixture with EM\n",
    "        gmm = mixture.GaussianMixture(n_components=n_components,\n",
    "                                      covariance_type=cv_type)\n",
    "        gmm.fit(dfx)\n",
    "        bic.append(gmm.bic(dfx))\n",
    "        if bic[-1] < lowest_bic:\n",
    "            lowest_bic = bic[-1]\n",
    "            best_gmm3 = gmm"
   ]
  },
  {
   "cell_type": "code",
   "execution_count": 8,
   "metadata": {},
   "outputs": [
    {
     "name": "stdout",
     "output_type": "stream",
     "text": [
      "GaussianMixture(n_components=21) \n",
      "\n",
      "WEIGHTS - [0.06403001 0.06399746 0.03999957 0.05778153 0.008      0.06397664\n",
      " 0.008      0.10110621 0.06940112 0.0560015  0.02399999 0.05603561\n",
      " 0.05564975 0.07188014 0.008      0.05206164 0.05600269 0.04805859\n",
      " 0.0480175  0.016      0.03200007] \n",
      "\n",
      "MEANS (Col 1: Freq; Col 2: Amplitude) - \n",
      " [[ 77.49303504  -1.61104119]\n",
      " [ 18.50715647   0.20354526]\n",
      " [111.99981828  -8.69209568]\n",
      " [ 52.22668614  -0.7620454 ]\n",
      " [  1.         114.30516046]\n",
      " [ 92.49474117  -2.79079875]\n",
      " [  3.          31.13417224]\n",
      " [ 35.79520976  -0.48000394]\n",
      " [ 60.15872886  -0.95315071]\n",
      " [117.99988011 -14.10095839]\n",
      " [  6.9999996    8.31940089]\n",
      " [ 99.99486707  -3.94418997]\n",
      " [ 25.98774726  -0.30178309]\n",
      " [ 68.99868361  -1.23521734]\n",
      " [  2.          51.86664784]\n",
      " [ 45.3377002   -0.62977248]\n",
      " [ 84.99588105  -2.08286957]\n",
      " [ 11.50430366   2.55430695]\n",
      " [106.49849851  -5.77539688]\n",
      " [  4.5         17.81628392]\n",
      " [123.49999437 -18.56733628]] \n",
      "\n"
     ]
    }
   ],
   "source": [
    "print(best_gmm3, '\\n')\n",
    "print('WEIGHTS -', best_gmm3.weights_, '\\n')\n",
    "print('MEANS (Col 1: Freq; Col 2: Amplitude) - \\n', best_gmm3.means_, '\\n')"
   ]
  },
  {
   "cell_type": "code",
   "execution_count": 9,
   "metadata": {},
   "outputs": [
    {
     "data": {
      "image/png": "[encoded data removed]",
      "text/plain": [
       "<Figure size 432x288 with 1 Axes>"
      ]
     },
     "metadata": {},
     "output_type": "display_data"
    }
   ],
   "source": [
    "z3,_ = best_gmm3.sample(125)\n",
    "plt.title('Actual data')\n",
    "plt.scatter(cep['Quefrency'], cep['Cepstrum'])\n",
    "#plt.show()\n",
    "plt.title('Values given by GMM')\n",
    "plt.scatter(z3[:,0],z3[:,1])\n",
    "plt.show()"
   ]
  },
  {
   "cell_type": "code",
   "execution_count": 47,
   "metadata": {},
   "outputs": [
    {
     "data": {
      "text/plain": [
       "3.6441915978850314"
      ]
     },
     "execution_count": 47,
     "metadata": {},
     "output_type": "execute_result"
    }
   ],
   "source": [
    "wasserstein_distance(cep['Cepstrum'], z3[:, 1])"
   ]
  },
  {
   "cell_type": "code",
   "execution_count": 48,
   "metadata": {},
   "outputs": [
    {
     "data": {
      "text/plain": [
       "(730,)"
      ]
     },
     "execution_count": 48,
     "metadata": {},
     "output_type": "execute_result"
    }
   ],
   "source": [
    "def dim(df):\n",
    "    d = []\n",
    "    for i,j in df.values.tolist():\n",
    "        for k in range(round(j)):\n",
    "            d.append(i)\n",
    "    return d\n",
    "list(np.array(cep))\n",
    "c = dim(cep)\n",
    "cep.sort_values(by=['Cepstrum'],ascending = False)\n",
    "np.shape(c)"
   ]
  },
  {
   "cell_type": "code",
   "execution_count": 49,
   "metadata": {},
   "outputs": [
    {
     "data": {
      "image/png": "[encoded data removed]",
      "text/plain": [
       "<Figure size 432x288 with 1 Axes>"
      ]
     },
     "metadata": {},
     "output_type": "display_data"
    },
    {
     "data": {
      "text/plain": [
       "<AxesSubplot:ylabel='Density'>"
      ]
     },
     "execution_count": 49,
     "metadata": {},
     "output_type": "execute_result"
    },
    {
     "data": {
      "image/png": "[encoded data removed]",
      "text/plain": [
       "<Figure size 432x288 with 1 Axes>"
      ]
     },
     "metadata": {},
     "output_type": "display_data"
    }
   ],
   "source": [
    "plt.scatter(cep['Quefrency'], cep['Cepstrum'])\n",
    "plt.show()\n",
    "sns.distplot(c)"
   ]
  },
  {
   "cell_type": "code",
   "execution_count": 50,
   "metadata": {},
   "outputs": [],
   "source": [
    "c = np.array(c).reshape(-1,1)\n",
    "def GMM_fit(df):\n",
    "    dfx = df\n",
    "    lowest_bic = np.infty\n",
    "    bic = []\n",
    "    n_components_range = range(1, 50)\n",
    "    cv_types = ['spherical', 'tied', 'diag', 'full']\n",
    "    for cv_type in cv_types:\n",
    "        for n_components in n_components_range:\n",
    "            # Fit a Gaussian mixture with EM\n",
    "            gmm = mixture.GaussianMixture(n_components=n_components,\n",
    "                                          covariance_type=cv_type)\n",
    "            gmm.fit(dfx)\n",
    "            bic.append(gmm.bic(dfx))\n",
    "            if bic[-1] < lowest_bic:\n",
    "                lowest_bic = bic[-1]\n",
    "                best_gmm = gmm\n",
    "    return best_gmm\n",
    "best_gmm22 = GMM_fit(c)"
   ]
  },
  {
   "cell_type": "code",
   "execution_count": 51,
   "metadata": {},
   "outputs": [
    {
     "name": "stdout",
     "output_type": "stream",
     "text": [
      "GaussianMixture(covariance_type='spherical', n_components=49) \n",
      "\n",
      "WEIGHTS - [0.04657534 0.02054795 0.0136985  0.01506849 0.01232877 0.006849\n",
      " 0.11369863 0.00547926 0.01917808 0.01643836 0.0109589  0.00136986\n",
      " 0.2        0.01369863 0.02054795 0.08219178 0.0109589  0.00821918\n",
      " 0.06164384 0.00684932 0.00958904 0.03287671 0.01232877 0.00273973\n",
      " 0.02054795 0.02054795 0.00547945 0.01643836 0.02054795 0.02191781\n",
      " 0.01780822 0.01780822 0.01506849 0.01232877 0.0082195  0.00821918\n",
      " 0.0109589  0.00958917 0.00684931 0.00547965 0.00273973 0.00684932\n",
      " 0.00547945 0.00547945 0.00410959 0.00410959 0.00273973 0.00410959\n",
      " 0.00273973] \n",
      "\n",
      "MEANS (Col 1: Freq; Col 2: Amplitude) - \n",
      " [[  5.        ]\n",
      " [ 93.        ]\n",
      " [ 66.        ]\n",
      " [124.        ]\n",
      " [ 32.        ]\n",
      " [ 79.        ]\n",
      " [  2.        ]\n",
      " [ 16.        ]\n",
      " [ 62.        ]\n",
      " [ 96.        ]\n",
      " [  8.        ]\n",
      " [109.        ]\n",
      " [  1.        ]\n",
      " [ 91.        ]\n",
      " [ 64.        ]\n",
      " [  3.        ]\n",
      " [ 60.        ]\n",
      " [ 34.        ]\n",
      " [  4.        ]\n",
      " [122.        ]\n",
      " [ 31.        ]\n",
      " [  6.        ]\n",
      " [ 97.        ]\n",
      " [ 76.        ]\n",
      " [ 63.        ]\n",
      " [  7.        ]\n",
      " [ 17.        ]\n",
      " [ 61.        ]\n",
      " [ 95.        ]\n",
      " [ 94.        ]\n",
      " [ 92.        ]\n",
      " [ 65.        ]\n",
      " [125.        ]\n",
      " [123.        ]\n",
      " [ 80.33328144]\n",
      " [ 90.        ]\n",
      " [ 33.        ]\n",
      " [ 67.14284136]\n",
      " [ 78.        ]\n",
      " [ 14.75004482]\n",
      " [ 89.        ]\n",
      " [ 98.        ]\n",
      " [ 30.        ]\n",
      " [ 77.        ]\n",
      " [ 18.        ]\n",
      " [ 59.        ]\n",
      " [121.        ]\n",
      " [ 35.        ]\n",
      " [  9.        ]] \n",
      "\n"
     ]
    }
   ],
   "source": [
    "print(best_gmm22, '\\n')\n",
    "print('WEIGHTS -', best_gmm22.weights_, '\\n')\n",
    "print('MEANS (Col 1: Freq; Col 2: Amplitude) - \\n', best_gmm22.means_, '\\n')"
   ]
  },
  {
   "cell_type": "code",
   "execution_count": 52,
   "metadata": {},
   "outputs": [
    {
     "data": {
      "image/png": "[encoded data removed]",
      "text/plain": [
       "<Figure size 432x288 with 1 Axes>"
      ]
     },
     "metadata": {},
     "output_type": "display_data"
    }
   ],
   "source": [
    "z22,_ = best_gmm22.sample(3190)\n",
    "plt.title('Actual data')\n",
    "sns.distplot(c)\n",
    "#plt.show()\n",
    "plt.title('Values given by GMM')\n",
    "sns.distplot(z22)\n",
    "plt.show()"
   ]
  },
  {
   "cell_type": "code",
   "execution_count": 53,
   "metadata": {},
   "outputs": [
    {
     "data": {
      "text/plain": [
       "0.20497678313015444"
      ]
     },
     "execution_count": 53,
     "metadata": {},
     "output_type": "execute_result"
    }
   ],
   "source": [
    "wasserstein_distance(c.flatten(), z22.flatten())"
   ]
  },
  {
   "cell_type": "markdown",
   "metadata": {},
   "source": [
    "# Ceps and inverse ceps"
   ]
  },
  {
   "cell_type": "code",
   "execution_count": 50,
   "metadata": {},
   "outputs": [],
   "source": [
    "from acoustics.cepstrum import complex_cepstrum\n",
    "from acoustics.cepstrum import inverse_complex_cepstrum\n",
    "duration = 250.0\n",
    "fs = 1.0\n",
    "samples = int(fs*duration)\n",
    "t = np.arange(samples) / fs\n",
    "ceps, _ = complex_cepstrum(signal_3['Value'])"
   ]
  },
  {
   "cell_type": "code",
   "execution_count": 51,
   "metadata": {},
   "outputs": [
    {
     "data": {
      "text/plain": [
       "array(1.)"
      ]
     },
     "execution_count": 51,
     "metadata": {},
     "output_type": "execute_result"
    }
   ],
   "source": [
    "ceps = np.flipud(ceps)\n",
    "_"
   ]
  },
  {
   "cell_type": "code",
   "execution_count": null,
   "metadata": {},
   "outputs": [],
   "source": [
    "plt.plot(np.arange(250), )"
   ]
  },
  {
   "cell_type": "code",
   "execution_count": 52,
   "metadata": {},
   "outputs": [
    {
     "data": {
      "text/plain": [
       "[<matplotlib.lines.Line2D at 0x1dc19150730>]"
      ]
     },
     "execution_count": 52,
     "metadata": {},
     "output_type": "execute_result"
    },
    {
     "data": {
      "image/png": "[encoded data removed]",
      "text/plain": [
       "<Figure size 432x288 with 1 Axes>"
      ]
     },
     "metadata": {},
     "output_type": "display_data"
    }
   ],
   "source": [
    "cep = pd.DataFrame(zip(t[1:126],ceps[1:126]),columns=['Quefrency','Cepstrum'])\n",
    "plt.plot(t[1:126], ceps[1:126])      # new cepstrum"
   ]
  },
  {
   "cell_type": "code",
   "execution_count": 53,
   "metadata": {},
   "outputs": [
    {
     "data": {
      "image/png": "[encoded data removed]",
      "text/plain": [
       "<Figure size 432x288 with 1 Axes>"
      ]
     },
     "metadata": {},
     "output_type": "display_data"
    }
   ],
   "source": [
    "ceps = np.flipud(ceps)\n",
    "incep = inverse_complex_cepstrum(ceps, np.array(1.0))    # inverse ceps\n",
    "plt.plot(signal_3['Time'], incep)\n",
    "plt.show()"
   ]
  },
  {
   "cell_type": "code",
   "execution_count": 55,
   "metadata": {},
   "outputs": [
    {
     "data": {
      "text/plain": [
       "[<matplotlib.lines.Line2D at 0x1dc191fda30>]"
      ]
     },
     "execution_count": 55,
     "metadata": {},
     "output_type": "execute_result"
    },
    {
     "data": {
      "image/png": "[encoded data removed]",
      "text/plain": [
       "<Figure size 432x288 with 1 Axes>"
      ]
     },
     "metadata": {},
     "output_type": "display_data"
    }
   ],
   "source": [
    "plt.plot(np.arange(250), ceps)"
   ]
  },
  {
   "cell_type": "code",
   "execution_count": 56,
   "metadata": {},
   "outputs": [],
   "source": [
    "dfx = cep\n",
    "lowest_bic = np.infty\n",
    "bic = []\n",
    "n_components_range = range(1, 50)\n",
    "cv_types = ['spherical', 'tied', 'diag', 'full']\n",
    "for cv_type in cv_types:\n",
    "    for n_components in n_components_range:\n",
    "        # Fit a Gaussian mixture with EM\n",
    "        gmm = mixture.GaussianMixture(n_components=n_components,\n",
    "                                      covariance_type=cv_type)\n",
    "        gmm.fit(dfx)\n",
    "        bic.append(gmm.bic(dfx))\n",
    "        if bic[-1] < lowest_bic:\n",
    "            lowest_bic = bic[-1]\n",
    "            best_gmm3 = gmm"
   ]
  },
  {
   "cell_type": "code",
   "execution_count": 57,
   "metadata": {},
   "outputs": [
    {
     "name": "stdout",
     "output_type": "stream",
     "text": [
      "GaussianMixture(n_components=6) \n",
      "\n",
      "WEIGHTS - [0.06954517 0.11963745 0.12345201 0.15445918 0.4615231  0.07138308] \n",
      "\n",
      "MEANS (Col 1: Freq; Col 2: Amplitude) - \n",
      " [[ 1.37846544e+01  4.08272043e-02]\n",
      " [ 9.86223713e+01 -1.57596465e-02]\n",
      " [ 2.60090651e+01  1.88913757e-02]\n",
      " [ 1.15823277e+02 -5.32887828e-02]\n",
      " [ 6.23739910e+01  1.87119017e-03]\n",
      " [ 4.96668545e+00  1.76632077e-01]] \n",
      "\n"
     ]
    }
   ],
   "source": [
    "print(best_gmm3, '\\n')\n",
    "print('WEIGHTS -', best_gmm3.weights_, '\\n')\n",
    "print('MEANS (Col 1: Freq; Col 2: Amplitude) - \\n', best_gmm3.means_, '\\n')"
   ]
  },
  {
   "cell_type": "code",
   "execution_count": 58,
   "metadata": {},
   "outputs": [
    {
     "data": {
      "image/png": "[encoded data removed]",
      "text/plain": [
       "<Figure size 432x288 with 1 Axes>"
      ]
     },
     "metadata": {},
     "output_type": "display_data"
    }
   ],
   "source": [
    "z3,_ = best_gmm3.sample(250)\n",
    "plt.title('Actual data')\n",
    "plt.scatter(cep['Quefrency'], cep['Cepstrum'])\n",
    "#plt.show()\n",
    "plt.title('Values given by GMM')\n",
    "plt.scatter(z3[:,0],z3[:,1])\n",
    "plt.show()"
   ]
  },
  {
   "cell_type": "code",
   "execution_count": null,
   "metadata": {},
   "outputs": [],
   "source": [
    "\n",
    "plt.plot(np.arange(250), )"
   ]
  },
  {
   "cell_type": "code",
   "execution_count": 29,
   "metadata": {},
   "outputs": [
    {
     "data": {
      "image/png": "[encoded data removed]",
      "text/plain": [
       "<Figure size 432x288 with 1 Axes>"
      ]
     },
     "metadata": {},
     "output_type": "display_data"
    }
   ],
   "source": [
    "ceps = np.flipud(z3[:, 1])\n",
    "incep = inverse_complex_cepstrum(ceps, _)    # inverse ceps\n",
    "sns.lineplot(signal_3['Time'], incep)\n",
    "plt.show()"
   ]
  },
  {
   "cell_type": "code",
   "execution_count": 150,
   "metadata": {},
   "outputs": [],
   "source": [
    "sample_1 = pd.DataFrame(zip(z3[:,0],z3[:,1]),columns=['Que','Cepstrum'])           \n",
    "sample_1.Que = sample_1.Que.apply(lambda x:round(x,1))"
   ]
  },
  {
   "cell_type": "code",
   "execution_count": 137,
   "metadata": {},
   "outputs": [
    {
     "ename": "NameError",
     "evalue": "name 'double' is not defined",
     "output_type": "error",
     "traceback": [
      "\u001b[1;31m---------------------------------------------------------------------------\u001b[0m",
      "\u001b[1;31mNameError\u001b[0m                                 Traceback (most recent call last)",
      "\u001b[1;32m<ipython-input-137-063fd00ad1cb>\u001b[0m in \u001b[0;36m<module>\u001b[1;34m\u001b[0m\n\u001b[0;32m      2\u001b[0m \u001b[0ma\u001b[0m \u001b[1;33m=\u001b[0m \u001b[0ma\u001b[0m\u001b[1;33m[\u001b[0m\u001b[1;36m1\u001b[0m\u001b[1;33m:\u001b[0m\u001b[1;33m]\u001b[0m\u001b[1;33m\u001b[0m\u001b[1;33m\u001b[0m\u001b[0m\n\u001b[0;32m      3\u001b[0m \u001b[0ma\u001b[0m \u001b[1;33m=\u001b[0m \u001b[0mlist\u001b[0m\u001b[1;33m(\u001b[0m\u001b[0mmap\u001b[0m\u001b[1;33m(\u001b[0m\u001b[1;34m'{:.2f}'\u001b[0m\u001b[1;33m.\u001b[0m\u001b[0mformat\u001b[0m\u001b[1;33m,\u001b[0m\u001b[0ma\u001b[0m\u001b[1;33m)\u001b[0m\u001b[1;33m)\u001b[0m\u001b[1;33m\u001b[0m\u001b[1;33m\u001b[0m\u001b[0m\n\u001b[1;32m----> 4\u001b[1;33m \u001b[0ma\u001b[0m \u001b[1;33m=\u001b[0m \u001b[0mlist\u001b[0m\u001b[1;33m(\u001b[0m\u001b[0mmap\u001b[0m\u001b[1;33m(\u001b[0m\u001b[0mdouble\u001b[0m\u001b[1;33m,\u001b[0m \u001b[0ma\u001b[0m\u001b[1;33m)\u001b[0m\u001b[1;33m)\u001b[0m\u001b[1;33m\u001b[0m\u001b[1;33m\u001b[0m\u001b[0m\n\u001b[0m\u001b[0;32m      5\u001b[0m \u001b[0msd\u001b[0m \u001b[1;33m=\u001b[0m \u001b[0mdict\u001b[0m\u001b[1;33m(\u001b[0m\u001b[0mzip\u001b[0m\u001b[1;33m(\u001b[0m\u001b[0ma\u001b[0m\u001b[1;33m,\u001b[0m\u001b[0mnp\u001b[0m\u001b[1;33m.\u001b[0m\u001b[0mzeros\u001b[0m\u001b[1;33m(\u001b[0m\u001b[1;36m250\u001b[0m\u001b[1;33m)\u001b[0m\u001b[1;33m)\u001b[0m\u001b[1;33m)\u001b[0m\u001b[1;33m\u001b[0m\u001b[1;33m\u001b[0m\u001b[0m\n",
      "\u001b[1;31mNameError\u001b[0m: name 'double' is not defined"
     ]
    }
   ],
   "source": [
    "a = np.arange(251)\n",
    "a = a[1:]\n",
    "a = list(map('{:.2f}'.format,a))\n",
    "a = list(map(double, a))\n",
    "sd = dict(zip(a,np.zeros(250)))"
   ]
  },
  {
   "cell_type": "code",
   "execution_count": 159,
   "metadata": {},
   "outputs": [],
   "source": [
    "a = np.arange(251)\n",
    "a = a[1:]\n",
    "a = a*1.00\n",
    "sd = dict(zip(a,np.zeros(250)))"
   ]
  },
  {
   "cell_type": "code",
   "execution_count": 160,
   "metadata": {},
   "outputs": [],
   "source": [
    "samp_1 = dict(zip(sample_1.Que,sample_1.Cepstrum))"
   ]
  },
  {
   "cell_type": "code",
   "execution_count": 153,
   "metadata": {},
   "outputs": [
    {
     "data": {
      "text/plain": [
       "{1.0: 0.0,\n",
       " 2.0: 0.3299583671324325,\n",
       " 3.0: 0.17430627448798477,\n",
       " 4.0: 0.07889271509225773,\n",
       " 5.0: 0.1966535386763913,\n",
       " 6.0: 0.0,\n",
       " 7.0: 0.0,\n",
       " 8.0: 0.04055622810039619,\n",
       " 9.0: 0.0,\n",
       " 10.0: 0.0,\n",
       " 11.0: 0.0,\n",
       " 12.0: 0.0,\n",
       " 13.0: 0.0,\n",
       " 14.0: 0.03487921368910706,\n",
       " 15.0: 0.03525232494497105,\n",
       " 16.0: 0.0,\n",
       " 17.0: 0.0,\n",
       " 18.0: 0.024748511518576023,\n",
       " 19.0: 0.0,\n",
       " 20.0: 0.02413031255559291,\n",
       " 21.0: 0.020740391992350306,\n",
       " 22.0: 0.02213814128380192,\n",
       " 23.0: 0.019393539370036107,\n",
       " 24.0: 0.018581918077439332,\n",
       " 25.0: 0.01695350545383924,\n",
       " 26.0: 0.017528288509419926,\n",
       " 27.0: 0.01862951659376965,\n",
       " 28.0: 0.017954800400295966,\n",
       " 29.0: 0.0,\n",
       " 30.0: 0.015522211575556178,\n",
       " 31.0: 0.014839995749867942,\n",
       " 32.0: 0.0,\n",
       " 33.0: 0.0,\n",
       " 34.0: 0.0,\n",
       " 35.0: 0.0,\n",
       " 36.0: 0.010712801273256736,\n",
       " 37.0: 0.0,\n",
       " 38.0: 0.0,\n",
       " 39.0: 0.011365829462729638,\n",
       " 40.0: 0.010613060407200281,\n",
       " 41.0: 0.0,\n",
       " 42.0: 0.0,\n",
       " 43.0: 0.00872846897708845,\n",
       " 44.0: 0.00864183218796189,\n",
       " 45.0: 0.008133470474426543,\n",
       " 46.0: 0.007711216275129522,\n",
       " 47.0: 0.0,\n",
       " 48.0: 0.0,\n",
       " 49.0: 0.006808957089208939,\n",
       " 50.0: 0.0,\n",
       " 51.0: 0.0069848214465913746,\n",
       " 52.0: 0.006059655978649387,\n",
       " 53.0: 0.0,\n",
       " 54.0: 0.0,\n",
       " 55.0: 0.004146494605707599,\n",
       " 56.0: 0.0,\n",
       " 57.0: 0.0026821952784266186,\n",
       " 58.0: 0.0,\n",
       " 59.0: 0.0,\n",
       " 60.0: 0.002620892109537277,\n",
       " 61.0: 0.0032647528905857736,\n",
       " 62.0: 0.0,\n",
       " 63.0: 0.0008499048237198478,\n",
       " 64.0: 0.0,\n",
       " 65.0: 0.0015658362000629741,\n",
       " 66.0: 0.00034563243391186414,\n",
       " 67.0: 0.0,\n",
       " 68.0: -0.0005164149477271723,\n",
       " 69.0: 0.0,\n",
       " 70.0: -0.0007346739544480281,\n",
       " 71.0: 0.0,\n",
       " 72.0: -0.002627263459456578,\n",
       " 73.0: 0.0,\n",
       " 74.0: 0.0,\n",
       " 75.0: 0.0,\n",
       " 76.0: 0.0,\n",
       " 77.0: -0.003766379397165738,\n",
       " 78.0: -0.0032578297752924095,\n",
       " 79.0: -0.003685221849941218,\n",
       " 80.0: 0.0,\n",
       " 81.0: 0.0,\n",
       " 82.0: -0.00532203207886408,\n",
       " 83.0: 0.0,\n",
       " 84.0: 0.0,\n",
       " 85.0: 0.0,\n",
       " 86.0: -0.006765788913990776,\n",
       " 87.0: -0.0071685382874115714,\n",
       " 88.0: 0.0,\n",
       " 89.0: 0.0,\n",
       " 90.0: 0.0,\n",
       " 91.0: 0.0,\n",
       " 92.0: 0.0,\n",
       " 93.0: 0.0,\n",
       " 94.0: -0.008760814492577769,\n",
       " 95.0: 0.0,\n",
       " 96.0: 0.0,\n",
       " 97.0: 0.0,\n",
       " 98.0: -0.013993608294817635,\n",
       " 99.0: -0.017710551320065014,\n",
       " 100.0: 0.0,\n",
       " 101.0: 0.0,\n",
       " 102.0: 0.0,\n",
       " 103.0: 0.0,\n",
       " 104.0: -0.021618725693808037,\n",
       " 105.0: 0.0,\n",
       " 106.0: 0.0,\n",
       " 107.0: 0.0,\n",
       " 108.0: -0.02402113265898308,\n",
       " 109.0: 0.0,\n",
       " 110.0: -0.03074476777776476,\n",
       " 111.0: 0.0,\n",
       " 112.0: -0.04445760193520229,\n",
       " 113.0: 0.0,\n",
       " 114.0: 0.0,\n",
       " 115.0: 0.0,\n",
       " 116.0: 0.0,\n",
       " 117.0: -0.06508270263050465,\n",
       " 118.0: -0.060284789997931035,\n",
       " 119.0: 0.0,\n",
       " 120.0: 0.0,\n",
       " 121.0: -0.06977135254632662,\n",
       " 122.0: 0.0,\n",
       " 123.0: 0.0,\n",
       " 124.0: 0.0,\n",
       " 125.0: 0.0,\n",
       " 126.0: 0.0,\n",
       " 127.0: 0.0,\n",
       " 128.0: 0.0,\n",
       " 129.0: 0.0,\n",
       " 130.0: 0.0,\n",
       " 131.0: 0.0,\n",
       " 132.0: 0.0,\n",
       " 133.0: 0.0,\n",
       " 134.0: 0.0,\n",
       " 135.0: 0.0,\n",
       " 136.0: 0.0,\n",
       " 137.0: 0.0,\n",
       " 138.0: 0.0,\n",
       " 139.0: 0.0,\n",
       " 140.0: 0.0,\n",
       " 141.0: 0.0,\n",
       " 142.0: 0.0,\n",
       " 143.0: 0.0,\n",
       " 144.0: 0.0,\n",
       " 145.0: 0.0,\n",
       " 146.0: 0.0,\n",
       " 147.0: 0.0,\n",
       " 148.0: 0.0,\n",
       " 149.0: 0.0,\n",
       " 150.0: 0.0,\n",
       " 151.0: 0.0,\n",
       " 152.0: 0.0,\n",
       " 153.0: 0.0,\n",
       " 154.0: 0.0,\n",
       " 155.0: 0.0,\n",
       " 156.0: 0.0,\n",
       " 157.0: 0.0,\n",
       " 158.0: 0.0,\n",
       " 159.0: 0.0,\n",
       " 160.0: 0.0,\n",
       " 161.0: 0.0,\n",
       " 162.0: 0.0,\n",
       " 163.0: 0.0,\n",
       " 164.0: 0.0,\n",
       " 165.0: 0.0,\n",
       " 166.0: 0.0,\n",
       " 167.0: 0.0,\n",
       " 168.0: 0.0,\n",
       " 169.0: 0.0,\n",
       " 170.0: 0.0,\n",
       " 171.0: 0.0,\n",
       " 172.0: 0.0,\n",
       " 173.0: 0.0,\n",
       " 174.0: 0.0,\n",
       " 175.0: 0.0,\n",
       " 176.0: 0.0,\n",
       " 177.0: 0.0,\n",
       " 178.0: 0.0,\n",
       " 179.0: 0.0,\n",
       " 180.0: 0.0,\n",
       " 181.0: 0.0,\n",
       " 182.0: 0.0,\n",
       " 183.0: 0.0,\n",
       " 184.0: 0.0,\n",
       " 185.0: 0.0,\n",
       " 186.0: 0.0,\n",
       " 187.0: 0.0,\n",
       " 188.0: 0.0,\n",
       " 189.0: 0.0,\n",
       " 190.0: 0.0,\n",
       " 191.0: 0.0,\n",
       " 192.0: 0.0,\n",
       " 193.0: 0.0,\n",
       " 194.0: 0.0,\n",
       " 195.0: 0.0,\n",
       " 196.0: 0.0,\n",
       " 197.0: 0.0,\n",
       " 198.0: 0.0,\n",
       " 199.0: 0.0,\n",
       " 200.0: 0.0,\n",
       " 201.0: 0.0,\n",
       " 202.0: 0.0,\n",
       " 203.0: 0.0,\n",
       " 204.0: 0.0,\n",
       " 205.0: 0.0,\n",
       " 206.0: 0.0,\n",
       " 207.0: 0.0,\n",
       " 208.0: 0.0,\n",
       " 209.0: 0.0,\n",
       " 210.0: 0.0,\n",
       " 211.0: 0.0,\n",
       " 212.0: 0.0,\n",
       " 213.0: 0.0,\n",
       " 214.0: 0.0,\n",
       " 215.0: 0.0,\n",
       " 216.0: 0.0,\n",
       " 217.0: 0.0,\n",
       " 218.0: 0.0,\n",
       " 219.0: 0.0,\n",
       " 220.0: 0.0,\n",
       " 221.0: 0.0,\n",
       " 222.0: 0.0,\n",
       " 223.0: 0.0,\n",
       " 224.0: 0.0,\n",
       " 225.0: 0.0,\n",
       " 226.0: 0.0,\n",
       " 227.0: 0.0,\n",
       " 228.0: 0.0,\n",
       " 229.0: 0.0,\n",
       " 230.0: 0.0,\n",
       " 231.0: 0.0,\n",
       " 232.0: 0.0,\n",
       " 233.0: 0.0,\n",
       " 234.0: 0.0,\n",
       " 235.0: 0.0,\n",
       " 236.0: 0.0,\n",
       " 237.0: 0.0,\n",
       " 238.0: 0.0,\n",
       " 239.0: 0.0,\n",
       " 240.0: 0.0,\n",
       " 241.0: 0.0,\n",
       " 242.0: 0.0,\n",
       " 243.0: 0.0,\n",
       " 244.0: 0.0,\n",
       " 245.0: 0.0,\n",
       " 246.0: 0.0,\n",
       " 247.0: 0.0,\n",
       " 248.0: 0.0,\n",
       " 249.0: 0.0,\n",
       " 250.0: 0.0,\n",
       " -39.0: 0.011365829462729638,\n",
       " -49.0: 0.006808957089208939,\n",
       " -55.0: 0.004146494605707599,\n",
       " -70.0: -0.0007346739544480281,\n",
       " -28.0: 0.017954800400295966,\n",
       " -72.0: -0.002627263459456578,\n",
       " -78.0: -0.0032578297752924095,\n",
       " -40.0: 0.010613060407200281,\n",
       " -60.0: 0.002620892109537277,\n",
       " -68.0: -0.0005164149477271723,\n",
       " -94.0: -0.008760814492577769,\n",
       " -36.0: 0.010712801273256736,\n",
       " -86.0: -0.006765788913990776,\n",
       " -57.0: 0.0026821952784266186,\n",
       " -31.0: 0.014839995749867942,\n",
       " -44.0: 0.00864183218796189,\n",
       " -61.0: 0.0032647528905857736,\n",
       " -51.0: 0.0069848214465913746,\n",
       " -52.0: 0.006059655978649387,\n",
       " -43.0: 0.00872846897708845,\n",
       " -77.0: -0.003766379397165738,\n",
       " -45.0: 0.008133470474426543,\n",
       " -25.0: 0.01695350545383924,\n",
       " -66.0: 0.00034563243391186414,\n",
       " -65.0: 0.0015658362000629741,\n",
       " -87.0: -0.0071685382874115714,\n",
       " -82.0: -0.00532203207886408,\n",
       " -79.0: -0.003685221849941218,\n",
       " -63.0: 0.0008499048237198478,\n",
       " -46.0: 0.007711216275129522,\n",
       " -18.0: 0.024748511518576023,\n",
       " -15.0: 0.03525232494497105,\n",
       " -14.0: 0.03487921368910706,\n",
       " -121.0: -0.06977135254632662,\n",
       " -118.0: -0.060284789997931035,\n",
       " -117.0: -0.06508270263050465,\n",
       " -110.0: -0.03074476777776476,\n",
       " -112.0: -0.04445760193520229,\n",
       " -108.0: -0.02402113265898308,\n",
       " -24.0: 0.018581918077439332,\n",
       " -22.0: 0.02213814128380192,\n",
       " -20.0: 0.02413031255559291,\n",
       " -30.0: 0.015522211575556178,\n",
       " -23.0: 0.019393539370036107,\n",
       " -26.0: 0.017528288509419926,\n",
       " -27.0: 0.01862951659376965,\n",
       " -21.0: 0.020740391992350306,\n",
       " -98.0: -0.013993608294817635,\n",
       " -104.0: -0.021618725693808037,\n",
       " -99.0: -0.017710551320065014,\n",
       " -2.0: 0.3299583671324325,\n",
       " -3.0: 0.17430627448798477,\n",
       " -5.0: 0.1966535386763913,\n",
       " -4.0: 0.07889271509225773,\n",
       " -8.0: 0.04055622810039619}"
      ]
     },
     "execution_count": 153,
     "metadata": {},
     "output_type": "execute_result"
    }
   ],
   "source": [
    "for i in samp_1.keys():\n",
    "    if i in sd:\n",
    "        sd[i] = samp_1[i]\n",
    "        sd[-i] = samp_1[i]\n",
    "    elif i+0.1 in sd:\n",
    "        sd[i+0.1] = samp_1[i]\n",
    "        sd[-(i+0.1)] = samp_1[i]\n",
    "    elif i-0.1 in sd:\n",
    "        sd[i-0.1] = samp_1[i]\n",
    "        sd[-(i-0.1)] = samp_1[i]\n",
    "sd"
   ]
  },
  {
   "cell_type": "code",
   "execution_count": 163,
   "metadata": {},
   "outputs": [
    {
     "data": {
      "text/plain": [
       "array([ 9.57439420e-01,  4.57899653e-01,  2.91841926e-01,  2.09252989e-01,\n",
       "        1.60117079e-01,  1.27749965e-01,  1.04990175e-01,  8.82473384e-02,\n",
       "        7.55187332e-02,  6.55962032e-02,  5.77058659e-02,  5.13280670e-02,\n",
       "        4.61004618e-02,  4.17626064e-02,  3.81226506e-02,  3.50364400e-02,\n",
       "        3.23939041e-02,  3.01098947e-02,  2.81178383e-02,  2.63652245e-02,\n",
       "        2.48103270e-02,  2.34197759e-02,  2.21667308e-02,  2.10294878e-02,\n",
       "        1.99904064e-02,  1.90350758e-02,  1.81516616e-02,  1.73303939e-02,\n",
       "        1.65631612e-02,  1.58431898e-02,  1.51647886e-02,  1.45231463e-02,\n",
       "        1.39141688e-02,  1.33343497e-02,  1.27806663e-02,  1.22504956e-02,\n",
       "        1.17415474e-02,  1.12518087e-02,  1.07795002e-02,  1.03230396e-02,\n",
       "        9.88101148e-03,  9.45214367e-03,  9.03528617e-03,  8.62939452e-03,\n",
       "        8.23351552e-03,  7.84677523e-03,  7.46836871e-03,  7.09755136e-03,\n",
       "        6.73363133e-03,  6.37596302e-03,  6.02394136e-03,  5.67699682e-03,\n",
       "        5.33459092e-03,  4.99621228e-03,  4.66137305e-03,  4.32960569e-03,\n",
       "        4.00045996e-03,  3.67350024e-03,  3.34830296e-03,  3.02445423e-03,\n",
       "        2.70154756e-03,  2.37918173e-03,  2.05695860e-03,  1.73448115e-03,\n",
       "        1.41135138e-03,  1.08716825e-03,  7.61525645e-04,  4.34010246e-04,\n",
       "        1.04199313e-04, -2.28341594e-04, -5.64061034e-04, -9.03424253e-04,\n",
       "       -1.24691595e-03, -1.59504323e-03, -1.94833889e-03, -2.30736494e-03,\n",
       "       -2.67271652e-03, -3.04502631e-03, -3.42496937e-03, -3.81326869e-03,\n",
       "       -4.21070142e-03, -4.61810606e-03, -5.03639071e-03, -5.46654270e-03,\n",
       "       -5.90963981e-03, -6.36686361e-03, -6.83951517e-03, -7.32903404e-03,\n",
       "       -7.83702095e-03, -8.36526540e-03, -8.91577900e-03, -9.49083634e-03,\n",
       "       -1.00930246e-02, -1.07253040e-02, -1.13910819e-02, -1.20943020e-02,\n",
       "       -1.28395521e-02, -1.36321936e-02, -1.44785140e-02, -1.53859048e-02,\n",
       "       -1.63630656e-02, -1.74202301e-02, -1.85694080e-02, -1.98246274e-02,\n",
       "       -2.12021545e-02, -2.27206477e-02, -2.44011886e-02, -2.62671011e-02,\n",
       "       -2.83434390e-02, -3.06559890e-02, -3.32296008e-02, -3.60856409e-02,\n",
       "       -3.92383876e-02, -4.26902655e-02, -4.64260044e-02, -5.04061194e-02,\n",
       "       -5.45605562e-02, -5.87838702e-02, -6.29337666e-02, -6.68349726e-02,\n",
       "       -7.02899528e-02, -7.30967188e-02, -7.50720196e-02, -7.60760642e-02,\n",
       "       -7.60334973e-02, -7.49454735e-02, -7.28896310e-02, -7.00079651e-02,\n",
       "       -6.64858039e-02, -6.25270422e-02, -5.83309154e-02, -5.40741616e-02,\n",
       "       -4.99002873e-02, -4.59156856e-02, -4.21910954e-02, -3.87664298e-02,\n",
       "       -3.56571454e-02, -3.28607830e-02, -3.03628340e-02, -2.81415333e-02,\n",
       "       -2.61714948e-02, -2.44262867e-02, -2.28801302e-02, -2.15089242e-02,\n",
       "       -2.02907812e-02, -1.92062304e-02, -1.82382046e-02, -1.73719006e-02,\n",
       "       -1.65945716e-02, -1.58952933e-02, -1.52647279e-02, -1.46949013e-02,\n",
       "       -1.41790014e-02, -1.37111991e-02, -1.32864952e-02, -1.29005883e-02,\n",
       "       -1.25497644e-02, -1.22308039e-02, -1.19409041e-02, -1.16776156e-02,\n",
       "       -1.14387886e-02, -1.12225288e-02, -1.10271611e-02, -1.08511993e-02,\n",
       "       -1.06933202e-02, -1.05523432e-02, -1.04272120e-02, -1.03169800e-02,\n",
       "       -1.02207976e-02, -1.01379012e-02, -1.00676042e-02, -1.00092894e-02,\n",
       "       -9.96240190e-03, -9.92644328e-03, -9.90096677e-03, -9.88557279e-03,\n",
       "       -9.87990513e-03, -9.88364771e-03, -9.89652174e-03, -9.91828325e-03,\n",
       "       -9.94872100e-03, -9.98765466e-03, -1.00349333e-02, -1.00904342e-02,\n",
       "       -1.01540615e-02, -1.02257461e-02, -1.03054441e-02, -1.03931372e-02,\n",
       "       -1.04888322e-02, -1.05925607e-02, -1.07043797e-02, -1.08243719e-02,\n",
       "       -1.09526460e-02, -1.10893375e-02, -1.12346098e-02, -1.13886555e-02,\n",
       "       -1.15516973e-02, -1.17239902e-02, -1.19058233e-02, -1.20975216e-02,\n",
       "       -1.22994492e-02, -1.25120117e-02, -1.27356596e-02, -1.29708919e-02,\n",
       "       -1.32182604e-02, -1.34783736e-02, -1.37519022e-02, -1.40395842e-02,\n",
       "       -1.43422305e-02, -1.46607313e-02, -1.49960625e-02, -1.53492919e-02,\n",
       "       -1.57215860e-02, -1.61142155e-02, -1.65285614e-02, -1.69661180e-02,\n",
       "       -1.74284953e-02, -1.79174177e-02, -1.84347190e-02, -1.89823317e-02,\n",
       "       -1.95622691e-02, -2.01765993e-02, -2.08274070e-02, -2.15167424e-02,\n",
       "       -2.22465552e-02, -2.30186088e-02, -2.38343761e-02, -2.46949133e-02,\n",
       "       -2.56007115e-02, -2.65515280e-02, -2.75461991e-02, -2.85824410e-02,\n",
       "       -2.96566453e-02, -3.07636818e-02, -3.18967219e-02, -3.30471008e-02,\n",
       "       -3.42042377e-02, -3.53556330e-02, -3.64869641e-02, -3.75822928e-02,\n",
       "       -3.86243966e-02, -3.95952232e-02, -4.04764598e-02, -4.12501957e-02,\n",
       "       -4.18996442e-02, -4.24098809e-02, -4.27685481e-02, -4.29664706e-02,\n",
       "       -4.29981366e-02,  6.50285181e-01])"
      ]
     },
     "execution_count": 163,
     "metadata": {},
     "output_type": "execute_result"
    }
   ],
   "source": [
    "ceps"
   ]
  },
  {
   "cell_type": "code",
   "execution_count": 154,
   "metadata": {},
   "outputs": [],
   "source": [
    "value = list(sd.values())"
   ]
  },
  {
   "cell_type": "code",
   "execution_count": 155,
   "metadata": {},
   "outputs": [],
   "source": [
    "value = np.flipud(value)"
   ]
  },
  {
   "cell_type": "code",
   "execution_count": 22,
   "metadata": {},
   "outputs": [
    {
     "ename": "ValueError",
     "evalue": "x and y must have same first dimension, but have shapes (250,) and (125, 2)",
     "output_type": "error",
     "traceback": [
      "\u001b[1;31m---------------------------------------------------------------------------\u001b[0m",
      "\u001b[1;31mValueError\u001b[0m                                Traceback (most recent call last)",
      "\u001b[1;32m<ipython-input-22-f62fc48dc0bc>\u001b[0m in \u001b[0;36m<module>\u001b[1;34m\u001b[0m\n\u001b[0;32m      1\u001b[0m \u001b[0mincep\u001b[0m \u001b[1;33m=\u001b[0m \u001b[0minverse_complex_cepstrum\u001b[0m\u001b[1;33m(\u001b[0m\u001b[0mcep\u001b[0m\u001b[1;33m,\u001b[0m \u001b[0mnp\u001b[0m\u001b[1;33m.\u001b[0m\u001b[0marray\u001b[0m\u001b[1;33m(\u001b[0m\u001b[1;36m1.0\u001b[0m\u001b[1;33m)\u001b[0m\u001b[1;33m)\u001b[0m    \u001b[1;31m# inverse ceps\u001b[0m\u001b[1;33m\u001b[0m\u001b[1;33m\u001b[0m\u001b[0m\n\u001b[1;32m----> 2\u001b[1;33m \u001b[0mplt\u001b[0m\u001b[1;33m.\u001b[0m\u001b[0mplot\u001b[0m\u001b[1;33m(\u001b[0m\u001b[0msignal_3\u001b[0m\u001b[1;33m[\u001b[0m\u001b[1;34m'Time'\u001b[0m\u001b[1;33m]\u001b[0m\u001b[1;33m,\u001b[0m \u001b[0mincep\u001b[0m\u001b[1;33m)\u001b[0m\u001b[1;33m\u001b[0m\u001b[1;33m\u001b[0m\u001b[0m\n\u001b[0m\u001b[0;32m      3\u001b[0m \u001b[0mplt\u001b[0m\u001b[1;33m.\u001b[0m\u001b[0mshow\u001b[0m\u001b[1;33m(\u001b[0m\u001b[1;33m)\u001b[0m\u001b[1;33m\u001b[0m\u001b[1;33m\u001b[0m\u001b[0m\n",
      "\u001b[1;32mC:\\ProgramData\\Anaconda3\\lib\\site-packages\\matplotlib\\pyplot.py\u001b[0m in \u001b[0;36mplot\u001b[1;34m(scalex, scaley, data, *args, **kwargs)\u001b[0m\n\u001b[0;32m   2838\u001b[0m \u001b[1;33m@\u001b[0m\u001b[0m_copy_docstring_and_deprecators\u001b[0m\u001b[1;33m(\u001b[0m\u001b[0mAxes\u001b[0m\u001b[1;33m.\u001b[0m\u001b[0mplot\u001b[0m\u001b[1;33m)\u001b[0m\u001b[1;33m\u001b[0m\u001b[1;33m\u001b[0m\u001b[0m\n\u001b[0;32m   2839\u001b[0m \u001b[1;32mdef\u001b[0m \u001b[0mplot\u001b[0m\u001b[1;33m(\u001b[0m\u001b[1;33m*\u001b[0m\u001b[0margs\u001b[0m\u001b[1;33m,\u001b[0m \u001b[0mscalex\u001b[0m\u001b[1;33m=\u001b[0m\u001b[1;32mTrue\u001b[0m\u001b[1;33m,\u001b[0m \u001b[0mscaley\u001b[0m\u001b[1;33m=\u001b[0m\u001b[1;32mTrue\u001b[0m\u001b[1;33m,\u001b[0m \u001b[0mdata\u001b[0m\u001b[1;33m=\u001b[0m\u001b[1;32mNone\u001b[0m\u001b[1;33m,\u001b[0m \u001b[1;33m**\u001b[0m\u001b[0mkwargs\u001b[0m\u001b[1;33m)\u001b[0m\u001b[1;33m:\u001b[0m\u001b[1;33m\u001b[0m\u001b[1;33m\u001b[0m\u001b[0m\n\u001b[1;32m-> 2840\u001b[1;33m     return gca().plot(\n\u001b[0m\u001b[0;32m   2841\u001b[0m         \u001b[1;33m*\u001b[0m\u001b[0margs\u001b[0m\u001b[1;33m,\u001b[0m \u001b[0mscalex\u001b[0m\u001b[1;33m=\u001b[0m\u001b[0mscalex\u001b[0m\u001b[1;33m,\u001b[0m \u001b[0mscaley\u001b[0m\u001b[1;33m=\u001b[0m\u001b[0mscaley\u001b[0m\u001b[1;33m,\u001b[0m\u001b[1;33m\u001b[0m\u001b[1;33m\u001b[0m\u001b[0m\n\u001b[0;32m   2842\u001b[0m         **({\"data\": data} if data is not None else {}), **kwargs)\n",
      "\u001b[1;32mC:\\ProgramData\\Anaconda3\\lib\\site-packages\\matplotlib\\axes\\_axes.py\u001b[0m in \u001b[0;36mplot\u001b[1;34m(self, scalex, scaley, data, *args, **kwargs)\u001b[0m\n\u001b[0;32m   1741\u001b[0m         \"\"\"\n\u001b[0;32m   1742\u001b[0m         \u001b[0mkwargs\u001b[0m \u001b[1;33m=\u001b[0m \u001b[0mcbook\u001b[0m\u001b[1;33m.\u001b[0m\u001b[0mnormalize_kwargs\u001b[0m\u001b[1;33m(\u001b[0m\u001b[0mkwargs\u001b[0m\u001b[1;33m,\u001b[0m \u001b[0mmlines\u001b[0m\u001b[1;33m.\u001b[0m\u001b[0mLine2D\u001b[0m\u001b[1;33m)\u001b[0m\u001b[1;33m\u001b[0m\u001b[1;33m\u001b[0m\u001b[0m\n\u001b[1;32m-> 1743\u001b[1;33m         \u001b[0mlines\u001b[0m \u001b[1;33m=\u001b[0m \u001b[1;33m[\u001b[0m\u001b[1;33m*\u001b[0m\u001b[0mself\u001b[0m\u001b[1;33m.\u001b[0m\u001b[0m_get_lines\u001b[0m\u001b[1;33m(\u001b[0m\u001b[1;33m*\u001b[0m\u001b[0margs\u001b[0m\u001b[1;33m,\u001b[0m \u001b[0mdata\u001b[0m\u001b[1;33m=\u001b[0m\u001b[0mdata\u001b[0m\u001b[1;33m,\u001b[0m \u001b[1;33m**\u001b[0m\u001b[0mkwargs\u001b[0m\u001b[1;33m)\u001b[0m\u001b[1;33m]\u001b[0m\u001b[1;33m\u001b[0m\u001b[1;33m\u001b[0m\u001b[0m\n\u001b[0m\u001b[0;32m   1744\u001b[0m         \u001b[1;32mfor\u001b[0m \u001b[0mline\u001b[0m \u001b[1;32min\u001b[0m \u001b[0mlines\u001b[0m\u001b[1;33m:\u001b[0m\u001b[1;33m\u001b[0m\u001b[1;33m\u001b[0m\u001b[0m\n\u001b[0;32m   1745\u001b[0m             \u001b[0mself\u001b[0m\u001b[1;33m.\u001b[0m\u001b[0madd_line\u001b[0m\u001b[1;33m(\u001b[0m\u001b[0mline\u001b[0m\u001b[1;33m)\u001b[0m\u001b[1;33m\u001b[0m\u001b[1;33m\u001b[0m\u001b[0m\n",
      "\u001b[1;32mC:\\ProgramData\\Anaconda3\\lib\\site-packages\\matplotlib\\axes\\_base.py\u001b[0m in \u001b[0;36m__call__\u001b[1;34m(self, data, *args, **kwargs)\u001b[0m\n\u001b[0;32m    271\u001b[0m                 \u001b[0mthis\u001b[0m \u001b[1;33m+=\u001b[0m \u001b[0margs\u001b[0m\u001b[1;33m[\u001b[0m\u001b[1;36m0\u001b[0m\u001b[1;33m]\u001b[0m\u001b[1;33m,\u001b[0m\u001b[1;33m\u001b[0m\u001b[1;33m\u001b[0m\u001b[0m\n\u001b[0;32m    272\u001b[0m                 \u001b[0margs\u001b[0m \u001b[1;33m=\u001b[0m \u001b[0margs\u001b[0m\u001b[1;33m[\u001b[0m\u001b[1;36m1\u001b[0m\u001b[1;33m:\u001b[0m\u001b[1;33m]\u001b[0m\u001b[1;33m\u001b[0m\u001b[1;33m\u001b[0m\u001b[0m\n\u001b[1;32m--> 273\u001b[1;33m             \u001b[1;32myield\u001b[0m \u001b[1;32mfrom\u001b[0m \u001b[0mself\u001b[0m\u001b[1;33m.\u001b[0m\u001b[0m_plot_args\u001b[0m\u001b[1;33m(\u001b[0m\u001b[0mthis\u001b[0m\u001b[1;33m,\u001b[0m \u001b[0mkwargs\u001b[0m\u001b[1;33m)\u001b[0m\u001b[1;33m\u001b[0m\u001b[1;33m\u001b[0m\u001b[0m\n\u001b[0m\u001b[0;32m    274\u001b[0m \u001b[1;33m\u001b[0m\u001b[0m\n\u001b[0;32m    275\u001b[0m     \u001b[1;32mdef\u001b[0m \u001b[0mget_next_color\u001b[0m\u001b[1;33m(\u001b[0m\u001b[0mself\u001b[0m\u001b[1;33m)\u001b[0m\u001b[1;33m:\u001b[0m\u001b[1;33m\u001b[0m\u001b[1;33m\u001b[0m\u001b[0m\n",
      "\u001b[1;32mC:\\ProgramData\\Anaconda3\\lib\\site-packages\\matplotlib\\axes\\_base.py\u001b[0m in \u001b[0;36m_plot_args\u001b[1;34m(self, tup, kwargs)\u001b[0m\n\u001b[0;32m    397\u001b[0m \u001b[1;33m\u001b[0m\u001b[0m\n\u001b[0;32m    398\u001b[0m         \u001b[1;32mif\u001b[0m \u001b[0mx\u001b[0m\u001b[1;33m.\u001b[0m\u001b[0mshape\u001b[0m\u001b[1;33m[\u001b[0m\u001b[1;36m0\u001b[0m\u001b[1;33m]\u001b[0m \u001b[1;33m!=\u001b[0m \u001b[0my\u001b[0m\u001b[1;33m.\u001b[0m\u001b[0mshape\u001b[0m\u001b[1;33m[\u001b[0m\u001b[1;36m0\u001b[0m\u001b[1;33m]\u001b[0m\u001b[1;33m:\u001b[0m\u001b[1;33m\u001b[0m\u001b[1;33m\u001b[0m\u001b[0m\n\u001b[1;32m--> 399\u001b[1;33m             raise ValueError(f\"x and y must have same first dimension, but \"\n\u001b[0m\u001b[0;32m    400\u001b[0m                              f\"have shapes {x.shape} and {y.shape}\")\n\u001b[0;32m    401\u001b[0m         \u001b[1;32mif\u001b[0m \u001b[0mx\u001b[0m\u001b[1;33m.\u001b[0m\u001b[0mndim\u001b[0m \u001b[1;33m>\u001b[0m \u001b[1;36m2\u001b[0m \u001b[1;32mor\u001b[0m \u001b[0my\u001b[0m\u001b[1;33m.\u001b[0m\u001b[0mndim\u001b[0m \u001b[1;33m>\u001b[0m \u001b[1;36m2\u001b[0m\u001b[1;33m:\u001b[0m\u001b[1;33m\u001b[0m\u001b[1;33m\u001b[0m\u001b[0m\n",
      "\u001b[1;31mValueError\u001b[0m: x and y must have same first dimension, but have shapes (250,) and (125, 2)"
     ]
    },
    {
     "data": {
      "image/png": "[encoded data removed]",
      "text/plain": [
       "<Figure size 432x288 with 1 Axes>"
      ]
     },
     "metadata": {},
     "output_type": "display_data"
    }
   ],
   "source": [
    "incep = inverse_complex_cepstrum(value, np.array(1.0))    # inverse ceps\n",
    "plt.plot(signal_3['Time'], incep)\n",
    "plt.show()"
   ]
  },
  {
   "cell_type": "code",
   "execution_count": null,
   "metadata": {},
   "outputs": [],
   "source": [
    "a=np.arange(126)\n",
    "a = a[1:]\n",
    "b = a +   "
   ]
  },
  {
   "cell_type": "code",
   "execution_count": null,
   "metadata": {},
   "outputs": [],
   "source": []
  }
 ],
 "metadata": {
  "kernelspec": {
   "display_name": "Python 3",
   "language": "python",
   "name": "python3"
  },
  "language_info": {
   "codemirror_mode": {
    "name": "ipython",
    "version": 3
   },
   "file_extension": ".py",
   "mimetype": "text/x-python",
   "name": "python",
   "nbconvert_exporter": "python",
   "pygments_lexer": "ipython3",
   "version": "3.8.5"
  }
 },
 "nbformat": 4,
 "nbformat_minor": 4
}
