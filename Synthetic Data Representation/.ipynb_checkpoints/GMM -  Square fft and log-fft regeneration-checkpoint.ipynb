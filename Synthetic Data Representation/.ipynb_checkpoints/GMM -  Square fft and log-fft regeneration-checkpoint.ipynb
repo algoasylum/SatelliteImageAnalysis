{
 "cells": [
  {
   "cell_type": "code",
   "execution_count": 1,
   "metadata": {},
   "outputs": [],
   "source": [
    "import numpy as np\n",
    "import pandas as pd\n",
    "import seaborn as sns\n",
    "sns.set(style='whitegrid')\n",
    "sns.set_palette('bright')\n",
    "import matplotlib.pyplot as plt\n",
    "import plotly.express as px\n",
    "import plotly.figure_factory as ff\n",
    "import plotly.graph_objects as go\n",
    "from plotly.subplots import make_subplots\n",
    "from scipy import fftpack\n",
    "import datetime\n",
    "from sklearn import mixture\n",
    "import warnings\n",
    "warnings.filterwarnings('ignore')\n",
    "from scipy import fft\n",
    "from scipy.stats import wasserstein_distance"
   ]
  },
  {
   "cell_type": "code",
   "execution_count": 50,
   "metadata": {},
   "outputs": [
    {
     "data": {
      "image/png": "[encoded data removed]",
      "text/plain": [
       "<Figure size 432x288 with 1 Axes>"
      ]
     },
     "metadata": {},
     "output_type": "display_data"
    }
   ],
   "source": [
    "from scipy import signal\n",
    "x = np.arange(0, 250, 1)\n",
    "y = np.zeros(250)\n",
    "y[0:100] = 0\n",
    "y[100:150] = 10\n",
    "y[150:250] = 0\n",
    "plt.plot(x, y)\n",
    "plt.show()"
   ]
  },
  {
   "cell_type": "code",
   "execution_count": 51,
   "metadata": {},
   "outputs": [],
   "source": [
    "#x = np.arange(1, 31, 1)\n",
    "signal_3 = pd.DataFrame(zip(x,y),columns=['Time','Value'])"
   ]
  },
  {
   "cell_type": "markdown",
   "metadata": {},
   "source": [
    "# FFT regeneration"
   ]
  },
  {
   "cell_type": "code",
   "execution_count": 52,
   "metadata": {},
   "outputs": [],
   "source": [
    "def freq(df):\n",
    "    N = df.shape[0]\n",
    "    y = np.array(df['Value'])\n",
    "    f = fftpack.fftfreq(len(y))\n",
    "    yf = fftpack.fft(y)\n",
    "    #freq_ampli_real = pd.DataFrame(zip(f[:N//2+1],yf[:N//2+1].real),columns=['Freq','Ampli'])\n",
    "    freq_ampli_img = pd.DataFrame(zip(f[:N//2+1],yf[:N//2+1].imag),columns=['Freq','Ampli'])\n",
    "    return freq_ampli_img\n",
    "freq_ampli3i = freq(signal_3)"
   ]
  },
  {
   "cell_type": "code",
   "execution_count": 53,
   "metadata": {},
   "outputs": [
    {
     "data": {
      "image/png": "[encoded data removed]",
      "text/plain": [
       "<Figure size 432x288 with 1 Axes>"
      ]
     },
     "metadata": {},
     "output_type": "display_data"
    }
   ],
   "source": [
    "#sns.lineplot(freq_ampli3['Freq'], freq_ampli3['Ampli'])\n",
    "#plt.xlim(0, 0.2)\n",
    "#plt.title('Real values of FFT')\n",
    "#plt.show()\n",
    "plt.scatter(freq_ampli3i['Freq'], freq_ampli3i['Ampli'])\n",
    "plt.title('Imaginary values of FFT')\n",
    "plt.show()"
   ]
  },
  {
   "cell_type": "code",
   "execution_count": 54,
   "metadata": {},
   "outputs": [
    {
     "data": {
      "text/plain": [
       "(126, 2)"
      ]
     },
     "execution_count": 54,
     "metadata": {},
     "output_type": "execute_result"
    }
   ],
   "source": [
    "np.shape(freq_ampli3i)"
   ]
  },
  {
   "cell_type": "code",
   "execution_count": 55,
   "metadata": {},
   "outputs": [],
   "source": [
    "def GMM_fit(df):\n",
    "    dfx = df\n",
    "    lowest_bic = np.infty\n",
    "    bic = []\n",
    "    n_components_range = range(1, 50)\n",
    "    cv_types = ['spherical', 'tied', 'diag', 'full']\n",
    "    for cv_type in cv_types:\n",
    "        for n_components in n_components_range:\n",
    "            # Fit a Gaussian mixture with EM\n",
    "            gmm = mixture.GaussianMixture(n_components=n_components,\n",
    "                                          covariance_type=cv_type)\n",
    "            gmm.fit(dfx)\n",
    "            bic.append(gmm.bic(dfx))\n",
    "            if bic[-1] < lowest_bic:\n",
    "                lowest_bic = bic[-1]\n",
    "                best_gmm = gmm\n",
    "    return best_gmm"
   ]
  },
  {
   "cell_type": "code",
   "execution_count": 56,
   "metadata": {},
   "outputs": [],
   "source": [
    "#best_gmm0 = GMM_fit(freq_ampli3)                        # GMM on real part of FFT data\n",
    "best_gmm0i = GMM_fit(freq_ampli3i)                      "
   ]
  },
  {
   "cell_type": "code",
   "execution_count": 57,
   "metadata": {},
   "outputs": [
    {
     "name": "stdout",
     "output_type": "stream",
     "text": [
      "GaussianMixture(covariance_type='tied', n_components=5) \n",
      "\n",
      "WEIGHTS - [0.20634921 0.1984127  0.1984127  0.1984127  0.1984127 ] \n",
      "\n",
      "MEANS (Col 1: Freq; Col 2: Amplitude) - \n",
      " [[ 2.11538462e-01 -2.59910115e-16]\n",
      " [ 2.56000000e-01  5.87785252e+00]\n",
      " [ 2.52000000e-01 -9.51056516e+00]\n",
      " [ 2.48000000e-01  9.51056516e+00]\n",
      " [ 2.44000000e-01 -5.87785252e+00]] \n",
      "\n"
     ]
    }
   ],
   "source": [
    "print(best_gmm0i, '\\n')\n",
    "print('WEIGHTS -', best_gmm0i.weights_, '\\n')\n",
    "print('MEANS (Col 1: Freq; Col 2: Amplitude) - \\n',best_gmm0i.means_, '\\n')"
   ]
  },
  {
   "cell_type": "code",
   "execution_count": 58,
   "metadata": {},
   "outputs": [],
   "source": [
    "#Sampling\n",
    "#z1,_ = best_gmm0.sample(126)\n",
    "z1i,_ = best_gmm0i.sample(126)"
   ]
  },
  {
   "cell_type": "code",
   "execution_count": 59,
   "metadata": {},
   "outputs": [
    {
     "data": {
      "image/png": "[encoded data removed]",
      "text/plain": [
       "<Figure size 432x288 with 2 Axes>"
      ]
     },
     "metadata": {},
     "output_type": "display_data"
    }
   ],
   "source": [
    "fig, ax = plt.subplots(2, sharex='all', sharey='all')\n",
    "ax[0].scatter(freq_ampli3i['Freq'], freq_ampli3i['Ampli'])\n",
    "#plt.show()\n",
    "ax[1].scatter(z1i[:, 0], z1i[:, 1])\n",
    "plt.show()"
   ]
  },
  {
   "cell_type": "code",
   "execution_count": 60,
   "metadata": {},
   "outputs": [],
   "source": [
    "#sample_1 = pd.DataFrame(zip(z1[:,0],z1[:,1]),columns=['Freq','Ampli'])           \n",
    "sample_1i = pd.DataFrame(zip(z1i[:,0],z1i[:,1]),columns=['Freq','Ampli'])"
   ]
  },
  {
   "cell_type": "code",
   "execution_count": 61,
   "metadata": {},
   "outputs": [],
   "source": [
    "#sample_1 = sample_1.sort_values(by=['Freq'],ascending=True)     \n",
    "#sample_1 = sample_1[sample_1.Freq > 0]                           \n",
    "sample_1i = sample_1i.sort_values(by=['Freq'],ascending=True)\n",
    "sample_1i = sample_1i[sample_1i.Freq > 0]                        "
   ]
  },
  {
   "cell_type": "code",
   "execution_count": 62,
   "metadata": {},
   "outputs": [],
   "source": [
    "f = fftpack.fftfreq(250)       \n",
    "sd = dict(zip(np.round(f,3),np.zeros(len(f))))\n",
    "#sample_1.Freq = sample_1.Freq.apply(lambda x:round(x,3))       \n",
    "sample_1i.Freq = sample_1i.Freq.apply(lambda x:round(x,3))\n",
    "#samp_1 = dict(zip(sample_1.Freq,sample_1.Ampli))\n",
    "samp_1i = dict(zip(sample_1i.Freq,sample_1i.Ampli))"
   ]
  },
  {
   "cell_type": "code",
   "execution_count": 63,
   "metadata": {},
   "outputs": [
    {
     "data": {
      "text/plain": [
       "{0.0: 0j,\n",
       " 0.004: 9.511689867678037j,\n",
       " 0.008: 0.0,\n",
       " 0.012: -0.0007901659326353238j,\n",
       " 0.016: 5.878775330583631j,\n",
       " 0.02: 0.0,\n",
       " 0.024: 0.0,\n",
       " 0.028: 0.0,\n",
       " 0.032: 0.0,\n",
       " 0.036: 0.0,\n",
       " 0.04: 0.0008098463479639617j,\n",
       " 0.044: 0.0,\n",
       " 0.048: 0.0,\n",
       " 0.052: 0.0,\n",
       " 0.056: 0.0,\n",
       " 0.06: 0.0,\n",
       " 0.064: 0.0,\n",
       " 0.068: 0.0020166525915198004j,\n",
       " 0.072: 0.0,\n",
       " 0.076: 5.87701758063793j,\n",
       " 0.08: 0.0,\n",
       " 0.084: -0.0016179745184541842j,\n",
       " 0.088: 0.0,\n",
       " 0.092: 0.0,\n",
       " 0.096: 0.0,\n",
       " 0.1: 0.0,\n",
       " 0.104: 0.0,\n",
       " 0.108: 0.0,\n",
       " 0.112: 0.0,\n",
       " 0.116: 0.0,\n",
       " 0.12: -0.0019085744152399766j,\n",
       " 0.124: 0.0,\n",
       " 0.128: 0.0,\n",
       " 0.132: 0.0,\n",
       " 0.136: -0.00022432330267866397j,\n",
       " 0.14: 5.876993014344349j,\n",
       " 0.144: 0.0,\n",
       " 0.148: 9.511994743846257j,\n",
       " 0.152: 0.0,\n",
       " 0.156: 0.0,\n",
       " 0.16: 0.0,\n",
       " 0.164: 5.877165914808854j,\n",
       " 0.168: 0.0,\n",
       " 0.172: 9.508729935542826j,\n",
       " 0.176: 0.0,\n",
       " 0.18: -15.389111769346442j,\n",
       " 0.184: 9.510865074650757j,\n",
       " 0.188: 9.509273309557784j,\n",
       " 0.192: 0.0,\n",
       " 0.196: 0.0,\n",
       " 0.2: 0.0,\n",
       " 0.204: 0.0,\n",
       " 0.208: 15.388799345476055j,\n",
       " 0.212: 0.0,\n",
       " 0.216: -3.632354280305907j,\n",
       " 0.22: -15.38915769513547j,\n",
       " 0.224: 0.0006941055280381591j,\n",
       " 0.228: -0.001039631283870355j,\n",
       " 0.232: -9.509728626576301j,\n",
       " 0.236: 5.878343015965466j,\n",
       " 0.24: 9.511467923956594j,\n",
       " 0.244: 0.0,\n",
       " 0.248: -0.0025368231552302944j,\n",
       " 0.252: -0.0005147759818186735j,\n",
       " 0.256: -9.512295968682738j,\n",
       " 0.26: 0.0,\n",
       " 0.264: 8.945334227467418e-05j,\n",
       " 0.268: -15.386728812160829j,\n",
       " 0.272: 19.01881397607287j,\n",
       " 0.276: -9.510996550028942j,\n",
       " 0.28: 0.0,\n",
       " 0.284: -0.0008079089159588635j,\n",
       " 0.288: 0.0,\n",
       " 0.292: 0.0,\n",
       " 0.296: 9.51162583805273j,\n",
       " 0.3: -0.0005020075486807707j,\n",
       " 0.304: -0.001634747638858116j,\n",
       " 0.308: -5.8794858203736755j,\n",
       " 0.312: 0.0,\n",
       " 0.316: 0.0,\n",
       " 0.32: 0.00010715576666009046j,\n",
       " 0.324: 0.0,\n",
       " 0.328: 0.0,\n",
       " 0.332: -0.001372879762456569j,\n",
       " 0.336: 0.0,\n",
       " 0.34: 0.0,\n",
       " 0.344: 5.877787305484623j,\n",
       " 0.348: 9.50937279967718j,\n",
       " 0.352: 0.000335421248376059j,\n",
       " 0.356: 0.0,\n",
       " 0.36: 5.877064460471352j,\n",
       " 0.364: -9.511211034719153j,\n",
       " 0.368: 0.0,\n",
       " 0.372: -15.388819142016082j,\n",
       " 0.376: 0.0,\n",
       " 0.38: 0.0,\n",
       " 0.384: -5.87732416643175j,\n",
       " 0.388: 0.0,\n",
       " 0.392: 0.0,\n",
       " 0.396: 0.0,\n",
       " 0.4: 0.0,\n",
       " 0.404: 0.0006391275231134586j,\n",
       " 0.408: -0.0005928763384099867j,\n",
       " 0.412: -19.020278264006365j,\n",
       " 0.416: -9.510751634104432j,\n",
       " 0.42: -15.389648460640721j,\n",
       " 0.424: 0.0,\n",
       " 0.428: 0.0,\n",
       " 0.432: 0.0,\n",
       " 0.436: -9.511468879969161j,\n",
       " 0.44: 0.0,\n",
       " 0.444: 0.0,\n",
       " 0.448: 9.51064605849079j,\n",
       " 0.452: 0.0,\n",
       " 0.456: 0.0,\n",
       " 0.46: 0.0,\n",
       " 0.464: 0.0,\n",
       " 0.468: 0.0,\n",
       " 0.472: 0.0,\n",
       " 0.476: -9.509838383537868j,\n",
       " 0.48: 0.0,\n",
       " 0.484: 0.0,\n",
       " 0.488: 0.0,\n",
       " 0.492: 0.0,\n",
       " 0.496: 0.0,\n",
       " -0.5: 0.0,\n",
       " -0.496: 0.0,\n",
       " -0.492: 0.0,\n",
       " -0.488: 0.0,\n",
       " -0.484: 0.0,\n",
       " -0.48: 0.0,\n",
       " -0.476: 0j,\n",
       " -0.472: 0.0,\n",
       " -0.468: 0.0,\n",
       " -0.464: 0.0,\n",
       " -0.46: 0.0,\n",
       " -0.456: 0.0,\n",
       " -0.452: 0.0,\n",
       " -0.448: 0j,\n",
       " -0.444: 0.0,\n",
       " -0.44: 0.0,\n",
       " -0.436: 0j,\n",
       " -0.432: 0.0,\n",
       " -0.428: 0.0,\n",
       " -0.424: 0.0,\n",
       " -0.42: -9.51024524449701j,\n",
       " -0.416: 0j,\n",
       " -0.412: -9.50904334967142j,\n",
       " -0.408: 5.876110230088939j,\n",
       " -0.404: 9.511620480137182j,\n",
       " -0.4: 0.0,\n",
       " -0.396: 0.0,\n",
       " -0.392: 0.0,\n",
       " -0.388: 0.0,\n",
       " -0.384: 0j,\n",
       " -0.38: 0.0,\n",
       " -0.376: 0.0,\n",
       " -0.372: -5.877453989190531j,\n",
       " -0.368: 0.0,\n",
       " -0.364: 0j,\n",
       " -0.36: 0j,\n",
       " -0.356: 0.0,\n",
       " -0.352: 0j,\n",
       " -0.348: 0j,\n",
       " -0.344: 0j,\n",
       " -0.34: 0.0,\n",
       " -0.336: 0.0,\n",
       " -0.332: 0j,\n",
       " -0.328: 0.0,\n",
       " -0.324: 0.0,\n",
       " -0.32: 0j,\n",
       " -0.316: 0.0,\n",
       " -0.312: 0.0,\n",
       " -0.308: -5.877997259608972j,\n",
       " -0.304: -0.0015696701648503155j,\n",
       " -0.3: 0j,\n",
       " -0.296: 0j,\n",
       " -0.292: 0.0,\n",
       " -0.288: 0.0,\n",
       " -0.284: 0j,\n",
       " -0.28: 0.0,\n",
       " -0.276: 0j,\n",
       " -0.272: 9.507839587257237j,\n",
       " -0.268: -5.87776459472485j,\n",
       " -0.264: 0j,\n",
       " -0.26: 0.0,\n",
       " -0.256: 0j,\n",
       " -0.252: 0j,\n",
       " -0.248: 9.509729183679132j,\n",
       " -0.244: 0.0,\n",
       " -0.24: 0j,\n",
       " -0.236: 0j,\n",
       " -0.232: 0j,\n",
       " -0.228: 0j,\n",
       " -0.224: 0j,\n",
       " -0.22: -9.510718435661229j,\n",
       " -0.216: -9.511044440909625j,\n",
       " -0.212: 0.0,\n",
       " -0.208: 9.510674030378123j,\n",
       " -0.204: 0.0,\n",
       " -0.2: 0.0,\n",
       " -0.196: 0.0,\n",
       " -0.192: 0.0,\n",
       " -0.188: 0j,\n",
       " -0.184: 0j,\n",
       " -0.18: -9.511415942894871j,\n",
       " -0.176: 0.0,\n",
       " -0.172: 0j,\n",
       " -0.168: 0.0,\n",
       " -0.164: 0j,\n",
       " -0.16: 0.0,\n",
       " -0.156: 0.0,\n",
       " -0.152: 0.0,\n",
       " -0.148: 0j,\n",
       " -0.144: 0.0,\n",
       " -0.14: 0j,\n",
       " -0.136: 0j,\n",
       " -0.132: 0.0,\n",
       " -0.128: 0.0,\n",
       " -0.124: 0.0,\n",
       " -0.12: 0j,\n",
       " -0.116: 0.0,\n",
       " -0.112: 0.0,\n",
       " -0.108: 0.0,\n",
       " -0.104: 0.0,\n",
       " -0.1: 0.0,\n",
       " -0.096: 0.0,\n",
       " -0.092: 0.0,\n",
       " -0.088: 0.0,\n",
       " -0.084: 0j,\n",
       " -0.08: 0.0,\n",
       " -0.076: 0j,\n",
       " -0.072: 0.0,\n",
       " -0.068: 0.0019798440157638613j,\n",
       " -0.064: 0.0,\n",
       " -0.06: 0.0,\n",
       " -0.056: 0.0,\n",
       " -0.052: 0.0,\n",
       " -0.048: 0.0,\n",
       " -0.044: 0.0,\n",
       " -0.04: 0j,\n",
       " -0.036: 0.0,\n",
       " -0.032: 0.0,\n",
       " -0.028: 0.0,\n",
       " -0.024: 0.0,\n",
       " -0.02: 0.0,\n",
       " -0.016: 0j,\n",
       " -0.012: 0j,\n",
       " -0.008: 0.0,\n",
       " -0.004: 0j}"
      ]
     },
     "execution_count": 63,
     "metadata": {},
     "output_type": "execute_result"
    }
   ],
   "source": [
    "for i in samp_1i.keys():\n",
    "    if i in sd:\n",
    "        sd[i] = complex(sd[i],samp_1i[i])\n",
    "        sd[-i] = complex(sd[i],-(samp_1i[i]))\n",
    "    elif i+0.001 in sd:\n",
    "        sd[i+0.001] = complex(sd[i+0.001],samp_1i[i])\n",
    "        sd[-(i+0.001)] = complex(sd[i+0.001],-(samp_1i[i]))\n",
    "    elif i-0.001 in sd:\n",
    "        sd[i-0.001] = complex(sd[i-0.001],samp_1i[i])\n",
    "        sd[-(i-0.001)] = complex(sd[i-0.001],-(samp_1i[i]))\n",
    "sd"
   ]
  },
  {
   "cell_type": "code",
   "execution_count": 64,
   "metadata": {},
   "outputs": [],
   "source": [
    "value = list(sd.values())"
   ]
  },
  {
   "cell_type": "markdown",
   "metadata": {},
   "source": [
    "# Final IFFT"
   ]
  },
  {
   "cell_type": "code",
   "execution_count": 65,
   "metadata": {},
   "outputs": [
    {
     "data": {
      "text/plain": [
       "[<matplotlib.lines.Line2D at 0x17f33922610>]"
      ]
     },
     "execution_count": 65,
     "metadata": {},
     "output_type": "execute_result"
    },
    {
     "data": {
      "image/png": "[encoded data removed]",
      "text/plain": [
       "<Figure size 432x288 with 1 Axes>"
      ]
     },
     "metadata": {},
     "output_type": "display_data"
    }
   ],
   "source": [
    "ift = fft.ifft(value)\n",
    "plt.title('IFFT')\n",
    "plt.plot(signal_3['Time'], signal_3['Value'])\n",
    "plt.plot(x,ift)"
   ]
  },
  {
   "cell_type": "markdown",
   "metadata": {},
   "source": [
    "# Log FFT regeneration"
   ]
  },
  {
   "cell_type": "code",
   "execution_count": 66,
   "metadata": {},
   "outputs": [],
   "source": [
    "def freq(df):\n",
    "    N = df.shape[0]\n",
    "    y = np.array(df['Value'])\n",
    "    f = fftpack.fftfreq(len(y))\n",
    "    yf = fftpack.fft(y)\n",
    "    #freq_ampli_real = pd.DataFrame(zip(f[:N//2+1],yf[:N//2+1].real),columns=['Freq','Ampli'])\n",
    "    freq_ampli_img = pd.DataFrame(zip(f[:N//2+1],yf[:N//2+1].imag),columns=['Freq','Ampli'])\n",
    "    return freq_ampli_img\n",
    "freq_ampli3i = freq(signal_3)"
   ]
  },
  {
   "cell_type": "code",
   "execution_count": 67,
   "metadata": {},
   "outputs": [
    {
     "data": {
      "image/png": "[encoded data removed]",
      "text/plain": [
       "<Figure size 432x288 with 1 Axes>"
      ]
     },
     "metadata": {},
     "output_type": "display_data"
    }
   ],
   "source": [
    "#sns.lineplot(freq_ampli3['Freq'], freq_ampli3['Ampli'])\n",
    "#plt.xlim(0, 0.2)\n",
    "#plt.title('Real values of FFT')\n",
    "#plt.show()\n",
    "plt.scatter(freq_ampli3i['Freq'], freq_ampli3i['Ampli'])\n",
    "plt.title('Imaginary values of FFT')\n",
    "plt.show()"
   ]
  },
  {
   "cell_type": "code",
   "execution_count": 68,
   "metadata": {},
   "outputs": [
    {
     "data": {
      "image/png": "[encoded data removed]",
      "text/plain": [
       "<Figure size 432x288 with 1 Axes>"
      ]
     },
     "metadata": {},
     "output_type": "display_data"
    }
   ],
   "source": [
    "#freq_ampli3['Ampli'] = np.log(freq_ampli3[\"Ampli\"])\n",
    "#freq_ampli3 = freq_ampli3.loc[freq_ampli3['Ampli'] != float('-inf')]\n",
    "#freq_ampli3 = freq_ampli3.dropna()\n",
    "#plt.scatter(freq_ampli3['Freq'], freq_ampli3['Ampli'])\n",
    "#plt.show()\n",
    "freq_ampli3i['Ampli'] = np.log(freq_ampli3i[\"Ampli\"])\n",
    "freq_ampli3i = freq_ampli3i.loc[freq_ampli3i['Ampli'] != float('-inf')]\n",
    "freq_ampli3i = freq_ampli3i.fillna(0)\n",
    "plt.scatter(freq_ampli3i['Freq'], freq_ampli3i['Ampli'])\n",
    "plt.show()"
   ]
  },
  {
   "cell_type": "code",
   "execution_count": 69,
   "metadata": {},
   "outputs": [
    {
     "data": {
      "text/plain": [
       "(102, 2)"
      ]
     },
     "execution_count": 69,
     "metadata": {},
     "output_type": "execute_result"
    }
   ],
   "source": [
    "np.shape(freq_ampli3i)"
   ]
  },
  {
   "cell_type": "code",
   "execution_count": 70,
   "metadata": {},
   "outputs": [],
   "source": [
    "def GMM_fit(df):\n",
    "    dfx = df\n",
    "    lowest_bic = np.infty\n",
    "    bic = []\n",
    "    n_components_range = range(1, 50)\n",
    "    cv_types = ['spherical', 'tied', 'diag', 'full']\n",
    "    for cv_type in cv_types:\n",
    "        for n_components in n_components_range:\n",
    "            # Fit a Gaussian mixture with EM\n",
    "            gmm = mixture.GaussianMixture(n_components=n_components,\n",
    "                                          covariance_type=cv_type)\n",
    "            gmm.fit(dfx)\n",
    "            bic.append(gmm.bic(dfx))\n",
    "            if bic[-1] < lowest_bic:\n",
    "                lowest_bic = bic[-1]\n",
    "                best_gmm = gmm\n",
    "    return best_gmm"
   ]
  },
  {
   "cell_type": "code",
   "execution_count": 71,
   "metadata": {},
   "outputs": [],
   "source": [
    "#best_gmm0 = GMM_fit(freq_ampli3)                        # GMM on real part of FFT data\n",
    "best_gmm0i = GMM_fit(freq_ampli3i)                      # GMM on imaginary part of FFT data"
   ]
  },
  {
   "cell_type": "code",
   "execution_count": 72,
   "metadata": {},
   "outputs": [
    {
     "data": {
      "text/plain": [
       "\"print(best_gmm0, '\\n')\\nprint('WEIGHTS -', best_gmm0.weights_, '\\n')\\nprint('MEANS (Col 1: Freq; Col 2: Amplitude) - \\n',best_gmm0.means_, '\\n')\""
      ]
     },
     "execution_count": 72,
     "metadata": {},
     "output_type": "execute_result"
    }
   ],
   "source": [
    "'''print(best_gmm0, '\\n')\n",
    "print('WEIGHTS -', best_gmm0.weights_, '\\n')\n",
    "print('MEANS (Col 1: Freq; Col 2: Amplitude) - \\n',best_gmm0.means_, '\\n')'''"
   ]
  },
  {
   "cell_type": "code",
   "execution_count": 73,
   "metadata": {},
   "outputs": [
    {
     "name": "stdout",
     "output_type": "stream",
     "text": [
      "GaussianMixture(covariance_type='tied', n_components=3) \n",
      "\n",
      "WEIGHTS - [0.24509804 0.50980392 0.24509804] \n",
      "\n",
      "MEANS (Col 1: Freq; Col 2: Amplitude) - \n",
      " [[0.248      2.2524033 ]\n",
      " [0.24807692 0.        ]\n",
      " [0.256      1.77119148]] \n",
      "\n"
     ]
    }
   ],
   "source": [
    "print(best_gmm0i, '\\n')\n",
    "print('WEIGHTS -', best_gmm0i.weights_, '\\n')\n",
    "print('MEANS (Col 1: Freq; Col 2: Amplitude) - \\n',best_gmm0i.means_, '\\n')"
   ]
  },
  {
   "cell_type": "code",
   "execution_count": 74,
   "metadata": {},
   "outputs": [],
   "source": [
    "#Sampling\n",
    "#z1,_ = best_gmm0.sample(126)\n",
    "z1i,_ = best_gmm0i.sample(126)"
   ]
  },
  {
   "cell_type": "code",
   "execution_count": 75,
   "metadata": {},
   "outputs": [
    {
     "data": {
      "text/plain": [
       "\"fig, ax = plt.subplots(2, sharex='all', sharey='all')\\nax[0].scatter(freq_ampli3['Freq'], freq_ampli3['Ampli'])\\n#plt.show()\\nax[1].scatter(z1[:, 0], z1[:, 1])\\nplt.show()\""
      ]
     },
     "execution_count": 75,
     "metadata": {},
     "output_type": "execute_result"
    }
   ],
   "source": [
    "'''fig, ax = plt.subplots(2, sharex='all', sharey='all')\n",
    "ax[0].scatter(freq_ampli3['Freq'], freq_ampli3['Ampli'])\n",
    "#plt.show()\n",
    "ax[1].scatter(z1[:, 0], z1[:, 1])\n",
    "plt.show()'''"
   ]
  },
  {
   "cell_type": "code",
   "execution_count": 76,
   "metadata": {},
   "outputs": [
    {
     "data": {
      "image/png": "[encoded data removed]",
      "text/plain": [
       "<Figure size 432x288 with 2 Axes>"
      ]
     },
     "metadata": {},
     "output_type": "display_data"
    }
   ],
   "source": [
    "fig, ax = plt.subplots(2, sharex='all', sharey='all')\n",
    "ax[0].scatter(freq_ampli3i['Freq'], freq_ampli3i['Ampli'])\n",
    "#plt.show()\n",
    "ax[1].scatter(z1i[:, 0], z1i[:, 1])\n",
    "plt.show()"
   ]
  },
  {
   "cell_type": "code",
   "execution_count": 77,
   "metadata": {},
   "outputs": [],
   "source": [
    "#print('Real: ', wasserstein_distance(freq_ampli3['Ampli'], z1[:, 1]))\n",
    "#print('Imag: ', wasserstein_distance(freq_ampli3i['Ampli'], z1i[:, 1]))"
   ]
  },
  {
   "cell_type": "code",
   "execution_count": 78,
   "metadata": {},
   "outputs": [],
   "source": [
    "z1i[:, 1] = np.exp(z1i[:, 1])"
   ]
  },
  {
   "cell_type": "code",
   "execution_count": 79,
   "metadata": {},
   "outputs": [
    {
     "data": {
      "text/plain": [
       "\"plt.figure(figsize=(20,10))\\nsns.distplot(freq_ampli3['Ampli'], kde = True)\\nsns.distplot(z1[:, 1], kde = True)\\n#plt.ylim(0.0, 0.2)\\nplt.show()\""
      ]
     },
     "execution_count": 79,
     "metadata": {},
     "output_type": "execute_result"
    }
   ],
   "source": [
    "'''plt.figure(figsize=(20,10))\n",
    "sns.distplot(freq_ampli3['Ampli'], kde = True)\n",
    "sns.distplot(z1[:, 1], kde = True)\n",
    "#plt.ylim(0.0, 0.2)\n",
    "plt.show()'''"
   ]
  },
  {
   "cell_type": "code",
   "execution_count": 80,
   "metadata": {},
   "outputs": [],
   "source": [
    "#sample_1 = pd.DataFrame(zip(z1[:,0],z1[:,1]),columns=['Freq','Ampli'])           \n",
    "sample_1i = pd.DataFrame(zip(z1i[:,0],z1i[:,1]),columns=['Freq','Ampli'])"
   ]
  },
  {
   "cell_type": "code",
   "execution_count": 81,
   "metadata": {},
   "outputs": [],
   "source": [
    "#sample_1 = sample_1.sort_values(by=['Freq'],ascending=True)     \n",
    "#sample_1 = sample_1[sample_1.Freq > 0]                           \n",
    "sample_1i = sample_1i.sort_values(by=['Freq'],ascending=True)\n",
    "sample_1i = sample_1i[sample_1i.Freq > 0]                        "
   ]
  },
  {
   "cell_type": "code",
   "execution_count": 82,
   "metadata": {},
   "outputs": [],
   "source": [
    "#sample_1 = sample_1[(sample_1.Ampli>1) | (sample_1.Ampli<-1)]\n",
    "#sample_1i = sample_1i[(sample_1i.Ampli>1) | (sample_1i.Ampli<-1)]"
   ]
  },
  {
   "cell_type": "code",
   "execution_count": 83,
   "metadata": {},
   "outputs": [],
   "source": [
    "f = fftpack.fftfreq(250)                                    # The frequency corresponding to each value in FFT is stored in 'f'"
   ]
  },
  {
   "cell_type": "code",
   "execution_count": 84,
   "metadata": {},
   "outputs": [],
   "source": [
    "sd = dict(zip(np.round(f,3),np.zeros(len(f))))"
   ]
  },
  {
   "cell_type": "code",
   "execution_count": 85,
   "metadata": {},
   "outputs": [],
   "source": [
    "#sample_1.Freq = sample_1.Freq.apply(lambda x:round(x,3))       \n",
    "sample_1i.Freq = sample_1i.Freq.apply(lambda x:round(x,3))"
   ]
  },
  {
   "cell_type": "code",
   "execution_count": 86,
   "metadata": {},
   "outputs": [],
   "source": [
    "#samp_1 = dict(zip(sample_1.Freq,sample_1.Ampli))\n",
    "samp_1i = dict(zip(sample_1i.Freq,sample_1i.Ampli))"
   ]
  },
  {
   "cell_type": "code",
   "execution_count": 87,
   "metadata": {},
   "outputs": [
    {
     "data": {
      "text/plain": [
       "'for i in samp_1.keys():\\n    if i in sd:\\n        sd[i] = samp_1[i]\\n        sd[-i] = samp_1[i]\\n    elif i+0.001 in sd:\\n        sd[i+0.001] = samp_1[i]\\n        sd[-(i+0.001)] = samp_1[i]\\n    elif i-0.001 in sd:\\n        sd[i-0.001] = samp_1[i]\\n        sd[-(i-0.001)] = samp_1[i]\\nsd'"
      ]
     },
     "execution_count": 87,
     "metadata": {},
     "output_type": "execute_result"
    }
   ],
   "source": [
    "'''for i in samp_1.keys():\n",
    "    if i in sd:\n",
    "        sd[i] = samp_1[i]\n",
    "        sd[-i] = samp_1[i]\n",
    "    elif i+0.001 in sd:\n",
    "        sd[i+0.001] = samp_1[i]\n",
    "        sd[-(i+0.001)] = samp_1[i]\n",
    "    elif i-0.001 in sd:\n",
    "        sd[i-0.001] = samp_1[i]\n",
    "        sd[-(i-0.001)] = samp_1[i]\n",
    "sd'''"
   ]
  },
  {
   "cell_type": "code",
   "execution_count": 88,
   "metadata": {},
   "outputs": [
    {
     "data": {
      "text/plain": [
       "{0.0: 0.0,\n",
       " 0.004: 0.0,\n",
       " 0.008: 1.0011138672415902j,\n",
       " 0.012: 5.874739848578015j,\n",
       " 0.016: 0.0,\n",
       " 0.02: 1.9996834196248279j,\n",
       " 0.024: 0.0,\n",
       " 0.028: 0.0,\n",
       " 0.032: 0.0,\n",
       " 0.036: 0.0,\n",
       " 0.04: 0.0,\n",
       " 0.044: 0.0,\n",
       " 0.048: 0.0,\n",
       " 0.052: 0.0,\n",
       " 0.056: 0.0,\n",
       " 0.06: 9.500747899963802j,\n",
       " 0.064: 0.0,\n",
       " 0.068: 0.0,\n",
       " 0.072: 0.0,\n",
       " 0.076: 1.0003264581316578j,\n",
       " 0.08: 0.0,\n",
       " 0.084: 0.0,\n",
       " 0.088: 0.0,\n",
       " 0.092: 0.0,\n",
       " 0.096: 9.51552389197607j,\n",
       " 0.1: 0.0,\n",
       " 0.104: 5.873269825338143j,\n",
       " 0.108: 9.495249771973498j,\n",
       " 0.112: 0.0,\n",
       " 0.116: 0.0,\n",
       " 0.12: 0.0,\n",
       " 0.124: 1.0016879108417844j,\n",
       " 0.128: 0.0,\n",
       " 0.132: 0.0,\n",
       " 0.136: 5.874110617592583j,\n",
       " 0.14: 0.0,\n",
       " 0.144: 5.889383087626093j,\n",
       " 0.148: 5.873045798917836j,\n",
       " 0.152: 0.0,\n",
       " 0.156: 1.0010095924604965j,\n",
       " 0.16: 5.884147898989458j,\n",
       " 0.164: 10.507958417930555j,\n",
       " 0.168: 9.527773718225859j,\n",
       " 0.172: 0.0,\n",
       " 0.176: 1.000348658691812j,\n",
       " 0.18: 6.872547730891905j,\n",
       " 0.184: 0.0,\n",
       " 0.188: 0.0,\n",
       " 0.192: 0.0,\n",
       " 0.196: 0.9995584593976733j,\n",
       " 0.2: 0.0,\n",
       " 0.204: 5.873332543561886j,\n",
       " 0.208: 1.0003517036618308j,\n",
       " 0.212: 0.0,\n",
       " 0.216: 0.0,\n",
       " 0.22: 10.515513239257867j,\n",
       " 0.224: 0.0,\n",
       " 0.228: 0.0,\n",
       " 0.232: 19.02568184170515j,\n",
       " 0.236: 0.0,\n",
       " 0.24: 9.513863825950828j,\n",
       " 0.244: 3.0024333507653713j,\n",
       " 0.248: 0.0,\n",
       " 0.252: 0.9995916431722902j,\n",
       " 0.256: 5.8741058195823275j,\n",
       " 0.26: 0.0,\n",
       " 0.264: 0.0,\n",
       " 0.268: 5.869371526516058j,\n",
       " 0.272: 1.0001344724845942j,\n",
       " 0.276: 5.8740198225730476j,\n",
       " 0.28: 1.0002321146351385j,\n",
       " 0.284: 0.9987567433374526j,\n",
       " 0.288: 0.9988085189263345j,\n",
       " 0.292: 2.001511164202669j,\n",
       " 0.296: 5.878675162555911j,\n",
       " 0.3: 5.867262284916421j,\n",
       " 0.304: 9.52574792428147j,\n",
       " 0.308: 0.0,\n",
       " 0.312: 0.0,\n",
       " 0.316: 6.879886822317548j,\n",
       " 0.32: 0.0,\n",
       " 0.324: 0.0,\n",
       " 0.328: 0.0,\n",
       " 0.332: 9.510304785960063j,\n",
       " 0.336: 1.001299648278418j,\n",
       " 0.34: 0.0,\n",
       " 0.344: 0.0,\n",
       " 0.348: 0.0,\n",
       " 0.352: 0.0,\n",
       " 0.356: 5.876340567532107j,\n",
       " 0.36: 0.0,\n",
       " 0.364: 7.876641295854785j,\n",
       " 0.368: 2.001753120352994j,\n",
       " 0.372: 18.99991568668731j,\n",
       " 0.376: 0.0,\n",
       " 0.38: 0.0,\n",
       " 0.384: 0.9987031535032627j,\n",
       " 0.388: 0.0,\n",
       " 0.392: 9.519655819703607j,\n",
       " 0.396: 0.0,\n",
       " 0.4: 1.0007113617168848j,\n",
       " 0.404: 0.0,\n",
       " 0.408: 0.0,\n",
       " 0.412: 5.884548489745017j,\n",
       " 0.416: 15.380957723689537j,\n",
       " 0.42: 0.0,\n",
       " 0.424: 9.49545470838862j,\n",
       " 0.428: 9.512857352441134j,\n",
       " 0.432: 1.0014001615019352j,\n",
       " 0.436: 0.0,\n",
       " 0.44: 0.0,\n",
       " 0.444: 15.391223346773453j,\n",
       " 0.448: 0.0,\n",
       " 0.452: 0.0,\n",
       " 0.456: 5.877775618097687j,\n",
       " 0.46: 0.0,\n",
       " 0.464: 0.0,\n",
       " 0.468: 1.000047021431131j,\n",
       " 0.472: 0.0,\n",
       " 0.476: 0.0,\n",
       " 0.48: 0.0,\n",
       " 0.484: 9.503409191876436j,\n",
       " 0.488: 0.0,\n",
       " 0.492: 0.0,\n",
       " 0.496: 0.0,\n",
       " -0.5: 0.0,\n",
       " -0.496: 0.0,\n",
       " -0.492: 0.0,\n",
       " -0.488: 0.0,\n",
       " -0.484: 0j,\n",
       " -0.48: 0.0,\n",
       " -0.476: 0.0,\n",
       " -0.472: 0.0,\n",
       " -0.468: 0j,\n",
       " -0.464: 0.0,\n",
       " -0.46: 0.0,\n",
       " -0.456: 0j,\n",
       " -0.452: 0.0,\n",
       " -0.448: 0.0,\n",
       " -0.444: 5.878143591415309j,\n",
       " -0.44: 0.0,\n",
       " -0.436: 0.0,\n",
       " -0.432: 0j,\n",
       " -0.428: 0j,\n",
       " -0.424: 0j,\n",
       " -0.42: 0.0,\n",
       " -0.416: 9.512420710796887j,\n",
       " -0.412: 0j,\n",
       " -0.408: 0.0,\n",
       " -0.404: 0.0,\n",
       " -0.4: 0j,\n",
       " -0.396: 0.0,\n",
       " -0.392: 0j,\n",
       " -0.388: 0.0,\n",
       " -0.384: 0j,\n",
       " -0.38: 0.0,\n",
       " -0.376: 0.0,\n",
       " -0.372: 9.50487209477081j,\n",
       " -0.368: 1.0005063160001593j,\n",
       " -0.364: 6.87632490658966j,\n",
       " -0.36: 0.0,\n",
       " -0.356: 0j,\n",
       " -0.352: 0.0,\n",
       " -0.348: 0.0,\n",
       " -0.344: 0.0,\n",
       " -0.34: 0.0,\n",
       " -0.336: 0j,\n",
       " -0.332: 0j,\n",
       " -0.328: 0.0,\n",
       " -0.324: 0.0,\n",
       " -0.32: 0.0,\n",
       " -0.316: 5.879787073533967j,\n",
       " -0.312: 0.0,\n",
       " -0.308: 0.0,\n",
       " -0.304: 0j,\n",
       " -0.3: 0j,\n",
       " -0.296: 0j,\n",
       " -0.292: 1.0009416810784786j,\n",
       " -0.288: 0j,\n",
       " -0.284: 0j,\n",
       " -0.28: 0j,\n",
       " -0.276: 0j,\n",
       " -0.272: 0j,\n",
       " -0.268: 0j,\n",
       " -0.264: 0.0,\n",
       " -0.26: 0.0,\n",
       " -0.256: 0j,\n",
       " -0.252: 0j,\n",
       " -0.248: 0.0,\n",
       " -0.244: 2.0021132046959655j,\n",
       " -0.24: 0j,\n",
       " -0.236: 0.0,\n",
       " -0.232: 9.509255409272127j,\n",
       " -0.228: 0.0,\n",
       " -0.224: 0.0,\n",
       " -0.22: 9.516133985856808j,\n",
       " -0.216: 0.0,\n",
       " -0.212: 0.0,\n",
       " -0.208: 0j,\n",
       " -0.204: 0j,\n",
       " -0.2: 0.0,\n",
       " -0.196: 0j,\n",
       " -0.192: 0.0,\n",
       " -0.188: 0.0,\n",
       " -0.184: 0.0,\n",
       " -0.18: 5.87327708227059j,\n",
       " -0.176: 0j,\n",
       " -0.172: 0.0,\n",
       " -0.168: 0j,\n",
       " -0.164: 1.0009632029480908j,\n",
       " -0.16: 0j,\n",
       " -0.156: 0j,\n",
       " -0.152: 0.0,\n",
       " -0.148: 0j,\n",
       " -0.144: 0j,\n",
       " -0.14: 0.0,\n",
       " -0.136: 0j,\n",
       " -0.132: 0.0,\n",
       " -0.128: 0.0,\n",
       " -0.124: 0j,\n",
       " -0.12: 0.0,\n",
       " -0.116: 0.0,\n",
       " -0.112: 0.0,\n",
       " -0.108: 0j,\n",
       " -0.104: 0j,\n",
       " -0.1: 0.0,\n",
       " -0.096: 0j,\n",
       " -0.092: 0.0,\n",
       " -0.088: 0.0,\n",
       " -0.084: 0.0,\n",
       " -0.08: 0.0,\n",
       " -0.076: 0j,\n",
       " -0.072: 0.0,\n",
       " -0.068: 0.0,\n",
       " -0.064: 0.0,\n",
       " -0.06: 0j,\n",
       " -0.056: 0.0,\n",
       " -0.052: 0.0,\n",
       " -0.048: 0.0,\n",
       " -0.044: 0.0,\n",
       " -0.04: 0.0,\n",
       " -0.036: 0.0,\n",
       " -0.032: 0.0,\n",
       " -0.028: 0.0,\n",
       " -0.024: 0.0,\n",
       " -0.02: 1.0003779562001829j,\n",
       " -0.016: 0.0,\n",
       " -0.012: 0j,\n",
       " -0.008: 0j,\n",
       " -0.004: 0.0}"
      ]
     },
     "execution_count": 88,
     "metadata": {},
     "output_type": "execute_result"
    }
   ],
   "source": [
    "for i in samp_1i.keys():\n",
    "    if i in sd:\n",
    "        sd[i] = complex(sd[i],samp_1i[i])\n",
    "        sd[-i] = complex(sd[i],-(samp_1i[i]))\n",
    "    elif i+0.001 in sd:\n",
    "        sd[i+0.001] = complex(sd[i+0.001],samp_1i[i])\n",
    "        sd[-(i+0.001)] = complex(sd[i+0.001],-(samp_1i[i]))\n",
    "    elif i-0.001 in sd:\n",
    "        sd[i-0.001] = complex(sd[i-0.001],samp_1i[i])\n",
    "        sd[-(i-0.001)] = complex(sd[i-0.001],-(samp_1i[i]))\n",
    "sd"
   ]
  },
  {
   "cell_type": "code",
   "execution_count": 89,
   "metadata": {},
   "outputs": [],
   "source": [
    "value = list(sd.values())"
   ]
  },
  {
   "cell_type": "markdown",
   "metadata": {},
   "source": [
    "# Final IFFT "
   ]
  },
  {
   "cell_type": "code",
   "execution_count": 90,
   "metadata": {},
   "outputs": [
    {
     "data": {
      "text/plain": [
       "[<matplotlib.lines.Line2D at 0x17f34eff8b0>]"
      ]
     },
     "execution_count": 90,
     "metadata": {},
     "output_type": "execute_result"
    },
    {
     "data": {
      "image/png": "[encoded data removed]",
      "text/plain": [
       "<Figure size 432x288 with 1 Axes>"
      ]
     },
     "metadata": {},
     "output_type": "display_data"
    }
   ],
   "source": [
    "ift = fft.ifft(value)\n",
    "plt.title('IFFT')\n",
    "plt.plot(signal_3['Time'], signal_3['Value'])\n",
    "plt.plot(x,ift)"
   ]
  },
  {
   "cell_type": "markdown",
   "metadata": {},
   "source": [
    "# Cepstrum"
   ]
  },
  {
   "cell_type": "code",
   "execution_count": 91,
   "metadata": {},
   "outputs": [
    {
     "data": {
      "text/plain": [
       "<matplotlib.collections.PathCollection at 0x17f34f5e0a0>"
      ]
     },
     "execution_count": 91,
     "metadata": {},
     "output_type": "execute_result"
    },
    {
     "data": {
      "image/png": "[encoded data removed]",
      "text/plain": [
       "<Figure size 432x288 with 1 Axes>"
      ]
     },
     "metadata": {},
     "output_type": "display_data"
    }
   ],
   "source": [
    "frame_size = signal_3.shape[0]\n",
    "Fs = 1\n",
    "dt = 1/Fs\n",
    "freq_vector = np.fft.rfftfreq(frame_size, d=dt)\n",
    "y = np.array(signal_3['Value'])\n",
    "yf = fftpack.fft(y)\n",
    "yf1 = yf[yf != 0]\n",
    "quefrency = np.fft.rfftfreq(np.log(yf1).size,freq_vector[1] - freq_vector[0])\n",
    "cepstrum = np.fft.rfft(np.log(np.abs(yf1)))\n",
    "cep = pd.DataFrame(zip(quefrency,cepstrum.real),columns=['Quefrency','Cepstrum'])\n",
    "cep = cep.iloc[1:,:]\n",
    "plt.scatter(cep.Quefrency,cep.Cepstrum)"
   ]
  },
  {
   "cell_type": "code",
   "execution_count": 92,
   "metadata": {},
   "outputs": [],
   "source": [
    "dfx = cep\n",
    "lowest_bic = np.infty\n",
    "bic = []\n",
    "n_components_range = range(1, 50)\n",
    "cv_types = ['spherical', 'tied', 'diag', 'full']\n",
    "for cv_type in cv_types:\n",
    "    for n_components in n_components_range:\n",
    "        # Fit a Gaussian mixture with EM\n",
    "        gmm = mixture.GaussianMixture(n_components=n_components,\n",
    "                                      covariance_type=cv_type)\n",
    "        gmm.fit(dfx)\n",
    "        bic.append(gmm.bic(dfx))\n",
    "        if bic[-1] < lowest_bic:\n",
    "            lowest_bic = bic[-1]\n",
    "            best_gmm3 = gmm"
   ]
  },
  {
   "cell_type": "code",
   "execution_count": 93,
   "metadata": {},
   "outputs": [
    {
     "name": "stdout",
     "output_type": "stream",
     "text": [
      "GaussianMixture(n_components=48) \n",
      "\n",
      "WEIGHTS - [0.03902589 0.01960784 0.00980392 0.01960784 0.03923521 0.01960781\n",
      " 0.03921006 0.02941176 0.01960784 0.03929811 0.01960752 0.01960783\n",
      " 0.01960784 0.01960784 0.02929294 0.00980392 0.00980392 0.01960784\n",
      " 0.01960784 0.00980392 0.01960779 0.02937989 0.02942687 0.00980392\n",
      " 0.01960784 0.01960778 0.0293268  0.01960784 0.02960152 0.00980392\n",
      " 0.00980392 0.00980392 0.00980392 0.0295363  0.01960765 0.02924678\n",
      " 0.01960784 0.0490326  0.00980392 0.00980392 0.0393681  0.00980392\n",
      " 0.00980392 0.01960784 0.01960784 0.00980392 0.00980392 0.01960784] \n",
      "\n",
      "MEANS (Col 1: Freq; Col 2: Amplitude) - \n",
      " [[  12.15387023   18.60139576]\n",
      " [  65.85365854  -58.69235001]\n",
      " [  93.90243902   72.5365566 ]\n",
      " [  15.85365854  129.31341482]\n",
      " [  65.53680426   -7.70030617]\n",
      " [  37.8048684   -71.24013141]\n",
      " [ 114.02402683  -85.39529468]\n",
      " [  36.58536585 -132.94957562]\n",
      " [ 118.9024379    11.86099317]\n",
      " [ 101.21215039   31.19359922]\n",
      " [  47.56101278   33.63350922]\n",
      " [  32.31707504  -22.85508889]\n",
      " [ 118.90243902   96.72926255]\n",
      " [  76.82926829  120.84032147]\n",
      " [  98.39755495  -91.69498235]\n",
      " [  26.82926829  100.24293687]\n",
      " [ 103.65853659  -51.36008773]\n",
      " [  45.12195122   84.1062387 ]\n",
      " [  71.95122117   18.6521199 ]\n",
      " [   7.31707317  -33.28168004]\n",
      " [  90.24388692  -71.92955848]\n",
      " [  15.03955615    1.38039589]\n",
      " [  75.60177287   56.5444621 ]\n",
      " [   2.43902439  164.45745832]\n",
      " [  79.26829268 -105.44640674]\n",
      " [  85.36587162  -35.97740441]\n",
      " [ 116.26422362   44.67448353]\n",
      " [  95.12195236   -2.25514341]\n",
      " [  32.04062326   25.13769015]\n",
      " [  19.51219512  -54.63180587]\n",
      " [  34.14634146  128.32546726]\n",
      " [  60.97560976 -148.0508234 ]\n",
      " [   1.2195122   103.63340586]\n",
      " [  68.39954055  -84.77187518]\n",
      " [  53.65854381  -15.95649731]\n",
      " [  60.99482155   48.99423802]\n",
      " [ 101.2195122   111.66133219]\n",
      " [  36.57016218   -8.05074333]\n",
      " [ 106.09756098   82.68352988]\n",
      " [   4.87804878  -13.80678656]\n",
      " [  86.81537937   46.22166353]\n",
      " [  12.19512195 -131.37328994]\n",
      " [  47.56097561  -42.14501169]\n",
      " [ 118.90243902  -67.01844887]\n",
      " [  52.43902439  131.11274174]\n",
      " [   3.65853659   32.86473756]\n",
      " [  14.63414634  113.0517409 ]\n",
      " [  20.12195121  -19.76778278]] \n",
      "\n"
     ]
    }
   ],
   "source": [
    "print(best_gmm3, '\\n')\n",
    "print('WEIGHTS -', best_gmm3.weights_, '\\n')\n",
    "print('MEANS (Col 1: Freq; Col 2: Amplitude) - \\n', best_gmm3.means_, '\\n')"
   ]
  },
  {
   "cell_type": "code",
   "execution_count": 94,
   "metadata": {},
   "outputs": [
    {
     "data": {
      "image/png": "[encoded data removed]",
      "text/plain": [
       "<Figure size 432x288 with 1 Axes>"
      ]
     },
     "metadata": {},
     "output_type": "display_data"
    }
   ],
   "source": [
    "z3,_ = best_gmm3.sample(125)\n",
    "plt.title('Actual data')\n",
    "plt.scatter(cep['Quefrency'], cep['Cepstrum'])\n",
    "#plt.show()\n",
    "plt.title('Values given by GMM')\n",
    "plt.scatter(z3[:,0],z3[:,1])\n",
    "plt.show()"
   ]
  },
  {
   "cell_type": "code",
   "execution_count": 95,
   "metadata": {},
   "outputs": [
    {
     "data": {
      "text/plain": [
       "6.916211331001433"
      ]
     },
     "execution_count": 95,
     "metadata": {},
     "output_type": "execute_result"
    }
   ],
   "source": [
    "wasserstein_distance(cep['Cepstrum'], z3[:, 1])"
   ]
  },
  {
   "cell_type": "code",
   "execution_count": 96,
   "metadata": {},
   "outputs": [
    {
     "data": {
      "text/plain": [
       "(3190,)"
      ]
     },
     "execution_count": 96,
     "metadata": {},
     "output_type": "execute_result"
    }
   ],
   "source": [
    "def dim(df):\n",
    "    d = []\n",
    "    for i,j in df.values.tolist():\n",
    "        for k in range(round(j)):\n",
    "            d.append(i)\n",
    "    return d\n",
    "list(np.array(cep))\n",
    "c = dim(cep)\n",
    "cep.sort_values(by=['Cepstrum'],ascending = False)\n",
    "np.shape(c)"
   ]
  },
  {
   "cell_type": "code",
   "execution_count": 97,
   "metadata": {},
   "outputs": [
    {
     "data": {
      "image/png": "[encoded data removed]",
      "text/plain": [
       "<Figure size 432x288 with 1 Axes>"
      ]
     },
     "metadata": {},
     "output_type": "display_data"
    },
    {
     "data": {
      "text/plain": [
       "<AxesSubplot:ylabel='Density'>"
      ]
     },
     "execution_count": 97,
     "metadata": {},
     "output_type": "execute_result"
    },
    {
     "data": {
      "image/png": "[encoded data removed]",
      "text/plain": [
       "<Figure size 432x288 with 1 Axes>"
      ]
     },
     "metadata": {},
     "output_type": "display_data"
    }
   ],
   "source": [
    "plt.scatter(cep['Quefrency'], cep['Cepstrum'])\n",
    "plt.show()\n",
    "sns.distplot(c)"
   ]
  },
  {
   "cell_type": "code",
   "execution_count": 98,
   "metadata": {},
   "outputs": [],
   "source": [
    "c = np.array(c).reshape(-1,1)\n",
    "def GMM_fit(df):\n",
    "    dfx = df\n",
    "    lowest_bic = np.infty\n",
    "    bic = []\n",
    "    n_components_range = range(1, 50)\n",
    "    cv_types = ['spherical', 'tied', 'diag', 'full']\n",
    "    for cv_type in cv_types:\n",
    "        for n_components in n_components_range:\n",
    "            # Fit a Gaussian mixture with EM\n",
    "            gmm = mixture.GaussianMixture(n_components=n_components,\n",
    "                                          covariance_type=cv_type)\n",
    "            gmm.fit(dfx)\n",
    "            bic.append(gmm.bic(dfx))\n",
    "            if bic[-1] < lowest_bic:\n",
    "                lowest_bic = bic[-1]\n",
    "                best_gmm = gmm\n",
    "    return best_gmm\n",
    "best_gmm22 = GMM_fit(c)"
   ]
  },
  {
   "cell_type": "code",
   "execution_count": 99,
   "metadata": {},
   "outputs": [
    {
     "name": "stdout",
     "output_type": "stream",
     "text": [
      "GaussianMixture(covariance_type='diag', n_components=49) \n",
      "\n",
      "WEIGHTS - [0.03542304 0.03605016 0.04169279 0.02884013 0.04012539 0.01755486\n",
      " 0.05141066 0.04043887 0.0338558  0.03761755 0.03134794 0.01630094\n",
      " 0.04106583 0.04012343 0.02789969 0.01097179 0.02539207 0.01818182\n",
      " 0.01410658 0.01003161 0.00501567 0.01128527 0.01285266 0.02288401\n",
      " 0.00626959 0.00909091 0.03260188 0.03824451 0.02601881 0.03166144\n",
      " 0.00689655 0.01943574 0.00470219 0.01473354 0.01410658 0.01473354\n",
      " 0.01504702 0.01473328 0.00720993 0.01442006 0.01034483 0.01316614\n",
      " 0.01128505 0.00658534 0.01003135 0.00721003 0.00909091 0.00595608\n",
      " 0.00595611] \n",
      "\n",
      "MEANS (Col 1: Freq; Col 2: Amplitude) - \n",
      " [[ 14.63414634]\n",
      " [ 95.12195122]\n",
      " [ 58.53658537]\n",
      " [118.29268293]\n",
      " [ 34.14634146]\n",
      " [ 75.6097561 ]\n",
      " [  2.43902439]\n",
      " [ 46.34146341]\n",
      " [107.31707317]\n",
      " [ 82.92682927]\n",
      " [ 26.82926829]\n",
      " [ 69.51219512]\n",
      " [  9.75609756]\n",
      " [ 21.95121951]\n",
      " [ 39.02439024]\n",
      " [100.        ]\n",
      " [ 51.27972388]\n",
      " [ 63.41463415]\n",
      " [ 87.80487805]\n",
      " [112.46185239]\n",
      " [124.3902439 ]\n",
      " [102.43902439]\n",
      " [114.63414634]\n",
      " [ 93.90243902]\n",
      " [  6.09756098]\n",
      " [ 90.24390244]\n",
      " [  1.2195122 ]\n",
      " [ 70.73170732]\n",
      " [106.09756098]\n",
      " [119.51219512]\n",
      " [ 78.04878049]\n",
      " [ 81.70731707]\n",
      " [ 65.85365854]\n",
      " [ 62.19512195]\n",
      " [ 74.3902439 ]\n",
      " [ 86.58536585]\n",
      " [ 98.7804878 ]\n",
      " [110.97560976]\n",
      " [ 25.6097561 ]\n",
      " [123.17073171]\n",
      " [  3.65853659]\n",
      " [ 57.31707317]\n",
      " [ 50.        ]\n",
      " [ 19.91924812]\n",
      " [ 45.12195122]\n",
      " [ 32.92682927]\n",
      " [ 37.80487805]\n",
      " [ 13.41463415]\n",
      " [  8.53658537]] \n",
      "\n"
     ]
    }
   ],
   "source": [
    "print(best_gmm22, '\\n')\n",
    "print('WEIGHTS -', best_gmm22.weights_, '\\n')\n",
    "print('MEANS (Col 1: Freq; Col 2: Amplitude) - \\n', best_gmm22.means_, '\\n')"
   ]
  },
  {
   "cell_type": "code",
   "execution_count": 100,
   "metadata": {},
   "outputs": [
    {
     "data": {
      "image/png": "[encoded data removed]",
      "text/plain": [
       "<Figure size 432x288 with 1 Axes>"
      ]
     },
     "metadata": {},
     "output_type": "display_data"
    }
   ],
   "source": [
    "z22,_ = best_gmm22.sample(3190)\n",
    "plt.title('Actual data')\n",
    "sns.distplot(c)\n",
    "#plt.show()\n",
    "plt.title('Values given by GMM')\n",
    "sns.distplot(z22)\n",
    "plt.show()"
   ]
  },
  {
   "cell_type": "code",
   "execution_count": 101,
   "metadata": {},
   "outputs": [
    {
     "data": {
      "text/plain": [
       "0.9031630781899312"
      ]
     },
     "execution_count": 101,
     "metadata": {},
     "output_type": "execute_result"
    }
   ],
   "source": [
    "wasserstein_distance(c.flatten(), z22.flatten())"
   ]
  },
  {
   "cell_type": "code",
   "execution_count": null,
   "metadata": {},
   "outputs": [],
   "source": []
  }
 ],
 "metadata": {
  "kernelspec": {
   "display_name": "Python 3",
   "language": "python",
   "name": "python3"
  },
  "language_info": {
   "codemirror_mode": {
    "name": "ipython",
    "version": 3
   },
   "file_extension": ".py",
   "mimetype": "text/x-python",
   "name": "python",
   "nbconvert_exporter": "python",
   "pygments_lexer": "ipython3",
   "version": "3.8.5"
  }
 },
 "nbformat": 4,
 "nbformat_minor": 4
}
