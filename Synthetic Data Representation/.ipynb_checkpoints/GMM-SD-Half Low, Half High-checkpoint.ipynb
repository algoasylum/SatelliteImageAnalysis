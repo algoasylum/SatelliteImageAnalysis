{
 "cells": [
  {
   "cell_type": "code",
   "execution_count": 1,
   "metadata": {},
   "outputs": [],
   "source": [
    "import numpy as np\n",
    "import pandas as pd\n",
    "import seaborn as sns\n",
    "import matplotlib.pyplot as plt\n",
    "import plotly.express as px\n",
    "import plotly.figure_factory as ff\n",
    "import plotly.graph_objects as go\n",
    "from plotly.subplots import make_subplots\n",
    "from scipy import fftpack\n",
    "import datetime\n",
    "from sklearn import mixture"
   ]
  },
  {
   "cell_type": "code",
   "execution_count": 2,
   "metadata": {},
   "outputs": [
    {
     "data": {
      "image/png": "[encoded data removed]",
      "text/plain": [
       "<Figure size 720x432 with 1 Axes>"
      ]
     },
     "metadata": {
      "needs_background": "light"
     },
     "output_type": "display_data"
    }
   ],
   "source": [
    "x = np.arange(0, 250)\n",
    "y = np.linspace(50, 50, 250)\n",
    "y1 = 100\n",
    "for i in range (125, 250):\n",
    "    y[i] = y1\n",
    "sd = y\n",
    "plt.figure(figsize=(10,6))\n",
    "plt.plot(x, y)\n",
    "plt.title(\"Synthetic Data\")\n",
    "plt.show()"
   ]
  },
  {
   "cell_type": "code",
   "execution_count": 3,
   "metadata": {},
   "outputs": [
    {
     "data": {
      "text/html": [
       "<div>\n",
       "<style scoped>\n",
       "    .dataframe tbody tr th:only-of-type {\n",
       "        vertical-align: middle;\n",
       "    }\n",
       "\n",
       "    .dataframe tbody tr th {\n",
       "        vertical-align: top;\n",
       "    }\n",
       "\n",
       "    .dataframe thead th {\n",
       "        text-align: right;\n",
       "    }\n",
       "</style>\n",
       "<table border=\"1\" class=\"dataframe\">\n",
       "  <thead>\n",
       "    <tr style=\"text-align: right;\">\n",
       "      <th></th>\n",
       "      <th>0</th>\n",
       "    </tr>\n",
       "  </thead>\n",
       "  <tbody>\n",
       "    <tr>\n",
       "      <td>count</td>\n",
       "      <td>250.000000</td>\n",
       "    </tr>\n",
       "    <tr>\n",
       "      <td>mean</td>\n",
       "      <td>75.000000</td>\n",
       "    </tr>\n",
       "    <tr>\n",
       "      <td>std</td>\n",
       "      <td>25.050151</td>\n",
       "    </tr>\n",
       "    <tr>\n",
       "      <td>min</td>\n",
       "      <td>50.000000</td>\n",
       "    </tr>\n",
       "    <tr>\n",
       "      <td>25%</td>\n",
       "      <td>50.000000</td>\n",
       "    </tr>\n",
       "    <tr>\n",
       "      <td>50%</td>\n",
       "      <td>75.000000</td>\n",
       "    </tr>\n",
       "    <tr>\n",
       "      <td>75%</td>\n",
       "      <td>100.000000</td>\n",
       "    </tr>\n",
       "    <tr>\n",
       "      <td>max</td>\n",
       "      <td>100.000000</td>\n",
       "    </tr>\n",
       "  </tbody>\n",
       "</table>\n",
       "</div>"
      ],
      "text/plain": [
       "                0\n",
       "count  250.000000\n",
       "mean    75.000000\n",
       "std     25.050151\n",
       "min     50.000000\n",
       "25%     50.000000\n",
       "50%     75.000000\n",
       "75%    100.000000\n",
       "max    100.000000"
      ]
     },
     "execution_count": 3,
     "metadata": {},
     "output_type": "execute_result"
    }
   ],
   "source": [
    "pd.DataFrame(sd).describe()"
   ]
  },
  {
   "cell_type": "code",
   "execution_count": 4,
   "metadata": {},
   "outputs": [
    {
     "data": {
      "text/html": [
       "<div>\n",
       "<style scoped>\n",
       "    .dataframe tbody tr th:only-of-type {\n",
       "        vertical-align: middle;\n",
       "    }\n",
       "\n",
       "    .dataframe tbody tr th {\n",
       "        vertical-align: top;\n",
       "    }\n",
       "\n",
       "    .dataframe thead th {\n",
       "        text-align: right;\n",
       "    }\n",
       "</style>\n",
       "<table border=\"1\" class=\"dataframe\">\n",
       "  <thead>\n",
       "    <tr style=\"text-align: right;\">\n",
       "      <th></th>\n",
       "      <th>Time</th>\n",
       "      <th>Value</th>\n",
       "    </tr>\n",
       "  </thead>\n",
       "  <tbody>\n",
       "    <tr>\n",
       "      <td>0</td>\n",
       "      <td>0</td>\n",
       "      <td>50.0</td>\n",
       "    </tr>\n",
       "    <tr>\n",
       "      <td>1</td>\n",
       "      <td>1</td>\n",
       "      <td>50.0</td>\n",
       "    </tr>\n",
       "    <tr>\n",
       "      <td>2</td>\n",
       "      <td>2</td>\n",
       "      <td>50.0</td>\n",
       "    </tr>\n",
       "    <tr>\n",
       "      <td>3</td>\n",
       "      <td>3</td>\n",
       "      <td>50.0</td>\n",
       "    </tr>\n",
       "    <tr>\n",
       "      <td>4</td>\n",
       "      <td>4</td>\n",
       "      <td>50.0</td>\n",
       "    </tr>\n",
       "    <tr>\n",
       "      <td>...</td>\n",
       "      <td>...</td>\n",
       "      <td>...</td>\n",
       "    </tr>\n",
       "    <tr>\n",
       "      <td>245</td>\n",
       "      <td>245</td>\n",
       "      <td>100.0</td>\n",
       "    </tr>\n",
       "    <tr>\n",
       "      <td>246</td>\n",
       "      <td>246</td>\n",
       "      <td>100.0</td>\n",
       "    </tr>\n",
       "    <tr>\n",
       "      <td>247</td>\n",
       "      <td>247</td>\n",
       "      <td>100.0</td>\n",
       "    </tr>\n",
       "    <tr>\n",
       "      <td>248</td>\n",
       "      <td>248</td>\n",
       "      <td>100.0</td>\n",
       "    </tr>\n",
       "    <tr>\n",
       "      <td>249</td>\n",
       "      <td>249</td>\n",
       "      <td>100.0</td>\n",
       "    </tr>\n",
       "  </tbody>\n",
       "</table>\n",
       "<p>250 rows × 2 columns</p>\n",
       "</div>"
      ],
      "text/plain": [
       "     Time  Value\n",
       "0       0   50.0\n",
       "1       1   50.0\n",
       "2       2   50.0\n",
       "3       3   50.0\n",
       "4       4   50.0\n",
       "..    ...    ...\n",
       "245   245  100.0\n",
       "246   246  100.0\n",
       "247   247  100.0\n",
       "248   248  100.0\n",
       "249   249  100.0\n",
       "\n",
       "[250 rows x 2 columns]"
      ]
     },
     "execution_count": 4,
     "metadata": {},
     "output_type": "execute_result"
    }
   ],
   "source": [
    "seasonal_data = pd.DataFrame(zip(x,y),columns=['Time','Value'])\n",
    "seasonal_data"
   ]
  },
  {
   "cell_type": "code",
   "execution_count": 5,
   "metadata": {},
   "outputs": [
    {
     "data": {
      "image/png": "[encoded data removed]",
      "text/plain": [
       "<Figure size 720x432 with 1 Axes>"
      ]
     },
     "metadata": {
      "needs_background": "light"
     },
     "output_type": "display_data"
    }
   ],
   "source": [
    "log_data = np.log(seasonal_data['Value'])\n",
    "plt.figure(figsize=(10,6))\n",
    "plt.plot(seasonal_data['Time'], log_data)\n",
    "plt.title(\"Synthetic Data after taking natural log\")\n",
    "plt.show()"
   ]
  },
  {
   "cell_type": "code",
   "execution_count": 6,
   "metadata": {},
   "outputs": [
    {
     "data": {
      "text/html": [
       "<div>\n",
       "<style scoped>\n",
       "    .dataframe tbody tr th:only-of-type {\n",
       "        vertical-align: middle;\n",
       "    }\n",
       "\n",
       "    .dataframe tbody tr th {\n",
       "        vertical-align: top;\n",
       "    }\n",
       "\n",
       "    .dataframe thead th {\n",
       "        text-align: right;\n",
       "    }\n",
       "</style>\n",
       "<table border=\"1\" class=\"dataframe\">\n",
       "  <thead>\n",
       "    <tr style=\"text-align: right;\">\n",
       "      <th></th>\n",
       "      <th>Time</th>\n",
       "      <th>Log Value</th>\n",
       "    </tr>\n",
       "  </thead>\n",
       "  <tbody>\n",
       "    <tr>\n",
       "      <td>0</td>\n",
       "      <td>0</td>\n",
       "      <td>3.912023</td>\n",
       "    </tr>\n",
       "    <tr>\n",
       "      <td>1</td>\n",
       "      <td>1</td>\n",
       "      <td>3.912023</td>\n",
       "    </tr>\n",
       "    <tr>\n",
       "      <td>2</td>\n",
       "      <td>2</td>\n",
       "      <td>3.912023</td>\n",
       "    </tr>\n",
       "    <tr>\n",
       "      <td>3</td>\n",
       "      <td>3</td>\n",
       "      <td>3.912023</td>\n",
       "    </tr>\n",
       "    <tr>\n",
       "      <td>4</td>\n",
       "      <td>4</td>\n",
       "      <td>3.912023</td>\n",
       "    </tr>\n",
       "    <tr>\n",
       "      <td>...</td>\n",
       "      <td>...</td>\n",
       "      <td>...</td>\n",
       "    </tr>\n",
       "    <tr>\n",
       "      <td>245</td>\n",
       "      <td>245</td>\n",
       "      <td>4.605170</td>\n",
       "    </tr>\n",
       "    <tr>\n",
       "      <td>246</td>\n",
       "      <td>246</td>\n",
       "      <td>4.605170</td>\n",
       "    </tr>\n",
       "    <tr>\n",
       "      <td>247</td>\n",
       "      <td>247</td>\n",
       "      <td>4.605170</td>\n",
       "    </tr>\n",
       "    <tr>\n",
       "      <td>248</td>\n",
       "      <td>248</td>\n",
       "      <td>4.605170</td>\n",
       "    </tr>\n",
       "    <tr>\n",
       "      <td>249</td>\n",
       "      <td>249</td>\n",
       "      <td>4.605170</td>\n",
       "    </tr>\n",
       "  </tbody>\n",
       "</table>\n",
       "<p>250 rows × 2 columns</p>\n",
       "</div>"
      ],
      "text/plain": [
       "     Time  Log Value\n",
       "0       0   3.912023\n",
       "1       1   3.912023\n",
       "2       2   3.912023\n",
       "3       3   3.912023\n",
       "4       4   3.912023\n",
       "..    ...        ...\n",
       "245   245   4.605170\n",
       "246   246   4.605170\n",
       "247   247   4.605170\n",
       "248   248   4.605170\n",
       "249   249   4.605170\n",
       "\n",
       "[250 rows x 2 columns]"
      ]
     },
     "execution_count": 6,
     "metadata": {},
     "output_type": "execute_result"
    }
   ],
   "source": [
    "nlog_data = pd.DataFrame(zip(seasonal_data['Time'], log_data),columns=['Time','Log Value'])\n",
    "nlog_data"
   ]
  },
  {
   "cell_type": "code",
   "execution_count": 7,
   "metadata": {},
   "outputs": [
    {
     "data": {
      "image/png": "[encoded data removed]",
      "text/plain": [
       "<Figure size 432x288 with 1 Axes>"
      ]
     },
     "metadata": {
      "needs_background": "light"
     },
     "output_type": "display_data"
    }
   ],
   "source": [
    "N = 250\n",
    "sr = 1\n",
    "y = np.array(seasonal_data['Value'])\n",
    "f = fftpack.fftfreq(len(y))\n",
    "yf = fftpack.fft(y)\n",
    "\n",
    "T = 1.0 / N\n",
    "x = np.linspace(0.0, N*T, N)\n",
    "xf = np.linspace(0.0, 1.0/(2.0*T), int(N/2))\n",
    "fig, ax = plt.subplots()\n",
    "ax.plot(xf, 2.0/N * np.abs(yf[:N//2]))\n",
    "plt.title(\"Frequency representation\")\n",
    "plt.show()"
   ]
  },
  {
   "cell_type": "code",
   "execution_count": 8,
   "metadata": {},
   "outputs": [
    {
     "data": {
      "image/png": "[encoded data removed]",
      "text/plain": [
       "<Figure size 432x288 with 1 Axes>"
      ]
     },
     "metadata": {
      "needs_background": "light"
     },
     "output_type": "display_data"
    }
   ],
   "source": [
    "N = 250\n",
    "sr = 1\n",
    "y = np.array(seasonal_data['Value'])\n",
    "f = fftpack.fftfreq(len(y))\n",
    "yf = fftpack.fft(y)\n",
    "\n",
    "T = 1.0 / N\n",
    "x = np.linspace(0.0, N*T, N)\n",
    "xf = np.linspace(0.0, 1.0/(2.0*T), int(N/2))\n",
    "fig, ax = plt.subplots()\n",
    "ax.plot(xf[1:], 2.0/N * np.abs(yf[1:N//2]))\n",
    "plt.title(\"Frequency representation\")\n",
    "plt.show()"
   ]
  },
  {
   "cell_type": "code",
   "execution_count": 9,
   "metadata": {},
   "outputs": [
    {
     "data": {
      "text/html": [
       "<div>\n",
       "<style scoped>\n",
       "    .dataframe tbody tr th:only-of-type {\n",
       "        vertical-align: middle;\n",
       "    }\n",
       "\n",
       "    .dataframe tbody tr th {\n",
       "        vertical-align: top;\n",
       "    }\n",
       "\n",
       "    .dataframe thead th {\n",
       "        text-align: right;\n",
       "    }\n",
       "</style>\n",
       "<table border=\"1\" class=\"dataframe\">\n",
       "  <thead>\n",
       "    <tr style=\"text-align: right;\">\n",
       "      <th></th>\n",
       "      <th>Freq</th>\n",
       "      <th>Ampli</th>\n",
       "    </tr>\n",
       "  </thead>\n",
       "  <tbody>\n",
       "    <tr>\n",
       "      <td>0</td>\n",
       "      <td>0.000</td>\n",
       "      <td>1.500000e+02</td>\n",
       "    </tr>\n",
       "    <tr>\n",
       "      <td>1</td>\n",
       "      <td>0.004</td>\n",
       "      <td>3.183183e+01</td>\n",
       "    </tr>\n",
       "    <tr>\n",
       "      <td>2</td>\n",
       "      <td>0.008</td>\n",
       "      <td>1.054199e-15</td>\n",
       "    </tr>\n",
       "    <tr>\n",
       "      <td>3</td>\n",
       "      <td>0.012</td>\n",
       "      <td>1.061284e+01</td>\n",
       "    </tr>\n",
       "    <tr>\n",
       "      <td>4</td>\n",
       "      <td>0.016</td>\n",
       "      <td>3.040060e-15</td>\n",
       "    </tr>\n",
       "    <tr>\n",
       "      <td>...</td>\n",
       "      <td>...</td>\n",
       "      <td>...</td>\n",
       "    </tr>\n",
       "    <tr>\n",
       "      <td>120</td>\n",
       "      <td>0.480</td>\n",
       "      <td>2.842171e-17</td>\n",
       "    </tr>\n",
       "    <tr>\n",
       "      <td>121</td>\n",
       "      <td>0.484</td>\n",
       "      <td>4.005059e-01</td>\n",
       "    </tr>\n",
       "    <tr>\n",
       "      <td>122</td>\n",
       "      <td>0.488</td>\n",
       "      <td>9.134828e-16</td>\n",
       "    </tr>\n",
       "    <tr>\n",
       "      <td>123</td>\n",
       "      <td>0.492</td>\n",
       "      <td>4.001264e-01</td>\n",
       "    </tr>\n",
       "    <tr>\n",
       "      <td>124</td>\n",
       "      <td>0.496</td>\n",
       "      <td>1.820987e-15</td>\n",
       "    </tr>\n",
       "  </tbody>\n",
       "</table>\n",
       "<p>125 rows × 2 columns</p>\n",
       "</div>"
      ],
      "text/plain": [
       "      Freq         Ampli\n",
       "0    0.000  1.500000e+02\n",
       "1    0.004  3.183183e+01\n",
       "2    0.008  1.054199e-15\n",
       "3    0.012  1.061284e+01\n",
       "4    0.016  3.040060e-15\n",
       "..     ...           ...\n",
       "120  0.480  2.842171e-17\n",
       "121  0.484  4.005059e-01\n",
       "122  0.488  9.134828e-16\n",
       "123  0.492  4.001264e-01\n",
       "124  0.496  1.820987e-15\n",
       "\n",
       "[125 rows x 2 columns]"
      ]
     },
     "execution_count": 9,
     "metadata": {},
     "output_type": "execute_result"
    }
   ],
   "source": [
    "freq_ampli = pd.DataFrame(zip(np.abs(f[:N//2]),2.0/N * np.abs(yf[:N//2])),columns=['Freq','Ampli'])\n",
    "freq_ampli"
   ]
  },
  {
   "cell_type": "code",
   "execution_count": 10,
   "metadata": {},
   "outputs": [
    {
     "data": {
      "text/plain": [
       "array([ 1.87500000e+04-0.00000000e+00j, -5.00000000e+01+3.97866414e+03j,\n",
       "        1.03028697e-13+8.21565038e-14j, -5.00000000e+01+1.32566281e+03j,\n",
       "        8.88178420e-14+3.69482223e-13j, -5.00000000e+01+7.94727242e+02j,\n",
       "        3.55271368e-14-2.26929586e-13j, -5.00000000e+01+5.66943678e+02j,\n",
       "        3.55271368e-14+5.59552404e-14j, -5.00000000e+01+4.40210499e+02j,\n",
       "        7.10542736e-15-1.50990331e-14j, -5.00000000e+01+3.59409005e+02j,\n",
       "        9.23705556e-14+3.90798505e-14j, -5.00000000e+01+3.03339628e+02j,\n",
       "       -2.16715534e-13+3.37507799e-14j, -5.00000000e+01+2.62109179e+02j,\n",
       "        2.13162821e-13+2.66453526e-14j, -5.00000000e+01+2.30480035e+02j,\n",
       "        4.61852778e-14+5.68434189e-14j, -5.00000000e+01+2.05419842e+02j,\n",
       "       -3.55271368e-14+7.63833441e-14j, -5.00000000e+01+1.85051385e+02j,\n",
       "        3.19744231e-14+1.77635684e-14j, -5.00000000e+01+1.68150352e+02j,\n",
       "        2.80664381e-13+2.68229883e-13j, -5.00000000e+01+1.53884177e+02j,\n",
       "       -2.62900812e-13-2.57571742e-13j, -5.00000000e+01+1.41666941e+02j,\n",
       "       -7.10542736e-15+1.59872116e-14j, -5.00000000e+01+1.31074327e+02j,\n",
       "        4.97379915e-14+2.48689958e-14j, -5.00000000e+01+1.21791486e+02j,\n",
       "       -4.61852778e-14+0.00000000e+00j, -5.00000000e+01+1.13579865e+02j,\n",
       "       -9.94759830e-14-3.55271368e-14j, -5.00000000e+01+1.06255409e+02j,\n",
       "        6.39488462e-14+9.59232693e-14j, -5.00000000e+01+9.96738272e+01j,\n",
       "       -3.90798505e-14-5.32907052e-15j, -5.00000000e+01+9.37204011e+01j,\n",
       "        1.06581410e-14+0.00000000e+00j, -5.00000000e+01+8.83027672e+01j,\n",
       "       -2.48689958e-14-1.77635684e-15j, -5.00000000e+01+8.33457190e+01j,\n",
       "        1.42108547e-14-3.73034936e-14j, -5.00000000e+01+7.87873930e+01j,\n",
       "       -2.48689958e-14+2.13162821e-14j, -5.00000000e+01+7.45764292e+01j,\n",
       "       -7.10542736e-15+0.00000000e+00j, -5.00000000e+01+7.06698261e+01j,\n",
       "        2.91322522e-13-1.88293825e-13j, -5.00000000e+01+6.70313016e+01j,\n",
       "        0.00000000e+00+7.10542736e-15j, -5.00000000e+01+6.36300233e+01j,\n",
       "       -1.42108547e-14+2.84217094e-14j, -5.00000000e+01+6.04396175e+01j,\n",
       "        1.06581410e-14-1.77635684e-14j, -5.00000000e+01+5.74373853e+01j,\n",
       "        1.06581410e-14+1.06581410e-14j, -5.00000000e+01+5.46036790e+01j,\n",
       "        7.10542736e-15+7.10542736e-15j, -5.00000000e+01+5.19214007e+01j,\n",
       "       -7.10542736e-15+2.48689958e-14j, -5.00000000e+01+4.93755965e+01j,\n",
       "       -3.55271368e-14+0.00000000e+00j, -5.00000000e+01+4.69531253e+01j,\n",
       "        2.84217094e-14+4.61852778e-14j, -5.00000000e+01+4.46423871e+01j,\n",
       "       -7.10542736e-15+3.55271368e-14j, -5.00000000e+01+4.24330984e+01j,\n",
       "       -4.26325641e-14-1.77635684e-14j, -5.00000000e+01+4.03161052e+01j,\n",
       "        2.13162821e-14+2.13162821e-14j, -5.00000000e+01+3.82832273e+01j,\n",
       "       -1.45661261e-13-1.84741111e-13j, -5.00000000e+01+3.63271264e+01j,\n",
       "        1.03028697e-13+1.70530257e-13j, -5.00000000e+01+3.44411958e+01j,\n",
       "       -8.52651283e-14-7.10542736e-15j, -5.00000000e+01+3.26194659e+01j,\n",
       "        2.13162821e-14+6.39488462e-14j, -5.00000000e+01+3.08565238e+01j,\n",
       "        3.55271368e-15-2.13162821e-14j, -5.00000000e+01+2.91474448e+01j,\n",
       "       -2.13162821e-14-4.26325641e-14j, -5.00000000e+01+2.74877326e+01j,\n",
       "       -1.06581410e-14+2.13162821e-14j, -5.00000000e+01+2.58732688e+01j,\n",
       "       -3.55271368e-15-2.13162821e-14j, -5.00000000e+01+2.43002676e+01j,\n",
       "       -7.10542736e-15+0.00000000e+00j, -5.00000000e+01+2.27652380e+01j,\n",
       "       -7.10542736e-15-1.42108547e-14j, -5.00000000e+01+2.12649490e+01j,\n",
       "        3.19744231e-14-1.42108547e-14j, -5.00000000e+01+1.97964004e+01j,\n",
       "       -1.06581410e-14+1.42108547e-14j, -5.00000000e+01+1.83567963e+01j,\n",
       "       -5.00000000e+01+1.69435215e+01j,  2.55795385e-13-1.42108547e-13j,\n",
       "       -5.00000000e+01+1.55541214e+01j,  1.06581410e-14+1.42108547e-14j,\n",
       "       -5.00000000e+01+1.41862830e+01j, -1.42108547e-14+2.84217094e-14j,\n",
       "       -5.00000000e+01+1.28378180e+01j,  1.77635684e-14+1.42108547e-14j,\n",
       "       -5.00000000e+01+1.15066484e+01j, -2.48689958e-14-1.42108547e-14j,\n",
       "       -5.00000000e+01+1.01907920e+01j, -1.42108547e-14-2.84217094e-14j,\n",
       "       -5.00000000e+01+8.88835055e+00j,  1.77635684e-14+2.84217094e-14j,\n",
       "       -5.00000000e+01+7.59749780e+00j, -1.42108547e-14-2.84217094e-14j,\n",
       "       -5.00000000e+01+6.31646892e+00j,  7.10542736e-15+5.68434189e-14j,\n",
       "       -5.00000000e+01+5.04355054e+00j, -2.48689958e-14+0.00000000e+00j,\n",
       "       -5.00000000e+01+3.77707131e+00j, -3.55271368e-15+0.00000000e+00j,\n",
       "       -5.00000000e+01+2.51539296e+00j, -1.06581410e-14-1.13686838e-13j,\n",
       "       -5.00000000e+01+1.25690172e+00j, -1.06581410e-14-2.27373675e-13j,\n",
       "       -5.00000000e+01-0.00000000e+00j, -1.06581410e-14+2.27373675e-13j,\n",
       "       -5.00000000e+01-1.25690172e+00j, -1.06581410e-14+1.13686838e-13j,\n",
       "       -5.00000000e+01-2.51539296e+00j, -3.55271368e-15-0.00000000e+00j,\n",
       "       -5.00000000e+01-3.77707131e+00j, -2.48689958e-14-0.00000000e+00j,\n",
       "       -5.00000000e+01-5.04355054e+00j,  7.10542736e-15-5.68434189e-14j,\n",
       "       -5.00000000e+01-6.31646892e+00j, -1.42108547e-14+2.84217094e-14j,\n",
       "       -5.00000000e+01-7.59749780e+00j,  1.77635684e-14-2.84217094e-14j,\n",
       "       -5.00000000e+01-8.88835055e+00j, -1.42108547e-14+2.84217094e-14j,\n",
       "       -5.00000000e+01-1.01907920e+01j, -2.48689958e-14+1.42108547e-14j,\n",
       "       -5.00000000e+01-1.15066484e+01j,  1.77635684e-14-1.42108547e-14j,\n",
       "       -5.00000000e+01-1.28378180e+01j, -1.42108547e-14-2.84217094e-14j,\n",
       "       -5.00000000e+01-1.41862830e+01j,  1.06581410e-14-1.42108547e-14j,\n",
       "       -5.00000000e+01-1.55541214e+01j,  2.55795385e-13+1.42108547e-13j,\n",
       "       -5.00000000e+01-1.69435215e+01j, -5.00000000e+01-1.83567963e+01j,\n",
       "       -1.06581410e-14-1.42108547e-14j, -5.00000000e+01-1.97964004e+01j,\n",
       "        3.19744231e-14+1.42108547e-14j, -5.00000000e+01-2.12649490e+01j,\n",
       "       -7.10542736e-15+1.42108547e-14j, -5.00000000e+01-2.27652380e+01j,\n",
       "       -7.10542736e-15-0.00000000e+00j, -5.00000000e+01-2.43002676e+01j,\n",
       "       -3.55271368e-15+2.13162821e-14j, -5.00000000e+01-2.58732688e+01j,\n",
       "       -1.06581410e-14-2.13162821e-14j, -5.00000000e+01-2.74877326e+01j,\n",
       "       -2.13162821e-14+4.26325641e-14j, -5.00000000e+01-2.91474448e+01j,\n",
       "        3.55271368e-15+2.13162821e-14j, -5.00000000e+01-3.08565238e+01j,\n",
       "        2.13162821e-14-6.39488462e-14j, -5.00000000e+01-3.26194659e+01j,\n",
       "       -8.52651283e-14+7.10542736e-15j, -5.00000000e+01-3.44411958e+01j,\n",
       "        1.03028697e-13-1.70530257e-13j, -5.00000000e+01-3.63271264e+01j,\n",
       "       -1.45661261e-13+1.84741111e-13j, -5.00000000e+01-3.82832273e+01j,\n",
       "        2.13162821e-14-2.13162821e-14j, -5.00000000e+01-4.03161052e+01j,\n",
       "       -4.26325641e-14+1.77635684e-14j, -5.00000000e+01-4.24330984e+01j,\n",
       "       -7.10542736e-15-3.55271368e-14j, -5.00000000e+01-4.46423871e+01j,\n",
       "        2.84217094e-14-4.61852778e-14j, -5.00000000e+01-4.69531253e+01j,\n",
       "       -3.55271368e-14-0.00000000e+00j, -5.00000000e+01-4.93755965e+01j,\n",
       "       -7.10542736e-15-2.48689958e-14j, -5.00000000e+01-5.19214007e+01j,\n",
       "        7.10542736e-15-7.10542736e-15j, -5.00000000e+01-5.46036790e+01j,\n",
       "        1.06581410e-14-1.06581410e-14j, -5.00000000e+01-5.74373853e+01j,\n",
       "        1.06581410e-14+1.77635684e-14j, -5.00000000e+01-6.04396175e+01j,\n",
       "       -1.42108547e-14-2.84217094e-14j, -5.00000000e+01-6.36300233e+01j,\n",
       "        0.00000000e+00-7.10542736e-15j, -5.00000000e+01-6.70313016e+01j,\n",
       "        2.91322522e-13+1.88293825e-13j, -5.00000000e+01-7.06698261e+01j,\n",
       "       -7.10542736e-15-0.00000000e+00j, -5.00000000e+01-7.45764292e+01j,\n",
       "       -2.48689958e-14-2.13162821e-14j, -5.00000000e+01-7.87873930e+01j,\n",
       "        1.42108547e-14+3.73034936e-14j, -5.00000000e+01-8.33457190e+01j,\n",
       "       -2.48689958e-14+1.77635684e-15j, -5.00000000e+01-8.83027672e+01j,\n",
       "        1.06581410e-14-0.00000000e+00j, -5.00000000e+01-9.37204011e+01j,\n",
       "       -3.90798505e-14+5.32907052e-15j, -5.00000000e+01-9.96738272e+01j,\n",
       "        6.39488462e-14-9.59232693e-14j, -5.00000000e+01-1.06255409e+02j,\n",
       "       -9.94759830e-14+3.55271368e-14j, -5.00000000e+01-1.13579865e+02j,\n",
       "       -4.61852778e-14-0.00000000e+00j, -5.00000000e+01-1.21791486e+02j,\n",
       "        4.97379915e-14-2.48689958e-14j, -5.00000000e+01-1.31074327e+02j,\n",
       "       -7.10542736e-15-1.59872116e-14j, -5.00000000e+01-1.41666941e+02j,\n",
       "       -2.62900812e-13+2.57571742e-13j, -5.00000000e+01-1.53884177e+02j,\n",
       "        2.80664381e-13-2.68229883e-13j, -5.00000000e+01-1.68150352e+02j,\n",
       "        3.19744231e-14-1.77635684e-14j, -5.00000000e+01-1.85051385e+02j,\n",
       "       -3.55271368e-14-7.63833441e-14j, -5.00000000e+01-2.05419842e+02j,\n",
       "        4.61852778e-14-5.68434189e-14j, -5.00000000e+01-2.30480035e+02j,\n",
       "        2.13162821e-13-2.66453526e-14j, -5.00000000e+01-2.62109179e+02j,\n",
       "       -2.16715534e-13-3.37507799e-14j, -5.00000000e+01-3.03339628e+02j,\n",
       "        9.23705556e-14-3.90798505e-14j, -5.00000000e+01-3.59409005e+02j,\n",
       "        7.10542736e-15+1.50990331e-14j, -5.00000000e+01-4.40210499e+02j,\n",
       "        3.55271368e-14-5.59552404e-14j, -5.00000000e+01-5.66943678e+02j,\n",
       "        3.55271368e-14+2.26929586e-13j, -5.00000000e+01-7.94727242e+02j,\n",
       "        8.88178420e-14-3.69482223e-13j, -5.00000000e+01-1.32566281e+03j,\n",
       "        1.03028697e-13-8.21565038e-14j, -5.00000000e+01-3.97866414e+03j])"
      ]
     },
     "execution_count": 10,
     "metadata": {},
     "output_type": "execute_result"
    }
   ],
   "source": [
    "frame_size = 50\n",
    "Fs = 1\n",
    "dt = 1/Fs\n",
    "freq_vector = np.fft.rfftfreq(frame_size, d=dt)\n",
    "yf1 = yf[yf != 0]\n",
    "yf1"
   ]
  },
  {
   "cell_type": "code",
   "execution_count": 11,
   "metadata": {},
   "outputs": [],
   "source": [
    "quefrency = np.fft.rfftfreq(np.log(yf1).size,freq_vector[1] - freq_vector[0])\n",
    "cepstrum = np.fft.rfft(np.log(np.abs(yf1)))"
   ]
  },
  {
   "cell_type": "code",
   "execution_count": 12,
   "metadata": {},
   "outputs": [
    {
     "data": {
      "text/plain": [
       "array([ 0.2016129 ,  0.40322581,  0.60483871,  0.80645161,  1.00806452,\n",
       "        1.20967742,  1.41129032,  1.61290323,  1.81451613,  2.01612903,\n",
       "        2.21774194,  2.41935484,  2.62096774,  2.82258065,  3.02419355,\n",
       "        3.22580645,  3.42741935,  3.62903226,  3.83064516,  4.03225806,\n",
       "        4.23387097,  4.43548387,  4.63709677,  4.83870968,  5.04032258,\n",
       "        5.24193548,  5.44354839,  5.64516129,  5.84677419,  6.0483871 ,\n",
       "        6.25      ,  6.4516129 ,  6.65322581,  6.85483871,  7.05645161,\n",
       "        7.25806452,  7.45967742,  7.66129032,  7.86290323,  8.06451613,\n",
       "        8.26612903,  8.46774194,  8.66935484,  8.87096774,  9.07258065,\n",
       "        9.27419355,  9.47580645,  9.67741935,  9.87903226, 10.08064516,\n",
       "       10.28225806, 10.48387097, 10.68548387, 10.88709677, 11.08870968,\n",
       "       11.29032258, 11.49193548, 11.69354839, 11.89516129, 12.09677419,\n",
       "       12.2983871 , 12.5       , 12.7016129 , 12.90322581, 13.10483871,\n",
       "       13.30645161, 13.50806452, 13.70967742, 13.91129032, 14.11290323,\n",
       "       14.31451613, 14.51612903, 14.71774194, 14.91935484, 15.12096774,\n",
       "       15.32258065, 15.52419355, 15.72580645, 15.92741935, 16.12903226,\n",
       "       16.33064516, 16.53225806, 16.73387097, 16.93548387, 17.13709677,\n",
       "       17.33870968, 17.54032258, 17.74193548, 17.94354839, 18.14516129,\n",
       "       18.34677419, 18.5483871 , 18.75      , 18.9516129 , 19.15322581,\n",
       "       19.35483871, 19.55645161, 19.75806452, 19.95967742, 20.16129032,\n",
       "       20.36290323, 20.56451613, 20.76612903, 20.96774194, 21.16935484,\n",
       "       21.37096774, 21.57258065, 21.77419355, 21.97580645, 22.17741935,\n",
       "       22.37903226, 22.58064516, 22.78225806, 22.98387097, 23.18548387,\n",
       "       23.38709677, 23.58870968, 23.79032258, 23.99193548, 24.19354839,\n",
       "       24.39516129, 24.59677419, 24.7983871 , 25.        ])"
      ]
     },
     "execution_count": 12,
     "metadata": {},
     "output_type": "execute_result"
    }
   ],
   "source": [
    "quefrency[1:]"
   ]
  },
  {
   "cell_type": "code",
   "execution_count": 13,
   "metadata": {},
   "outputs": [
    {
     "data": {
      "text/plain": [
       "array([ 1.05007441e+02+0.00000000e+00j,  1.02456789e+02-1.13686838e-13j,\n",
       "        9.16091063e+01+0.00000000e+00j,  2.72982291e+01+0.00000000e+00j,\n",
       "        6.21862801e+01+1.42108547e-14j,  3.02935242e+01-8.52651283e-14j,\n",
       "        6.14994294e+01+2.84217094e-14j,  6.20647082e+01+0.00000000e+00j,\n",
       "        8.79869701e+00-1.42108547e-14j,  1.03606733e+02+0.00000000e+00j,\n",
       "        2.01806180e+01+2.84217094e-14j,  4.03955618e+01-1.42108547e-14j,\n",
       "        7.61643234e+01+1.42108547e-14j,  1.18467298e+01-1.24344979e-14j,\n",
       "        7.88164142e+01+1.42108547e-14j,  4.22392523e+01+0.00000000e+00j,\n",
       "        1.58824954e+01-2.84217094e-14j,  7.86821170e+01-3.55271368e-14j,\n",
       "        6.13893897e-01+3.01980663e-14j,  8.85822043e+01-7.10542736e-15j,\n",
       "        2.94085514e+01+7.10542736e-15j,  2.37968009e+01-7.10542736e-15j,\n",
       "        6.99752153e+01-6.39488462e-14j, -8.11794918e+00+3.55271368e-15j,\n",
       "        2.72535624e+01+4.97379915e-14j,  4.18464931e+01-7.10542736e-15j,\n",
       "       -1.59055382e+00+1.42108547e-14j,  8.00976725e+01+1.42108547e-14j,\n",
       "        9.27110915e+00-2.57571742e-14j,  6.68526975e+01+1.77635684e-14j,\n",
       "        4.51451538e+01+1.77635684e-14j,  7.48552089e+00+3.55271368e-15j,\n",
       "        7.29553521e+01+0.00000000e+00j,  1.53199950e+01+5.32907052e-14j,\n",
       "        5.07411691e+01-3.55271368e-15j,  5.67002155e+01+3.55271368e-15j,\n",
       "       -1.02104281e+00+7.10542736e-15j,  7.47184192e+01-2.39808173e-14j,\n",
       "        3.01798816e+01+3.55271368e-15j,  5.67407929e+01-2.48689958e-14j,\n",
       "        7.49933855e+01-1.42108547e-14j, -1.32791883e+01-2.30926389e-14j,\n",
       "        7.74809483e+01-1.42108547e-14j,  1.50441753e+01+3.55271368e-15j,\n",
       "        3.49648885e+01-3.19744231e-14j,  6.36529724e+01+2.48689958e-14j,\n",
       "       -3.81346546e+00+1.77635684e-15j,  6.69996061e+01+8.88178420e-15j,\n",
       "        4.32661737e+01-1.77635684e-14j,  3.34788962e+01+3.37507799e-14j,\n",
       "        8.22035113e+01-5.32907052e-15j, -2.07910018e+01-8.88178420e-16j,\n",
       "        6.85649180e+01+3.86357613e-14j,  3.74203800e+01-9.76996262e-15j,\n",
       "        1.44019483e+01+8.88178420e-16j,  8.21616864e+01-1.33226763e-15j,\n",
       "       -7.37481371e+00+4.87387908e-14j,  5.44429033e+01-6.66133815e-15j,\n",
       "        6.59757352e+01+7.54951657e-15j,  1.88901671e+01+2.22044605e-16j,\n",
       "        8.36563299e+01+6.84452495e-14j, -6.60777451e+00-5.99520433e-15j,\n",
       "        4.71346890e+01-4.05231404e-15j,  7.63926223e+01+2.22044605e-16j,\n",
       "        1.11665607e+01+1.02140518e-14j,  8.30784956e+01-1.13242749e-14j,\n",
       "        9.02246262e-01+2.22044605e-14j,  4.02676360e+01-1.33226763e-15j,\n",
       "        6.95118255e+01-4.26325641e-14j, -6.97838157e+00+6.21724894e-15j,\n",
       "        7.88519304e+01-1.77635684e-15j,  8.99600113e+00-8.88178420e-16j,\n",
       "        1.88418683e+01+1.59872116e-14j,  1.05114017e+02+1.59872116e-14j,\n",
       "       -1.25553807e+01-8.88178420e-15j,  8.36199345e+01+8.88178420e-15j,\n",
       "        1.98584942e+01-1.33226763e-14j,  9.20558223e+00+0.00000000e+00j,\n",
       "        9.00803641e+01-3.19744231e-14j, -1.70502597e+01+3.55271368e-15j,\n",
       "        6.36732183e+01-4.52970994e-14j,  4.16461696e+01+3.55271368e-15j,\n",
       "       -7.77332182e+00-5.68434189e-14j,  1.31345599e+02-2.48689958e-14j,\n",
       "       -1.24746304e+01+2.66453526e-14j,  6.23098018e+01-4.88498131e-15j,\n",
       "        5.58243556e+01-2.13162821e-14j, -2.80809521e+01+3.55271368e-15j,\n",
       "        1.21610475e+02-2.13162821e-14j, -1.87701021e+01+3.55271368e-15j,\n",
       "        4.75745258e+01+1.06581410e-14j,  7.41474290e+01+3.55271368e-15j,\n",
       "       -4.22280679e+01-2.48689958e-14j,  1.25810582e+02-3.19744231e-14j,\n",
       "        3.24379644e-01+4.44089210e-15j,  1.68737623e+01+1.42108547e-14j,\n",
       "        1.05814888e+02-1.42108547e-14j, -8.38223934e+01-2.13162821e-14j,\n",
       "        1.12088177e+02+0.00000000e+00j, -3.16405214e+01+3.55271368e-15j,\n",
       "        9.71664210e+00-7.10542736e-15j,  1.27470492e+02+1.42108547e-14j,\n",
       "       -8.55073544e+01-2.84217094e-14j,  1.42268726e+02-7.10542736e-15j,\n",
       "        2.64693644e+01-5.32907052e-15j, -4.96330094e+01-1.42108547e-14j,\n",
       "        1.87514658e+02+1.42108547e-14j, -1.30601968e+02+0.00000000e+00j,\n",
       "        1.57922172e+02+2.13162821e-14j,  4.33712954e+01+1.24344979e-14j,\n",
       "       -9.27715780e+01+2.84217094e-14j,  2.57799611e+02-1.42108547e-14j,\n",
       "       -1.87334618e+02+4.26325641e-14j,  1.62483390e+02-3.55271368e-15j,\n",
       "        1.17695244e+02-3.55271368e-14j, -2.58395818e+02+0.00000000e+00j,\n",
       "        4.47212070e+02+1.42108547e-13j, -3.27450424e+02+2.84217094e-14j,\n",
       "        1.23763637e+02+7.81597009e-14j,  3.32423550e+02+0.00000000e+00j,\n",
       "       -7.92393821e+02-1.70530257e-13j,  1.37364309e+03+1.13686838e-13j,\n",
       "       -1.70044026e+03+1.13686838e-13j, -2.49363701e+03+0.00000000e+00j])"
      ]
     },
     "execution_count": 13,
     "metadata": {},
     "output_type": "execute_result"
    }
   ],
   "source": [
    "cepstrum[1:]"
   ]
  },
  {
   "cell_type": "code",
   "execution_count": 14,
   "metadata": {},
   "outputs": [
    {
     "data": {
      "text/html": [
       "<div>\n",
       "<style scoped>\n",
       "    .dataframe tbody tr th:only-of-type {\n",
       "        vertical-align: middle;\n",
       "    }\n",
       "\n",
       "    .dataframe tbody tr th {\n",
       "        vertical-align: top;\n",
       "    }\n",
       "\n",
       "    .dataframe thead th {\n",
       "        text-align: right;\n",
       "    }\n",
       "</style>\n",
       "<table border=\"1\" class=\"dataframe\">\n",
       "  <thead>\n",
       "    <tr style=\"text-align: right;\">\n",
       "      <th></th>\n",
       "      <th>Quefrency</th>\n",
       "      <th>Cepstrum</th>\n",
       "    </tr>\n",
       "  </thead>\n",
       "  <tbody>\n",
       "    <tr>\n",
       "      <td>0</td>\n",
       "      <td>0.000000</td>\n",
       "      <td>-3161.569033</td>\n",
       "    </tr>\n",
       "    <tr>\n",
       "      <td>1</td>\n",
       "      <td>0.201613</td>\n",
       "      <td>105.007441</td>\n",
       "    </tr>\n",
       "    <tr>\n",
       "      <td>2</td>\n",
       "      <td>0.403226</td>\n",
       "      <td>102.456789</td>\n",
       "    </tr>\n",
       "    <tr>\n",
       "      <td>3</td>\n",
       "      <td>0.604839</td>\n",
       "      <td>91.609106</td>\n",
       "    </tr>\n",
       "    <tr>\n",
       "      <td>4</td>\n",
       "      <td>0.806452</td>\n",
       "      <td>27.298229</td>\n",
       "    </tr>\n",
       "    <tr>\n",
       "      <td>...</td>\n",
       "      <td>...</td>\n",
       "      <td>...</td>\n",
       "    </tr>\n",
       "    <tr>\n",
       "      <td>120</td>\n",
       "      <td>24.193548</td>\n",
       "      <td>332.423550</td>\n",
       "    </tr>\n",
       "    <tr>\n",
       "      <td>121</td>\n",
       "      <td>24.395161</td>\n",
       "      <td>-792.393821</td>\n",
       "    </tr>\n",
       "    <tr>\n",
       "      <td>122</td>\n",
       "      <td>24.596774</td>\n",
       "      <td>1373.643091</td>\n",
       "    </tr>\n",
       "    <tr>\n",
       "      <td>123</td>\n",
       "      <td>24.798387</td>\n",
       "      <td>-1700.440255</td>\n",
       "    </tr>\n",
       "    <tr>\n",
       "      <td>124</td>\n",
       "      <td>25.000000</td>\n",
       "      <td>-2493.637009</td>\n",
       "    </tr>\n",
       "  </tbody>\n",
       "</table>\n",
       "<p>125 rows × 2 columns</p>\n",
       "</div>"
      ],
      "text/plain": [
       "     Quefrency     Cepstrum\n",
       "0     0.000000 -3161.569033\n",
       "1     0.201613   105.007441\n",
       "2     0.403226   102.456789\n",
       "3     0.604839    91.609106\n",
       "4     0.806452    27.298229\n",
       "..         ...          ...\n",
       "120  24.193548   332.423550\n",
       "121  24.395161  -792.393821\n",
       "122  24.596774  1373.643091\n",
       "123  24.798387 -1700.440255\n",
       "124  25.000000 -2493.637009\n",
       "\n",
       "[125 rows x 2 columns]"
      ]
     },
     "execution_count": 14,
     "metadata": {},
     "output_type": "execute_result"
    }
   ],
   "source": [
    "cep = pd.DataFrame(zip(quefrency,cepstrum.real),columns=['Quefrency','Cepstrum'])\n",
    "cep"
   ]
  },
  {
   "cell_type": "code",
   "execution_count": 15,
   "metadata": {},
   "outputs": [
    {
     "name": "stderr",
     "output_type": "stream",
     "text": [
      "C:\\Users\\admin\\Anaconda3\\lib\\site-packages\\sklearn\\cluster\\k_means_.py:972: ConvergenceWarning: Number of distinct clusters (2) found smaller than n_clusters (3). Possibly due to duplicate points in X.\n",
      "  return_n_iter=True)\n",
      "C:\\Users\\admin\\Anaconda3\\lib\\site-packages\\sklearn\\cluster\\k_means_.py:972: ConvergenceWarning: Number of distinct clusters (2) found smaller than n_clusters (4). Possibly due to duplicate points in X.\n",
      "  return_n_iter=True)\n",
      "C:\\Users\\admin\\Anaconda3\\lib\\site-packages\\sklearn\\cluster\\k_means_.py:972: ConvergenceWarning: Number of distinct clusters (2) found smaller than n_clusters (5). Possibly due to duplicate points in X.\n",
      "  return_n_iter=True)\n",
      "C:\\Users\\admin\\Anaconda3\\lib\\site-packages\\sklearn\\cluster\\k_means_.py:972: ConvergenceWarning: Number of distinct clusters (2) found smaller than n_clusters (6). Possibly due to duplicate points in X.\n",
      "  return_n_iter=True)\n",
      "C:\\Users\\admin\\Anaconda3\\lib\\site-packages\\sklearn\\cluster\\k_means_.py:972: ConvergenceWarning: Number of distinct clusters (2) found smaller than n_clusters (3). Possibly due to duplicate points in X.\n",
      "  return_n_iter=True)\n",
      "C:\\Users\\admin\\Anaconda3\\lib\\site-packages\\sklearn\\cluster\\k_means_.py:972: ConvergenceWarning: Number of distinct clusters (2) found smaller than n_clusters (4). Possibly due to duplicate points in X.\n",
      "  return_n_iter=True)\n",
      "C:\\Users\\admin\\Anaconda3\\lib\\site-packages\\sklearn\\cluster\\k_means_.py:972: ConvergenceWarning: Number of distinct clusters (2) found smaller than n_clusters (5). Possibly due to duplicate points in X.\n",
      "  return_n_iter=True)\n",
      "C:\\Users\\admin\\Anaconda3\\lib\\site-packages\\sklearn\\cluster\\k_means_.py:972: ConvergenceWarning: Number of distinct clusters (2) found smaller than n_clusters (6). Possibly due to duplicate points in X.\n",
      "  return_n_iter=True)\n",
      "C:\\Users\\admin\\Anaconda3\\lib\\site-packages\\sklearn\\cluster\\k_means_.py:972: ConvergenceWarning: Number of distinct clusters (2) found smaller than n_clusters (3). Possibly due to duplicate points in X.\n",
      "  return_n_iter=True)\n",
      "C:\\Users\\admin\\Anaconda3\\lib\\site-packages\\sklearn\\cluster\\k_means_.py:972: ConvergenceWarning: Number of distinct clusters (2) found smaller than n_clusters (4). Possibly due to duplicate points in X.\n",
      "  return_n_iter=True)\n",
      "C:\\Users\\admin\\Anaconda3\\lib\\site-packages\\sklearn\\cluster\\k_means_.py:972: ConvergenceWarning: Number of distinct clusters (2) found smaller than n_clusters (5). Possibly due to duplicate points in X.\n",
      "  return_n_iter=True)\n",
      "C:\\Users\\admin\\Anaconda3\\lib\\site-packages\\sklearn\\cluster\\k_means_.py:972: ConvergenceWarning: Number of distinct clusters (2) found smaller than n_clusters (6). Possibly due to duplicate points in X.\n",
      "  return_n_iter=True)\n",
      "C:\\Users\\admin\\Anaconda3\\lib\\site-packages\\sklearn\\cluster\\k_means_.py:972: ConvergenceWarning: Number of distinct clusters (2) found smaller than n_clusters (3). Possibly due to duplicate points in X.\n",
      "  return_n_iter=True)\n",
      "C:\\Users\\admin\\Anaconda3\\lib\\site-packages\\sklearn\\cluster\\k_means_.py:972: ConvergenceWarning: Number of distinct clusters (2) found smaller than n_clusters (4). Possibly due to duplicate points in X.\n",
      "  return_n_iter=True)\n",
      "C:\\Users\\admin\\Anaconda3\\lib\\site-packages\\sklearn\\cluster\\k_means_.py:972: ConvergenceWarning: Number of distinct clusters (2) found smaller than n_clusters (5). Possibly due to duplicate points in X.\n",
      "  return_n_iter=True)\n",
      "C:\\Users\\admin\\Anaconda3\\lib\\site-packages\\sklearn\\cluster\\k_means_.py:972: ConvergenceWarning: Number of distinct clusters (2) found smaller than n_clusters (6). Possibly due to duplicate points in X.\n",
      "  return_n_iter=True)\n"
     ]
    }
   ],
   "source": [
    "# GMM on normal time series data\n",
    "dfx = np.array(seasonal_data['Value']).reshape(-1,1)\n",
    "lowest_bic = np.infty\n",
    "bic = []\n",
    "n_components_range = range(1, 7)\n",
    "cv_types = ['spherical', 'tied', 'diag', 'full']\n",
    "for cv_type in cv_types:\n",
    "    for n_components in n_components_range:\n",
    "        # Fit a Gaussian mixture with EM\n",
    "        gmm = mixture.GaussianMixture(n_components=n_components,\n",
    "                                      covariance_type=cv_type)\n",
    "        gmm.fit(dfx)\n",
    "        bic.append(gmm.bic(dfx))\n",
    "        if bic[-1] < lowest_bic:\n",
    "            lowest_bic = bic[-1]\n",
    "            best_gmm0 = gmm"
   ]
  },
  {
   "cell_type": "code",
   "execution_count": 16,
   "metadata": {},
   "outputs": [
    {
     "name": "stderr",
     "output_type": "stream",
     "text": [
      "C:\\Users\\admin\\Anaconda3\\lib\\site-packages\\sklearn\\cluster\\k_means_.py:972: ConvergenceWarning: Number of distinct clusters (2) found smaller than n_clusters (3). Possibly due to duplicate points in X.\n",
      "  return_n_iter=True)\n",
      "C:\\Users\\admin\\Anaconda3\\lib\\site-packages\\sklearn\\cluster\\k_means_.py:972: ConvergenceWarning: Number of distinct clusters (2) found smaller than n_clusters (4). Possibly due to duplicate points in X.\n",
      "  return_n_iter=True)\n",
      "C:\\Users\\admin\\Anaconda3\\lib\\site-packages\\sklearn\\cluster\\k_means_.py:972: ConvergenceWarning: Number of distinct clusters (2) found smaller than n_clusters (5). Possibly due to duplicate points in X.\n",
      "  return_n_iter=True)\n",
      "C:\\Users\\admin\\Anaconda3\\lib\\site-packages\\sklearn\\cluster\\k_means_.py:972: ConvergenceWarning: Number of distinct clusters (2) found smaller than n_clusters (6). Possibly due to duplicate points in X.\n",
      "  return_n_iter=True)\n",
      "C:\\Users\\admin\\Anaconda3\\lib\\site-packages\\sklearn\\cluster\\k_means_.py:972: ConvergenceWarning: Number of distinct clusters (2) found smaller than n_clusters (3). Possibly due to duplicate points in X.\n",
      "  return_n_iter=True)\n",
      "C:\\Users\\admin\\Anaconda3\\lib\\site-packages\\sklearn\\cluster\\k_means_.py:972: ConvergenceWarning: Number of distinct clusters (2) found smaller than n_clusters (4). Possibly due to duplicate points in X.\n",
      "  return_n_iter=True)\n",
      "C:\\Users\\admin\\Anaconda3\\lib\\site-packages\\sklearn\\cluster\\k_means_.py:972: ConvergenceWarning: Number of distinct clusters (2) found smaller than n_clusters (5). Possibly due to duplicate points in X.\n",
      "  return_n_iter=True)\n",
      "C:\\Users\\admin\\Anaconda3\\lib\\site-packages\\sklearn\\cluster\\k_means_.py:972: ConvergenceWarning: Number of distinct clusters (2) found smaller than n_clusters (6). Possibly due to duplicate points in X.\n",
      "  return_n_iter=True)\n",
      "C:\\Users\\admin\\Anaconda3\\lib\\site-packages\\sklearn\\cluster\\k_means_.py:972: ConvergenceWarning: Number of distinct clusters (2) found smaller than n_clusters (3). Possibly due to duplicate points in X.\n",
      "  return_n_iter=True)\n",
      "C:\\Users\\admin\\Anaconda3\\lib\\site-packages\\sklearn\\cluster\\k_means_.py:972: ConvergenceWarning: Number of distinct clusters (2) found smaller than n_clusters (4). Possibly due to duplicate points in X.\n",
      "  return_n_iter=True)\n",
      "C:\\Users\\admin\\Anaconda3\\lib\\site-packages\\sklearn\\cluster\\k_means_.py:972: ConvergenceWarning: Number of distinct clusters (2) found smaller than n_clusters (5). Possibly due to duplicate points in X.\n",
      "  return_n_iter=True)\n",
      "C:\\Users\\admin\\Anaconda3\\lib\\site-packages\\sklearn\\cluster\\k_means_.py:972: ConvergenceWarning: Number of distinct clusters (2) found smaller than n_clusters (6). Possibly due to duplicate points in X.\n",
      "  return_n_iter=True)\n",
      "C:\\Users\\admin\\Anaconda3\\lib\\site-packages\\sklearn\\cluster\\k_means_.py:972: ConvergenceWarning: Number of distinct clusters (2) found smaller than n_clusters (3). Possibly due to duplicate points in X.\n",
      "  return_n_iter=True)\n",
      "C:\\Users\\admin\\Anaconda3\\lib\\site-packages\\sklearn\\cluster\\k_means_.py:972: ConvergenceWarning: Number of distinct clusters (2) found smaller than n_clusters (4). Possibly due to duplicate points in X.\n",
      "  return_n_iter=True)\n",
      "C:\\Users\\admin\\Anaconda3\\lib\\site-packages\\sklearn\\cluster\\k_means_.py:972: ConvergenceWarning: Number of distinct clusters (2) found smaller than n_clusters (5). Possibly due to duplicate points in X.\n",
      "  return_n_iter=True)\n",
      "C:\\Users\\admin\\Anaconda3\\lib\\site-packages\\sklearn\\cluster\\k_means_.py:972: ConvergenceWarning: Number of distinct clusters (2) found smaller than n_clusters (6). Possibly due to duplicate points in X.\n",
      "  return_n_iter=True)\n"
     ]
    }
   ],
   "source": [
    "# GMM on natural log values of time series data \n",
    "dfx = np.array(nlog_data['Log Value']).reshape(-1,1)\n",
    "lowest_bic = np.infty\n",
    "bic = []\n",
    "n_components_range = range(1, 7)\n",
    "cv_types = ['spherical', 'tied', 'diag', 'full']\n",
    "for cv_type in cv_types:\n",
    "    for n_components in n_components_range:\n",
    "        # Fit a Gaussian mixture with EM\n",
    "        gmm = mixture.GaussianMixture(n_components=n_components,\n",
    "                                      covariance_type=cv_type)\n",
    "        gmm.fit(dfx)\n",
    "        bic.append(gmm.bic(dfx))\n",
    "        if bic[-1] < lowest_bic:\n",
    "            lowest_bic = bic[-1]\n",
    "            best_gmm1 = gmm"
   ]
  },
  {
   "cell_type": "code",
   "execution_count": 17,
   "metadata": {},
   "outputs": [],
   "source": [
    "# GMM on fft data\n",
    "dfx = freq_ampli.iloc[1:,1:]\n",
    "lowest_bic = np.infty\n",
    "bic = []\n",
    "n_components_range = range(1, 7)\n",
    "cv_types = ['spherical', 'tied', 'diag', 'full']\n",
    "for cv_type in cv_types:\n",
    "    for n_components in n_components_range:\n",
    "        # Fit a Gaussian mixture with EM\n",
    "        gmm = mixture.GaussianMixture(n_components=n_components,\n",
    "                                      covariance_type=cv_type)\n",
    "        gmm.fit(dfx)\n",
    "        bic.append(gmm.bic(dfx))\n",
    "        if bic[-1] < lowest_bic:\n",
    "            lowest_bic = bic[-1]\n",
    "            best_gmm2 = gmm"
   ]
  },
  {
   "cell_type": "code",
   "execution_count": 18,
   "metadata": {},
   "outputs": [],
   "source": [
    "# GMM on cepstrum data \n",
    "dfx = cep.iloc[1:,1:]\n",
    "lowest_bic = np.infty\n",
    "bic = []\n",
    "n_components_range = range(1, 7)\n",
    "cv_types = ['spherical', 'tied', 'diag', 'full']\n",
    "for cv_type in cv_types:\n",
    "    for n_components in n_components_range:\n",
    "        # Fit a Gaussian mixture with EM\n",
    "        gmm = mixture.GaussianMixture(n_components=n_components,\n",
    "                                      covariance_type=cv_type)\n",
    "        gmm.fit(dfx)\n",
    "        bic.append(gmm.bic(dfx))\n",
    "        if bic[-1] < lowest_bic:\n",
    "            lowest_bic = bic[-1]\n",
    "            best_gmm3 = gmm"
   ]
  },
  {
   "cell_type": "markdown",
   "metadata": {},
   "source": [
    "Results of GMM on normal time series data"
   ]
  },
  {
   "cell_type": "code",
   "execution_count": 19,
   "metadata": {},
   "outputs": [
    {
     "data": {
      "text/html": [
       "<div>\n",
       "<style scoped>\n",
       "    .dataframe tbody tr th:only-of-type {\n",
       "        vertical-align: middle;\n",
       "    }\n",
       "\n",
       "    .dataframe tbody tr th {\n",
       "        vertical-align: top;\n",
       "    }\n",
       "\n",
       "    .dataframe thead th {\n",
       "        text-align: right;\n",
       "    }\n",
       "</style>\n",
       "<table border=\"1\" class=\"dataframe\">\n",
       "  <thead>\n",
       "    <tr style=\"text-align: right;\">\n",
       "      <th></th>\n",
       "      <th>Time</th>\n",
       "      <th>Value</th>\n",
       "    </tr>\n",
       "  </thead>\n",
       "  <tbody>\n",
       "    <tr>\n",
       "      <td>count</td>\n",
       "      <td>250.000000</td>\n",
       "      <td>250.000000</td>\n",
       "    </tr>\n",
       "    <tr>\n",
       "      <td>mean</td>\n",
       "      <td>124.500000</td>\n",
       "      <td>75.000000</td>\n",
       "    </tr>\n",
       "    <tr>\n",
       "      <td>std</td>\n",
       "      <td>72.312977</td>\n",
       "      <td>25.050151</td>\n",
       "    </tr>\n",
       "    <tr>\n",
       "      <td>min</td>\n",
       "      <td>0.000000</td>\n",
       "      <td>50.000000</td>\n",
       "    </tr>\n",
       "    <tr>\n",
       "      <td>25%</td>\n",
       "      <td>62.250000</td>\n",
       "      <td>50.000000</td>\n",
       "    </tr>\n",
       "    <tr>\n",
       "      <td>50%</td>\n",
       "      <td>124.500000</td>\n",
       "      <td>75.000000</td>\n",
       "    </tr>\n",
       "    <tr>\n",
       "      <td>75%</td>\n",
       "      <td>186.750000</td>\n",
       "      <td>100.000000</td>\n",
       "    </tr>\n",
       "    <tr>\n",
       "      <td>max</td>\n",
       "      <td>249.000000</td>\n",
       "      <td>100.000000</td>\n",
       "    </tr>\n",
       "  </tbody>\n",
       "</table>\n",
       "</div>"
      ],
      "text/plain": [
       "             Time       Value\n",
       "count  250.000000  250.000000\n",
       "mean   124.500000   75.000000\n",
       "std     72.312977   25.050151\n",
       "min      0.000000   50.000000\n",
       "25%     62.250000   50.000000\n",
       "50%    124.500000   75.000000\n",
       "75%    186.750000  100.000000\n",
       "max    249.000000  100.000000"
      ]
     },
     "execution_count": 19,
     "metadata": {},
     "output_type": "execute_result"
    }
   ],
   "source": [
    "seasonal_data.describe()"
   ]
  },
  {
   "cell_type": "code",
   "execution_count": 20,
   "metadata": {},
   "outputs": [
    {
     "data": {
      "text/plain": [
       "GaussianMixture(covariance_type='tied', init_params='kmeans', max_iter=100,\n",
       "                means_init=None, n_components=2, n_init=1, precisions_init=None,\n",
       "                random_state=None, reg_covar=1e-06, tol=0.001, verbose=0,\n",
       "                verbose_interval=10, warm_start=False, weights_init=None)"
      ]
     },
     "execution_count": 20,
     "metadata": {},
     "output_type": "execute_result"
    }
   ],
   "source": [
    "best_gmm0"
   ]
  },
  {
   "cell_type": "code",
   "execution_count": 21,
   "metadata": {},
   "outputs": [
    {
     "data": {
      "text/plain": [
       "array([0.5, 0.5])"
      ]
     },
     "execution_count": 21,
     "metadata": {},
     "output_type": "execute_result"
    }
   ],
   "source": [
    "best_gmm0.weights_"
   ]
  },
  {
   "cell_type": "code",
   "execution_count": 22,
   "metadata": {},
   "outputs": [
    {
     "data": {
      "text/plain": [
       "array([[100.],\n",
       "       [ 50.]])"
      ]
     },
     "execution_count": 22,
     "metadata": {},
     "output_type": "execute_result"
    }
   ],
   "source": [
    "best_gmm0.means_"
   ]
  },
  {
   "cell_type": "code",
   "execution_count": 23,
   "metadata": {},
   "outputs": [
    {
     "data": {
      "text/plain": [
       "<matplotlib.axes._subplots.AxesSubplot at 0x1417a727408>"
      ]
     },
     "execution_count": 23,
     "metadata": {},
     "output_type": "execute_result"
    },
    {
     "data": {
      "image/png": "[encoded data removed]",
      "text/plain": [
       "<Figure size 432x288 with 1 Axes>"
      ]
     },
     "metadata": {
      "needs_background": "light"
     },
     "output_type": "display_data"
    }
   ],
   "source": [
    "#Time Series\n",
    "sns.distplot(seasonal_data['Value'],kde=False)\n",
    "z,_ = best_gmm0.sample(250)\n",
    "sns.distplot(z,kde=False)"
   ]
  },
  {
   "cell_type": "code",
   "execution_count": 24,
   "metadata": {},
   "outputs": [
    {
     "name": "stdout",
     "output_type": "stream",
     "text": [
      "5.29566956521752\n"
     ]
    }
   ],
   "source": [
    "#Time Series\n",
    "print(best_gmm0.score(np.array(seasonal_data['Value']).reshape(-1,1)))\n",
    "#print(best_gmm0.score(z))"
   ]
  },
  {
   "cell_type": "markdown",
   "metadata": {},
   "source": [
    "Results of GMM on natural log values of time series data"
   ]
  },
  {
   "cell_type": "code",
   "execution_count": 25,
   "metadata": {},
   "outputs": [
    {
     "data": {
      "text/html": [
       "<div>\n",
       "<style scoped>\n",
       "    .dataframe tbody tr th:only-of-type {\n",
       "        vertical-align: middle;\n",
       "    }\n",
       "\n",
       "    .dataframe tbody tr th {\n",
       "        vertical-align: top;\n",
       "    }\n",
       "\n",
       "    .dataframe thead th {\n",
       "        text-align: right;\n",
       "    }\n",
       "</style>\n",
       "<table border=\"1\" class=\"dataframe\">\n",
       "  <thead>\n",
       "    <tr style=\"text-align: right;\">\n",
       "      <th></th>\n",
       "      <th>Time</th>\n",
       "      <th>Log Value</th>\n",
       "    </tr>\n",
       "  </thead>\n",
       "  <tbody>\n",
       "    <tr>\n",
       "      <td>count</td>\n",
       "      <td>250.000000</td>\n",
       "      <td>250.000000</td>\n",
       "    </tr>\n",
       "    <tr>\n",
       "      <td>mean</td>\n",
       "      <td>124.500000</td>\n",
       "      <td>4.258597</td>\n",
       "    </tr>\n",
       "    <tr>\n",
       "      <td>std</td>\n",
       "      <td>72.312977</td>\n",
       "      <td>0.347269</td>\n",
       "    </tr>\n",
       "    <tr>\n",
       "      <td>min</td>\n",
       "      <td>0.000000</td>\n",
       "      <td>3.912023</td>\n",
       "    </tr>\n",
       "    <tr>\n",
       "      <td>25%</td>\n",
       "      <td>62.250000</td>\n",
       "      <td>3.912023</td>\n",
       "    </tr>\n",
       "    <tr>\n",
       "      <td>50%</td>\n",
       "      <td>124.500000</td>\n",
       "      <td>4.258597</td>\n",
       "    </tr>\n",
       "    <tr>\n",
       "      <td>75%</td>\n",
       "      <td>186.750000</td>\n",
       "      <td>4.605170</td>\n",
       "    </tr>\n",
       "    <tr>\n",
       "      <td>max</td>\n",
       "      <td>249.000000</td>\n",
       "      <td>4.605170</td>\n",
       "    </tr>\n",
       "  </tbody>\n",
       "</table>\n",
       "</div>"
      ],
      "text/plain": [
       "             Time   Log Value\n",
       "count  250.000000  250.000000\n",
       "mean   124.500000    4.258597\n",
       "std     72.312977    0.347269\n",
       "min      0.000000    3.912023\n",
       "25%     62.250000    3.912023\n",
       "50%    124.500000    4.258597\n",
       "75%    186.750000    4.605170\n",
       "max    249.000000    4.605170"
      ]
     },
     "execution_count": 25,
     "metadata": {},
     "output_type": "execute_result"
    }
   ],
   "source": [
    "nlog_data.describe()"
   ]
  },
  {
   "cell_type": "code",
   "execution_count": 26,
   "metadata": {},
   "outputs": [
    {
     "data": {
      "text/plain": [
       "GaussianMixture(covariance_type='tied', init_params='kmeans', max_iter=100,\n",
       "                means_init=None, n_components=2, n_init=1, precisions_init=None,\n",
       "                random_state=None, reg_covar=1e-06, tol=0.001, verbose=0,\n",
       "                verbose_interval=10, warm_start=False, weights_init=None)"
      ]
     },
     "execution_count": 26,
     "metadata": {},
     "output_type": "execute_result"
    }
   ],
   "source": [
    "best_gmm1"
   ]
  },
  {
   "cell_type": "code",
   "execution_count": 27,
   "metadata": {},
   "outputs": [
    {
     "data": {
      "text/plain": [
       "array([0.5, 0.5])"
      ]
     },
     "execution_count": 27,
     "metadata": {},
     "output_type": "execute_result"
    }
   ],
   "source": [
    "best_gmm1.weights_"
   ]
  },
  {
   "cell_type": "code",
   "execution_count": 28,
   "metadata": {},
   "outputs": [
    {
     "data": {
      "text/plain": [
       "array([[3.91202301],\n",
       "       [4.60517019]])"
      ]
     },
     "execution_count": 28,
     "metadata": {},
     "output_type": "execute_result"
    }
   ],
   "source": [
    "best_gmm1.means_"
   ]
  },
  {
   "cell_type": "code",
   "execution_count": 29,
   "metadata": {},
   "outputs": [
    {
     "data": {
      "text/plain": [
       "<matplotlib.axes._subplots.AxesSubplot at 0x1417a7da688>"
      ]
     },
     "execution_count": 29,
     "metadata": {},
     "output_type": "execute_result"
    },
    {
     "data": {
      "image/png": "[encoded data removed]",
      "text/plain": [
       "<Figure size 432x288 with 1 Axes>"
      ]
     },
     "metadata": {
      "needs_background": "light"
     },
     "output_type": "display_data"
    }
   ],
   "source": [
    "#Time Series - Log\n",
    "sns.distplot(nlog_data['Log Value'],bins=50,kde = False)\n",
    "z,_ = best_gmm1.sample(250)\n",
    "sns.distplot(z,bins=50,kde=False)"
   ]
  },
  {
   "cell_type": "code",
   "execution_count": 30,
   "metadata": {},
   "outputs": [
    {
     "name": "stdout",
     "output_type": "stream",
     "text": [
      "5.295669527018744\n"
     ]
    }
   ],
   "source": [
    "#Time Series - Log\n",
    "print(best_gmm1.score(np.array(nlog_data['Log Value']).reshape(-1,1)))\n",
    "#print(best_gmm1.score(z))"
   ]
  },
  {
   "cell_type": "markdown",
   "metadata": {},
   "source": [
    "Results of GMM on fft data"
   ]
  },
  {
   "cell_type": "code",
   "execution_count": 31,
   "metadata": {},
   "outputs": [
    {
     "data": {
      "text/html": [
       "<div>\n",
       "<style scoped>\n",
       "    .dataframe tbody tr th:only-of-type {\n",
       "        vertical-align: middle;\n",
       "    }\n",
       "\n",
       "    .dataframe tbody tr th {\n",
       "        vertical-align: top;\n",
       "    }\n",
       "\n",
       "    .dataframe thead th {\n",
       "        text-align: right;\n",
       "    }\n",
       "</style>\n",
       "<table border=\"1\" class=\"dataframe\">\n",
       "  <thead>\n",
       "    <tr style=\"text-align: right;\">\n",
       "      <th></th>\n",
       "      <th>Freq</th>\n",
       "      <th>Ampli</th>\n",
       "    </tr>\n",
       "  </thead>\n",
       "  <tbody>\n",
       "    <tr>\n",
       "      <td>count</td>\n",
       "      <td>125.000000</td>\n",
       "      <td>1.250000e+02</td>\n",
       "    </tr>\n",
       "    <tr>\n",
       "      <td>mean</td>\n",
       "      <td>0.248000</td>\n",
       "      <td>2.005665e+00</td>\n",
       "    </tr>\n",
       "    <tr>\n",
       "      <td>std</td>\n",
       "      <td>0.144914</td>\n",
       "      <td>1.369221e+01</td>\n",
       "    </tr>\n",
       "    <tr>\n",
       "      <td>min</td>\n",
       "      <td>0.000000</td>\n",
       "      <td>0.000000e+00</td>\n",
       "    </tr>\n",
       "    <tr>\n",
       "      <td>25%</td>\n",
       "      <td>0.124000</td>\n",
       "      <td>2.898457e-16</td>\n",
       "    </tr>\n",
       "    <tr>\n",
       "      <td>50%</td>\n",
       "      <td>0.248000</td>\n",
       "      <td>4.001264e-01</td>\n",
       "    </tr>\n",
       "    <tr>\n",
       "      <td>75%</td>\n",
       "      <td>0.372000</td>\n",
       "      <td>5.766570e-01</td>\n",
       "    </tr>\n",
       "    <tr>\n",
       "      <td>max</td>\n",
       "      <td>0.496000</td>\n",
       "      <td>1.500000e+02</td>\n",
       "    </tr>\n",
       "  </tbody>\n",
       "</table>\n",
       "</div>"
      ],
      "text/plain": [
       "             Freq         Ampli\n",
       "count  125.000000  1.250000e+02\n",
       "mean     0.248000  2.005665e+00\n",
       "std      0.144914  1.369221e+01\n",
       "min      0.000000  0.000000e+00\n",
       "25%      0.124000  2.898457e-16\n",
       "50%      0.248000  4.001264e-01\n",
       "75%      0.372000  5.766570e-01\n",
       "max      0.496000  1.500000e+02"
      ]
     },
     "execution_count": 31,
     "metadata": {},
     "output_type": "execute_result"
    }
   ],
   "source": [
    "freq_ampli.describe()"
   ]
  },
  {
   "cell_type": "code",
   "execution_count": 32,
   "metadata": {},
   "outputs": [
    {
     "data": {
      "text/plain": [
       "GaussianMixture(covariance_type='spherical', init_params='kmeans', max_iter=100,\n",
       "                means_init=None, n_components=6, n_init=1, precisions_init=None,\n",
       "                random_state=None, reg_covar=1e-06, tol=0.001, verbose=0,\n",
       "                verbose_interval=10, warm_start=False, weights_init=None)"
      ]
     },
     "execution_count": 32,
     "metadata": {},
     "output_type": "execute_result"
    }
   ],
   "source": [
    "best_gmm2"
   ]
  },
  {
   "cell_type": "code",
   "execution_count": 33,
   "metadata": {},
   "outputs": [
    {
     "data": {
      "text/plain": [
       "array([0.49998201, 0.00806452, 0.0794408 , 0.17951689, 0.00806452,\n",
       "       0.22493127])"
      ]
     },
     "execution_count": 33,
     "metadata": {},
     "output_type": "execute_result"
    }
   ],
   "source": [
    "best_gmm2.weights_"
   ]
  },
  {
   "cell_type": "code",
   "execution_count": 34,
   "metadata": {},
   "outputs": [
    {
     "data": {
      "text/plain": [
       "<matplotlib.axes._subplots.AxesSubplot at 0x1417a829608>"
      ]
     },
     "execution_count": 34,
     "metadata": {},
     "output_type": "execute_result"
    },
    {
     "data": {
      "image/png": "[encoded data removed]",
      "text/plain": [
       "<Figure size 432x288 with 1 Axes>"
      ]
     },
     "metadata": {
      "needs_background": "light"
     },
     "output_type": "display_data"
    }
   ],
   "source": [
    "#Frequency\n",
    "freq1 = freq_ampli.iloc[1:,1:]\n",
    "y,_ = best_gmm2.sample(125)\n",
    "sns.distplot(freq1)\n",
    "sns.distplot(y)"
   ]
  },
  {
   "cell_type": "code",
   "execution_count": 35,
   "metadata": {},
   "outputs": [
    {
     "name": "stdout",
     "output_type": "stream",
     "text": [
      "2.1540114228487637\n"
     ]
    }
   ],
   "source": [
    "#Freq\n",
    "print(best_gmm2.score(freq1))\n",
    "#print(best_gmm2.score(y))"
   ]
  },
  {
   "cell_type": "markdown",
   "metadata": {},
   "source": [
    "Results of GMM on cepstrum data"
   ]
  },
  {
   "cell_type": "code",
   "execution_count": 36,
   "metadata": {},
   "outputs": [
    {
     "data": {
      "text/html": [
       "<div>\n",
       "<style scoped>\n",
       "    .dataframe tbody tr th:only-of-type {\n",
       "        vertical-align: middle;\n",
       "    }\n",
       "\n",
       "    .dataframe tbody tr th {\n",
       "        vertical-align: top;\n",
       "    }\n",
       "\n",
       "    .dataframe thead th {\n",
       "        text-align: right;\n",
       "    }\n",
       "</style>\n",
       "<table border=\"1\" class=\"dataframe\">\n",
       "  <thead>\n",
       "    <tr style=\"text-align: right;\">\n",
       "      <th></th>\n",
       "      <th>Quefrency</th>\n",
       "      <th>Cepstrum</th>\n",
       "    </tr>\n",
       "  </thead>\n",
       "  <tbody>\n",
       "    <tr>\n",
       "      <td>count</td>\n",
       "      <td>125.000000</td>\n",
       "      <td>125.000000</td>\n",
       "    </tr>\n",
       "    <tr>\n",
       "      <td>mean</td>\n",
       "      <td>12.500000</td>\n",
       "      <td>-12.860587</td>\n",
       "    </tr>\n",
       "    <tr>\n",
       "      <td>std</td>\n",
       "      <td>7.304121</td>\n",
       "      <td>428.064152</td>\n",
       "    </tr>\n",
       "    <tr>\n",
       "      <td>min</td>\n",
       "      <td>0.000000</td>\n",
       "      <td>-3161.569033</td>\n",
       "    </tr>\n",
       "    <tr>\n",
       "      <td>25%</td>\n",
       "      <td>6.250000</td>\n",
       "      <td>0.902246</td>\n",
       "    </tr>\n",
       "    <tr>\n",
       "      <td>50%</td>\n",
       "      <td>12.500000</td>\n",
       "      <td>41.846493</td>\n",
       "    </tr>\n",
       "    <tr>\n",
       "      <td>75%</td>\n",
       "      <td>18.750000</td>\n",
       "      <td>78.682117</td>\n",
       "    </tr>\n",
       "    <tr>\n",
       "      <td>max</td>\n",
       "      <td>25.000000</td>\n",
       "      <td>1373.643091</td>\n",
       "    </tr>\n",
       "  </tbody>\n",
       "</table>\n",
       "</div>"
      ],
      "text/plain": [
       "        Quefrency     Cepstrum\n",
       "count  125.000000   125.000000\n",
       "mean    12.500000   -12.860587\n",
       "std      7.304121   428.064152\n",
       "min      0.000000 -3161.569033\n",
       "25%      6.250000     0.902246\n",
       "50%     12.500000    41.846493\n",
       "75%     18.750000    78.682117\n",
       "max     25.000000  1373.643091"
      ]
     },
     "execution_count": 36,
     "metadata": {},
     "output_type": "execute_result"
    }
   ],
   "source": [
    "cep.describe()"
   ]
  },
  {
   "cell_type": "code",
   "execution_count": 37,
   "metadata": {},
   "outputs": [
    {
     "data": {
      "text/plain": [
       "GaussianMixture(covariance_type='diag', init_params='kmeans', max_iter=100,\n",
       "                means_init=None, n_components=6, n_init=1, precisions_init=None,\n",
       "                random_state=None, reg_covar=1e-06, tol=0.001, verbose=0,\n",
       "                verbose_interval=10, warm_start=False, weights_init=None)"
      ]
     },
     "execution_count": 37,
     "metadata": {},
     "output_type": "execute_result"
    }
   ],
   "source": [
    "best_gmm3"
   ]
  },
  {
   "cell_type": "code",
   "execution_count": 38,
   "metadata": {},
   "outputs": [
    {
     "data": {
      "text/plain": [
       "array([0.12228059, 0.00806452, 0.84546135, 0.00806452, 0.00806452,\n",
       "       0.00806452])"
      ]
     },
     "execution_count": 38,
     "metadata": {},
     "output_type": "execute_result"
    }
   ],
   "source": [
    "best_gmm3.weights_"
   ]
  },
  {
   "cell_type": "code",
   "execution_count": 39,
   "metadata": {},
   "outputs": [
    {
     "data": {
      "text/plain": [
       "<matplotlib.axes._subplots.AxesSubplot at 0x1417a970388>"
      ]
     },
     "execution_count": 39,
     "metadata": {},
     "output_type": "execute_result"
    },
    {
     "data": {
      "image/png": "[encoded data removed]",
      "text/plain": [
       "<Figure size 432x288 with 1 Axes>"
      ]
     },
     "metadata": {
      "needs_background": "light"
     },
     "output_type": "display_data"
    }
   ],
   "source": [
    "cep1 = cep.iloc[1:,1:]\n",
    "z,_ = best_gmm3.sample(125)\n",
    "sns.distplot(cep1)\n",
    "sns.distplot(z)"
   ]
  },
  {
   "cell_type": "code",
   "execution_count": 40,
   "metadata": {},
   "outputs": [
    {
     "name": "stdout",
     "output_type": "stream",
     "text": [
      "-5.442695659370517\n"
     ]
    }
   ],
   "source": [
    "print(best_gmm3.score(cep1))\n",
    "#print(best_gmm3.score(z))"
   ]
  },
  {
   "cell_type": "code",
   "execution_count": null,
   "metadata": {},
   "outputs": [],
   "source": []
  }
 ],
 "metadata": {
  "kernelspec": {
   "display_name": "Python 3",
   "language": "python",
   "name": "python3"
  },
  "language_info": {
   "codemirror_mode": {
    "name": "ipython",
    "version": 3
   },
   "file_extension": ".py",
   "mimetype": "text/x-python",
   "name": "python",
   "nbconvert_exporter": "python",
   "pygments_lexer": "ipython3",
   "version": "3.8.5"
  }
 },
 "nbformat": 4,
 "nbformat_minor": 2
}
