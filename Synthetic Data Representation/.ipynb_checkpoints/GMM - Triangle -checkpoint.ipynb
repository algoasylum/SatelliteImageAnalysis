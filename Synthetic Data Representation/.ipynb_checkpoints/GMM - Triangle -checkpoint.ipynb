{
 "cells": [
  {
   "cell_type": "code",
   "execution_count": 1,
   "metadata": {},
   "outputs": [],
   "source": [
    "import numpy as np\n",
    "import pandas as pd\n",
    "import seaborn as sns\n",
    "sns.set(style='whitegrid')\n",
    "sns.set_palette('bright')\n",
    "import matplotlib.pyplot as plt\n",
    "import plotly.express as px\n",
    "import plotly.figure_factory as ff\n",
    "import plotly.graph_objects as go\n",
    "from plotly.subplots import make_subplots\n",
    "from scipy import fftpack\n",
    "import datetime\n",
    "from sklearn import mixture\n",
    "import warnings\n",
    "warnings.filterwarnings('ignore')\n",
    "from scipy import fft\n",
    "from scipy.stats import wasserstein_distance"
   ]
  },
  {
   "cell_type": "code",
   "execution_count": 95,
   "metadata": {},
   "outputs": [
    {
     "data": {
      "text/plain": [
       "'from scipy import signal\\nx = np.arange(0, 250, 1)\\ny = np.zeros(250)\\ny[0:50] = 0\\ny[50:200] = signal.triang(150)\\ny[200:250] = 0\\nplt.plot(x, y)\\nplt.show()'"
      ]
     },
     "execution_count": 95,
     "metadata": {},
     "output_type": "execute_result"
    }
   ],
   "source": [
    "'''from scipy import signal\n",
    "x = np.arange(0, 250, 1)\n",
    "y = np.zeros(250)\n",
    "y[0:50] = 0\n",
    "y[50:200] = signal.triang(150)\n",
    "y[200:250] = 0\n",
    "plt.plot(x, y)\n",
    "plt.show()'''"
   ]
  },
  {
   "cell_type": "code",
   "execution_count": 96,
   "metadata": {},
   "outputs": [
    {
     "data": {
      "image/png": "[encoded data removed]",
      "text/plain": [
       "<Figure size 432x288 with 1 Axes>"
      ]
     },
     "metadata": {},
     "output_type": "display_data"
    }
   ],
   "source": [
    "from scipy import signal\n",
    "x = np.arange(0, 250, 1)\n",
    "y = np.zeros(250)\n",
    "y[0:100] = 0\n",
    "y[100:150] = 10\n",
    "y[150:250] = 0\n",
    "plt.plot(x, y)\n",
    "plt.show()"
   ]
  },
  {
   "cell_type": "code",
   "execution_count": 97,
   "metadata": {},
   "outputs": [],
   "source": [
    "#x = np.arange(1, 31, 1)\n",
    "signal_3 = pd.DataFrame(zip(x,y),columns=['Time','Value'])"
   ]
  },
  {
   "cell_type": "markdown",
   "metadata": {},
   "source": [
    "# GMM on actual time series"
   ]
  },
  {
   "cell_type": "code",
   "execution_count": 4,
   "metadata": {},
   "outputs": [],
   "source": [
    "dfx = signal_3\n",
    "lowest_bic = np.infty\n",
    "bic = []\n",
    "n_components_range = range(1, 50)\n",
    "cv_types = ['spherical', 'tied', 'diag', 'full']\n",
    "for cv_type in cv_types:\n",
    "    for n_components in n_components_range:\n",
    "        # Fit a Gaussian mixture with EM\n",
    "        gmm = mixture.GaussianMixture(n_components=n_components,\n",
    "                                      covariance_type=cv_type)\n",
    "        gmm.fit(dfx)\n",
    "        bic.append(gmm.bic(dfx))\n",
    "        if bic[-1] < lowest_bic:\n",
    "            lowest_bic = bic[-1]\n",
    "            best_gmm = gmm"
   ]
  },
  {
   "cell_type": "code",
   "execution_count": 5,
   "metadata": {
    "scrolled": true
   },
   "outputs": [
    {
     "name": "stdout",
     "output_type": "stream",
     "text": [
      "GaussianMixture(n_components=4) \n",
      "\n",
      "WEIGHTS - [0.2 0.2 0.3 0.3] \n",
      "\n",
      "MEANS (Col 1: Freq; Col 2: Amplitude) - \n",
      " [[2.45000000e+01 2.69342236e-14]\n",
      " [2.24500000e+02 2.69342236e-14]\n",
      " [8.70000000e+01 5.00000000e-01]\n",
      " [1.62000000e+02 5.00000000e-01]] \n",
      "\n"
     ]
    }
   ],
   "source": [
    "print(best_gmm, '\\n')\n",
    "print('WEIGHTS -', best_gmm.weights_, '\\n')\n",
    "print('MEANS (Col 1: Freq; Col 2: Amplitude) - \\n', best_gmm.means_, '\\n')"
   ]
  },
  {
   "cell_type": "code",
   "execution_count": 6,
   "metadata": {},
   "outputs": [
    {
     "data": {
      "image/png": "[encoded data removed]",
      "text/plain": [
       "<Figure size 432x288 with 1 Axes>"
      ]
     },
     "metadata": {},
     "output_type": "display_data"
    }
   ],
   "source": [
    "z,_ = best_gmm.sample(250)\n",
    "plt.title('Actual data')\n",
    "sns.lineplot(signal_3['Time'], signal_3['Value'])\n",
    "#plt.show()\n",
    "plt.title('Values given by GMM')\n",
    "sns.lineplot(z[:,0],z[:,1])\n",
    "plt.show()"
   ]
  },
  {
   "cell_type": "code",
   "execution_count": 49,
   "metadata": {},
   "outputs": [
    {
     "data": {
      "text/plain": [
       "0.031064409415122278"
      ]
     },
     "execution_count": 49,
     "metadata": {},
     "output_type": "execute_result"
    }
   ],
   "source": [
    "wasserstein_distance(signal_3['Value'], z[:, 1])"
   ]
  },
  {
   "cell_type": "markdown",
   "metadata": {},
   "source": [
    "# GMM on abs FFT"
   ]
  },
  {
   "cell_type": "code",
   "execution_count": 4,
   "metadata": {},
   "outputs": [],
   "source": [
    "def freq(df):\n",
    "    N = df.shape[0]\n",
    "    y = np.array(df['Value'])\n",
    "    f = fftpack.fftfreq(len(y))\n",
    "    yf = fftpack.fft(y)\n",
    "    fft_data = pd.DataFrame(zip(np.abs(f[:N//2+1]),np.abs(yf[:N//2+1])),columns=['Freq','Ampli'])\n",
    "    return fft_data"
   ]
  },
  {
   "cell_type": "code",
   "execution_count": 5,
   "metadata": {},
   "outputs": [],
   "source": [
    "freq_ampli = freq(signal_3)"
   ]
  },
  {
   "cell_type": "code",
   "execution_count": 6,
   "metadata": {},
   "outputs": [
    {
     "data": {
      "text/plain": [
       "<AxesSubplot:xlabel='Freq', ylabel='Ampli'>"
      ]
     },
     "execution_count": 6,
     "metadata": {},
     "output_type": "execute_result"
    },
    {
     "data": {
      "image/png": "[encoded data removed]",
      "text/plain": [
       "<Figure size 432x288 with 1 Axes>"
      ]
     },
     "metadata": {},
     "output_type": "display_data"
    }
   ],
   "source": [
    "#plt.figure(figsize=(10,6))\n",
    "sns.lineplot(freq_ampli['Freq'], freq_ampli['Ampli'])\n",
    "#plt.xlim(-0.1, 0.1)"
   ]
  },
  {
   "cell_type": "code",
   "execution_count": 11,
   "metadata": {},
   "outputs": [],
   "source": [
    "def GMM_fit(df):\n",
    "    dfx = df\n",
    "    lowest_bic = np.infty\n",
    "    bic = []\n",
    "    n_components_range = range(1, 50)\n",
    "    cv_types = ['spherical', 'tied', 'diag', 'full']\n",
    "    for cv_type in cv_types:\n",
    "        for n_components in n_components_range:\n",
    "            # Fit a Gaussian mixture with EM\n",
    "            gmm = mixture.GaussianMixture(n_components=n_components,\n",
    "                                          covariance_type=cv_type)\n",
    "            gmm.fit(dfx)\n",
    "            bic.append(gmm.bic(dfx))\n",
    "            if bic[-1] < lowest_bic:\n",
    "                lowest_bic = bic[-1]\n",
    "                best_gmm = gmm\n",
    "    return best_gmm\n",
    "best_gmm1 = GMM_fit(freq_ampli)"
   ]
  },
  {
   "cell_type": "code",
   "execution_count": 12,
   "metadata": {},
   "outputs": [
    {
     "name": "stdout",
     "output_type": "stream",
     "text": [
      "GaussianMixture(covariance_type='diag', n_components=9) \n",
      "\n",
      "WEIGHTS - [0.37582314 0.00793651 0.00793651 0.00793651 0.00793651 0.34304364\n",
      " 0.06279001 0.00793651 0.17866067] \n",
      "\n",
      "MEANS (Col 1: Freq; Col 2: Amplitude) - \n",
      " [[4.02096960e-01 1.76197525e-03]\n",
      " [0.00000000e+00 7.50000000e+01]\n",
      " [4.00000000e-03 5.52615252e+01]\n",
      " [8.00000000e-03 1.90908794e+01]\n",
      " [1.60000000e-02 1.82244031e+00]\n",
      " [2.25984376e-01 1.12713508e-02]\n",
      " [3.75265235e-02 6.41717253e-01]\n",
      " [2.00000000e-02 3.37514749e+00]\n",
      " [1.04236209e-01 7.87098656e-02]] \n",
      "\n"
     ]
    }
   ],
   "source": [
    "print(best_gmm1, '\\n')\n",
    "print('WEIGHTS -', best_gmm1.weights_, '\\n')\n",
    "print('MEANS (Col 1: Freq; Col 2: Amplitude) - \\n', best_gmm1.means_, '\\n')"
   ]
  },
  {
   "cell_type": "code",
   "execution_count": 13,
   "metadata": {},
   "outputs": [
    {
     "data": {
      "image/png": "[encoded data removed]",
      "text/plain": [
       "<Figure size 432x288 with 1 Axes>"
      ]
     },
     "metadata": {},
     "output_type": "display_data"
    },
    {
     "data": {
      "image/png": "[encoded data removed]",
      "text/plain": [
       "<Figure size 432x288 with 1 Axes>"
      ]
     },
     "metadata": {},
     "output_type": "display_data"
    }
   ],
   "source": [
    "z2,_ = best_gmm1.sample(126)\n",
    "plt.title('Actual data')\n",
    "sns.lineplot(freq_ampli['Freq'], freq_ampli['Ampli'])\n",
    "plt.show()\n",
    "plt.title('Values given by GMM')\n",
    "sns.lineplot(z2[:,0],z2[:,1])\n",
    "plt.show()"
   ]
  },
  {
   "cell_type": "code",
   "execution_count": 51,
   "metadata": {},
   "outputs": [
    {
     "data": {
      "text/plain": [
       "8.096282238570373"
      ]
     },
     "execution_count": 51,
     "metadata": {},
     "output_type": "execute_result"
    }
   ],
   "source": [
    "wasserstein_distance(freq_ampli['Ampli'], z2[:, 1])"
   ]
  },
  {
   "cell_type": "code",
   "execution_count": 52,
   "metadata": {},
   "outputs": [
    {
     "data": {
      "image/png": "[encoded data removed]",
      "text/plain": [
       "<Figure size 432x288 with 1 Axes>"
      ]
     },
     "metadata": {},
     "output_type": "display_data"
    }
   ],
   "source": [
    "sns.distplot(freq_ampli['Ampli'], kde = True)\n",
    "sns.distplot(z2[:, 1], kde = True)\n",
    "#plt.ylim(0.0, 0.2)\n",
    "plt.show()"
   ]
  },
  {
   "cell_type": "markdown",
   "metadata": {},
   "source": [
    "# GMM on FFT of actual time series"
   ]
  },
  {
   "cell_type": "code",
   "execution_count": 98,
   "metadata": {},
   "outputs": [],
   "source": [
    "def freq(df):\n",
    "    N = df.shape[0]\n",
    "    y = np.array(df['Value'])\n",
    "    f = fftpack.fftfreq(len(y))\n",
    "    yf = fftpack.fft(y)\n",
    "    freq_ampli_real = pd.DataFrame(zip(f[:N//2+1],yf[:N//2+1].real),columns=['Freq','Ampli'])\n",
    "    freq_ampli_img = pd.DataFrame(zip(f[:N//2+1],yf[:N//2+1].imag),columns=['Freq','Ampli'])\n",
    "    return freq_ampli_real,freq_ampli_img\n",
    "freq_ampli3,freq_ampli3i = freq(signal_3)"
   ]
  },
  {
   "cell_type": "code",
   "execution_count": 99,
   "metadata": {},
   "outputs": [
    {
     "data": {
      "image/png": "[encoded data removed]",
      "text/plain": [
       "<Figure size 432x288 with 1 Axes>"
      ]
     },
     "metadata": {},
     "output_type": "display_data"
    },
    {
     "data": {
      "image/png": "[encoded data removed]",
      "text/plain": [
       "<Figure size 432x288 with 1 Axes>"
      ]
     },
     "metadata": {},
     "output_type": "display_data"
    }
   ],
   "source": [
    "plt.scatter(freq_ampli3['Freq'], freq_ampli3['Ampli'])\n",
    "plt.title('Real values of FFT')\n",
    "plt.show()\n",
    "plt.scatter(freq_ampli3i['Freq'], freq_ampli3i['Ampli'])\n",
    "plt.title('Imaginary values of FFT')\n",
    "plt.show()"
   ]
  },
  {
   "cell_type": "code",
   "execution_count": 100,
   "metadata": {},
   "outputs": [
    {
     "data": {
      "image/png": "[encoded data removed]",
      "text/plain": [
       "<Figure size 432x288 with 1 Axes>"
      ]
     },
     "metadata": {},
     "output_type": "display_data"
    },
    {
     "data": {
      "image/png": "[encoded data removed]",
      "text/plain": [
       "<Figure size 432x288 with 1 Axes>"
      ]
     },
     "metadata": {},
     "output_type": "display_data"
    }
   ],
   "source": [
    "freq_ampli3['Ampli'] = np.log(freq_ampli3[\"Ampli\"])\n",
    "freq_ampli3 = freq_ampli3.loc[freq_ampli3['Ampli'] != float('-inf')]\n",
    "freq_ampli3 = freq_ampli3.dropna()\n",
    "plt.scatter(freq_ampli3['Freq'], freq_ampli3['Ampli'])\n",
    "plt.show()\n",
    "freq_ampli3i['Ampli'] = np.log(freq_ampli3i[\"Ampli\"])\n",
    "freq_ampli3i = freq_ampli3i.loc[freq_ampli3i['Ampli'] != float('-inf')]\n",
    "freq_ampli3i = freq_ampli3i.dropna()\n",
    "plt.scatter(freq_ampli3i['Freq'], freq_ampli3i['Ampli'])\n",
    "plt.show()"
   ]
  },
  {
   "cell_type": "code",
   "execution_count": 101,
   "metadata": {},
   "outputs": [
    {
     "data": {
      "text/html": [
       "<div>\n",
       "<style scoped>\n",
       "    .dataframe tbody tr th:only-of-type {\n",
       "        vertical-align: middle;\n",
       "    }\n",
       "\n",
       "    .dataframe tbody tr th {\n",
       "        vertical-align: top;\n",
       "    }\n",
       "\n",
       "    .dataframe thead th {\n",
       "        text-align: right;\n",
       "    }\n",
       "</style>\n",
       "<table border=\"1\" class=\"dataframe\">\n",
       "  <thead>\n",
       "    <tr style=\"text-align: right;\">\n",
       "      <th></th>\n",
       "      <th>Freq</th>\n",
       "      <th>Ampli</th>\n",
       "    </tr>\n",
       "  </thead>\n",
       "  <tbody>\n",
       "    <tr>\n",
       "      <th>2</th>\n",
       "      <td>0.008</td>\n",
       "      <td>2.252403</td>\n",
       "    </tr>\n",
       "    <tr>\n",
       "      <th>4</th>\n",
       "      <td>0.016</td>\n",
       "      <td>1.771191</td>\n",
       "    </tr>\n",
       "    <tr>\n",
       "      <th>7</th>\n",
       "      <td>0.028</td>\n",
       "      <td>2.252403</td>\n",
       "    </tr>\n",
       "    <tr>\n",
       "      <th>9</th>\n",
       "      <td>0.036</td>\n",
       "      <td>1.771191</td>\n",
       "    </tr>\n",
       "    <tr>\n",
       "      <th>12</th>\n",
       "      <td>0.048</td>\n",
       "      <td>2.252403</td>\n",
       "    </tr>\n",
       "    <tr>\n",
       "      <th>14</th>\n",
       "      <td>0.056</td>\n",
       "      <td>1.771191</td>\n",
       "    </tr>\n",
       "    <tr>\n",
       "      <th>17</th>\n",
       "      <td>0.068</td>\n",
       "      <td>2.252403</td>\n",
       "    </tr>\n",
       "    <tr>\n",
       "      <th>19</th>\n",
       "      <td>0.076</td>\n",
       "      <td>1.771191</td>\n",
       "    </tr>\n",
       "    <tr>\n",
       "      <th>22</th>\n",
       "      <td>0.088</td>\n",
       "      <td>2.252403</td>\n",
       "    </tr>\n",
       "    <tr>\n",
       "      <th>24</th>\n",
       "      <td>0.096</td>\n",
       "      <td>1.771191</td>\n",
       "    </tr>\n",
       "    <tr>\n",
       "      <th>27</th>\n",
       "      <td>0.108</td>\n",
       "      <td>2.252403</td>\n",
       "    </tr>\n",
       "    <tr>\n",
       "      <th>29</th>\n",
       "      <td>0.116</td>\n",
       "      <td>1.771191</td>\n",
       "    </tr>\n",
       "    <tr>\n",
       "      <th>32</th>\n",
       "      <td>0.128</td>\n",
       "      <td>2.252403</td>\n",
       "    </tr>\n",
       "    <tr>\n",
       "      <th>34</th>\n",
       "      <td>0.136</td>\n",
       "      <td>1.771191</td>\n",
       "    </tr>\n",
       "    <tr>\n",
       "      <th>37</th>\n",
       "      <td>0.148</td>\n",
       "      <td>2.252403</td>\n",
       "    </tr>\n",
       "    <tr>\n",
       "      <th>39</th>\n",
       "      <td>0.156</td>\n",
       "      <td>1.771191</td>\n",
       "    </tr>\n",
       "    <tr>\n",
       "      <th>42</th>\n",
       "      <td>0.168</td>\n",
       "      <td>2.252403</td>\n",
       "    </tr>\n",
       "    <tr>\n",
       "      <th>44</th>\n",
       "      <td>0.176</td>\n",
       "      <td>1.771191</td>\n",
       "    </tr>\n",
       "    <tr>\n",
       "      <th>47</th>\n",
       "      <td>0.188</td>\n",
       "      <td>2.252403</td>\n",
       "    </tr>\n",
       "    <tr>\n",
       "      <th>49</th>\n",
       "      <td>0.196</td>\n",
       "      <td>1.771191</td>\n",
       "    </tr>\n",
       "    <tr>\n",
       "      <th>52</th>\n",
       "      <td>0.208</td>\n",
       "      <td>2.252403</td>\n",
       "    </tr>\n",
       "    <tr>\n",
       "      <th>54</th>\n",
       "      <td>0.216</td>\n",
       "      <td>1.771191</td>\n",
       "    </tr>\n",
       "    <tr>\n",
       "      <th>57</th>\n",
       "      <td>0.228</td>\n",
       "      <td>2.252403</td>\n",
       "    </tr>\n",
       "    <tr>\n",
       "      <th>59</th>\n",
       "      <td>0.236</td>\n",
       "      <td>1.771191</td>\n",
       "    </tr>\n",
       "    <tr>\n",
       "      <th>62</th>\n",
       "      <td>0.248</td>\n",
       "      <td>2.252403</td>\n",
       "    </tr>\n",
       "    <tr>\n",
       "      <th>64</th>\n",
       "      <td>0.256</td>\n",
       "      <td>1.771191</td>\n",
       "    </tr>\n",
       "    <tr>\n",
       "      <th>67</th>\n",
       "      <td>0.268</td>\n",
       "      <td>2.252403</td>\n",
       "    </tr>\n",
       "    <tr>\n",
       "      <th>69</th>\n",
       "      <td>0.276</td>\n",
       "      <td>1.771191</td>\n",
       "    </tr>\n",
       "    <tr>\n",
       "      <th>72</th>\n",
       "      <td>0.288</td>\n",
       "      <td>2.252403</td>\n",
       "    </tr>\n",
       "    <tr>\n",
       "      <th>74</th>\n",
       "      <td>0.296</td>\n",
       "      <td>1.771191</td>\n",
       "    </tr>\n",
       "    <tr>\n",
       "      <th>77</th>\n",
       "      <td>0.308</td>\n",
       "      <td>2.252403</td>\n",
       "    </tr>\n",
       "    <tr>\n",
       "      <th>79</th>\n",
       "      <td>0.316</td>\n",
       "      <td>1.771191</td>\n",
       "    </tr>\n",
       "    <tr>\n",
       "      <th>82</th>\n",
       "      <td>0.328</td>\n",
       "      <td>2.252403</td>\n",
       "    </tr>\n",
       "    <tr>\n",
       "      <th>84</th>\n",
       "      <td>0.336</td>\n",
       "      <td>1.771191</td>\n",
       "    </tr>\n",
       "    <tr>\n",
       "      <th>87</th>\n",
       "      <td>0.348</td>\n",
       "      <td>2.252403</td>\n",
       "    </tr>\n",
       "    <tr>\n",
       "      <th>89</th>\n",
       "      <td>0.356</td>\n",
       "      <td>1.771191</td>\n",
       "    </tr>\n",
       "    <tr>\n",
       "      <th>92</th>\n",
       "      <td>0.368</td>\n",
       "      <td>2.252403</td>\n",
       "    </tr>\n",
       "    <tr>\n",
       "      <th>94</th>\n",
       "      <td>0.376</td>\n",
       "      <td>1.771191</td>\n",
       "    </tr>\n",
       "    <tr>\n",
       "      <th>97</th>\n",
       "      <td>0.388</td>\n",
       "      <td>2.252403</td>\n",
       "    </tr>\n",
       "    <tr>\n",
       "      <th>99</th>\n",
       "      <td>0.396</td>\n",
       "      <td>1.771191</td>\n",
       "    </tr>\n",
       "    <tr>\n",
       "      <th>102</th>\n",
       "      <td>0.408</td>\n",
       "      <td>2.252403</td>\n",
       "    </tr>\n",
       "    <tr>\n",
       "      <th>104</th>\n",
       "      <td>0.416</td>\n",
       "      <td>1.771191</td>\n",
       "    </tr>\n",
       "    <tr>\n",
       "      <th>107</th>\n",
       "      <td>0.428</td>\n",
       "      <td>2.252403</td>\n",
       "    </tr>\n",
       "    <tr>\n",
       "      <th>109</th>\n",
       "      <td>0.436</td>\n",
       "      <td>1.771191</td>\n",
       "    </tr>\n",
       "    <tr>\n",
       "      <th>112</th>\n",
       "      <td>0.448</td>\n",
       "      <td>2.252403</td>\n",
       "    </tr>\n",
       "    <tr>\n",
       "      <th>114</th>\n",
       "      <td>0.456</td>\n",
       "      <td>1.771191</td>\n",
       "    </tr>\n",
       "    <tr>\n",
       "      <th>117</th>\n",
       "      <td>0.468</td>\n",
       "      <td>2.252403</td>\n",
       "    </tr>\n",
       "    <tr>\n",
       "      <th>119</th>\n",
       "      <td>0.476</td>\n",
       "      <td>1.771191</td>\n",
       "    </tr>\n",
       "    <tr>\n",
       "      <th>122</th>\n",
       "      <td>0.488</td>\n",
       "      <td>2.252403</td>\n",
       "    </tr>\n",
       "    <tr>\n",
       "      <th>124</th>\n",
       "      <td>0.496</td>\n",
       "      <td>1.771191</td>\n",
       "    </tr>\n",
       "  </tbody>\n",
       "</table>\n",
       "</div>"
      ],
      "text/plain": [
       "      Freq     Ampli\n",
       "2    0.008  2.252403\n",
       "4    0.016  1.771191\n",
       "7    0.028  2.252403\n",
       "9    0.036  1.771191\n",
       "12   0.048  2.252403\n",
       "14   0.056  1.771191\n",
       "17   0.068  2.252403\n",
       "19   0.076  1.771191\n",
       "22   0.088  2.252403\n",
       "24   0.096  1.771191\n",
       "27   0.108  2.252403\n",
       "29   0.116  1.771191\n",
       "32   0.128  2.252403\n",
       "34   0.136  1.771191\n",
       "37   0.148  2.252403\n",
       "39   0.156  1.771191\n",
       "42   0.168  2.252403\n",
       "44   0.176  1.771191\n",
       "47   0.188  2.252403\n",
       "49   0.196  1.771191\n",
       "52   0.208  2.252403\n",
       "54   0.216  1.771191\n",
       "57   0.228  2.252403\n",
       "59   0.236  1.771191\n",
       "62   0.248  2.252403\n",
       "64   0.256  1.771191\n",
       "67   0.268  2.252403\n",
       "69   0.276  1.771191\n",
       "72   0.288  2.252403\n",
       "74   0.296  1.771191\n",
       "77   0.308  2.252403\n",
       "79   0.316  1.771191\n",
       "82   0.328  2.252403\n",
       "84   0.336  1.771191\n",
       "87   0.348  2.252403\n",
       "89   0.356  1.771191\n",
       "92   0.368  2.252403\n",
       "94   0.376  1.771191\n",
       "97   0.388  2.252403\n",
       "99   0.396  1.771191\n",
       "102  0.408  2.252403\n",
       "104  0.416  1.771191\n",
       "107  0.428  2.252403\n",
       "109  0.436  1.771191\n",
       "112  0.448  2.252403\n",
       "114  0.456  1.771191\n",
       "117  0.468  2.252403\n",
       "119  0.476  1.771191\n",
       "122  0.488  2.252403\n",
       "124  0.496  1.771191"
      ]
     },
     "execution_count": 101,
     "metadata": {},
     "output_type": "execute_result"
    }
   ],
   "source": [
    "freq_ampli3i"
   ]
  },
  {
   "cell_type": "code",
   "execution_count": 102,
   "metadata": {},
   "outputs": [],
   "source": [
    "def GMM_fit(df):\n",
    "    dfx = df\n",
    "    lowest_bic = np.infty\n",
    "    bic = []\n",
    "    n_components_range = range(1, 50)\n",
    "    cv_types = ['spherical', 'tied', 'diag', 'full']\n",
    "    for cv_type in cv_types:\n",
    "        for n_components in n_components_range:\n",
    "            # Fit a Gaussian mixture with EM\n",
    "            gmm = mixture.GaussianMixture(n_components=n_components,\n",
    "                                          covariance_type=cv_type)\n",
    "            gmm.fit(dfx)\n",
    "            bic.append(gmm.bic(dfx))\n",
    "            if bic[-1] < lowest_bic:\n",
    "                lowest_bic = bic[-1]\n",
    "                best_gmm = gmm\n",
    "    return best_gmm"
   ]
  },
  {
   "cell_type": "code",
   "execution_count": 103,
   "metadata": {},
   "outputs": [],
   "source": [
    "best_gmm0 = GMM_fit(freq_ampli3)                        # GMM on real part of FFT data\n",
    "best_gmm0i = GMM_fit(freq_ampli3i)                      # GMM on imaginary part of FFT data"
   ]
  },
  {
   "cell_type": "code",
   "execution_count": 104,
   "metadata": {},
   "outputs": [
    {
     "name": "stdout",
     "output_type": "stream",
     "text": [
      "GaussianMixture(covariance_type='spherical', n_components=49) \n",
      "\n",
      "WEIGHTS - [0.01886792 0.01886792 0.01886792 0.01886792 0.01886792 0.01886792\n",
      " 0.01886792 0.01886792 0.03773585 0.01886792 0.01886792 0.01886792\n",
      " 0.03773585 0.01886792 0.01886792 0.01886792 0.03773585 0.01886792\n",
      " 0.01886792 0.01886792 0.01886792 0.03773585 0.01886792 0.01886792\n",
      " 0.01886792 0.01886792 0.01886792 0.01886792 0.01886792 0.01886792\n",
      " 0.01886792 0.01886792 0.01886792 0.01886792 0.01886792 0.01886792\n",
      " 0.01886792 0.01886792 0.01886792 0.01886792 0.01886792 0.01886792\n",
      " 0.01886792 0.01886792 0.01886792 0.01886792 0.01886792 0.01886792\n",
      " 0.01886792] \n",
      "\n",
      "MEANS (Col 1: Freq; Col 2: Amplitude) - \n",
      " [[ 2.96000000e-01  1.47805479e+00]\n",
      " [ 3.00000000e-01 -3.36407047e+01]\n",
      " [ 3.60000000e-02  3.94642149e+00]\n",
      " [ 4.68000000e-01 -4.15093954e-02]\n",
      " [ 2.28000000e-01  2.39107570e+00]\n",
      " [ 8.00000000e-03  5.93577657e+00]\n",
      " [ 1.08000000e-01  3.29385911e+00]\n",
      " [ 4.96000000e-01 -2.60548691e+00]\n",
      " [ 3.82000000e-01  1.04461181e+00]\n",
      " [ 4.76000000e-01 -8.11882603e-01]\n",
      " [ 1.60000000e-02  4.76078545e+00]\n",
      " [ 2.88000000e-01  2.01134088e+00]\n",
      " [ 4.32000000e-01  4.56077094e-01]\n",
      " [ 1.68000000e-01  2.79205906e+00]\n",
      " [ 2.00000000e-01 -3.30017882e+01]\n",
      " [ 3.48000000e-01  1.59359064e+00]\n",
      " [ 7.20000000e-02  3.50531189e+00]\n",
      " [ 0.00000000e+00  6.21460810e+00]\n",
      " [ 3.96000000e-01  6.89054021e-01]\n",
      " [ 3.88000000e-01  1.25038017e+00]\n",
      " [ 1.36000000e-01  2.55797976e+00]\n",
      " [ 1.22000000e-01  2.94058613e+00]\n",
      " [ 4.36000000e-01  1.80653040e-01]\n",
      " [ 2.36000000e-01  1.85926973e+00]\n",
      " [ 3.28000000e-01  1.74142906e+00]\n",
      " [ 4.88000000e-01 -1.02524154e+00]\n",
      " [ 4.80000000e-02  4.13660735e+00]\n",
      " [ 1.28000000e-01  3.10736618e+00]\n",
      " [ 1.76000000e-01  2.25386629e+00]\n",
      " [ 1.96000000e-01  2.11718717e+00]\n",
      " [ 3.76000000e-01  8.80904033e-01]\n",
      " [ 1.88000000e-01  2.65220479e+00]\n",
      " [ 4.56000000e-01 -2.01246546e-01]\n",
      " [ 6.80000000e-02  3.78054454e+00]\n",
      " [ 3.16000000e-01  1.34407770e+00]\n",
      " [ 7.60000000e-02  3.18422437e+00]\n",
      " [ 4.28000000e-01  7.83305285e-01]\n",
      " [ 2.16000000e-01  1.98646346e+00]\n",
      " [ 3.68000000e-01  1.43192006e+00]\n",
      " [ 2.68000000e-01  2.13906409e+00]\n",
      " [ 1.16000000e-01  2.73493302e+00]\n",
      " [ 2.08000000e-01  2.51941444e+00]\n",
      " [ 3.08000000e-01  1.87963370e+00]\n",
      " [ 2.80000000e-02  4.68064026e+00]\n",
      " [ 2.76000000e-01  1.60709715e+00]\n",
      " [ 2.48000000e-01  2.26497000e+00]\n",
      " [ 1.56000000e-01  2.39948437e+00]\n",
      " [ 2.56000000e-01  1.73348343e+00]\n",
      " [ 3.36000000e-01  1.20244304e+00]] \n",
      "\n"
     ]
    }
   ],
   "source": [
    "print(best_gmm0, '\\n')\n",
    "print('WEIGHTS -', best_gmm0.weights_, '\\n')\n",
    "print('MEANS (Col 1: Freq; Col 2: Amplitude) - \\n',best_gmm0.means_, '\\n')"
   ]
  },
  {
   "cell_type": "code",
   "execution_count": 140,
   "metadata": {},
   "outputs": [
    {
     "name": "stdout",
     "output_type": "stream",
     "text": [
      "GaussianMixture(covariance_type='tied', n_components=2) \n",
      "\n",
      "WEIGHTS - [0.5 0.5] \n",
      "\n",
      "MEANS (Col 1: Freq; Col 2: Amplitude) - \n",
      " [[0.256      1.77119148]\n",
      " [0.248      2.2524033 ]] \n",
      "\n"
     ]
    }
   ],
   "source": [
    "print(best_gmm0i, '\\n')\n",
    "print('WEIGHTS -', best_gmm0i.weights_, '\\n')\n",
    "print('MEANS (Col 1: Freq; Col 2: Amplitude) - \\n',best_gmm0i.means_, '\\n')"
   ]
  },
  {
   "cell_type": "code",
   "execution_count": 141,
   "metadata": {},
   "outputs": [],
   "source": [
    "#Sampling\n",
    "z1,_ = best_gmm0.sample(126)\n",
    "z1i,_ = best_gmm0i.sample(126)"
   ]
  },
  {
   "cell_type": "code",
   "execution_count": 142,
   "metadata": {},
   "outputs": [
    {
     "data": {
      "image/png": "[encoded data removed]",
      "text/plain": [
       "<Figure size 432x288 with 2 Axes>"
      ]
     },
     "metadata": {},
     "output_type": "display_data"
    }
   ],
   "source": [
    "fig, ax = plt.subplots(2, sharex='all', sharey='all')\n",
    "ax[0].scatter(freq_ampli3['Freq'], freq_ampli3['Ampli'])\n",
    "#plt.show()\n",
    "ax[1].scatter(z1[:, 0], z1[:, 1])\n",
    "plt.show()"
   ]
  },
  {
   "cell_type": "code",
   "execution_count": 143,
   "metadata": {},
   "outputs": [
    {
     "data": {
      "image/png": "[encoded data removed]",
      "text/plain": [
       "<Figure size 432x288 with 2 Axes>"
      ]
     },
     "metadata": {},
     "output_type": "display_data"
    }
   ],
   "source": [
    "fig, ax = plt.subplots(2, sharex='all', sharey='all')\n",
    "ax[0].scatter(freq_ampli3i['Freq'], freq_ampli3i['Ampli'])\n",
    "#plt.show()\n",
    "ax[1].scatter(z1i[:, 0], z1i[:, 1])\n",
    "plt.show()"
   ]
  },
  {
   "cell_type": "code",
   "execution_count": 144,
   "metadata": {},
   "outputs": [],
   "source": [
    "#print('Real: ', wasserstein_distance(freq_ampli3['Ampli'], z1[:, 1]))\n",
    "#print('Imag: ', wasserstein_distance(freq_ampli3i['Ampli'], z1i[:, 1]))"
   ]
  },
  {
   "cell_type": "code",
   "execution_count": 145,
   "metadata": {},
   "outputs": [],
   "source": [
    "z1[:, 1] = np.exp(z1[:, 1])\n",
    "z1i[:, 1] = np.exp(z1i[:, 1])"
   ]
  },
  {
   "cell_type": "code",
   "execution_count": 146,
   "metadata": {},
   "outputs": [],
   "source": [
    "sample_1 = pd.DataFrame(zip(z1[:,0],z1[:,1]),columns=['Freq','Ampli'])           \n",
    "sample_1i = pd.DataFrame(zip(z1i[:,0],z1i[:,1]),columns=['Freq','Ampli'])"
   ]
  },
  {
   "cell_type": "code",
   "execution_count": 147,
   "metadata": {},
   "outputs": [],
   "source": [
    "sample_1 = sample_1.sort_values(by=['Freq'],ascending=True)     \n",
    "sample_1 = sample_1[sample_1.Freq > 0]                           \n",
    "sample_1i = sample_1i.sort_values(by=['Freq'],ascending=True)\n",
    "sample_1i = sample_1i[sample_1i.Freq > 0]                        "
   ]
  },
  {
   "cell_type": "code",
   "execution_count": 148,
   "metadata": {},
   "outputs": [],
   "source": [
    "#sample_1 = sample_1[(sample_1.Ampli>1) | (sample_1.Ampli<-1)]\n",
    "#sample_1i = sample_1i[(sample_1i.Ampli>1) | (sample_1i.Ampli<-1)]"
   ]
  },
  {
   "cell_type": "code",
   "execution_count": 149,
   "metadata": {},
   "outputs": [],
   "source": [
    "f = fftpack.fftfreq(250)                                    # The frequency corresponding to each value in FFT is stored in 'f'"
   ]
  },
  {
   "cell_type": "code",
   "execution_count": 150,
   "metadata": {},
   "outputs": [],
   "source": [
    "sd = dict(zip(np.round(f,3),np.zeros(len(f))))"
   ]
  },
  {
   "cell_type": "code",
   "execution_count": 151,
   "metadata": {},
   "outputs": [],
   "source": [
    "sample_1.Freq = sample_1.Freq.apply(lambda x:round(x,3))       \n",
    "sample_1i.Freq = sample_1i.Freq.apply(lambda x:round(x,3))"
   ]
  },
  {
   "cell_type": "code",
   "execution_count": 152,
   "metadata": {},
   "outputs": [],
   "source": [
    "samp_1 = dict(zip(sample_1.Freq,sample_1.Ampli))\n",
    "samp_1i = dict(zip(sample_1i.Freq,sample_1i.Ampli))"
   ]
  },
  {
   "cell_type": "code",
   "execution_count": 153,
   "metadata": {},
   "outputs": [
    {
     "data": {
      "text/plain": [
       "{0.0: 0.0,\n",
       " 0.004: 0.0,\n",
       " 0.008: 378.22013362872116,\n",
       " 0.012: 0.0,\n",
       " 0.016: 116.89454829621637,\n",
       " 0.02: 0.0,\n",
       " 0.024: 0.0,\n",
       " 0.028: 107.90463078551653,\n",
       " 0.032: 0.0,\n",
       " 0.036: 0.0,\n",
       " 0.04: 0.0,\n",
       " 0.044: 0.0,\n",
       " 0.048: 62.57750541759746,\n",
       " 0.052: 0.0,\n",
       " 0.056: 0.0,\n",
       " 0.06: 0.0,\n",
       " 0.064: 0.0,\n",
       " 0.068: 34.12629190033352,\n",
       " 0.072: 0.0,\n",
       " 0.076: 32.772537977489904,\n",
       " 0.08: 0.0,\n",
       " 0.084: 0.0,\n",
       " 0.088: 0.0,\n",
       " 0.092: 33.58959448178539,\n",
       " 0.096: 0.0,\n",
       " 0.1: 18.354609055842666,\n",
       " 0.104: 0.0,\n",
       " 0.108: 26.942432218678942,\n",
       " 0.112: 0.0,\n",
       " 0.116: 19.01860727535495,\n",
       " 0.12: 0.0,\n",
       " 0.124: 0.0,\n",
       " 0.128: 22.351692892273316,\n",
       " 0.132: 0.0,\n",
       " 0.136: 12.891944680895525,\n",
       " 0.14: 0.0,\n",
       " 0.144: 0.0,\n",
       " 0.148: 0.0,\n",
       " 0.152: 0.0,\n",
       " 0.156: 11.014398727542192,\n",
       " 0.16: 0.0,\n",
       " 0.164: 0.0,\n",
       " 0.168: 16.335595935315492,\n",
       " 0.172: 0.0,\n",
       " 0.176: 9.509790921373652,\n",
       " 0.18: 0.0,\n",
       " 0.184: 0.0,\n",
       " 0.188: 14.181155501758392,\n",
       " 0.192: 0.0,\n",
       " 0.196: 8.316033215513956,\n",
       " 0.2: 4.653877334366032e-15,\n",
       " 0.204: 0.0,\n",
       " 0.208: 12.423005013264508,\n",
       " 0.212: 0.0,\n",
       " 0.216: 7.286875451041182,\n",
       " 0.22: 0.0,\n",
       " 0.224: 0.0,\n",
       " 0.228: 10.918204583916257,\n",
       " 0.232: 0.0,\n",
       " 0.236: 6.423387048368299,\n",
       " 0.24: 0.0,\n",
       " 0.244: 0.0,\n",
       " 0.248: 9.635995745690401,\n",
       " 0.252: 0.0,\n",
       " 0.256: 0.0,\n",
       " 0.26: 0.0,\n",
       " 0.264: 0.0,\n",
       " 0.268: 8.50103585100964,\n",
       " 0.272: 0.0,\n",
       " 0.276: 4.9833866381704315,\n",
       " 0.28: 0.0,\n",
       " 0.284: 0.0,\n",
       " 0.288: 7.472879350807107,\n",
       " 0.292: 0.0,\n",
       " 0.296: 4.383677550221511,\n",
       " 0.3: 2.4538555675249422e-15,\n",
       " 0.304: 0.0,\n",
       " 0.308: 0.0,\n",
       " 0.312: 0.0,\n",
       " 0.316: 3.8382913137236043,\n",
       " 0.32: 0.0,\n",
       " 0.324: 0.0,\n",
       " 0.328: 5.706331584550053,\n",
       " 0.332: 0.0,\n",
       " 0.336: 0.0,\n",
       " 0.34: 0.0,\n",
       " 0.344: 0.0,\n",
       " 0.348: 4.920373207411106,\n",
       " 0.352: 0.0,\n",
       " 0.356: 0.0,\n",
       " 0.36: 0.0,\n",
       " 0.364: 0.0,\n",
       " 0.368: 4.181420743864146,\n",
       " 0.372: 0.0,\n",
       " 0.376: 2.4131276160707045,\n",
       " 0.38: 0.0,\n",
       " 0.384: 2.7934516110430687,\n",
       " 0.388: 3.4890373787246016,\n",
       " 0.392: 0.0,\n",
       " 0.396: 1.9912706364547097,\n",
       " 0.4: 2.79672739762902,\n",
       " 0.404: 0.0,\n",
       " 0.408: 0.0,\n",
       " 0.412: 2.8844934015410555,\n",
       " 0.416: 2.916866565420689,\n",
       " 0.42: 0.0,\n",
       " 0.424: 0.0,\n",
       " 0.428: 2.1931032315296455,\n",
       " 0.432: 1.5690238281370428,\n",
       " 0.436: 1.1975568294110284,\n",
       " 0.44: 0.0,\n",
       " 0.444: 0.0,\n",
       " 0.448: 0.0,\n",
       " 0.452: 1.599527005498208,\n",
       " 0.456: 0.8182807721088817,\n",
       " 0.46: 0.0,\n",
       " 0.464: 0.0,\n",
       " 0.468: 0.9590264622879099,\n",
       " 0.472: 0.0,\n",
       " 0.476: 0.4441553471804006,\n",
       " 0.48: 0.0,\n",
       " 0.484: 0.0,\n",
       " 0.488: 0.35859280539762406,\n",
       " 0.492: 0.0,\n",
       " 0.496: 0.07385624464004051,\n",
       " -0.5: 0.0,\n",
       " -0.496: 0.07385624464004051,\n",
       " -0.492: 0.0,\n",
       " -0.488: 0.35859280539762406,\n",
       " -0.484: 0.0,\n",
       " -0.48: 0.0,\n",
       " -0.476: 0.4441553471804006,\n",
       " -0.472: 0.0,\n",
       " -0.468: 0.9590264622879099,\n",
       " -0.464: 0.0,\n",
       " -0.46: 0.0,\n",
       " -0.456: 0.8182807721088817,\n",
       " -0.452: 1.599527005498208,\n",
       " -0.448: 0.0,\n",
       " -0.444: 0.0,\n",
       " -0.44: 0.0,\n",
       " -0.436: 1.1975568294110284,\n",
       " -0.432: 1.5690238281370428,\n",
       " -0.428: 2.1931032315296455,\n",
       " -0.424: 0.0,\n",
       " -0.42: 0.0,\n",
       " -0.416: 2.916866565420689,\n",
       " -0.412: 2.8844934015410555,\n",
       " -0.408: 0.0,\n",
       " -0.404: 0.0,\n",
       " -0.4: 2.79672739762902,\n",
       " -0.396: 1.9912706364547097,\n",
       " -0.392: 0.0,\n",
       " -0.388: 3.4890373787246016,\n",
       " -0.384: 2.7934516110430687,\n",
       " -0.38: 0.0,\n",
       " -0.376: 2.4131276160707045,\n",
       " -0.372: 0.0,\n",
       " -0.368: 4.181420743864146,\n",
       " -0.364: 0.0,\n",
       " -0.36: 0.0,\n",
       " -0.356: 0.0,\n",
       " -0.352: 0.0,\n",
       " -0.348: 4.920373207411106,\n",
       " -0.344: 0.0,\n",
       " -0.34: 0.0,\n",
       " -0.336: 0.0,\n",
       " -0.332: 0.0,\n",
       " -0.328: 5.706331584550053,\n",
       " -0.324: 0.0,\n",
       " -0.32: 0.0,\n",
       " -0.316: 3.8382913137236043,\n",
       " -0.312: 0.0,\n",
       " -0.308: 0.0,\n",
       " -0.304: 0.0,\n",
       " -0.3: 2.4538555675249422e-15,\n",
       " -0.296: 4.383677550221511,\n",
       " -0.292: 0.0,\n",
       " -0.288: 7.472879350807107,\n",
       " -0.284: 0.0,\n",
       " -0.28: 0.0,\n",
       " -0.276: 4.9833866381704315,\n",
       " -0.272: 0.0,\n",
       " -0.268: 8.50103585100964,\n",
       " -0.264: 0.0,\n",
       " -0.26: 0.0,\n",
       " -0.256: 0.0,\n",
       " -0.252: 0.0,\n",
       " -0.248: 9.635995745690401,\n",
       " -0.244: 0.0,\n",
       " -0.24: 0.0,\n",
       " -0.236: 6.423387048368299,\n",
       " -0.232: 0.0,\n",
       " -0.228: 10.918204583916257,\n",
       " -0.224: 0.0,\n",
       " -0.22: 0.0,\n",
       " -0.216: 7.286875451041182,\n",
       " -0.212: 0.0,\n",
       " -0.208: 12.423005013264508,\n",
       " -0.204: 0.0,\n",
       " -0.2: 4.653877334366032e-15,\n",
       " -0.196: 8.316033215513956,\n",
       " -0.192: 0.0,\n",
       " -0.188: 14.181155501758392,\n",
       " -0.184: 0.0,\n",
       " -0.18: 0.0,\n",
       " -0.176: 9.509790921373652,\n",
       " -0.172: 0.0,\n",
       " -0.168: 16.335595935315492,\n",
       " -0.164: 0.0,\n",
       " -0.16: 0.0,\n",
       " -0.156: 11.014398727542192,\n",
       " -0.152: 0.0,\n",
       " -0.148: 0.0,\n",
       " -0.144: 0.0,\n",
       " -0.14: 0.0,\n",
       " -0.136: 12.891944680895525,\n",
       " -0.132: 0.0,\n",
       " -0.128: 22.351692892273316,\n",
       " -0.124: 0.0,\n",
       " -0.12: 0.0,\n",
       " -0.116: 19.01860727535495,\n",
       " -0.112: 0.0,\n",
       " -0.108: 26.942432218678942,\n",
       " -0.104: 0.0,\n",
       " -0.1: 18.354609055842666,\n",
       " -0.096: 0.0,\n",
       " -0.092: 33.58959448178539,\n",
       " -0.088: 0.0,\n",
       " -0.084: 0.0,\n",
       " -0.08: 0.0,\n",
       " -0.076: 32.772537977489904,\n",
       " -0.072: 0.0,\n",
       " -0.068: 34.12629190033352,\n",
       " -0.064: 0.0,\n",
       " -0.06: 0.0,\n",
       " -0.056: 0.0,\n",
       " -0.052: 0.0,\n",
       " -0.048: 62.57750541759746,\n",
       " -0.044: 0.0,\n",
       " -0.04: 0.0,\n",
       " -0.036: 0.0,\n",
       " -0.032: 0.0,\n",
       " -0.028: 107.90463078551653,\n",
       " -0.024: 0.0,\n",
       " -0.02: 0.0,\n",
       " -0.016: 116.89454829621637,\n",
       " -0.012: 0.0,\n",
       " -0.008: 378.22013362872116,\n",
       " -0.004: 0.0}"
      ]
     },
     "execution_count": 153,
     "metadata": {},
     "output_type": "execute_result"
    }
   ],
   "source": [
    "for i in samp_1.keys():\n",
    "    if i in sd:\n",
    "        sd[i] = samp_1[i]\n",
    "        sd[-i] = samp_1[i]\n",
    "    elif i+0.001 in sd:\n",
    "        sd[i+0.001] = samp_1[i]\n",
    "        sd[-(i+0.001)] = samp_1[i]\n",
    "    elif i-0.001 in sd:\n",
    "        sd[i-0.001] = samp_1[i]\n",
    "        sd[-(i-0.001)] = samp_1[i]\n",
    "sd"
   ]
  },
  {
   "cell_type": "code",
   "execution_count": 154,
   "metadata": {},
   "outputs": [
    {
     "data": {
      "text/plain": [
       "{0.0: 0.0,\n",
       " 0.004: 9.504042913563067j,\n",
       " 0.008: 378.22013362872116,\n",
       " 0.012: 0.0,\n",
       " 0.016: 116.89454829621637,\n",
       " 0.02: 0.0,\n",
       " 0.024: 5.883943348487146j,\n",
       " 0.028: 107.90463078551653,\n",
       " 0.032: 0.0,\n",
       " 0.036: 0.0,\n",
       " 0.04: 5.870595599414794j,\n",
       " 0.044: 9.512380367396501j,\n",
       " 0.048: (62.57750541759746+11.75928739333495j),\n",
       " 0.052: 0.0,\n",
       " 0.056: 0.0,\n",
       " 0.06: 0.0,\n",
       " 0.064: 0.0,\n",
       " 0.068: 34.12629190033352,\n",
       " 0.072: 0.0,\n",
       " 0.076: 32.772537977489904,\n",
       " 0.08: 0.0,\n",
       " 0.084: 0.0,\n",
       " 0.088: 5.872926023554779j,\n",
       " 0.092: 33.58959448178539,\n",
       " 0.096: 0.0,\n",
       " 0.1: (18.354609055842666+9.503646759886955j),\n",
       " 0.104: 9.502760549941694j,\n",
       " 0.108: (26.942432218678942+5.879508761510907j),\n",
       " 0.112: 0.0,\n",
       " 0.116: (19.01860727535495+5.880850391661507j),\n",
       " 0.12: 0.0,\n",
       " 0.124: 0.0,\n",
       " 0.128: (22.351692892273316+15.39160651320908j),\n",
       " 0.132: 0.0,\n",
       " 0.136: (12.891944680895525+9.524470840174184j),\n",
       " 0.14: 0.0,\n",
       " 0.144: 0.0,\n",
       " 0.148: 0.0,\n",
       " 0.152: 5.877957749576279j,\n",
       " 0.156: (11.014398727542192+19.00591625860877j),\n",
       " 0.16: 15.392165427514769j,\n",
       " 0.164: 0.0,\n",
       " 0.168: 16.335595935315492,\n",
       " 0.172: 0.0,\n",
       " 0.176: 9.509790921373652,\n",
       " 0.18: 0.0,\n",
       " 0.184: 0.0,\n",
       " 0.188: 14.181155501758392,\n",
       " 0.192: 0.0,\n",
       " 0.196: (8.316033215513956+5.882174195021342j),\n",
       " 0.2: (4.653877334366032e-15+11.748014270533863j),\n",
       " 0.204: 0.0,\n",
       " 0.208: 12.423005013264508,\n",
       " 0.212: 15.393611412583091j,\n",
       " 0.216: 7.286875451041182,\n",
       " 0.22: 0.0,\n",
       " 0.224: 5.8762595625842735j,\n",
       " 0.228: (10.918204583916257+5.876735037292557j),\n",
       " 0.232: 0.0,\n",
       " 0.236: (6.423387048368299+11.74850175358991j),\n",
       " 0.24: 9.497090171928113j,\n",
       " 0.244: 5.873301236150456j,\n",
       " 0.248: 9.635995745690401,\n",
       " 0.252: 0.0,\n",
       " 0.256: 5.880094919911531j,\n",
       " 0.26: 5.871521812809025j,\n",
       " 0.264: 9.519724987618243j,\n",
       " 0.268: (8.50103585100964+5.868195659276267j),\n",
       " 0.272: 9.500495935422746j,\n",
       " 0.276: (4.9833866381704315+15.400170283795337j),\n",
       " 0.28: 5.869186136456814j,\n",
       " 0.284: 5.863126747710616j,\n",
       " 0.288: 7.472879350807107,\n",
       " 0.292: 0.0,\n",
       " 0.296: (4.383677550221511+15.380096754064105j),\n",
       " 0.3: 2.4538555675249422e-15,\n",
       " 0.304: 0.0,\n",
       " 0.308: 5.876361324885454j,\n",
       " 0.312: 0.0,\n",
       " 0.316: (3.8382913137236043+11.75649886407937j),\n",
       " 0.32: 0.0,\n",
       " 0.324: 0.0,\n",
       " 0.328: (5.706331584550053+19.019747551068896j),\n",
       " 0.332: 0.0,\n",
       " 0.336: 11.773254899535864j,\n",
       " 0.34: 5.87385153102588j,\n",
       " 0.344: 5.875926672609716j,\n",
       " 0.348: (4.920373207411106+5.871967304808025j),\n",
       " 0.352: 5.876683420927815j,\n",
       " 0.356: 0.0,\n",
       " 0.36: 5.886109124617698j,\n",
       " 0.364: 0.0,\n",
       " 0.368: 4.181420743864146,\n",
       " 0.372: 19.01389391267326j,\n",
       " 0.376: 2.4131276160707045,\n",
       " 0.38: 0.0,\n",
       " 0.384: (2.7934516110430687+15.385456511673588j),\n",
       " 0.388: (3.4890373787246016+19.01019109197648j),\n",
       " 0.392: 5.878955170552849j,\n",
       " 0.396: (1.9912706364547097+9.506219208196477j),\n",
       " 0.4: 2.79672739762902,\n",
       " 0.404: 0.0,\n",
       " 0.408: 0.0,\n",
       " 0.412: 2.8844934015410555,\n",
       " 0.416: (2.916866565420689+5.881792739421593j),\n",
       " 0.42: 0.0,\n",
       " 0.424: 9.535069294648876j,\n",
       " 0.428: (2.1931032315296455+5.8885944441332425j),\n",
       " 0.432: (1.5690238281370428+5.885651411710139j),\n",
       " 0.436: 1.1975568294110284,\n",
       " 0.44: 5.88380213646733j,\n",
       " 0.444: 0.0,\n",
       " 0.448: 0.0,\n",
       " 0.452: 1.599527005498208,\n",
       " 0.456: (0.8182807721088817+15.381442563775654j),\n",
       " 0.46: 15.389582471269433j,\n",
       " 0.464: 0.0,\n",
       " 0.468: 0.9590264622879099,\n",
       " 0.472: 5.879163606317329j,\n",
       " 0.476: (0.4441553471804006+5.874687745142478j),\n",
       " 0.48: 0.0,\n",
       " 0.484: 0.0,\n",
       " 0.488: 0.35859280539762406,\n",
       " 0.492: 5.882676607570471j,\n",
       " 0.496: 0.07385624464004051,\n",
       " -0.5: 0.0,\n",
       " -0.496: 0.07385624464004051,\n",
       " -0.492: 0j,\n",
       " -0.488: 0.35859280539762406,\n",
       " -0.484: 0.0,\n",
       " -0.48: 0.0,\n",
       " -0.476: (0.4441553471804006+0j),\n",
       " -0.472: 0j,\n",
       " -0.468: 0.9590264622879099,\n",
       " -0.464: 0.0,\n",
       " -0.46: 9.525545641586364j,\n",
       " -0.456: (0.8182807721088817+9.498090690374607j),\n",
       " -0.452: 1.599527005498208,\n",
       " -0.448: 0.0,\n",
       " -0.444: 0.0,\n",
       " -0.44: 0j,\n",
       " -0.436: 1.1975568294110284,\n",
       " -0.432: (1.5690238281370428+0j),\n",
       " -0.428: (2.1931032315296455+0j),\n",
       " -0.424: 0j,\n",
       " -0.42: 0.0,\n",
       " -0.416: (2.916866565420689+0j),\n",
       " -0.412: 2.8844934015410555,\n",
       " -0.408: 0.0,\n",
       " -0.404: 0.0,\n",
       " -0.4: 2.79672739762902,\n",
       " -0.396: (1.9912706364547097+0j),\n",
       " -0.392: 0j,\n",
       " -0.388: (3.4890373787246016+9.508243421597909j),\n",
       " -0.384: (2.7934516110430687+9.506653261964223j),\n",
       " -0.38: 0.0,\n",
       " -0.376: 2.4131276160707045,\n",
       " -0.372: 9.502478534820359j,\n",
       " -0.368: 4.181420743864146,\n",
       " -0.364: 0.0,\n",
       " -0.36: 0j,\n",
       " -0.356: 0.0,\n",
       " -0.352: 0j,\n",
       " -0.348: (4.920373207411106+0j),\n",
       " -0.344: 0j,\n",
       " -0.34: 0j,\n",
       " -0.336: 5.884250658698921j,\n",
       " -0.332: 0.0,\n",
       " -0.328: (5.706331584550053+9.512107740500037j),\n",
       " -0.324: 0.0,\n",
       " -0.32: 0.0,\n",
       " -0.316: (3.8382913137236043+5.884043531481602j),\n",
       " -0.312: 0.0,\n",
       " -0.308: 0j,\n",
       " -0.304: 0.0,\n",
       " -0.3: 2.4538555675249422e-15,\n",
       " -0.296: (4.383677550221511+5.873559122100401j),\n",
       " -0.292: 0.0,\n",
       " -0.288: 7.472879350807107,\n",
       " -0.284: 0j,\n",
       " -0.28: 0j,\n",
       " -0.276: (4.9833866381704315+5.882117024070238j),\n",
       " -0.272: 0j,\n",
       " -0.268: (8.50103585100964+0j),\n",
       " -0.264: 0j,\n",
       " -0.26: 0j,\n",
       " -0.256: 0j,\n",
       " -0.252: 0.0,\n",
       " -0.248: 9.635995745690401,\n",
       " -0.244: 0j,\n",
       " -0.24: 0j,\n",
       " -0.236: (6.423387048368299+5.872422613958942j),\n",
       " -0.232: 0.0,\n",
       " -0.228: (10.918204583916257+0j),\n",
       " -0.224: 0j,\n",
       " -0.22: 0.0,\n",
       " -0.216: 7.286875451041182,\n",
       " -0.212: 5.884161958080718j,\n",
       " -0.208: 12.423005013264508,\n",
       " -0.204: 0.0,\n",
       " -0.2: (4.653877334366032e-15+5.874612263946506j),\n",
       " -0.196: (8.316033215513956+0j),\n",
       " -0.192: 0.0,\n",
       " -0.188: 14.181155501758392,\n",
       " -0.184: 0.0,\n",
       " -0.18: 0.0,\n",
       " -0.176: 9.509790921373652,\n",
       " -0.172: 0.0,\n",
       " -0.168: 16.335595935315492,\n",
       " -0.164: 0.0,\n",
       " -0.16: 9.505610104492645j,\n",
       " -0.156: (11.014398727542192+9.514308845364713j),\n",
       " -0.152: 0j,\n",
       " -0.148: 0.0,\n",
       " -0.144: 0.0,\n",
       " -0.14: 0.0,\n",
       " -0.136: (12.891944680895525+0j),\n",
       " -0.132: 0.0,\n",
       " -0.128: (22.351692892273316+5.886124928324662j),\n",
       " -0.124: 0.0,\n",
       " -0.12: 0.0,\n",
       " -0.116: (19.01860727535495+0j),\n",
       " -0.112: 0.0,\n",
       " -0.108: (26.942432218678942+0j),\n",
       " -0.104: 0j,\n",
       " -0.1: (18.354609055842666+0j),\n",
       " -0.096: 0.0,\n",
       " -0.092: 33.58959448178539,\n",
       " -0.088: 0j,\n",
       " -0.084: 0.0,\n",
       " -0.08: 0.0,\n",
       " -0.076: 32.772537977489904,\n",
       " -0.072: 0.0,\n",
       " -0.068: 34.12629190033352,\n",
       " -0.064: 0.0,\n",
       " -0.06: 0.0,\n",
       " -0.056: 0.0,\n",
       " -0.052: 0.0,\n",
       " -0.048: (62.57750541759746+5.880525755692624j),\n",
       " -0.044: 0j,\n",
       " -0.04: 0j,\n",
       " -0.036: 0.0,\n",
       " -0.032: 0.0,\n",
       " -0.028: 107.90463078551653,\n",
       " -0.024: 0j,\n",
       " -0.02: 0.0,\n",
       " -0.016: 116.89454829621637,\n",
       " -0.012: 0.0,\n",
       " -0.008: 378.22013362872116,\n",
       " -0.004: 0j}"
      ]
     },
     "execution_count": 154,
     "metadata": {},
     "output_type": "execute_result"
    }
   ],
   "source": [
    "for i in samp_1i.keys():\n",
    "    if i in sd:\n",
    "        sd[i] = complex(sd[i],samp_1i[i])\n",
    "        sd[-i] = complex(sd[i],-(samp_1i[i]))\n",
    "    elif i+0.001 in sd:\n",
    "        sd[i+0.001] = complex(sd[i+0.001],samp_1i[i])\n",
    "        sd[-(i+0.001)] = complex(sd[i+0.001],-(samp_1i[i]))\n",
    "    elif i-0.001 in sd:\n",
    "        sd[i-0.001] = complex(sd[i-0.001],samp_1i[i])\n",
    "        sd[-(i-0.001)] = complex(sd[i-0.001],-(samp_1i[i]))\n",
    "sd"
   ]
  },
  {
   "cell_type": "code",
   "execution_count": 155,
   "metadata": {},
   "outputs": [],
   "source": [
    "value = list(sd.values())"
   ]
  },
  {
   "cell_type": "markdown",
   "metadata": {},
   "source": [
    "# Final IFFT "
   ]
  },
  {
   "cell_type": "code",
   "execution_count": 156,
   "metadata": {},
   "outputs": [
    {
     "data": {
      "text/plain": [
       "[<matplotlib.lines.Line2D at 0x1ca959d02b0>]"
      ]
     },
     "execution_count": 156,
     "metadata": {},
     "output_type": "execute_result"
    },
    {
     "data": {
      "image/png": "[encoded data removed]",
      "text/plain": [
       "<Figure size 432x288 with 1 Axes>"
      ]
     },
     "metadata": {},
     "output_type": "display_data"
    }
   ],
   "source": [
    "ift = fft.ifft(value)\n",
    "plt.title('IFFT')\n",
    "plt.plot(signal_3['Time'], signal_3['Value'])\n",
    "plt.plot(x,ift)"
   ]
  },
  {
   "cell_type": "markdown",
   "metadata": {},
   "source": [
    "# Log freq"
   ]
  },
  {
   "cell_type": "code",
   "execution_count": 157,
   "metadata": {},
   "outputs": [
    {
     "ename": "NameError",
     "evalue": "name 'freq_ampli' is not defined",
     "output_type": "error",
     "traceback": [
      "\u001b[1;31m---------------------------------------------------------------------------\u001b[0m",
      "\u001b[1;31mNameError\u001b[0m                                 Traceback (most recent call last)",
      "\u001b[1;32m<ipython-input-157-05f0da78d8a7>\u001b[0m in \u001b[0;36m<module>\u001b[1;34m\u001b[0m\n\u001b[1;32m----> 1\u001b[1;33m \u001b[0mlog_ampli\u001b[0m \u001b[1;33m=\u001b[0m \u001b[0mnp\u001b[0m\u001b[1;33m.\u001b[0m\u001b[0mlog\u001b[0m\u001b[1;33m(\u001b[0m\u001b[0mfreq_ampli\u001b[0m\u001b[1;33m[\u001b[0m\u001b[1;34m\"Ampli\"\u001b[0m\u001b[1;33m]\u001b[0m\u001b[1;33m)\u001b[0m\u001b[1;33m\u001b[0m\u001b[1;33m\u001b[0m\u001b[0m\n\u001b[0m\u001b[0;32m      2\u001b[0m \u001b[0mlog_freq_ampli\u001b[0m\u001b[1;33m=\u001b[0m \u001b[0mpd\u001b[0m\u001b[1;33m.\u001b[0m\u001b[0mDataFrame\u001b[0m\u001b[1;33m(\u001b[0m\u001b[0mzip\u001b[0m\u001b[1;33m(\u001b[0m\u001b[0mfreq_ampli\u001b[0m\u001b[1;33m[\u001b[0m\u001b[1;34m'Freq'\u001b[0m\u001b[1;33m]\u001b[0m\u001b[1;33m,\u001b[0m\u001b[0mlog_ampli\u001b[0m\u001b[1;33m)\u001b[0m\u001b[1;33m,\u001b[0m\u001b[0mcolumns\u001b[0m\u001b[1;33m=\u001b[0m\u001b[1;33m[\u001b[0m\u001b[1;34m'Freq'\u001b[0m\u001b[1;33m,\u001b[0m\u001b[1;34m'Ampli'\u001b[0m\u001b[1;33m]\u001b[0m\u001b[1;33m)\u001b[0m\u001b[1;33m\u001b[0m\u001b[1;33m\u001b[0m\u001b[0m\n\u001b[0;32m      3\u001b[0m \u001b[0mlog_freq_ampli\u001b[0m \u001b[1;33m=\u001b[0m \u001b[0mlog_freq_ampli\u001b[0m\u001b[1;33m.\u001b[0m\u001b[0mloc\u001b[0m\u001b[1;33m[\u001b[0m\u001b[0mlog_freq_ampli\u001b[0m\u001b[1;33m[\u001b[0m\u001b[1;34m'Ampli'\u001b[0m\u001b[1;33m]\u001b[0m \u001b[1;33m!=\u001b[0m \u001b[0mfloat\u001b[0m\u001b[1;33m(\u001b[0m\u001b[1;34m'-inf'\u001b[0m\u001b[1;33m)\u001b[0m\u001b[1;33m]\u001b[0m\u001b[1;33m\u001b[0m\u001b[1;33m\u001b[0m\u001b[0m\n\u001b[0;32m      4\u001b[0m \u001b[0mplt\u001b[0m\u001b[1;33m.\u001b[0m\u001b[0mscatter\u001b[0m\u001b[1;33m(\u001b[0m\u001b[0mlog_freq_ampli\u001b[0m\u001b[1;33m[\u001b[0m\u001b[1;34m'Freq'\u001b[0m\u001b[1;33m]\u001b[0m\u001b[1;33m,\u001b[0m \u001b[0mlog_freq_ampli\u001b[0m\u001b[1;33m[\u001b[0m\u001b[1;34m'Ampli'\u001b[0m\u001b[1;33m]\u001b[0m\u001b[1;33m)\u001b[0m\u001b[1;33m\u001b[0m\u001b[1;33m\u001b[0m\u001b[0m\n",
      "\u001b[1;31mNameError\u001b[0m: name 'freq_ampli' is not defined"
     ]
    }
   ],
   "source": [
    "log_ampli = np.log(freq_ampli[\"Ampli\"])\n",
    "log_freq_ampli= pd.DataFrame(zip(freq_ampli['Freq'],log_ampli),columns=['Freq','Ampli'])\n",
    "log_freq_ampli = log_freq_ampli.loc[log_freq_ampli['Ampli'] != float('-inf')]\n",
    "plt.scatter(log_freq_ampli['Freq'], log_freq_ampli['Ampli'])"
   ]
  },
  {
   "cell_type": "code",
   "execution_count": null,
   "metadata": {},
   "outputs": [],
   "source": [
    "log_freq_ampli.describe()"
   ]
  },
  {
   "cell_type": "code",
   "execution_count": null,
   "metadata": {},
   "outputs": [],
   "source": [
    "dfx = log_freq_ampli\n",
    "lowest_bic = np.infty\n",
    "bic = []\n",
    "n_components_range = range(1, 50)\n",
    "cv_types = ['spherical', 'tied', 'diag', 'full']\n",
    "for cv_type in cv_types:\n",
    "    for n_components in n_components_range:\n",
    "        # Fit a Gaussian mixture with EM\n",
    "        gmm = mixture.GaussianMixture(n_components=n_components,\n",
    "                                      covariance_type=cv_type)\n",
    "        gmm.fit(dfx)\n",
    "        bic.append(gmm.bic(dfx))\n",
    "        if bic[-1] < lowest_bic:\n",
    "            lowest_bic = bic[-1]\n",
    "            best_gmm2 = gmm"
   ]
  },
  {
   "cell_type": "code",
   "execution_count": null,
   "metadata": {},
   "outputs": [],
   "source": [
    "print(best_gmm2, '\\n')\n",
    "print('WEIGHTS -', best_gmm2.weights_, '\\n')\n",
    "print('MEANS (Col 1: Freq; Col 2: Amplitude) - \\n', best_gmm2.means_, '\\n')"
   ]
  },
  {
   "cell_type": "code",
   "execution_count": null,
   "metadata": {},
   "outputs": [],
   "source": [
    "z2,_ = best_gmm2.sample(125)\n",
    "plt.title('Actual data')\n",
    "plt.scatter(log_freq_ampli['Freq'], log_freq_ampli['Ampli'])\n",
    "plt.show()\n",
    "plt.title('Values given by GMM')\n",
    "plt.scatter(z2[:,0],z2[:,1])\n",
    "plt.show()"
   ]
  },
  {
   "cell_type": "code",
   "execution_count": null,
   "metadata": {},
   "outputs": [],
   "source": [
    "wasserstein_distance(log_freq_ampli['Ampli'], z2[:, 1])"
   ]
  },
  {
   "cell_type": "code",
   "execution_count": null,
   "metadata": {},
   "outputs": [],
   "source": [
    "sns.distplot(log_freq_ampli['Ampli'], kde = True)\n",
    "sns.distplot(z2[:, 1], kde = True)\n",
    "#plt.ylim(0.0, 0.2)\n",
    "plt.show()"
   ]
  },
  {
   "cell_type": "code",
   "execution_count": null,
   "metadata": {},
   "outputs": [],
   "source": [
    "def dim(df):\n",
    "    d = []\n",
    "    for i,j in df.values.tolist():\n",
    "        for k in range(round(j)):\n",
    "            d.append(i)\n",
    "    return d\n",
    "list(np.array(log_freq_ampli))\n",
    "fre = dim(log_freq_ampli)\n",
    "log_freq_ampli.sort_values(by=['Ampli'],ascending = False)\n",
    "np.shape(fre)"
   ]
  },
  {
   "cell_type": "code",
   "execution_count": null,
   "metadata": {},
   "outputs": [],
   "source": [
    "plt.scatter(log_freq_ampli['Freq'], log_freq_ampli['Ampli'])\n",
    "plt.show()\n",
    "sns.distplot(fre)"
   ]
  },
  {
   "cell_type": "code",
   "execution_count": null,
   "metadata": {},
   "outputs": [],
   "source": [
    "fre = np.array(fre).reshape(-1,1)\n",
    "def GMM_fit(df):\n",
    "    dfx = df\n",
    "    lowest_bic = np.infty\n",
    "    bic = []\n",
    "    n_components_range = range(1, 7)\n",
    "    cv_types = ['spherical', 'tied', 'diag', 'full']\n",
    "    for cv_type in cv_types:\n",
    "        for n_components in n_components_range:\n",
    "            # Fit a Gaussian mixture with EM\n",
    "            gmm = mixture.GaussianMixture(n_components=n_components,\n",
    "                                          covariance_type=cv_type)\n",
    "            gmm.fit(dfx)\n",
    "            bic.append(gmm.bic(dfx))\n",
    "            if bic[-1] < lowest_bic:\n",
    "                lowest_bic = bic[-1]\n",
    "                best_gmm = gmm\n",
    "    return best_gmm\n",
    "best_gmm11 = GMM_fit(fre)"
   ]
  },
  {
   "cell_type": "code",
   "execution_count": null,
   "metadata": {},
   "outputs": [],
   "source": [
    "print(best_gmm11, '\\n')\n",
    "print('WEIGHTS -', best_gmm11.weights_, '\\n')\n",
    "print('MEANS (Col 1: Freq; Col 2: Amplitude) - \\n', best_gmm11.means_, '\\n')"
   ]
  },
  {
   "cell_type": "code",
   "execution_count": null,
   "metadata": {},
   "outputs": [],
   "source": [
    "z11,_ = best_gmm11.sample(13)\n",
    "plt.title('Actual data')\n",
    "sns.distplot(fre)\n",
    "#plt.show()\n",
    "plt.title('Values given by GMM')\n",
    "sns.distplot(z11)\n",
    "plt.show()"
   ]
  },
  {
   "cell_type": "code",
   "execution_count": null,
   "metadata": {},
   "outputs": [],
   "source": [
    "wasserstein_distance(fre.flatten(), z11.flatten())"
   ]
  },
  {
   "cell_type": "markdown",
   "metadata": {},
   "source": [
    "# Cepstrum"
   ]
  },
  {
   "cell_type": "code",
   "execution_count": null,
   "metadata": {},
   "outputs": [],
   "source": [
    "frame_size = signal_3.shape[0]\n",
    "Fs = 1\n",
    "dt = 1/Fs\n",
    "freq_vector = np.fft.rfftfreq(frame_size, d=dt)\n",
    "y = np.array(signal_3['Value'])\n",
    "yf = fftpack.fft(y)\n",
    "yf1 = yf[yf != 0]\n",
    "quefrency = np.fft.rfftfreq(np.log(yf1).size,freq_vector[1] - freq_vector[0])\n",
    "cepstrum = np.fft.rfft(np.log(np.abs(yf1)))\n",
    "cep = pd.DataFrame(zip(quefrency,cepstrum.real),columns=['Quefrency','Cepstrum'])\n",
    "cep = cep.iloc[1:,:]\n",
    "plt.scatter(cep.Quefrency,cep.Cepstrum)"
   ]
  },
  {
   "cell_type": "code",
   "execution_count": null,
   "metadata": {},
   "outputs": [],
   "source": [
    "dfx = cep\n",
    "lowest_bic = np.infty\n",
    "bic = []\n",
    "n_components_range = range(1, 50)\n",
    "cv_types = ['spherical', 'tied', 'diag', 'full']\n",
    "for cv_type in cv_types:\n",
    "    for n_components in n_components_range:\n",
    "        # Fit a Gaussian mixture with EM\n",
    "        gmm = mixture.GaussianMixture(n_components=n_components,\n",
    "                                      covariance_type=cv_type)\n",
    "        gmm.fit(dfx)\n",
    "        bic.append(gmm.bic(dfx))\n",
    "        if bic[-1] < lowest_bic:\n",
    "            lowest_bic = bic[-1]\n",
    "            best_gmm3 = gmm"
   ]
  },
  {
   "cell_type": "code",
   "execution_count": null,
   "metadata": {},
   "outputs": [],
   "source": [
    "print(best_gmm3, '\\n')\n",
    "print('WEIGHTS -', best_gmm3.weights_, '\\n')\n",
    "print('MEANS (Col 1: Freq; Col 2: Amplitude) - \\n', best_gmm3.means_, '\\n')"
   ]
  },
  {
   "cell_type": "code",
   "execution_count": null,
   "metadata": {},
   "outputs": [],
   "source": [
    "z3,_ = best_gmm3.sample(125)\n",
    "plt.title('Actual data')\n",
    "plt.scatter(cep['Quefrency'], cep['Cepstrum'])\n",
    "plt.show()\n",
    "plt.title('Values given by GMM')\n",
    "plt.scatter(z3[:,0],z3[:,1])\n",
    "plt.show()"
   ]
  },
  {
   "cell_type": "code",
   "execution_count": null,
   "metadata": {},
   "outputs": [],
   "source": [
    "wasserstein_distance(cep['Cepstrum'], z3[:, 1])"
   ]
  },
  {
   "cell_type": "code",
   "execution_count": null,
   "metadata": {},
   "outputs": [],
   "source": [
    "def dim(df):\n",
    "    d = []\n",
    "    for i,j in df.values.tolist():\n",
    "        for k in range(round(j)):\n",
    "            d.append(i)\n",
    "    return d\n",
    "list(np.array(cep))\n",
    "c = dim(cep)\n",
    "cep.sort_values(by=['Cepstrum'],ascending = False)\n",
    "np.shape(c)"
   ]
  },
  {
   "cell_type": "code",
   "execution_count": null,
   "metadata": {},
   "outputs": [],
   "source": [
    "plt.scatter(cep['Quefrency'], cep['Cepstrum'])\n",
    "plt.show()\n",
    "sns.distplot(c)"
   ]
  },
  {
   "cell_type": "code",
   "execution_count": null,
   "metadata": {},
   "outputs": [],
   "source": [
    "c = np.array(c).reshape(-1,1)\n",
    "def GMM_fit(df):\n",
    "    dfx = df\n",
    "    lowest_bic = np.infty\n",
    "    bic = []\n",
    "    n_components_range = range(1, 100)\n",
    "    cv_types = ['spherical', 'tied', 'diag', 'full']\n",
    "    for cv_type in cv_types:\n",
    "        for n_components in n_components_range:\n",
    "            # Fit a Gaussian mixture with EM\n",
    "            gmm = mixture.GaussianMixture(n_components=n_components,\n",
    "                                          covariance_type=cv_type)\n",
    "            gmm.fit(dfx)\n",
    "            bic.append(gmm.bic(dfx))\n",
    "            if bic[-1] < lowest_bic:\n",
    "                lowest_bic = bic[-1]\n",
    "                best_gmm = gmm\n",
    "    return best_gmm\n",
    "best_gmm22 = GMM_fit(c)"
   ]
  },
  {
   "cell_type": "code",
   "execution_count": null,
   "metadata": {},
   "outputs": [],
   "source": [
    "print(best_gmm22, '\\n')\n",
    "print('WEIGHTS -', best_gmm22.weights_, '\\n')\n",
    "print('MEANS (Col 1: Freq; Col 2: Amplitude) - \\n', best_gmm22.means_, '\\n')"
   ]
  },
  {
   "cell_type": "code",
   "execution_count": null,
   "metadata": {},
   "outputs": [],
   "source": [
    "z22,_ = best_gmm22.sample(5851)\n",
    "plt.title('Actual data')\n",
    "sns.distplot(c)\n",
    "#plt.show()\n",
    "plt.title('Values given by GMM')\n",
    "sns.distplot(z22)\n",
    "plt.show()"
   ]
  },
  {
   "cell_type": "code",
   "execution_count": null,
   "metadata": {},
   "outputs": [],
   "source": [
    "wasserstein_distance(c.flatten(), z22.flatten())"
   ]
  },
  {
   "cell_type": "code",
   "execution_count": null,
   "metadata": {},
   "outputs": [],
   "source": []
  }
 ],
 "metadata": {
  "kernelspec": {
   "display_name": "Python 3",
   "language": "python",
   "name": "python3"
  },
  "language_info": {
   "codemirror_mode": {
    "name": "ipython",
    "version": 3
   },
   "file_extension": ".py",
   "mimetype": "text/x-python",
   "name": "python",
   "nbconvert_exporter": "python",
   "pygments_lexer": "ipython3",
   "version": "3.8.5"
  }
 },
 "nbformat": 4,
 "nbformat_minor": 4
}
