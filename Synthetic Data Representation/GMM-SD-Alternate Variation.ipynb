{
 "cells": [
  {
   "cell_type": "code",
   "execution_count": 1,
   "metadata": {},
   "outputs": [],
   "source": [
    "import numpy as np\n",
    "import pandas as pd\n",
    "import seaborn as sns\n",
    "import matplotlib.pyplot as plt\n",
    "import plotly.express as px\n",
    "import plotly.figure_factory as ff\n",
    "import plotly.graph_objects as go\n",
    "from plotly.subplots import make_subplots\n",
    "from scipy import fftpack\n",
    "import datetime\n",
    "from sklearn import mixture"
   ]
  },
  {
   "cell_type": "code",
   "execution_count": 2,
   "metadata": {},
   "outputs": [
    {
     "data": {
      "image/png": "[encoded data removed]",
      "text/plain": [
       "<Figure size 720x432 with 1 Axes>"
      ]
     },
     "metadata": {
      "needs_background": "light"
     },
     "output_type": "display_data"
    }
   ],
   "source": [
    "x = np.arange(0, 250)\n",
    "y = np.empty([250], dtype = int)\n",
    "count = 0\n",
    "for i in range (0, 250, 25):\n",
    "    count = count + 1\n",
    "    if(count%2 == 1):\n",
    "        y[i:i+25] = 50\n",
    "    else:\n",
    "        y[i:i+25] = 100\n",
    "sd = y\n",
    "plt.figure(figsize=(10,6))\n",
    "plt.plot(x, y)\n",
    "plt.title(\"Synthetic Data\")\n",
    "plt.show()"
   ]
  },
  {
   "cell_type": "code",
   "execution_count": 3,
   "metadata": {},
   "outputs": [
    {
     "data": {
      "text/html": [
       "<div>\n",
       "<style scoped>\n",
       "    .dataframe tbody tr th:only-of-type {\n",
       "        vertical-align: middle;\n",
       "    }\n",
       "\n",
       "    .dataframe tbody tr th {\n",
       "        vertical-align: top;\n",
       "    }\n",
       "\n",
       "    .dataframe thead th {\n",
       "        text-align: right;\n",
       "    }\n",
       "</style>\n",
       "<table border=\"1\" class=\"dataframe\">\n",
       "  <thead>\n",
       "    <tr style=\"text-align: right;\">\n",
       "      <th></th>\n",
       "      <th>0</th>\n",
       "    </tr>\n",
       "  </thead>\n",
       "  <tbody>\n",
       "    <tr>\n",
       "      <td>count</td>\n",
       "      <td>250.000000</td>\n",
       "    </tr>\n",
       "    <tr>\n",
       "      <td>mean</td>\n",
       "      <td>75.000000</td>\n",
       "    </tr>\n",
       "    <tr>\n",
       "      <td>std</td>\n",
       "      <td>25.050151</td>\n",
       "    </tr>\n",
       "    <tr>\n",
       "      <td>min</td>\n",
       "      <td>50.000000</td>\n",
       "    </tr>\n",
       "    <tr>\n",
       "      <td>25%</td>\n",
       "      <td>50.000000</td>\n",
       "    </tr>\n",
       "    <tr>\n",
       "      <td>50%</td>\n",
       "      <td>75.000000</td>\n",
       "    </tr>\n",
       "    <tr>\n",
       "      <td>75%</td>\n",
       "      <td>100.000000</td>\n",
       "    </tr>\n",
       "    <tr>\n",
       "      <td>max</td>\n",
       "      <td>100.000000</td>\n",
       "    </tr>\n",
       "  </tbody>\n",
       "</table>\n",
       "</div>"
      ],
      "text/plain": [
       "                0\n",
       "count  250.000000\n",
       "mean    75.000000\n",
       "std     25.050151\n",
       "min     50.000000\n",
       "25%     50.000000\n",
       "50%     75.000000\n",
       "75%    100.000000\n",
       "max    100.000000"
      ]
     },
     "execution_count": 3,
     "metadata": {},
     "output_type": "execute_result"
    }
   ],
   "source": [
    "pd.DataFrame(sd).describe()"
   ]
  },
  {
   "cell_type": "code",
   "execution_count": 4,
   "metadata": {},
   "outputs": [
    {
     "data": {
      "text/html": [
       "<div>\n",
       "<style scoped>\n",
       "    .dataframe tbody tr th:only-of-type {\n",
       "        vertical-align: middle;\n",
       "    }\n",
       "\n",
       "    .dataframe tbody tr th {\n",
       "        vertical-align: top;\n",
       "    }\n",
       "\n",
       "    .dataframe thead th {\n",
       "        text-align: right;\n",
       "    }\n",
       "</style>\n",
       "<table border=\"1\" class=\"dataframe\">\n",
       "  <thead>\n",
       "    <tr style=\"text-align: right;\">\n",
       "      <th></th>\n",
       "      <th>Time</th>\n",
       "      <th>Value</th>\n",
       "    </tr>\n",
       "  </thead>\n",
       "  <tbody>\n",
       "    <tr>\n",
       "      <td>0</td>\n",
       "      <td>0</td>\n",
       "      <td>50</td>\n",
       "    </tr>\n",
       "    <tr>\n",
       "      <td>1</td>\n",
       "      <td>1</td>\n",
       "      <td>50</td>\n",
       "    </tr>\n",
       "    <tr>\n",
       "      <td>2</td>\n",
       "      <td>2</td>\n",
       "      <td>50</td>\n",
       "    </tr>\n",
       "    <tr>\n",
       "      <td>3</td>\n",
       "      <td>3</td>\n",
       "      <td>50</td>\n",
       "    </tr>\n",
       "    <tr>\n",
       "      <td>4</td>\n",
       "      <td>4</td>\n",
       "      <td>50</td>\n",
       "    </tr>\n",
       "    <tr>\n",
       "      <td>...</td>\n",
       "      <td>...</td>\n",
       "      <td>...</td>\n",
       "    </tr>\n",
       "    <tr>\n",
       "      <td>245</td>\n",
       "      <td>245</td>\n",
       "      <td>100</td>\n",
       "    </tr>\n",
       "    <tr>\n",
       "      <td>246</td>\n",
       "      <td>246</td>\n",
       "      <td>100</td>\n",
       "    </tr>\n",
       "    <tr>\n",
       "      <td>247</td>\n",
       "      <td>247</td>\n",
       "      <td>100</td>\n",
       "    </tr>\n",
       "    <tr>\n",
       "      <td>248</td>\n",
       "      <td>248</td>\n",
       "      <td>100</td>\n",
       "    </tr>\n",
       "    <tr>\n",
       "      <td>249</td>\n",
       "      <td>249</td>\n",
       "      <td>100</td>\n",
       "    </tr>\n",
       "  </tbody>\n",
       "</table>\n",
       "<p>250 rows × 2 columns</p>\n",
       "</div>"
      ],
      "text/plain": [
       "     Time  Value\n",
       "0       0     50\n",
       "1       1     50\n",
       "2       2     50\n",
       "3       3     50\n",
       "4       4     50\n",
       "..    ...    ...\n",
       "245   245    100\n",
       "246   246    100\n",
       "247   247    100\n",
       "248   248    100\n",
       "249   249    100\n",
       "\n",
       "[250 rows x 2 columns]"
      ]
     },
     "execution_count": 4,
     "metadata": {},
     "output_type": "execute_result"
    }
   ],
   "source": [
    "seasonal_data = pd.DataFrame(zip(x,y),columns=['Time','Value'])\n",
    "seasonal_data"
   ]
  },
  {
   "cell_type": "code",
   "execution_count": 5,
   "metadata": {},
   "outputs": [
    {
     "data": {
      "image/png": "[encoded data removed]",
      "text/plain": [
       "<Figure size 720x432 with 1 Axes>"
      ]
     },
     "metadata": {
      "needs_background": "light"
     },
     "output_type": "display_data"
    }
   ],
   "source": [
    "log_data = np.log(seasonal_data['Value'])\n",
    "plt.figure(figsize=(10,6))\n",
    "plt.plot(seasonal_data['Time'], log_data)\n",
    "plt.title(\"Synthetic Data after taking natural log\")\n",
    "plt.show()"
   ]
  },
  {
   "cell_type": "code",
   "execution_count": 6,
   "metadata": {},
   "outputs": [
    {
     "data": {
      "text/html": [
       "<div>\n",
       "<style scoped>\n",
       "    .dataframe tbody tr th:only-of-type {\n",
       "        vertical-align: middle;\n",
       "    }\n",
       "\n",
       "    .dataframe tbody tr th {\n",
       "        vertical-align: top;\n",
       "    }\n",
       "\n",
       "    .dataframe thead th {\n",
       "        text-align: right;\n",
       "    }\n",
       "</style>\n",
       "<table border=\"1\" class=\"dataframe\">\n",
       "  <thead>\n",
       "    <tr style=\"text-align: right;\">\n",
       "      <th></th>\n",
       "      <th>Time</th>\n",
       "      <th>Log Value</th>\n",
       "    </tr>\n",
       "  </thead>\n",
       "  <tbody>\n",
       "    <tr>\n",
       "      <td>0</td>\n",
       "      <td>0</td>\n",
       "      <td>3.912023</td>\n",
       "    </tr>\n",
       "    <tr>\n",
       "      <td>1</td>\n",
       "      <td>1</td>\n",
       "      <td>3.912023</td>\n",
       "    </tr>\n",
       "    <tr>\n",
       "      <td>2</td>\n",
       "      <td>2</td>\n",
       "      <td>3.912023</td>\n",
       "    </tr>\n",
       "    <tr>\n",
       "      <td>3</td>\n",
       "      <td>3</td>\n",
       "      <td>3.912023</td>\n",
       "    </tr>\n",
       "    <tr>\n",
       "      <td>4</td>\n",
       "      <td>4</td>\n",
       "      <td>3.912023</td>\n",
       "    </tr>\n",
       "    <tr>\n",
       "      <td>...</td>\n",
       "      <td>...</td>\n",
       "      <td>...</td>\n",
       "    </tr>\n",
       "    <tr>\n",
       "      <td>245</td>\n",
       "      <td>245</td>\n",
       "      <td>4.605170</td>\n",
       "    </tr>\n",
       "    <tr>\n",
       "      <td>246</td>\n",
       "      <td>246</td>\n",
       "      <td>4.605170</td>\n",
       "    </tr>\n",
       "    <tr>\n",
       "      <td>247</td>\n",
       "      <td>247</td>\n",
       "      <td>4.605170</td>\n",
       "    </tr>\n",
       "    <tr>\n",
       "      <td>248</td>\n",
       "      <td>248</td>\n",
       "      <td>4.605170</td>\n",
       "    </tr>\n",
       "    <tr>\n",
       "      <td>249</td>\n",
       "      <td>249</td>\n",
       "      <td>4.605170</td>\n",
       "    </tr>\n",
       "  </tbody>\n",
       "</table>\n",
       "<p>250 rows × 2 columns</p>\n",
       "</div>"
      ],
      "text/plain": [
       "     Time  Log Value\n",
       "0       0   3.912023\n",
       "1       1   3.912023\n",
       "2       2   3.912023\n",
       "3       3   3.912023\n",
       "4       4   3.912023\n",
       "..    ...        ...\n",
       "245   245   4.605170\n",
       "246   246   4.605170\n",
       "247   247   4.605170\n",
       "248   248   4.605170\n",
       "249   249   4.605170\n",
       "\n",
       "[250 rows x 2 columns]"
      ]
     },
     "execution_count": 6,
     "metadata": {},
     "output_type": "execute_result"
    }
   ],
   "source": [
    "nlog_data = pd.DataFrame(zip(seasonal_data['Time'], log_data),columns=['Time','Log Value'])\n",
    "nlog_data"
   ]
  },
  {
   "cell_type": "code",
   "execution_count": 7,
   "metadata": {},
   "outputs": [
    {
     "data": {
      "image/png": "[encoded data removed]",
      "text/plain": [
       "<Figure size 432x288 with 1 Axes>"
      ]
     },
     "metadata": {
      "needs_background": "light"
     },
     "output_type": "display_data"
    }
   ],
   "source": [
    "N = 250\n",
    "sr = 1\n",
    "y = np.array(seasonal_data['Value'])\n",
    "f = fftpack.fftfreq(len(y))\n",
    "yf = fftpack.fft(y)\n",
    "\n",
    "T = 1.0 / N\n",
    "x = np.linspace(0.0, N*T, N)\n",
    "xf = np.linspace(0.0, 1.0/(2.0*T), int(N/2))\n",
    "fig, ax = plt.subplots()\n",
    "ax.plot(xf, 2.0/N * np.abs(yf[:N//2]))\n",
    "plt.title(\"Frequency representation\")\n",
    "plt.show()"
   ]
  },
  {
   "cell_type": "code",
   "execution_count": 8,
   "metadata": {},
   "outputs": [
    {
     "data": {
      "image/png": "[encoded data removed]",
      "text/plain": [
       "<Figure size 432x288 with 1 Axes>"
      ]
     },
     "metadata": {
      "needs_background": "light"
     },
     "output_type": "display_data"
    }
   ],
   "source": [
    "N = 250\n",
    "sr = 1\n",
    "y = np.array(seasonal_data['Value'])\n",
    "f = fftpack.fftfreq(len(y))\n",
    "yf = fftpack.fft(y)\n",
    "\n",
    "T = 1.0 / N\n",
    "x = np.linspace(0.0, N*T, N)\n",
    "xf = np.linspace(0.0, 1.0/(2.0*T), int(N/2))\n",
    "fig, ax = plt.subplots()\n",
    "ax.plot(xf[1:], 2.0/N * np.abs(yf[1:N//2]))\n",
    "plt.title(\"Frequency representation\")\n",
    "plt.show()"
   ]
  },
  {
   "cell_type": "code",
   "execution_count": 9,
   "metadata": {},
   "outputs": [
    {
     "data": {
      "text/html": [
       "<div>\n",
       "<style scoped>\n",
       "    .dataframe tbody tr th:only-of-type {\n",
       "        vertical-align: middle;\n",
       "    }\n",
       "\n",
       "    .dataframe tbody tr th {\n",
       "        vertical-align: top;\n",
       "    }\n",
       "\n",
       "    .dataframe thead th {\n",
       "        text-align: right;\n",
       "    }\n",
       "</style>\n",
       "<table border=\"1\" class=\"dataframe\">\n",
       "  <thead>\n",
       "    <tr style=\"text-align: right;\">\n",
       "      <th></th>\n",
       "      <th>Freq</th>\n",
       "      <th>Ampli</th>\n",
       "    </tr>\n",
       "  </thead>\n",
       "  <tbody>\n",
       "    <tr>\n",
       "      <td>0</td>\n",
       "      <td>0.000</td>\n",
       "      <td>1.500000e+02</td>\n",
       "    </tr>\n",
       "    <tr>\n",
       "      <td>1</td>\n",
       "      <td>0.004</td>\n",
       "      <td>0.000000e+00</td>\n",
       "    </tr>\n",
       "    <tr>\n",
       "      <td>2</td>\n",
       "      <td>0.008</td>\n",
       "      <td>1.660084e-15</td>\n",
       "    </tr>\n",
       "    <tr>\n",
       "      <td>3</td>\n",
       "      <td>0.012</td>\n",
       "      <td>1.183588e-15</td>\n",
       "    </tr>\n",
       "    <tr>\n",
       "      <td>4</td>\n",
       "      <td>0.016</td>\n",
       "      <td>0.000000e+00</td>\n",
       "    </tr>\n",
       "    <tr>\n",
       "      <td>...</td>\n",
       "      <td>...</td>\n",
       "      <td>...</td>\n",
       "    </tr>\n",
       "    <tr>\n",
       "      <td>120</td>\n",
       "      <td>0.480</td>\n",
       "      <td>1.822539e-15</td>\n",
       "    </tr>\n",
       "    <tr>\n",
       "      <td>121</td>\n",
       "      <td>0.484</td>\n",
       "      <td>0.000000e+00</td>\n",
       "    </tr>\n",
       "    <tr>\n",
       "      <td>122</td>\n",
       "      <td>0.488</td>\n",
       "      <td>4.174774e-17</td>\n",
       "    </tr>\n",
       "    <tr>\n",
       "      <td>123</td>\n",
       "      <td>0.492</td>\n",
       "      <td>4.462373e-17</td>\n",
       "    </tr>\n",
       "    <tr>\n",
       "      <td>124</td>\n",
       "      <td>0.496</td>\n",
       "      <td>0.000000e+00</td>\n",
       "    </tr>\n",
       "  </tbody>\n",
       "</table>\n",
       "<p>125 rows × 2 columns</p>\n",
       "</div>"
      ],
      "text/plain": [
       "      Freq         Ampli\n",
       "0    0.000  1.500000e+02\n",
       "1    0.004  0.000000e+00\n",
       "2    0.008  1.660084e-15\n",
       "3    0.012  1.183588e-15\n",
       "4    0.016  0.000000e+00\n",
       "..     ...           ...\n",
       "120  0.480  1.822539e-15\n",
       "121  0.484  0.000000e+00\n",
       "122  0.488  4.174774e-17\n",
       "123  0.492  4.462373e-17\n",
       "124  0.496  0.000000e+00\n",
       "\n",
       "[125 rows x 2 columns]"
      ]
     },
     "execution_count": 9,
     "metadata": {},
     "output_type": "execute_result"
    }
   ],
   "source": [
    "freq_ampli = pd.DataFrame(zip(np.abs(f[:N//2]),2.0/N * np.abs(yf[:N//2])),columns=['Freq','Ampli'])\n",
    "freq_ampli"
   ]
  },
  {
   "cell_type": "code",
   "execution_count": 10,
   "metadata": {},
   "outputs": [
    {
     "data": {
      "text/plain": [
       "array([ 1.87500000e+04-0.00000000e+00j,  2.10645684e-14-2.06438638e-13j,\n",
       "       -9.60561235e-14-1.12525431e-13j, -2.50000000e+02+3.97363621e+03j,\n",
       "        4.69359163e-14-4.27303077e-14j,  1.24575488e-15-5.19447169e-14j,\n",
       "        5.68434189e-14+4.26325641e-14j,  7.82414695e-15-3.38196005e-14j,\n",
       "       -1.88165714e-14-2.86614362e-14j, -2.50000000e+02+1.31054590e+03j,\n",
       "        2.15150891e-14-1.51292656e-14j,  3.46650213e-15-2.29922207e-14j,\n",
       "        2.70006240e-13+2.84217094e-14j,  6.60512993e-15-1.79269384e-14j,\n",
       "       -8.60262025e-15-1.75714864e-14j, -2.50000000e+02+7.69420884e+02j,\n",
       "        1.48049961e-14-7.84368209e-15j,  4.11319465e-15-1.45611113e-14j,\n",
       "       -4.26325641e-14+1.42108547e-14j,  6.13722020e-15-1.18266697e-14j,\n",
       "       -4.47965791e-15-1.30949186e-14j, -2.50000000e+02+5.31277043e+02j,\n",
       "        1.16322917e-14-4.39887095e-15j,  4.42877468e-15-1.04468072e-14j,\n",
       "        4.26325641e-14+0.00000000e+00j,  5.88362412e-15-8.52046752e-15j,\n",
       "       -2.19537840e-15-1.06147280e-14j, -2.50000000e+02+3.93936965e+02j,\n",
       "        9.73610878e-15-2.34006206e-15j,  4.62050458e-15-7.94717135e-15j,\n",
       "        2.70006240e-13-8.52651283e-14j,  5.72036391e-15-6.39199902e-15j,\n",
       "       -7.05799056e-16-8.99739505e-15j, -2.50000000e+02+3.02198088e+02j,\n",
       "        8.44120313e-15-9.34098940e-16j,  4.75280734e-15-6.22230375e-15j,\n",
       "        4.26325641e-14+8.52651283e-14j,  5.60334743e-15-4.86642276e-15j,\n",
       "        3.71165216e-16-7.82806504e-15j, -2.50000000e+02+2.34765626e+02j,\n",
       "        7.47450302e-15+1.15510110e-16j,  4.85231162e-15-4.92503887e-15j,\n",
       "       -2.84217094e-14+1.13686838e-13j,  5.51287444e-15-3.68690135e-15j,\n",
       "        1.20922664e-15-6.91812735e-15j, -2.50000000e+02+1.81635632e+02j,\n",
       "        6.70377273e-15+9.52342013e-16j,  4.93209896e-15-3.88482929e-15j,\n",
       "        4.26325641e-14+5.68434189e-14j,  5.43874165e-15-2.72041166e-15j,\n",
       "        1.89946214e-15-6.16869387e-15j, -2.50000000e+02+1.37438663e+02j,\n",
       "        6.05644040e-15+1.65519274e-15j,  4.99942601e-15-3.00706788e-15j,\n",
       "       -1.42108547e-14-5.68434189e-14j,  5.37505378e-15-1.89009535e-15j,\n",
       "        2.49500809e-15-5.52207097e-15j, -2.50000000e+02+9.89820022e+01j,\n",
       "        5.48854859e-15+2.27178974e-15j,  5.05872838e-15-2.23392647e-15j,\n",
       "        1.70530257e-13-1.70530257e-13j,  5.31807642e-15-1.14726575e-15j,\n",
       "        3.02982233e-15-4.94138844e-15j, -2.50000000e+02+6.41890901e+01j,\n",
       "        4.97099958e-15+2.83372630e-15j,  5.11296827e-15-1.52678603e-15j,\n",
       "       -2.84217094e-14+0.00000000e+00j,  5.26522473e-15-4.58223558e-16j,\n",
       "        3.52762461e-15-4.40089219e-15j, -2.50000000e+02+3.15823446e+01j,\n",
       "        4.48269335e-15+3.36391207e-15j,  5.16431450e-15-8.57371065e-16j,\n",
       "       -1.42108547e-14+2.27373675e-13j,  5.21452921e-15+2.02708002e-16j,\n",
       "        4.00667547e-15-3.88075557e-15j, -2.50000000e+02-0.00000000e+00j,\n",
       "        4.00667547e-15+3.88075557e-15j,  5.21452921e-15-2.02708002e-16j,\n",
       "       -1.42108547e-14-2.27373675e-13j,  5.16431450e-15+8.57371065e-16j,\n",
       "        4.48269335e-15-3.36391207e-15j, -2.50000000e+02-3.15823446e+01j,\n",
       "        3.52762461e-15+4.40089219e-15j,  5.26522473e-15+4.58223558e-16j,\n",
       "       -2.84217094e-14-0.00000000e+00j,  5.11296827e-15+1.52678603e-15j,\n",
       "        4.97099958e-15-2.83372630e-15j, -2.50000000e+02-6.41890901e+01j,\n",
       "        3.02982233e-15+4.94138844e-15j,  5.31807642e-15+1.14726575e-15j,\n",
       "        1.70530257e-13+1.70530257e-13j,  5.05872838e-15+2.23392647e-15j,\n",
       "        5.48854859e-15-2.27178974e-15j, -2.50000000e+02-9.89820022e+01j,\n",
       "        2.49500809e-15+5.52207097e-15j,  5.37505378e-15+1.89009535e-15j,\n",
       "       -1.42108547e-14+5.68434189e-14j,  4.99942601e-15+3.00706788e-15j,\n",
       "        6.05644040e-15-1.65519274e-15j, -2.50000000e+02-1.37438663e+02j,\n",
       "        1.89946214e-15+6.16869387e-15j,  5.43874165e-15+2.72041166e-15j,\n",
       "        4.26325641e-14-5.68434189e-14j,  4.93209896e-15+3.88482929e-15j,\n",
       "        6.70377273e-15-9.52342013e-16j, -2.50000000e+02-1.81635632e+02j,\n",
       "        1.20922664e-15+6.91812735e-15j,  5.51287444e-15+3.68690135e-15j,\n",
       "       -2.84217094e-14-1.13686838e-13j,  4.85231162e-15+4.92503887e-15j,\n",
       "        7.47450302e-15-1.15510110e-16j, -2.50000000e+02-2.34765626e+02j,\n",
       "        3.71165216e-16+7.82806504e-15j,  5.60334743e-15+4.86642276e-15j,\n",
       "        4.26325641e-14-8.52651283e-14j,  4.75280734e-15+6.22230375e-15j,\n",
       "        8.44120313e-15+9.34098940e-16j, -2.50000000e+02-3.02198088e+02j,\n",
       "       -7.05799056e-16+8.99739505e-15j,  5.72036391e-15+6.39199902e-15j,\n",
       "        2.70006240e-13+8.52651283e-14j,  4.62050458e-15+7.94717135e-15j,\n",
       "        9.73610878e-15+2.34006206e-15j, -2.50000000e+02-3.93936965e+02j,\n",
       "       -2.19537840e-15+1.06147280e-14j,  5.88362412e-15+8.52046752e-15j,\n",
       "        4.26325641e-14-0.00000000e+00j,  4.42877468e-15+1.04468072e-14j,\n",
       "        1.16322917e-14+4.39887095e-15j, -2.50000000e+02-5.31277043e+02j,\n",
       "       -4.47965791e-15+1.30949186e-14j,  6.13722020e-15+1.18266697e-14j,\n",
       "       -4.26325641e-14-1.42108547e-14j,  4.11319465e-15+1.45611113e-14j,\n",
       "        1.48049961e-14+7.84368209e-15j, -2.50000000e+02-7.69420884e+02j,\n",
       "       -8.60262025e-15+1.75714864e-14j,  6.60512993e-15+1.79269384e-14j,\n",
       "        2.70006240e-13-2.84217094e-14j,  3.46650213e-15+2.29922207e-14j,\n",
       "        2.15150891e-14+1.51292656e-14j, -2.50000000e+02-1.31054590e+03j,\n",
       "       -1.88165714e-14+2.86614362e-14j,  7.82414695e-15+3.38196005e-14j,\n",
       "        5.68434189e-14-4.26325641e-14j,  1.24575488e-15+5.19447169e-14j,\n",
       "        4.69359163e-14+4.27303077e-14j, -2.50000000e+02-3.97363621e+03j,\n",
       "       -9.60561235e-14+1.12525431e-13j,  2.10645684e-14+2.06438638e-13j])"
      ]
     },
     "execution_count": 10,
     "metadata": {},
     "output_type": "execute_result"
    }
   ],
   "source": [
    "frame_size = 50\n",
    "Fs = 1\n",
    "dt = 1/Fs\n",
    "freq_vector = np.fft.rfftfreq(frame_size, d=dt)\n",
    "yf1 = yf[yf != 0]\n",
    "yf1"
   ]
  },
  {
   "cell_type": "code",
   "execution_count": 11,
   "metadata": {},
   "outputs": [],
   "source": [
    "quefrency = np.fft.rfftfreq(np.log(yf1).size,freq_vector[1] - freq_vector[0])\n",
    "cepstrum = np.fft.rfft(np.log(np.abs(yf1)))"
   ]
  },
  {
   "cell_type": "code",
   "execution_count": 12,
   "metadata": {},
   "outputs": [
    {
     "data": {
      "text/plain": [
       "array([ 0.33333333,  0.66666667,  1.        ,  1.33333333,  1.66666667,\n",
       "        2.        ,  2.33333333,  2.66666667,  3.        ,  3.33333333,\n",
       "        3.66666667,  4.        ,  4.33333333,  4.66666667,  5.        ,\n",
       "        5.33333333,  5.66666667,  6.        ,  6.33333333,  6.66666667,\n",
       "        7.        ,  7.33333333,  7.66666667,  8.        ,  8.33333333,\n",
       "        8.66666667,  9.        ,  9.33333333,  9.66666667, 10.        ,\n",
       "       10.33333333, 10.66666667, 11.        , 11.33333333, 11.66666667,\n",
       "       12.        , 12.33333333, 12.66666667, 13.        , 13.33333333,\n",
       "       13.66666667, 14.        , 14.33333333, 14.66666667, 15.        ,\n",
       "       15.33333333, 15.66666667, 16.        , 16.33333333, 16.66666667,\n",
       "       17.        , 17.33333333, 17.66666667, 18.        , 18.33333333,\n",
       "       18.66666667, 19.        , 19.33333333, 19.66666667, 20.        ,\n",
       "       20.33333333, 20.66666667, 21.        , 21.33333333, 21.66666667,\n",
       "       22.        , 22.33333333, 22.66666667, 23.        , 23.33333333,\n",
       "       23.66666667, 24.        , 24.33333333, 24.66666667, 25.        ])"
      ]
     },
     "execution_count": 12,
     "metadata": {},
     "output_type": "execute_result"
    }
   ],
   "source": [
    "quefrency[1:]"
   ]
  },
  {
   "cell_type": "code",
   "execution_count": 13,
   "metadata": {},
   "outputs": [
    {
     "data": {
      "text/plain": [
       "array([ 100.1300481 +9.94759830e-14j,   69.18633776+1.17239551e-13j,\n",
       "         57.93230634+7.81597009e-14j,   56.60274408+2.13162821e-14j,\n",
       "         50.8452087 +8.43769499e-14j,   45.55742817+2.75335310e-14j,\n",
       "         39.753197  +3.46389584e-14j,   45.27881151+3.77475828e-14j,\n",
       "         39.94519754-1.28785871e-14j,   53.07879451+7.54951657e-14j,\n",
       "         43.3913875 -1.33226763e-14j,   44.49881316+3.41948692e-14j,\n",
       "         44.01769302+3.57491814e-14j,   41.9292965 -3.10862447e-15j,\n",
       "         50.57704343+7.43849426e-14j,   36.29691758-1.28785871e-14j,\n",
       "         40.3124389 -3.99680289e-15j,   33.20175624+1.11022302e-16j,\n",
       "         37.00029817+1.77635684e-15j,   39.59004269+2.67563749e-14j,\n",
       "         41.41834961+1.27675648e-15j,   36.33492915+8.65973959e-15j,\n",
       "         34.94010763-4.05231404e-15j,   28.24733174-3.41393580e-14j,\n",
       "       -865.14441127-5.68434189e-14j,   28.00927376+2.66453526e-15j,\n",
       "         34.46167205+6.15618667e-14j,   35.61140131+4.40480985e-14j,\n",
       "         40.44246382+1.58206781e-15j,   38.3517346 +3.20021787e-14j,\n",
       "         35.48634725+1.95538030e-14j,   31.39529073+2.18575158e-14j,\n",
       "         38.19226188+3.10654280e-14j,   33.8365934 -1.08975329e-14j,\n",
       "         47.743654  +6.25471896e-14j,   38.68173035-3.96731259e-15j,\n",
       "         40.30425578-5.88396519e-16j,   40.25382339+1.81980082e-14j,\n",
       "         38.53020779-1.82310764e-14j,   47.49036184+6.38499670e-14j,\n",
       "         33.48038834+1.20389809e-14j,   37.73151996+9.15933995e-16j,\n",
       "         30.82788317+1.48908663e-14j,   34.80960809+1.29618538e-14j,\n",
       "         37.56241912+6.71962486e-14j,   39.53669635-1.02695630e-14j,\n",
       "         34.58461057+8.79851747e-15j,   33.3085117 +2.34257058e-14j,\n",
       "         26.72352513+4.11892742e-14j, 1054.23001519-5.68434189e-14j,\n",
       "         27.40090421-3.35564909e-14j,   33.93759753-1.29896094e-14j,\n",
       "         35.16511382+2.22044605e-15j,   40.06818864-2.64788191e-14j,\n",
       "         38.04432953-2.49800181e-14j,   35.2412184 -7.21644966e-15j,\n",
       "         31.20832172-1.92068583e-14j,   38.05975414-2.45359288e-14j,\n",
       "         33.75521541+2.89768209e-14j,   47.71039801-3.81916720e-14j,\n",
       "         38.69387535-1.93178806e-14j,   40.35933558-2.95319325e-14j,\n",
       "         40.3495991 -3.44169138e-14j,   38.66464401+1.24344979e-14j,\n",
       "         47.6616059 -3.81916720e-14j,   33.68675226-9.32587341e-15j,\n",
       "         37.97146463-2.66453526e-15j,   31.10000456-1.15463195e-14j,\n",
       "         35.1126251 +1.86517468e-14j,   37.89516287-2.66453526e-15j,\n",
       "         39.89810078-1.42108547e-14j,   34.97370416-5.50670620e-14j,\n",
       "         33.72441012-4.97379915e-14j,   27.16542478+0.00000000e+00j,\n",
       "       -861.07662997+0.00000000e+00j])"
      ]
     },
     "execution_count": 13,
     "metadata": {},
     "output_type": "execute_result"
    }
   ],
   "source": [
    "cepstrum[1:]"
   ]
  },
  {
   "cell_type": "code",
   "execution_count": 14,
   "metadata": {},
   "outputs": [
    {
     "data": {
      "text/html": [
       "<div>\n",
       "<style scoped>\n",
       "    .dataframe tbody tr th:only-of-type {\n",
       "        vertical-align: middle;\n",
       "    }\n",
       "\n",
       "    .dataframe tbody tr th {\n",
       "        vertical-align: top;\n",
       "    }\n",
       "\n",
       "    .dataframe thead th {\n",
       "        text-align: right;\n",
       "    }\n",
       "</style>\n",
       "<table border=\"1\" class=\"dataframe\">\n",
       "  <thead>\n",
       "    <tr style=\"text-align: right;\">\n",
       "      <th></th>\n",
       "      <th>Quefrency</th>\n",
       "      <th>Cepstrum</th>\n",
       "    </tr>\n",
       "  </thead>\n",
       "  <tbody>\n",
       "    <tr>\n",
       "      <td>0</td>\n",
       "      <td>0.000000</td>\n",
       "      <td>-3771.793151</td>\n",
       "    </tr>\n",
       "    <tr>\n",
       "      <td>1</td>\n",
       "      <td>0.333333</td>\n",
       "      <td>100.130048</td>\n",
       "    </tr>\n",
       "    <tr>\n",
       "      <td>2</td>\n",
       "      <td>0.666667</td>\n",
       "      <td>69.186338</td>\n",
       "    </tr>\n",
       "    <tr>\n",
       "      <td>3</td>\n",
       "      <td>1.000000</td>\n",
       "      <td>57.932306</td>\n",
       "    </tr>\n",
       "    <tr>\n",
       "      <td>4</td>\n",
       "      <td>1.333333</td>\n",
       "      <td>56.602744</td>\n",
       "    </tr>\n",
       "    <tr>\n",
       "      <td>...</td>\n",
       "      <td>...</td>\n",
       "      <td>...</td>\n",
       "    </tr>\n",
       "    <tr>\n",
       "      <td>71</td>\n",
       "      <td>23.666667</td>\n",
       "      <td>39.898101</td>\n",
       "    </tr>\n",
       "    <tr>\n",
       "      <td>72</td>\n",
       "      <td>24.000000</td>\n",
       "      <td>34.973704</td>\n",
       "    </tr>\n",
       "    <tr>\n",
       "      <td>73</td>\n",
       "      <td>24.333333</td>\n",
       "      <td>33.724410</td>\n",
       "    </tr>\n",
       "    <tr>\n",
       "      <td>74</td>\n",
       "      <td>24.666667</td>\n",
       "      <td>27.165425</td>\n",
       "    </tr>\n",
       "    <tr>\n",
       "      <td>75</td>\n",
       "      <td>25.000000</td>\n",
       "      <td>-861.076630</td>\n",
       "    </tr>\n",
       "  </tbody>\n",
       "</table>\n",
       "<p>76 rows × 2 columns</p>\n",
       "</div>"
      ],
      "text/plain": [
       "    Quefrency     Cepstrum\n",
       "0    0.000000 -3771.793151\n",
       "1    0.333333   100.130048\n",
       "2    0.666667    69.186338\n",
       "3    1.000000    57.932306\n",
       "4    1.333333    56.602744\n",
       "..        ...          ...\n",
       "71  23.666667    39.898101\n",
       "72  24.000000    34.973704\n",
       "73  24.333333    33.724410\n",
       "74  24.666667    27.165425\n",
       "75  25.000000  -861.076630\n",
       "\n",
       "[76 rows x 2 columns]"
      ]
     },
     "execution_count": 14,
     "metadata": {},
     "output_type": "execute_result"
    }
   ],
   "source": [
    "cep = pd.DataFrame(zip(quefrency,cepstrum.real),columns=['Quefrency','Cepstrum'])\n",
    "cep"
   ]
  },
  {
   "cell_type": "code",
   "execution_count": 15,
   "metadata": {},
   "outputs": [
    {
     "name": "stderr",
     "output_type": "stream",
     "text": [
      "C:\\Users\\admin\\Anaconda3\\lib\\site-packages\\sklearn\\cluster\\k_means_.py:972: ConvergenceWarning: Number of distinct clusters (2) found smaller than n_clusters (3). Possibly due to duplicate points in X.\n",
      "  return_n_iter=True)\n",
      "C:\\Users\\admin\\Anaconda3\\lib\\site-packages\\sklearn\\cluster\\k_means_.py:972: ConvergenceWarning: Number of distinct clusters (2) found smaller than n_clusters (4). Possibly due to duplicate points in X.\n",
      "  return_n_iter=True)\n",
      "C:\\Users\\admin\\Anaconda3\\lib\\site-packages\\sklearn\\cluster\\k_means_.py:972: ConvergenceWarning: Number of distinct clusters (2) found smaller than n_clusters (5). Possibly due to duplicate points in X.\n",
      "  return_n_iter=True)\n",
      "C:\\Users\\admin\\Anaconda3\\lib\\site-packages\\sklearn\\cluster\\k_means_.py:972: ConvergenceWarning: Number of distinct clusters (2) found smaller than n_clusters (6). Possibly due to duplicate points in X.\n",
      "  return_n_iter=True)\n",
      "C:\\Users\\admin\\Anaconda3\\lib\\site-packages\\sklearn\\cluster\\k_means_.py:972: ConvergenceWarning: Number of distinct clusters (2) found smaller than n_clusters (3). Possibly due to duplicate points in X.\n",
      "  return_n_iter=True)\n",
      "C:\\Users\\admin\\Anaconda3\\lib\\site-packages\\sklearn\\cluster\\k_means_.py:972: ConvergenceWarning: Number of distinct clusters (2) found smaller than n_clusters (4). Possibly due to duplicate points in X.\n",
      "  return_n_iter=True)\n",
      "C:\\Users\\admin\\Anaconda3\\lib\\site-packages\\sklearn\\cluster\\k_means_.py:972: ConvergenceWarning: Number of distinct clusters (2) found smaller than n_clusters (5). Possibly due to duplicate points in X.\n",
      "  return_n_iter=True)\n",
      "C:\\Users\\admin\\Anaconda3\\lib\\site-packages\\sklearn\\cluster\\k_means_.py:972: ConvergenceWarning: Number of distinct clusters (2) found smaller than n_clusters (6). Possibly due to duplicate points in X.\n",
      "  return_n_iter=True)\n",
      "C:\\Users\\admin\\Anaconda3\\lib\\site-packages\\sklearn\\cluster\\k_means_.py:972: ConvergenceWarning: Number of distinct clusters (2) found smaller than n_clusters (3). Possibly due to duplicate points in X.\n",
      "  return_n_iter=True)\n",
      "C:\\Users\\admin\\Anaconda3\\lib\\site-packages\\sklearn\\cluster\\k_means_.py:972: ConvergenceWarning: Number of distinct clusters (2) found smaller than n_clusters (4). Possibly due to duplicate points in X.\n",
      "  return_n_iter=True)\n",
      "C:\\Users\\admin\\Anaconda3\\lib\\site-packages\\sklearn\\cluster\\k_means_.py:972: ConvergenceWarning: Number of distinct clusters (2) found smaller than n_clusters (5). Possibly due to duplicate points in X.\n",
      "  return_n_iter=True)\n",
      "C:\\Users\\admin\\Anaconda3\\lib\\site-packages\\sklearn\\cluster\\k_means_.py:972: ConvergenceWarning: Number of distinct clusters (2) found smaller than n_clusters (6). Possibly due to duplicate points in X.\n",
      "  return_n_iter=True)\n",
      "C:\\Users\\admin\\Anaconda3\\lib\\site-packages\\sklearn\\cluster\\k_means_.py:972: ConvergenceWarning: Number of distinct clusters (2) found smaller than n_clusters (3). Possibly due to duplicate points in X.\n",
      "  return_n_iter=True)\n",
      "C:\\Users\\admin\\Anaconda3\\lib\\site-packages\\sklearn\\cluster\\k_means_.py:972: ConvergenceWarning: Number of distinct clusters (2) found smaller than n_clusters (4). Possibly due to duplicate points in X.\n",
      "  return_n_iter=True)\n",
      "C:\\Users\\admin\\Anaconda3\\lib\\site-packages\\sklearn\\cluster\\k_means_.py:972: ConvergenceWarning: Number of distinct clusters (2) found smaller than n_clusters (5). Possibly due to duplicate points in X.\n",
      "  return_n_iter=True)\n",
      "C:\\Users\\admin\\Anaconda3\\lib\\site-packages\\sklearn\\cluster\\k_means_.py:972: ConvergenceWarning: Number of distinct clusters (2) found smaller than n_clusters (6). Possibly due to duplicate points in X.\n",
      "  return_n_iter=True)\n"
     ]
    }
   ],
   "source": [
    "# GMM on normal time series data\n",
    "dfx = np.array(seasonal_data['Value']).reshape(-1,1)\n",
    "lowest_bic = np.infty\n",
    "bic = []\n",
    "n_components_range = range(1, 7)\n",
    "cv_types = ['spherical', 'tied', 'diag', 'full']\n",
    "for cv_type in cv_types:\n",
    "    for n_components in n_components_range:\n",
    "        # Fit a Gaussian mixture with EM\n",
    "        gmm = mixture.GaussianMixture(n_components=n_components,\n",
    "                                      covariance_type=cv_type)\n",
    "        gmm.fit(dfx)\n",
    "        bic.append(gmm.bic(dfx))\n",
    "        if bic[-1] < lowest_bic:\n",
    "            lowest_bic = bic[-1]\n",
    "            best_gmm0 = gmm"
   ]
  },
  {
   "cell_type": "code",
   "execution_count": 16,
   "metadata": {},
   "outputs": [
    {
     "name": "stderr",
     "output_type": "stream",
     "text": [
      "C:\\Users\\admin\\Anaconda3\\lib\\site-packages\\sklearn\\cluster\\k_means_.py:972: ConvergenceWarning: Number of distinct clusters (2) found smaller than n_clusters (3). Possibly due to duplicate points in X.\n",
      "  return_n_iter=True)\n",
      "C:\\Users\\admin\\Anaconda3\\lib\\site-packages\\sklearn\\cluster\\k_means_.py:972: ConvergenceWarning: Number of distinct clusters (2) found smaller than n_clusters (4). Possibly due to duplicate points in X.\n",
      "  return_n_iter=True)\n",
      "C:\\Users\\admin\\Anaconda3\\lib\\site-packages\\sklearn\\cluster\\k_means_.py:972: ConvergenceWarning: Number of distinct clusters (2) found smaller than n_clusters (5). Possibly due to duplicate points in X.\n",
      "  return_n_iter=True)\n",
      "C:\\Users\\admin\\Anaconda3\\lib\\site-packages\\sklearn\\cluster\\k_means_.py:972: ConvergenceWarning: Number of distinct clusters (2) found smaller than n_clusters (6). Possibly due to duplicate points in X.\n",
      "  return_n_iter=True)\n",
      "C:\\Users\\admin\\Anaconda3\\lib\\site-packages\\sklearn\\cluster\\k_means_.py:972: ConvergenceWarning: Number of distinct clusters (2) found smaller than n_clusters (3). Possibly due to duplicate points in X.\n",
      "  return_n_iter=True)\n",
      "C:\\Users\\admin\\Anaconda3\\lib\\site-packages\\sklearn\\cluster\\k_means_.py:972: ConvergenceWarning: Number of distinct clusters (2) found smaller than n_clusters (4). Possibly due to duplicate points in X.\n",
      "  return_n_iter=True)\n",
      "C:\\Users\\admin\\Anaconda3\\lib\\site-packages\\sklearn\\cluster\\k_means_.py:972: ConvergenceWarning: Number of distinct clusters (2) found smaller than n_clusters (5). Possibly due to duplicate points in X.\n",
      "  return_n_iter=True)\n",
      "C:\\Users\\admin\\Anaconda3\\lib\\site-packages\\sklearn\\cluster\\k_means_.py:972: ConvergenceWarning: Number of distinct clusters (2) found smaller than n_clusters (6). Possibly due to duplicate points in X.\n",
      "  return_n_iter=True)\n",
      "C:\\Users\\admin\\Anaconda3\\lib\\site-packages\\sklearn\\cluster\\k_means_.py:972: ConvergenceWarning: Number of distinct clusters (2) found smaller than n_clusters (3). Possibly due to duplicate points in X.\n",
      "  return_n_iter=True)\n",
      "C:\\Users\\admin\\Anaconda3\\lib\\site-packages\\sklearn\\cluster\\k_means_.py:972: ConvergenceWarning: Number of distinct clusters (2) found smaller than n_clusters (4). Possibly due to duplicate points in X.\n",
      "  return_n_iter=True)\n",
      "C:\\Users\\admin\\Anaconda3\\lib\\site-packages\\sklearn\\cluster\\k_means_.py:972: ConvergenceWarning: Number of distinct clusters (2) found smaller than n_clusters (5). Possibly due to duplicate points in X.\n",
      "  return_n_iter=True)\n",
      "C:\\Users\\admin\\Anaconda3\\lib\\site-packages\\sklearn\\cluster\\k_means_.py:972: ConvergenceWarning: Number of distinct clusters (2) found smaller than n_clusters (6). Possibly due to duplicate points in X.\n",
      "  return_n_iter=True)\n",
      "C:\\Users\\admin\\Anaconda3\\lib\\site-packages\\sklearn\\cluster\\k_means_.py:972: ConvergenceWarning: Number of distinct clusters (2) found smaller than n_clusters (3). Possibly due to duplicate points in X.\n",
      "  return_n_iter=True)\n",
      "C:\\Users\\admin\\Anaconda3\\lib\\site-packages\\sklearn\\cluster\\k_means_.py:972: ConvergenceWarning: Number of distinct clusters (2) found smaller than n_clusters (4). Possibly due to duplicate points in X.\n",
      "  return_n_iter=True)\n",
      "C:\\Users\\admin\\Anaconda3\\lib\\site-packages\\sklearn\\cluster\\k_means_.py:972: ConvergenceWarning: Number of distinct clusters (2) found smaller than n_clusters (5). Possibly due to duplicate points in X.\n",
      "  return_n_iter=True)\n",
      "C:\\Users\\admin\\Anaconda3\\lib\\site-packages\\sklearn\\cluster\\k_means_.py:972: ConvergenceWarning: Number of distinct clusters (2) found smaller than n_clusters (6). Possibly due to duplicate points in X.\n",
      "  return_n_iter=True)\n"
     ]
    }
   ],
   "source": [
    "# GMM on natural log values of time series data \n",
    "dfx = np.array(nlog_data['Log Value']).reshape(-1,1)\n",
    "lowest_bic = np.infty\n",
    "bic = []\n",
    "n_components_range = range(1, 7)\n",
    "cv_types = ['spherical', 'tied', 'diag', 'full']\n",
    "for cv_type in cv_types:\n",
    "    for n_components in n_components_range:\n",
    "        # Fit a Gaussian mixture with EM\n",
    "        gmm = mixture.GaussianMixture(n_components=n_components,\n",
    "                                      covariance_type=cv_type)\n",
    "        gmm.fit(dfx)\n",
    "        bic.append(gmm.bic(dfx))\n",
    "        if bic[-1] < lowest_bic:\n",
    "            lowest_bic = bic[-1]\n",
    "            best_gmm1 = gmm"
   ]
  },
  {
   "cell_type": "code",
   "execution_count": 17,
   "metadata": {},
   "outputs": [],
   "source": [
    "# GMM on fft data\n",
    "dfx = freq_ampli.iloc[1:,1:]\n",
    "lowest_bic = np.infty\n",
    "bic = []\n",
    "n_components_range = range(1, 7)\n",
    "cv_types = ['spherical', 'tied', 'diag', 'full']\n",
    "for cv_type in cv_types:\n",
    "    for n_components in n_components_range:\n",
    "        # Fit a Gaussian mixture with EM\n",
    "        gmm = mixture.GaussianMixture(n_components=n_components,\n",
    "                                      covariance_type=cv_type)\n",
    "        gmm.fit(dfx)\n",
    "        bic.append(gmm.bic(dfx))\n",
    "        if bic[-1] < lowest_bic:\n",
    "            lowest_bic = bic[-1]\n",
    "            best_gmm2 = gmm"
   ]
  },
  {
   "cell_type": "code",
   "execution_count": 18,
   "metadata": {},
   "outputs": [],
   "source": [
    "# GMM on cepstrum data \n",
    "dfx = cep.iloc[1:,1:]\n",
    "lowest_bic = np.infty\n",
    "bic = []\n",
    "n_components_range = range(1, 7)\n",
    "cv_types = ['spherical', 'tied', 'diag', 'full']\n",
    "for cv_type in cv_types:\n",
    "    for n_components in n_components_range:\n",
    "        # Fit a Gaussian mixture with EM\n",
    "        gmm = mixture.GaussianMixture(n_components=n_components,\n",
    "                                      covariance_type=cv_type)\n",
    "        gmm.fit(dfx)\n",
    "        bic.append(gmm.bic(dfx))\n",
    "        if bic[-1] < lowest_bic:\n",
    "            lowest_bic = bic[-1]\n",
    "            best_gmm3 = gmm"
   ]
  },
  {
   "cell_type": "markdown",
   "metadata": {},
   "source": [
    "Results of GMM on normal time series data"
   ]
  },
  {
   "cell_type": "code",
   "execution_count": 19,
   "metadata": {},
   "outputs": [
    {
     "data": {
      "text/html": [
       "<div>\n",
       "<style scoped>\n",
       "    .dataframe tbody tr th:only-of-type {\n",
       "        vertical-align: middle;\n",
       "    }\n",
       "\n",
       "    .dataframe tbody tr th {\n",
       "        vertical-align: top;\n",
       "    }\n",
       "\n",
       "    .dataframe thead th {\n",
       "        text-align: right;\n",
       "    }\n",
       "</style>\n",
       "<table border=\"1\" class=\"dataframe\">\n",
       "  <thead>\n",
       "    <tr style=\"text-align: right;\">\n",
       "      <th></th>\n",
       "      <th>Time</th>\n",
       "      <th>Value</th>\n",
       "    </tr>\n",
       "  </thead>\n",
       "  <tbody>\n",
       "    <tr>\n",
       "      <td>count</td>\n",
       "      <td>250.000000</td>\n",
       "      <td>250.000000</td>\n",
       "    </tr>\n",
       "    <tr>\n",
       "      <td>mean</td>\n",
       "      <td>124.500000</td>\n",
       "      <td>75.000000</td>\n",
       "    </tr>\n",
       "    <tr>\n",
       "      <td>std</td>\n",
       "      <td>72.312977</td>\n",
       "      <td>25.050151</td>\n",
       "    </tr>\n",
       "    <tr>\n",
       "      <td>min</td>\n",
       "      <td>0.000000</td>\n",
       "      <td>50.000000</td>\n",
       "    </tr>\n",
       "    <tr>\n",
       "      <td>25%</td>\n",
       "      <td>62.250000</td>\n",
       "      <td>50.000000</td>\n",
       "    </tr>\n",
       "    <tr>\n",
       "      <td>50%</td>\n",
       "      <td>124.500000</td>\n",
       "      <td>75.000000</td>\n",
       "    </tr>\n",
       "    <tr>\n",
       "      <td>75%</td>\n",
       "      <td>186.750000</td>\n",
       "      <td>100.000000</td>\n",
       "    </tr>\n",
       "    <tr>\n",
       "      <td>max</td>\n",
       "      <td>249.000000</td>\n",
       "      <td>100.000000</td>\n",
       "    </tr>\n",
       "  </tbody>\n",
       "</table>\n",
       "</div>"
      ],
      "text/plain": [
       "             Time       Value\n",
       "count  250.000000  250.000000\n",
       "mean   124.500000   75.000000\n",
       "std     72.312977   25.050151\n",
       "min      0.000000   50.000000\n",
       "25%     62.250000   50.000000\n",
       "50%    124.500000   75.000000\n",
       "75%    186.750000  100.000000\n",
       "max    249.000000  100.000000"
      ]
     },
     "execution_count": 19,
     "metadata": {},
     "output_type": "execute_result"
    }
   ],
   "source": [
    "seasonal_data.describe()"
   ]
  },
  {
   "cell_type": "code",
   "execution_count": 20,
   "metadata": {},
   "outputs": [
    {
     "data": {
      "text/plain": [
       "GaussianMixture(covariance_type='tied', init_params='kmeans', max_iter=100,\n",
       "                means_init=None, n_components=2, n_init=1, precisions_init=None,\n",
       "                random_state=None, reg_covar=1e-06, tol=0.001, verbose=0,\n",
       "                verbose_interval=10, warm_start=False, weights_init=None)"
      ]
     },
     "execution_count": 20,
     "metadata": {},
     "output_type": "execute_result"
    }
   ],
   "source": [
    "best_gmm0"
   ]
  },
  {
   "cell_type": "code",
   "execution_count": 21,
   "metadata": {},
   "outputs": [
    {
     "data": {
      "text/plain": [
       "array([0.5, 0.5])"
      ]
     },
     "execution_count": 21,
     "metadata": {},
     "output_type": "execute_result"
    }
   ],
   "source": [
    "best_gmm0.weights_"
   ]
  },
  {
   "cell_type": "code",
   "execution_count": 22,
   "metadata": {},
   "outputs": [
    {
     "data": {
      "text/plain": [
       "array([[100.],\n",
       "       [ 50.]])"
      ]
     },
     "execution_count": 22,
     "metadata": {},
     "output_type": "execute_result"
    }
   ],
   "source": [
    "best_gmm0.means_"
   ]
  },
  {
   "cell_type": "code",
   "execution_count": 23,
   "metadata": {},
   "outputs": [
    {
     "data": {
      "text/plain": [
       "<matplotlib.axes._subplots.AxesSubplot at 0x1f66fde6a88>"
      ]
     },
     "execution_count": 23,
     "metadata": {},
     "output_type": "execute_result"
    },
    {
     "data": {
      "image/png": "[encoded data removed]",
      "text/plain": [
       "<Figure size 432x288 with 1 Axes>"
      ]
     },
     "metadata": {
      "needs_background": "light"
     },
     "output_type": "display_data"
    }
   ],
   "source": [
    "#Time Series\n",
    "sns.distplot(seasonal_data['Value'],kde=False)\n",
    "z,_ = best_gmm0.sample(250)\n",
    "sns.distplot(z,kde=False)"
   ]
  },
  {
   "cell_type": "code",
   "execution_count": 24,
   "metadata": {},
   "outputs": [
    {
     "name": "stdout",
     "output_type": "stream",
     "text": [
      "5.29566956521752\n"
     ]
    }
   ],
   "source": [
    "#Time Series\n",
    "print(best_gmm0.score(np.array(seasonal_data['Value']).reshape(-1,1)))\n",
    "#print(best_gmm0.score(z))"
   ]
  },
  {
   "cell_type": "markdown",
   "metadata": {},
   "source": [
    "Results of GMM on natural log values of time series data"
   ]
  },
  {
   "cell_type": "code",
   "execution_count": 25,
   "metadata": {},
   "outputs": [
    {
     "data": {
      "text/html": [
       "<div>\n",
       "<style scoped>\n",
       "    .dataframe tbody tr th:only-of-type {\n",
       "        vertical-align: middle;\n",
       "    }\n",
       "\n",
       "    .dataframe tbody tr th {\n",
       "        vertical-align: top;\n",
       "    }\n",
       "\n",
       "    .dataframe thead th {\n",
       "        text-align: right;\n",
       "    }\n",
       "</style>\n",
       "<table border=\"1\" class=\"dataframe\">\n",
       "  <thead>\n",
       "    <tr style=\"text-align: right;\">\n",
       "      <th></th>\n",
       "      <th>Time</th>\n",
       "      <th>Log Value</th>\n",
       "    </tr>\n",
       "  </thead>\n",
       "  <tbody>\n",
       "    <tr>\n",
       "      <td>count</td>\n",
       "      <td>250.000000</td>\n",
       "      <td>250.000000</td>\n",
       "    </tr>\n",
       "    <tr>\n",
       "      <td>mean</td>\n",
       "      <td>124.500000</td>\n",
       "      <td>4.258597</td>\n",
       "    </tr>\n",
       "    <tr>\n",
       "      <td>std</td>\n",
       "      <td>72.312977</td>\n",
       "      <td>0.347269</td>\n",
       "    </tr>\n",
       "    <tr>\n",
       "      <td>min</td>\n",
       "      <td>0.000000</td>\n",
       "      <td>3.912023</td>\n",
       "    </tr>\n",
       "    <tr>\n",
       "      <td>25%</td>\n",
       "      <td>62.250000</td>\n",
       "      <td>3.912023</td>\n",
       "    </tr>\n",
       "    <tr>\n",
       "      <td>50%</td>\n",
       "      <td>124.500000</td>\n",
       "      <td>4.258597</td>\n",
       "    </tr>\n",
       "    <tr>\n",
       "      <td>75%</td>\n",
       "      <td>186.750000</td>\n",
       "      <td>4.605170</td>\n",
       "    </tr>\n",
       "    <tr>\n",
       "      <td>max</td>\n",
       "      <td>249.000000</td>\n",
       "      <td>4.605170</td>\n",
       "    </tr>\n",
       "  </tbody>\n",
       "</table>\n",
       "</div>"
      ],
      "text/plain": [
       "             Time   Log Value\n",
       "count  250.000000  250.000000\n",
       "mean   124.500000    4.258597\n",
       "std     72.312977    0.347269\n",
       "min      0.000000    3.912023\n",
       "25%     62.250000    3.912023\n",
       "50%    124.500000    4.258597\n",
       "75%    186.750000    4.605170\n",
       "max    249.000000    4.605170"
      ]
     },
     "execution_count": 25,
     "metadata": {},
     "output_type": "execute_result"
    }
   ],
   "source": [
    "nlog_data.describe()"
   ]
  },
  {
   "cell_type": "code",
   "execution_count": 26,
   "metadata": {},
   "outputs": [
    {
     "data": {
      "text/plain": [
       "GaussianMixture(covariance_type='tied', init_params='kmeans', max_iter=100,\n",
       "                means_init=None, n_components=2, n_init=1, precisions_init=None,\n",
       "                random_state=None, reg_covar=1e-06, tol=0.001, verbose=0,\n",
       "                verbose_interval=10, warm_start=False, weights_init=None)"
      ]
     },
     "execution_count": 26,
     "metadata": {},
     "output_type": "execute_result"
    }
   ],
   "source": [
    "best_gmm1"
   ]
  },
  {
   "cell_type": "code",
   "execution_count": 27,
   "metadata": {},
   "outputs": [
    {
     "data": {
      "text/plain": [
       "array([0.5, 0.5])"
      ]
     },
     "execution_count": 27,
     "metadata": {},
     "output_type": "execute_result"
    }
   ],
   "source": [
    "best_gmm1.weights_"
   ]
  },
  {
   "cell_type": "code",
   "execution_count": 28,
   "metadata": {},
   "outputs": [
    {
     "data": {
      "text/plain": [
       "array([[4.60517019],\n",
       "       [3.91202301]])"
      ]
     },
     "execution_count": 28,
     "metadata": {},
     "output_type": "execute_result"
    }
   ],
   "source": [
    "best_gmm1.means_"
   ]
  },
  {
   "cell_type": "code",
   "execution_count": 29,
   "metadata": {},
   "outputs": [
    {
     "data": {
      "text/plain": [
       "<matplotlib.axes._subplots.AxesSubplot at 0x1f66ff1abc8>"
      ]
     },
     "execution_count": 29,
     "metadata": {},
     "output_type": "execute_result"
    },
    {
     "data": {
      "image/png": "[encoded data removed]",
      "text/plain": [
       "<Figure size 432x288 with 1 Axes>"
      ]
     },
     "metadata": {
      "needs_background": "light"
     },
     "output_type": "display_data"
    }
   ],
   "source": [
    "#Time Series - Log\n",
    "sns.distplot(nlog_data['Log Value'],bins=50,kde = False)\n",
    "z,_ = best_gmm1.sample(250)\n",
    "sns.distplot(z,bins=50,kde=False)"
   ]
  },
  {
   "cell_type": "code",
   "execution_count": 30,
   "metadata": {},
   "outputs": [
    {
     "name": "stdout",
     "output_type": "stream",
     "text": [
      "5.295669527018744\n"
     ]
    }
   ],
   "source": [
    "#Time Series - Log\n",
    "print(best_gmm1.score(np.array(nlog_data['Log Value']).reshape(-1,1)))\n",
    "#print(best_gmm1.score(z))"
   ]
  },
  {
   "cell_type": "markdown",
   "metadata": {},
   "source": [
    "Results of GMM on fft data"
   ]
  },
  {
   "cell_type": "code",
   "execution_count": 31,
   "metadata": {},
   "outputs": [
    {
     "data": {
      "text/html": [
       "<div>\n",
       "<style scoped>\n",
       "    .dataframe tbody tr th:only-of-type {\n",
       "        vertical-align: middle;\n",
       "    }\n",
       "\n",
       "    .dataframe tbody tr th {\n",
       "        vertical-align: top;\n",
       "    }\n",
       "\n",
       "    .dataframe thead th {\n",
       "        text-align: right;\n",
       "    }\n",
       "</style>\n",
       "<table border=\"1\" class=\"dataframe\">\n",
       "  <thead>\n",
       "    <tr style=\"text-align: right;\">\n",
       "      <th></th>\n",
       "      <th>Freq</th>\n",
       "      <th>Ampli</th>\n",
       "    </tr>\n",
       "  </thead>\n",
       "  <tbody>\n",
       "    <tr>\n",
       "      <td>count</td>\n",
       "      <td>125.000000</td>\n",
       "      <td>1.250000e+02</td>\n",
       "    </tr>\n",
       "    <tr>\n",
       "      <td>mean</td>\n",
       "      <td>0.248000</td>\n",
       "      <td>1.794359e+00</td>\n",
       "    </tr>\n",
       "    <tr>\n",
       "      <td>std</td>\n",
       "      <td>0.144914</td>\n",
       "      <td>1.372117e+01</td>\n",
       "    </tr>\n",
       "    <tr>\n",
       "      <td>min</td>\n",
       "      <td>0.000000</td>\n",
       "      <td>0.000000e+00</td>\n",
       "    </tr>\n",
       "    <tr>\n",
       "      <td>25%</td>\n",
       "      <td>0.124000</td>\n",
       "      <td>0.000000e+00</td>\n",
       "    </tr>\n",
       "    <tr>\n",
       "      <td>50%</td>\n",
       "      <td>0.248000</td>\n",
       "      <td>4.667280e-17</td>\n",
       "    </tr>\n",
       "    <tr>\n",
       "      <td>75%</td>\n",
       "      <td>0.372000</td>\n",
       "      <td>2.104158e-16</td>\n",
       "    </tr>\n",
       "    <tr>\n",
       "      <td>max</td>\n",
       "      <td>0.496000</td>\n",
       "      <td>1.500000e+02</td>\n",
       "    </tr>\n",
       "  </tbody>\n",
       "</table>\n",
       "</div>"
      ],
      "text/plain": [
       "             Freq         Ampli\n",
       "count  125.000000  1.250000e+02\n",
       "mean     0.248000  1.794359e+00\n",
       "std      0.144914  1.372117e+01\n",
       "min      0.000000  0.000000e+00\n",
       "25%      0.124000  0.000000e+00\n",
       "50%      0.248000  4.667280e-17\n",
       "75%      0.372000  2.104158e-16\n",
       "max      0.496000  1.500000e+02"
      ]
     },
     "execution_count": 31,
     "metadata": {},
     "output_type": "execute_result"
    }
   ],
   "source": [
    "freq_ampli.describe()"
   ]
  },
  {
   "cell_type": "code",
   "execution_count": 32,
   "metadata": {},
   "outputs": [
    {
     "data": {
      "text/plain": [
       "GaussianMixture(covariance_type='full', init_params='kmeans', max_iter=100,\n",
       "                means_init=None, n_components=4, n_init=1, precisions_init=None,\n",
       "                random_state=None, reg_covar=1e-06, tol=0.001, verbose=0,\n",
       "                verbose_interval=10, warm_start=False, weights_init=None)"
      ]
     },
     "execution_count": 32,
     "metadata": {},
     "output_type": "execute_result"
    }
   ],
   "source": [
    "best_gmm2"
   ]
  },
  {
   "cell_type": "code",
   "execution_count": 33,
   "metadata": {},
   "outputs": [
    {
     "data": {
      "text/plain": [
       "array([0.08064909, 0.00806452, 0.90322188, 0.00806452])"
      ]
     },
     "execution_count": 33,
     "metadata": {},
     "output_type": "execute_result"
    }
   ],
   "source": [
    "best_gmm2.weights_"
   ]
  },
  {
   "cell_type": "code",
   "execution_count": 42,
   "metadata": {},
   "outputs": [
    {
     "data": {
      "text/plain": [
       "<matplotlib.axes._subplots.AxesSubplot at 0x1f6704b9848>"
      ]
     },
     "execution_count": 42,
     "metadata": {},
     "output_type": "execute_result"
    },
    {
     "data": {
      "image/png": "[encoded data removed]",
      "text/plain": [
       "<Figure size 432x288 with 1 Axes>"
      ]
     },
     "metadata": {
      "needs_background": "light"
     },
     "output_type": "display_data"
    }
   ],
   "source": [
    "#Frequency\n",
    "freq1 = freq_ampli.iloc[1:,1:]\n",
    "y,_ = best_gmm2.sample(125)\n",
    "sns.distplot(freq1)\n",
    "sns.distplot(y)"
   ]
  },
  {
   "cell_type": "code",
   "execution_count": 35,
   "metadata": {},
   "outputs": [
    {
     "name": "stdout",
     "output_type": "stream",
     "text": [
      "4.993674144651401\n"
     ]
    }
   ],
   "source": [
    "#Freq\n",
    "print(best_gmm2.score(freq1))\n",
    "#print(best_gmm2.score(y))"
   ]
  },
  {
   "cell_type": "markdown",
   "metadata": {},
   "source": [
    "Results of GMM on cepstrum data"
   ]
  },
  {
   "cell_type": "code",
   "execution_count": 36,
   "metadata": {},
   "outputs": [
    {
     "data": {
      "text/html": [
       "<div>\n",
       "<style scoped>\n",
       "    .dataframe tbody tr th:only-of-type {\n",
       "        vertical-align: middle;\n",
       "    }\n",
       "\n",
       "    .dataframe tbody tr th {\n",
       "        vertical-align: top;\n",
       "    }\n",
       "\n",
       "    .dataframe thead th {\n",
       "        text-align: right;\n",
       "    }\n",
       "</style>\n",
       "<table border=\"1\" class=\"dataframe\">\n",
       "  <thead>\n",
       "    <tr style=\"text-align: right;\">\n",
       "      <th></th>\n",
       "      <th>Quefrency</th>\n",
       "      <th>Cepstrum</th>\n",
       "    </tr>\n",
       "  </thead>\n",
       "  <tbody>\n",
       "    <tr>\n",
       "      <td>count</td>\n",
       "      <td>76.000000</td>\n",
       "      <td>76.000000</td>\n",
       "    </tr>\n",
       "    <tr>\n",
       "      <td>mean</td>\n",
       "      <td>12.500000</td>\n",
       "      <td>-20.769917</td>\n",
       "    </tr>\n",
       "    <tr>\n",
       "      <td>std</td>\n",
       "      <td>7.361059</td>\n",
       "      <td>474.925232</td>\n",
       "    </tr>\n",
       "    <tr>\n",
       "      <td>min</td>\n",
       "      <td>0.000000</td>\n",
       "      <td>-3771.793151</td>\n",
       "    </tr>\n",
       "    <tr>\n",
       "      <td>25%</td>\n",
       "      <td>6.250000</td>\n",
       "      <td>33.912346</td>\n",
       "    </tr>\n",
       "    <tr>\n",
       "      <td>50%</td>\n",
       "      <td>12.500000</td>\n",
       "      <td>38.052042</td>\n",
       "    </tr>\n",
       "    <tr>\n",
       "      <td>75%</td>\n",
       "      <td>18.750000</td>\n",
       "      <td>40.686435</td>\n",
       "    </tr>\n",
       "    <tr>\n",
       "      <td>max</td>\n",
       "      <td>25.000000</td>\n",
       "      <td>1054.230015</td>\n",
       "    </tr>\n",
       "  </tbody>\n",
       "</table>\n",
       "</div>"
      ],
      "text/plain": [
       "       Quefrency     Cepstrum\n",
       "count  76.000000    76.000000\n",
       "mean   12.500000   -20.769917\n",
       "std     7.361059   474.925232\n",
       "min     0.000000 -3771.793151\n",
       "25%     6.250000    33.912346\n",
       "50%    12.500000    38.052042\n",
       "75%    18.750000    40.686435\n",
       "max    25.000000  1054.230015"
      ]
     },
     "execution_count": 36,
     "metadata": {},
     "output_type": "execute_result"
    }
   ],
   "source": [
    "cep.describe()"
   ]
  },
  {
   "cell_type": "code",
   "execution_count": 37,
   "metadata": {},
   "outputs": [
    {
     "data": {
      "text/plain": [
       "GaussianMixture(covariance_type='full', init_params='kmeans', max_iter=100,\n",
       "                means_init=None, n_components=4, n_init=1, precisions_init=None,\n",
       "                random_state=None, reg_covar=1e-06, tol=0.001, verbose=0,\n",
       "                verbose_interval=10, warm_start=False, weights_init=None)"
      ]
     },
     "execution_count": 37,
     "metadata": {},
     "output_type": "execute_result"
    }
   ],
   "source": [
    "best_gmm3"
   ]
  },
  {
   "cell_type": "code",
   "execution_count": 38,
   "metadata": {},
   "outputs": [
    {
     "data": {
      "text/plain": [
       "array([0.83465283, 0.02666667, 0.01333333, 0.12534717])"
      ]
     },
     "execution_count": 38,
     "metadata": {},
     "output_type": "execute_result"
    }
   ],
   "source": [
    "best_gmm3.weights_"
   ]
  },
  {
   "cell_type": "code",
   "execution_count": 39,
   "metadata": {},
   "outputs": [
    {
     "data": {
      "text/plain": [
       "<matplotlib.axes._subplots.AxesSubplot at 0x1f6700b4fc8>"
      ]
     },
     "execution_count": 39,
     "metadata": {},
     "output_type": "execute_result"
    },
    {
     "data": {
      "image/png": "[encoded data removed]",
      "text/plain": [
       "<Figure size 432x288 with 1 Axes>"
      ]
     },
     "metadata": {
      "needs_background": "light"
     },
     "output_type": "display_data"
    }
   ],
   "source": [
    "cep1 = cep.iloc[1:,1:]\n",
    "z,_ = best_gmm3.sample(125)\n",
    "sns.distplot(cep1)\n",
    "sns.distplot(z)"
   ]
  },
  {
   "cell_type": "code",
   "execution_count": 40,
   "metadata": {},
   "outputs": [
    {
     "name": "stdout",
     "output_type": "stream",
     "text": [
      "-3.446299220350187\n"
     ]
    }
   ],
   "source": [
    "print(best_gmm3.score(cep1))\n",
    "#print(best_gmm3.score(z))"
   ]
  },
  {
   "cell_type": "code",
   "execution_count": null,
   "metadata": {},
   "outputs": [],
   "source": []
  }
 ],
 "metadata": {
  "kernelspec": {
   "display_name": "Python 3",
   "language": "python",
   "name": "python3"
  },
  "language_info": {
   "codemirror_mode": {
    "name": "ipython",
    "version": 3
   },
   "file_extension": ".py",
   "mimetype": "text/x-python",
   "name": "python",
   "nbconvert_exporter": "python",
   "pygments_lexer": "ipython3",
   "version": "3.7.4"
  }
 },
 "nbformat": 4,
 "nbformat_minor": 2
}
