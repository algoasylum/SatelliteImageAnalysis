{
 "cells": [
  {
   "cell_type": "code",
   "execution_count": 1,
   "metadata": {},
   "outputs": [],
   "source": [
    "import numpy as np\n",
    "import pandas as pd\n",
    "import seaborn as sns\n",
    "import matplotlib.pyplot as plt\n",
    "import plotly.express as px\n",
    "import plotly.figure_factory as ff\n",
    "import plotly.graph_objects as go\n",
    "from plotly.subplots import make_subplots\n",
    "from scipy import fftpack\n",
    "import datetime\n",
    "from sklearn import mixture"
   ]
  },
  {
   "cell_type": "code",
   "execution_count": 2,
   "metadata": {},
   "outputs": [
    {
     "data": {
      "image/png": "[encoded data removed]",
      "text/plain": [
       "<Figure size 720x432 with 1 Axes>"
      ]
     },
     "metadata": {
      "needs_background": "light"
     },
     "output_type": "display_data"
    }
   ],
   "source": [
    "x = np.arange(0, 250)\n",
    "y = np.empty([250], dtype = int)\n",
    "y[0:50] = 50\n",
    "y[50:100] = 100\n",
    "y[100:150] = 50\n",
    "y[150:200] = 100\n",
    "y[200:250] = 50\n",
    "sd = y\n",
    "plt.figure(figsize=(10,6))\n",
    "plt.plot(x, y)\n",
    "plt.title(\"Synthetic Data\")\n",
    "plt.show()"
   ]
  },
  {
   "cell_type": "code",
   "execution_count": 3,
   "metadata": {},
   "outputs": [
    {
     "data": {
      "text/html": [
       "<div>\n",
       "<style scoped>\n",
       "    .dataframe tbody tr th:only-of-type {\n",
       "        vertical-align: middle;\n",
       "    }\n",
       "\n",
       "    .dataframe tbody tr th {\n",
       "        vertical-align: top;\n",
       "    }\n",
       "\n",
       "    .dataframe thead th {\n",
       "        text-align: right;\n",
       "    }\n",
       "</style>\n",
       "<table border=\"1\" class=\"dataframe\">\n",
       "  <thead>\n",
       "    <tr style=\"text-align: right;\">\n",
       "      <th></th>\n",
       "      <th>0</th>\n",
       "    </tr>\n",
       "  </thead>\n",
       "  <tbody>\n",
       "    <tr>\n",
       "      <th>count</th>\n",
       "      <td>250.000000</td>\n",
       "    </tr>\n",
       "    <tr>\n",
       "      <th>mean</th>\n",
       "      <td>70.000000</td>\n",
       "    </tr>\n",
       "    <tr>\n",
       "      <th>std</th>\n",
       "      <td>24.544035</td>\n",
       "    </tr>\n",
       "    <tr>\n",
       "      <th>min</th>\n",
       "      <td>50.000000</td>\n",
       "    </tr>\n",
       "    <tr>\n",
       "      <th>25%</th>\n",
       "      <td>50.000000</td>\n",
       "    </tr>\n",
       "    <tr>\n",
       "      <th>50%</th>\n",
       "      <td>50.000000</td>\n",
       "    </tr>\n",
       "    <tr>\n",
       "      <th>75%</th>\n",
       "      <td>100.000000</td>\n",
       "    </tr>\n",
       "    <tr>\n",
       "      <th>max</th>\n",
       "      <td>100.000000</td>\n",
       "    </tr>\n",
       "  </tbody>\n",
       "</table>\n",
       "</div>"
      ],
      "text/plain": [
       "                0\n",
       "count  250.000000\n",
       "mean    70.000000\n",
       "std     24.544035\n",
       "min     50.000000\n",
       "25%     50.000000\n",
       "50%     50.000000\n",
       "75%    100.000000\n",
       "max    100.000000"
      ]
     },
     "execution_count": 3,
     "metadata": {},
     "output_type": "execute_result"
    }
   ],
   "source": [
    "pd.DataFrame(sd).describe()"
   ]
  },
  {
   "cell_type": "code",
   "execution_count": 4,
   "metadata": {},
   "outputs": [
    {
     "data": {
      "text/html": [
       "<div>\n",
       "<style scoped>\n",
       "    .dataframe tbody tr th:only-of-type {\n",
       "        vertical-align: middle;\n",
       "    }\n",
       "\n",
       "    .dataframe tbody tr th {\n",
       "        vertical-align: top;\n",
       "    }\n",
       "\n",
       "    .dataframe thead th {\n",
       "        text-align: right;\n",
       "    }\n",
       "</style>\n",
       "<table border=\"1\" class=\"dataframe\">\n",
       "  <thead>\n",
       "    <tr style=\"text-align: right;\">\n",
       "      <th></th>\n",
       "      <th>Time</th>\n",
       "      <th>Value</th>\n",
       "    </tr>\n",
       "  </thead>\n",
       "  <tbody>\n",
       "    <tr>\n",
       "      <th>0</th>\n",
       "      <td>0</td>\n",
       "      <td>50</td>\n",
       "    </tr>\n",
       "    <tr>\n",
       "      <th>1</th>\n",
       "      <td>1</td>\n",
       "      <td>50</td>\n",
       "    </tr>\n",
       "    <tr>\n",
       "      <th>2</th>\n",
       "      <td>2</td>\n",
       "      <td>50</td>\n",
       "    </tr>\n",
       "    <tr>\n",
       "      <th>3</th>\n",
       "      <td>3</td>\n",
       "      <td>50</td>\n",
       "    </tr>\n",
       "    <tr>\n",
       "      <th>4</th>\n",
       "      <td>4</td>\n",
       "      <td>50</td>\n",
       "    </tr>\n",
       "    <tr>\n",
       "      <th>...</th>\n",
       "      <td>...</td>\n",
       "      <td>...</td>\n",
       "    </tr>\n",
       "    <tr>\n",
       "      <th>245</th>\n",
       "      <td>245</td>\n",
       "      <td>50</td>\n",
       "    </tr>\n",
       "    <tr>\n",
       "      <th>246</th>\n",
       "      <td>246</td>\n",
       "      <td>50</td>\n",
       "    </tr>\n",
       "    <tr>\n",
       "      <th>247</th>\n",
       "      <td>247</td>\n",
       "      <td>50</td>\n",
       "    </tr>\n",
       "    <tr>\n",
       "      <th>248</th>\n",
       "      <td>248</td>\n",
       "      <td>50</td>\n",
       "    </tr>\n",
       "    <tr>\n",
       "      <th>249</th>\n",
       "      <td>249</td>\n",
       "      <td>50</td>\n",
       "    </tr>\n",
       "  </tbody>\n",
       "</table>\n",
       "<p>250 rows × 2 columns</p>\n",
       "</div>"
      ],
      "text/plain": [
       "     Time  Value\n",
       "0       0     50\n",
       "1       1     50\n",
       "2       2     50\n",
       "3       3     50\n",
       "4       4     50\n",
       "..    ...    ...\n",
       "245   245     50\n",
       "246   246     50\n",
       "247   247     50\n",
       "248   248     50\n",
       "249   249     50\n",
       "\n",
       "[250 rows x 2 columns]"
      ]
     },
     "execution_count": 4,
     "metadata": {},
     "output_type": "execute_result"
    }
   ],
   "source": [
    "seasonal_data = pd.DataFrame(zip(x,y),columns=['Time','Value'])\n",
    "seasonal_data"
   ]
  },
  {
   "cell_type": "code",
   "execution_count": 5,
   "metadata": {},
   "outputs": [
    {
     "data": {
      "image/png": "[encoded data removed]",
      "text/plain": [
       "<Figure size 720x432 with 1 Axes>"
      ]
     },
     "metadata": {
      "needs_background": "light"
     },
     "output_type": "display_data"
    }
   ],
   "source": [
    "log_data = np.log(seasonal_data['Value'])\n",
    "plt.figure(figsize=(10,6))\n",
    "plt.plot(seasonal_data['Time'], log_data)\n",
    "plt.title(\"Synthetic Data after taking natural log\")\n",
    "plt.show()"
   ]
  },
  {
   "cell_type": "code",
   "execution_count": 6,
   "metadata": {},
   "outputs": [
    {
     "data": {
      "text/html": [
       "<div>\n",
       "<style scoped>\n",
       "    .dataframe tbody tr th:only-of-type {\n",
       "        vertical-align: middle;\n",
       "    }\n",
       "\n",
       "    .dataframe tbody tr th {\n",
       "        vertical-align: top;\n",
       "    }\n",
       "\n",
       "    .dataframe thead th {\n",
       "        text-align: right;\n",
       "    }\n",
       "</style>\n",
       "<table border=\"1\" class=\"dataframe\">\n",
       "  <thead>\n",
       "    <tr style=\"text-align: right;\">\n",
       "      <th></th>\n",
       "      <th>Time</th>\n",
       "      <th>Log Value</th>\n",
       "    </tr>\n",
       "  </thead>\n",
       "  <tbody>\n",
       "    <tr>\n",
       "      <th>0</th>\n",
       "      <td>0</td>\n",
       "      <td>3.912023</td>\n",
       "    </tr>\n",
       "    <tr>\n",
       "      <th>1</th>\n",
       "      <td>1</td>\n",
       "      <td>3.912023</td>\n",
       "    </tr>\n",
       "    <tr>\n",
       "      <th>2</th>\n",
       "      <td>2</td>\n",
       "      <td>3.912023</td>\n",
       "    </tr>\n",
       "    <tr>\n",
       "      <th>3</th>\n",
       "      <td>3</td>\n",
       "      <td>3.912023</td>\n",
       "    </tr>\n",
       "    <tr>\n",
       "      <th>4</th>\n",
       "      <td>4</td>\n",
       "      <td>3.912023</td>\n",
       "    </tr>\n",
       "    <tr>\n",
       "      <th>...</th>\n",
       "      <td>...</td>\n",
       "      <td>...</td>\n",
       "    </tr>\n",
       "    <tr>\n",
       "      <th>245</th>\n",
       "      <td>245</td>\n",
       "      <td>3.912023</td>\n",
       "    </tr>\n",
       "    <tr>\n",
       "      <th>246</th>\n",
       "      <td>246</td>\n",
       "      <td>3.912023</td>\n",
       "    </tr>\n",
       "    <tr>\n",
       "      <th>247</th>\n",
       "      <td>247</td>\n",
       "      <td>3.912023</td>\n",
       "    </tr>\n",
       "    <tr>\n",
       "      <th>248</th>\n",
       "      <td>248</td>\n",
       "      <td>3.912023</td>\n",
       "    </tr>\n",
       "    <tr>\n",
       "      <th>249</th>\n",
       "      <td>249</td>\n",
       "      <td>3.912023</td>\n",
       "    </tr>\n",
       "  </tbody>\n",
       "</table>\n",
       "<p>250 rows × 2 columns</p>\n",
       "</div>"
      ],
      "text/plain": [
       "     Time  Log Value\n",
       "0       0   3.912023\n",
       "1       1   3.912023\n",
       "2       2   3.912023\n",
       "3       3   3.912023\n",
       "4       4   3.912023\n",
       "..    ...        ...\n",
       "245   245   3.912023\n",
       "246   246   3.912023\n",
       "247   247   3.912023\n",
       "248   248   3.912023\n",
       "249   249   3.912023\n",
       "\n",
       "[250 rows x 2 columns]"
      ]
     },
     "execution_count": 6,
     "metadata": {},
     "output_type": "execute_result"
    }
   ],
   "source": [
    "nlog_data = pd.DataFrame(zip(seasonal_data['Time'], log_data),columns=['Time','Log Value'])\n",
    "nlog_data"
   ]
  },
  {
   "cell_type": "code",
   "execution_count": 7,
   "metadata": {},
   "outputs": [
    {
     "data": {
      "image/png": "[encoded data removed]",
      "text/plain": [
       "<Figure size 432x288 with 1 Axes>"
      ]
     },
     "metadata": {
      "needs_background": "light"
     },
     "output_type": "display_data"
    }
   ],
   "source": [
    "N = 250\n",
    "sr = 1\n",
    "y = np.array(seasonal_data['Value'])\n",
    "f = fftpack.fftfreq(len(y))\n",
    "yf = fftpack.fft(y)\n",
    "\n",
    "T = 1.0 / N\n",
    "x = np.linspace(0.0, N*T, N)\n",
    "xf = np.linspace(0.0, 1.0/(2.0*T), int(N/2))\n",
    "fig, ax = plt.subplots()\n",
    "ax.plot(xf, 2.0/N * np.abs(yf[:N//2]))\n",
    "plt.title(\"Frequency representation\")\n",
    "plt.show()"
   ]
  },
  {
   "cell_type": "code",
   "execution_count": 8,
   "metadata": {},
   "outputs": [
    {
     "data": {
      "text/html": [
       "<div>\n",
       "<style scoped>\n",
       "    .dataframe tbody tr th:only-of-type {\n",
       "        vertical-align: middle;\n",
       "    }\n",
       "\n",
       "    .dataframe tbody tr th {\n",
       "        vertical-align: top;\n",
       "    }\n",
       "\n",
       "    .dataframe thead th {\n",
       "        text-align: right;\n",
       "    }\n",
       "</style>\n",
       "<table border=\"1\" class=\"dataframe\">\n",
       "  <thead>\n",
       "    <tr style=\"text-align: right;\">\n",
       "      <th></th>\n",
       "      <th>Freq</th>\n",
       "      <th>Ampli</th>\n",
       "    </tr>\n",
       "  </thead>\n",
       "  <tbody>\n",
       "    <tr>\n",
       "      <th>0</th>\n",
       "      <td>0.000</td>\n",
       "      <td>140.000000</td>\n",
       "    </tr>\n",
       "    <tr>\n",
       "      <th>1</th>\n",
       "      <td>0.004</td>\n",
       "      <td>11.563588</td>\n",
       "    </tr>\n",
       "    <tr>\n",
       "      <th>2</th>\n",
       "      <td>0.008</td>\n",
       "      <td>24.494006</td>\n",
       "    </tr>\n",
       "    <tr>\n",
       "      <th>3</th>\n",
       "      <td>0.012</td>\n",
       "      <td>16.331486</td>\n",
       "    </tr>\n",
       "    <tr>\n",
       "      <th>4</th>\n",
       "      <td>0.016</td>\n",
       "      <td>2.892039</td>\n",
       "    </tr>\n",
       "    <tr>\n",
       "      <th>...</th>\n",
       "      <td>...</td>\n",
       "      <td>...</td>\n",
       "    </tr>\n",
       "    <tr>\n",
       "      <th>120</th>\n",
       "      <td>0.480</td>\n",
       "      <td>0.000000</td>\n",
       "    </tr>\n",
       "    <tr>\n",
       "      <th>121</th>\n",
       "      <td>0.484</td>\n",
       "      <td>0.145492</td>\n",
       "    </tr>\n",
       "    <tr>\n",
       "      <th>122</th>\n",
       "      <td>0.488</td>\n",
       "      <td>0.615974</td>\n",
       "    </tr>\n",
       "    <tr>\n",
       "      <th>123</th>\n",
       "      <td>0.492</td>\n",
       "      <td>0.615731</td>\n",
       "    </tr>\n",
       "    <tr>\n",
       "      <th>124</th>\n",
       "      <td>0.496</td>\n",
       "      <td>0.145320</td>\n",
       "    </tr>\n",
       "  </tbody>\n",
       "</table>\n",
       "<p>125 rows × 2 columns</p>\n",
       "</div>"
      ],
      "text/plain": [
       "      Freq       Ampli\n",
       "0    0.000  140.000000\n",
       "1    0.004   11.563588\n",
       "2    0.008   24.494006\n",
       "3    0.012   16.331486\n",
       "4    0.016    2.892039\n",
       "..     ...         ...\n",
       "120  0.480    0.000000\n",
       "121  0.484    0.145492\n",
       "122  0.488    0.615974\n",
       "123  0.492    0.615731\n",
       "124  0.496    0.145320\n",
       "\n",
       "[125 rows x 2 columns]"
      ]
     },
     "execution_count": 8,
     "metadata": {},
     "output_type": "execute_result"
    }
   ],
   "source": [
    "freq_ampli = pd.DataFrame(zip(np.abs(f[:N//2]),2.0/N * np.abs(yf[:N//2])),columns=['Freq','Ampli'])\n",
    "freq_ampli"
   ]
  },
  {
   "cell_type": "code",
   "execution_count": 9,
   "metadata": {},
   "outputs": [
    {
     "data": {
      "text/plain": [
       "array([ 1.75000000e+04-0.00000000e+00j, -1.44533435e+03-1.81635632e+01j,\n",
       "       -3.06078381e+03-7.69420884e+01j,  2.03998531e+03+7.69420884e+01j,\n",
       "        3.61048224e+02+1.81635632e+01j, -2.40445066e+02-1.81635632e+01j,\n",
       "       -8.72436612e+02-7.69420884e+01j,  7.62777014e+02+7.69420884e+01j,\n",
       "        1.59915824e+02+1.81635632e+01j, -9.18279335e-14+1.95144292e-13j,\n",
       "       -1.30562964e+02-1.81635632e+01j, -5.06364664e+02-7.69420884e+01j,\n",
       "        4.66791690e+02+7.69420884e+01j,  1.02176231e+02+1.81635632e+01j,\n",
       "        1.80799191e-14+1.43117297e-13j, -8.91175249e+01-1.81635632e+01j,\n",
       "       -3.54672305e+02-7.69420884e+01j,  3.34337532e+02+7.69420884e+01j,\n",
       "        7.46231257e+01+1.81635632e+01j, -6.72238504e+01-1.81635632e+01j,\n",
       "       -2.71184808e+02-7.69420884e+01j,  2.58756786e+02+7.69420884e+01j,\n",
       "        5.83882647e+01+1.81635632e+01j, -8.22645686e-13+2.67293786e-13j,\n",
       "       -5.36003192e+01-1.81635632e+01j, -2.18003006e+02-7.69420884e+01j,\n",
       "        2.09573848e+02+7.69420884e+01j,  4.76155364e+01+1.81635632e+01j,\n",
       "       -4.42433470e+01-1.81635632e+01j, -1.80912939e+02-7.69420884e+01j,\n",
       "        1.74781441e+02+7.69420884e+01j,  3.98931985e+01+1.81635632e+01j,\n",
       "       -4.34585592e-14+4.62786651e-14j, -3.73731752e+01-1.81635632e+01j,\n",
       "       -1.53382249e+02-7.69420884e+01j,  1.48690313e+02+7.69420884e+01j,\n",
       "        3.40459286e+01+1.81635632e+01j, -1.05137529e-14+5.51150229e-14j,\n",
       "       -3.20778579e+01-1.81635632e+01j, -1.31987708e+02-7.69420884e+01j,\n",
       "        1.28255874e+02+7.69420884e+01j,  2.94322901e+01+1.81635632e+01j,\n",
       "       -2.78416012e+01-1.81635632e+01j, -1.14761324e+02-7.69420884e+01j,\n",
       "        1.11700663e+02+7.69420884e+01j,  2.56723171e+01+1.81635632e+01j,\n",
       "       -2.97636005e-13+2.16245216e-13j, -2.43505457e+01-1.81635632e+01j,\n",
       "       -1.00490599e+02-7.69420884e+01j,  9.79165377e+01+7.69420884e+01j,\n",
       "        2.25264359e+01+1.81635632e+01j, -2.14025889e+01-1.81635632e+01j,\n",
       "       -8.83870476e+01-7.69420884e+01j,  8.61760464e+01+7.69420884e+01j,\n",
       "        1.98359475e+01+1.81635632e+01j, -3.46026456e-14+1.90229654e-14j,\n",
       "       -1.88615529e+01-1.81635632e+01j, -7.79150976e+01-7.69420884e+01j,\n",
       "        7.59812302e+01+7.69420884e+01j,  1.74914033e+01+1.81635632e+01j,\n",
       "       -1.78637535e-14+3.24940470e-14j, -1.66321789e+01-1.81635632e+01j,\n",
       "       -6.86975699e+01-7.69420884e+01j,  6.69791008e+01+7.69420884e+01j,\n",
       "        1.54147253e+01+1.81635632e+01j, -1.46456825e+01-1.81635632e+01j,\n",
       "       -6.04605219e+01-7.69420884e+01j,  5.89118292e+01+7.69420884e+01j,\n",
       "        1.35485682e+01+1.81635632e+01j, -1.57111346e-13+2.16245216e-13j,\n",
       "       -1.28510032e+01-1.81635632e+01j, -5.29995507e+01-7.69420884e+01j,\n",
       "        5.15860637e+01+7.69420884e+01j,  1.18497146e+01+1.81635632e+01j,\n",
       "       -1.12092884e+01-1.81635632e+01j, -4.61583926e+01-7.69420884e+01j,\n",
       "        4.48533054e+01+7.69420884e+01j,  1.02848211e+01+1.81635632e+01j,\n",
       "       -3.02997403e-14+5.77998458e-15j, -9.69029314e+00-1.81635632e+01j,\n",
       "       -3.98148666e+01-7.69420884e+01j,  3.85969369e+01+7.69420884e+01j,\n",
       "        8.82758894e+00+1.81635632e+01j, -2.17770868e-14+2.04500457e-14j,\n",
       "       -8.26995679e+00-1.81635632e+01j, -3.38713593e+01-7.69420884e+01j,\n",
       "        3.27233918e+01+7.69420884e+01j,  7.45682798e+00+1.81635632e+01j,\n",
       "       -6.92872648e+00-1.81635632e+01j, -2.82482048e+01-7.69420884e+01j,\n",
       "        2.71559786e+01+7.69420884e+01j,  6.15509447e+00+1.81635632e+01j,\n",
       "       -8.68490159e-14+2.67293786e-13j, -5.65036535e+00-1.81635632e+01j,\n",
       "       -2.28789554e+01-7.69420884e+01j,  2.18304448e+01+7.69420884e+01j,\n",
       "        4.90770799e+00+1.81635632e+01j, -4.42108294e+00-1.81635632e+01j,\n",
       "       -1.77069111e+01-7.69420884e+01j,  1.66917035e+01+7.69420884e+01j,\n",
       "        3.70202189e+00+1.81635632e+01j, -2.73010845e-14-3.44892903e-15j,\n",
       "       -3.22888234e+00-1.81635632e+01j, -1.26824986e+01-7.69420884e+01j,\n",
       "        1.16913470e+01+7.69420884e+01j,  2.52686535e+00+1.81635632e+01j,\n",
       "       -2.46524571e-14+1.16005658e-14j, -2.06305429e+00-1.81635632e+01j,\n",
       "       -7.76122624e+00-7.69420884e+01j,  6.78569067e+00+7.69420884e+01j,\n",
       "        1.37210147e+00+1.81635632e+01j, -9.13769980e-01-1.81635632e+01j,\n",
       "       -2.90202333e+00-7.69420884e+01j,  1.93417286e+00+7.69420884e+01j,\n",
       "        2.28262082e-01+1.81635632e+01j,  2.28262082e-01-1.81635632e+01j,\n",
       "        1.93417286e+00-7.69420884e+01j, -2.90202333e+00+7.69420884e+01j,\n",
       "       -9.13769980e-01+1.81635632e+01j,  1.37210147e+00-1.81635632e+01j,\n",
       "        6.78569067e+00-7.69420884e+01j, -7.76122624e+00+7.69420884e+01j,\n",
       "       -2.06305429e+00+1.81635632e+01j, -2.46524571e-14-1.16005658e-14j,\n",
       "        2.52686535e+00-1.81635632e+01j,  1.16913470e+01-7.69420884e+01j,\n",
       "       -1.26824986e+01+7.69420884e+01j, -3.22888234e+00+1.81635632e+01j,\n",
       "       -2.73010845e-14+3.44892903e-15j,  3.70202189e+00-1.81635632e+01j,\n",
       "        1.66917035e+01-7.69420884e+01j, -1.77069111e+01+7.69420884e+01j,\n",
       "       -4.42108294e+00+1.81635632e+01j,  4.90770799e+00-1.81635632e+01j,\n",
       "        2.18304448e+01-7.69420884e+01j, -2.28789554e+01+7.69420884e+01j,\n",
       "       -5.65036535e+00+1.81635632e+01j, -8.68490159e-14-2.67293786e-13j,\n",
       "        6.15509447e+00-1.81635632e+01j,  2.71559786e+01-7.69420884e+01j,\n",
       "       -2.82482048e+01+7.69420884e+01j, -6.92872648e+00+1.81635632e+01j,\n",
       "        7.45682798e+00-1.81635632e+01j,  3.27233918e+01-7.69420884e+01j,\n",
       "       -3.38713593e+01+7.69420884e+01j, -8.26995679e+00+1.81635632e+01j,\n",
       "       -2.17770868e-14-2.04500457e-14j,  8.82758894e+00-1.81635632e+01j,\n",
       "        3.85969369e+01-7.69420884e+01j, -3.98148666e+01+7.69420884e+01j,\n",
       "       -9.69029314e+00+1.81635632e+01j, -3.02997403e-14-5.77998458e-15j,\n",
       "        1.02848211e+01-1.81635632e+01j,  4.48533054e+01-7.69420884e+01j,\n",
       "       -4.61583926e+01+7.69420884e+01j, -1.12092884e+01+1.81635632e+01j,\n",
       "        1.18497146e+01-1.81635632e+01j,  5.15860637e+01-7.69420884e+01j,\n",
       "       -5.29995507e+01+7.69420884e+01j, -1.28510032e+01+1.81635632e+01j,\n",
       "       -1.57111346e-13-2.16245216e-13j,  1.35485682e+01-1.81635632e+01j,\n",
       "        5.89118292e+01-7.69420884e+01j, -6.04605219e+01+7.69420884e+01j,\n",
       "       -1.46456825e+01+1.81635632e+01j,  1.54147253e+01-1.81635632e+01j,\n",
       "        6.69791008e+01-7.69420884e+01j, -6.86975699e+01+7.69420884e+01j,\n",
       "       -1.66321789e+01+1.81635632e+01j, -1.78637535e-14-3.24940470e-14j,\n",
       "        1.74914033e+01-1.81635632e+01j,  7.59812302e+01-7.69420884e+01j,\n",
       "       -7.79150976e+01+7.69420884e+01j, -1.88615529e+01+1.81635632e+01j,\n",
       "       -3.46026456e-14-1.90229654e-14j,  1.98359475e+01-1.81635632e+01j,\n",
       "        8.61760464e+01-7.69420884e+01j, -8.83870476e+01+7.69420884e+01j,\n",
       "       -2.14025889e+01+1.81635632e+01j,  2.25264359e+01-1.81635632e+01j,\n",
       "        9.79165377e+01-7.69420884e+01j, -1.00490599e+02+7.69420884e+01j,\n",
       "       -2.43505457e+01+1.81635632e+01j, -2.97636005e-13-2.16245216e-13j,\n",
       "        2.56723171e+01-1.81635632e+01j,  1.11700663e+02-7.69420884e+01j,\n",
       "       -1.14761324e+02+7.69420884e+01j, -2.78416012e+01+1.81635632e+01j,\n",
       "        2.94322901e+01-1.81635632e+01j,  1.28255874e+02-7.69420884e+01j,\n",
       "       -1.31987708e+02+7.69420884e+01j, -3.20778579e+01+1.81635632e+01j,\n",
       "       -1.05137529e-14-5.51150229e-14j,  3.40459286e+01-1.81635632e+01j,\n",
       "        1.48690313e+02-7.69420884e+01j, -1.53382249e+02+7.69420884e+01j,\n",
       "       -3.73731752e+01+1.81635632e+01j, -4.34585592e-14-4.62786651e-14j,\n",
       "        3.98931985e+01-1.81635632e+01j,  1.74781441e+02-7.69420884e+01j,\n",
       "       -1.80912939e+02+7.69420884e+01j, -4.42433470e+01+1.81635632e+01j,\n",
       "        4.76155364e+01-1.81635632e+01j,  2.09573848e+02-7.69420884e+01j,\n",
       "       -2.18003006e+02+7.69420884e+01j, -5.36003192e+01+1.81635632e+01j,\n",
       "       -8.22645686e-13-2.67293786e-13j,  5.83882647e+01-1.81635632e+01j,\n",
       "        2.58756786e+02-7.69420884e+01j, -2.71184808e+02+7.69420884e+01j,\n",
       "       -6.72238504e+01+1.81635632e+01j,  7.46231257e+01-1.81635632e+01j,\n",
       "        3.34337532e+02-7.69420884e+01j, -3.54672305e+02+7.69420884e+01j,\n",
       "       -8.91175249e+01+1.81635632e+01j,  1.80799191e-14-1.43117297e-13j,\n",
       "        1.02176231e+02-1.81635632e+01j,  4.66791690e+02-7.69420884e+01j,\n",
       "       -5.06364664e+02+7.69420884e+01j, -1.30562964e+02+1.81635632e+01j,\n",
       "       -9.18279335e-14-1.95144292e-13j,  1.59915824e+02-1.81635632e+01j,\n",
       "        7.62777014e+02-7.69420884e+01j, -8.72436612e+02+7.69420884e+01j,\n",
       "       -2.40445066e+02+1.81635632e+01j,  3.61048224e+02-1.81635632e+01j,\n",
       "        2.03998531e+03-7.69420884e+01j, -3.06078381e+03+7.69420884e+01j,\n",
       "       -1.44533435e+03+1.81635632e+01j])"
      ]
     },
     "execution_count": 9,
     "metadata": {},
     "output_type": "execute_result"
    }
   ],
   "source": [
    "frame_size = 50\n",
    "Fs = 1\n",
    "dt = 1/Fs\n",
    "freq_vector = np.fft.rfftfreq(frame_size, d=dt)\n",
    "yf1 = yf[yf != 0]\n",
    "yf1"
   ]
  },
  {
   "cell_type": "code",
   "execution_count": 10,
   "metadata": {},
   "outputs": [],
   "source": [
    "quefrency = np.fft.rfftfreq(np.log(yf1).size,freq_vector[1] - freq_vector[0])\n",
    "cepstrum = np.fft.rfft(np.log(np.abs(yf1)))"
   ]
  },
  {
   "cell_type": "code",
   "execution_count": 11,
   "metadata": {},
   "outputs": [
    {
     "data": {
      "text/plain": [
       "array([ 0.21834061,  0.43668122,  0.65502183,  0.87336245,  1.09170306,\n",
       "        1.31004367,  1.52838428,  1.74672489,  1.9650655 ,  2.18340611,\n",
       "        2.40174672,  2.62008734,  2.83842795,  3.05676856,  3.27510917,\n",
       "        3.49344978,  3.71179039,  3.930131  ,  4.14847162,  4.36681223,\n",
       "        4.58515284,  4.80349345,  5.02183406,  5.24017467,  5.45851528,\n",
       "        5.6768559 ,  5.89519651,  6.11353712,  6.33187773,  6.55021834,\n",
       "        6.76855895,  6.98689956,  7.20524017,  7.42358079,  7.6419214 ,\n",
       "        7.86026201,  8.07860262,  8.29694323,  8.51528384,  8.73362445,\n",
       "        8.95196507,  9.17030568,  9.38864629,  9.6069869 ,  9.82532751,\n",
       "       10.04366812, 10.26200873, 10.48034934, 10.69868996, 10.91703057,\n",
       "       11.13537118, 11.35371179, 11.5720524 , 11.79039301, 12.00873362,\n",
       "       12.22707424, 12.44541485, 12.66375546, 12.88209607, 13.10043668,\n",
       "       13.31877729, 13.5371179 , 13.75545852, 13.97379913, 14.19213974,\n",
       "       14.41048035, 14.62882096, 14.84716157, 15.06550218, 15.28384279,\n",
       "       15.50218341, 15.72052402, 15.93886463, 16.15720524, 16.37554585,\n",
       "       16.59388646, 16.81222707, 17.03056769, 17.2489083 , 17.46724891,\n",
       "       17.68558952, 17.90393013, 18.12227074, 18.34061135, 18.55895197,\n",
       "       18.77729258, 18.99563319, 19.2139738 , 19.43231441, 19.65065502,\n",
       "       19.86899563, 20.08733624, 20.30567686, 20.52401747, 20.74235808,\n",
       "       20.96069869, 21.1790393 , 21.39737991, 21.61572052, 21.83406114,\n",
       "       22.05240175, 22.27074236, 22.48908297, 22.70742358, 22.92576419,\n",
       "       23.1441048 , 23.36244541, 23.58078603, 23.79912664, 24.01746725,\n",
       "       24.23580786, 24.45414847, 24.67248908, 24.89082969])"
      ]
     },
     "execution_count": 11,
     "metadata": {},
     "output_type": "execute_result"
    }
   ],
   "source": [
    "quefrency[1:]"
   ]
  },
  {
   "cell_type": "code",
   "execution_count": 12,
   "metadata": {},
   "outputs": [
    {
     "data": {
      "text/plain": [
       "array([ 119.39821563+0.j,  118.82636125+0.j,   42.8819566 +0.j,\n",
       "         89.26134458+0.j,   27.70684969+0.j,   79.44259557+0.j,\n",
       "         21.82626595+0.j,   73.96095472+0.j,   23.81232953+0.j,\n",
       "        289.38281319+0.j,    2.35645062+0.j,   81.63023072+0.j,\n",
       "          4.62447628+0.j,   79.4591324 +0.j,    1.58379504+0.j,\n",
       "         81.96997227+0.j,   -5.3412996 +0.j,   93.64033913+0.j,\n",
       "        -37.474084  +0.j, -390.01810792+0.j,   40.57446571+0.j,\n",
       "         55.11360968+0.j,   13.16749963+0.j,   66.93221857+0.j,\n",
       "          2.60772005+0.j,   77.2187325 +0.j,  -11.88456922+0.j,\n",
       "        102.54438035+0.j,  -79.99109916+0.j, -574.56426067+0.j,\n",
       "         86.38443821+0.j,   20.47788485+0.j,   38.98237864+0.j,\n",
       "         38.01336849+0.j,   29.47997178+0.j,   42.08959516+0.j,\n",
       "         29.85250881+0.j,   34.29179769+0.j,   68.4171169 +0.j,\n",
       "        371.76232903+0.j,  -46.88985514+0.j,  101.14708785+0.j,\n",
       "        -27.9443505 +0.j,   99.68081977+0.j,  -36.24075391+0.j,\n",
       "        116.45488923+0.j,  -67.02922921+0.j,  180.50355886+0.j,\n",
       "       -265.46031817+0.j, -935.5460193 +0.j,  188.66205949+0.j,\n",
       "        -37.8071968 +0.j,   77.55631459+0.j,    7.8447963 +0.j,\n",
       "         51.61756848+0.j,   24.16378888+0.j,   40.92009679+0.j,\n",
       "         31.02800658+0.j,   45.37759828+0.j,   97.35506385+0.j,\n",
       "          9.92348492+0.j,   58.93498264+0.j,    9.30151081+0.j,\n",
       "         62.50459028+0.j,    2.72338222+0.j,   71.62171136+0.j,\n",
       "        -10.8647306 +0.j,   97.3104262 +0.j,  -85.79534873+0.j,\n",
       "       -153.55735043+0.j,   53.59848526+0.j,   41.42213568+0.j,\n",
       "         14.2493239 +0.j,   64.59337648+0.j,   -7.6372406 +0.j,\n",
       "         90.56108998+0.j,  -45.79152289+0.j,  164.90085403+0.j,\n",
       "       -294.49255629+0.j, -574.33277543+0.j,  188.31781968+0.j,\n",
       "        -52.40131235+0.j,   93.80627105+0.j,  -12.89580543+0.j,\n",
       "         73.43584009+0.j,   -4.09279358+0.j,   76.09175649+0.j,\n",
       "        -26.40255496+0.j,  195.01602189+0.j,  314.27265476+0.j,\n",
       "        -61.25274668+0.j,  104.80814102+0.j,  -31.4784744 +0.j,\n",
       "        100.87940774+0.j,  -41.43350794+0.j,  123.87912571+0.j,\n",
       "        -85.3539768 +0.j,  221.57526747+0.j, -462.86822213+0.j,\n",
       "       -582.17548495+0.j,  211.40954542+0.j,  -63.51139588+0.j,\n",
       "         98.04037524+0.j,  -11.2327734 +0.j,   65.96472945+0.j,\n",
       "         11.84465499+0.j,   46.63106543+0.j,   34.66776594+0.j,\n",
       "         -5.93837112+0.j,  -34.10284133+0.j,   59.58967612+0.j,\n",
       "         20.45704752+0.j,   41.42124314+0.j,   31.59214704+0.j])"
      ]
     },
     "execution_count": 12,
     "metadata": {},
     "output_type": "execute_result"
    }
   ],
   "source": [
    "cepstrum[1:]"
   ]
  },
  {
   "cell_type": "code",
   "execution_count": 13,
   "metadata": {},
   "outputs": [
    {
     "data": {
      "text/html": [
       "<div>\n",
       "<style scoped>\n",
       "    .dataframe tbody tr th:only-of-type {\n",
       "        vertical-align: middle;\n",
       "    }\n",
       "\n",
       "    .dataframe tbody tr th {\n",
       "        vertical-align: top;\n",
       "    }\n",
       "\n",
       "    .dataframe thead th {\n",
       "        text-align: right;\n",
       "    }\n",
       "</style>\n",
       "<table border=\"1\" class=\"dataframe\">\n",
       "  <thead>\n",
       "    <tr style=\"text-align: right;\">\n",
       "      <th></th>\n",
       "      <th>Quefrency</th>\n",
       "      <th>Cepstrum</th>\n",
       "    </tr>\n",
       "  </thead>\n",
       "  <tbody>\n",
       "    <tr>\n",
       "      <th>0</th>\n",
       "      <td>0.000000</td>\n",
       "      <td>30.262503</td>\n",
       "    </tr>\n",
       "    <tr>\n",
       "      <th>1</th>\n",
       "      <td>0.218341</td>\n",
       "      <td>119.398216</td>\n",
       "    </tr>\n",
       "    <tr>\n",
       "      <th>2</th>\n",
       "      <td>0.436681</td>\n",
       "      <td>118.826361</td>\n",
       "    </tr>\n",
       "    <tr>\n",
       "      <th>3</th>\n",
       "      <td>0.655022</td>\n",
       "      <td>42.881957</td>\n",
       "    </tr>\n",
       "    <tr>\n",
       "      <th>4</th>\n",
       "      <td>0.873362</td>\n",
       "      <td>89.261345</td>\n",
       "    </tr>\n",
       "    <tr>\n",
       "      <th>...</th>\n",
       "      <td>...</td>\n",
       "      <td>...</td>\n",
       "    </tr>\n",
       "    <tr>\n",
       "      <th>110</th>\n",
       "      <td>24.017467</td>\n",
       "      <td>-34.102841</td>\n",
       "    </tr>\n",
       "    <tr>\n",
       "      <th>111</th>\n",
       "      <td>24.235808</td>\n",
       "      <td>59.589676</td>\n",
       "    </tr>\n",
       "    <tr>\n",
       "      <th>112</th>\n",
       "      <td>24.454148</td>\n",
       "      <td>20.457048</td>\n",
       "    </tr>\n",
       "    <tr>\n",
       "      <th>113</th>\n",
       "      <td>24.672489</td>\n",
       "      <td>41.421243</td>\n",
       "    </tr>\n",
       "    <tr>\n",
       "      <th>114</th>\n",
       "      <td>24.890830</td>\n",
       "      <td>31.592147</td>\n",
       "    </tr>\n",
       "  </tbody>\n",
       "</table>\n",
       "<p>115 rows × 2 columns</p>\n",
       "</div>"
      ],
      "text/plain": [
       "     Quefrency    Cepstrum\n",
       "0     0.000000   30.262503\n",
       "1     0.218341  119.398216\n",
       "2     0.436681  118.826361\n",
       "3     0.655022   42.881957\n",
       "4     0.873362   89.261345\n",
       "..         ...         ...\n",
       "110  24.017467  -34.102841\n",
       "111  24.235808   59.589676\n",
       "112  24.454148   20.457048\n",
       "113  24.672489   41.421243\n",
       "114  24.890830   31.592147\n",
       "\n",
       "[115 rows x 2 columns]"
      ]
     },
     "execution_count": 13,
     "metadata": {},
     "output_type": "execute_result"
    }
   ],
   "source": [
    "cep = pd.DataFrame(zip(quefrency,cepstrum.real),columns=['Quefrency','Cepstrum'])\n",
    "cep"
   ]
  },
  {
   "cell_type": "code",
   "execution_count": 14,
   "metadata": {},
   "outputs": [
    {
     "name": "stderr",
     "output_type": "stream",
     "text": [
      "C:\\Users\\Yash\\Anaconda3\\lib\\site-packages\\sklearn\\mixture\\_base.py:147: ConvergenceWarning: Number of distinct clusters (2) found smaller than n_clusters (3). Possibly due to duplicate points in X.\n",
      "  random_state=random_state).fit(X).labels_\n",
      "C:\\Users\\Yash\\Anaconda3\\lib\\site-packages\\sklearn\\mixture\\_base.py:147: ConvergenceWarning: Number of distinct clusters (2) found smaller than n_clusters (4). Possibly due to duplicate points in X.\n",
      "  random_state=random_state).fit(X).labels_\n",
      "C:\\Users\\Yash\\Anaconda3\\lib\\site-packages\\sklearn\\mixture\\_base.py:147: ConvergenceWarning: Number of distinct clusters (2) found smaller than n_clusters (5). Possibly due to duplicate points in X.\n",
      "  random_state=random_state).fit(X).labels_\n",
      "C:\\Users\\Yash\\Anaconda3\\lib\\site-packages\\sklearn\\mixture\\_base.py:147: ConvergenceWarning: Number of distinct clusters (2) found smaller than n_clusters (6). Possibly due to duplicate points in X.\n",
      "  random_state=random_state).fit(X).labels_\n",
      "C:\\Users\\Yash\\Anaconda3\\lib\\site-packages\\sklearn\\mixture\\_base.py:147: ConvergenceWarning: Number of distinct clusters (2) found smaller than n_clusters (3). Possibly due to duplicate points in X.\n",
      "  random_state=random_state).fit(X).labels_\n",
      "C:\\Users\\Yash\\Anaconda3\\lib\\site-packages\\sklearn\\mixture\\_base.py:147: ConvergenceWarning: Number of distinct clusters (2) found smaller than n_clusters (4). Possibly due to duplicate points in X.\n",
      "  random_state=random_state).fit(X).labels_\n",
      "C:\\Users\\Yash\\Anaconda3\\lib\\site-packages\\sklearn\\mixture\\_base.py:147: ConvergenceWarning: Number of distinct clusters (2) found smaller than n_clusters (5). Possibly due to duplicate points in X.\n",
      "  random_state=random_state).fit(X).labels_\n",
      "C:\\Users\\Yash\\Anaconda3\\lib\\site-packages\\sklearn\\mixture\\_base.py:147: ConvergenceWarning: Number of distinct clusters (2) found smaller than n_clusters (6). Possibly due to duplicate points in X.\n",
      "  random_state=random_state).fit(X).labels_\n",
      "C:\\Users\\Yash\\Anaconda3\\lib\\site-packages\\sklearn\\mixture\\_base.py:147: ConvergenceWarning: Number of distinct clusters (2) found smaller than n_clusters (3). Possibly due to duplicate points in X.\n",
      "  random_state=random_state).fit(X).labels_\n",
      "C:\\Users\\Yash\\Anaconda3\\lib\\site-packages\\sklearn\\mixture\\_base.py:147: ConvergenceWarning: Number of distinct clusters (2) found smaller than n_clusters (4). Possibly due to duplicate points in X.\n",
      "  random_state=random_state).fit(X).labels_\n",
      "C:\\Users\\Yash\\Anaconda3\\lib\\site-packages\\sklearn\\mixture\\_base.py:147: ConvergenceWarning: Number of distinct clusters (2) found smaller than n_clusters (5). Possibly due to duplicate points in X.\n",
      "  random_state=random_state).fit(X).labels_\n",
      "C:\\Users\\Yash\\Anaconda3\\lib\\site-packages\\sklearn\\mixture\\_base.py:147: ConvergenceWarning: Number of distinct clusters (2) found smaller than n_clusters (6). Possibly due to duplicate points in X.\n",
      "  random_state=random_state).fit(X).labels_\n",
      "C:\\Users\\Yash\\Anaconda3\\lib\\site-packages\\sklearn\\mixture\\_base.py:147: ConvergenceWarning: Number of distinct clusters (2) found smaller than n_clusters (3). Possibly due to duplicate points in X.\n",
      "  random_state=random_state).fit(X).labels_\n",
      "C:\\Users\\Yash\\Anaconda3\\lib\\site-packages\\sklearn\\mixture\\_base.py:147: ConvergenceWarning: Number of distinct clusters (2) found smaller than n_clusters (4). Possibly due to duplicate points in X.\n",
      "  random_state=random_state).fit(X).labels_\n",
      "C:\\Users\\Yash\\Anaconda3\\lib\\site-packages\\sklearn\\mixture\\_base.py:147: ConvergenceWarning: Number of distinct clusters (2) found smaller than n_clusters (5). Possibly due to duplicate points in X.\n",
      "  random_state=random_state).fit(X).labels_\n",
      "C:\\Users\\Yash\\Anaconda3\\lib\\site-packages\\sklearn\\mixture\\_base.py:147: ConvergenceWarning: Number of distinct clusters (2) found smaller than n_clusters (6). Possibly due to duplicate points in X.\n",
      "  random_state=random_state).fit(X).labels_\n"
     ]
    }
   ],
   "source": [
    "# GMM on normal time series data\n",
    "dfx = np.array(seasonal_data['Value']).reshape(-1,1)\n",
    "lowest_bic = np.infty\n",
    "bic = []\n",
    "n_components_range = range(1, 7)\n",
    "cv_types = ['spherical', 'tied', 'diag', 'full']\n",
    "for cv_type in cv_types:\n",
    "    for n_components in n_components_range:\n",
    "        # Fit a Gaussian mixture with EM\n",
    "        gmm = mixture.GaussianMixture(n_components=n_components,\n",
    "                                      covariance_type=cv_type)\n",
    "        gmm.fit(dfx)\n",
    "        bic.append(gmm.bic(dfx))\n",
    "        if bic[-1] < lowest_bic:\n",
    "            lowest_bic = bic[-1]\n",
    "            best_gmm0 = gmm"
   ]
  },
  {
   "cell_type": "code",
   "execution_count": 15,
   "metadata": {},
   "outputs": [
    {
     "name": "stderr",
     "output_type": "stream",
     "text": [
      "C:\\Users\\Yash\\Anaconda3\\lib\\site-packages\\sklearn\\mixture\\_base.py:147: ConvergenceWarning: Number of distinct clusters (2) found smaller than n_clusters (3). Possibly due to duplicate points in X.\n",
      "  random_state=random_state).fit(X).labels_\n",
      "C:\\Users\\Yash\\Anaconda3\\lib\\site-packages\\sklearn\\mixture\\_base.py:147: ConvergenceWarning: Number of distinct clusters (2) found smaller than n_clusters (4). Possibly due to duplicate points in X.\n",
      "  random_state=random_state).fit(X).labels_\n",
      "C:\\Users\\Yash\\Anaconda3\\lib\\site-packages\\sklearn\\mixture\\_base.py:147: ConvergenceWarning: Number of distinct clusters (2) found smaller than n_clusters (5). Possibly due to duplicate points in X.\n",
      "  random_state=random_state).fit(X).labels_\n",
      "C:\\Users\\Yash\\Anaconda3\\lib\\site-packages\\sklearn\\mixture\\_base.py:147: ConvergenceWarning: Number of distinct clusters (2) found smaller than n_clusters (6). Possibly due to duplicate points in X.\n",
      "  random_state=random_state).fit(X).labels_\n",
      "C:\\Users\\Yash\\Anaconda3\\lib\\site-packages\\sklearn\\mixture\\_base.py:147: ConvergenceWarning: Number of distinct clusters (2) found smaller than n_clusters (3). Possibly due to duplicate points in X.\n",
      "  random_state=random_state).fit(X).labels_\n",
      "C:\\Users\\Yash\\Anaconda3\\lib\\site-packages\\sklearn\\mixture\\_base.py:147: ConvergenceWarning: Number of distinct clusters (2) found smaller than n_clusters (4). Possibly due to duplicate points in X.\n",
      "  random_state=random_state).fit(X).labels_\n",
      "C:\\Users\\Yash\\Anaconda3\\lib\\site-packages\\sklearn\\mixture\\_base.py:147: ConvergenceWarning: Number of distinct clusters (2) found smaller than n_clusters (5). Possibly due to duplicate points in X.\n",
      "  random_state=random_state).fit(X).labels_\n",
      "C:\\Users\\Yash\\Anaconda3\\lib\\site-packages\\sklearn\\mixture\\_base.py:147: ConvergenceWarning: Number of distinct clusters (2) found smaller than n_clusters (6). Possibly due to duplicate points in X.\n",
      "  random_state=random_state).fit(X).labels_\n",
      "C:\\Users\\Yash\\Anaconda3\\lib\\site-packages\\sklearn\\mixture\\_base.py:147: ConvergenceWarning: Number of distinct clusters (2) found smaller than n_clusters (3). Possibly due to duplicate points in X.\n",
      "  random_state=random_state).fit(X).labels_\n",
      "C:\\Users\\Yash\\Anaconda3\\lib\\site-packages\\sklearn\\mixture\\_base.py:147: ConvergenceWarning: Number of distinct clusters (2) found smaller than n_clusters (4). Possibly due to duplicate points in X.\n",
      "  random_state=random_state).fit(X).labels_\n",
      "C:\\Users\\Yash\\Anaconda3\\lib\\site-packages\\sklearn\\mixture\\_base.py:147: ConvergenceWarning: Number of distinct clusters (2) found smaller than n_clusters (5). Possibly due to duplicate points in X.\n",
      "  random_state=random_state).fit(X).labels_\n",
      "C:\\Users\\Yash\\Anaconda3\\lib\\site-packages\\sklearn\\mixture\\_base.py:147: ConvergenceWarning: Number of distinct clusters (2) found smaller than n_clusters (6). Possibly due to duplicate points in X.\n",
      "  random_state=random_state).fit(X).labels_\n",
      "C:\\Users\\Yash\\Anaconda3\\lib\\site-packages\\sklearn\\mixture\\_base.py:147: ConvergenceWarning: Number of distinct clusters (2) found smaller than n_clusters (3). Possibly due to duplicate points in X.\n",
      "  random_state=random_state).fit(X).labels_\n",
      "C:\\Users\\Yash\\Anaconda3\\lib\\site-packages\\sklearn\\mixture\\_base.py:147: ConvergenceWarning: Number of distinct clusters (2) found smaller than n_clusters (4). Possibly due to duplicate points in X.\n",
      "  random_state=random_state).fit(X).labels_\n",
      "C:\\Users\\Yash\\Anaconda3\\lib\\site-packages\\sklearn\\mixture\\_base.py:147: ConvergenceWarning: Number of distinct clusters (2) found smaller than n_clusters (5). Possibly due to duplicate points in X.\n",
      "  random_state=random_state).fit(X).labels_\n",
      "C:\\Users\\Yash\\Anaconda3\\lib\\site-packages\\sklearn\\mixture\\_base.py:147: ConvergenceWarning: Number of distinct clusters (2) found smaller than n_clusters (6). Possibly due to duplicate points in X.\n",
      "  random_state=random_state).fit(X).labels_\n"
     ]
    }
   ],
   "source": [
    "# GMM on natural log values of time series data \n",
    "dfx = np.array(nlog_data['Log Value']).reshape(-1,1)\n",
    "lowest_bic = np.infty\n",
    "bic = []\n",
    "n_components_range = range(1, 7)\n",
    "cv_types = ['spherical', 'tied', 'diag', 'full']\n",
    "for cv_type in cv_types:\n",
    "    for n_components in n_components_range:\n",
    "        # Fit a Gaussian mixture with EM\n",
    "        gmm = mixture.GaussianMixture(n_components=n_components,\n",
    "                                      covariance_type=cv_type)\n",
    "        gmm.fit(dfx)\n",
    "        bic.append(gmm.bic(dfx))\n",
    "        if bic[-1] < lowest_bic:\n",
    "            lowest_bic = bic[-1]\n",
    "            best_gmm1 = gmm"
   ]
  },
  {
   "cell_type": "code",
   "execution_count": 16,
   "metadata": {},
   "outputs": [],
   "source": [
    "# GMM on fft data\n",
    "dfx = freq_ampli.iloc[1:,:]\n",
    "lowest_bic = np.infty\n",
    "bic = []\n",
    "n_components_range = range(1, 7)\n",
    "cv_types = ['spherical', 'tied', 'diag', 'full']\n",
    "for cv_type in cv_types:\n",
    "    for n_components in n_components_range:\n",
    "        # Fit a Gaussian mixture with EM\n",
    "        gmm = mixture.GaussianMixture(n_components=n_components,\n",
    "                                      covariance_type=cv_type)\n",
    "        gmm.fit(dfx)\n",
    "        bic.append(gmm.bic(dfx))\n",
    "        if bic[-1] < lowest_bic:\n",
    "            lowest_bic = bic[-1]\n",
    "            best_gmm2 = gmm"
   ]
  },
  {
   "cell_type": "code",
   "execution_count": 17,
   "metadata": {},
   "outputs": [],
   "source": [
    "# GMM on cepstrum data \n",
    "# GMM doesn't work in this case\n",
    "dfx = cep.iloc[1:,:]\n",
    "lowest_bic = np.infty\n",
    "bic = []\n",
    "n_components_range = range(1, 7)\n",
    "cv_types = ['spherical', 'tied', 'diag', 'full']\n",
    "for cv_type in cv_types:\n",
    "    for n_components in n_components_range:\n",
    "        # Fit a Gaussian mixture with EM\n",
    "        gmm = mixture.GaussianMixture(n_components=n_components,\n",
    "                                      covariance_type=cv_type)\n",
    "        gmm.fit(dfx)\n",
    "        bic.append(gmm.bic(dfx))\n",
    "        if bic[-1] < lowest_bic:\n",
    "            lowest_bic = bic[-1]\n",
    "            best_gmm3 = gmm"
   ]
  },
  {
   "cell_type": "markdown",
   "metadata": {},
   "source": [
    "Results of GMM on normal time series data"
   ]
  },
  {
   "cell_type": "code",
   "execution_count": 18,
   "metadata": {},
   "outputs": [
    {
     "data": {
      "text/html": [
       "<div>\n",
       "<style scoped>\n",
       "    .dataframe tbody tr th:only-of-type {\n",
       "        vertical-align: middle;\n",
       "    }\n",
       "\n",
       "    .dataframe tbody tr th {\n",
       "        vertical-align: top;\n",
       "    }\n",
       "\n",
       "    .dataframe thead th {\n",
       "        text-align: right;\n",
       "    }\n",
       "</style>\n",
       "<table border=\"1\" class=\"dataframe\">\n",
       "  <thead>\n",
       "    <tr style=\"text-align: right;\">\n",
       "      <th></th>\n",
       "      <th>Time</th>\n",
       "      <th>Value</th>\n",
       "    </tr>\n",
       "  </thead>\n",
       "  <tbody>\n",
       "    <tr>\n",
       "      <th>count</th>\n",
       "      <td>250.000000</td>\n",
       "      <td>250.000000</td>\n",
       "    </tr>\n",
       "    <tr>\n",
       "      <th>mean</th>\n",
       "      <td>124.500000</td>\n",
       "      <td>70.000000</td>\n",
       "    </tr>\n",
       "    <tr>\n",
       "      <th>std</th>\n",
       "      <td>72.312977</td>\n",
       "      <td>24.544035</td>\n",
       "    </tr>\n",
       "    <tr>\n",
       "      <th>min</th>\n",
       "      <td>0.000000</td>\n",
       "      <td>50.000000</td>\n",
       "    </tr>\n",
       "    <tr>\n",
       "      <th>25%</th>\n",
       "      <td>62.250000</td>\n",
       "      <td>50.000000</td>\n",
       "    </tr>\n",
       "    <tr>\n",
       "      <th>50%</th>\n",
       "      <td>124.500000</td>\n",
       "      <td>50.000000</td>\n",
       "    </tr>\n",
       "    <tr>\n",
       "      <th>75%</th>\n",
       "      <td>186.750000</td>\n",
       "      <td>100.000000</td>\n",
       "    </tr>\n",
       "    <tr>\n",
       "      <th>max</th>\n",
       "      <td>249.000000</td>\n",
       "      <td>100.000000</td>\n",
       "    </tr>\n",
       "  </tbody>\n",
       "</table>\n",
       "</div>"
      ],
      "text/plain": [
       "             Time       Value\n",
       "count  250.000000  250.000000\n",
       "mean   124.500000   70.000000\n",
       "std     72.312977   24.544035\n",
       "min      0.000000   50.000000\n",
       "25%     62.250000   50.000000\n",
       "50%    124.500000   50.000000\n",
       "75%    186.750000  100.000000\n",
       "max    249.000000  100.000000"
      ]
     },
     "execution_count": 18,
     "metadata": {},
     "output_type": "execute_result"
    }
   ],
   "source": [
    "seasonal_data.describe()"
   ]
  },
  {
   "cell_type": "code",
   "execution_count": 19,
   "metadata": {},
   "outputs": [
    {
     "data": {
      "text/plain": [
       "GaussianMixture(covariance_type='tied', init_params='kmeans', max_iter=100,\n",
       "                means_init=None, n_components=2, n_init=1, precisions_init=None,\n",
       "                random_state=None, reg_covar=1e-06, tol=0.001, verbose=0,\n",
       "                verbose_interval=10, warm_start=False, weights_init=None)"
      ]
     },
     "execution_count": 19,
     "metadata": {},
     "output_type": "execute_result"
    }
   ],
   "source": [
    "best_gmm0"
   ]
  },
  {
   "cell_type": "code",
   "execution_count": 20,
   "metadata": {},
   "outputs": [
    {
     "data": {
      "text/plain": [
       "array([0.6, 0.4])"
      ]
     },
     "execution_count": 20,
     "metadata": {},
     "output_type": "execute_result"
    }
   ],
   "source": [
    "best_gmm0.weights_"
   ]
  },
  {
   "cell_type": "code",
   "execution_count": 21,
   "metadata": {},
   "outputs": [
    {
     "data": {
      "text/plain": [
       "array([[ 50.],\n",
       "       [100.]])"
      ]
     },
     "execution_count": 21,
     "metadata": {},
     "output_type": "execute_result"
    }
   ],
   "source": [
    "best_gmm0.means_"
   ]
  },
  {
   "cell_type": "code",
   "execution_count": 22,
   "metadata": {},
   "outputs": [
    {
     "data": {
      "text/plain": [
       "<matplotlib.axes._subplots.AxesSubplot at 0x1ac3078e788>"
      ]
     },
     "execution_count": 22,
     "metadata": {},
     "output_type": "execute_result"
    },
    {
     "data": {
      "image/png": "[encoded data removed]",
      "text/plain": [
       "<Figure size 432x288 with 1 Axes>"
      ]
     },
     "metadata": {
      "needs_background": "light"
     },
     "output_type": "display_data"
    }
   ],
   "source": [
    "#Time Series\n",
    "sns.distplot(seasonal_data['Value'],bins=50)\n",
    "z,_ = best_gmm0.sample(250)\n",
    "sns.distplot(z,bins=50)"
   ]
  },
  {
   "cell_type": "code",
   "execution_count": 23,
   "metadata": {},
   "outputs": [
    {
     "name": "stdout",
     "output_type": "stream",
     "text": [
      "5.315805078768208\n",
      "4.846602187535032\n"
     ]
    }
   ],
   "source": [
    "#Time Series\n",
    "print(best_gmm0.score(np.array(seasonal_data['Value']).reshape(-1,1)))\n",
    "print(best_gmm0.score(z))"
   ]
  },
  {
   "cell_type": "markdown",
   "metadata": {},
   "source": [
    "Results of GMM on natural log values of time series data"
   ]
  },
  {
   "cell_type": "code",
   "execution_count": 24,
   "metadata": {},
   "outputs": [
    {
     "data": {
      "text/html": [
       "<div>\n",
       "<style scoped>\n",
       "    .dataframe tbody tr th:only-of-type {\n",
       "        vertical-align: middle;\n",
       "    }\n",
       "\n",
       "    .dataframe tbody tr th {\n",
       "        vertical-align: top;\n",
       "    }\n",
       "\n",
       "    .dataframe thead th {\n",
       "        text-align: right;\n",
       "    }\n",
       "</style>\n",
       "<table border=\"1\" class=\"dataframe\">\n",
       "  <thead>\n",
       "    <tr style=\"text-align: right;\">\n",
       "      <th></th>\n",
       "      <th>Time</th>\n",
       "      <th>Log Value</th>\n",
       "    </tr>\n",
       "  </thead>\n",
       "  <tbody>\n",
       "    <tr>\n",
       "      <th>count</th>\n",
       "      <td>250.000000</td>\n",
       "      <td>250.000000</td>\n",
       "    </tr>\n",
       "    <tr>\n",
       "      <th>mean</th>\n",
       "      <td>124.500000</td>\n",
       "      <td>4.189282</td>\n",
       "    </tr>\n",
       "    <tr>\n",
       "      <th>std</th>\n",
       "      <td>72.312977</td>\n",
       "      <td>0.340253</td>\n",
       "    </tr>\n",
       "    <tr>\n",
       "      <th>min</th>\n",
       "      <td>0.000000</td>\n",
       "      <td>3.912023</td>\n",
       "    </tr>\n",
       "    <tr>\n",
       "      <th>25%</th>\n",
       "      <td>62.250000</td>\n",
       "      <td>3.912023</td>\n",
       "    </tr>\n",
       "    <tr>\n",
       "      <th>50%</th>\n",
       "      <td>124.500000</td>\n",
       "      <td>3.912023</td>\n",
       "    </tr>\n",
       "    <tr>\n",
       "      <th>75%</th>\n",
       "      <td>186.750000</td>\n",
       "      <td>4.605170</td>\n",
       "    </tr>\n",
       "    <tr>\n",
       "      <th>max</th>\n",
       "      <td>249.000000</td>\n",
       "      <td>4.605170</td>\n",
       "    </tr>\n",
       "  </tbody>\n",
       "</table>\n",
       "</div>"
      ],
      "text/plain": [
       "             Time   Log Value\n",
       "count  250.000000  250.000000\n",
       "mean   124.500000    4.189282\n",
       "std     72.312977    0.340253\n",
       "min      0.000000    3.912023\n",
       "25%     62.250000    3.912023\n",
       "50%    124.500000    3.912023\n",
       "75%    186.750000    4.605170\n",
       "max    249.000000    4.605170"
      ]
     },
     "execution_count": 24,
     "metadata": {},
     "output_type": "execute_result"
    }
   ],
   "source": [
    "nlog_data.describe()"
   ]
  },
  {
   "cell_type": "code",
   "execution_count": 25,
   "metadata": {},
   "outputs": [
    {
     "data": {
      "text/plain": [
       "GaussianMixture(covariance_type='tied', init_params='kmeans', max_iter=100,\n",
       "                means_init=None, n_components=2, n_init=1, precisions_init=None,\n",
       "                random_state=None, reg_covar=1e-06, tol=0.001, verbose=0,\n",
       "                verbose_interval=10, warm_start=False, weights_init=None)"
      ]
     },
     "execution_count": 25,
     "metadata": {},
     "output_type": "execute_result"
    }
   ],
   "source": [
    "best_gmm1"
   ]
  },
  {
   "cell_type": "code",
   "execution_count": 26,
   "metadata": {},
   "outputs": [
    {
     "data": {
      "text/plain": [
       "array([0.6, 0.4])"
      ]
     },
     "execution_count": 26,
     "metadata": {},
     "output_type": "execute_result"
    }
   ],
   "source": [
    "best_gmm1.weights_"
   ]
  },
  {
   "cell_type": "code",
   "execution_count": 27,
   "metadata": {},
   "outputs": [
    {
     "data": {
      "text/plain": [
       "array([[3.91202301],\n",
       "       [4.60517019]])"
      ]
     },
     "execution_count": 27,
     "metadata": {},
     "output_type": "execute_result"
    }
   ],
   "source": [
    "best_gmm1.means_"
   ]
  },
  {
   "cell_type": "code",
   "execution_count": 28,
   "metadata": {},
   "outputs": [
    {
     "data": {
      "text/plain": [
       "<matplotlib.axes._subplots.AxesSubplot at 0x1ac2d4eb988>"
      ]
     },
     "execution_count": 28,
     "metadata": {},
     "output_type": "execute_result"
    },
    {
     "data": {
      "image/png": "[encoded data removed]",
      "text/plain": [
       "<Figure size 432x288 with 1 Axes>"
      ]
     },
     "metadata": {
      "needs_background": "light"
     },
     "output_type": "display_data"
    }
   ],
   "source": [
    "#Time Series - Log\n",
    "sns.distplot(nlog_data['Log Value'],bins=50)\n",
    "z,_ = best_gmm1.sample(250)\n",
    "sns.distplot(z,bins=50)"
   ]
  },
  {
   "cell_type": "code",
   "execution_count": 29,
   "metadata": {},
   "outputs": [
    {
     "name": "stdout",
     "output_type": "stream",
     "text": [
      "5.3158050805871975\n",
      "4.8728504399826384\n"
     ]
    }
   ],
   "source": [
    "#Time Series - Log\n",
    "print(best_gmm1.score(np.array(nlog_data['Log Value']).reshape(-1,1)))\n",
    "print(best_gmm1.score(z))"
   ]
  },
  {
   "cell_type": "markdown",
   "metadata": {},
   "source": [
    "Results of GMM on fft data"
   ]
  },
  {
   "cell_type": "code",
   "execution_count": 30,
   "metadata": {},
   "outputs": [
    {
     "data": {
      "text/html": [
       "<div>\n",
       "<style scoped>\n",
       "    .dataframe tbody tr th:only-of-type {\n",
       "        vertical-align: middle;\n",
       "    }\n",
       "\n",
       "    .dataframe tbody tr th {\n",
       "        vertical-align: top;\n",
       "    }\n",
       "\n",
       "    .dataframe thead th {\n",
       "        text-align: right;\n",
       "    }\n",
       "</style>\n",
       "<table border=\"1\" class=\"dataframe\">\n",
       "  <thead>\n",
       "    <tr style=\"text-align: right;\">\n",
       "      <th></th>\n",
       "      <th>Freq</th>\n",
       "      <th>Ampli</th>\n",
       "    </tr>\n",
       "  </thead>\n",
       "  <tbody>\n",
       "    <tr>\n",
       "      <th>count</th>\n",
       "      <td>125.000000</td>\n",
       "      <td>125.000000</td>\n",
       "    </tr>\n",
       "    <tr>\n",
       "      <th>mean</th>\n",
       "      <td>0.248000</td>\n",
       "      <td>2.227648</td>\n",
       "    </tr>\n",
       "    <tr>\n",
       "      <th>std</th>\n",
       "      <td>0.144914</td>\n",
       "      <td>12.756939</td>\n",
       "    </tr>\n",
       "    <tr>\n",
       "      <th>min</th>\n",
       "      <td>0.000000</td>\n",
       "      <td>0.000000</td>\n",
       "    </tr>\n",
       "    <tr>\n",
       "      <th>25%</th>\n",
       "      <td>0.124000</td>\n",
       "      <td>0.149551</td>\n",
       "    </tr>\n",
       "    <tr>\n",
       "      <th>50%</th>\n",
       "      <td>0.248000</td>\n",
       "      <td>0.407698</td>\n",
       "    </tr>\n",
       "    <tr>\n",
       "      <th>75%</th>\n",
       "      <td>0.372000</td>\n",
       "      <td>0.865082</td>\n",
       "    </tr>\n",
       "    <tr>\n",
       "      <th>max</th>\n",
       "      <td>0.496000</td>\n",
       "      <td>140.000000</td>\n",
       "    </tr>\n",
       "  </tbody>\n",
       "</table>\n",
       "</div>"
      ],
      "text/plain": [
       "             Freq       Ampli\n",
       "count  125.000000  125.000000\n",
       "mean     0.248000    2.227648\n",
       "std      0.144914   12.756939\n",
       "min      0.000000    0.000000\n",
       "25%      0.124000    0.149551\n",
       "50%      0.248000    0.407698\n",
       "75%      0.372000    0.865082\n",
       "max      0.496000  140.000000"
      ]
     },
     "execution_count": 30,
     "metadata": {},
     "output_type": "execute_result"
    }
   ],
   "source": [
    "freq_ampli.describe()"
   ]
  },
  {
   "cell_type": "code",
   "execution_count": 31,
   "metadata": {},
   "outputs": [
    {
     "data": {
      "text/plain": [
       "GaussianMixture(covariance_type='diag', init_params='kmeans', max_iter=100,\n",
       "                means_init=None, n_components=6, n_init=1, precisions_init=None,\n",
       "                random_state=None, reg_covar=1e-06, tol=0.001, verbose=0,\n",
       "                verbose_interval=10, warm_start=False, weights_init=None)"
      ]
     },
     "execution_count": 31,
     "metadata": {},
     "output_type": "execute_result"
    }
   ],
   "source": [
    "best_gmm2"
   ]
  },
  {
   "cell_type": "code",
   "execution_count": 32,
   "metadata": {},
   "outputs": [
    {
     "data": {
      "text/plain": [
       "array([0.74986752, 0.00806452, 0.00806452, 0.05271339, 0.17322554,\n",
       "       0.00806452])"
      ]
     },
     "execution_count": 32,
     "metadata": {},
     "output_type": "execute_result"
    }
   ],
   "source": [
    "best_gmm2.weights_"
   ]
  },
  {
   "cell_type": "code",
   "execution_count": 42,
   "metadata": {},
   "outputs": [
    {
     "data": {
      "text/plain": [
       "<matplotlib.axes._subplots.AxesSubplot at 0x1ac31bb7cc8>"
      ]
     },
     "execution_count": 42,
     "metadata": {},
     "output_type": "execute_result"
    },
    {
     "data": {
      "image/png": "[encoded data removed]",
      "text/plain": [
       "<Figure size 432x288 with 1 Axes>"
      ]
     },
     "metadata": {
      "needs_background": "light"
     },
     "output_type": "display_data"
    }
   ],
   "source": [
    "#Frequency\n",
    "freq1 = freq_ampli.iloc[1:,:]\n",
    "y,_ = best_gmm2.sample(124)\n",
    "sns.distplot(freq1)\n",
    "sns.distplot(y)"
   ]
  },
  {
   "cell_type": "code",
   "execution_count": 43,
   "metadata": {},
   "outputs": [
    {
     "name": "stdout",
     "output_type": "stream",
     "text": [
      "0.11487482930285443\n",
      "0.2771159366156449\n"
     ]
    }
   ],
   "source": [
    "#Freq\n",
    "print(best_gmm2.score(freq1))\n",
    "print(best_gmm2.score(y))"
   ]
  },
  {
   "cell_type": "code",
   "execution_count": 38,
   "metadata": {},
   "outputs": [
    {
     "data": {
      "text/plain": [
       "<matplotlib.axes._subplots.AxesSubplot at 0x1ac30e6b608>"
      ]
     },
     "execution_count": 38,
     "metadata": {},
     "output_type": "execute_result"
    },
    {
     "data": {
      "image/png": "[encoded data removed]",
      "text/plain": [
       "<Figure size 432x288 with 1 Axes>"
      ]
     },
     "metadata": {
      "needs_background": "light"
     },
     "output_type": "display_data"
    }
   ],
   "source": [
    "cep1 = cep.iloc[1:,:]\n",
    "a,_ = best_gmm3.sample(115)\n",
    "sns.distplot(cep1)\n",
    "sns.distplot(a)"
   ]
  },
  {
   "cell_type": "code",
   "execution_count": 39,
   "metadata": {},
   "outputs": [
    {
     "name": "stdout",
     "output_type": "stream",
     "text": [
      "-41046.37905465976\n",
      "-35479.923280684416\n"
     ]
    }
   ],
   "source": [
    "print(best_gmm2.score(cep1))\n",
    "print(best_gmm2.score(a))"
   ]
  },
  {
   "cell_type": "code",
   "execution_count": 40,
   "metadata": {},
   "outputs": [
    {
     "data": {
      "text/plain": [
       "GaussianMixture(covariance_type='diag', init_params='kmeans', max_iter=100,\n",
       "                means_init=None, n_components=5, n_init=1, precisions_init=None,\n",
       "                random_state=None, reg_covar=1e-06, tol=0.001, verbose=0,\n",
       "                verbose_interval=10, warm_start=False, weights_init=None)"
      ]
     },
     "execution_count": 40,
     "metadata": {},
     "output_type": "execute_result"
    }
   ],
   "source": [
    "best_gmm3"
   ]
  },
  {
   "cell_type": "code",
   "execution_count": null,
   "metadata": {},
   "outputs": [],
   "source": []
  }
 ],
 "metadata": {
  "kernelspec": {
   "display_name": "Python 3",
   "language": "python",
   "name": "python3"
  },
  "language_info": {
   "codemirror_mode": {
    "name": "ipython",
    "version": 3
   },
   "file_extension": ".py",
   "mimetype": "text/x-python",
   "name": "python",
   "nbconvert_exporter": "python",
   "pygments_lexer": "ipython3",
   "version": "3.7.6"
  }
 },
 "nbformat": 4,
 "nbformat_minor": 2
}
