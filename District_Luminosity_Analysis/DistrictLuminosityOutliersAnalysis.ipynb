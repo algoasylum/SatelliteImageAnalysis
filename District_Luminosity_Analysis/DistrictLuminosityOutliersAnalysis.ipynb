{
 "cells": [
  {
   "cell_type": "code",
   "execution_count": 3,
   "metadata": {},
   "outputs": [],
   "source": [
    "import pandas as pd\n",
    "import matplotlib.pyplot as plt\n",
    "%matplotlib inline"
   ]
  },
  {
   "cell_type": "code",
   "execution_count": 46,
   "metadata": {},
   "outputs": [
    {
     "data": {
      "text/html": [
       "<div>\n",
       "<style scoped>\n",
       "    .dataframe tbody tr th:only-of-type {\n",
       "        vertical-align: middle;\n",
       "    }\n",
       "\n",
       "    .dataframe tbody tr th {\n",
       "        vertical-align: top;\n",
       "    }\n",
       "\n",
       "    .dataframe thead th {\n",
       "        text-align: right;\n",
       "    }\n",
       "</style>\n",
       "<table border=\"1\" class=\"dataframe\">\n",
       "  <thead>\n",
       "    <tr style=\"text-align: right;\">\n",
       "      <th></th>\n",
       "      <th>Bangalore Rural</th>\n",
       "      <th>Bangalore Urban</th>\n",
       "      <th>Chennai</th>\n",
       "      <th>Delhi</th>\n",
       "      <th>Greater Bombay</th>\n",
       "      <th>Hyderabad</th>\n",
       "      <th>Kolkata</th>\n",
       "      <th>Pune</th>\n",
       "      <th>dates</th>\n",
       "    </tr>\n",
       "  </thead>\n",
       "  <tbody>\n",
       "    <tr>\n",
       "      <th>0</th>\n",
       "      <td>86.983633</td>\n",
       "      <td>181.189199</td>\n",
       "      <td>254.828599</td>\n",
       "      <td>228.352094</td>\n",
       "      <td>222.433925</td>\n",
       "      <td>255.0</td>\n",
       "      <td>255.0</td>\n",
       "      <td>85.070824</td>\n",
       "      <td>01-01-2014</td>\n",
       "    </tr>\n",
       "    <tr>\n",
       "      <th>1</th>\n",
       "      <td>92.814122</td>\n",
       "      <td>187.545774</td>\n",
       "      <td>254.802155</td>\n",
       "      <td>237.699770</td>\n",
       "      <td>216.797660</td>\n",
       "      <td>255.0</td>\n",
       "      <td>255.0</td>\n",
       "      <td>87.983713</td>\n",
       "      <td>01-02-2014</td>\n",
       "    </tr>\n",
       "    <tr>\n",
       "      <th>2</th>\n",
       "      <td>93.143691</td>\n",
       "      <td>188.635750</td>\n",
       "      <td>254.889324</td>\n",
       "      <td>234.488462</td>\n",
       "      <td>225.744106</td>\n",
       "      <td>255.0</td>\n",
       "      <td>255.0</td>\n",
       "      <td>90.244938</td>\n",
       "      <td>01-03-2014</td>\n",
       "    </tr>\n",
       "    <tr>\n",
       "      <th>3</th>\n",
       "      <td>97.029112</td>\n",
       "      <td>193.665896</td>\n",
       "      <td>254.909892</td>\n",
       "      <td>232.832607</td>\n",
       "      <td>224.398613</td>\n",
       "      <td>255.0</td>\n",
       "      <td>255.0</td>\n",
       "      <td>91.592282</td>\n",
       "      <td>01-04-2014</td>\n",
       "    </tr>\n",
       "    <tr>\n",
       "      <th>4</th>\n",
       "      <td>86.441568</td>\n",
       "      <td>160.980704</td>\n",
       "      <td>254.801175</td>\n",
       "      <td>231.485442</td>\n",
       "      <td>223.550693</td>\n",
       "      <td>255.0</td>\n",
       "      <td>255.0</td>\n",
       "      <td>87.561148</td>\n",
       "      <td>01-05-2014</td>\n",
       "    </tr>\n",
       "    <tr>\n",
       "      <th>...</th>\n",
       "      <td>...</td>\n",
       "      <td>...</td>\n",
       "      <td>...</td>\n",
       "      <td>...</td>\n",
       "      <td>...</td>\n",
       "      <td>...</td>\n",
       "      <td>...</td>\n",
       "      <td>...</td>\n",
       "      <td>...</td>\n",
       "    </tr>\n",
       "    <tr>\n",
       "      <th>69</th>\n",
       "      <td>95.632790</td>\n",
       "      <td>191.171814</td>\n",
       "      <td>254.929481</td>\n",
       "      <td>241.712215</td>\n",
       "      <td>230.827168</td>\n",
       "      <td>255.0</td>\n",
       "      <td>255.0</td>\n",
       "      <td>103.442848</td>\n",
       "      <td>01-10-2019</td>\n",
       "    </tr>\n",
       "    <tr>\n",
       "      <th>70</th>\n",
       "      <td>97.987768</td>\n",
       "      <td>198.234233</td>\n",
       "      <td>254.938296</td>\n",
       "      <td>239.618252</td>\n",
       "      <td>228.964309</td>\n",
       "      <td>255.0</td>\n",
       "      <td>255.0</td>\n",
       "      <td>100.534567</td>\n",
       "      <td>01-11-2019</td>\n",
       "    </tr>\n",
       "    <tr>\n",
       "      <th>71</th>\n",
       "      <td>98.376933</td>\n",
       "      <td>200.952931</td>\n",
       "      <td>254.980411</td>\n",
       "      <td>235.316509</td>\n",
       "      <td>228.771361</td>\n",
       "      <td>255.0</td>\n",
       "      <td>255.0</td>\n",
       "      <td>99.485368</td>\n",
       "      <td>01-12-2019</td>\n",
       "    </tr>\n",
       "    <tr>\n",
       "      <th>72</th>\n",
       "      <td>96.044376</td>\n",
       "      <td>197.453209</td>\n",
       "      <td>254.889324</td>\n",
       "      <td>233.971678</td>\n",
       "      <td>226.693024</td>\n",
       "      <td>255.0</td>\n",
       "      <td>255.0</td>\n",
       "      <td>97.679269</td>\n",
       "      <td>01-01-2020</td>\n",
       "    </tr>\n",
       "    <tr>\n",
       "      <th>73</th>\n",
       "      <td>107.827466</td>\n",
       "      <td>207.214108</td>\n",
       "      <td>254.995103</td>\n",
       "      <td>241.101607</td>\n",
       "      <td>232.435864</td>\n",
       "      <td>255.0</td>\n",
       "      <td>255.0</td>\n",
       "      <td>108.863257</td>\n",
       "      <td>01-02-2020</td>\n",
       "    </tr>\n",
       "  </tbody>\n",
       "</table>\n",
       "<p>74 rows × 9 columns</p>\n",
       "</div>"
      ],
      "text/plain": [
       "    Bangalore Rural  Bangalore Urban     Chennai       Delhi  Greater Bombay  \\\n",
       "0         86.983633       181.189199  254.828599  228.352094      222.433925   \n",
       "1         92.814122       187.545774  254.802155  237.699770      216.797660   \n",
       "2         93.143691       188.635750  254.889324  234.488462      225.744106   \n",
       "3         97.029112       193.665896  254.909892  232.832607      224.398613   \n",
       "4         86.441568       160.980704  254.801175  231.485442      223.550693   \n",
       "..              ...              ...         ...         ...             ...   \n",
       "69        95.632790       191.171814  254.929481  241.712215      230.827168   \n",
       "70        97.987768       198.234233  254.938296  239.618252      228.964309   \n",
       "71        98.376933       200.952931  254.980411  235.316509      228.771361   \n",
       "72        96.044376       197.453209  254.889324  233.971678      226.693024   \n",
       "73       107.827466       207.214108  254.995103  241.101607      232.435864   \n",
       "\n",
       "    Hyderabad  Kolkata        Pune       dates  \n",
       "0       255.0    255.0   85.070824  01-01-2014  \n",
       "1       255.0    255.0   87.983713  01-02-2014  \n",
       "2       255.0    255.0   90.244938  01-03-2014  \n",
       "3       255.0    255.0   91.592282  01-04-2014  \n",
       "4       255.0    255.0   87.561148  01-05-2014  \n",
       "..        ...      ...         ...         ...  \n",
       "69      255.0    255.0  103.442848  01-10-2019  \n",
       "70      255.0    255.0  100.534567  01-11-2019  \n",
       "71      255.0    255.0   99.485368  01-12-2019  \n",
       "72      255.0    255.0   97.679269  01-01-2020  \n",
       "73      255.0    255.0  108.863257  01-02-2020  \n",
       "\n",
       "[74 rows x 9 columns]"
      ]
     },
     "execution_count": 46,
     "metadata": {},
     "output_type": "execute_result"
    }
   ],
   "source": [
    "df = pd.read_csv(\"viirs_district.csv\")\n",
    "df = df.iloc[:,1:]\n",
    "df"
   ]
  },
  {
   "cell_type": "code",
   "execution_count": 24,
   "metadata": {},
   "outputs": [
    {
     "data": {
      "text/html": [
       "<div>\n",
       "<style scoped>\n",
       "    .dataframe tbody tr th:only-of-type {\n",
       "        vertical-align: middle;\n",
       "    }\n",
       "\n",
       "    .dataframe tbody tr th {\n",
       "        vertical-align: top;\n",
       "    }\n",
       "\n",
       "    .dataframe thead th {\n",
       "        text-align: right;\n",
       "    }\n",
       "</style>\n",
       "<table border=\"1\" class=\"dataframe\">\n",
       "  <thead>\n",
       "    <tr style=\"text-align: right;\">\n",
       "      <th></th>\n",
       "      <th>Bangalore Rural</th>\n",
       "      <th>Bangalore Urban</th>\n",
       "      <th>Chennai</th>\n",
       "      <th>Delhi</th>\n",
       "      <th>Greater Bombay</th>\n",
       "      <th>Hyderabad</th>\n",
       "      <th>Kolkata</th>\n",
       "      <th>Pune</th>\n",
       "      <th>dates</th>\n",
       "    </tr>\n",
       "  </thead>\n",
       "  <tbody>\n",
       "    <tr>\n",
       "      <th>69</th>\n",
       "      <td>95.632790</td>\n",
       "      <td>191.171814</td>\n",
       "      <td>254.929481</td>\n",
       "      <td>241.712215</td>\n",
       "      <td>230.827168</td>\n",
       "      <td>255.0</td>\n",
       "      <td>255.0</td>\n",
       "      <td>103.442848</td>\n",
       "      <td>01-10-2019</td>\n",
       "    </tr>\n",
       "    <tr>\n",
       "      <th>70</th>\n",
       "      <td>97.987768</td>\n",
       "      <td>198.234233</td>\n",
       "      <td>254.938296</td>\n",
       "      <td>239.618252</td>\n",
       "      <td>228.964309</td>\n",
       "      <td>255.0</td>\n",
       "      <td>255.0</td>\n",
       "      <td>100.534567</td>\n",
       "      <td>01-11-2019</td>\n",
       "    </tr>\n",
       "    <tr>\n",
       "      <th>71</th>\n",
       "      <td>98.376933</td>\n",
       "      <td>200.952931</td>\n",
       "      <td>254.980411</td>\n",
       "      <td>235.316509</td>\n",
       "      <td>228.771361</td>\n",
       "      <td>255.0</td>\n",
       "      <td>255.0</td>\n",
       "      <td>99.485368</td>\n",
       "      <td>01-12-2019</td>\n",
       "    </tr>\n",
       "    <tr>\n",
       "      <th>72</th>\n",
       "      <td>96.044376</td>\n",
       "      <td>197.453209</td>\n",
       "      <td>254.889324</td>\n",
       "      <td>233.971678</td>\n",
       "      <td>226.693024</td>\n",
       "      <td>255.0</td>\n",
       "      <td>255.0</td>\n",
       "      <td>97.679269</td>\n",
       "      <td>01-01-2020</td>\n",
       "    </tr>\n",
       "    <tr>\n",
       "      <th>73</th>\n",
       "      <td>107.827466</td>\n",
       "      <td>207.214108</td>\n",
       "      <td>254.995103</td>\n",
       "      <td>241.101607</td>\n",
       "      <td>232.435864</td>\n",
       "      <td>255.0</td>\n",
       "      <td>255.0</td>\n",
       "      <td>108.863257</td>\n",
       "      <td>01-02-2020</td>\n",
       "    </tr>\n",
       "  </tbody>\n",
       "</table>\n",
       "</div>"
      ],
      "text/plain": [
       "    Bangalore Rural  Bangalore Urban     Chennai       Delhi  Greater Bombay  \\\n",
       "69        95.632790       191.171814  254.929481  241.712215      230.827168   \n",
       "70        97.987768       198.234233  254.938296  239.618252      228.964309   \n",
       "71        98.376933       200.952931  254.980411  235.316509      228.771361   \n",
       "72        96.044376       197.453209  254.889324  233.971678      226.693024   \n",
       "73       107.827466       207.214108  254.995103  241.101607      232.435864   \n",
       "\n",
       "    Hyderabad  Kolkata        Pune       dates  \n",
       "69      255.0    255.0  103.442848  01-10-2019  \n",
       "70      255.0    255.0  100.534567  01-11-2019  \n",
       "71      255.0    255.0   99.485368  01-12-2019  \n",
       "72      255.0    255.0   97.679269  01-01-2020  \n",
       "73      255.0    255.0  108.863257  01-02-2020  "
      ]
     },
     "execution_count": 24,
     "metadata": {},
     "output_type": "execute_result"
    }
   ],
   "source": [
    "df.tail() #So the data is from 1st Jab 2014 to 1st Feb 2019"
   ]
  },
  {
   "cell_type": "code",
   "execution_count": 5,
   "metadata": {},
   "outputs": [
    {
     "data": {
      "text/plain": [
       "Index(['Bangalore Rural', 'Bangalore Urban', 'Chennai', 'Delhi',\n",
       "       'Greater Bombay', 'Hyderabad', 'Kolkata', 'Pune', 'dates'],\n",
       "      dtype='object')"
      ]
     },
     "execution_count": 5,
     "metadata": {},
     "output_type": "execute_result"
    }
   ],
   "source": [
    "df.columns #What districts/cities/UTs do we have"
   ]
  },
  {
   "cell_type": "code",
   "execution_count": 56,
   "metadata": {},
   "outputs": [
    {
     "data": {
      "text/html": [
       "<div>\n",
       "<style scoped>\n",
       "    .dataframe tbody tr th:only-of-type {\n",
       "        vertical-align: middle;\n",
       "    }\n",
       "\n",
       "    .dataframe tbody tr th {\n",
       "        vertical-align: top;\n",
       "    }\n",
       "\n",
       "    .dataframe thead th {\n",
       "        text-align: right;\n",
       "    }\n",
       "</style>\n",
       "<table border=\"1\" class=\"dataframe\">\n",
       "  <thead>\n",
       "    <tr style=\"text-align: right;\">\n",
       "      <th></th>\n",
       "      <th>Bangalore Rural</th>\n",
       "      <th>Bangalore Urban</th>\n",
       "      <th>Chennai</th>\n",
       "      <th>Delhi</th>\n",
       "      <th>Greater Bombay</th>\n",
       "      <th>Hyderabad</th>\n",
       "      <th>Kolkata</th>\n",
       "      <th>Pune</th>\n",
       "    </tr>\n",
       "  </thead>\n",
       "  <tbody>\n",
       "    <tr>\n",
       "      <th>count</th>\n",
       "      <td>74.000000</td>\n",
       "      <td>74.000000</td>\n",
       "      <td>74.000000</td>\n",
       "      <td>74.000000</td>\n",
       "      <td>74.000000</td>\n",
       "      <td>74.000000</td>\n",
       "      <td>74.000000</td>\n",
       "      <td>74.000000</td>\n",
       "    </tr>\n",
       "    <tr>\n",
       "      <th>mean</th>\n",
       "      <td>93.407283</td>\n",
       "      <td>187.831505</td>\n",
       "      <td>250.013275</td>\n",
       "      <td>235.796636</td>\n",
       "      <td>217.974362</td>\n",
       "      <td>243.572248</td>\n",
       "      <td>254.720126</td>\n",
       "      <td>93.468556</td>\n",
       "    </tr>\n",
       "    <tr>\n",
       "      <th>std</th>\n",
       "      <td>7.155296</td>\n",
       "      <td>18.220166</td>\n",
       "      <td>21.974006</td>\n",
       "      <td>3.489507</td>\n",
       "      <td>25.540852</td>\n",
       "      <td>43.571880</td>\n",
       "      <td>1.383523</td>\n",
       "      <td>7.431320</td>\n",
       "    </tr>\n",
       "    <tr>\n",
       "      <th>min</th>\n",
       "      <td>70.934079</td>\n",
       "      <td>69.938691</td>\n",
       "      <td>82.328110</td>\n",
       "      <td>228.279230</td>\n",
       "      <td>71.821977</td>\n",
       "      <td>57.000000</td>\n",
       "      <td>244.425047</td>\n",
       "      <td>73.044607</td>\n",
       "    </tr>\n",
       "    <tr>\n",
       "      <th>25%</th>\n",
       "      <td>88.145680</td>\n",
       "      <td>184.140651</td>\n",
       "      <td>254.508570</td>\n",
       "      <td>233.422718</td>\n",
       "      <td>219.830170</td>\n",
       "      <td>255.000000</td>\n",
       "      <td>255.000000</td>\n",
       "      <td>88.739692</td>\n",
       "    </tr>\n",
       "    <tr>\n",
       "      <th>50%</th>\n",
       "      <td>93.547991</td>\n",
       "      <td>189.105346</td>\n",
       "      <td>254.844270</td>\n",
       "      <td>235.891627</td>\n",
       "      <td>224.485376</td>\n",
       "      <td>255.000000</td>\n",
       "      <td>255.000000</td>\n",
       "      <td>93.016188</td>\n",
       "    </tr>\n",
       "    <tr>\n",
       "      <th>75%</th>\n",
       "      <td>97.786765</td>\n",
       "      <td>196.178816</td>\n",
       "      <td>254.924094</td>\n",
       "      <td>238.253283</td>\n",
       "      <td>228.280121</td>\n",
       "      <td>255.000000</td>\n",
       "      <td>255.000000</td>\n",
       "      <td>99.242117</td>\n",
       "    </tr>\n",
       "    <tr>\n",
       "      <th>max</th>\n",
       "      <td>108.886368</td>\n",
       "      <td>208.601976</td>\n",
       "      <td>255.000000</td>\n",
       "      <td>244.879425</td>\n",
       "      <td>235.896388</td>\n",
       "      <td>255.000000</td>\n",
       "      <td>255.000000</td>\n",
       "      <td>108.863257</td>\n",
       "    </tr>\n",
       "  </tbody>\n",
       "</table>\n",
       "</div>"
      ],
      "text/plain": [
       "       Bangalore Rural  Bangalore Urban     Chennai       Delhi  \\\n",
       "count        74.000000        74.000000   74.000000   74.000000   \n",
       "mean         93.407283       187.831505  250.013275  235.796636   \n",
       "std           7.155296        18.220166   21.974006    3.489507   \n",
       "min          70.934079        69.938691   82.328110  228.279230   \n",
       "25%          88.145680       184.140651  254.508570  233.422718   \n",
       "50%          93.547991       189.105346  254.844270  235.891627   \n",
       "75%          97.786765       196.178816  254.924094  238.253283   \n",
       "max         108.886368       208.601976  255.000000  244.879425   \n",
       "\n",
       "       Greater Bombay   Hyderabad     Kolkata        Pune  \n",
       "count       74.000000   74.000000   74.000000   74.000000  \n",
       "mean       217.974362  243.572248  254.720126   93.468556  \n",
       "std         25.540852   43.571880    1.383523    7.431320  \n",
       "min         71.821977   57.000000  244.425047   73.044607  \n",
       "25%        219.830170  255.000000  255.000000   88.739692  \n",
       "50%        224.485376  255.000000  255.000000   93.016188  \n",
       "75%        228.280121  255.000000  255.000000   99.242117  \n",
       "max        235.896388  255.000000  255.000000  108.863257  "
      ]
     },
     "execution_count": 56,
     "metadata": {},
     "output_type": "execute_result"
    }
   ],
   "source": [
    "df.describe() #Quartiles and single numeric descriptions"
   ]
  },
  {
   "cell_type": "code",
   "execution_count": 36,
   "metadata": {},
   "outputs": [
    {
     "name": "stdout",
     "output_type": "stream",
     "text": [
      "Mean:  93.40728295027027\n"
     ]
    },
    {
     "data": {
      "image/png": "[encoded data removed]",
      "text/plain": [
       "<Figure size 432x288 with 1 Axes>"
      ]
     },
     "metadata": {
      "needs_background": "light"
     },
     "output_type": "display_data"
    }
   ],
   "source": [
    "plt.boxplot(df['Bangalore Rural'], showmeans=True, showcaps=True, sym='r+')\n",
    "plt.title('Bangalore Rural')\n",
    "print(\"Mean: \",df['Bangalore Rural'].mean())"
   ]
  },
  {
   "cell_type": "code",
   "execution_count": 57,
   "metadata": {},
   "outputs": [
    {
     "name": "stdout",
     "output_type": "stream",
     "text": [
      "71.45366309333001\n"
     ]
    },
    {
     "data": {
      "text/html": [
       "<div>\n",
       "<style scoped>\n",
       "    .dataframe tbody tr th:only-of-type {\n",
       "        vertical-align: middle;\n",
       "    }\n",
       "\n",
       "    .dataframe tbody tr th {\n",
       "        vertical-align: top;\n",
       "    }\n",
       "\n",
       "    .dataframe thead th {\n",
       "        text-align: right;\n",
       "    }\n",
       "</style>\n",
       "<table border=\"1\" class=\"dataframe\">\n",
       "  <thead>\n",
       "    <tr style=\"text-align: right;\">\n",
       "      <th></th>\n",
       "      <th>Bangalore Rural</th>\n",
       "      <th>Bangalore Urban</th>\n",
       "      <th>Chennai</th>\n",
       "      <th>Delhi</th>\n",
       "      <th>Greater Bombay</th>\n",
       "      <th>Hyderabad</th>\n",
       "      <th>Kolkata</th>\n",
       "      <th>Pune</th>\n",
       "      <th>dates</th>\n",
       "    </tr>\n",
       "  </thead>\n",
       "  <tbody>\n",
       "    <tr>\n",
       "      <th>43</th>\n",
       "      <td>70.934079</td>\n",
       "      <td>69.938691</td>\n",
       "      <td>221.942213</td>\n",
       "      <td>233.36214</td>\n",
       "      <td>224.863302</td>\n",
       "      <td>251.890052</td>\n",
       "      <td>244.425047</td>\n",
       "      <td>93.051882</td>\n",
       "      <td>01-08-2017</td>\n",
       "    </tr>\n",
       "  </tbody>\n",
       "</table>\n",
       "</div>"
      ],
      "text/plain": [
       "    Bangalore Rural  Bangalore Urban     Chennai      Delhi  Greater Bombay  \\\n",
       "43        70.934079        69.938691  221.942213  233.36214      224.863302   \n",
       "\n",
       "     Hyderabad     Kolkata       Pune       dates  \n",
       "43  251.890052  244.425047  93.051882  01-08-2017  "
      ]
     },
     "execution_count": 57,
     "metadata": {},
     "output_type": "execute_result"
    }
   ],
   "source": [
    "min_threshbr = df['Bangalore Rural'].quantile(0.001)\n",
    "print(min_threshbr)\n",
    "df[df['Bangalore Rural'] < min_threshbr] #Outliers from below"
   ]
  },
  {
   "cell_type": "code",
   "execution_count": 38,
   "metadata": {},
   "outputs": [
    {
     "name": "stdout",
     "output_type": "stream",
     "text": [
      "Mean:  187.83150450256755\n"
     ]
    },
    {
     "data": {
      "image/png": "[encoded data removed]",
      "text/plain": [
       "<Figure size 432x288 with 1 Axes>"
      ]
     },
     "metadata": {
      "needs_background": "light"
     },
     "output_type": "display_data"
    }
   ],
   "source": [
    "plt.boxplot(df['Bangalore Urban'], showmeans=True, showbox=True)\n",
    "plt.title('Bangalore Urban')\n",
    "print(\"Mean: \",df['Bangalore Urban'].mean())"
   ]
  },
  {
   "cell_type": "code",
   "execution_count": 55,
   "metadata": {},
   "outputs": [
    {
     "name": "stdout",
     "output_type": "stream",
     "text": [
      "168.557304068\n"
     ]
    },
    {
     "data": {
      "text/html": [
       "<div>\n",
       "<style scoped>\n",
       "    .dataframe tbody tr th:only-of-type {\n",
       "        vertical-align: middle;\n",
       "    }\n",
       "\n",
       "    .dataframe tbody tr th {\n",
       "        vertical-align: top;\n",
       "    }\n",
       "\n",
       "    .dataframe thead th {\n",
       "        text-align: right;\n",
       "    }\n",
       "</style>\n",
       "<table border=\"1\" class=\"dataframe\">\n",
       "  <thead>\n",
       "    <tr style=\"text-align: right;\">\n",
       "      <th></th>\n",
       "      <th>Bangalore Rural</th>\n",
       "      <th>Bangalore Urban</th>\n",
       "      <th>Chennai</th>\n",
       "      <th>Delhi</th>\n",
       "      <th>Greater Bombay</th>\n",
       "      <th>Hyderabad</th>\n",
       "      <th>Kolkata</th>\n",
       "      <th>Pune</th>\n",
       "      <th>dates</th>\n",
       "    </tr>\n",
       "  </thead>\n",
       "  <tbody>\n",
       "    <tr>\n",
       "      <th>4</th>\n",
       "      <td>86.441568</td>\n",
       "      <td>160.980704</td>\n",
       "      <td>254.801175</td>\n",
       "      <td>231.485442</td>\n",
       "      <td>223.550693</td>\n",
       "      <td>255.000000</td>\n",
       "      <td>255.000000</td>\n",
       "      <td>87.561148</td>\n",
       "      <td>01-05-2014</td>\n",
       "    </tr>\n",
       "    <tr>\n",
       "      <th>43</th>\n",
       "      <td>70.934079</td>\n",
       "      <td>69.938691</td>\n",
       "      <td>221.942213</td>\n",
       "      <td>233.362140</td>\n",
       "      <td>224.863302</td>\n",
       "      <td>251.890052</td>\n",
       "      <td>244.425047</td>\n",
       "      <td>93.051882</td>\n",
       "      <td>01-08-2017</td>\n",
       "    </tr>\n",
       "    <tr>\n",
       "      <th>52</th>\n",
       "      <td>78.051666</td>\n",
       "      <td>125.772043</td>\n",
       "      <td>254.823702</td>\n",
       "      <td>232.815392</td>\n",
       "      <td>232.930132</td>\n",
       "      <td>255.000000</td>\n",
       "      <td>255.000000</td>\n",
       "      <td>99.878460</td>\n",
       "      <td>01-05-2018</td>\n",
       "    </tr>\n",
       "  </tbody>\n",
       "</table>\n",
       "</div>"
      ],
      "text/plain": [
       "    Bangalore Rural  Bangalore Urban     Chennai       Delhi  Greater Bombay  \\\n",
       "4         86.441568       160.980704  254.801175  231.485442      223.550693   \n",
       "43        70.934079        69.938691  221.942213  233.362140      224.863302   \n",
       "52        78.051666       125.772043  254.823702  232.815392      232.930132   \n",
       "\n",
       "     Hyderabad     Kolkata       Pune       dates  \n",
       "4   255.000000  255.000000  87.561148  01-05-2014  \n",
       "43  251.890052  244.425047  93.051882  01-08-2017  \n",
       "52  255.000000  255.000000  99.878460  01-05-2018  "
      ]
     },
     "execution_count": 55,
     "metadata": {},
     "output_type": "execute_result"
    }
   ],
   "source": [
    "min_threshbu = df['Bangalore Urban'].quantile(0.04)\n",
    "print(min_threshbu)\n",
    "df[df['Bangalore Urban']<min_threshbu] #Outliers from below"
   ]
  },
  {
   "cell_type": "code",
   "execution_count": 33,
   "metadata": {},
   "outputs": [
    {
     "name": "stdout",
     "output_type": "stream",
     "text": [
      "Mean:  250.013275277027\n"
     ]
    },
    {
     "data": {
      "image/png": "[encoded data removed]",
      "text/plain": [
       "<Figure size 432x288 with 1 Axes>"
      ]
     },
     "metadata": {
      "needs_background": "light"
     },
     "output_type": "display_data"
    }
   ],
   "source": [
    "plt.boxplot(df['Chennai'], showbox=True, showmeans=True)\n",
    "plt.title('Chennai')\n",
    "print(\"Mean: \",df['Chennai'].mean())"
   ]
  },
  {
   "cell_type": "code",
   "execution_count": 22,
   "metadata": {},
   "outputs": [
    {
     "name": "stdout",
     "output_type": "stream",
     "text": [
      "Mean:  235.7966363945946\n"
     ]
    },
    {
     "data": {
      "image/png": "[encoded data removed]",
      "text/plain": [
       "<Figure size 432x288 with 1 Axes>"
      ]
     },
     "metadata": {
      "needs_background": "light"
     },
     "output_type": "display_data"
    }
   ],
   "source": [
    "plt.boxplot(df['Delhi'])\n",
    "plt.title('Delhi')\n",
    "print(\"Mean: \",df['Delhi'].mean())"
   ]
  },
  {
   "cell_type": "code",
   "execution_count": 23,
   "metadata": {},
   "outputs": [
    {
     "name": "stdout",
     "output_type": "stream",
     "text": [
      "Mean:  217.97436200905406\n"
     ]
    },
    {
     "data": {
      "image/png": "[encoded data removed]",
      "text/plain": [
       "<Figure size 432x288 with 1 Axes>"
      ]
     },
     "metadata": {
      "needs_background": "light"
     },
     "output_type": "display_data"
    }
   ],
   "source": [
    "plt.boxplot(df['Greater Bombay'])\n",
    "plt.title('Greater Bombay')\n",
    "print(\"Mean: \",df['Greater Bombay'].mean())"
   ]
  },
  {
   "cell_type": "code",
   "execution_count": 25,
   "metadata": {},
   "outputs": [
    {
     "name": "stdout",
     "output_type": "stream",
     "text": [
      "Mean:  243.5722479958108\n"
     ]
    },
    {
     "data": {
      "image/png": "[encoded data removed]",
      "text/plain": [
       "<Figure size 432x288 with 1 Axes>"
      ]
     },
     "metadata": {
      "needs_background": "light"
     },
     "output_type": "display_data"
    }
   ],
   "source": [
    "plt.boxplot(df['Hyderabad'])\n",
    "plt.title('Hyderabad')\n",
    "print(\"Mean: \",df['Hyderabad'].mean())"
   ]
  },
  {
   "cell_type": "code",
   "execution_count": 26,
   "metadata": {},
   "outputs": [
    {
     "name": "stdout",
     "output_type": "stream",
     "text": [
      "Mean:  254.72012645405403\n"
     ]
    },
    {
     "data": {
      "image/png": "[encoded data removed]",
      "text/plain": [
       "<Figure size 432x288 with 1 Axes>"
      ]
     },
     "metadata": {
      "needs_background": "light"
     },
     "output_type": "display_data"
    }
   ],
   "source": [
    "plt.boxplot(df['Kolkata']) #What's wrong with Kolkata...\n",
    "plt.title('Kolkata')\n",
    "print(\"Mean: \",df['Kolkata'].mean())"
   ]
  },
  {
   "cell_type": "code",
   "execution_count": 27,
   "metadata": {},
   "outputs": [
    {
     "name": "stdout",
     "output_type": "stream",
     "text": [
      "Mean:  93.46855621148647\n"
     ]
    },
    {
     "data": {
      "image/png": "[encoded data removed]",
      "text/plain": [
       "<Figure size 432x288 with 1 Axes>"
      ]
     },
     "metadata": {
      "needs_background": "light"
     },
     "output_type": "display_data"
    }
   ],
   "source": [
    "plt.boxplot(df['Pune'])\n",
    "plt.title('Pune')\n",
    "print(\"Mean: \",df['Pune'].mean())"
   ]
  },
  {
   "cell_type": "code",
   "execution_count": null,
   "metadata": {},
   "outputs": [],
   "source": []
  }
 ],
 "metadata": {
  "kernelspec": {
   "display_name": "Python 3",
   "language": "python",
   "name": "python3"
  },
  "language_info": {
   "codemirror_mode": {
    "name": "ipython",
    "version": 3
   },
   "file_extension": ".py",
   "mimetype": "text/x-python",
   "name": "python",
   "nbconvert_exporter": "python",
   "pygments_lexer": "ipython3",
   "version": "3.7.5"
  }
 },
 "nbformat": 4,
 "nbformat_minor": 2
}
