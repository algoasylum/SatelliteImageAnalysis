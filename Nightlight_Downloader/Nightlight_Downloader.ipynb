{
 "cells": [
  {
   "cell_type": "code",
   "execution_count": 1,
   "metadata": {
    "ExecuteTime": {
     "end_time": "2020-07-07T08:19:17.278269Z",
     "start_time": "2020-07-07T08:19:16.114764Z"
    }
   },
   "outputs": [],
   "source": [
    "#import geemap\n",
    "import ee\n",
    "import json\n",
    "#from geemap import geojson_to_ee, ee_to_geojson\n",
    "from ipyleaflet import GeoJSON\n",
    "#ee.Initialize()\n",
    "import numpy\n",
    "import sys\n",
    "import pandas as pd"
   ]
  },
  {
   "cell_type": "code",
   "execution_count": 2,
   "metadata": {
    "ExecuteTime": {
     "end_time": "2020-07-07T08:19:18.391119Z",
     "start_time": "2020-07-07T08:19:17.726979Z"
    }
   },
   "outputs": [],
   "source": [
    "\n",
    "file_path = 'states.geojson'\n",
    "with open(file_path) as f:\n",
    "    json_data = json.load(f)"
   ]
  },
  {
   "cell_type": "code",
   "execution_count": 3,
   "metadata": {
    "ExecuteTime": {
     "end_time": "2020-07-07T08:19:19.006566Z",
     "start_time": "2020-07-07T08:19:19.000441Z"
    }
   },
   "outputs": [],
   "source": []
  },
  {
   "cell_type": "code",
   "execution_count": 4,
   "metadata": {
    "ExecuteTime": {
     "end_time": "2020-07-07T08:19:19.483708Z",
     "start_time": "2020-07-07T08:19:19.463119Z"
    }
   },
   "outputs": [],
   "source": [
    "coordinates = []\n",
    "names = []\n",
    "for i in json_data['features']:\n",
    "    names.append(i['properties']['NAME_1'])\n",
    "    coordinates.append(i['geometry']['coordinates'])"
   ]
  },
  {
   "cell_type": "code",
   "execution_count": 13,
   "metadata": {
    "ExecuteTime": {
     "end_time": "2020-06-30T13:24:54.232387Z",
     "start_time": "2020-06-30T13:24:53.523004Z"
    }
   },
   "outputs": [],
   "source": [
    "aoi = []\n",
    "for i in coordinates:\n",
    "    aoi.append(ee.Geometry.MultiPolygon(i, None, False))"
   ]
  },
  {
   "cell_type": "code",
   "execution_count": 14,
   "metadata": {
    "ExecuteTime": {
     "end_time": "2020-06-30T13:24:56.240483Z",
     "start_time": "2020-06-30T13:24:56.218819Z"
    }
   },
   "outputs": [
    {
     "data": {
      "text/plain": [
       "['Andaman and Nicobar',\n",
       " 'Andhra Pradesh',\n",
       " 'Arunachal Pradesh',\n",
       " 'Assam',\n",
       " 'Bihar',\n",
       " 'Chandigarh',\n",
       " 'Chhattisgarh',\n",
       " 'Dadra and Nagar Haveli',\n",
       " 'Daman and Diu',\n",
       " 'Delhi',\n",
       " 'Goa',\n",
       " 'Gujarat',\n",
       " 'Haryana',\n",
       " 'Himachal Pradesh',\n",
       " 'Jammu and Kashmir',\n",
       " 'Jharkhand',\n",
       " 'Karnataka',\n",
       " 'Kerala',\n",
       " 'Lakshadweep',\n",
       " 'Madhya Pradesh',\n",
       " 'Maharashtra',\n",
       " 'Manipur',\n",
       " 'Meghalaya',\n",
       " 'Mizoram',\n",
       " 'Nagaland',\n",
       " 'Orissa',\n",
       " 'Puducherry',\n",
       " 'Punjab',\n",
       " 'Rajasthan',\n",
       " 'Sikkim',\n",
       " 'Tamil Nadu',\n",
       " 'Tripura',\n",
       " 'Uttar Pradesh',\n",
       " 'Uttaranchal',\n",
       " 'West Bengal']"
      ]
     },
     "execution_count": 14,
     "metadata": {},
     "output_type": "execute_result"
    }
   ],
   "source": [
    "dist = dict(zip(names,aoi))\n",
    "names"
   ]
  },
  {
   "cell_type": "code",
   "execution_count": 15,
   "metadata": {
    "ExecuteTime": {
     "end_time": "2020-06-30T13:24:58.141667Z",
     "start_time": "2020-06-30T13:24:58.132634Z"
    }
   },
   "outputs": [
    {
     "data": {
      "text/plain": [
       "<ee.geometry.Geometry at 0x7fc9bbb2a970>"
      ]
     },
     "execution_count": 15,
     "metadata": {},
     "output_type": "execute_result"
    }
   ],
   "source": [
    "dist['Maharashtra']"
   ]
  },
  {
   "cell_type": "code",
   "execution_count": 16,
   "metadata": {
    "ExecuteTime": {
     "end_time": "2020-06-30T13:25:01.176747Z",
     "start_time": "2020-06-30T13:25:01.094421Z"
    }
   },
   "outputs": [
    {
     "data": {
      "text/plain": [
       "<ee.imagecollection.ImageCollection at 0x7fc9c1195580>"
      ]
     },
     "execution_count": 16,
     "metadata": {},
     "output_type": "execute_result"
    }
   ],
   "source": [
    "# Specify satellite / band / date range / AOI\n",
    "viirs=[]\n",
    "for i in aoi:\n",
    "    viirs.append(ee.ImageCollection('NOAA/DMSP-OLS/NIGHTTIME_LIGHTS') \\\n",
    "      .filterDate('1992-01-01', '2013-01-01') \\\n",
    "      .filterBounds(i)\\\n",
    "      .select('stable_lights'))\n",
    "pict = dict(zip(names,viirs))\n",
    "pict[names[0]]"
   ]
  },
  {
   "cell_type": "code",
   "execution_count": 11,
   "metadata": {
    "ExecuteTime": {
     "end_time": "2020-06-30T09:18:43.045984Z",
     "start_time": "2020-06-30T09:18:36.157592Z"
    }
   },
   "outputs": [
    {
     "name": "stdout",
     "output_type": "stream",
     "text": [
      "No of assets : 34\n"
     ]
    }
   ],
   "source": [
    "\n",
    "collectionList = pict['Uttar Pradesh'].toList(pict['Uttar Pradesh'].size())\n",
    "collectionSize = collectionList.size().getInfo()\n",
    "print('No of assets :',collectionSize)\n"
   ]
  },
  {
   "cell_type": "code",
   "execution_count": 18,
   "metadata": {
    "ExecuteTime": {
     "end_time": "2020-06-30T13:39:37.482347Z",
     "start_time": "2020-06-30T13:39:37.424013Z"
    }
   },
   "outputs": [],
   "source": [
    "datelist=['20140101','20140201','20140301','20140401','20140501','20140601','20140701','20140801','20140901',\n",
    "'20141001','20141101','20141201','20150101','20150201','20150301','20150401','20150501','20150601','20150701',\n",
    "'20150801','20150901','20151001','20151101','20151201','20160101','20160201','20160301','20160401','20160501',\n",
    "'20160601','20160701','20160801','20160901','20161001','20161101','20161201','20170101','20170201','20170301',\n",
    "'20170401','20170501','20170601','20170701','20170801','20170901','20171001','20171101','20171201','20180101',\n",
    "'20180201','20180301','20180401','20180501','20180601','20180701','20180801','20180901','20181001','20181101',\n",
    "'20181201','20190101','20190201','20190301','20190401','20190501','20190601','20190701','20190801','20190901',\n",
    "'20191001','20191101','20191201','20200101']\n",
    "dl=['F101992','F101993','F101994','F121994','F121995','F121996','F121997','F121998','F121999','F141997',\n",
    "    'F141998','F141999','F142000','F142001','F142002','F142003','F152000','F152001','F152002','F152003',\n",
    "    'F152004','F152005','F152006','F152007','F152008','F162004','F162005','F162006','F162007','F162008',\n",
    "    'F162009','F182010','F182011','F182012','F182013']\n"
   ]
  },
  {
   "cell_type": "code",
   "execution_count": 19,
   "metadata": {
    "ExecuteTime": {
     "end_time": "2020-06-30T14:07:22.855058Z",
     "start_time": "2020-06-30T13:39:41.503320Z"
    }
   },
   "outputs": [
    {
     "name": "stdout",
     "output_type": "stream",
     "text": [
      "working on : West Bengal\n",
      "Added file 0\n",
      "Added file 1\n",
      "Added file 2\n",
      "Added file 3\n",
      "Added file 4\n",
      "Added file 5\n",
      "Added file 6\n",
      "Added file 7\n",
      "Added file 8\n",
      "Added file 9\n",
      "Added file 10\n",
      "Added file 11\n",
      "Added file 12\n",
      "Added file 13\n",
      "Added file 14\n",
      "Added file 15\n",
      "Added file 16\n",
      "Added file 17\n",
      "Added file 18\n",
      "Added file 19\n",
      "Added file 20\n",
      "Added file 21\n",
      "Added file 22\n",
      "Added file 23\n",
      "Added file 24\n",
      "Added file 25\n",
      "Added file 26\n",
      "Added file 27\n",
      "Added file 28\n",
      "Added file 29\n",
      "Added file 30\n",
      "Added file 31\n",
      "Added file 32\n",
      "Added file 33\n"
     ]
    }
   ],
   "source": [
    "# This downloads images to specified folder in google drive.\n",
    "palette=['green','red']\n",
    "for j in range(34,len(names)):\n",
    "    collectionList = pict[names[j]].toList(pict[names[j]].size())\n",
    "    collectionSize = collectionList.size().getInfo()\n",
    "    print('working on :',names[j])\n",
    "    for i in range(collectionSize):\n",
    "        image1 = ee.Image(collectionList.get(i)).clip(dist[names[j]])\\\n",
    "        .visualize(min=0,max=25,palette=palette)\n",
    "        ee.batch.Export.image.toDrive(\n",
    "            image = image1,\n",
    "            folder='DMSP_' + names[j],\n",
    "            fileNamePrefix = 'img' + dl[i]).start()\n",
    "        print('Added file',i)"
   ]
  },
  {
   "cell_type": "code",
   "execution_count": 23,
   "metadata": {
    "ExecuteTime": {
     "end_time": "2020-06-27T14:21:24.024223Z",
     "start_time": "2020-06-27T14:19:02.454207Z"
    }
   },
   "outputs": [
    {
     "name": "stdout",
     "output_type": "stream",
     "text": [
      "Added file 0\n",
      "Added file 1\n",
      "Added file 2\n",
      "Added file 3\n",
      "Added file 4\n",
      "Added file 5\n",
      "Added file 6\n",
      "Added file 7\n",
      "Added file 8\n",
      "Added file 9\n",
      "Added file 10\n",
      "Added file 11\n",
      "Added file 12\n",
      "Added file 13\n",
      "Added file 14\n",
      "Added file 15\n",
      "Added file 16\n",
      "Added file 17\n",
      "Added file 18\n",
      "Added file 19\n",
      "Added file 20\n",
      "Added file 21\n",
      "Added file 22\n",
      "Added file 23\n",
      "Added file 24\n",
      "Added file 25\n",
      "Added file 26\n",
      "Added file 27\n",
      "Added file 28\n",
      "Added file 29\n",
      "Added file 30\n",
      "Added file 31\n",
      "Added file 32\n",
      "Added file 33\n"
     ]
    }
   ],
   "source": [
    "## Test for one state only [Uttar Pradesh]\n",
    "year=0\n",
    "palette=['green','red']\n",
    "for i in range(collectionSize):\n",
    "    year=year+1\n",
    "    image1 = ee.Image(collectionList.get(i)).clip(dist['Uttar Pradesh'])\\\n",
    "    .visualize(min=0,max=25,palette=palette)\n",
    "    ee.batch.Export.image.toDrive(\n",
    "        image = image1,\n",
    "        folder='Satellitedmsp_up',\n",
    "        fileNamePrefix = 'img' + str(year)).start()\n",
    "    print('Added file',i)"
   ]
  }
 ],
 "metadata": {
  "kernelspec": {
   "display_name": "Python 3",
   "language": "python",
   "name": "python3"
  },
  "toc": {
   "base_numbering": 1,
   "nav_menu": {},
   "number_sections": true,
   "sideBar": true,
   "skip_h1_title": false,
   "title_cell": "Table of Contents",
   "title_sidebar": "Contents",
   "toc_cell": false,
   "toc_position": {},
   "toc_section_display": true,
   "toc_window_display": false
  }
 },
 "nbformat": 4,
 "nbformat_minor": 4
}
