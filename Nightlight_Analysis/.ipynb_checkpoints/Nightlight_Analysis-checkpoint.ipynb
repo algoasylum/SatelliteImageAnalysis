{
 "cells": [
  {
   "cell_type": "code",
   "execution_count": 1,
   "metadata": {
    "ExecuteTime": {
     "end_time": "2020-07-07T08:50:30.252761Z",
     "start_time": "2020-07-07T08:50:28.079333Z"
    }
   },
   "outputs": [
    {
     "ename": "ModuleNotFoundError",
     "evalue": "No module named 'plotly'",
     "output_type": "error",
     "traceback": [
      "\u001b[1;31m---------------------------------------------------------------------------\u001b[0m",
      "\u001b[1;31mModuleNotFoundError\u001b[0m                       Traceback (most recent call last)",
      "\u001b[1;32m<ipython-input-1-f3ca08ae4ffe>\u001b[0m in \u001b[0;36m<module>\u001b[1;34m\u001b[0m\n\u001b[0;32m      1\u001b[0m \u001b[1;32mimport\u001b[0m \u001b[0mpandas\u001b[0m \u001b[1;32mas\u001b[0m \u001b[0mpd\u001b[0m\u001b[1;33m\u001b[0m\u001b[1;33m\u001b[0m\u001b[0m\n\u001b[0;32m      2\u001b[0m \u001b[1;32mimport\u001b[0m \u001b[0mnumpy\u001b[0m \u001b[1;32mas\u001b[0m \u001b[0mnp\u001b[0m\u001b[1;33m\u001b[0m\u001b[1;33m\u001b[0m\u001b[0m\n\u001b[1;32m----> 3\u001b[1;33m \u001b[1;32mimport\u001b[0m \u001b[0mplotly\u001b[0m\u001b[1;33m.\u001b[0m\u001b[0mexpress\u001b[0m \u001b[1;32mas\u001b[0m \u001b[0mpx\u001b[0m\u001b[1;33m\u001b[0m\u001b[1;33m\u001b[0m\u001b[0m\n\u001b[0m\u001b[0;32m      4\u001b[0m \u001b[1;32mimport\u001b[0m \u001b[0mstatsmodels\u001b[0m\u001b[1;33m\u001b[0m\u001b[1;33m\u001b[0m\u001b[0m\n",
      "\u001b[1;31mModuleNotFoundError\u001b[0m: No module named 'plotly'"
     ]
    }
   ],
   "source": [
    "import pandas as pd\n",
    "import numpy as np\n",
    "import plotly.express as px\n",
    "import statsmodels"
   ]
  },
  {
   "cell_type": "code",
   "execution_count": null,
   "metadata": {
    "ExecuteTime": {
     "end_time": "2020-07-07T08:50:31.170244Z",
     "start_time": "2020-07-07T08:50:31.026868Z"
    }
   },
   "outputs": [],
   "source": [
    "dmsp=pd.read_csv('dmsp_state.csv')\n",
    "dmsp_pop=pd.read_csv('dmsp_state_pop_clean.csv')\n",
    "dmsp=dmsp.iloc[:,1:]\n",
    "dmsp_pop=dmsp_pop.iloc[:,1:]"
   ]
  },
  {
   "cell_type": "code",
   "execution_count": null,
   "metadata": {
    "ExecuteTime": {
     "end_time": "2020-07-07T08:50:34.209525Z",
     "start_time": "2020-07-07T08:50:32.328536Z"
    }
   },
   "outputs": [],
   "source": [
    "mean=dmsp.mean(axis=0)\n",
    "var=dmsp.var(axis=0)\n",
    "meanvar=pd.DataFrame([mean,var]).T\n",
    "meanvar.columns=['mean','var']\n",
    "meanvar=meanvar.drop('year',axis=0)\n",
    "meanvar=meanvar.reset_index()\n",
    "fig=px.bar(meanvar,'index','mean') \n",
    "fig\n",
    "#fig=px.line(dmsp,x='year',y=col)\n",
    "#fig"
   ]
  },
  {
   "cell_type": "code",
   "execution_count": null,
   "metadata": {
    "ExecuteTime": {
     "end_time": "2020-07-07T08:50:42.792745Z",
     "start_time": "2020-07-07T08:50:42.685434Z"
    }
   },
   "outputs": [],
   "source": [
    "mean_pop=dmsp_pop.mean(axis=0)\n",
    "var_pop=dmsp.var(axis=0)\n",
    "meanvar_pop=pd.DataFrame([mean_pop,var_pop]).T\n",
    "meanvar_pop.columns=['mean_pop','var_pop']\n",
    "meanvar_pop=meanvar_pop.drop('year',axis=0)\n",
    "meanvar_pop=meanvar_pop.reset_index()\n",
    "fig=px.bar(meanvar_pop,'index','mean_pop')\n",
    "fig"
   ]
  },
  {
   "cell_type": "code",
   "execution_count": null,
   "metadata": {
    "ExecuteTime": {
     "end_time": "2020-07-07T08:50:52.254209Z",
     "start_time": "2020-07-07T08:50:49.455906Z"
    }
   },
   "outputs": [],
   "source": [
    "gdp=pd.read_csv('gdp_state.csv')\n",
    "gdp_list=list(gdp['gdp'])\n",
    "fig=px.scatter(meanvar,x=gdp_list,y='mean',hover_name='index',size_max=50,trendline='lowess')\n",
    "fig"
   ]
  },
  {
   "cell_type": "code",
   "execution_count": null,
   "metadata": {
    "ExecuteTime": {
     "end_time": "2020-07-07T08:50:52.436827Z",
     "start_time": "2020-07-07T08:50:52.257007Z"
    }
   },
   "outputs": [],
   "source": [
    "gdp_list=list(gdp['gdp'])\n",
    "fig=px.scatter(meanvar_pop,x=gdp_list,y='mean_pop',hover_name='index',size_max=50,trendline='lowess')\n",
    "fig"
   ]
  },
  {
   "cell_type": "code",
   "execution_count": null,
   "metadata": {
    "ExecuteTime": {
     "end_time": "2020-07-07T08:50:57.160096Z",
     "start_time": "2020-07-07T08:50:56.782890Z"
    }
   },
   "outputs": [],
   "source": [
    "fig=px.line(dmsp,'year',col)\n",
    "fig.show()"
   ]
  },
  {
   "cell_type": "code",
   "execution_count": null,
   "metadata": {
    "ExecuteTime": {
     "end_time": "2020-07-07T08:50:57.915693Z",
     "start_time": "2020-07-07T08:50:57.657127Z"
    }
   },
   "outputs": [],
   "source": [
    "col=list((dmsp.columns))\n",
    "dif=pd.DataFrame(columns=col)\n",
    "dif=dmsp.iloc[[0,21],]\n",
    "dif=dif.T\n",
    "#dif=dif.drop(0,axis=0)\n",
    "dif=dif.reset_index()\n",
    "dif\n",
    "fig=px.scatter(dif,'index',[0,21])\n",
    "fig"
   ]
  },
  {
   "cell_type": "code",
   "execution_count": null,
   "metadata": {
    "ExecuteTime": {
     "end_time": "2020-07-07T08:51:00.818514Z",
     "start_time": "2020-07-07T08:51:00.309381Z"
    }
   },
   "outputs": [],
   "source": [
    "col=list((dmsp.columns))\n",
    "\n",
    "diff=pd.DataFrame(columns=col)\n",
    "for i in range(dmsp.shape[1]):\n",
    "    diff[col[i]] = dmsp[col[i]].diff()\n",
    "diff=diff.dropna()\n",
    "diff['year']=dmsp['year']\n",
    "fig=px.line(diff,'year',col)\n",
    "fig\n"
   ]
  },
  {
   "cell_type": "code",
   "execution_count": null,
   "metadata": {
    "ExecuteTime": {
     "end_time": "2020-07-07T08:51:09.318671Z",
     "start_time": "2020-07-07T08:51:09.064697Z"
    }
   },
   "outputs": [],
   "source": [
    "er=pd.read_csv('dmsp10pop.csv')\n",
    "er"
   ]
  },
  {
   "cell_type": "code",
   "execution_count": null,
   "metadata": {
    "ExecuteTime": {
     "end_time": "2020-07-07T08:51:11.697355Z",
     "start_time": "2020-07-07T08:51:11.223743Z"
    }
   },
   "outputs": [],
   "source": [
    "gdp=pd.read_csv('gdp10.csv')\n",
    "gddp=gdp.T\n",
    "gddp.columns=col[1:]\n",
    "gddp=gddp.drop('State/Union territory',axis=0)\n",
    "gddp=gddp.reset_index()\n",
    "dmsp10=pd.read_csv('dmsp10.csv')\n",
    "gddp=gddp.fillna(0)\n",
    "dmsp10=dmsp10.fillna(0)\n",
    "fig=px.scatter(x=gddp['Maharashtra'],y=dmsp10['Maharashtra'],hover_name=dmsp10['year'],trendline='ols')\n",
    "fig.update_layout(\n",
    "    title='GDP vs Luminosity',\n",
    "    xaxis_title='GDP',\n",
    "    yaxis_title='Luminosity',\n",
    ")\n",
    "fig\n"
   ]
  },
  {
   "cell_type": "code",
   "execution_count": null,
   "metadata": {
    "ExecuteTime": {
     "end_time": "2020-07-07T08:51:13.942201Z",
     "start_time": "2020-07-07T08:51:13.628812Z"
    }
   },
   "outputs": [],
   "source": [
    "gdp=pd.read_csv('gdp10.csv')\n",
    "gddp=gdp.T\n",
    "gddp.columns=col[1:]\n",
    "gddp=gddp.drop('State/Union territory',axis=0)\n",
    "gddp=gddp.reset_index()\n",
    "dmsp10=pd.read_csv('dmsp10.csv')\n",
    "gddp=gddp.fillna(0)\n",
    "dmsp10=dmsp10.fillna(0)\n",
    "fig=px.scatter(x=gddp['Tamil Nadu'],y=dmsp10['Tamil Nadu'],hover_name=dmsp10['year'],trendline='ols')\n",
    "fig.update_layout(\n",
    "    title='GDP vs Luminosity',\n",
    "    xaxis_title='GDP',\n",
    "    yaxis_title='Luminosity',\n",
    ")\n",
    "fig\n"
   ]
  },
  {
   "cell_type": "code",
   "execution_count": null,
   "metadata": {
    "ExecuteTime": {
     "end_time": "2020-07-07T08:51:16.099462Z",
     "start_time": "2020-07-07T08:51:15.795627Z"
    }
   },
   "outputs": [],
   "source": [
    "gdp=pd.read_csv('gdp10.csv')\n",
    "gddp=gdp.T\n",
    "gddp.columns=col[1:]\n",
    "gddp=gddp.drop('State/Union territory',axis=0)\n",
    "gddp=gddp.reset_index()\n",
    "dmsp10=pd.read_csv('dmsp10.csv')\n",
    "gddp=gddp.fillna(0)\n",
    "dmsp10=dmsp10.fillna(0)\n",
    "fig=px.scatter(x=gddp['Bihar'],y=dmsp10['Bihar'],hover_name=dmsp10['year'],trendline='ols')\n",
    "fig.update_layout(\n",
    "    title='GDP vs Luminosity',\n",
    "    xaxis_title='GDP',\n",
    "    yaxis_title='Luminosity',\n",
    ")\n",
    "fig\n"
   ]
  },
  {
   "cell_type": "code",
   "execution_count": null,
   "metadata": {
    "ExecuteTime": {
     "end_time": "2020-07-07T08:51:18.133530Z",
     "start_time": "2020-07-07T08:51:17.803356Z"
    }
   },
   "outputs": [],
   "source": [
    "gdp=pd.read_csv('gdp10.csv')\n",
    "gddp=gdp.T\n",
    "gddp.columns=col[1:]\n",
    "gddp=gddp.drop('State/Union territory',axis=0)\n",
    "gddp=gddp.reset_index()\n",
    "dmsp10=pd.read_csv('dmsp10.csv')\n",
    "gddp=gddp.fillna(0)\n",
    "dmsp10=dmsp10.fillna(0)\n",
    "fig=px.scatter(x=gddp['Punjab'],y=dmsp10['Punjab'],hover_name=dmsp10['year'],trendline='ols')\n",
    "fig.update_layout(\n",
    "    title='GDP vs Luminosity',\n",
    "    xaxis_title='GDP',\n",
    "    yaxis_title='Luminosity',\n",
    ")\n",
    "fig\n"
   ]
  },
  {
   "cell_type": "code",
   "execution_count": null,
   "metadata": {
    "ExecuteTime": {
     "end_time": "2020-07-07T08:51:18.780088Z",
     "start_time": "2020-07-07T08:51:18.499929Z"
    }
   },
   "outputs": [],
   "source": [
    "gdp=pd.read_csv('gdp10.csv')\n",
    "gddp=gdp.T\n",
    "gddp.columns=col[1:]\n",
    "gddp=gddp.drop('State/Union territory',axis=0)\n",
    "gddp=gddp.reset_index()\n",
    "dmsp10=pd.read_csv('dmsp10.csv')\n",
    "gddp=gddp.fillna(0)\n",
    "dmsp10=dmsp10.fillna(0)\n",
    "fig=px.scatter(x=gddp['Kerala'],y=dmsp10['Kerala'],hover_name=dmsp10['year'],trendline='ols')\n",
    "fig.update_layout(\n",
    "    title='GDP vs Luminosity',\n",
    "    xaxis_title='GDP',\n",
    "    yaxis_title='Luminosity',\n",
    ")\n",
    "fig\n"
   ]
  },
  {
   "cell_type": "code",
   "execution_count": null,
   "metadata": {
    "ExecuteTime": {
     "end_time": "2020-07-07T08:51:19.464004Z",
     "start_time": "2020-07-07T08:51:19.182541Z"
    }
   },
   "outputs": [],
   "source": [
    "gdp=pd.read_csv('gdp10.csv')\n",
    "gddp=gdp.T\n",
    "gddp.columns=col[1:]\n",
    "gddp=gddp.drop('State/Union territory',axis=0)\n",
    "gddp=gddp.reset_index()\n",
    "dmsp10=pd.read_csv('dmsp10.csv')\n",
    "gddp=gddp.fillna(0)\n",
    "dmsp10=dmsp10.fillna(0)\n",
    "fig=px.scatter(x=gddp['Madhya Pradesh'],y=dmsp10['Madhya Pradesh'],hover_name=dmsp10['year'],trendline='ols')\n",
    "fig.update_layout(\n",
    "    title='GDP vs Luminosity',\n",
    "    xaxis_title='GDP',\n",
    "    yaxis_title='Luminosity',\n",
    ")\n",
    "fig\n"
   ]
  },
  {
   "cell_type": "code",
   "execution_count": null,
   "metadata": {
    "ExecuteTime": {
     "end_time": "2020-07-07T08:51:20.134402Z",
     "start_time": "2020-07-07T08:51:19.845697Z"
    }
   },
   "outputs": [],
   "source": [
    "coll=list((gddp.columns))\n",
    "dif=pd.DataFrame(columns=coll)\n",
    "dif=gddp.iloc[[0,9],]\n",
    "dif=dif.T\n",
    "\n",
    "dif=dif.drop('index',axis=0)\n",
    "dif=dif.reset_index()\n",
    "fig=px.scatter(dif,'index',[0,9])\n",
    "fig.show()"
   ]
  },
  {
   "cell_type": "code",
   "execution_count": null,
   "metadata": {
    "ExecuteTime": {
     "end_time": "2020-07-02T11:00:41.380104Z",
     "start_time": "2020-07-02T11:00:41.217581Z"
    }
   },
   "outputs": [],
   "source": [
    "coll=list((dmsp10.columns))\n",
    "dif=pd.DataFrame(columns=coll)\n",
    "dif=dmsp10.iloc[[0,9],]\n",
    "dif=dif.T\n",
    "dif=dif.drop('year',axis=0)\n",
    "dif=dif.reset_index()\n",
    "fig=px.scatter(dif,'index',[0,9])\n",
    "fig"
   ]
  },
  {
   "cell_type": "code",
   "execution_count": null,
   "metadata": {},
   "outputs": [],
   "source": []
  }
 ],
 "metadata": {
  "kernelspec": {
   "display_name": "Python 3",
   "language": "python",
   "name": "python3"
  },
  "language_info": {
   "codemirror_mode": {
    "name": "ipython",
    "version": 3
   },
   "file_extension": ".py",
   "mimetype": "text/x-python",
   "name": "python",
   "nbconvert_exporter": "python",
   "pygments_lexer": "ipython3",
   "version": "3.7.5"
  },
  "toc": {
   "base_numbering": 1,
   "nav_menu": {},
   "number_sections": true,
   "sideBar": true,
   "skip_h1_title": false,
   "title_cell": "Table of Contents",
   "title_sidebar": "Contents",
   "toc_cell": false,
   "toc_position": {},
   "toc_section_display": true,
   "toc_window_display": false
  }
 },
 "nbformat": 4,
 "nbformat_minor": 4
}
