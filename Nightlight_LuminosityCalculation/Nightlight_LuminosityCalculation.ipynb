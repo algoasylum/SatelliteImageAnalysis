{
 "cells": [
  {
   "cell_type": "code",
   "execution_count": 2,
   "metadata": {
    "ExecuteTime": {
     "end_time": "2020-07-07T08:30:24.760764Z",
     "start_time": "2020-07-07T08:30:24.739940Z"
    }
   },
   "outputs": [
    {
     "ename": "ModuleNotFoundError",
     "evalue": "No module named 'cv2'",
     "output_type": "error",
     "traceback": [
      "\u001b[1;31m---------------------------------------------------------------------------\u001b[0m",
      "\u001b[1;31mModuleNotFoundError\u001b[0m                       Traceback (most recent call last)",
      "\u001b[1;32m<ipython-input-2-a781d6e15afc>\u001b[0m in \u001b[0;36m<module>\u001b[1;34m\u001b[0m\n\u001b[0;32m      1\u001b[0m \u001b[1;32mimport\u001b[0m \u001b[0mpandas\u001b[0m \u001b[1;32mas\u001b[0m \u001b[0mpd\u001b[0m\u001b[1;33m\u001b[0m\u001b[1;33m\u001b[0m\u001b[0m\n\u001b[0;32m      2\u001b[0m \u001b[1;32mimport\u001b[0m \u001b[0mnumpy\u001b[0m \u001b[1;32mas\u001b[0m \u001b[0mnp\u001b[0m\u001b[1;33m\u001b[0m\u001b[1;33m\u001b[0m\u001b[0m\n\u001b[1;32m----> 3\u001b[1;33m \u001b[1;32mimport\u001b[0m \u001b[0mcv2\u001b[0m\u001b[1;33m\u001b[0m\u001b[1;33m\u001b[0m\u001b[0m\n\u001b[0m\u001b[0;32m      4\u001b[0m \u001b[1;32mimport\u001b[0m \u001b[0mos\u001b[0m\u001b[1;33m\u001b[0m\u001b[1;33m\u001b[0m\u001b[0m\n\u001b[0;32m      5\u001b[0m \u001b[1;32mimport\u001b[0m \u001b[0mplotly\u001b[0m\u001b[1;33m.\u001b[0m\u001b[0mexpress\u001b[0m \u001b[1;32mas\u001b[0m \u001b[0mpx\u001b[0m\u001b[1;33m\u001b[0m\u001b[1;33m\u001b[0m\u001b[0m\n",
      "\u001b[1;31mModuleNotFoundError\u001b[0m: No module named 'cv2'"
     ]
    }
   ],
   "source": [
    "import pandas as pd\n",
    "import numpy as np\n",
    "import cv2\n",
    "import os\n",
    "import plotly.express as px\n",
    "import datetime"
   ]
  },
  {
   "cell_type": "code",
   "execution_count": null,
   "metadata": {
    "ExecuteTime": {
     "end_time": "2020-07-07T08:35:35.601801Z",
     "start_time": "2020-07-07T08:35:35.519184Z"
    }
   },
   "outputs": [],
   "source": [
    "# Specify the parent directory for images here.\n",
    "list_dr=os.listdir('/home/sic_mundus/Downloads/sat/VIIRS/')\n",
    "sort=sorted(list_dr)\n",
    "sort"
   ]
  },
  {
   "cell_type": "markdown",
   "metadata": {},
   "source": [
    "### Pandas 4for"
   ]
  },
  {
   "cell_type": "code",
   "execution_count": null,
   "metadata": {
    "ExecuteTime": {
     "end_time": "2020-07-07T08:39:37.289853Z",
     "start_time": "2020-07-07T08:35:45.219346Z"
    }
   },
   "outputs": [],
   "source": [
    "# Area wise mean luminosity.\n",
    "colstate=[]\n",
    "state=[]\n",
    "dictt={}\n",
    "filepath='/home/sic_mundus/Downloads/sat/VIIRS/'\n",
    "for i in sort:\n",
    "    s=os.path.join(filepath,i)\n",
    "    p=sorted(os.listdir(s))\n",
    "    print(s)\n",
    "    state=[]\n",
    "    for j in p:\n",
    "        img_path=os.path.join(s,j)\n",
    "        img=cv2.imread(img_path)\n",
    "        color = [0,0,0]\n",
    "        mask = np.all(img == color,axis = -1)\n",
    "        red_sum = img[...,2].sum()\n",
    "        # mean = red intensity / (total dim - black pixel count)\n",
    "        mean_value = red_sum / ((img.shape[0] * img.shape[1]) - img[mask].shape[0])\n",
    "        print(img_path)\n",
    "        print(mean_value)\n",
    "        state.append(mean_value)\n",
    "        #print(state)\n",
    "    dictt.update({i:state})\n",
    "    print(dictt)\n",
    "dictt"
   ]
  },
  {
   "cell_type": "code",
   "execution_count": null,
   "metadata": {
    "ExecuteTime": {
     "end_time": "2020-07-07T08:40:51.633530Z",
     "start_time": "2020-07-07T08:40:51.455770Z"
    }
   },
   "outputs": [],
   "source": [
    " ### Viirs data to csv.\n",
    "new=pd.DataFrame(dictt)\n",
    "datel=[]\n",
    "datelist=[ '20140101','20140201','20140301','20140401','20140501','20140601','20140701','20140801','20140901',\n",
    "'20141001','20141101','20141201','20150101','20150201','20150301','20150401','20150501','20150601','20150701',\n",
    "'20150801','20150901','20151001','20151101','20151201','20160101','20160201','20160301','20160401','20160501',\n",
    "'20160601','20160701','20160801','20160901','20161001','20161101','20161201','20170101','20170201','20170301',\n",
    "'20170401','20170501','20170601','20170701','20170801','20170901','20171001','20171101','20171201','20180101',\n",
    "'20180201','20180301','20180401','20180501','20180601','20180701','20180801','20180901','20181001','20181101',\n",
    "'20181201','20190101','20190201','20190301','20190401','20190501','20190601','20190701','20190801','20190901',\n",
    "'20191001','20191101','20191201','20200101']\n",
    "format_str = '%Y%m%d'\n",
    "for i in datelist:\n",
    "    datetime_obj = datetime.datetime.strptime(i, format_str)\n",
    "    datel.append(datetime_obj.date())\n",
    "new['dates']=datel\n",
    "new.to_csv('viirs_state.csv')"
   ]
  },
  {
   "cell_type": "markdown",
   "metadata": {},
   "source": [
    "### Normalized with population"
   ]
  },
  {
   "cell_type": "code",
   "execution_count": null,
   "metadata": {
    "ExecuteTime": {
     "end_time": "2020-07-07T08:41:35.094159Z",
     "start_time": "2020-07-07T08:41:34.988948Z"
    }
   },
   "outputs": [],
   "source": [
    "pop=pd.read_csv('sat/population12.csv')\n",
    "pop=pop.iloc[:,[0,1]]\n",
    "pop.Population=pop.Population\n",
    "popp=list(pop['Population'])\n",
    "len(popp)"
   ]
  },
  {
   "cell_type": "code",
   "execution_count": null,
   "metadata": {
    "ExecuteTime": {
     "end_time": "2020-07-07T08:43:14.712145Z",
     "start_time": "2020-07-07T08:42:05.169268Z"
    }
   },
   "outputs": [],
   "source": [
    "count=-1\n",
    "colstate=[]\n",
    "state=[]\n",
    "dictt={}\n",
    "filepath='/home/sic_mundus/Downloads/sat/VIIRS/'\n",
    "for i in sort:\n",
    "    s=os.path.join(filepath,i)\n",
    "    p=sorted(os.listdir(s))\n",
    "    print(s)\n",
    "    state=[]\n",
    "    count+=1\n",
    "    for j in p:\n",
    "        img_path=os.path.join(s,j)\n",
    "        img=cv2.imread(img_path)\n",
    "        #color = [0,0,0]\n",
    "        #mask = np.all(img == color,axis = -1)\n",
    "        red_sum = img[...,2].sum() \n",
    "        # mean = red intensity / (total dim - black pixel count)\n",
    "        mean_value = red_sum / popp[count]\n",
    "        print(img_path)\n",
    "        print(mean_value)\n",
    "        state.append(mean_value)\n",
    "        #print(stadatate)\n",
    "    dictt.update({i:state})\n",
    "    print(dictt)\n",
    "dictt"
   ]
  },
  {
   "cell_type": "code",
   "execution_count": null,
   "metadata": {
    "ExecuteTime": {
     "end_time": "2020-07-07T08:43:50.883690Z",
     "start_time": "2020-07-07T08:43:50.706697Z"
    }
   },
   "outputs": [],
   "source": [
    "new=pd.DataFrame(dictt)\n",
    "datel=[]\n",
    "datelist=[ '20140101','20140201','20140301','20140401','20140501','20140601','20140701','20140801','20140901',\n",
    "'20141001','20141101','20141201','20150101','20150201','20150301','20150401','20150501','20150601','20150701',\n",
    "'20150801','20150901','20151001','20151101','20151201','20160101','20160201','20160301','20160401','20160501',\n",
    "'20160601','20160701','20160801','20160901','20161001','20161101','20161201','20170101','20170201','20170301',\n",
    "'20170401','20170501','20170601','20170701','20170801','20170901','20171001','20171101','20171201','20180101',\n",
    "'20180201','20180301','20180401','20180501','20180601','20180701','20180801','20180901','20181001','20181101',\n",
    "'20181201','20190101','20190201','20190301','20190401','20190501','20190601','20190701','20190801','20190901',\n",
    "'20191001','20191101','20191201','20200101']\n",
    "format_str = '%Y%m%d'\n",
    "for i in datelist:\n",
    "    datetime_obj = datetime.datetime.strptime(i, format_str)\n",
    "    datel.append(datetime_obj.date())\n",
    "new['dates']=datel\n",
    "new.to_csv('viirs_state_pop.csv')"
   ]
  },
  {
   "cell_type": "code",
   "execution_count": null,
   "metadata": {
    "ExecuteTime": {
     "end_time": "2020-07-07T08:44:07.780817Z",
     "start_time": "2020-07-07T08:44:07.481999Z"
    }
   },
   "outputs": [],
   "source": [
    "df=pd.read_csv('viirs_state.csv')\n",
    "lis=df['dates']\n",
    "df=df.iloc[:,1:]\n",
    "df.insert(0,'Dates',lis)\n",
    "df=df.drop('dates',axis=1)\n",
    "cols = pd.DataFrame(df.columns)\n",
    "cols=cols[0].apply(lambda x:x[10:])\n",
    "df.columns=cols\n",
    "df.to_csv('viirs_state.csv')\n",
    "df"
   ]
  },
  {
   "cell_type": "code",
   "execution_count": null,
   "metadata": {
    "ExecuteTime": {
     "end_time": "2020-07-01T19:18:33.025549Z",
     "start_time": "2020-07-01T19:18:32.813087Z"
    }
   },
   "outputs": [],
   "source": [
    "'''\n",
    "# DMSP data to csv.\n",
    "d=pd.DataFrame(dictt)\n",
    "dl=['F101992','F101993','F101994','F121994','F121995','F121996','F121997','F121998','F121999','F141997',\n",
    "    'F141998','F141999','F142000','F142001','F142002','F142003','F152000','F152001','F152002','F152003',\n",
    "    'F152004','F152005','F152006','F152007','F162004','F162005','F162006','F162007','F162008',\n",
    "    'F162009','F182010','F182011','F182012','F182013']\n",
    "d\n",
    "d['year']=dl\n",
    "d.to_csv('dmsp_state_pop.csv')\n",
    "d\n",
    "'''"
   ]
  },
  {
   "cell_type": "code",
   "execution_count": null,
   "metadata": {
    "ExecuteTime": {
     "end_time": "2020-06-27T15:25:39.623306Z",
     "start_time": "2020-06-27T15:25:37.051413Z"
    }
   },
   "outputs": [],
   "source": [
    "'''\n",
    "#img=cv2.imread('/home/sic_mundus/Downloads/satellite/Satellite_Andaman and Nicobar/img20140101.tif')\n",
    "img=cv2.imread('/home/sic_mundus/Downloads/Satellitedmsp_up/img34.tif')\n",
    "reshaped=img.reshape(-1,3)\n",
    "black_out=[]\n",
    "\n",
    "for k in reshaped:\n",
    "    if k[1] != 0 or k[2] != 0:\n",
    "        black_out.append(k)\n",
    "black_out=np.array(black_out)\n",
    "mean_value=black_out[...,2].mean()\n",
    "print(mean_value)\n",
    "'''"
   ]
  }
 ],
 "metadata": {
  "kernelspec": {
   "display_name": "Python 3",
   "language": "python",
   "name": "python3"
  },
  "language_info": {
   "codemirror_mode": {
    "name": "ipython",
    "version": 3
   },
   "file_extension": ".py",
   "mimetype": "text/x-python",
   "name": "python",
   "nbconvert_exporter": "python",
   "pygments_lexer": "ipython3",
   "version": "3.7.5"
  },
  "toc": {
   "base_numbering": 1,
   "nav_menu": {},
   "number_sections": true,
   "sideBar": true,
   "skip_h1_title": false,
   "title_cell": "Table of Contents",
   "title_sidebar": "Contents",
   "toc_cell": false,
   "toc_position": {},
   "toc_section_display": true,
   "toc_window_display": false
  }
 },
 "nbformat": 4,
 "nbformat_minor": 4
}
