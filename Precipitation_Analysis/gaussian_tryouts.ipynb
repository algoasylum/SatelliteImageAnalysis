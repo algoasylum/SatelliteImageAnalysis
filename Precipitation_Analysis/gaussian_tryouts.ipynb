{
 "cells": [
  {
   "cell_type": "code",
   "execution_count": 46,
   "metadata": {},
   "outputs": [],
   "source": [
    "import pandas as pd\n",
    "import numpy as np\n",
    "import matplotlib.pyplot as plt\n",
    "import scipy\n",
    "from scipy import stats\n",
    "import seaborn as sns"
   ]
  },
  {
   "cell_type": "code",
   "execution_count": 58,
   "metadata": {},
   "outputs": [
    {
     "data": {
      "text/plain": [
       "Index(['Date', 'ddate', 'value', 'geo'], dtype='object')"
      ]
     },
     "execution_count": 58,
     "metadata": {},
     "output_type": "execute_result"
    }
   ],
   "source": [
    "df=pd.read_csv('preci_all.csv')\n",
    "df.columns = ['Date','ddate','value','geo']\n",
    "df['Date'] = df['Date'].astype(str).str[:-2].astype(str)\n",
    "df['Date'].iloc[43]\n",
    "df.columns"
   ]
  },
  {
   "cell_type": "code",
   "execution_count": 59,
   "metadata": {},
   "outputs": [
    {
     "data": {
      "text/html": [
       "<div>\n",
       "<style scoped>\n",
       "    .dataframe tbody tr th:only-of-type {\n",
       "        vertical-align: middle;\n",
       "    }\n",
       "\n",
       "    .dataframe tbody tr th {\n",
       "        vertical-align: top;\n",
       "    }\n",
       "\n",
       "    .dataframe thead th {\n",
       "        text-align: right;\n",
       "    }\n",
       "</style>\n",
       "<table border=\"1\" class=\"dataframe\">\n",
       "  <thead>\n",
       "    <tr style=\"text-align: right;\">\n",
       "      <th></th>\n",
       "      <th>Date</th>\n",
       "      <th>value</th>\n",
       "    </tr>\n",
       "  </thead>\n",
       "  <tbody>\n",
       "    <tr>\n",
       "      <th>0</th>\n",
       "      <td>2000-06-01 00:00:00</td>\n",
       "      <td>0.0</td>\n",
       "    </tr>\n",
       "    <tr>\n",
       "      <th>1</th>\n",
       "      <td>2000-06-01 00:30:00</td>\n",
       "      <td>0.0</td>\n",
       "    </tr>\n",
       "    <tr>\n",
       "      <th>2</th>\n",
       "      <td>2000-06-01 01:00:00</td>\n",
       "      <td>0.0</td>\n",
       "    </tr>\n",
       "    <tr>\n",
       "      <th>3</th>\n",
       "      <td>2000-06-01 01:30:00</td>\n",
       "      <td>0.0</td>\n",
       "    </tr>\n",
       "    <tr>\n",
       "      <th>4</th>\n",
       "      <td>2000-06-01 02:00:00</td>\n",
       "      <td>0.0</td>\n",
       "    </tr>\n",
       "    <tr>\n",
       "      <th>...</th>\n",
       "      <td>...</td>\n",
       "      <td>...</td>\n",
       "    </tr>\n",
       "    <tr>\n",
       "      <th>355008</th>\n",
       "      <td>2020-08-31 08:00:00</td>\n",
       "      <td>0.0</td>\n",
       "    </tr>\n",
       "    <tr>\n",
       "      <th>355009</th>\n",
       "      <td>2020-08-31 08:30:00</td>\n",
       "      <td>0.0</td>\n",
       "    </tr>\n",
       "    <tr>\n",
       "      <th>355010</th>\n",
       "      <td>2020-08-31 09:00:00</td>\n",
       "      <td>0.0</td>\n",
       "    </tr>\n",
       "    <tr>\n",
       "      <th>355011</th>\n",
       "      <td>2020-08-31 09:30:00</td>\n",
       "      <td>0.0</td>\n",
       "    </tr>\n",
       "    <tr>\n",
       "      <th>355012</th>\n",
       "      <td>2020-08-31 10:00:00</td>\n",
       "      <td>0.0</td>\n",
       "    </tr>\n",
       "  </tbody>\n",
       "</table>\n",
       "<p>355013 rows × 2 columns</p>\n",
       "</div>"
      ],
      "text/plain": [
       "                      Date  value\n",
       "0      2000-06-01 00:00:00    0.0\n",
       "1      2000-06-01 00:30:00    0.0\n",
       "2      2000-06-01 01:00:00    0.0\n",
       "3      2000-06-01 01:30:00    0.0\n",
       "4      2000-06-01 02:00:00    0.0\n",
       "...                    ...    ...\n",
       "355008 2020-08-31 08:00:00    0.0\n",
       "355009 2020-08-31 08:30:00    0.0\n",
       "355010 2020-08-31 09:00:00    0.0\n",
       "355011 2020-08-31 09:30:00    0.0\n",
       "355012 2020-08-31 10:00:00    0.0\n",
       "\n",
       "[355013 rows x 2 columns]"
      ]
     },
     "execution_count": 59,
     "metadata": {},
     "output_type": "execute_result"
    }
   ],
   "source": [
    "df['Date'] = pd.to_datetime(df['Date'],format='%Y%m%d%H%M')\n",
    "del df['ddate'],df['geo']\n",
    "df"
   ]
  },
  {
   "cell_type": "code",
   "execution_count": 60,
   "metadata": {},
   "outputs": [
    {
     "data": {
      "text/html": [
       "<div>\n",
       "<style scoped>\n",
       "    .dataframe tbody tr th:only-of-type {\n",
       "        vertical-align: middle;\n",
       "    }\n",
       "\n",
       "    .dataframe tbody tr th {\n",
       "        vertical-align: top;\n",
       "    }\n",
       "\n",
       "    .dataframe thead th {\n",
       "        text-align: right;\n",
       "    }\n",
       "</style>\n",
       "<table border=\"1\" class=\"dataframe\">\n",
       "  <thead>\n",
       "    <tr style=\"text-align: right;\">\n",
       "      <th></th>\n",
       "      <th>Date</th>\n",
       "      <th>value</th>\n",
       "    </tr>\n",
       "  </thead>\n",
       "  <tbody>\n",
       "    <tr>\n",
       "      <th>333072</th>\n",
       "      <td>2019-06-01 00:00:00</td>\n",
       "      <td>0.000000</td>\n",
       "    </tr>\n",
       "    <tr>\n",
       "      <th>333073</th>\n",
       "      <td>2019-06-01 00:30:00</td>\n",
       "      <td>0.000000</td>\n",
       "    </tr>\n",
       "    <tr>\n",
       "      <th>333074</th>\n",
       "      <td>2019-06-01 01:00:00</td>\n",
       "      <td>0.000000</td>\n",
       "    </tr>\n",
       "    <tr>\n",
       "      <th>333075</th>\n",
       "      <td>2019-06-01 01:30:00</td>\n",
       "      <td>0.000000</td>\n",
       "    </tr>\n",
       "    <tr>\n",
       "      <th>333076</th>\n",
       "      <td>2019-06-01 02:00:00</td>\n",
       "      <td>0.000000</td>\n",
       "    </tr>\n",
       "    <tr>\n",
       "      <th>...</th>\n",
       "      <td>...</td>\n",
       "      <td>...</td>\n",
       "    </tr>\n",
       "    <tr>\n",
       "      <th>334507</th>\n",
       "      <td>2019-06-30 21:30:00</td>\n",
       "      <td>0.012116</td>\n",
       "    </tr>\n",
       "    <tr>\n",
       "      <th>334508</th>\n",
       "      <td>2019-06-30 22:00:00</td>\n",
       "      <td>0.034064</td>\n",
       "    </tr>\n",
       "    <tr>\n",
       "      <th>334509</th>\n",
       "      <td>2019-06-30 22:30:00</td>\n",
       "      <td>0.090474</td>\n",
       "    </tr>\n",
       "    <tr>\n",
       "      <th>334510</th>\n",
       "      <td>2019-06-30 23:00:00</td>\n",
       "      <td>0.189140</td>\n",
       "    </tr>\n",
       "    <tr>\n",
       "      <th>334511</th>\n",
       "      <td>2019-06-30 23:30:00</td>\n",
       "      <td>0.356409</td>\n",
       "    </tr>\n",
       "  </tbody>\n",
       "</table>\n",
       "<p>1440 rows × 2 columns</p>\n",
       "</div>"
      ],
      "text/plain": [
       "                      Date     value\n",
       "333072 2019-06-01 00:00:00  0.000000\n",
       "333073 2019-06-01 00:30:00  0.000000\n",
       "333074 2019-06-01 01:00:00  0.000000\n",
       "333075 2019-06-01 01:30:00  0.000000\n",
       "333076 2019-06-01 02:00:00  0.000000\n",
       "...                    ...       ...\n",
       "334507 2019-06-30 21:30:00  0.012116\n",
       "334508 2019-06-30 22:00:00  0.034064\n",
       "334509 2019-06-30 22:30:00  0.090474\n",
       "334510 2019-06-30 23:00:00  0.189140\n",
       "334511 2019-06-30 23:30:00  0.356409\n",
       "\n",
       "[1440 rows x 2 columns]"
      ]
     },
     "execution_count": 60,
     "metadata": {},
     "output_type": "execute_result"
    }
   ],
   "source": [
    "df19 = df[df['Date'].dt.year == 2019]\n",
    "dfjune = df19[df19['Date'].dt.month == 6]\n",
    "dfjuly = df19[df19['Date'].dt.month == 7]\n",
    "dfjune"
   ]
  },
  {
   "cell_type": "code",
   "execution_count": 61,
   "metadata": {},
   "outputs": [],
   "source": [
    "junemean=dfjune['value'].mean()\n",
    "junestd=dfjune['value'].std()"
   ]
  },
  {
   "cell_type": "code",
   "execution_count": 62,
   "metadata": {},
   "outputs": [],
   "source": [
    "julymean=dfjuly['value'].mean()\n",
    "julystd=dfjuly['value'].std()"
   ]
  },
  {
   "cell_type": "code",
   "execution_count": 63,
   "metadata": {},
   "outputs": [
    {
     "data": {
      "text/plain": [
       "0.535603478553992"
      ]
     },
     "execution_count": 63,
     "metadata": {},
     "output_type": "execute_result"
    }
   ],
   "source": [
    "diffn1 = julymean - junemean\n",
    "diffn1"
   ]
  },
  {
   "cell_type": "code",
   "execution_count": 77,
   "metadata": {},
   "outputs": [],
   "source": [
    "months=[]\n",
    "vec=[]\n",
    "for i in range(1,13):\n",
    "    dff = df19[df19['Date'].dt.month == i]\n",
    "    vec.append(dff['value'].mean())\n",
    "    vec.append(dff['value'].std())\n",
    "    months.append(vec)\n",
    "    vec =[]\n",
    "npar19 = np.asarray(months)"
   ]
  },
  {
   "cell_type": "code",
   "execution_count": 102,
   "metadata": {},
   "outputs": [
    {
     "data": {
      "image/png": "[encoded data removed]",
      "text/plain": [
       "<Figure size 432x288 with 1 Axes>"
      ]
     },
     "metadata": {
      "needs_background": "light"
     },
     "output_type": "display_data"
    },
    {
     "name": "stdout",
     "output_type": "stream",
     "text": [
      "<class 'numpy.float64'>\n"
     ]
    }
   ],
   "source": [
    "dfjan = df[df['Date'].dt.year == 2019]\n",
    "dfjan = dfjan[dfjan['Date'].dt.month == 12]\n",
    "janmean=dfjan['value'].mean()\n",
    "janstd=dfjan['value'].std()\n",
    "\n",
    "bins=30\n",
    "plt.plot(bins, 1/(janstd * np.sqrt(2 * np.pi)) *\n",
    "    np.exp( - (bins - janmean )**2 / (2 * janstd**2) ),       linewidth=3, color='y')\n",
    "plt.show()\n",
    "print(type(janmean))"
   ]
  },
  {
   "cell_type": "code",
   "execution_count": 103,
   "metadata": {},
   "outputs": [
    {
     "name": "stderr",
     "output_type": "stream",
     "text": [
      "C:\\Users\\Yash Damania\\miniconda3\\lib\\site-packages\\seaborn\\distributions.py:2551: FutureWarning: `distplot` is a deprecated function and will be removed in a future version. Please adapt your code to use either `displot` (a figure-level function with similar flexibility) or `histplot` (an axes-level function for histograms).\n",
      "  warnings.warn(msg, FutureWarning)\n"
     ]
    },
    {
     "data": {
      "text/plain": [
       "<module 'seaborn' from 'C:\\\\Users\\\\Yash Damania\\\\miniconda3\\\\lib\\\\site-packages\\\\seaborn\\\\__init__.py'>"
      ]
     },
     "execution_count": 103,
     "metadata": {},
     "output_type": "execute_result"
    },
    {
     "data": {
      "image/png": "[encoded data removed]",
      "text/plain": [
       "<Figure size 432x288 with 1 Axes>"
      ]
     },
     "metadata": {
      "needs_background": "light"
     },
     "output_type": "display_data"
    }
   ],
   "source": [
    "value = np.random.normal(loc=janmean,scale=janstd,size=14880)\n",
    "sns.distplot(value)\n",
    "dfjan['value'].plot.hist()\n",
    "sns"
   ]
  },
  {
   "cell_type": "code",
   "execution_count": 70,
   "metadata": {},
   "outputs": [],
   "source": [
    "df18 = df[df['Date'].dt.year == 2018]\n"
   ]
  },
  {
   "cell_type": "code",
   "execution_count": 75,
   "metadata": {},
   "outputs": [],
   "source": [
    "months18=[]\n",
    "vec=[]\n",
    "for i in range(1,13):\n",
    "    dff = df18[df18['Date'].dt.month == i]\n",
    "    vec.append(dff['value'].mean())\n",
    "    vec.append(dff['value'].std())\n",
    "    months18.append(vec)\n",
    "    vec =[]\n",
    "npar18 = np.asarray(months18)"
   ]
  },
  {
   "cell_type": "code",
   "execution_count": 76,
   "metadata": {},
   "outputs": [
    {
     "data": {
      "text/plain": [
       "array([[2.27055278e-04, 1.89551125e-03],\n",
       "       [8.40202263e-04, 8.05005826e-03],\n",
       "       [6.21016017e-04, 4.32610421e-03],\n",
       "       [9.47820640e-03, 7.32201357e-02],\n",
       "       [2.02320322e-02, 1.38315735e-01],\n",
       "       [3.61245507e-01, 1.19636204e+00],\n",
       "       [6.07640713e-01, 1.41308755e+00],\n",
       "       [3.34687078e-01, 1.10627187e+00],\n",
       "       [7.91140896e-02, 2.57953414e-01],\n",
       "       [3.43016200e-02, 1.71134971e-01],\n",
       "       [1.56804453e-02, 7.89207197e-02],\n",
       "       [7.76114271e-04, 9.40495600e-03]])"
      ]
     },
     "execution_count": 76,
     "metadata": {},
     "output_type": "execute_result"
    }
   ],
   "source": [
    "npar18"
   ]
  },
  {
   "cell_type": "code",
   "execution_count": 81,
   "metadata": {},
   "outputs": [],
   "source": [
    "distt = npar19 - npar18"
   ]
  },
  {
   "cell_type": "code",
   "execution_count": 84,
   "metadata": {},
   "outputs": [],
   "source": [
    "dist = pd.DataFrame(distt,columns=['mean','std'])"
   ]
  },
  {
   "cell_type": "code",
   "execution_count": 88,
   "metadata": {},
   "outputs": [
    {
     "data": {
      "text/html": [
       "<style  type=\"text/css\" >\n",
       "#T_0c2dd1de_2fd2_11eb_8c20_ee7c6ffb4058row0_col0,#T_0c2dd1de_2fd2_11eb_8c20_ee7c6ffb4058row1_col0,#T_0c2dd1de_2fd2_11eb_8c20_ee7c6ffb4058row2_col0{\n",
       "            background-color:  #d8ead8;\n",
       "            color:  #000000;\n",
       "        }#T_0c2dd1de_2fd2_11eb_8c20_ee7c6ffb4058row0_col1,#T_0c2dd1de_2fd2_11eb_8c20_ee7c6ffb4058row2_col1{\n",
       "            background-color:  #c1dfc1;\n",
       "            color:  #000000;\n",
       "        }#T_0c2dd1de_2fd2_11eb_8c20_ee7c6ffb4058row1_col1{\n",
       "            background-color:  #c2dfc2;\n",
       "            color:  #000000;\n",
       "        }#T_0c2dd1de_2fd2_11eb_8c20_ee7c6ffb4058row3_col0{\n",
       "            background-color:  #d5e9d5;\n",
       "            color:  #000000;\n",
       "        }#T_0c2dd1de_2fd2_11eb_8c20_ee7c6ffb4058row3_col1{\n",
       "            background-color:  #beddbe;\n",
       "            color:  #000000;\n",
       "        }#T_0c2dd1de_2fd2_11eb_8c20_ee7c6ffb4058row4_col0{\n",
       "            background-color:  #dfeddf;\n",
       "            color:  #000000;\n",
       "        }#T_0c2dd1de_2fd2_11eb_8c20_ee7c6ffb4058row4_col1{\n",
       "            background-color:  #d0e6d0;\n",
       "            color:  #000000;\n",
       "        }#T_0c2dd1de_2fd2_11eb_8c20_ee7c6ffb4058row5_col0,#T_0c2dd1de_2fd2_11eb_8c20_ee7c6ffb4058row5_col1{\n",
       "            background-color:  #ebf3eb;\n",
       "            color:  #000000;\n",
       "        }#T_0c2dd1de_2fd2_11eb_8c20_ee7c6ffb4058row6_col0{\n",
       "            background-color:  #86c286;\n",
       "            color:  #000000;\n",
       "        }#T_0c2dd1de_2fd2_11eb_8c20_ee7c6ffb4058row6_col1{\n",
       "            background-color:  #b9dbb9;\n",
       "            color:  #000000;\n",
       "        }#T_0c2dd1de_2fd2_11eb_8c20_ee7c6ffb4058row7_col0{\n",
       "            background-color:  #a6d2a6;\n",
       "            color:  #000000;\n",
       "        }#T_0c2dd1de_2fd2_11eb_8c20_ee7c6ffb4058row7_col1{\n",
       "            background-color:  #a8d2a8;\n",
       "            color:  #000000;\n",
       "        }#T_0c2dd1de_2fd2_11eb_8c20_ee7c6ffb4058row8_col0,#T_0c2dd1de_2fd2_11eb_8c20_ee7c6ffb4058row8_col1{\n",
       "            background-color:  #008000;\n",
       "            color:  #f1f1f1;\n",
       "        }#T_0c2dd1de_2fd2_11eb_8c20_ee7c6ffb4058row9_col0{\n",
       "            background-color:  #80bf80;\n",
       "            color:  #000000;\n",
       "        }#T_0c2dd1de_2fd2_11eb_8c20_ee7c6ffb4058row9_col1{\n",
       "            background-color:  #81bf81;\n",
       "            color:  #000000;\n",
       "        }#T_0c2dd1de_2fd2_11eb_8c20_ee7c6ffb4058row10_col0{\n",
       "            background-color:  #cde5cd;\n",
       "            color:  #000000;\n",
       "        }#T_0c2dd1de_2fd2_11eb_8c20_ee7c6ffb4058row10_col1{\n",
       "            background-color:  #b0d6b0;\n",
       "            color:  #000000;\n",
       "        }#T_0c2dd1de_2fd2_11eb_8c20_ee7c6ffb4058row11_col0{\n",
       "            background-color:  #d7e9d7;\n",
       "            color:  #000000;\n",
       "        }#T_0c2dd1de_2fd2_11eb_8c20_ee7c6ffb4058row11_col1{\n",
       "            background-color:  #c0dec0;\n",
       "            color:  #000000;\n",
       "        }</style><table id=\"T_0c2dd1de_2fd2_11eb_8c20_ee7c6ffb4058\" ><thead>    <tr>        <th class=\"blank level0\" ></th>        <th class=\"col_heading level0 col0\" >mean</th>        <th class=\"col_heading level0 col1\" >std</th>    </tr></thead><tbody>\n",
       "                <tr>\n",
       "                        <th id=\"T_0c2dd1de_2fd2_11eb_8c20_ee7c6ffb4058level0_row0\" class=\"row_heading level0 row0\" >0</th>\n",
       "                        <td id=\"T_0c2dd1de_2fd2_11eb_8c20_ee7c6ffb4058row0_col0\" class=\"data row0 col0\" >-0.0001063178</td>\n",
       "                        <td id=\"T_0c2dd1de_2fd2_11eb_8c20_ee7c6ffb4058row0_col1\" class=\"data row0 col1\" >-0.0002251714</td>\n",
       "            </tr>\n",
       "            <tr>\n",
       "                        <th id=\"T_0c2dd1de_2fd2_11eb_8c20_ee7c6ffb4058level0_row1\" class=\"row_heading level0 row1\" >1</th>\n",
       "                        <td id=\"T_0c2dd1de_2fd2_11eb_8c20_ee7c6ffb4058row1_col0\" class=\"data row1 col0\" >-0.0007938030</td>\n",
       "                        <td id=\"T_0c2dd1de_2fd2_11eb_8c20_ee7c6ffb4058row1_col1\" class=\"data row1 col1\" >-0.0076976266</td>\n",
       "            </tr>\n",
       "            <tr>\n",
       "                        <th id=\"T_0c2dd1de_2fd2_11eb_8c20_ee7c6ffb4058level0_row2\" class=\"row_heading level0 row2\" >2</th>\n",
       "                        <td id=\"T_0c2dd1de_2fd2_11eb_8c20_ee7c6ffb4058row2_col0\" class=\"data row2 col0\" >-0.0005204730</td>\n",
       "                        <td id=\"T_0c2dd1de_2fd2_11eb_8c20_ee7c6ffb4058row2_col1\" class=\"data row2 col1\" >-0.0036597899</td>\n",
       "            </tr>\n",
       "            <tr>\n",
       "                        <th id=\"T_0c2dd1de_2fd2_11eb_8c20_ee7c6ffb4058level0_row3\" class=\"row_heading level0 row3\" >3</th>\n",
       "                        <td id=\"T_0c2dd1de_2fd2_11eb_8c20_ee7c6ffb4058row3_col0\" class=\"data row3 col0\" >0.0071881485</td>\n",
       "                        <td id=\"T_0c2dd1de_2fd2_11eb_8c20_ee7c6ffb4058row3_col1\" class=\"data row3 col1\" >0.0249109172</td>\n",
       "            </tr>\n",
       "            <tr>\n",
       "                        <th id=\"T_0c2dd1de_2fd2_11eb_8c20_ee7c6ffb4058level0_row4\" class=\"row_heading level0 row4\" >4</th>\n",
       "                        <td id=\"T_0c2dd1de_2fd2_11eb_8c20_ee7c6ffb4058row4_col0\" class=\"data row4 col0\" >-0.0199674546</td>\n",
       "                        <td id=\"T_0c2dd1de_2fd2_11eb_8c20_ee7c6ffb4058row4_col1\" class=\"data row4 col1\" >-0.1356818444</td>\n",
       "            </tr>\n",
       "            <tr>\n",
       "                        <th id=\"T_0c2dd1de_2fd2_11eb_8c20_ee7c6ffb4058level0_row5\" class=\"row_heading level0 row5\" >5</th>\n",
       "                        <td id=\"T_0c2dd1de_2fd2_11eb_8c20_ee7c6ffb4058row5_col0\" class=\"data row5 col0\" >-0.0549481472</td>\n",
       "                        <td id=\"T_0c2dd1de_2fd2_11eb_8c20_ee7c6ffb4058row5_col1\" class=\"data row5 col1\" >-0.3838719974</td>\n",
       "            </tr>\n",
       "            <tr>\n",
       "                        <th id=\"T_0c2dd1de_2fd2_11eb_8c20_ee7c6ffb4058level0_row6\" class=\"row_heading level0 row6\" >6</th>\n",
       "                        <td id=\"T_0c2dd1de_2fd2_11eb_8c20_ee7c6ffb4058row6_col0\" class=\"data row6 col0\" >0.2342601257</td>\n",
       "                        <td id=\"T_0c2dd1de_2fd2_11eb_8c20_ee7c6ffb4058row6_col1\" class=\"data row6 col1\" >0.0722434619</td>\n",
       "            </tr>\n",
       "            <tr>\n",
       "                        <th id=\"T_0c2dd1de_2fd2_11eb_8c20_ee7c6ffb4058level0_row7\" class=\"row_heading level0 row7\" >7</th>\n",
       "                        <td id=\"T_0c2dd1de_2fd2_11eb_8c20_ee7c6ffb4058row7_col0\" class=\"data row7 col0\" >0.1435381059</td>\n",
       "                        <td id=\"T_0c2dd1de_2fd2_11eb_8c20_ee7c6ffb4058row7_col1\" class=\"data row7 col1\" >0.2273345705</td>\n",
       "            </tr>\n",
       "            <tr>\n",
       "                        <th id=\"T_0c2dd1de_2fd2_11eb_8c20_ee7c6ffb4058level0_row8\" class=\"row_heading level0 row8\" >8</th>\n",
       "                        <td id=\"T_0c2dd1de_2fd2_11eb_8c20_ee7c6ffb4058row8_col0\" class=\"data row8 col0\" >0.6235964913</td>\n",
       "                        <td id=\"T_0c2dd1de_2fd2_11eb_8c20_ee7c6ffb4058row8_col1\" class=\"data row8 col1\" >1.7784463846</td>\n",
       "            </tr>\n",
       "            <tr>\n",
       "                        <th id=\"T_0c2dd1de_2fd2_11eb_8c20_ee7c6ffb4058level0_row9\" class=\"row_heading level0 row9\" >9</th>\n",
       "                        <td id=\"T_0c2dd1de_2fd2_11eb_8c20_ee7c6ffb4058row9_col0\" class=\"data row9 col0\" >0.2539382470</td>\n",
       "                        <td id=\"T_0c2dd1de_2fd2_11eb_8c20_ee7c6ffb4058row9_col1\" class=\"data row9 col1\" >0.5952363286</td>\n",
       "            </tr>\n",
       "            <tr>\n",
       "                        <th id=\"T_0c2dd1de_2fd2_11eb_8c20_ee7c6ffb4058level0_row10\" class=\"row_heading level0 row10\" >10</th>\n",
       "                        <td id=\"T_0c2dd1de_2fd2_11eb_8c20_ee7c6ffb4058row10_col0\" class=\"data row10 col0\" >0.0315052885</td>\n",
       "                        <td id=\"T_0c2dd1de_2fd2_11eb_8c20_ee7c6ffb4058row10_col1\" class=\"data row10 col1\" >0.1586427541</td>\n",
       "            </tr>\n",
       "            <tr>\n",
       "                        <th id=\"T_0c2dd1de_2fd2_11eb_8c20_ee7c6ffb4058level0_row11\" class=\"row_heading level0 row11\" >11</th>\n",
       "                        <td id=\"T_0c2dd1de_2fd2_11eb_8c20_ee7c6ffb4058row11_col0\" class=\"data row11 col0\" >0.0019655571</td>\n",
       "                        <td id=\"T_0c2dd1de_2fd2_11eb_8c20_ee7c6ffb4058row11_col1\" class=\"data row11 col1\" >0.0052302434</td>\n",
       "            </tr>\n",
       "    </tbody></table>"
      ],
      "text/plain": [
       "<pandas.io.formats.style.Styler at 0x15a232e1e80>"
      ]
     },
     "execution_count": 88,
     "metadata": {},
     "output_type": "execute_result"
    }
   ],
   "source": [
    "dist\n",
    "cm = sns.light_palette(\"green\", as_cmap=True) \n",
    "dist.style.background_gradient(cmap=cm).set_precision(10)"
   ]
  },
  {
   "cell_type": "code",
   "execution_count": null,
   "metadata": {},
   "outputs": [],
   "source": []
  }
 ],
 "metadata": {
  "kernelspec": {
   "display_name": "Python 3",
   "language": "python",
   "name": "python3"
  },
  "language_info": {
   "codemirror_mode": {
    "name": "ipython",
    "version": 3
   },
   "file_extension": ".py",
   "mimetype": "text/x-python",
   "name": "python",
   "nbconvert_exporter": "python",
   "pygments_lexer": "ipython3",
   "version": "3.8.5"
  }
 },
 "nbformat": 4,
 "nbformat_minor": 4
}
