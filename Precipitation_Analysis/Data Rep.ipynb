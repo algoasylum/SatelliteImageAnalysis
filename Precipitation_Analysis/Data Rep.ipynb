{
 "cells": [
  {
   "cell_type": "code",
   "execution_count": 1,
   "metadata": {},
   "outputs": [],
   "source": [
    "import numpy as np\n",
    "import pandas as pd\n",
    "import seaborn as sns\n",
    "import matplotlib.pyplot as plt\n",
    "import plotly.express as px\n",
    "import plotly.figure_factory as ff\n",
    "from scipy import fftpack"
   ]
  },
  {
   "cell_type": "code",
   "execution_count": 2,
   "metadata": {},
   "outputs": [],
   "source": [
    "data = pd.read_csv('Precipitation data(csv)/Preci19.csv')"
   ]
  },
  {
   "cell_type": "code",
   "execution_count": 4,
   "metadata": {},
   "outputs": [
    {
     "data": {
      "text/html": [
       "<div>\n",
       "<style scoped>\n",
       "    .dataframe tbody tr th:only-of-type {\n",
       "        vertical-align: middle;\n",
       "    }\n",
       "\n",
       "    .dataframe tbody tr th {\n",
       "        vertical-align: top;\n",
       "    }\n",
       "\n",
       "    .dataframe thead th {\n",
       "        text-align: right;\n",
       "    }\n",
       "</style>\n",
       "<table border=\"1\" class=\"dataframe\">\n",
       "  <thead>\n",
       "    <tr style=\"text-align: right;\">\n",
       "      <th></th>\n",
       "      <th>Date</th>\n",
       "      <th>precipitationCal</th>\n",
       "    </tr>\n",
       "  </thead>\n",
       "  <tbody>\n",
       "    <tr>\n",
       "      <th>0</th>\n",
       "      <td>2019-06-01 00:00:00</td>\n",
       "      <td>0.000</td>\n",
       "    </tr>\n",
       "    <tr>\n",
       "      <th>1</th>\n",
       "      <td>2019-06-01 00:30:00</td>\n",
       "      <td>0.000</td>\n",
       "    </tr>\n",
       "    <tr>\n",
       "      <th>2</th>\n",
       "      <td>2019-06-01 01:00:00</td>\n",
       "      <td>0.000</td>\n",
       "    </tr>\n",
       "    <tr>\n",
       "      <th>3</th>\n",
       "      <td>2019-06-01 01:30:00</td>\n",
       "      <td>0.000</td>\n",
       "    </tr>\n",
       "    <tr>\n",
       "      <th>4</th>\n",
       "      <td>2019-06-01 02:00:00</td>\n",
       "      <td>0.000</td>\n",
       "    </tr>\n",
       "    <tr>\n",
       "      <th>...</th>\n",
       "      <td>...</td>\n",
       "      <td>...</td>\n",
       "    </tr>\n",
       "    <tr>\n",
       "      <th>4411</th>\n",
       "      <td>2019-08-31 21:30:00</td>\n",
       "      <td>0.254</td>\n",
       "    </tr>\n",
       "    <tr>\n",
       "      <th>4412</th>\n",
       "      <td>2019-08-31 22:00:00</td>\n",
       "      <td>0.148</td>\n",
       "    </tr>\n",
       "    <tr>\n",
       "      <th>4413</th>\n",
       "      <td>2019-08-31 22:30:00</td>\n",
       "      <td>0.111</td>\n",
       "    </tr>\n",
       "    <tr>\n",
       "      <th>4414</th>\n",
       "      <td>2019-08-31 23:00:00</td>\n",
       "      <td>0.078</td>\n",
       "    </tr>\n",
       "    <tr>\n",
       "      <th>4415</th>\n",
       "      <td>2019-08-31 23:30:00</td>\n",
       "      <td>0.092</td>\n",
       "    </tr>\n",
       "  </tbody>\n",
       "</table>\n",
       "<p>4416 rows × 2 columns</p>\n",
       "</div>"
      ],
      "text/plain": [
       "                     Date  precipitationCal\n",
       "0     2019-06-01 00:00:00             0.000\n",
       "1     2019-06-01 00:30:00             0.000\n",
       "2     2019-06-01 01:00:00             0.000\n",
       "3     2019-06-01 01:30:00             0.000\n",
       "4     2019-06-01 02:00:00             0.000\n",
       "...                   ...               ...\n",
       "4411  2019-08-31 21:30:00             0.254\n",
       "4412  2019-08-31 22:00:00             0.148\n",
       "4413  2019-08-31 22:30:00             0.111\n",
       "4414  2019-08-31 23:00:00             0.078\n",
       "4415  2019-08-31 23:30:00             0.092\n",
       "\n",
       "[4416 rows x 2 columns]"
      ]
     },
     "execution_count": 4,
     "metadata": {},
     "output_type": "execute_result"
    }
   ],
   "source": [
    "del data['Unnamed: 0'], data['Month_name']\n",
    "data"
   ]
  },
  {
   "cell_type": "code",
   "execution_count": 5,
   "metadata": {},
   "outputs": [
    {
     "data": {
      "text/plain": [
       "str"
      ]
     },
     "execution_count": 5,
     "metadata": {},
     "output_type": "execute_result"
    }
   ],
   "source": [
    "type(data['Date'][0])"
   ]
  },
  {
   "cell_type": "code",
   "execution_count": 6,
   "metadata": {},
   "outputs": [
    {
     "data": {
      "text/html": [
       "<div>\n",
       "<style scoped>\n",
       "    .dataframe tbody tr th:only-of-type {\n",
       "        vertical-align: middle;\n",
       "    }\n",
       "\n",
       "    .dataframe tbody tr th {\n",
       "        vertical-align: top;\n",
       "    }\n",
       "\n",
       "    .dataframe thead th {\n",
       "        text-align: right;\n",
       "    }\n",
       "</style>\n",
       "<table border=\"1\" class=\"dataframe\">\n",
       "  <thead>\n",
       "    <tr style=\"text-align: right;\">\n",
       "      <th></th>\n",
       "      <th>precipitationCal</th>\n",
       "    </tr>\n",
       "    <tr>\n",
       "      <th>Date</th>\n",
       "      <th></th>\n",
       "    </tr>\n",
       "  </thead>\n",
       "  <tbody>\n",
       "    <tr>\n",
       "      <th>2019-06-01</th>\n",
       "      <td>0.047</td>\n",
       "    </tr>\n",
       "    <tr>\n",
       "      <th>2019-06-02</th>\n",
       "      <td>3.125</td>\n",
       "    </tr>\n",
       "    <tr>\n",
       "      <th>2019-06-03</th>\n",
       "      <td>0.211</td>\n",
       "    </tr>\n",
       "    <tr>\n",
       "      <th>2019-06-04</th>\n",
       "      <td>0.676</td>\n",
       "    </tr>\n",
       "    <tr>\n",
       "      <th>2019-06-05</th>\n",
       "      <td>0.030</td>\n",
       "    </tr>\n",
       "    <tr>\n",
       "      <th>...</th>\n",
       "      <td>...</td>\n",
       "    </tr>\n",
       "    <tr>\n",
       "      <th>2019-08-27</th>\n",
       "      <td>0.557</td>\n",
       "    </tr>\n",
       "    <tr>\n",
       "      <th>2019-08-28</th>\n",
       "      <td>0.284</td>\n",
       "    </tr>\n",
       "    <tr>\n",
       "      <th>2019-08-29</th>\n",
       "      <td>4.575</td>\n",
       "    </tr>\n",
       "    <tr>\n",
       "      <th>2019-08-30</th>\n",
       "      <td>28.467</td>\n",
       "    </tr>\n",
       "    <tr>\n",
       "      <th>2019-08-31</th>\n",
       "      <td>42.324</td>\n",
       "    </tr>\n",
       "  </tbody>\n",
       "</table>\n",
       "<p>92 rows × 1 columns</p>\n",
       "</div>"
      ],
      "text/plain": [
       "            precipitationCal\n",
       "Date                        \n",
       "2019-06-01             0.047\n",
       "2019-06-02             3.125\n",
       "2019-06-03             0.211\n",
       "2019-06-04             0.676\n",
       "2019-06-05             0.030\n",
       "...                      ...\n",
       "2019-08-27             0.557\n",
       "2019-08-28             0.284\n",
       "2019-08-29             4.575\n",
       "2019-08-30            28.467\n",
       "2019-08-31            42.324\n",
       "\n",
       "[92 rows x 1 columns]"
      ]
     },
     "execution_count": 6,
     "metadata": {},
     "output_type": "execute_result"
    }
   ],
   "source": [
    "data['Date'] = pd.to_datetime(data['Date'])\n",
    "data.set_index(\"Date\", inplace = True)\n",
    "date1 = data.resample('D').sum()\n",
    "date1"
   ]
  },
  {
   "cell_type": "code",
   "execution_count": 7,
   "metadata": {},
   "outputs": [
    {
     "data": {
      "text/html": [
       "<div>\n",
       "<style scoped>\n",
       "    .dataframe tbody tr th:only-of-type {\n",
       "        vertical-align: middle;\n",
       "    }\n",
       "\n",
       "    .dataframe tbody tr th {\n",
       "        vertical-align: top;\n",
       "    }\n",
       "\n",
       "    .dataframe thead th {\n",
       "        text-align: right;\n",
       "    }\n",
       "</style>\n",
       "<table border=\"1\" class=\"dataframe\">\n",
       "  <thead>\n",
       "    <tr style=\"text-align: right;\">\n",
       "      <th></th>\n",
       "      <th>Date</th>\n",
       "      <th>precipitationCal</th>\n",
       "    </tr>\n",
       "  </thead>\n",
       "  <tbody>\n",
       "    <tr>\n",
       "      <th>0</th>\n",
       "      <td>2019-06-01</td>\n",
       "      <td>0.047</td>\n",
       "    </tr>\n",
       "    <tr>\n",
       "      <th>1</th>\n",
       "      <td>2019-06-02</td>\n",
       "      <td>3.125</td>\n",
       "    </tr>\n",
       "    <tr>\n",
       "      <th>2</th>\n",
       "      <td>2019-06-03</td>\n",
       "      <td>0.211</td>\n",
       "    </tr>\n",
       "    <tr>\n",
       "      <th>3</th>\n",
       "      <td>2019-06-04</td>\n",
       "      <td>0.676</td>\n",
       "    </tr>\n",
       "    <tr>\n",
       "      <th>4</th>\n",
       "      <td>2019-06-05</td>\n",
       "      <td>0.030</td>\n",
       "    </tr>\n",
       "    <tr>\n",
       "      <th>...</th>\n",
       "      <td>...</td>\n",
       "      <td>...</td>\n",
       "    </tr>\n",
       "    <tr>\n",
       "      <th>87</th>\n",
       "      <td>2019-08-27</td>\n",
       "      <td>0.557</td>\n",
       "    </tr>\n",
       "    <tr>\n",
       "      <th>88</th>\n",
       "      <td>2019-08-28</td>\n",
       "      <td>0.284</td>\n",
       "    </tr>\n",
       "    <tr>\n",
       "      <th>89</th>\n",
       "      <td>2019-08-29</td>\n",
       "      <td>4.575</td>\n",
       "    </tr>\n",
       "    <tr>\n",
       "      <th>90</th>\n",
       "      <td>2019-08-30</td>\n",
       "      <td>28.467</td>\n",
       "    </tr>\n",
       "    <tr>\n",
       "      <th>91</th>\n",
       "      <td>2019-08-31</td>\n",
       "      <td>42.324</td>\n",
       "    </tr>\n",
       "  </tbody>\n",
       "</table>\n",
       "<p>92 rows × 2 columns</p>\n",
       "</div>"
      ],
      "text/plain": [
       "         Date  precipitationCal\n",
       "0  2019-06-01             0.047\n",
       "1  2019-06-02             3.125\n",
       "2  2019-06-03             0.211\n",
       "3  2019-06-04             0.676\n",
       "4  2019-06-05             0.030\n",
       "..        ...               ...\n",
       "87 2019-08-27             0.557\n",
       "88 2019-08-28             0.284\n",
       "89 2019-08-29             4.575\n",
       "90 2019-08-30            28.467\n",
       "91 2019-08-31            42.324\n",
       "\n",
       "[92 rows x 2 columns]"
      ]
     },
     "execution_count": 7,
     "metadata": {},
     "output_type": "execute_result"
    }
   ],
   "source": [
    "data_day19 = date1.reset_index()\n",
    "data_day19"
   ]
  },
  {
   "cell_type": "code",
   "execution_count": 8,
   "metadata": {},
   "outputs": [],
   "source": [
    "data_day19.to_csv('Daywise_19.csv')"
   ]
  },
  {
   "cell_type": "code",
   "execution_count": 9,
   "metadata": {},
   "outputs": [
    {
     "data": {
      "text/plain": [
       "count     92.000000\n",
       "mean      26.131565\n",
       "std       41.754925\n",
       "min        0.003000\n",
       "25%        0.743000\n",
       "50%        4.755500\n",
       "75%       35.809000\n",
       "max      232.675000\n",
       "Name: precipitationCal, dtype: float64"
      ]
     },
     "execution_count": 9,
     "metadata": {},
     "output_type": "execute_result"
    }
   ],
   "source": [
    "data_day19['precipitationCal'].describe()"
   ]
  },
  {
   "cell_type": "code",
   "execution_count": 15,
   "metadata": {},
   "outputs": [
    {
     "data": {
      "image/png": "[encoded data removed]",
      "text/plain": [
       "<Figure size 720x504 with 1 Axes>"
      ]
     },
     "metadata": {
      "needs_background": "light"
     },
     "output_type": "display_data"
    }
   ],
   "source": [
    "fig, ax = plt.subplots(figsize =(10, 7)) \n",
    "ax.hist(data_day19['precipitationCal'], bins = [0, 20, 40, 60, 80, 100, 120, 140, 160, 180, 200, 220,240]) \n",
    "plt.show()"
   ]
  },
  {
   "cell_type": "code",
   "execution_count": 17,
   "metadata": {},
   "outputs": [],
   "source": [
    "y = data_day19['precipitationCal']\n",
    "y = list(y)"
   ]
  },
  {
   "cell_type": "code",
   "execution_count": 38,
   "metadata": {},
   "outputs": [
    {
     "name": "stderr",
     "output_type": "stream",
     "text": [
      "C:\\Users\\Yash\\Anaconda3\\lib\\site-packages\\ipykernel_launcher.py:7: UserWarning: In Matplotlib 3.3 individual lines on a stem plot will be added as a LineCollection instead of individual lines. This significantly improves the performance of a stem plot. To remove this warning and switch to the new behaviour, set the \"use_line_collection\" keyword argument to True.\n",
      "  import sys\n"
     ]
    },
    {
     "data": {
      "text/plain": [
       "<StemContainer object of 3 artists>"
      ]
     },
     "execution_count": 38,
     "metadata": {},
     "output_type": "execute_result"
    },
    {
     "data": {
      "image/png": "[encoded data removed]",
      "text/plain": [
       "<Figure size 1080x360 with 2 Axes>"
      ]
     },
     "metadata": {
      "needs_background": "light"
     },
     "output_type": "display_data"
    }
   ],
   "source": [
    "f_s = 1\n",
    "t = np.arange(0,92,1/Fs)\n",
    "Y = fftpack.fft(y)\n",
    "freqs = fftpack.fftfreq(len(y)) * f_s\n",
    "fig, ax = plt.subplots(nrows=1, ncols=2, figsize=(15,5))\n",
    "ax[0].plot(t, y)    # plot time series\n",
    "ax[1].stem(freqs,np.abs(Y)) # plot freq"
   ]
  },
  {
   "cell_type": "code",
   "execution_count": 31,
   "metadata": {},
   "outputs": [
    {
     "data": {
      "text/plain": [
       "array([ 0.        ,  0.01086957,  0.02173913,  0.0326087 ,  0.04347826,\n",
       "        0.05434783,  0.06521739,  0.07608696,  0.08695652,  0.09782609,\n",
       "        0.10869565,  0.11956522,  0.13043478,  0.14130435,  0.15217391,\n",
       "        0.16304348,  0.17391304,  0.18478261,  0.19565217,  0.20652174,\n",
       "        0.2173913 ,  0.22826087,  0.23913043,  0.25      ,  0.26086957,\n",
       "        0.27173913,  0.2826087 ,  0.29347826,  0.30434783,  0.31521739,\n",
       "        0.32608696,  0.33695652,  0.34782609,  0.35869565,  0.36956522,\n",
       "        0.38043478,  0.39130435,  0.40217391,  0.41304348,  0.42391304,\n",
       "        0.43478261,  0.44565217,  0.45652174,  0.4673913 ,  0.47826087,\n",
       "        0.48913043, -0.5       , -0.48913043, -0.47826087, -0.4673913 ,\n",
       "       -0.45652174, -0.44565217, -0.43478261, -0.42391304, -0.41304348,\n",
       "       -0.40217391, -0.39130435, -0.38043478, -0.36956522, -0.35869565,\n",
       "       -0.34782609, -0.33695652, -0.32608696, -0.31521739, -0.30434783,\n",
       "       -0.29347826, -0.2826087 , -0.27173913, -0.26086957, -0.25      ,\n",
       "       -0.23913043, -0.22826087, -0.2173913 , -0.20652174, -0.19565217,\n",
       "       -0.18478261, -0.17391304, -0.16304348, -0.15217391, -0.14130435,\n",
       "       -0.13043478, -0.11956522, -0.10869565, -0.09782609, -0.08695652,\n",
       "       -0.07608696, -0.06521739, -0.05434783, -0.04347826, -0.0326087 ,\n",
       "       -0.02173913, -0.01086957])"
      ]
     },
     "execution_count": 31,
     "metadata": {},
     "output_type": "execute_result"
    }
   ],
   "source": [
    "freqs"
   ]
  },
  {
   "cell_type": "code",
   "execution_count": 35,
   "metadata": {},
   "outputs": [
    {
     "data": {
      "text/plain": [
       "array([2404.104     , 1090.62267585,  817.20134233, 1130.58197507,\n",
       "        429.70335737,  222.03759393,  243.79682215,  257.09883594,\n",
       "        257.89512936,  482.80877044,  653.69974281,  482.06698556,\n",
       "        208.74058196,  431.2432912 ,  192.29016197,  211.11452934,\n",
       "         71.19610355,  286.74718255,  438.51531398,  272.50716   ,\n",
       "        607.72928093,  190.18509486,  337.55090038,  342.27072939,\n",
       "        105.87919046,  248.59316739,  197.0270772 ,  210.02169253,\n",
       "        262.69184685,  462.66699947,  482.99883981,  274.39919358,\n",
       "        130.74727626,  115.06662118,  130.38655045,  168.7795771 ,\n",
       "        118.66155856,  165.78699905,  322.65022275,  134.46260948,\n",
       "        254.29757229,  447.52328333,  120.99732762,  247.78800829,\n",
       "        351.5803966 ,  300.56162986,   22.778     ,  300.56162986,\n",
       "        351.5803966 ,  247.78800829,  120.99732762,  447.52328333,\n",
       "        254.29757229,  134.46260948,  322.65022275,  165.78699905,\n",
       "        118.66155856,  168.7795771 ,  130.38655045,  115.06662118,\n",
       "        130.74727626,  274.39919358,  482.99883981,  462.66699947,\n",
       "        262.69184685,  210.02169253,  197.0270772 ,  248.59316739,\n",
       "        105.87919046,  342.27072939,  337.55090038,  190.18509486,\n",
       "        607.72928093,  272.50716   ,  438.51531398,  286.74718255,\n",
       "         71.19610355,  211.11452934,  192.29016197,  431.2432912 ,\n",
       "        208.74058196,  482.06698556,  653.69974281,  482.80877044,\n",
       "        257.89512936,  257.09883594,  243.79682215,  222.03759393,\n",
       "        429.70335737, 1130.58197507,  817.20134233, 1090.62267585])"
      ]
     },
     "execution_count": 35,
     "metadata": {},
     "output_type": "execute_result"
    }
   ],
   "source": [
    "np.abs(Y)"
   ]
  },
  {
   "cell_type": "code",
   "execution_count": 39,
   "metadata": {
    "scrolled": true
   },
   "outputs": [
    {
     "data": {
      "text/html": [
       "<div>\n",
       "<style scoped>\n",
       "    .dataframe tbody tr th:only-of-type {\n",
       "        vertical-align: middle;\n",
       "    }\n",
       "\n",
       "    .dataframe tbody tr th {\n",
       "        vertical-align: top;\n",
       "    }\n",
       "\n",
       "    .dataframe thead th {\n",
       "        text-align: right;\n",
       "    }\n",
       "</style>\n",
       "<table border=\"1\" class=\"dataframe\">\n",
       "  <thead>\n",
       "    <tr style=\"text-align: right;\">\n",
       "      <th></th>\n",
       "      <th>Freq</th>\n",
       "      <th>Amplitude</th>\n",
       "    </tr>\n",
       "  </thead>\n",
       "  <tbody>\n",
       "    <tr>\n",
       "      <th>0</th>\n",
       "      <td>0.000000</td>\n",
       "      <td>2404.104000</td>\n",
       "    </tr>\n",
       "    <tr>\n",
       "      <th>1</th>\n",
       "      <td>0.010870</td>\n",
       "      <td>1090.622676</td>\n",
       "    </tr>\n",
       "    <tr>\n",
       "      <th>2</th>\n",
       "      <td>0.021739</td>\n",
       "      <td>817.201342</td>\n",
       "    </tr>\n",
       "    <tr>\n",
       "      <th>3</th>\n",
       "      <td>0.032609</td>\n",
       "      <td>1130.581975</td>\n",
       "    </tr>\n",
       "    <tr>\n",
       "      <th>4</th>\n",
       "      <td>0.043478</td>\n",
       "      <td>429.703357</td>\n",
       "    </tr>\n",
       "    <tr>\n",
       "      <th>...</th>\n",
       "      <td>...</td>\n",
       "      <td>...</td>\n",
       "    </tr>\n",
       "    <tr>\n",
       "      <th>87</th>\n",
       "      <td>-0.054348</td>\n",
       "      <td>222.037594</td>\n",
       "    </tr>\n",
       "    <tr>\n",
       "      <th>88</th>\n",
       "      <td>-0.043478</td>\n",
       "      <td>429.703357</td>\n",
       "    </tr>\n",
       "    <tr>\n",
       "      <th>89</th>\n",
       "      <td>-0.032609</td>\n",
       "      <td>1130.581975</td>\n",
       "    </tr>\n",
       "    <tr>\n",
       "      <th>90</th>\n",
       "      <td>-0.021739</td>\n",
       "      <td>817.201342</td>\n",
       "    </tr>\n",
       "    <tr>\n",
       "      <th>91</th>\n",
       "      <td>-0.010870</td>\n",
       "      <td>1090.622676</td>\n",
       "    </tr>\n",
       "  </tbody>\n",
       "</table>\n",
       "<p>92 rows × 2 columns</p>\n",
       "</div>"
      ],
      "text/plain": [
       "        Freq    Amplitude\n",
       "0   0.000000  2404.104000\n",
       "1   0.010870  1090.622676\n",
       "2   0.021739   817.201342\n",
       "3   0.032609  1130.581975\n",
       "4   0.043478   429.703357\n",
       "..       ...          ...\n",
       "87 -0.054348   222.037594\n",
       "88 -0.043478   429.703357\n",
       "89 -0.032609  1130.581975\n",
       "90 -0.021739   817.201342\n",
       "91 -0.010870  1090.622676\n",
       "\n",
       "[92 rows x 2 columns]"
      ]
     },
     "execution_count": 39,
     "metadata": {},
     "output_type": "execute_result"
    }
   ],
   "source": [
    "df = pd.DataFrame(list(zip(freqs, np.abs(Y))),columns =['Freq', 'Amplitude']) \n",
    "df "
   ]
  },
  {
   "cell_type": "code",
   "execution_count": 40,
   "metadata": {},
   "outputs": [],
   "source": [
    "df.to_csv('Fourier_Ampli_data.csv')"
   ]
  },
  {
   "cell_type": "code",
   "execution_count": 41,
   "metadata": {},
   "outputs": [],
   "source": [
    "temp_fft = fftpack.fft(y)\n",
    "temp_psd = np.abs(temp_fft) ** 2\n",
    "fftfreq = fftpack.fftfreq(len(temp_psd), 1. / 92)\n",
    "i = fftfreq > 0"
   ]
  },
  {
   "cell_type": "code",
   "execution_count": 53,
   "metadata": {},
   "outputs": [
    {
     "data": {
      "text/plain": [
       "Text(0, 0.5, 'log')"
      ]
     },
     "execution_count": 53,
     "metadata": {},
     "output_type": "execute_result"
    },
    {
     "data": {
      "image/png": "[encoded data removed]",
      "text/plain": [
       "<Figure size 720x288 with 1 Axes>"
      ]
     },
     "metadata": {
      "needs_background": "light"
     },
     "output_type": "display_data"
    }
   ],
   "source": [
    "fig, ax = plt.subplots(1, 1, figsize=(10, 4))\n",
    "ax.plot(fftfreq, np.log(temp_psd))\n",
    "ax.set_xlabel('Frequency (1/day)')\n",
    "ax.set_ylabel('log')"
   ]
  },
  {
   "cell_type": "code",
   "execution_count": 43,
   "metadata": {},
   "outputs": [],
   "source": [
    "dt = 1/92\n",
    "freq_vector = np.fft.rfftfreq(92, d=dt)"
   ]
  },
  {
   "cell_type": "code",
   "execution_count": 49,
   "metadata": {},
   "outputs": [],
   "source": [
    "quefrency = np.fft.rfftfreq(np.log(temp_psd).size,freq_vector[1] - freq_vector[0])"
   ]
  },
  {
   "cell_type": "code",
   "execution_count": 50,
   "metadata": {},
   "outputs": [],
   "source": [
    "cep = np.fft.rfft(np.log(temp_psd))"
   ]
  },
  {
   "cell_type": "code",
   "execution_count": 51,
   "metadata": {},
   "outputs": [
    {
     "name": "stderr",
     "output_type": "stream",
     "text": [
      "C:\\Users\\Yash\\AppData\\Roaming\\Python\\Python37\\site-packages\\numpy\\core\\_asarray.py:85: ComplexWarning: Casting complex values to real discards the imaginary part\n",
      "  return array(a, dtype, copy=False, order=order)\n"
     ]
    },
    {
     "data": {
      "text/plain": [
       "[<matplotlib.lines.Line2D at 0x25e4cfe4208>]"
      ]
     },
     "execution_count": 51,
     "metadata": {},
     "output_type": "execute_result"
    },
    {
     "data": {
      "image/png": "[encoded data removed]",
      "text/plain": [
       "<Figure size 432x288 with 1 Axes>"
      ]
     },
     "metadata": {
      "needs_background": "light"
     },
     "output_type": "display_data"
    }
   ],
   "source": [
    "plt.plot(quefrency,cep)"
   ]
  },
  {
   "cell_type": "code",
   "execution_count": 52,
   "metadata": {},
   "outputs": [],
   "source": [
    "df_cep = pd.DataFrame(list(zip(quefrency, cep)),columns =['quefrency', 'Ampli']) \n",
    "df_cep.to_csv('CepstrumData19.csv') "
   ]
  },
  {
   "cell_type": "code",
   "execution_count": null,
   "metadata": {},
   "outputs": [],
   "source": []
  }
 ],
 "metadata": {
  "kernelspec": {
   "display_name": "Python 3",
   "language": "python",
   "name": "python3"
  },
  "language_info": {
   "codemirror_mode": {
    "name": "ipython",
    "version": 3
   },
   "file_extension": ".py",
   "mimetype": "text/x-python",
   "name": "python",
   "nbconvert_exporter": "python",
   "pygments_lexer": "ipython3",
   "version": "3.7.6"
  }
 },
 "nbformat": 4,
 "nbformat_minor": 4
}
