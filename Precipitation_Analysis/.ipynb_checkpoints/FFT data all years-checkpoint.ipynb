{
 "cells": [
  {
   "cell_type": "code",
   "execution_count": 1,
   "metadata": {},
   "outputs": [],
   "source": [
    "import numpy as np\n",
    "import pandas as pd\n",
    "import seaborn as sns\n",
    "import matplotlib.pyplot as plt\n",
    "import plotly.express as px\n",
    "import plotly.figure_factory as ff\n",
    "from scipy import fftpack\n",
    "import datetime"
   ]
  },
  {
   "cell_type": "code",
   "execution_count": 2,
   "metadata": {},
   "outputs": [],
   "source": [
    "daily_data = pd.read_csv(r'C:\\Users\\admin\\Documents\\Algo Asylum\\Precipitation_Analysis\\Precipitation data(csv)\\preci_daily.csv')"
   ]
  },
  {
   "cell_type": "code",
   "execution_count": 3,
   "metadata": {},
   "outputs": [
    {
     "data": {
      "text/plain": [
       "[('2001-01-01', '2001-12-31'),\n",
       " ('2002-01-01', '2002-12-31'),\n",
       " ('2003-01-01', '2003-12-31'),\n",
       " ('2004-01-01', '2004-12-31'),\n",
       " ('2005-01-01', '2005-12-31'),\n",
       " ('2006-01-01', '2006-12-31'),\n",
       " ('2007-01-01', '2007-12-31'),\n",
       " ('2008-01-01', '2008-12-31'),\n",
       " ('2009-01-01', '2009-12-31'),\n",
       " ('2010-01-01', '2010-12-31'),\n",
       " ('2011-01-01', '2011-12-31'),\n",
       " ('2012-01-01', '2012-12-31'),\n",
       " ('2013-01-01', '2013-12-31'),\n",
       " ('2014-01-01', '2014-12-31'),\n",
       " ('2015-01-01', '2015-12-31'),\n",
       " ('2016-01-01', '2016-12-31'),\n",
       " ('2017-01-01', '2017-12-31'),\n",
       " ('2018-01-01', '2018-12-31'),\n",
       " ('2019-01-01', '2019-12-31')]"
      ]
     },
     "execution_count": 3,
     "metadata": {},
     "output_type": "execute_result"
    }
   ],
   "source": [
    "#YYYY-MM-DD\n",
    "dates = [('2001-01-01','2001-12-31')]\n",
    "for i in range(2,20):\n",
    "    if i < 10:\n",
    "        dates.append((dates[0][0][:3]+str(i)+dates[0][0][4:],dates[0][1][:3]+str(i)+dates[0][1][4:]))\n",
    "    else:\n",
    "        dates.append((dates[0][0][:2]+str(i)+dates[0][0][4:],dates[0][1][:2]+str(i)+dates[0][1][4:]))\n",
    "dates"
   ]
  },
  {
   "cell_type": "code",
   "execution_count": 8,
   "metadata": {
    "scrolled": true
   },
   "outputs": [],
   "source": [
    "count = 0\n",
    "for i in range(0, 19):\n",
    "    fft_data = daily_data.loc[(daily_data['date'].between(dates[i][0], dates[i][1], inclusive=True))]\n",
    "    compute_fft(fft_data)"
   ]
  },
  {
   "cell_type": "code",
   "execution_count": 7,
   "metadata": {},
   "outputs": [],
   "source": [
    "def compute_fft(data):\n",
    "    global count \n",
    "    count = count + 1\n",
    "    N = data.shape[0]\n",
    "    sr = 1\n",
    "    y = np.array(data['value'])\n",
    "    T = 1.0 / N\n",
    "    #x = np.linspace(0.0, N*T, N)\n",
    "    #y = np.sin(50.0 * 2.0*np.pi*x) + 0.5*np.sin(80.0 * 2.0*np.pi*x)\n",
    "    #yf = fftpack.fft(y)\n",
    "    #xf = np.linspace(0.0, 1.0/(2.0*T), int(N/2))\n",
    "    np_fft = np.fft.fft(y)\n",
    "    freq = np.fft.fftfreq(N)\n",
    "    freq = freq[:N//2+1]\n",
    "    ampli = 2.0/N * np.abs(np_fft[:N//2+1])\n",
    "    final_data = pd.DataFrame(zip(ampli, freq), columns=['Amplitude', 'Frequency'])\n",
    "    final_data.to_csv(r\"C:\\Users\\admin\\Downloads\\fft_data\" + str(count) + \".csv\")"
   ]
  },
  {
   "cell_type": "code",
   "execution_count": null,
   "metadata": {},
   "outputs": [],
   "source": []
  }
 ],
 "metadata": {
  "kernelspec": {
   "display_name": "Python 3",
   "language": "python",
   "name": "python3"
  },
  "language_info": {
   "codemirror_mode": {
    "name": "ipython",
    "version": 3
   },
   "file_extension": ".py",
   "mimetype": "text/x-python",
   "name": "python",
   "nbconvert_exporter": "python",
   "pygments_lexer": "ipython3",
   "version": "3.8.5"
  }
 },
 "nbformat": 4,
 "nbformat_minor": 2
}
