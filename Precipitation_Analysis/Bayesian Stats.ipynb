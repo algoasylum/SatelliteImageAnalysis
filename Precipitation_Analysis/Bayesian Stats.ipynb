{
 "cells": [
  {
   "cell_type": "code",
   "execution_count": 7,
   "metadata": {},
   "outputs": [],
   "source": [
    "from scipy import stats\n",
    "import arviz as az\n",
    "import numpy as np\n",
    "import matplotlib.pyplot as plt\n",
    "#import pymc3 as pm\n",
    "import seaborn as sns\n",
    "import pandas as pd\n",
    "#from theano import shared\n",
    "from sklearn import preprocessing"
   ]
  },
  {
   "cell_type": "code",
   "execution_count": 9,
   "metadata": {},
   "outputs": [],
   "source": [
    "pune = pd.read_csv('Precipitation data(csv)/preci_pune.csv')\n",
    "beed = pd.read_csv('Precipitation data(csv)/preci_beed.csv')\n",
    "sangli = pd.read_csv('Precipitation data(csv)/preci_sangli.csv')"
   ]
  },
  {
   "cell_type": "code",
   "execution_count": 10,
   "metadata": {},
   "outputs": [],
   "source": [
    "import datetime"
   ]
  },
  {
   "cell_type": "code",
   "execution_count": 11,
   "metadata": {},
   "outputs": [],
   "source": [
    "pune['system:index'] = pd.to_datetime(pune['system:index'],format='%Y%m%d%H%M%S').dt.strftime('%Y-%m-%d %H:%M:%S')\n",
    "beed['system:index'] = pd.to_datetime(beed['system:index'],format='%Y%m%d%H%M%S').dt.strftime('%Y-%m-%d %H:%M:%S')\n",
    "sangli['system:index'] = pd.to_datetime(sangli['system:index'],format='%Y%m%d%H%M%S').dt.strftime('%Y-%m-%d %H:%M:%S')"
   ]
  },
  {
   "cell_type": "code",
   "execution_count": 12,
   "metadata": {},
   "outputs": [],
   "source": [
    "del pune['date'],pune['.geo'],beed['date'],beed['.geo'],sangli['date'],sangli['.geo']"
   ]
  },
  {
   "cell_type": "code",
   "execution_count": 13,
   "metadata": {},
   "outputs": [],
   "source": [
    "pune.columns = pd.Index(['date','value'])\n",
    "beed.columns = pd.Index(['date','value'])\n",
    "sangli.columns = pd.Index(['date','value'])"
   ]
  },
  {
   "cell_type": "code",
   "execution_count": 14,
   "metadata": {},
   "outputs": [],
   "source": [
    "pune['date'] = pd.to_datetime(pune['date'])\n",
    "beed['date'] = pd.to_datetime(beed['date'])\n",
    "sangli['date'] = pd.to_datetime(sangli['date'])"
   ]
  },
  {
   "cell_type": "code",
   "execution_count": 15,
   "metadata": {},
   "outputs": [],
   "source": [
    "pune.set_index(\"date\", inplace = True)\n",
    "beed.set_index(\"date\", inplace = True)\n",
    "sangli.set_index(\"date\", inplace = True)"
   ]
  },
  {
   "cell_type": "code",
   "execution_count": 16,
   "metadata": {},
   "outputs": [],
   "source": [
    "pune1 = pune.resample('D').sum()\n",
    "beed1 = beed.resample('D').sum()\n",
    "sangli1 = sangli.resample('D').sum()"
   ]
  },
  {
   "cell_type": "code",
   "execution_count": 17,
   "metadata": {},
   "outputs": [],
   "source": [
    "pune2 = pune.resample('M').sum()\n",
    "beed2 = beed.resample('M').sum()\n",
    "sangli2 = sangli.resample('M').sum()"
   ]
  },
  {
   "cell_type": "code",
   "execution_count": 18,
   "metadata": {},
   "outputs": [],
   "source": [
    "pune2 = pune2.reset_index()\n",
    "beed2 = beed2.reset_index()\n",
    "sangli2 = sangli2.reset_index()"
   ]
  },
  {
   "cell_type": "code",
   "execution_count": 19,
   "metadata": {},
   "outputs": [],
   "source": [
    "pune2['date'] = pd.to_datetime(pune2['date'],format='%Y%m%d').dt.strftime('%Y-%m')\n",
    "sangli2['date'] = pd.to_datetime(sangli2['date'],format='%Y%m%d').dt.strftime('%Y-%m')\n",
    "beed2['date'] = pd.to_datetime(beed2['date'],format='%Y%m%d').dt.strftime('%Y-%m')"
   ]
  },
  {
   "cell_type": "code",
   "execution_count": 20,
   "metadata": {},
   "outputs": [],
   "source": [
    "pune2['date'] = pd.to_datetime(pune2['date'],format = '%Y-%m')\n",
    "beed2['date'] = pd.to_datetime(beed2['date'],format = '%Y-%m')\n",
    "sangli2['date'] = pd.to_datetime(sangli2['date'],format = '%Y-%m')"
   ]
  },
  {
   "cell_type": "code",
   "execution_count": 21,
   "metadata": {},
   "outputs": [],
   "source": [
    "pune2['Month'] = pune2['date'].dt.month\n",
    "pune2['Year'] = pune2['date'].dt.year\n",
    "beed2['Month'] = beed2['date'].dt.month\n",
    "beed2['Year'] = beed2['date'].dt.year\n",
    "sangli2['Month'] = sangli2['date'].dt.month\n",
    "sangli2['Year'] = sangli2['date'].dt.year"
   ]
  },
  {
   "cell_type": "code",
   "execution_count": 22,
   "metadata": {},
   "outputs": [],
   "source": [
    "import calendar\n",
    "pune2['Month'] = pune2['Month'].apply(lambda x: calendar.month_name[x])\n",
    "beed2['Month'] = beed2['Month'].apply(lambda x: calendar.month_name[x])\n",
    "sangli2['Month'] = sangli2['Month'].apply(lambda x: calendar.month_name[x])"
   ]
  },
  {
   "cell_type": "code",
   "execution_count": 23,
   "metadata": {},
   "outputs": [],
   "source": [
    "pune = pune2.pivot_table(index = ['Year'],columns=['Month'],values=['value'])\n",
    "beed = beed2.pivot_table(index = ['Year'],columns=['Month'],values=['value'])\n",
    "sangli = sangli2.pivot_table(index = ['Year'],columns=['Month'],values=['value'])"
   ]
  },
  {
   "cell_type": "code",
   "execution_count": 24,
   "metadata": {},
   "outputs": [],
   "source": [
    "#pune.to_csv('Pune_Monthly.csv')\n",
    "#sangli.to_csv('Sangli_Monthly.csv')\n",
    "#beed.to_csv('Beed_Monthly.csv')"
   ]
  },
  {
   "cell_type": "code",
   "execution_count": 26,
   "metadata": {},
   "outputs": [],
   "source": [
    "pune = pd.read_csv('Precipitation data(csv)/Pune_Monthly.csv')\n",
    "beed = pd.read_csv('Precipitation data(csv)/Beed_Monthly.csv')\n",
    "sangli = pd.read_csv('Precipitation data(csv)/Sangli_Monthly.csv')"
   ]
  },
  {
   "cell_type": "code",
   "execution_count": 27,
   "metadata": {},
   "outputs": [],
   "source": [
    "pune = pune.loc[0:19,['Year','June','July','August','September','October']]\n",
    "sangli = sangli.loc[0:19,['Year','June','July','August','September','October']]\n",
    "beed = beed.loc[0:19,['Year','June','July','August','September','October']]"
   ]
  },
  {
   "cell_type": "code",
   "execution_count": 28,
   "metadata": {},
   "outputs": [],
   "source": [
    "x = ['June','July','August','September','October']\n",
    "def Prob(thresh,df):\n",
    "    count = []\n",
    "    probab = []\n",
    "    for i in x:\n",
    "        prob = df[i].apply(lambda x: x>thresh)\n",
    "        prob = sum(prob == True)\n",
    "        count.append(prob)\n",
    "    s = sum(count)\n",
    "    for i in count:\n",
    "        probab.append(i/s)\n",
    "    return probab"
   ]
  },
  {
   "cell_type": "code",
   "execution_count": 29,
   "metadata": {},
   "outputs": [
    {
     "data": {
      "text/plain": [
       "[0.21428571428571427,\n",
       " 0.32142857142857145,\n",
       " 0.30357142857142855,\n",
       " 0.16071428571428573,\n",
       " 0.0]"
      ]
     },
     "execution_count": 29,
     "metadata": {},
     "output_type": "execute_result"
    }
   ],
   "source": [
    "Prob(500,pune)"
   ]
  },
  {
   "cell_type": "code",
   "execution_count": 30,
   "metadata": {},
   "outputs": [
    {
     "data": {
      "image/png": "[encoded data removed]",
      "text/plain": [
       "<Figure size 1368x1368 with 15 Axes>"
      ]
     },
     "metadata": {
      "needs_background": "light"
     },
     "output_type": "display_data"
    }
   ],
   "source": [
    "thresh = [500,400,300,200,100]\n",
    "x = ['June','July','August','September','October']\n",
    "fig, axs = plt.subplots(5, 3,figsize=(19,19))\n",
    "for i in range(5):\n",
    "    axs[i,0].bar(x,Prob(thresh[i],pune))\n",
    "    axs[i,0].set_title('Pune > {x}'.format(x=thresh[i]))\n",
    "    axs[i,1].bar(x,Prob(thresh[i],beed))\n",
    "    axs[i,1].set_title('Beed > {x}'.format(x=thresh[i]))\n",
    "    axs[i,2].bar(x,Prob(thresh[i],sangli))\n",
    "    axs[i,2].set_title('Sangli > {x}'.format(x=thresh[i]))\n",
    "plt.show()"
   ]
  },
  {
   "cell_type": "code",
   "execution_count": 31,
   "metadata": {},
   "outputs": [
    {
     "data": {
      "text/html": [
       "<div>\n",
       "<style scoped>\n",
       "    .dataframe tbody tr th:only-of-type {\n",
       "        vertical-align: middle;\n",
       "    }\n",
       "\n",
       "    .dataframe tbody tr th {\n",
       "        vertical-align: top;\n",
       "    }\n",
       "\n",
       "    .dataframe thead th {\n",
       "        text-align: right;\n",
       "    }\n",
       "</style>\n",
       "<table border=\"1\" class=\"dataframe\">\n",
       "  <thead>\n",
       "    <tr style=\"text-align: right;\">\n",
       "      <th></th>\n",
       "      <th>Year</th>\n",
       "      <th>June</th>\n",
       "      <th>July</th>\n",
       "      <th>August</th>\n",
       "      <th>September</th>\n",
       "      <th>October</th>\n",
       "    </tr>\n",
       "  </thead>\n",
       "  <tbody>\n",
       "    <tr>\n",
       "      <th>0</th>\n",
       "      <td>2000</td>\n",
       "      <td>475.586883</td>\n",
       "      <td>612.940301</td>\n",
       "      <td>625.234061</td>\n",
       "      <td>295.371545</td>\n",
       "      <td>145.212529</td>\n",
       "    </tr>\n",
       "    <tr>\n",
       "      <th>1</th>\n",
       "      <td>2001</td>\n",
       "      <td>350.407319</td>\n",
       "      <td>672.039534</td>\n",
       "      <td>528.866557</td>\n",
       "      <td>410.736782</td>\n",
       "      <td>283.155956</td>\n",
       "    </tr>\n",
       "    <tr>\n",
       "      <th>2</th>\n",
       "      <td>2002</td>\n",
       "      <td>546.104037</td>\n",
       "      <td>301.488473</td>\n",
       "      <td>659.035997</td>\n",
       "      <td>186.181449</td>\n",
       "      <td>96.786051</td>\n",
       "    </tr>\n",
       "    <tr>\n",
       "      <th>3</th>\n",
       "      <td>2003</td>\n",
       "      <td>491.868450</td>\n",
       "      <td>714.931202</td>\n",
       "      <td>524.499788</td>\n",
       "      <td>213.037350</td>\n",
       "      <td>84.642203</td>\n",
       "    </tr>\n",
       "    <tr>\n",
       "      <th>4</th>\n",
       "      <td>2004</td>\n",
       "      <td>537.250220</td>\n",
       "      <td>813.673557</td>\n",
       "      <td>896.345390</td>\n",
       "      <td>464.974617</td>\n",
       "      <td>40.929444</td>\n",
       "    </tr>\n",
       "    <tr>\n",
       "      <th>5</th>\n",
       "      <td>2005</td>\n",
       "      <td>578.330840</td>\n",
       "      <td>1257.217138</td>\n",
       "      <td>761.125433</td>\n",
       "      <td>767.422139</td>\n",
       "      <td>162.924614</td>\n",
       "    </tr>\n",
       "    <tr>\n",
       "      <th>6</th>\n",
       "      <td>2006</td>\n",
       "      <td>517.774160</td>\n",
       "      <td>1185.028117</td>\n",
       "      <td>1132.003897</td>\n",
       "      <td>495.343583</td>\n",
       "      <td>155.175031</td>\n",
       "    </tr>\n",
       "    <tr>\n",
       "      <th>7</th>\n",
       "      <td>2007</td>\n",
       "      <td>730.280321</td>\n",
       "      <td>769.995820</td>\n",
       "      <td>802.632464</td>\n",
       "      <td>512.247635</td>\n",
       "      <td>30.454075</td>\n",
       "    </tr>\n",
       "    <tr>\n",
       "      <th>8</th>\n",
       "      <td>2008</td>\n",
       "      <td>501.630518</td>\n",
       "      <td>557.983748</td>\n",
       "      <td>786.348995</td>\n",
       "      <td>755.498241</td>\n",
       "      <td>72.841195</td>\n",
       "    </tr>\n",
       "    <tr>\n",
       "      <th>9</th>\n",
       "      <td>2009</td>\n",
       "      <td>318.553858</td>\n",
       "      <td>1147.300098</td>\n",
       "      <td>578.012127</td>\n",
       "      <td>485.516557</td>\n",
       "      <td>209.080935</td>\n",
       "    </tr>\n",
       "    <tr>\n",
       "      <th>10</th>\n",
       "      <td>2010</td>\n",
       "      <td>660.489903</td>\n",
       "      <td>1051.206288</td>\n",
       "      <td>901.820923</td>\n",
       "      <td>417.664107</td>\n",
       "      <td>338.618738</td>\n",
       "    </tr>\n",
       "    <tr>\n",
       "      <th>11</th>\n",
       "      <td>2011</td>\n",
       "      <td>554.612064</td>\n",
       "      <td>992.464271</td>\n",
       "      <td>686.669114</td>\n",
       "      <td>511.722044</td>\n",
       "      <td>286.303159</td>\n",
       "    </tr>\n",
       "    <tr>\n",
       "      <th>12</th>\n",
       "      <td>2012</td>\n",
       "      <td>257.118233</td>\n",
       "      <td>681.363721</td>\n",
       "      <td>609.104438</td>\n",
       "      <td>337.150539</td>\n",
       "      <td>241.752313</td>\n",
       "    </tr>\n",
       "    <tr>\n",
       "      <th>13</th>\n",
       "      <td>2013</td>\n",
       "      <td>765.864703</td>\n",
       "      <td>1025.079417</td>\n",
       "      <td>363.675127</td>\n",
       "      <td>568.841045</td>\n",
       "      <td>116.589210</td>\n",
       "    </tr>\n",
       "    <tr>\n",
       "      <th>14</th>\n",
       "      <td>2014</td>\n",
       "      <td>153.030187</td>\n",
       "      <td>1068.098313</td>\n",
       "      <td>860.653272</td>\n",
       "      <td>310.861939</td>\n",
       "      <td>104.453834</td>\n",
       "    </tr>\n",
       "    <tr>\n",
       "      <th>15</th>\n",
       "      <td>2015</td>\n",
       "      <td>555.858793</td>\n",
       "      <td>483.252273</td>\n",
       "      <td>385.625492</td>\n",
       "      <td>534.971814</td>\n",
       "      <td>211.546051</td>\n",
       "    </tr>\n",
       "    <tr>\n",
       "      <th>16</th>\n",
       "      <td>2016</td>\n",
       "      <td>360.219139</td>\n",
       "      <td>1057.121368</td>\n",
       "      <td>792.442781</td>\n",
       "      <td>621.142465</td>\n",
       "      <td>154.779368</td>\n",
       "    </tr>\n",
       "    <tr>\n",
       "      <th>17</th>\n",
       "      <td>2017</td>\n",
       "      <td>586.114674</td>\n",
       "      <td>900.611514</td>\n",
       "      <td>620.635790</td>\n",
       "      <td>585.805424</td>\n",
       "      <td>257.926055</td>\n",
       "    </tr>\n",
       "    <tr>\n",
       "      <th>18</th>\n",
       "      <td>2018</td>\n",
       "      <td>520.193531</td>\n",
       "      <td>904.169381</td>\n",
       "      <td>498.014372</td>\n",
       "      <td>113.924289</td>\n",
       "      <td>51.040811</td>\n",
       "    </tr>\n",
       "    <tr>\n",
       "      <th>19</th>\n",
       "      <td>2019</td>\n",
       "      <td>441.068199</td>\n",
       "      <td>1252.748448</td>\n",
       "      <td>711.599073</td>\n",
       "      <td>1011.903236</td>\n",
       "      <td>428.900922</td>\n",
       "    </tr>\n",
       "  </tbody>\n",
       "</table>\n",
       "</div>"
      ],
      "text/plain": [
       "    Year        June         July       August    September     October\n",
       "0   2000  475.586883   612.940301   625.234061   295.371545  145.212529\n",
       "1   2001  350.407319   672.039534   528.866557   410.736782  283.155956\n",
       "2   2002  546.104037   301.488473   659.035997   186.181449   96.786051\n",
       "3   2003  491.868450   714.931202   524.499788   213.037350   84.642203\n",
       "4   2004  537.250220   813.673557   896.345390   464.974617   40.929444\n",
       "5   2005  578.330840  1257.217138   761.125433   767.422139  162.924614\n",
       "6   2006  517.774160  1185.028117  1132.003897   495.343583  155.175031\n",
       "7   2007  730.280321   769.995820   802.632464   512.247635   30.454075\n",
       "8   2008  501.630518   557.983748   786.348995   755.498241   72.841195\n",
       "9   2009  318.553858  1147.300098   578.012127   485.516557  209.080935\n",
       "10  2010  660.489903  1051.206288   901.820923   417.664107  338.618738\n",
       "11  2011  554.612064   992.464271   686.669114   511.722044  286.303159\n",
       "12  2012  257.118233   681.363721   609.104438   337.150539  241.752313\n",
       "13  2013  765.864703  1025.079417   363.675127   568.841045  116.589210\n",
       "14  2014  153.030187  1068.098313   860.653272   310.861939  104.453834\n",
       "15  2015  555.858793   483.252273   385.625492   534.971814  211.546051\n",
       "16  2016  360.219139  1057.121368   792.442781   621.142465  154.779368\n",
       "17  2017  586.114674   900.611514   620.635790   585.805424  257.926055\n",
       "18  2018  520.193531   904.169381   498.014372   113.924289   51.040811\n",
       "19  2019  441.068199  1252.748448   711.599073  1011.903236  428.900922"
      ]
     },
     "execution_count": 31,
     "metadata": {},
     "output_type": "execute_result"
    }
   ],
   "source": [
    "pune"
   ]
  },
  {
   "cell_type": "code",
   "execution_count": 32,
   "metadata": {},
   "outputs": [
    {
     "data": {
      "text/plain": [
       "Year         2009.500000\n",
       "June          495.117802\n",
       "July          872.435649\n",
       "August        686.217255\n",
       "September     480.015840\n",
       "October       173.655625\n",
       "dtype: float64"
      ]
     },
     "execution_count": 32,
     "metadata": {},
     "output_type": "execute_result"
    }
   ],
   "source": [
    "mean_pune = pune.mean(axis = 0)\n",
    "mean_pune"
   ]
  },
  {
   "cell_type": "code",
   "execution_count": 33,
   "metadata": {},
   "outputs": [],
   "source": [
    "m_pune = []\n",
    "for i in range(1,6):\n",
    "    m_pune.append(mean_pune[i])"
   ]
  },
  {
   "cell_type": "code",
   "execution_count": 34,
   "metadata": {},
   "outputs": [],
   "source": [
    "mean_sangli = sangli.mean(axis = 0)\n",
    "mean_beed = beed.mean(axis = 0)\n",
    "m_sangli = []\n",
    "m_beed = []\n",
    "for i in range(1,6):\n",
    "    m_sangli.append(mean_sangli[i])\n",
    "    m_beed.append(mean_beed[i])"
   ]
  },
  {
   "cell_type": "code",
   "execution_count": 35,
   "metadata": {},
   "outputs": [],
   "source": [
    "mean_pune = dict(zip(x,m_pune))\n",
    "mean_sangli = dict(zip(x,m_sangli))\n",
    "mean_beed = dict(zip(x,m_beed))"
   ]
  },
  {
   "cell_type": "code",
   "execution_count": 36,
   "metadata": {},
   "outputs": [],
   "source": [
    "def probMean(df,mean):\n",
    "    count = []\n",
    "    for i in x:\n",
    "        prob = df[i].apply(lambda x: mean[i]-100<=x<=mean[i]+100)\n",
    "        prob = sum(prob == True)\n",
    "        count.append(prob)\n",
    "    probab = [i/20 for i in count]\n",
    "    return probab"
   ]
  },
  {
   "cell_type": "code",
   "execution_count": 37,
   "metadata": {},
   "outputs": [],
   "source": [
    "prob_pune = probMean(pune,mean_pune)\n",
    "prob_beed = probMean(beed,mean_beed)\n",
    "prob_sangli = probMean(sangli,mean_sangli)"
   ]
  },
  {
   "cell_type": "code",
   "execution_count": 38,
   "metadata": {},
   "outputs": [
    {
     "data": {
      "image/png": "[encoded data removed]",
      "text/plain": [
       "<Figure size 1440x720 with 3 Axes>"
      ]
     },
     "metadata": {
      "needs_background": "light"
     },
     "output_type": "display_data"
    }
   ],
   "source": [
    "fig, axs = plt.subplots(1, 3,figsize=(20,10))\n",
    "axs[0].bar(x,prob_pune)\n",
    "axs[0].set_title('Pune > Mean +- 100')\n",
    "axs[1].bar(x,prob_beed)\n",
    "axs[1].set_title('Beed > Mean +- 100')\n",
    "axs[2].bar(x,prob_sangli)\n",
    "axs[2].set_title('Sangli > Mean +- 100')\n",
    "plt.show()"
   ]
  },
  {
   "cell_type": "code",
   "execution_count": 39,
   "metadata": {},
   "outputs": [],
   "source": [
    "def Prob_M(mean,df):\n",
    "    count = []\n",
    "    probab = []\n",
    "    for i in x:\n",
    "        prob = df[i].apply(lambda x: mean[i]-100<=x<=mean[i]+100)        \n",
    "        prob = sum(prob == True)\n",
    "        count.append(prob)\n",
    "    s = sum(count)\n",
    "    for i in count:\n",
    "        probab.append(i/s)\n",
    "    return probab"
   ]
  },
  {
   "cell_type": "code",
   "execution_count": 40,
   "metadata": {},
   "outputs": [],
   "source": [
    "M_pune = Prob_M(mean_pune,pune)\n",
    "M_sangli = Prob_M(mean_sangli,sangli)\n",
    "M_beed = Prob_M(mean_beed,beed)"
   ]
  },
  {
   "cell_type": "code",
   "execution_count": 41,
   "metadata": {},
   "outputs": [
    {
     "data": {
      "image/png": "[encoded data removed]",
      "text/plain": [
       "<Figure size 1440x720 with 3 Axes>"
      ]
     },
     "metadata": {
      "needs_background": "light"
     },
     "output_type": "display_data"
    }
   ],
   "source": [
    "fig, axs = plt.subplots(1, 3,figsize = (20,10))\n",
    "axs[0].bar(x,M_pune)\n",
    "axs[0].set_title('Pune > Mean +- 100')\n",
    "axs[1].bar(x,M_beed)\n",
    "axs[1].set_title('Beed > Mean +- 100')\n",
    "axs[2].bar(x,M_sangli)\n",
    "axs[2].set_title('Sangli > Mean +- 100')\n",
    "plt.show()"
   ]
  },
  {
   "cell_type": "code",
   "execution_count": null,
   "metadata": {},
   "outputs": [],
   "source": []
  }
 ],
 "metadata": {
  "kernelspec": {
   "display_name": "Python 3",
   "language": "python",
   "name": "python3"
  },
  "language_info": {
   "codemirror_mode": {
    "name": "ipython",
    "version": 3
   },
   "file_extension": ".py",
   "mimetype": "text/x-python",
   "name": "python",
   "nbconvert_exporter": "python",
   "pygments_lexer": "ipython3",
   "version": "3.7.6"
  }
 },
 "nbformat": 4,
 "nbformat_minor": 4
}
