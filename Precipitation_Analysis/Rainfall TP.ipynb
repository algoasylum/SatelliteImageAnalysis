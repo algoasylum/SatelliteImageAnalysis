{
 "cells": [
  {
   "cell_type": "code",
   "execution_count": 1,
   "metadata": {},
   "outputs": [],
   "source": [
    "import numpy as np\n",
    "import pandas as pd\n",
    "import seaborn as sns\n",
    "import matplotlib.pyplot as plt\n",
    "import plotly.express as px\n",
    "import plotly.figure_factory as ff\n",
    "from scipy import fftpack\n",
    "import datetime"
   ]
  },
  {
   "cell_type": "code",
   "execution_count": 2,
   "metadata": {},
   "outputs": [],
   "source": [
    "daily_data = pd.read_csv(r'C:\\Users\\admin\\Documents\\Algo Asylum\\Precipitation_Analysis\\Precipitation data(csv)\\preci_daily.csv')\n",
    "daily_data.head()\n",
    "data01 = daily_data.loc[(daily_data['date'].between('2001-01-01', '2001-12-31', inclusive=True))]"
   ]
  },
  {
   "cell_type": "code",
   "execution_count": 3,
   "metadata": {},
   "outputs": [
    {
     "data": {
      "image/png": "[encoded data removed]",
      "text/plain": [
       "<Figure size 432x288 with 1 Axes>"
      ]
     },
     "metadata": {
      "needs_background": "light"
     },
     "output_type": "display_data"
    }
   ],
   "source": [
    "N = data01.shape[0]\n",
    "sr = 1\n",
    "y = np.array(data01['value'])\n",
    "T = 1.0 / N\n",
    "x = np.linspace(0.0, N*T, N)\n",
    "#y = np.sin(50.0 * 2.0*np.pi*x) + 0.5*np.sin(80.0 * 2.0*np.pi*x)\n",
    "yf = fftpack.fft(y)\n",
    "xf = np.linspace(0.0, 1.0/(2.0*T), int(N/2))\n",
    "fig, ax = plt.subplots()\n",
    "ax.plot(xf, 2.0/N * np.abs(yf[:N//2]))\n",
    "plt.show()"
   ]
  },
  {
   "cell_type": "code",
   "execution_count": 4,
   "metadata": {},
   "outputs": [
    {
     "name": "stderr",
     "output_type": "stream",
     "text": [
      "C:\\Users\\admin\\Anaconda3\\lib\\site-packages\\ipykernel_launcher.py:2: RuntimeWarning: divide by zero encountered in true_divide\n",
      "  \n"
     ]
    },
    {
     "data": {
      "text/plain": [
       "array([          inf,  365.        ,  182.5       ,  121.66666667,\n",
       "         91.25      ,   73.        ,   60.83333333,   52.14285714,\n",
       "         45.625     ,   40.55555556,   36.5       ,   33.18181818,\n",
       "         30.41666667,   28.07692308,   26.07142857,   24.33333333,\n",
       "         22.8125    ,   21.47058824,   20.27777778,   19.21052632,\n",
       "         18.25      ,   17.38095238,   16.59090909,   15.86956522,\n",
       "         15.20833333,   14.6       ,   14.03846154,   13.51851852,\n",
       "         13.03571429,   12.5862069 ,   12.16666667,   11.77419355,\n",
       "         11.40625   ,   11.06060606,   10.73529412,   10.42857143,\n",
       "         10.13888889,    9.86486486,    9.60526316,    9.35897436,\n",
       "          9.125     ,    8.90243902,    8.69047619,    8.48837209,\n",
       "          8.29545455,    8.11111111,    7.93478261,    7.76595745,\n",
       "          7.60416667,    7.44897959,    7.3       ,    7.15686275,\n",
       "          7.01923077,    6.88679245,    6.75925926,    6.63636364,\n",
       "          6.51785714,    6.40350877,    6.29310345,    6.18644068,\n",
       "          6.08333333,    5.98360656,    5.88709677,    5.79365079,\n",
       "          5.703125  ,    5.61538462,    5.53030303,    5.44776119,\n",
       "          5.36764706,    5.28985507,    5.21428571,    5.14084507,\n",
       "          5.06944444,    5.        ,    4.93243243,    4.86666667,\n",
       "          4.80263158,    4.74025974,    4.67948718,    4.62025316,\n",
       "          4.5625    ,    4.50617284,    4.45121951,    4.39759036,\n",
       "          4.3452381 ,    4.29411765,    4.24418605,    4.1954023 ,\n",
       "          4.14772727,    4.1011236 ,    4.05555556,    4.01098901,\n",
       "          3.9673913 ,    3.92473118,    3.88297872,    3.84210526,\n",
       "          3.80208333,    3.7628866 ,    3.7244898 ,    3.68686869,\n",
       "          3.65      ,    3.61386139,    3.57843137,    3.54368932,\n",
       "          3.50961538,    3.47619048,    3.44339623,    3.41121495,\n",
       "          3.37962963,    3.34862385,    3.31818182,    3.28828829,\n",
       "          3.25892857,    3.2300885 ,    3.20175439,    3.17391304,\n",
       "          3.14655172,    3.11965812,    3.09322034,    3.06722689,\n",
       "          3.04166667,    3.01652893,    2.99180328,    2.96747967,\n",
       "          2.94354839,    2.92      ,    2.8968254 ,    2.87401575,\n",
       "          2.8515625 ,    2.82945736,    2.80769231,    2.78625954,\n",
       "          2.76515152,    2.7443609 ,    2.7238806 ,    2.7037037 ,\n",
       "          2.68382353,    2.66423358,    2.64492754,    2.62589928,\n",
       "          2.60714286,    2.58865248,    2.57042254,    2.55244755,\n",
       "          2.53472222,    2.51724138,    2.5       ,    2.4829932 ,\n",
       "          2.46621622,    2.44966443,    2.43333333,    2.41721854,\n",
       "          2.40131579,    2.38562092,    2.37012987,    2.35483871,\n",
       "          2.33974359,    2.32484076,    2.31012658,    2.29559748,\n",
       "          2.28125   ,    2.26708075,    2.25308642,    2.2392638 ,\n",
       "          2.22560976,    2.21212121,    2.19879518,    2.18562874,\n",
       "          2.17261905,    2.15976331,    2.14705882,    2.13450292,\n",
       "          2.12209302,    2.10982659,    2.09770115,    2.08571429,\n",
       "          2.07386364,    2.06214689,    2.0505618 ,    2.03910615,\n",
       "          2.02777778,    2.01657459,    2.00549451,   -2.00549451,\n",
       "         -2.01657459,   -2.02777778,   -2.03910615,   -2.0505618 ,\n",
       "         -2.06214689,   -2.07386364,   -2.08571429,   -2.09770115,\n",
       "         -2.10982659,   -2.12209302,   -2.13450292,   -2.14705882,\n",
       "         -2.15976331,   -2.17261905,   -2.18562874,   -2.19879518,\n",
       "         -2.21212121,   -2.22560976,   -2.2392638 ,   -2.25308642,\n",
       "         -2.26708075,   -2.28125   ,   -2.29559748,   -2.31012658,\n",
       "         -2.32484076,   -2.33974359,   -2.35483871,   -2.37012987,\n",
       "         -2.38562092,   -2.40131579,   -2.41721854,   -2.43333333,\n",
       "         -2.44966443,   -2.46621622,   -2.4829932 ,   -2.5       ,\n",
       "         -2.51724138,   -2.53472222,   -2.55244755,   -2.57042254,\n",
       "         -2.58865248,   -2.60714286,   -2.62589928,   -2.64492754,\n",
       "         -2.66423358,   -2.68382353,   -2.7037037 ,   -2.7238806 ,\n",
       "         -2.7443609 ,   -2.76515152,   -2.78625954,   -2.80769231,\n",
       "         -2.82945736,   -2.8515625 ,   -2.87401575,   -2.8968254 ,\n",
       "         -2.92      ,   -2.94354839,   -2.96747967,   -2.99180328,\n",
       "         -3.01652893,   -3.04166667,   -3.06722689,   -3.09322034,\n",
       "         -3.11965812,   -3.14655172,   -3.17391304,   -3.20175439,\n",
       "         -3.2300885 ,   -3.25892857,   -3.28828829,   -3.31818182,\n",
       "         -3.34862385,   -3.37962963,   -3.41121495,   -3.44339623,\n",
       "         -3.47619048,   -3.50961538,   -3.54368932,   -3.57843137,\n",
       "         -3.61386139,   -3.65      ,   -3.68686869,   -3.7244898 ,\n",
       "         -3.7628866 ,   -3.80208333,   -3.84210526,   -3.88297872,\n",
       "         -3.92473118,   -3.9673913 ,   -4.01098901,   -4.05555556,\n",
       "         -4.1011236 ,   -4.14772727,   -4.1954023 ,   -4.24418605,\n",
       "         -4.29411765,   -4.3452381 ,   -4.39759036,   -4.45121951,\n",
       "         -4.50617284,   -4.5625    ,   -4.62025316,   -4.67948718,\n",
       "         -4.74025974,   -4.80263158,   -4.86666667,   -4.93243243,\n",
       "         -5.        ,   -5.06944444,   -5.14084507,   -5.21428571,\n",
       "         -5.28985507,   -5.36764706,   -5.44776119,   -5.53030303,\n",
       "         -5.61538462,   -5.703125  ,   -5.79365079,   -5.88709677,\n",
       "         -5.98360656,   -6.08333333,   -6.18644068,   -6.29310345,\n",
       "         -6.40350877,   -6.51785714,   -6.63636364,   -6.75925926,\n",
       "         -6.88679245,   -7.01923077,   -7.15686275,   -7.3       ,\n",
       "         -7.44897959,   -7.60416667,   -7.76595745,   -7.93478261,\n",
       "         -8.11111111,   -8.29545455,   -8.48837209,   -8.69047619,\n",
       "         -8.90243902,   -9.125     ,   -9.35897436,   -9.60526316,\n",
       "         -9.86486486,  -10.13888889,  -10.42857143,  -10.73529412,\n",
       "        -11.06060606,  -11.40625   ,  -11.77419355,  -12.16666667,\n",
       "        -12.5862069 ,  -13.03571429,  -13.51851852,  -14.03846154,\n",
       "        -14.6       ,  -15.20833333,  -15.86956522,  -16.59090909,\n",
       "        -17.38095238,  -18.25      ,  -19.21052632,  -20.27777778,\n",
       "        -21.47058824,  -22.8125    ,  -24.33333333,  -26.07142857,\n",
       "        -28.07692308,  -30.41666667,  -33.18181818,  -36.5       ,\n",
       "        -40.55555556,  -45.625     ,  -52.14285714,  -60.83333333,\n",
       "        -73.        ,  -91.25      , -121.66666667, -182.5       ,\n",
       "       -365.        ])"
      ]
     },
     "execution_count": 4,
     "metadata": {},
     "output_type": "execute_result"
    }
   ],
   "source": [
    "freq = np.fft.fftfreq(N)\n",
    "tp = 1/freq\n",
    "tp"
   ]
  },
  {
   "cell_type": "code",
   "execution_count": 5,
   "metadata": {},
   "outputs": [],
   "source": [
    "ampli = 2.0/N * np.abs(yf[:N//2])"
   ]
  },
  {
   "cell_type": "code",
   "execution_count": 6,
   "metadata": {},
   "outputs": [
    {
     "data": {
      "text/html": [
       "<div>\n",
       "<style scoped>\n",
       "    .dataframe tbody tr th:only-of-type {\n",
       "        vertical-align: middle;\n",
       "    }\n",
       "\n",
       "    .dataframe tbody tr th {\n",
       "        vertical-align: top;\n",
       "    }\n",
       "\n",
       "    .dataframe thead th {\n",
       "        text-align: right;\n",
       "    }\n",
       "</style>\n",
       "<table border=\"1\" class=\"dataframe\">\n",
       "  <thead>\n",
       "    <tr style=\"text-align: right;\">\n",
       "      <th></th>\n",
       "      <th>Ampli</th>\n",
       "      <th>Time period</th>\n",
       "    </tr>\n",
       "  </thead>\n",
       "  <tbody>\n",
       "    <tr>\n",
       "      <td>0</td>\n",
       "      <td>12.814013</td>\n",
       "      <td>inf</td>\n",
       "    </tr>\n",
       "    <tr>\n",
       "      <td>1</td>\n",
       "      <td>9.547197</td>\n",
       "      <td>365.000000</td>\n",
       "    </tr>\n",
       "    <tr>\n",
       "      <td>2</td>\n",
       "      <td>3.262728</td>\n",
       "      <td>182.500000</td>\n",
       "    </tr>\n",
       "    <tr>\n",
       "      <td>3</td>\n",
       "      <td>2.508010</td>\n",
       "      <td>121.666667</td>\n",
       "    </tr>\n",
       "    <tr>\n",
       "      <td>4</td>\n",
       "      <td>3.605442</td>\n",
       "      <td>91.250000</td>\n",
       "    </tr>\n",
       "    <tr>\n",
       "      <td>...</td>\n",
       "      <td>...</td>\n",
       "      <td>...</td>\n",
       "    </tr>\n",
       "    <tr>\n",
       "      <td>177</td>\n",
       "      <td>0.770702</td>\n",
       "      <td>2.062147</td>\n",
       "    </tr>\n",
       "    <tr>\n",
       "      <td>178</td>\n",
       "      <td>1.110596</td>\n",
       "      <td>2.050562</td>\n",
       "    </tr>\n",
       "    <tr>\n",
       "      <td>179</td>\n",
       "      <td>1.853265</td>\n",
       "      <td>2.039106</td>\n",
       "    </tr>\n",
       "    <tr>\n",
       "      <td>180</td>\n",
       "      <td>1.603199</td>\n",
       "      <td>2.027778</td>\n",
       "    </tr>\n",
       "    <tr>\n",
       "      <td>181</td>\n",
       "      <td>0.332881</td>\n",
       "      <td>2.016575</td>\n",
       "    </tr>\n",
       "  </tbody>\n",
       "</table>\n",
       "<p>182 rows × 2 columns</p>\n",
       "</div>"
      ],
      "text/plain": [
       "         Ampli  Time period\n",
       "0    12.814013          inf\n",
       "1     9.547197   365.000000\n",
       "2     3.262728   182.500000\n",
       "3     2.508010   121.666667\n",
       "4     3.605442    91.250000\n",
       "..         ...          ...\n",
       "177   0.770702     2.062147\n",
       "178   1.110596     2.050562\n",
       "179   1.853265     2.039106\n",
       "180   1.603199     2.027778\n",
       "181   0.332881     2.016575\n",
       "\n",
       "[182 rows x 2 columns]"
      ]
     },
     "execution_count": 6,
     "metadata": {},
     "output_type": "execute_result"
    }
   ],
   "source": [
    "ampli_tp = pd.DataFrame(zip(2.0/N * np.abs(yf[:N//2]), tp),columns=['Ampli', 'Time period'])\n",
    "ampli_tp"
   ]
  },
  {
   "cell_type": "code",
   "execution_count": 7,
   "metadata": {},
   "outputs": [],
   "source": [
    "sorted_data = ampli_tp.sort_values(by='Ampli', ascending=False)\n",
    "sorted_data.drop([0], inplace = True) \n",
    "sorted_data = sorted_data.iloc[0:50]"
   ]
  },
  {
   "cell_type": "code",
   "execution_count": 8,
   "metadata": {},
   "outputs": [
    {
     "data": {
      "text/plain": [
       "(0.0, 50.0)"
      ]
     },
     "execution_count": 8,
     "metadata": {},
     "output_type": "execute_result"
    },
    {
     "data": {
      "image/png": "[encoded data removed]",
      "text/plain": [
       "<Figure size 1152x432 with 1 Axes>"
      ]
     },
     "metadata": {
      "needs_background": "light"
     },
     "output_type": "display_data"
    }
   ],
   "source": [
    "plt.figure(figsize=(16, 6))\n",
    "k = []\n",
    "for i in range(0, 750, 2):\n",
    "    k.append(i)\n",
    "sns.distplot(sorted_data['Time period'], bins = k, kde = False)\n",
    "plt.xlim(0,50)"
   ]
  },
  {
   "cell_type": "code",
   "execution_count": 9,
   "metadata": {},
   "outputs": [
    {
     "data": {
      "text/plain": [
       "(0.0, 50.0)"
      ]
     },
     "execution_count": 9,
     "metadata": {},
     "output_type": "execute_result"
    },
    {
     "data": {
      "image/png": "[encoded data removed]",
      "text/plain": [
       "<Figure size 1152x432 with 1 Axes>"
      ]
     },
     "metadata": {
      "needs_background": "light"
     },
     "output_type": "display_data"
    }
   ],
   "source": [
    "sorted_data = sorted_data.iloc[0:50]\n",
    "plt.figure(figsize=(16, 6))\n",
    "k = []\n",
    "for i in range(0, 750, 2):\n",
    "    k.append(i)\n",
    "sns.distplot(sorted_data['Time period'], bins = k, kde = False)\n",
    "plt.xlim(0,50)"
   ]
  },
  {
   "cell_type": "code",
   "execution_count": null,
   "metadata": {},
   "outputs": [],
   "source": []
  }
 ],
 "metadata": {
  "kernelspec": {
   "display_name": "Python 3",
   "language": "python",
   "name": "python3"
  },
  "language_info": {
   "codemirror_mode": {
    "name": "ipython",
    "version": 3
   },
   "file_extension": ".py",
   "mimetype": "text/x-python",
   "name": "python",
   "nbconvert_exporter": "python",
   "pygments_lexer": "ipython3",
   "version": "3.7.4"
  }
 },
 "nbformat": 4,
 "nbformat_minor": 2
}
