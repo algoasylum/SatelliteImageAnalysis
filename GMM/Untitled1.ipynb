{
 "cells": [
  {
   "cell_type": "code",
   "execution_count": 73,
   "metadata": {},
   "outputs": [],
   "source": [
    "import pandas as pd\n",
    "import numpy as np\n",
    "import random\n",
    "import matplotlib.pyplot as plt\n",
    "import seaborn as sns\n",
    "from sklearn import mixture\n",
    "sns.set(style='whitegrid')\n",
    "sns.set_palette('bright')\n",
    "import warnings\n",
    "warnings.filterwarnings('ignore')\n",
    "import collections\n",
    "from scipy.spatial import distance\n",
    "from scipy.stats import norm\n",
    "from scipy import stats\n",
    "from scipy.stats import wasserstein_distance"
   ]
  },
  {
   "cell_type": "code",
   "execution_count": 74,
   "metadata": {},
   "outputs": [
    {
     "data": {
      "text/html": [
       "<div>\n",
       "<style scoped>\n",
       "    .dataframe tbody tr th:only-of-type {\n",
       "        vertical-align: middle;\n",
       "    }\n",
       "\n",
       "    .dataframe tbody tr th {\n",
       "        vertical-align: top;\n",
       "    }\n",
       "\n",
       "    .dataframe thead th {\n",
       "        text-align: right;\n",
       "    }\n",
       "</style>\n",
       "<table border=\"1\" class=\"dataframe\">\n",
       "  <thead>\n",
       "    <tr style=\"text-align: right;\">\n",
       "      <th></th>\n",
       "      <th>date</th>\n",
       "      <th>value</th>\n",
       "    </tr>\n",
       "  </thead>\n",
       "  <tbody>\n",
       "    <tr>\n",
       "      <th>0</th>\n",
       "      <td>2010-01-01</td>\n",
       "      <td>0.0</td>\n",
       "    </tr>\n",
       "    <tr>\n",
       "      <th>1</th>\n",
       "      <td>2010-01-02</td>\n",
       "      <td>0.0</td>\n",
       "    </tr>\n",
       "    <tr>\n",
       "      <th>2</th>\n",
       "      <td>2010-01-03</td>\n",
       "      <td>0.0</td>\n",
       "    </tr>\n",
       "  </tbody>\n",
       "</table>\n",
       "</div>"
      ],
      "text/plain": [
       "        date  value\n",
       "0 2010-01-01    0.0\n",
       "1 2010-01-02    0.0\n",
       "2 2010-01-03    0.0"
      ]
     },
     "execution_count": 74,
     "metadata": {},
     "output_type": "execute_result"
    }
   ],
   "source": [
    "df = pd.read_csv('preci_alt.csv')\n",
    "df = pd.read_csv('preci_alt.csv')\n",
    "df.columns = ['date','value']\n",
    "df.date = pd.to_datetime(df.date,format='%b %d, %Y')\n",
    "df.head(3)"
   ]
  },
  {
   "cell_type": "code",
   "execution_count": 75,
   "metadata": {},
   "outputs": [],
   "source": [
    "q1 = df[(df.date.dt.month == 6)  ]\n",
    "q2 = df[(df.date.dt.month == 7) ]"
   ]
  },
  {
   "cell_type": "code",
   "execution_count": 76,
   "metadata": {},
   "outputs": [
    {
     "data": {
      "text/plain": [
       "<matplotlib.axes._subplots.AxesSubplot at 0x186ffe54148>"
      ]
     },
     "execution_count": 76,
     "metadata": {},
     "output_type": "execute_result"
    },
    {
     "data": {
      "image/png": "[encoded data removed]",
      "text/plain": [
       "<Figure size 432x288 with 1 Axes>"
      ]
     },
     "metadata": {},
     "output_type": "display_data"
    }
   ],
   "source": [
    "sns.distplot(q1.value,bins=50)"
   ]
  },
  {
   "cell_type": "code",
   "execution_count": 77,
   "metadata": {},
   "outputs": [
    {
     "data": {
      "text/plain": [
       "<matplotlib.axes._subplots.AxesSubplot at 0x186fff4eb08>"
      ]
     },
     "execution_count": 77,
     "metadata": {},
     "output_type": "execute_result"
    },
    {
     "data": {
      "image/png": "[encoded data removed]",
      "text/plain": [
       "<Figure size 432x288 with 1 Axes>"
      ]
     },
     "metadata": {},
     "output_type": "display_data"
    }
   ],
   "source": [
    "sns.distplot(q2.value,bins=50)"
   ]
  },
  {
   "cell_type": "code",
   "execution_count": 78,
   "metadata": {},
   "outputs": [
    {
     "name": "stdout",
     "output_type": "stream",
     "text": [
      "0.0037163440860215062\n"
     ]
    }
   ],
   "source": [
    "print(wasserstein_distance(q1.value,q2.value))"
   ]
  },
  {
   "cell_type": "code",
   "execution_count": 79,
   "metadata": {},
   "outputs": [],
   "source": [
    "q1 = (q1.value)\n",
    "q2 = (q2.value)"
   ]
  },
  {
   "cell_type": "code",
   "execution_count": 80,
   "metadata": {},
   "outputs": [],
   "source": [
    "lowest_bic = np.infty\n",
    "bic = []\n",
    "n_components_range = range(1, 8)\n",
    "cv_types = ['spherical', 'tied', 'diag', 'full']\n",
    "for cv_type in cv_types:\n",
    "    for n_components in n_components_range:\n",
    "        # Fit a Gaussian mixture with EM\n",
    "        gmm = mixture.GaussianMixture(n_components=n_components,\n",
    "                                      covariance_type=cv_type)\n",
    "        q1 = np.asarray(q1)\n",
    "        q1 =q1.reshape(-1,1)\n",
    "        gmm.fit(q1)\n",
    "        bic.append(gmm.bic(q1))\n",
    "        if bic[-1] < lowest_bic:\n",
    "            lowest_bic = bic[-1]\n",
    "            best_gmmq1 = gmm\n",
    "lowest_bic = np.infty\n",
    "bic = []\n",
    "n_components_range = range(1, 8)\n",
    "cv_types = ['spherical', 'tied', 'diag', 'full']\n",
    "for cv_type in cv_types:\n",
    "    for n_components in n_components_range:\n",
    "        # Fit a Gaussian mixture with EM\n",
    "        gmm = mixture.GaussianMixture(n_components=n_components,\n",
    "                                      covariance_type=cv_type)\n",
    "        q2 = np.asarray(q2)\n",
    "        q2 =q2.reshape(-1,1)\n",
    "        gmm.fit(q2)\n",
    "        bic.append(gmm.bic(q2))\n",
    "        if bic[-1] < lowest_bic:\n",
    "            lowest_bic = bic[-1]\n",
    "            best_gmmq2 = gmm"
   ]
  },
  {
   "cell_type": "code",
   "execution_count": 93,
   "metadata": {},
   "outputs": [
    {
     "data": {
      "text/plain": [
       "array([ 3.69869197e-03,  2.50442063e-04,  4.92203781e-03,  3.27334960e-03,\n",
       "        6.22271961e-04,  4.40708002e-03,  2.79381110e-03,  2.40830236e-03,\n",
       "        3.16227452e-04,  2.04128405e-03,  5.87968055e-03,  1.03960698e-03,\n",
       "       -4.87093513e-04,  3.46365625e-03,  6.69160352e-04,  4.24361506e-03,\n",
       "        5.63811561e-03,  2.65957042e-03,  1.35485676e-03,  4.74972256e-03,\n",
       "        1.00583832e-03,  4.61662639e-04,  4.24210695e-03,  3.75255282e-03,\n",
       "        2.48311398e-03,  2.85913401e-03,  7.71346849e-04,  1.22627237e-03,\n",
       "        3.72386678e-03,  5.87974472e-03,  1.36523815e-03,  2.13144740e-03,\n",
       "        2.74880168e-03,  4.35632501e-03,  9.46759368e-05,  1.93497851e-04,\n",
       "        7.84794189e-03,  3.53186065e-03, -3.01884042e-03, -1.29667574e-04,\n",
       "        3.18676967e-03, -1.43424369e-03,  1.60401776e-03,  1.77850112e-04,\n",
       "        8.65962169e-04,  4.83105177e-03,  3.21288170e-03,  4.54512361e-03,\n",
       "        1.19590079e-03,  4.19604730e-04,  4.72346599e-03, -1.57923900e-03,\n",
       "        1.65498723e-03,  1.81737631e-03,  2.93852516e-03, -7.71981104e-04,\n",
       "        5.05390233e-03,  6.35648480e-03,  1.52276109e-03,  5.38078364e-03,\n",
       "        3.27130907e-03, -1.50251347e-04,  2.46332552e-03,  6.02813875e-04,\n",
       "        1.63164411e-03,  1.69444690e-03,  3.80299020e-03,  5.41347890e-03,\n",
       "        1.07573169e-03,  2.11176297e-03,  2.12000429e-03,  1.15373707e-03,\n",
       "        3.56666199e-03,  3.42704048e-03,  7.50184385e-04,  1.34519164e-03,\n",
       "        3.85544456e-03,  3.16216455e-03,  4.06786256e-03,  3.04779492e-03,\n",
       "       -3.86484335e-05,  5.12745938e-03, -4.65148390e-06,  5.70841398e-03,\n",
       "        3.16260305e-03,  3.70552799e-03,  2.32890623e-03,  6.19480700e-03,\n",
       "        4.92030164e-03,  1.60988011e-03,  2.54225067e-03,  2.31821910e-03,\n",
       "        3.07606834e-04,  8.62287278e-04,  4.39273316e-04,  3.06486209e-03,\n",
       "        1.63436554e-03,  4.38697917e-03,  2.93593297e-03,  1.27043543e-03,\n",
       "        3.12067998e-03,  5.82206469e-03,  2.88295582e-03,  3.75599875e-03,\n",
       "        3.07568113e-03, -6.32328996e-04,  1.50508810e-03,  1.67198746e-03,\n",
       "        3.62002219e-03, -1.06410652e-03,  4.81692591e-03,  3.17629098e-03,\n",
       "        2.95435197e-03,  3.50254443e-04,  3.04354831e-03,  4.57947918e-03,\n",
       "        3.01776918e-03,  5.20092869e-03,  8.53680042e-04,  2.10266339e-03,\n",
       "        7.19126270e-03,  6.67219821e-03,  1.21853130e-03,  2.00241613e-03,\n",
       "        4.98893661e-04,  8.96096636e-04,  2.87350693e-03,  3.90097967e-03,\n",
       "        1.74113381e-03,  4.38875444e-03,  5.43615690e-03,  1.84538910e-03,\n",
       "        5.73938037e-04,  2.55446486e-03,  2.02129279e-04,  5.05490600e-03,\n",
       "        1.96704593e-03,  2.80648791e-03, -4.69510901e-04,  3.89511383e-03,\n",
       "        1.53874965e-03,  1.87574508e-03,  1.75845619e-03, -6.14053705e-04,\n",
       "       -1.27695022e-03,  2.58670309e-03,  3.70045736e-03,  3.59620042e-03,\n",
       "        4.55574728e-03, -1.21827538e-03,  6.13835907e-04,  1.51320656e-03,\n",
       "        3.76165940e-03,  5.77817744e-03,  4.80048320e-03,  6.42245892e-04,\n",
       "       -8.87171407e-05, -1.27546043e-03,  2.58778737e-03, -7.76995876e-04,\n",
       "        3.45911533e-03,  3.62745459e-03, -1.48171002e-04,  1.95599987e-03,\n",
       "       -1.09977367e-03,  4.83612784e-03,  4.08467613e-03,  1.60605285e-03,\n",
       "        1.80165881e-03, -4.17641525e-05,  6.70462680e-03,  3.26387821e-03,\n",
       "       -4.44517226e-04,  3.27013723e-03,  6.60042506e-03,  3.17736854e-03,\n",
       "        7.11130563e-03,  2.71026567e-03,  2.50469232e-03,  4.49484803e-03,\n",
       "        3.17316480e-03,  1.39785636e-03, -1.04035116e-03,  8.63585504e-04,\n",
       "       -1.24700624e-03,  9.04161512e-04,  1.93909557e-03,  6.55982132e-03,\n",
       "        2.12915192e-03,  3.25863248e-03,  2.44356757e-03,  5.80192168e-03,\n",
       "        5.89156049e-03, -2.26055891e-04, -5.52928492e-04,  2.98005509e-03,\n",
       "        3.57889550e-03,  2.10599472e-04,  5.61935885e-04,  3.17707072e-03,\n",
       "        4.31137272e-03,  2.51796560e-02,  3.08402055e-02,  3.31219068e-02,\n",
       "        4.63748200e-02,  4.92819000e-02,  3.10211303e-02,  3.84867587e-02,\n",
       "        5.36692121e-02,  4.50108736e-02,  2.22320895e-02,  3.82601493e-02,\n",
       "        4.32193433e-02,  1.61168439e-02,  4.20087966e-02,  2.85542410e-02,\n",
       "        4.21516343e-02,  3.89911760e-02,  1.75148353e-02,  4.25929093e-02,\n",
       "        1.68837854e-02,  1.83764858e-02,  1.66940419e-02,  1.72715679e-02,\n",
       "        6.68934887e-03,  1.01433302e-02,  8.67982769e-03,  1.39602413e-02,\n",
       "        1.29664787e-02,  1.11360115e-02,  1.56529202e-02,  1.25549620e-02,\n",
       "        4.86907954e-03,  1.30550930e-02, -1.21353015e-03,  1.90698666e-02,\n",
       "        1.75939912e-03,  8.82783244e-03,  4.55700444e-03,  1.72143049e-02,\n",
       "        8.08307911e-03,  8.70565744e-03,  1.24655739e-02,  7.36832415e-03,\n",
       "        4.14180070e-03,  1.12141159e-02,  8.58541354e-03,  1.65983821e-02,\n",
       "        9.52260101e-03,  1.32658356e-02,  1.28878950e-02,  1.27180117e-02,\n",
       "        1.08955940e-02,  1.90443434e-02,  1.67698386e-02,  7.49734921e-03,\n",
       "        1.66740398e-02,  2.24989004e-02,  4.21712755e-03,  6.39188760e-03,\n",
       "        1.15616558e-02,  5.77610489e-03,  5.82348980e-03,  1.92540503e-02,\n",
       "        1.17592290e-02,  1.65449215e-02,  1.24939983e-02,  1.05101270e-02,\n",
       "        7.82768602e-03, -9.40243219e-04,  1.92057974e-02,  1.42318586e-02,\n",
       "        1.59793040e-02,  1.06777569e-02,  1.73607386e-02,  9.26426616e-03,\n",
       "        8.70467216e-03,  2.25799493e-02,  7.99526988e-03,  1.09236392e-02,\n",
       "        2.01377495e-02,  1.36640057e-02,  1.09889386e-02,  1.66258821e-02,\n",
       "        8.81209021e-03,  3.82900518e-03,  1.54449209e-02,  6.37227796e-03,\n",
       "        7.33150749e-03,  9.79006303e-03,  4.53885449e-03,  7.26280596e-04,\n",
       "        1.08575147e-02,  1.54543668e-02,  2.95508970e-03,  2.17832676e-03,\n",
       "        9.68882038e-03,  2.22274155e-02,  2.08419646e-02,  1.07277250e-02,\n",
       "        6.99350565e-03,  7.93232859e-03,  1.39619487e-02,  1.36646823e-02,\n",
       "        1.27299227e-02,  5.98839886e-03,  1.45469030e-02,  9.51110339e-03,\n",
       "        3.35096627e-03,  8.16856994e-03])"
      ]
     },
     "execution_count": 93,
     "metadata": {},
     "output_type": "execute_result"
    },
    {
     "data": {
      "image/png": "[encoded data removed]",
      "text/plain": [
       "<Figure size 432x288 with 1 Axes>"
      ]
     },
     "metadata": {},
     "output_type": "display_data"
    }
   ],
   "source": [
    "q1r,_ = best_gmmq1.sample(310)\n",
    "q2r,_ = best_gmmq2.sample(310)\n",
    "sns.distplot(q1r)\n",
    "sns.distplot(q2r)\n",
    "q1r = q1r[:,0]\n",
    "q2r = q2r[:,0]\n",
    "q1r"
   ]
  },
  {
   "cell_type": "code",
   "execution_count": 94,
   "metadata": {},
   "outputs": [
    {
     "name": "stdout",
     "output_type": "stream",
     "text": [
      "0.004357583547291896\n"
     ]
    }
   ],
   "source": [
    "print(wasserstein_distance(q1r,q2r))"
   ]
  },
  {
   "cell_type": "code",
   "execution_count": null,
   "metadata": {},
   "outputs": [],
   "source": []
  }
 ],
 "metadata": {
  "kernelspec": {
   "display_name": "Python 3",
   "language": "python",
   "name": "python3"
  },
  "language_info": {
   "codemirror_mode": {
    "name": "ipython",
    "version": 3
   },
   "file_extension": ".py",
   "mimetype": "text/x-python",
   "name": "python",
   "nbconvert_exporter": "python",
   "pygments_lexer": "ipython3",
   "version": "3.7.6"
  }
 },
 "nbformat": 4,
 "nbformat_minor": 4
}
