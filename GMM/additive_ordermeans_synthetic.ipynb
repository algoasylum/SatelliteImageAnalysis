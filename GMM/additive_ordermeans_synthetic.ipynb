{
 "cells": [
  {
   "cell_type": "code",
   "execution_count": 6,
   "id": "joint-contact",
   "metadata": {},
   "outputs": [],
   "source": [
    "import pandas as pd\n",
    "import numpy as np\n",
    "import random\n",
    "import matplotlib.pyplot as plt\n",
    "import seaborn as sns\n",
    "from sklearn import mixture\n",
    "sns.set(style='whitegrid')\n",
    "sns.set_palette('bright')\n",
    "import warnings\n",
    "warnings.filterwarnings('ignore')\n",
    "import collections\n",
    "from scipy.spatial import distance\n",
    "from scipy.stats import norm\n",
    "from scipy import stats\n",
    "from scipy.stats import wasserstein_distance\n"
   ]
  },
  {
   "cell_type": "code",
   "execution_count": 3,
   "id": "animal-housing",
   "metadata": {},
   "outputs": [],
   "source": [
    "def gmm20k(blue,orange):\n",
    "    lowest_bic = np.infty\n",
    "    bic = []\n",
    "    n_components_range = range(1, 8)\n",
    "    cv_types = ['spherical', 'tied', 'diag', 'full']\n",
    "    for cv_type in cv_types:\n",
    "        for n_components in n_components_range:\n",
    "            # Fit a Gaussian mixture with EM\n",
    "            gmm = mixture.GaussianMixture(n_components=n_components,\n",
    "                                          covariance_type=cv_type)\n",
    "            blue = np.asarray(blue)\n",
    "            blue =blue.reshape(-1,1)\n",
    "            gmm.fit(blue)\n",
    "            bic.append(gmm.bic(blue))\n",
    "            if bic[-1] < lowest_bic:\n",
    "                lowest_bic = bic[-1]\n",
    "                best_gmmblue = gmm\n",
    "    lowest_bic = np.infty\n",
    "    bic = []\n",
    "    n_components_range = range(1, 8)\n",
    "    cv_types = ['spherical', 'tied', 'diag', 'full']\n",
    "    for cv_type in cv_types:\n",
    "        for n_components in n_components_range:\n",
    "            # Fit a Gaussian mixture with EM\n",
    "            gmm = mixture.GaussianMixture(n_components=n_components,\n",
    "                                          covariance_type=cv_type)\n",
    "            orange = np.asarray(orange)\n",
    "            orange =orange.reshape(-1,1)\n",
    "            gmm.fit(orange)\n",
    "            bic.append(gmm.bic(orange))\n",
    "            if bic[-1] < lowest_bic:\n",
    "                lowest_bic = bic[-1]\n",
    "                best_gmmorange = gmm\n",
    "    \n",
    "    means=[]\n",
    "    for tt in range(len(best_gmmblue.means_)):\n",
    "        means.append(best_gmmblue.means_[tt][0])\n",
    "    x = dict(zip(means,best_gmmblue.weights_))\n",
    "    od1 = collections.OrderedDict(sorted(x.items(),reverse=True))\n",
    "    od1 = list(zip(list(od1.keys()),list(od1.values())))\n",
    "    #print(od1)\n",
    "    means=[]\n",
    "    for tt in range(len(best_gmmorange.means_)):\n",
    "        means.append(best_gmmorange.means_[tt][0])\n",
    "    y = dict(zip(means,best_gmmorange.weights_))\n",
    "    od2 = collections.OrderedDict(sorted(y.items(),reverse=True))\n",
    "    od2 = list(zip(list(od2.keys()),list(od2.values())))\n",
    "    #print(od2)\n",
    "    maxx = max(len(od1),len(od2))\n",
    "    diff = abs(len(od1) - len(od2))\n",
    "    if len(od2) > len(od1):\n",
    "        for i in range(0,diff):\n",
    "            od1.append((0,0))\n",
    "    elif len(od2) < len(od1):\n",
    "        for i in range(0,diff):\n",
    "            od2.append((0,0))\n",
    "\n",
    "    diffmean = []\n",
    "    diffweights = []\n",
    "    for tt in range(len(od2)):\n",
    "        diffmean.append(abs(od1[tt][1] - od2[tt][1]))\n",
    "        diffweights.append(abs(od1[tt][0] - od2[tt][0])) \n",
    "    #print(diffweights)\n",
    "    r=[]\n",
    "    for i in range(0,len(diffmean)):\n",
    "        r.append(diffmean[i] * diffweights[i])\n",
    "    #print(len(od1) , len(od2))\n",
    "    return od1,od2,sum(r)"
   ]
  },
  {
   "cell_type": "code",
   "execution_count": 4,
   "id": "overall-narrow",
   "metadata": {},
   "outputs": [],
   "source": [
    "def gmm10k(blue,orange):\n",
    "    lowest_bic = np.infty\n",
    "    bic = []\n",
    "    n_components_range = range(1, 8)\n",
    "    cv_types = ['spherical', 'tied', 'diag', 'full']\n",
    "    for cv_type in cv_types:\n",
    "        for n_components in n_components_range:\n",
    "            # Fit a Gaussian mixture with EM\n",
    "            gmm = mixture.GaussianMixture(n_components=n_components,\n",
    "                                          covariance_type=cv_type)\n",
    "            blue = np.asarray(blue)\n",
    "            blue =blue.reshape(-1,1)\n",
    "            gmm.fit(blue)\n",
    "            bic.append(gmm.bic(blue))\n",
    "            if bic[-1] < lowest_bic:\n",
    "                lowest_bic = bic[-1]\n",
    "                best_gmmblue = gmm\n",
    "    lowest_bic = np.infty\n",
    "    bic = []\n",
    "    n_components_range = range(1, 8)\n",
    "    cv_types = ['spherical', 'tied', 'diag', 'full']\n",
    "    for cv_type in cv_types:\n",
    "        for n_components in n_components_range:\n",
    "            # Fit a Gaussian mixture with EM\n",
    "            gmm = mixture.GaussianMixture(n_components=n_components,\n",
    "                                          covariance_type=cv_type)\n",
    "            orange = np.asarray(orange)\n",
    "            orange =orange.reshape(-1,1)\n",
    "            gmm.fit(orange)\n",
    "            bic.append(gmm.bic(orange))\n",
    "            if bic[-1] < lowest_bic:\n",
    "                lowest_bic = bic[-1]\n",
    "                best_gmmorange = gmm\n",
    "    \n",
    "    #print(best_gmmblue.get_params())\n",
    "    #print(best_gmmorange.get_params())\n",
    "    #print(best_gmmblue.means_)\n",
    "    #print(best_gmmorange.means_)\n",
    "    #print(best_gmmblue.weights_)\n",
    "    #print(best_gmmorange.weights_)\n",
    "    means=[]\n",
    "    for tt in range(len(best_gmmblue.means_)):\n",
    "        means.append(best_gmmblue.means_[tt][0])\n",
    "    x = dict(zip(best_gmmblue.weights_,means))\n",
    "    od1 = collections.OrderedDict(sorted(x.items(),reverse=True))\n",
    "    od1 = list(zip(list(od1.keys()),list(od1.values())))\n",
    "    means=[]\n",
    "    for tt in range(len(best_gmmorange.means_)):\n",
    "        means.append(best_gmmorange.means_[tt][0])\n",
    "    y = dict(zip(best_gmmorange.weights_,means))\n",
    "    od2 = collections.OrderedDict(sorted(y.items(),reverse=True))\n",
    "    od2 = list(zip(list(od2.keys()),list(od2.values())))\n",
    "    maxx = max(len(od1),len(od2))\n",
    "    diff = abs(len(od1) - len(od2))\n",
    "    if len(od2) > len(od1):\n",
    "        for i in range(0,diff):\n",
    "            od1.append((0,0))\n",
    "    elif len(od2) < len(od1):\n",
    "        for i in range(0,diff):\n",
    "            od2.append((0,0))\n",
    "    #print(maxx)\n",
    "    #print(od1)\n",
    "    #print(od2)\n",
    "    diffmean = []\n",
    "    diffweights = []\n",
    "    for tt in range(len(od2)):\n",
    "        diffmean.append(abs(od1[tt][1] - od2[tt][1]))\n",
    "        diffweights.append(abs(od1[tt][0] - od2[tt][0])) \n",
    "    #print(diffweights)\n",
    "    r=[]\n",
    "    for i in range(0,len(diffmean)):\n",
    "        r.append(diffmean[i] * diffweights[i])\n",
    "    #print(len(od1) , len(od2))\n",
    "    return od1,od2,sum(r)"
   ]
  },
  {
   "cell_type": "code",
   "execution_count": 5,
   "id": "collective-jones",
   "metadata": {},
   "outputs": [],
   "source": [
    "def jacciboi(blue,orange):\n",
    "    blue = np.append(blue,orange.max())\n",
    "    blue = np.append(blue,orange.min())\n",
    "    orange = np.append(orange,blue.max())\n",
    "    orange = np.append(orange,blue.min())\n",
    "    count1, bin_edges1 = np.histogram(blue, bins=20)\n",
    "    count2, bin_edges2 = np.histogram(orange, bins=20)\n",
    "    intersect=[]\n",
    "    union=[]\n",
    "    for x in range(count1.shape[0]):\n",
    "        intersect.append(min(count1[x],count2[x]))\n",
    "    intersect = np.array([intersect])\n",
    "    isum = intersect.sum()\n",
    "    for x in range(count1.shape[0]):\n",
    "        union.append(max(count1[x],count2[x]))\n",
    "    union = np.array([union])\n",
    "    usum = union.sum()\n",
    "    jacc1 = isum/usum\n",
    "    jacc1\n",
    "    return jacc1"
   ]
  },
  {
   "cell_type": "code",
   "execution_count": 5,
   "id": "global-variance",
   "metadata": {},
   "outputs": [
    {
     "data": {
      "text/plain": [
       "<AxesSubplot:ylabel='Density'>"
      ]
     },
     "execution_count": 5,
     "metadata": {},
     "output_type": "execute_result"
    },
    {
     "data": {
      "image/png": "[encoded data removed]",
      "text/plain": [
       "<Figure size 432x288 with 1 Axes>"
      ]
     },
     "metadata": {},
     "output_type": "display_data"
    }
   ],
   "source": [
    "value1 = np.random.normal(loc=5,scale=25,size=10000)\n",
    "value2 =  np.random.normal(loc=175,scale=50,size=10000)\n",
    "value3 =  np.random.normal(loc=500,scale=75,size=10000)\n",
    "blue = np.concatenate((value1,value2,value3))\n",
    "sns.distplot(value1,bins=50)\n",
    "sns.distplot(value2,bins=50)\n",
    "sns.distplot(value3,bins=50)"
   ]
  },
  {
   "cell_type": "code",
   "execution_count": 6,
   "id": "expired-administrator",
   "metadata": {},
   "outputs": [],
   "source": [
    "_,_,r12 = gmm10k(value1,value2)\n",
    "_,_,r23 = gmm10k(value2,value3)\n",
    "_,_,r13 = gmm10k(value1,value3)"
   ]
  },
  {
   "cell_type": "markdown",
   "id": "increased-drawing",
   "metadata": {},
   "source": [
    "## Edge case - one component only so diffweight = 0, metric = 0"
   ]
  },
  {
   "cell_type": "code",
   "execution_count": 7,
   "id": "based-suspension",
   "metadata": {},
   "outputs": [
    {
     "name": "stdout",
     "output_type": "stream",
     "text": [
      "0.0 0.0 0.0\n"
     ]
    }
   ],
   "source": [
    "print(r12,r23,r13)"
   ]
  },
  {
   "cell_type": "code",
   "execution_count": 8,
   "id": "diagnostic-wilderness",
   "metadata": {},
   "outputs": [],
   "source": [
    "_,_,r12 = gmm20k(value1,value2)\n",
    "_,_,r23 = gmm20k(value2,value3)\n",
    "_,_,r13 = gmm20k(value1,value3)"
   ]
  },
  {
   "cell_type": "code",
   "execution_count": 9,
   "id": "coordinated-motion",
   "metadata": {},
   "outputs": [
    {
     "name": "stdout",
     "output_type": "stream",
     "text": [
      "0.0 0.0 0.0\n"
     ]
    }
   ],
   "source": [
    "print(r12,r23,r13)"
   ]
  },
  {
   "cell_type": "code",
   "execution_count": 10,
   "id": "touched-coating",
   "metadata": {},
   "outputs": [
    {
     "data": {
      "text/plain": [
       "<AxesSubplot:ylabel='Density'>"
      ]
     },
     "execution_count": 10,
     "metadata": {},
     "output_type": "execute_result"
    },
    {
     "data": {
      "image/png": "[encoded data removed]",
      "text/plain": [
       "<Figure size 432x288 with 1 Axes>"
      ]
     },
     "metadata": {},
     "output_type": "display_data"
    }
   ],
   "source": [
    "value1 = np.random.normal(loc=5,scale=25,size=10000)\n",
    "value2 = np.random.normal(loc=75,scale=45,size=5000)\n",
    "blue = np.concatenate((value1,value2))\n",
    "value1 = np.random.normal(loc=175,scale=59,size=10000)\n",
    "value2 = np.random.normal(loc=100,scale=34,size=5000)\n",
    "orange = np.concatenate((value1,value2))\n",
    "value1 = np.random.normal(loc=500,scale=75,size=10000)\n",
    "value2 = np.random.normal(loc=550,scale=32,size=5000)\n",
    "green = np.concatenate((value1,value2))\n",
    "sns.distplot(blue,bins=50)\n",
    "sns.distplot(orange,bins=50)\n",
    "sns.distplot(green,bins=50)"
   ]
  },
  {
   "cell_type": "code",
   "execution_count": 12,
   "id": "saved-scheduling",
   "metadata": {},
   "outputs": [],
   "source": [
    "w1,w2,r12 = gmm10k(blue,orange)\n",
    "w3,w4,r23 = gmm10k(orange,green)\n",
    "_,_,r13 = gmm10k(blue,green)\n",
    "#38.19839900825517 230.397105184326 305.8584873843776\n"
   ]
  },
  {
   "cell_type": "code",
   "execution_count": 13,
   "id": "outer-patrol",
   "metadata": {},
   "outputs": [
    {
     "data": {
      "text/plain": [
       "[(0.7360453904985781, 6.78150531403822),\n",
       " (0.2639546095014196, 89.1463496548386)]"
      ]
     },
     "execution_count": 13,
     "metadata": {},
     "output_type": "execute_result"
    }
   ],
   "source": [
    "w1"
   ]
  },
  {
   "cell_type": "code",
   "execution_count": 14,
   "id": "institutional-jewelry",
   "metadata": {},
   "outputs": [
    {
     "data": {
      "text/plain": [
       "[(0.5759998826353234, 110.28783666470146),\n",
       " (0.4240001173646747, 204.14131919243917)]"
      ]
     },
     "execution_count": 14,
     "metadata": {},
     "output_type": "execute_result"
    }
   ],
   "source": [
    "w2"
   ]
  },
  {
   "cell_type": "code",
   "execution_count": 15,
   "id": "wrapped-panama",
   "metadata": {},
   "outputs": [
    {
     "data": {
      "text/plain": [
       "[(0.5807200960314773, 110.63632104593509),\n",
       " (0.41927990396851983, 204.7152474439254),\n",
       " (0, 0),\n",
       " (0, 0)]"
      ]
     },
     "execution_count": 15,
     "metadata": {},
     "output_type": "execute_result"
    }
   ],
   "source": [
    "w3"
   ]
  },
  {
   "cell_type": "code",
   "execution_count": 16,
   "id": "macro-accordance",
   "metadata": {},
   "outputs": [
    {
     "data": {
      "text/plain": [
       "[(0.42817207815294694, 547.9670190030921),\n",
       " (0.2518904944448725, 484.0213025096724),\n",
       " (0.16843683345457236, 412.5289765716262),\n",
       " (0.1515005939476086, 596.3987755718317)]"
      ]
     },
     "execution_count": 16,
     "metadata": {},
     "output_type": "execute_result"
    }
   ],
   "source": [
    "w4"
   ]
  },
  {
   "cell_type": "code",
   "execution_count": 17,
   "id": "functioning-field",
   "metadata": {},
   "outputs": [
    {
     "name": "stdout",
     "output_type": "stream",
     "text": [
      "34.97015166944405 273.3066500153725 327.686867756947\n"
     ]
    }
   ],
   "source": [
    "print(r12,r23,r13)"
   ]
  },
  {
   "cell_type": "code",
   "execution_count": 18,
   "id": "olive-adoption",
   "metadata": {},
   "outputs": [
    {
     "name": "stdout",
     "output_type": "stream",
     "text": [
      "121.55963863288616\n",
      "366.30266147603555\n",
      "487.8623001089218\n"
     ]
    }
   ],
   "source": [
    "print(wasserstein_distance(orange,blue))\n",
    "print(wasserstein_distance(orange,green))\n",
    "print(wasserstein_distance(green,blue))"
   ]
  },
  {
   "cell_type": "code",
   "execution_count": 19,
   "id": "therapeutic-alabama",
   "metadata": {},
   "outputs": [
    {
     "name": "stdout",
     "output_type": "stream",
     "text": [
      "0.16226999806314157\n",
      "0.005293841720833613\n",
      "0.00030005000833472245\n"
     ]
    }
   ],
   "source": [
    "print(jacciboi(orange,blue))\n",
    "print(jacciboi(orange,green))\n",
    "print(jacciboi(green,blue))"
   ]
  },
  {
   "cell_type": "code",
   "execution_count": 20,
   "id": "familiar-context",
   "metadata": {},
   "outputs": [
    {
     "data": {
      "text/plain": [
       "<AxesSubplot:ylabel='Density'>"
      ]
     },
     "execution_count": 20,
     "metadata": {},
     "output_type": "execute_result"
    },
    {
     "data": {
      "image/png": "[encoded data removed]",
      "text/plain": [
       "<Figure size 432x288 with 1 Axes>"
      ]
     },
     "metadata": {},
     "output_type": "display_data"
    }
   ],
   "source": [
    "value1 = np.random.normal(loc=5,scale=25,size=10000)\n",
    "value2 = np.random.normal(loc=75,scale=45,size=5000)\n",
    "#blue = np.concatenate((value1,value2))\n",
    "blue = value1\n",
    "value1 = np.random.normal(loc=175,scale=59,size=10000)\n",
    "value2 = np.random.normal(loc=100,scale=34,size=5000)\n",
    "#orange = np.concatenate((value1,value2))\n",
    "orange = value1\n",
    "value1 = np.random.normal(loc=500,scale=75,size=10000)\n",
    "value2 = np.random.normal(loc=550,scale=32,size=5000)\n",
    "#green = np.concatenate((value1,value2))\n",
    "green = value1\n",
    "value1 = np.random.normal(loc=315,scale=35,size=10000)\n",
    "value2 = np.random.normal(loc=280,scale=45,size=5000)\n",
    "#red = np.concatenate((value1,value2))\n",
    "red = value1\n",
    "value1 = np.random.normal(loc=425,scale=30,size=10000)\n",
    "value2 = np.random.normal(loc=475,scale=45,size=5000)\n",
    "#violet = np.concatenate((value1,value2))\n",
    "violet = value1\n",
    "sns.distplot(blue,bins=150)\n",
    "sns.distplot(orange,bins=150)\n",
    "sns.distplot(green,bins=150)\n",
    "sns.distplot(red,bins=150)\n",
    "sns.distplot(violet,bins=150)"
   ]
  },
  {
   "cell_type": "code",
   "execution_count": 39,
   "id": "hundred-aquarium",
   "metadata": {},
   "outputs": [],
   "source": [
    "a = np.zeros(shape=(5, 5))\n",
    "x = [blue,orange,green,red,violet]\n",
    "for i,c in enumerate(x):\n",
    "    for j,b in enumerate(x):\n",
    "        a[i][j] = wasserstein_distance(c,b)"
   ]
  },
  {
   "cell_type": "code",
   "execution_count": 41,
   "id": "adequate-potter",
   "metadata": {},
   "outputs": [
    {
     "data": {
      "text/html": [
       "<style  type=\"text/css\" >\n",
       "#T_7b827_row0_col0,#T_7b827_row1_col1,#T_7b827_row2_col2,#T_7b827_row3_col3,#T_7b827_row4_col4{\n",
       "            background-color:  #ebf3eb;\n",
       "            color:  #000000;\n",
       "        }#T_7b827_row0_col1{\n",
       "            background-color:  #bfdebf;\n",
       "            color:  #000000;\n",
       "        }#T_7b827_row0_col2,#T_7b827_row0_col3,#T_7b827_row0_col4,#T_7b827_row4_col0,#T_7b827_row4_col1{\n",
       "            background-color:  #008000;\n",
       "            color:  #f1f1f1;\n",
       "        }#T_7b827_row1_col0{\n",
       "            background-color:  #c6e1c6;\n",
       "            color:  #000000;\n",
       "        }#T_7b827_row1_col2{\n",
       "            background-color:  #3b9d3b;\n",
       "            color:  #000000;\n",
       "        }#T_7b827_row1_col3{\n",
       "            background-color:  #2b952b;\n",
       "            color:  #000000;\n",
       "        }#T_7b827_row1_col4{\n",
       "            background-color:  #259225;\n",
       "            color:  #000000;\n",
       "        }#T_7b827_row2_col0{\n",
       "            background-color:  #57ab57;\n",
       "            color:  #000000;\n",
       "        }#T_7b827_row2_col1{\n",
       "            background-color:  #67b267;\n",
       "            color:  #000000;\n",
       "        }#T_7b827_row2_col3{\n",
       "            background-color:  #b0d6b0;\n",
       "            color:  #000000;\n",
       "        }#T_7b827_row2_col4{\n",
       "            background-color:  #93c893;\n",
       "            color:  #000000;\n",
       "        }#T_7b827_row3_col0{\n",
       "            background-color:  #269226;\n",
       "            color:  #000000;\n",
       "        }#T_7b827_row3_col1{\n",
       "            background-color:  #2c962c;\n",
       "            color:  #000000;\n",
       "        }#T_7b827_row3_col2{\n",
       "            background-color:  #9ccd9c;\n",
       "            color:  #000000;\n",
       "        }#T_7b827_row3_col4{\n",
       "            background-color:  #c5e0c5;\n",
       "            color:  #000000;\n",
       "        }#T_7b827_row4_col2{\n",
       "            background-color:  #60af60;\n",
       "            color:  #000000;\n",
       "        }#T_7b827_row4_col3{\n",
       "            background-color:  #bdddbd;\n",
       "            color:  #000000;\n",
       "        }</style><table id=\"T_7b827_\" ><thead>    <tr>        <th class=\"blank level0\" ></th>        <th class=\"col_heading level0 col0\" >0</th>        <th class=\"col_heading level0 col1\" >1</th>        <th class=\"col_heading level0 col2\" >2</th>        <th class=\"col_heading level0 col3\" >3</th>        <th class=\"col_heading level0 col4\" >4</th>    </tr></thead><tbody>\n",
       "                <tr>\n",
       "                        <th id=\"T_7b827_level0_row0\" class=\"row_heading level0 row0\" >0</th>\n",
       "                        <td id=\"T_7b827_row0_col0\" class=\"data row0 col0\" >0.000000</td>\n",
       "                        <td id=\"T_7b827_row0_col1\" class=\"data row0 col1\" >122.147761</td>\n",
       "                        <td id=\"T_7b827_row0_col2\" class=\"data row0 col2\" >488.170549</td>\n",
       "                        <td id=\"T_7b827_row0_col3\" class=\"data row0 col3\" >651.685178</td>\n",
       "                        <td id=\"T_7b827_row0_col4\" class=\"data row0 col4\" >776.484740</td>\n",
       "            </tr>\n",
       "            <tr>\n",
       "                        <th id=\"T_7b827_level0_row1\" class=\"row_heading level0 row1\" >1</th>\n",
       "                        <td id=\"T_7b827_row1_col0\" class=\"data row1 col0\" >122.147761</td>\n",
       "                        <td id=\"T_7b827_row1_col1\" class=\"data row1 col1\" >0.000000</td>\n",
       "                        <td id=\"T_7b827_row1_col2\" class=\"data row1 col2\" >366.022788</td>\n",
       "                        <td id=\"T_7b827_row1_col3\" class=\"data row1 col3\" >529.537418</td>\n",
       "                        <td id=\"T_7b827_row1_col4\" class=\"data row1 col4\" >654.336979</td>\n",
       "            </tr>\n",
       "            <tr>\n",
       "                        <th id=\"T_7b827_level0_row2\" class=\"row_heading level0 row2\" >2</th>\n",
       "                        <td id=\"T_7b827_row2_col0\" class=\"data row2 col0\" >488.170549</td>\n",
       "                        <td id=\"T_7b827_row2_col1\" class=\"data row2 col1\" >366.022788</td>\n",
       "                        <td id=\"T_7b827_row2_col2\" class=\"data row2 col2\" >0.000000</td>\n",
       "                        <td id=\"T_7b827_row2_col3\" class=\"data row2 col3\" >163.514629</td>\n",
       "                        <td id=\"T_7b827_row2_col4\" class=\"data row2 col4\" >288.314191</td>\n",
       "            </tr>\n",
       "            <tr>\n",
       "                        <th id=\"T_7b827_level0_row3\" class=\"row_heading level0 row3\" >3</th>\n",
       "                        <td id=\"T_7b827_row3_col0\" class=\"data row3 col0\" >651.685178</td>\n",
       "                        <td id=\"T_7b827_row3_col1\" class=\"data row3 col1\" >529.537418</td>\n",
       "                        <td id=\"T_7b827_row3_col2\" class=\"data row3 col2\" >163.514629</td>\n",
       "                        <td id=\"T_7b827_row3_col3\" class=\"data row3 col3\" >0.000000</td>\n",
       "                        <td id=\"T_7b827_row3_col4\" class=\"data row3 col4\" >124.801111</td>\n",
       "            </tr>\n",
       "            <tr>\n",
       "                        <th id=\"T_7b827_level0_row4\" class=\"row_heading level0 row4\" >4</th>\n",
       "                        <td id=\"T_7b827_row4_col0\" class=\"data row4 col0\" >776.484740</td>\n",
       "                        <td id=\"T_7b827_row4_col1\" class=\"data row4 col1\" >654.336979</td>\n",
       "                        <td id=\"T_7b827_row4_col2\" class=\"data row4 col2\" >288.314191</td>\n",
       "                        <td id=\"T_7b827_row4_col3\" class=\"data row4 col3\" >124.801111</td>\n",
       "                        <td id=\"T_7b827_row4_col4\" class=\"data row4 col4\" >0.000000</td>\n",
       "            </tr>\n",
       "    </tbody></table>"
      ],
      "text/plain": [
       "<pandas.io.formats.style.Styler at 0x7fde707a8e80>"
      ]
     },
     "execution_count": 41,
     "metadata": {},
     "output_type": "execute_result"
    }
   ],
   "source": [
    "dfw = pd.DataFrame(a)\n",
    "cm = sns.light_palette(\"green\", as_cmap=True)\n",
    "s = dfw.style.background_gradient(cmap=cm)\n",
    "s\n",
    "[blue,       orange,     green,      red,       violet]"
   ]
  },
  {
   "cell_type": "code",
   "execution_count": 43,
   "id": "prepared-superintendent",
   "metadata": {},
   "outputs": [],
   "source": [
    "a = np.zeros(shape=(5, 5))\n",
    "x = [blue,orange,green,red,violet]\n",
    "for i,c in enumerate(x):\n",
    "    for j,b in enumerate(x):\n",
    "        _,_,a[i][j] = gmm10k(c,b)"
   ]
  },
  {
   "cell_type": "code",
   "execution_count": 44,
   "id": "military-shoulder",
   "metadata": {},
   "outputs": [
    {
     "data": {
      "text/html": [
       "<style  type=\"text/css\" >\n",
       "#T_23380_row0_col0,#T_23380_row1_col1,#T_23380_row2_col2,#T_23380_row3_col3,#T_23380_row4_col4{\n",
       "            background-color:  #ebf3eb;\n",
       "            color:  #000000;\n",
       "        }#T_23380_row0_col1{\n",
       "            background-color:  #d6e9d6;\n",
       "            color:  #000000;\n",
       "        }#T_23380_row0_col2{\n",
       "            background-color:  #349a34;\n",
       "            color:  #000000;\n",
       "        }#T_23380_row0_col3{\n",
       "            background-color:  #6db56d;\n",
       "            color:  #000000;\n",
       "        }#T_23380_row0_col4{\n",
       "            background-color:  #6bb46b;\n",
       "            color:  #000000;\n",
       "        }#T_23380_row1_col0{\n",
       "            background-color:  #d4e8d4;\n",
       "            color:  #000000;\n",
       "        }#T_23380_row1_col2{\n",
       "            background-color:  #53a953;\n",
       "            color:  #000000;\n",
       "        }#T_23380_row1_col3{\n",
       "            background-color:  #e8f2e8;\n",
       "            color:  #000000;\n",
       "        }#T_23380_row1_col4{\n",
       "            background-color:  #229122;\n",
       "            color:  #000000;\n",
       "        }#T_23380_row2_col0,#T_23380_row2_col4,#T_23380_row4_col1,#T_23380_row4_col2,#T_23380_row4_col3{\n",
       "            background-color:  #008000;\n",
       "            color:  #f1f1f1;\n",
       "        }#T_23380_row2_col1{\n",
       "            background-color:  #399c39;\n",
       "            color:  #000000;\n",
       "        }#T_23380_row2_col3{\n",
       "            background-color:  #59ac59;\n",
       "            color:  #000000;\n",
       "        }#T_23380_row3_col0{\n",
       "            background-color:  #65b265;\n",
       "            color:  #000000;\n",
       "        }#T_23380_row3_col1{\n",
       "            background-color:  #e7f1e7;\n",
       "            color:  #000000;\n",
       "        }#T_23380_row3_col2{\n",
       "            background-color:  #72b872;\n",
       "            color:  #000000;\n",
       "        }#T_23380_row3_col4{\n",
       "            background-color:  #289428;\n",
       "            color:  #000000;\n",
       "        }#T_23380_row4_col0{\n",
       "            background-color:  #47a347;\n",
       "            color:  #000000;\n",
       "        }</style><table id=\"T_23380_\" ><thead>    <tr>        <th class=\"blank level0\" ></th>        <th class=\"col_heading level0 col0\" >0</th>        <th class=\"col_heading level0 col1\" >1</th>        <th class=\"col_heading level0 col2\" >2</th>        <th class=\"col_heading level0 col3\" >3</th>        <th class=\"col_heading level0 col4\" >4</th>    </tr></thead><tbody>\n",
       "                <tr>\n",
       "                        <th id=\"T_23380_level0_row0\" class=\"row_heading level0 row0\" >0</th>\n",
       "                        <td id=\"T_23380_row0_col0\" class=\"data row0 col0\" >0.000011</td>\n",
       "                        <td id=\"T_23380_row0_col1\" class=\"data row0 col1\" >33.273010</td>\n",
       "                        <td id=\"T_23380_row0_col2\" class=\"data row0 col2\" >345.893925</td>\n",
       "                        <td id=\"T_23380_row0_col3\" class=\"data row0 col3\" >198.166158</td>\n",
       "                        <td id=\"T_23380_row0_col4\" class=\"data row0 col4\" >241.836560</td>\n",
       "            </tr>\n",
       "            <tr>\n",
       "                        <th id=\"T_23380_level0_row1\" class=\"row_heading level0 row1\" >1</th>\n",
       "                        <td id=\"T_23380_row1_col0\" class=\"data row1 col0\" >33.220395</td>\n",
       "                        <td id=\"T_23380_row1_col1\" class=\"data row1 col1\" >0.000043</td>\n",
       "                        <td id=\"T_23380_row1_col2\" class=\"data row1 col2\" >287.738420</td>\n",
       "                        <td id=\"T_23380_row1_col3\" class=\"data row1 col3\" >5.162408</td>\n",
       "                        <td id=\"T_23380_row1_col4\" class=\"data row1 col4\" >379.174783</td>\n",
       "            </tr>\n",
       "            <tr>\n",
       "                        <th id=\"T_23380_level0_row2\" class=\"row_heading level0 row2\" >2</th>\n",
       "                        <td id=\"T_23380_row2_col0\" class=\"data row2 col0\" >347.217819</td>\n",
       "                        <td id=\"T_23380_row2_col1\" class=\"data row2 col1\" >286.793722</td>\n",
       "                        <td id=\"T_23380_row2_col2\" class=\"data row2 col2\" >0.129011</td>\n",
       "                        <td id=\"T_23380_row2_col3\" class=\"data row2 col3\" >228.616061</td>\n",
       "                        <td id=\"T_23380_row2_col4\" class=\"data row2 col4\" >444.552908</td>\n",
       "            </tr>\n",
       "            <tr>\n",
       "                        <th id=\"T_23380_level0_row3\" class=\"row_heading level0 row3\" >3</th>\n",
       "                        <td id=\"T_23380_row3_col0\" class=\"data row3 col0\" >196.998645</td>\n",
       "                        <td id=\"T_23380_row3_col1\" class=\"data row3 col1\" >6.233135</td>\n",
       "                        <td id=\"T_23380_row3_col2\" class=\"data row3 col2\" >228.383405</td>\n",
       "                        <td id=\"T_23380_row3_col3\" class=\"data row3 col3\" >0.000000</td>\n",
       "                        <td id=\"T_23380_row3_col4\" class=\"data row3 col4\" >368.004587</td>\n",
       "            </tr>\n",
       "            <tr>\n",
       "                        <th id=\"T_23380_level0_row4\" class=\"row_heading level0 row4\" >4</th>\n",
       "                        <td id=\"T_23380_row4_col0\" class=\"data row4 col0\" >241.836560</td>\n",
       "                        <td id=\"T_23380_row4_col1\" class=\"data row4 col1\" >379.174783</td>\n",
       "                        <td id=\"T_23380_row4_col2\" class=\"data row4 col2\" >445.570527</td>\n",
       "                        <td id=\"T_23380_row4_col3\" class=\"data row4 col3\" >368.119675</td>\n",
       "                        <td id=\"T_23380_row4_col4\" class=\"data row4 col4\" >0.000000</td>\n",
       "            </tr>\n",
       "    </tbody></table>"
      ],
      "text/plain": [
       "<pandas.io.formats.style.Styler at 0x7fde5ffb4730>"
      ]
     },
     "execution_count": 44,
     "metadata": {},
     "output_type": "execute_result"
    }
   ],
   "source": [
    "dfw = pd.DataFrame(a)\n",
    "cm = sns.light_palette(\"green\", as_cmap=True)\n",
    "s = dfw.style.background_gradient(cmap=cm)\n",
    "s\n",
    "[blue,       orange,     green,      red,       violet]z"
   ]
  },
  {
   "cell_type": "code",
   "execution_count": 45,
   "id": "wireless-broadway",
   "metadata": {},
   "outputs": [
    {
     "data": {
      "text/html": [
       "<style  type=\"text/css\" >\n",
       "#T_31d22_row0_col0,#T_31d22_row1_col1,#T_31d22_row2_col2,#T_31d22_row3_col3,#T_31d22_row4_col4{\n",
       "            background-color:  #008000;\n",
       "            color:  #f1f1f1;\n",
       "        }#T_31d22_row0_col1,#T_31d22_row1_col0{\n",
       "            background-color:  #c6e1c6;\n",
       "            color:  #000000;\n",
       "        }#T_31d22_row0_col2,#T_31d22_row0_col3,#T_31d22_row0_col4,#T_31d22_row1_col3,#T_31d22_row1_col4,#T_31d22_row2_col0,#T_31d22_row3_col0,#T_31d22_row3_col1,#T_31d22_row4_col0,#T_31d22_row4_col1{\n",
       "            background-color:  #ebf3eb;\n",
       "            color:  #000000;\n",
       "        }#T_31d22_row1_col2,#T_31d22_row2_col1,#T_31d22_row2_col4,#T_31d22_row4_col2{\n",
       "            background-color:  #eaf2ea;\n",
       "            color:  #000000;\n",
       "        }#T_31d22_row2_col3,#T_31d22_row3_col2{\n",
       "            background-color:  #e2efe2;\n",
       "            color:  #000000;\n",
       "        }#T_31d22_row3_col4,#T_31d22_row4_col3{\n",
       "            background-color:  #d5e9d5;\n",
       "            color:  #000000;\n",
       "        }</style><table id=\"T_31d22_\" ><thead>    <tr>        <th class=\"blank level0\" ></th>        <th class=\"col_heading level0 col0\" >0</th>        <th class=\"col_heading level0 col1\" >1</th>        <th class=\"col_heading level0 col2\" >2</th>        <th class=\"col_heading level0 col3\" >3</th>        <th class=\"col_heading level0 col4\" >4</th>    </tr></thead><tbody>\n",
       "                <tr>\n",
       "                        <th id=\"T_31d22_level0_row0\" class=\"row_heading level0 row0\" >0</th>\n",
       "                        <td id=\"T_31d22_row0_col0\" class=\"data row0 col0\" >1.000000</td>\n",
       "                        <td id=\"T_31d22_row0_col1\" class=\"data row0 col1\" >0.158366</td>\n",
       "                        <td id=\"T_31d22_row0_col2\" class=\"data row0 col2\" >0.000267</td>\n",
       "                        <td id=\"T_31d22_row0_col3\" class=\"data row0 col3\" >0.000100</td>\n",
       "                        <td id=\"T_31d22_row0_col4\" class=\"data row0 col4\" >0.000100</td>\n",
       "            </tr>\n",
       "            <tr>\n",
       "                        <th id=\"T_31d22_level0_row1\" class=\"row_heading level0 row1\" >1</th>\n",
       "                        <td id=\"T_31d22_row1_col0\" class=\"data row1 col0\" >0.158366</td>\n",
       "                        <td id=\"T_31d22_row1_col1\" class=\"data row1 col1\" >1.000000</td>\n",
       "                        <td id=\"T_31d22_row1_col2\" class=\"data row1 col2\" >0.005260</td>\n",
       "                        <td id=\"T_31d22_row1_col3\" class=\"data row1 col3\" >0.000100</td>\n",
       "                        <td id=\"T_31d22_row1_col4\" class=\"data row1 col4\" >0.000100</td>\n",
       "            </tr>\n",
       "            <tr>\n",
       "                        <th id=\"T_31d22_level0_row2\" class=\"row_heading level0 row2\" >2</th>\n",
       "                        <td id=\"T_31d22_row2_col0\" class=\"data row2 col0\" >0.000267</td>\n",
       "                        <td id=\"T_31d22_row2_col1\" class=\"data row2 col1\" >0.005260</td>\n",
       "                        <td id=\"T_31d22_row2_col2\" class=\"data row2 col2\" >1.000000</td>\n",
       "                        <td id=\"T_31d22_row2_col3\" class=\"data row2 col3\" >0.035871</td>\n",
       "                        <td id=\"T_31d22_row2_col4\" class=\"data row2 col4\" >0.007556</td>\n",
       "            </tr>\n",
       "            <tr>\n",
       "                        <th id=\"T_31d22_level0_row3\" class=\"row_heading level0 row3\" >3</th>\n",
       "                        <td id=\"T_31d22_row3_col0\" class=\"data row3 col0\" >0.000100</td>\n",
       "                        <td id=\"T_31d22_row3_col1\" class=\"data row3 col1\" >0.000100</td>\n",
       "                        <td id=\"T_31d22_row3_col2\" class=\"data row3 col2\" >0.035871</td>\n",
       "                        <td id=\"T_31d22_row3_col3\" class=\"data row3 col3\" >1.000000</td>\n",
       "                        <td id=\"T_31d22_row3_col4\" class=\"data row3 col4\" >0.093440</td>\n",
       "            </tr>\n",
       "            <tr>\n",
       "                        <th id=\"T_31d22_level0_row4\" class=\"row_heading level0 row4\" >4</th>\n",
       "                        <td id=\"T_31d22_row4_col0\" class=\"data row4 col0\" >0.000100</td>\n",
       "                        <td id=\"T_31d22_row4_col1\" class=\"data row4 col1\" >0.000100</td>\n",
       "                        <td id=\"T_31d22_row4_col2\" class=\"data row4 col2\" >0.007556</td>\n",
       "                        <td id=\"T_31d22_row4_col3\" class=\"data row4 col3\" >0.093440</td>\n",
       "                        <td id=\"T_31d22_row4_col4\" class=\"data row4 col4\" >1.000000</td>\n",
       "            </tr>\n",
       "    </tbody></table>"
      ],
      "text/plain": [
       "<pandas.io.formats.style.Styler at 0x7fde71ac8b80>"
      ]
     },
     "execution_count": 45,
     "metadata": {},
     "output_type": "execute_result"
    }
   ],
   "source": [
    "a = np.zeros(shape=(5, 5))\n",
    "x = [blue,orange,green,red,violet]\n",
    "for i,c in enumerate(x):\n",
    "    for j,b in enumerate(x):\n",
    "        a[i][j] = jacciboi(c,b)\n",
    "dfw = pd.DataFrame(a)\n",
    "cm = sns.light_palette(\"green\", as_cmap=True)\n",
    "s = dfw.style.background_gradient(cmap=cm)\n",
    "s\n",
    "[blue,       orange,     green,      red,       violet]"
   ]
  },
  {
   "cell_type": "code",
   "execution_count": 21,
   "id": "innovative-consultation",
   "metadata": {},
   "outputs": [
    {
     "name": "stdout",
     "output_type": "stream",
     "text": [
      "0.0 0.0 0.0 0.0\n"
     ]
    }
   ],
   "source": [
    "w1,w2,r12 = gmm10k(blue,orange)\n",
    "w3,w4,r13 = gmm10k(blue,green)\n",
    "_,_,r14 = gmm10k(blue,red)\n",
    "_,_,r15 = gmm10k(blue,violet)\n",
    "print(r12,r13,r14,r15)"
   ]
  },
  {
   "cell_type": "code",
   "execution_count": 22,
   "id": "forty-failing",
   "metadata": {},
   "outputs": [
    {
     "name": "stdout",
     "output_type": "stream",
     "text": [
      "170.11078510910792\n",
      "494.29827289141247\n",
      "309.86666176541036\n",
      "420.1881351876123\n"
     ]
    }
   ],
   "source": [
    "print(wasserstein_distance(blue,orange))\n",
    "print(wasserstein_distance(blue,green))\n",
    "print(wasserstein_distance(blue,red))\n",
    "print(wasserstein_distance(blue,violet))"
   ]
  },
  {
   "cell_type": "code",
   "execution_count": 23,
   "id": "labeled-colon",
   "metadata": {},
   "outputs": [
    {
     "name": "stdout",
     "output_type": "stream",
     "text": [
      "0.020247870658438312\n",
      "0.00014999250037498125\n",
      "0.00014999250037498125\n",
      "0.00014999250037498125\n"
     ]
    }
   ],
   "source": [
    "print(jacciboi(blue,orange))\n",
    "print(jacciboi(blue,green))\n",
    "print(jacciboi(blue,red))\n",
    "print(jacciboi(blue,violet))"
   ]
  },
  {
   "cell_type": "code",
   "execution_count": 24,
   "id": "geographic-klein",
   "metadata": {},
   "outputs": [
    {
     "name": "stdout",
     "output_type": "stream",
     "text": [
      "0.020247870658438312\n",
      "0.07762753865215752\n",
      "0.04776869893148963\n",
      "0.2526770618072515\n"
     ]
    }
   ],
   "source": [
    "print(jacciboi(blue,orange))\n",
    "print(jacciboi(orange,red))\n",
    "print(jacciboi(red,violet))\n",
    "print(jacciboi(green,violet))"
   ]
  },
  {
   "cell_type": "code",
   "execution_count": 46,
   "id": "integral-speech",
   "metadata": {},
   "outputs": [
    {
     "data": {
      "text/plain": [
       "<AxesSubplot:ylabel='Density'>"
      ]
     },
     "execution_count": 46,
     "metadata": {},
     "output_type": "execute_result"
    },
    {
     "data": {
      "image/png": "[encoded data removed]",
      "text/plain": [
       "<Figure size 432x288 with 1 Axes>"
      ]
     },
     "metadata": {},
     "output_type": "display_data"
    }
   ],
   "source": [
    "value1 = np.random.normal(loc=5,scale=25,size=10000)\n",
    "value2 = np.random.normal(loc=75,scale=45,size=5000)\n",
    "blue = np.concatenate((value1,value2))\n",
    "#blue = value1\n",
    "value1 = np.random.normal(loc=175,scale=59,size=10000)\n",
    "value2 = np.random.normal(loc=100,scale=34,size=5000)\n",
    "orange = np.concatenate((value1,value2))\n",
    "#orange = value1\n",
    "value1 = np.random.normal(loc=500,scale=75,size=10000)\n",
    "value2 = np.random.normal(loc=550,scale=32,size=5000)\n",
    "green = np.concatenate((value1,value2))\n",
    "#green = value1\n",
    "value1 = np.random.normal(loc=315,scale=35,size=10000)\n",
    "value2 = np.random.normal(loc=280,scale=45,size=5000)\n",
    "red = np.concatenate((value1,value2))\n",
    "#red = value1\n",
    "value1 = np.random.normal(loc=425,scale=30,size=10000)\n",
    "value2 = np.random.normal(loc=475,scale=45,size=5000)\n",
    "violet = np.concatenate((value1,value2))\n",
    "#violet = value1\n",
    "sns.distplot(blue,bins=150)\n",
    "sns.distplot(orange,bins=150)\n",
    "sns.distplot(green,bins=150)\n",
    "sns.distplot(red,bins=150)\n",
    "sns.distplot(violet,bins=150)"
   ]
  },
  {
   "cell_type": "code",
   "execution_count": 47,
   "id": "searching-protection",
   "metadata": {},
   "outputs": [
    {
     "data": {
      "text/html": [
       "<style  type=\"text/css\" >\n",
       "#T_738d1_row0_col0,#T_738d1_row1_col1,#T_738d1_row2_col2,#T_738d1_row3_col3,#T_738d1_row4_col4{\n",
       "            background-color:  #ebf3eb;\n",
       "            color:  #000000;\n",
       "        }#T_738d1_row0_col1{\n",
       "            background-color:  #9dcd9d;\n",
       "            color:  #000000;\n",
       "        }#T_738d1_row0_col2,#T_738d1_row0_col3,#T_738d1_row0_col4,#T_738d1_row2_col0,#T_738d1_row2_col1{\n",
       "            background-color:  #008000;\n",
       "            color:  #f1f1f1;\n",
       "        }#T_738d1_row1_col0{\n",
       "            background-color:  #b1d7b1;\n",
       "            color:  #000000;\n",
       "        }#T_738d1_row1_col2{\n",
       "            background-color:  #3a9c3a;\n",
       "            color:  #000000;\n",
       "        }#T_738d1_row1_col3,#T_738d1_row3_col0{\n",
       "            background-color:  #67b267;\n",
       "            color:  #000000;\n",
       "        }#T_738d1_row1_col4{\n",
       "            background-color:  #44a144;\n",
       "            color:  #000000;\n",
       "        }#T_738d1_row2_col3{\n",
       "            background-color:  #349934;\n",
       "            color:  #000000;\n",
       "        }#T_738d1_row2_col4{\n",
       "            background-color:  #c0dec0;\n",
       "            color:  #000000;\n",
       "        }#T_738d1_row3_col1{\n",
       "            background-color:  #89c389;\n",
       "            color:  #000000;\n",
       "        }#T_738d1_row3_col2{\n",
       "            background-color:  #84c084;\n",
       "            color:  #000000;\n",
       "        }#T_738d1_row3_col4{\n",
       "            background-color:  #9bcc9b;\n",
       "            color:  #000000;\n",
       "        }#T_738d1_row4_col0{\n",
       "            background-color:  #249224;\n",
       "            color:  #000000;\n",
       "        }#T_738d1_row4_col1{\n",
       "            background-color:  #2f972f;\n",
       "            color:  #000000;\n",
       "        }#T_738d1_row4_col2{\n",
       "            background-color:  #c7e1c7;\n",
       "            color:  #000000;\n",
       "        }#T_738d1_row4_col3{\n",
       "            background-color:  #74b974;\n",
       "            color:  #000000;\n",
       "        }</style><table id=\"T_738d1_\" ><thead>    <tr>        <th class=\"blank level0\" ></th>        <th class=\"col_heading level0 col0\" >0</th>        <th class=\"col_heading level0 col1\" >1</th>        <th class=\"col_heading level0 col2\" >2</th>        <th class=\"col_heading level0 col3\" >3</th>        <th class=\"col_heading level0 col4\" >4</th>    </tr></thead><tbody>\n",
       "                <tr>\n",
       "                        <th id=\"T_738d1_level0_row0\" class=\"row_heading level0 row0\" >0</th>\n",
       "                        <td id=\"T_738d1_row0_col0\" class=\"data row0 col0\" >0.000000</td>\n",
       "                        <td id=\"T_738d1_row0_col1\" class=\"data row0 col1\" >121.146631</td>\n",
       "                        <td id=\"T_738d1_row0_col2\" class=\"data row0 col2\" >488.210066</td>\n",
       "                        <td id=\"T_738d1_row0_col3\" class=\"data row0 col3\" >274.459358</td>\n",
       "                        <td id=\"T_738d1_row0_col4\" class=\"data row0 col4\" >413.829989</td>\n",
       "            </tr>\n",
       "            <tr>\n",
       "                        <th id=\"T_738d1_level0_row1\" class=\"row_heading level0 row1\" >1</th>\n",
       "                        <td id=\"T_738d1_row1_col0\" class=\"data row1 col0\" >121.146631</td>\n",
       "                        <td id=\"T_738d1_row1_col1\" class=\"data row1 col1\" >0.000000</td>\n",
       "                        <td id=\"T_738d1_row1_col2\" class=\"data row1 col2\" >367.063435</td>\n",
       "                        <td id=\"T_738d1_row1_col3\" class=\"data row1 col3\" >153.312728</td>\n",
       "                        <td id=\"T_738d1_row1_col4\" class=\"data row1 col4\" >292.683358</td>\n",
       "            </tr>\n",
       "            <tr>\n",
       "                        <th id=\"T_738d1_level0_row2\" class=\"row_heading level0 row2\" >2</th>\n",
       "                        <td id=\"T_738d1_row2_col0\" class=\"data row2 col0\" >488.210066</td>\n",
       "                        <td id=\"T_738d1_row2_col1\" class=\"data row2 col1\" >367.063435</td>\n",
       "                        <td id=\"T_738d1_row2_col2\" class=\"data row2 col2\" >0.000000</td>\n",
       "                        <td id=\"T_738d1_row2_col3\" class=\"data row2 col3\" >213.750707</td>\n",
       "                        <td id=\"T_738d1_row2_col4\" class=\"data row2 col4\" >75.608375</td>\n",
       "            </tr>\n",
       "            <tr>\n",
       "                        <th id=\"T_738d1_level0_row3\" class=\"row_heading level0 row3\" >3</th>\n",
       "                        <td id=\"T_738d1_row3_col0\" class=\"data row3 col0\" >274.459358</td>\n",
       "                        <td id=\"T_738d1_row3_col1\" class=\"data row3 col1\" >153.312728</td>\n",
       "                        <td id=\"T_738d1_row3_col2\" class=\"data row3 col2\" >213.750707</td>\n",
       "                        <td id=\"T_738d1_row3_col3\" class=\"data row3 col3\" >0.000000</td>\n",
       "                        <td id=\"T_738d1_row3_col4\" class=\"data row3 col4\" >139.370630</td>\n",
       "            </tr>\n",
       "            <tr>\n",
       "                        <th id=\"T_738d1_level0_row4\" class=\"row_heading level0 row4\" >4</th>\n",
       "                        <td id=\"T_738d1_row4_col0\" class=\"data row4 col0\" >413.829989</td>\n",
       "                        <td id=\"T_738d1_row4_col1\" class=\"data row4 col1\" >292.683358</td>\n",
       "                        <td id=\"T_738d1_row4_col2\" class=\"data row4 col2\" >75.608375</td>\n",
       "                        <td id=\"T_738d1_row4_col3\" class=\"data row4 col3\" >139.370630</td>\n",
       "                        <td id=\"T_738d1_row4_col4\" class=\"data row4 col4\" >0.000000</td>\n",
       "            </tr>\n",
       "    </tbody></table>"
      ],
      "text/plain": [
       "<pandas.io.formats.style.Styler at 0x7fde5fa4cca0>"
      ]
     },
     "execution_count": 47,
     "metadata": {},
     "output_type": "execute_result"
    }
   ],
   "source": [
    "a = np.zeros(shape=(5, 5))\n",
    "x = [blue,orange,green,red,violet]\n",
    "for i,c in enumerate(x):\n",
    "    for j,b in enumerate(x):\n",
    "        a[i][j] = wasserstein_distance(c,b)\n",
    "dfw = pd.DataFrame(a)\n",
    "cm = sns.light_palette(\"green\", as_cmap=True)\n",
    "s = dfw.style.background_gradient(cmap=cm)\n",
    "s"
   ]
  },
  {
   "cell_type": "code",
   "execution_count": 48,
   "id": "acute-counter",
   "metadata": {},
   "outputs": [
    {
     "name": "stdout",
     "output_type": "stream",
     "text": [
      "1\n",
      "2\n",
      "3\n",
      "4\n",
      "5\n",
      "6\n",
      "7\n",
      "8\n",
      "9\n",
      "10\n",
      "11\n",
      "12\n",
      "13\n",
      "14\n",
      "15\n",
      "16\n",
      "17\n",
      "18\n",
      "19\n",
      "20\n",
      "21\n",
      "22\n",
      "23\n",
      "24\n",
      "25\n"
     ]
    },
    {
     "data": {
      "text/html": [
       "<style  type=\"text/css\" >\n",
       "#T_5b359_row0_col0,#T_5b359_row1_col1,#T_5b359_row2_col2,#T_5b359_row3_col3,#T_5b359_row4_col4{\n",
       "            background-color:  #ebf3eb;\n",
       "            color:  #000000;\n",
       "        }#T_5b359_row0_col1,#T_5b359_row4_col0{\n",
       "            background-color:  #c8e2c8;\n",
       "            color:  #000000;\n",
       "        }#T_5b359_row0_col2,#T_5b359_row2_col0,#T_5b359_row2_col1,#T_5b359_row2_col3,#T_5b359_row2_col4{\n",
       "            background-color:  #008000;\n",
       "            color:  #f1f1f1;\n",
       "        }#T_5b359_row0_col3{\n",
       "            background-color:  #87c287;\n",
       "            color:  #000000;\n",
       "        }#T_5b359_row0_col4{\n",
       "            background-color:  #a9d3a9;\n",
       "            color:  #000000;\n",
       "        }#T_5b359_row1_col0{\n",
       "            background-color:  #d1e6d1;\n",
       "            color:  #000000;\n",
       "        }#T_5b359_row1_col2{\n",
       "            background-color:  #2a952a;\n",
       "            color:  #000000;\n",
       "        }#T_5b359_row1_col3,#T_5b359_row3_col1{\n",
       "            background-color:  #eaf2ea;\n",
       "            color:  #000000;\n",
       "        }#T_5b359_row1_col4{\n",
       "            background-color:  #9acb9a;\n",
       "            color:  #000000;\n",
       "        }#T_5b359_row3_col0{\n",
       "            background-color:  #add5ad;\n",
       "            color:  #000000;\n",
       "        }#T_5b359_row3_col2{\n",
       "            background-color:  #51a851;\n",
       "            color:  #000000;\n",
       "        }#T_5b359_row3_col4{\n",
       "            background-color:  #bdddbd;\n",
       "            color:  #000000;\n",
       "        }#T_5b359_row4_col1{\n",
       "            background-color:  #afd6af;\n",
       "            color:  #000000;\n",
       "        }#T_5b359_row4_col2{\n",
       "            background-color:  #71b771;\n",
       "            color:  #000000;\n",
       "        }#T_5b359_row4_col3{\n",
       "            background-color:  #c4e0c4;\n",
       "            color:  #000000;\n",
       "        }</style><table id=\"T_5b359_\" ><thead>    <tr>        <th class=\"blank level0\" ></th>        <th class=\"col_heading level0 col0\" >0</th>        <th class=\"col_heading level0 col1\" >1</th>        <th class=\"col_heading level0 col2\" >2</th>        <th class=\"col_heading level0 col3\" >3</th>        <th class=\"col_heading level0 col4\" >4</th>    </tr></thead><tbody>\n",
       "                <tr>\n",
       "                        <th id=\"T_5b359_level0_row0\" class=\"row_heading level0 row0\" >0</th>\n",
       "                        <td id=\"T_5b359_row0_col0\" class=\"data row0 col0\" >0.000001</td>\n",
       "                        <td id=\"T_5b359_row0_col1\" class=\"data row0 col1\" >36.396997</td>\n",
       "                        <td id=\"T_5b359_row0_col2\" class=\"data row0 col2\" >327.214810</td>\n",
       "                        <td id=\"T_5b359_row0_col3\" class=\"data row0 col3\" >86.236947</td>\n",
       "                        <td id=\"T_5b359_row0_col4\" class=\"data row0 col4\" >49.360970</td>\n",
       "            </tr>\n",
       "            <tr>\n",
       "                        <th id=\"T_5b359_level0_row1\" class=\"row_heading level0 row1\" >1</th>\n",
       "                        <td id=\"T_5b359_row1_col0\" class=\"data row1 col0\" >36.385737</td>\n",
       "                        <td id=\"T_5b359_row1_col1\" class=\"data row1 col1\" >0.000001</td>\n",
       "                        <td id=\"T_5b359_row1_col2\" class=\"data row1 col2\" >267.400126</td>\n",
       "                        <td id=\"T_5b359_row1_col3\" class=\"data row1 col3\" >0.869293</td>\n",
       "                        <td id=\"T_5b359_row1_col4\" class=\"data row1 col4\" >60.847748</td>\n",
       "            </tr>\n",
       "            <tr>\n",
       "                        <th id=\"T_5b359_level0_row2\" class=\"row_heading level0 row2\" >2</th>\n",
       "                        <td id=\"T_5b359_row2_col0\" class=\"data row2 col0\" >327.073971</td>\n",
       "                        <td id=\"T_5b359_row2_col1\" class=\"data row2 col1\" >244.996982</td>\n",
       "                        <td id=\"T_5b359_row2_col2\" class=\"data row2 col2\" >0.441787</td>\n",
       "                        <td id=\"T_5b359_row2_col3\" class=\"data row2 col3\" >203.536076</td>\n",
       "                        <td id=\"T_5b359_row2_col4\" class=\"data row2 col4\" >176.093657</td>\n",
       "            </tr>\n",
       "            <tr>\n",
       "                        <th id=\"T_5b359_level0_row3\" class=\"row_heading level0 row3\" >3</th>\n",
       "                        <td id=\"T_5b359_row3_col0\" class=\"data row3 col0\" >86.539397</td>\n",
       "                        <td id=\"T_5b359_row3_col1\" class=\"data row3 col1\" >1.723954</td>\n",
       "                        <td id=\"T_5b359_row3_col2\" class=\"data row3 col2\" >214.469598</td>\n",
       "                        <td id=\"T_5b359_row3_col3\" class=\"data row3 col3\" >0.020346</td>\n",
       "                        <td id=\"T_5b359_row3_col4\" class=\"data row3 col4\" >33.892671</td>\n",
       "            </tr>\n",
       "            <tr>\n",
       "                        <th id=\"T_5b359_level0_row4\" class=\"row_heading level0 row4\" >4</th>\n",
       "                        <td id=\"T_5b359_row4_col0\" class=\"data row4 col0\" >48.603641</td>\n",
       "                        <td id=\"T_5b359_row4_col1\" class=\"data row4 col1\" >63.148248</td>\n",
       "                        <td id=\"T_5b359_row4_col2\" class=\"data row4 col2\" >169.277093</td>\n",
       "                        <td id=\"T_5b359_row4_col3\" class=\"data row4 col3\" >33.893761</td>\n",
       "                        <td id=\"T_5b359_row4_col4\" class=\"data row4 col4\" >0.000000</td>\n",
       "            </tr>\n",
       "    </tbody></table>"
      ],
      "text/plain": [
       "<pandas.io.formats.style.Styler at 0x7fde5febea30>"
      ]
     },
     "execution_count": 48,
     "metadata": {},
     "output_type": "execute_result"
    }
   ],
   "source": [
    "a = np.zeros(shape=(5, 5))\n",
    "x = [blue,orange,green,red,violet]\n",
    "qw=0\n",
    "for i,c in enumerate(x):\n",
    "    for j,b in enumerate(x):\n",
    "        _,_,a[i][j] = gmm10k(c,b)\n",
    "        qw=qw+1\n",
    "        print(qw)\n",
    "dfw = pd.DataFrame(a)\n",
    "cm = sns.light_palette(\"green\", as_cmap=True)\n",
    "s = dfw.style.background_gradient(cmap=cm)\n",
    "s"
   ]
  },
  {
   "cell_type": "code",
   "execution_count": 49,
   "id": "comic-exhaust",
   "metadata": {},
   "outputs": [
    {
     "data": {
      "text/html": [
       "<style  type=\"text/css\" >\n",
       "#T_9995b_row0_col0,#T_9995b_row1_col1,#T_9995b_row2_col2,#T_9995b_row3_col3,#T_9995b_row4_col4{\n",
       "            background-color:  #008000;\n",
       "            color:  #f1f1f1;\n",
       "        }#T_9995b_row0_col1{\n",
       "            background-color:  #c6e1c6;\n",
       "            color:  #000000;\n",
       "        }#T_9995b_row0_col2,#T_9995b_row0_col3,#T_9995b_row0_col4,#T_9995b_row1_col4,#T_9995b_row2_col0,#T_9995b_row3_col0,#T_9995b_row4_col0,#T_9995b_row4_col1{\n",
       "            background-color:  #ebf3eb;\n",
       "            color:  #000000;\n",
       "        }#T_9995b_row1_col0{\n",
       "            background-color:  #c5e0c5;\n",
       "            color:  #000000;\n",
       "        }#T_9995b_row1_col2,#T_9995b_row2_col1{\n",
       "            background-color:  #eaf2ea;\n",
       "            color:  #000000;\n",
       "        }#T_9995b_row1_col3,#T_9995b_row3_col1{\n",
       "            background-color:  #d6e9d6;\n",
       "            color:  #000000;\n",
       "        }#T_9995b_row2_col3{\n",
       "            background-color:  #e4f0e4;\n",
       "            color:  #000000;\n",
       "        }#T_9995b_row2_col4,#T_9995b_row4_col2{\n",
       "            background-color:  #a8d2a8;\n",
       "            color:  #000000;\n",
       "        }#T_9995b_row3_col2,#T_9995b_row4_col3{\n",
       "            background-color:  #e3efe3;\n",
       "            color:  #000000;\n",
       "        }#T_9995b_row3_col4{\n",
       "            background-color:  #e2efe2;\n",
       "            color:  #000000;\n",
       "        }</style><table id=\"T_9995b_\" ><thead>    <tr>        <th class=\"blank level0\" ></th>        <th class=\"col_heading level0 col0\" >0</th>        <th class=\"col_heading level0 col1\" >1</th>        <th class=\"col_heading level0 col2\" >2</th>        <th class=\"col_heading level0 col3\" >3</th>        <th class=\"col_heading level0 col4\" >4</th>    </tr></thead><tbody>\n",
       "                <tr>\n",
       "                        <th id=\"T_9995b_level0_row0\" class=\"row_heading level0 row0\" >0</th>\n",
       "                        <td id=\"T_9995b_row0_col0\" class=\"data row0 col0\" >1.000000</td>\n",
       "                        <td id=\"T_9995b_row0_col1\" class=\"data row0 col1\" >0.160337</td>\n",
       "                        <td id=\"T_9995b_row0_col2\" class=\"data row0 col2\" >0.000133</td>\n",
       "                        <td id=\"T_9995b_row0_col3\" class=\"data row0 col3\" >0.003915</td>\n",
       "                        <td id=\"T_9995b_row0_col4\" class=\"data row0 col4\" >0.000100</td>\n",
       "            </tr>\n",
       "            <tr>\n",
       "                        <th id=\"T_9995b_level0_row1\" class=\"row_heading level0 row1\" >1</th>\n",
       "                        <td id=\"T_9995b_row1_col0\" class=\"data row1 col0\" >0.160337</td>\n",
       "                        <td id=\"T_9995b_row1_col1\" class=\"data row1 col1\" >1.000000</td>\n",
       "                        <td id=\"T_9995b_row1_col2\" class=\"data row1 col2\" >0.007150</td>\n",
       "                        <td id=\"T_9995b_row1_col3\" class=\"data row1 col3\" >0.090658</td>\n",
       "                        <td id=\"T_9995b_row1_col4\" class=\"data row1 col4\" >0.001770</td>\n",
       "            </tr>\n",
       "            <tr>\n",
       "                        <th id=\"T_9995b_level0_row2\" class=\"row_heading level0 row2\" >2</th>\n",
       "                        <td id=\"T_9995b_row2_col0\" class=\"data row2 col0\" >0.000167</td>\n",
       "                        <td id=\"T_9995b_row2_col1\" class=\"data row2 col1\" >0.007150</td>\n",
       "                        <td id=\"T_9995b_row2_col2\" class=\"data row2 col2\" >1.000000</td>\n",
       "                        <td id=\"T_9995b_row2_col3\" class=\"data row2 col3\" >0.031916</td>\n",
       "                        <td id=\"T_9995b_row2_col4\" class=\"data row2 col4\" >0.284693</td>\n",
       "            </tr>\n",
       "            <tr>\n",
       "                        <th id=\"T_9995b_level0_row3\" class=\"row_heading level0 row3\" >3</th>\n",
       "                        <td id=\"T_9995b_row3_col0\" class=\"data row3 col0\" >0.003915</td>\n",
       "                        <td id=\"T_9995b_row3_col1\" class=\"data row3 col1\" >0.090658</td>\n",
       "                        <td id=\"T_9995b_row3_col2\" class=\"data row3 col2\" >0.031916</td>\n",
       "                        <td id=\"T_9995b_row3_col3\" class=\"data row3 col3\" >1.000000</td>\n",
       "                        <td id=\"T_9995b_row3_col4\" class=\"data row3 col4\" >0.035692</td>\n",
       "            </tr>\n",
       "            <tr>\n",
       "                        <th id=\"T_9995b_level0_row4\" class=\"row_heading level0 row4\" >4</th>\n",
       "                        <td id=\"T_9995b_row4_col0\" class=\"data row4 col0\" >0.000100</td>\n",
       "                        <td id=\"T_9995b_row4_col1\" class=\"data row4 col1\" >0.001770</td>\n",
       "                        <td id=\"T_9995b_row4_col2\" class=\"data row4 col2\" >0.284693</td>\n",
       "                        <td id=\"T_9995b_row4_col3\" class=\"data row4 col3\" >0.035692</td>\n",
       "                        <td id=\"T_9995b_row4_col4\" class=\"data row4 col4\" >1.000000</td>\n",
       "            </tr>\n",
       "    </tbody></table>"
      ],
      "text/plain": [
       "<pandas.io.formats.style.Styler at 0x7fde5f9d5f40>"
      ]
     },
     "execution_count": 49,
     "metadata": {},
     "output_type": "execute_result"
    }
   ],
   "source": [
    "a = np.zeros(shape=(5, 5))\n",
    "x = [blue,orange,green,red,violet]\n",
    "for i,c in enumerate(x):\n",
    "    for j,b in enumerate(x):\n",
    "        a[i][j] = jacciboi(c,b)\n",
    "dfw = pd.DataFrame(a)\n",
    "cm = sns.light_palette(\"green\", as_cmap=True)\n",
    "s = dfw.style.background_gradient(cmap=cm)\n",
    "s"
   ]
  },
  {
   "cell_type": "code",
   "execution_count": 26,
   "id": "killing-affiliate",
   "metadata": {},
   "outputs": [
    {
     "name": "stdout",
     "output_type": "stream",
     "text": [
      "39.29441648928837 347.0807296169336 89.66776767239617 51.944308056699825\n"
     ]
    }
   ],
   "source": [
    "w1,w2,r12 = gmm10k(blue,orange)\n",
    "w3,w4,r13 = gmm10k(blue,green)\n",
    "_,_,r14 = gmm10k(blue,red)\n",
    "_,_,r15 = gmm10k(blue,violet)\n",
    "print(r12,r13,r14,r15)"
   ]
  },
  {
   "cell_type": "code",
   "execution_count": 27,
   "id": "wrong-mobile",
   "metadata": {},
   "outputs": [
    {
     "name": "stdout",
     "output_type": "stream",
     "text": [
      "122.16258302039729\n",
      "488.7675192545349\n",
      "275.5788909353158\n",
      "413.7733589729642\n"
     ]
    }
   ],
   "source": [
    "print(wasserstein_distance(blue,orange))\n",
    "print(wasserstein_distance(blue,green))\n",
    "print(wasserstein_distance(blue,red))\n",
    "print(wasserstein_distance(blue,violet))"
   ]
  },
  {
   "cell_type": "code",
   "execution_count": 28,
   "id": "western-stage",
   "metadata": {},
   "outputs": [
    {
     "name": "stdout",
     "output_type": "stream",
     "text": [
      "0.15747241725175526\n",
      "0.00023335666900023335\n",
      "0.0037468218921450553\n",
      "9.999666677777408e-05\n"
     ]
    }
   ],
   "source": [
    "print(jacciboi(blue,orange))\n",
    "print(jacciboi(blue,green))\n",
    "print(jacciboi(blue,red))\n",
    "print(jacciboi(blue,violet))"
   ]
  },
  {
   "cell_type": "code",
   "execution_count": 29,
   "id": "fallen-laser",
   "metadata": {},
   "outputs": [
    {
     "name": "stdout",
     "output_type": "stream",
     "text": [
      "0.15747241725175526\n",
      "0.08552821997105645\n",
      "0.042819407757542054\n",
      "0.2809084699453552\n"
     ]
    }
   ],
   "source": [
    "print(jacciboi(blue,orange))\n",
    "print(jacciboi(orange,red))\n",
    "print(jacciboi(red,violet))\n",
    "print(jacciboi(green,violet))"
   ]
  },
  {
   "cell_type": "code",
   "execution_count": 7,
   "id": "judicial-territory",
   "metadata": {},
   "outputs": [
    {
     "data": {
      "text/plain": [
       "<AxesSubplot:ylabel='Density'>"
      ]
     },
     "execution_count": 7,
     "metadata": {},
     "output_type": "execute_result"
    },
    {
     "data": {
      "image/png": "[encoded data removed]",
      "text/plain": [
       "<Figure size 432x288 with 1 Axes>"
      ]
     },
     "metadata": {},
     "output_type": "display_data"
    }
   ],
   "source": [
    "value1 = np.random.normal(loc=5,scale=25,size=10000)\n",
    "value2 = np.random.normal(loc=75,scale=45,size=5000)\n",
    "blue = np.concatenate((value1,value2))\n",
    "value1 = np.random.normal(loc=175,scale=59,size=10000)\n",
    "value2 = np.random.normal(loc=100,scale=34,size=5000)\n",
    "orange = np.concatenate((value1,value2))\n",
    "value1 = np.random.normal(loc=500,scale=75,size=10000)\n",
    "value2 = np.random.normal(loc=550,scale=32,size=5000)\n",
    "green = np.concatenate((value1,value2))\n",
    "value1 = np.random.normal(loc=315,scale=35,size=10000)\n",
    "value2 = np.random.normal(loc=280,scale=45,size=5000)\n",
    "red = np.concatenate((value1,value2))\n",
    "value1 = np.random.normal(loc=425,scale=30,size=10000)\n",
    "value2 = np.random.normal(loc=335,scale=25,size=5000)\n",
    "violet = np.concatenate((value1,value2))\n",
    "sns.distplot(blue,bins=50)\n",
    "sns.distplot(orange,bins=50)\n",
    "sns.distplot(green,bins=50)\n",
    "sns.distplot(red,bins=50)\n",
    "sns.distplot(violet,bins=50)"
   ]
  },
  {
   "cell_type": "code",
   "execution_count": 8,
   "id": "lined-papua",
   "metadata": {},
   "outputs": [
    {
     "data": {
      "text/html": [
       "<style  type=\"text/css\" >\n",
       "#T_bd636_row0_col0,#T_bd636_row1_col1,#T_bd636_row2_col2,#T_bd636_row3_col3,#T_bd636_row4_col4{\n",
       "            background-color:  #ebf3eb;\n",
       "            color:  #000000;\n",
       "        }#T_bd636_row0_col1,#T_bd636_row2_col4{\n",
       "            background-color:  #9dcd9d;\n",
       "            color:  #000000;\n",
       "        }#T_bd636_row0_col2,#T_bd636_row0_col3,#T_bd636_row0_col4,#T_bd636_row2_col0,#T_bd636_row2_col1{\n",
       "            background-color:  #008000;\n",
       "            color:  #f1f1f1;\n",
       "        }#T_bd636_row1_col0,#T_bd636_row3_col4,#T_bd636_row4_col2{\n",
       "            background-color:  #b1d7b1;\n",
       "            color:  #000000;\n",
       "        }#T_bd636_row1_col2,#T_bd636_row4_col0{\n",
       "            background-color:  #3a9c3a;\n",
       "            color:  #000000;\n",
       "        }#T_bd636_row1_col3{\n",
       "            background-color:  #68b368;\n",
       "            color:  #000000;\n",
       "        }#T_bd636_row1_col4,#T_bd636_row4_col1{\n",
       "            background-color:  #4da64d;\n",
       "            color:  #000000;\n",
       "        }#T_bd636_row2_col3{\n",
       "            background-color:  #349a34;\n",
       "            color:  #000000;\n",
       "        }#T_bd636_row3_col0{\n",
       "            background-color:  #66b266;\n",
       "            color:  #000000;\n",
       "        }#T_bd636_row3_col1{\n",
       "            background-color:  #88c388;\n",
       "            color:  #000000;\n",
       "        }#T_bd636_row3_col2{\n",
       "            background-color:  #84c184;\n",
       "            color:  #000000;\n",
       "        }#T_bd636_row4_col3{\n",
       "            background-color:  #9ccd9c;\n",
       "            color:  #000000;\n",
       "        }</style><table id=\"T_bd636_\" ><thead>    <tr>        <th class=\"blank level0\" ></th>        <th class=\"col_heading level0 col0\" >0</th>        <th class=\"col_heading level0 col1\" >1</th>        <th class=\"col_heading level0 col2\" >2</th>        <th class=\"col_heading level0 col3\" >3</th>        <th class=\"col_heading level0 col4\" >4</th>    </tr></thead><tbody>\n",
       "                <tr>\n",
       "                        <th id=\"T_bd636_level0_row0\" class=\"row_heading level0 row0\" >0</th>\n",
       "                        <td id=\"T_bd636_row0_col0\" class=\"data row0 col0\" >0.000000</td>\n",
       "                        <td id=\"T_bd636_row0_col1\" class=\"data row0 col1\" >121.670259</td>\n",
       "                        <td id=\"T_bd636_row0_col2\" class=\"data row0 col2\" >488.653835</td>\n",
       "                        <td id=\"T_bd636_row0_col3\" class=\"data row0 col3\" >275.227835</td>\n",
       "                        <td id=\"T_bd636_row0_col4\" class=\"data row0 col4\" >366.913190</td>\n",
       "            </tr>\n",
       "            <tr>\n",
       "                        <th id=\"T_bd636_level0_row1\" class=\"row_heading level0 row1\" >1</th>\n",
       "                        <td id=\"T_bd636_row1_col0\" class=\"data row1 col0\" >121.670259</td>\n",
       "                        <td id=\"T_bd636_row1_col1\" class=\"data row1 col1\" >0.000000</td>\n",
       "                        <td id=\"T_bd636_row1_col2\" class=\"data row1 col2\" >366.983576</td>\n",
       "                        <td id=\"T_bd636_row1_col3\" class=\"data row1 col3\" >153.557576</td>\n",
       "                        <td id=\"T_bd636_row1_col4\" class=\"data row1 col4\" >245.242931</td>\n",
       "            </tr>\n",
       "            <tr>\n",
       "                        <th id=\"T_bd636_level0_row2\" class=\"row_heading level0 row2\" >2</th>\n",
       "                        <td id=\"T_bd636_row2_col0\" class=\"data row2 col0\" >488.653835</td>\n",
       "                        <td id=\"T_bd636_row2_col1\" class=\"data row2 col1\" >366.983576</td>\n",
       "                        <td id=\"T_bd636_row2_col2\" class=\"data row2 col2\" >0.000000</td>\n",
       "                        <td id=\"T_bd636_row2_col3\" class=\"data row2 col3\" >213.426000</td>\n",
       "                        <td id=\"T_bd636_row2_col4\" class=\"data row2 col4\" >121.762465</td>\n",
       "            </tr>\n",
       "            <tr>\n",
       "                        <th id=\"T_bd636_level0_row3\" class=\"row_heading level0 row3\" >3</th>\n",
       "                        <td id=\"T_bd636_row3_col0\" class=\"data row3 col0\" >275.227835</td>\n",
       "                        <td id=\"T_bd636_row3_col1\" class=\"data row3 col1\" >153.557576</td>\n",
       "                        <td id=\"T_bd636_row3_col2\" class=\"data row3 col2\" >213.426000</td>\n",
       "                        <td id=\"T_bd636_row3_col3\" class=\"data row3 col3\" >0.000000</td>\n",
       "                        <td id=\"T_bd636_row3_col4\" class=\"data row3 col4\" >91.685355</td>\n",
       "            </tr>\n",
       "            <tr>\n",
       "                        <th id=\"T_bd636_level0_row4\" class=\"row_heading level0 row4\" >4</th>\n",
       "                        <td id=\"T_bd636_row4_col0\" class=\"data row4 col0\" >366.913190</td>\n",
       "                        <td id=\"T_bd636_row4_col1\" class=\"data row4 col1\" >245.242931</td>\n",
       "                        <td id=\"T_bd636_row4_col2\" class=\"data row4 col2\" >121.762465</td>\n",
       "                        <td id=\"T_bd636_row4_col3\" class=\"data row4 col3\" >91.685355</td>\n",
       "                        <td id=\"T_bd636_row4_col4\" class=\"data row4 col4\" >0.000000</td>\n",
       "            </tr>\n",
       "    </tbody></table>"
      ],
      "text/plain": [
       "<pandas.io.formats.style.Styler at 0x7f31ef412370>"
      ]
     },
     "execution_count": 8,
     "metadata": {},
     "output_type": "execute_result"
    }
   ],
   "source": [
    "a = np.zeros(shape=(5, 5))\n",
    "x = [blue,orange,green,red,violet]\n",
    "for i,c in enumerate(x):\n",
    "    for j,b in enumerate(x):\n",
    "        a[i][j] = wasserstein_distance(c,b)\n",
    "dfw = pd.DataFrame(a)\n",
    "cm = sns.light_palette(\"green\", as_cmap=True)\n",
    "s = dfw.style.background_gradient(cmap=cm)\n",
    "s"
   ]
  },
  {
   "cell_type": "code",
   "execution_count": 9,
   "id": "million-geography",
   "metadata": {},
   "outputs": [
    {
     "name": "stdout",
     "output_type": "stream",
     "text": [
      "1\n",
      "2\n",
      "3\n",
      "4\n",
      "5\n",
      "6\n",
      "7\n",
      "8\n",
      "9\n",
      "10\n",
      "11\n",
      "12\n",
      "13\n",
      "14\n",
      "15\n",
      "16\n",
      "17\n",
      "18\n",
      "19\n",
      "20\n",
      "21\n",
      "22\n",
      "23\n",
      "24\n",
      "25\n"
     ]
    },
    {
     "data": {
      "text/html": [
       "<style  type=\"text/css\" >\n",
       "#T_4f889_row0_col0,#T_4f889_row1_col1,#T_4f889_row1_col3,#T_4f889_row2_col2,#T_4f889_row3_col1,#T_4f889_row3_col3,#T_4f889_row4_col4{\n",
       "            background-color:  #ebf3eb;\n",
       "            color:  #000000;\n",
       "        }#T_4f889_row0_col1{\n",
       "            background-color:  #cfe5cf;\n",
       "            color:  #000000;\n",
       "        }#T_4f889_row0_col2,#T_4f889_row2_col0,#T_4f889_row2_col1,#T_4f889_row2_col3,#T_4f889_row2_col4{\n",
       "            background-color:  #008000;\n",
       "            color:  #f1f1f1;\n",
       "        }#T_4f889_row0_col3{\n",
       "            background-color:  #9fce9f;\n",
       "            color:  #000000;\n",
       "        }#T_4f889_row0_col4{\n",
       "            background-color:  #a5d1a5;\n",
       "            color:  #000000;\n",
       "        }#T_4f889_row1_col0,#T_4f889_row4_col1{\n",
       "            background-color:  #d4e8d4;\n",
       "            color:  #000000;\n",
       "        }#T_4f889_row1_col2{\n",
       "            background-color:  #289428;\n",
       "            color:  #000000;\n",
       "        }#T_4f889_row1_col4{\n",
       "            background-color:  #cbe4cb;\n",
       "            color:  #000000;\n",
       "        }#T_4f889_row3_col0{\n",
       "            background-color:  #b5d9b5;\n",
       "            color:  #000000;\n",
       "        }#T_4f889_row3_col2{\n",
       "            background-color:  #48a348;\n",
       "            color:  #000000;\n",
       "        }#T_4f889_row3_col4{\n",
       "            background-color:  #e0eedf;\n",
       "            color:  #000000;\n",
       "        }#T_4f889_row4_col0{\n",
       "            background-color:  #c0dec0;\n",
       "            color:  #000000;\n",
       "        }#T_4f889_row4_col2{\n",
       "            background-color:  #5bad5b;\n",
       "            color:  #000000;\n",
       "        }#T_4f889_row4_col3{\n",
       "            background-color:  #e1eee1;\n",
       "            color:  #000000;\n",
       "        }</style><table id=\"T_4f889_\" ><thead>    <tr>        <th class=\"blank level0\" ></th>        <th class=\"col_heading level0 col0\" >0</th>        <th class=\"col_heading level0 col1\" >1</th>        <th class=\"col_heading level0 col2\" >2</th>        <th class=\"col_heading level0 col3\" >3</th>        <th class=\"col_heading level0 col4\" >4</th>    </tr></thead><tbody>\n",
       "                <tr>\n",
       "                        <th id=\"T_4f889_level0_row0\" class=\"row_heading level0 row0\" >0</th>\n",
       "                        <td id=\"T_4f889_row0_col0\" class=\"data row0 col0\" >0.000502</td>\n",
       "                        <td id=\"T_4f889_row0_col1\" class=\"data row0 col1\" >34.754130</td>\n",
       "                        <td id=\"T_4f889_row0_col2\" class=\"data row0 col2\" >352.614852</td>\n",
       "                        <td id=\"T_4f889_row0_col3\" class=\"data row0 col3\" >79.144788</td>\n",
       "                        <td id=\"T_4f889_row0_col4\" class=\"data row0 col4\" >64.229933</td>\n",
       "            </tr>\n",
       "            <tr>\n",
       "                        <th id=\"T_4f889_level0_row1\" class=\"row_heading level0 row1\" >1</th>\n",
       "                        <td id=\"T_4f889_row1_col0\" class=\"data row1 col0\" >34.768903</td>\n",
       "                        <td id=\"T_4f889_row1_col1\" class=\"data row1 col1\" >0.000000</td>\n",
       "                        <td id=\"T_4f889_row1_col2\" class=\"data row1 col2\" >291.367532</td>\n",
       "                        <td id=\"T_4f889_row1_col3\" class=\"data row1 col3\" >0.473524</td>\n",
       "                        <td id=\"T_4f889_row1_col4\" class=\"data row1 col4\" >28.893739</td>\n",
       "            </tr>\n",
       "            <tr>\n",
       "                        <th id=\"T_4f889_level0_row2\" class=\"row_heading level0 row2\" >2</th>\n",
       "                        <td id=\"T_4f889_row2_col0\" class=\"data row2 col0\" >352.487134</td>\n",
       "                        <td id=\"T_4f889_row2_col1\" class=\"data row2 col1\" >292.165520</td>\n",
       "                        <td id=\"T_4f889_row2_col2\" class=\"data row2 col2\" >0.000173</td>\n",
       "                        <td id=\"T_4f889_row2_col3\" class=\"data row2 col3\" >245.571356</td>\n",
       "                        <td id=\"T_4f889_row2_col4\" class=\"data row2 col4\" >215.527560</td>\n",
       "            </tr>\n",
       "            <tr>\n",
       "                        <th id=\"T_4f889_level0_row3\" class=\"row_heading level0 row3\" >3</th>\n",
       "                        <td id=\"T_4f889_row3_col0\" class=\"data row3 col0\" >79.864697</td>\n",
       "                        <td id=\"T_4f889_row3_col1\" class=\"data row3 col1\" >0.133670</td>\n",
       "                        <td id=\"T_4f889_row3_col2\" class=\"data row3 col2\" >244.979249</td>\n",
       "                        <td id=\"T_4f889_row3_col3\" class=\"data row3 col3\" >0.008623</td>\n",
       "                        <td id=\"T_4f889_row3_col4\" class=\"data row3 col4\" >10.325839</td>\n",
       "            </tr>\n",
       "            <tr>\n",
       "                        <th id=\"T_4f889_level0_row4\" class=\"row_heading level0 row4\" >4</th>\n",
       "                        <td id=\"T_4f889_row4_col0\" class=\"data row4 col0\" >64.007670</td>\n",
       "                        <td id=\"T_4f889_row4_col1\" class=\"data row4 col1\" >28.740760</td>\n",
       "                        <td id=\"T_4f889_row4_col2\" class=\"data row4 col2\" >215.468616</td>\n",
       "                        <td id=\"T_4f889_row4_col3\" class=\"data row4 col3\" >10.325839</td>\n",
       "                        <td id=\"T_4f889_row4_col4\" class=\"data row4 col4\" >0.000059</td>\n",
       "            </tr>\n",
       "    </tbody></table>"
      ],
      "text/plain": [
       "<pandas.io.formats.style.Styler at 0x7f31877e0100>"
      ]
     },
     "execution_count": 9,
     "metadata": {},
     "output_type": "execute_result"
    }
   ],
   "source": [
    "a = np.zeros(shape=(5, 5))\n",
    "x = [blue,orange,green,red,violet]\n",
    "qw=0\n",
    "for i,c in enumerate(x):\n",
    "    for j,b in enumerate(x):\n",
    "        _,_,a[i][j] = gmm10k(c,b)\n",
    "        qw=qw+1\n",
    "        print(qw)\n",
    "dfw = pd.DataFrame(a)\n",
    "cm = sns.light_palette(\"green\", as_cmap=True)\n",
    "s = dfw.style.background_gradient(cmap=cm)\n",
    "s"
   ]
  },
  {
   "cell_type": "code",
   "execution_count": 10,
   "id": "talented-tattoo",
   "metadata": {},
   "outputs": [
    {
     "data": {
      "text/html": [
       "<style  type=\"text/css\" >\n",
       "#T_067fd_row0_col0,#T_067fd_row1_col1,#T_067fd_row2_col2,#T_067fd_row3_col3,#T_067fd_row4_col4{\n",
       "            background-color:  #008000;\n",
       "            color:  #f1f1f1;\n",
       "        }#T_067fd_row0_col1{\n",
       "            background-color:  #c6e1c6;\n",
       "            color:  #000000;\n",
       "        }#T_067fd_row0_col2,#T_067fd_row0_col3,#T_067fd_row0_col4,#T_067fd_row2_col0,#T_067fd_row2_col1,#T_067fd_row4_col0{\n",
       "            background-color:  #ebf3eb;\n",
       "            color:  #000000;\n",
       "        }#T_067fd_row1_col0{\n",
       "            background-color:  #c5e0c5;\n",
       "            color:  #000000;\n",
       "        }#T_067fd_row1_col2,#T_067fd_row3_col0{\n",
       "            background-color:  #eaf2ea;\n",
       "            color:  #000000;\n",
       "        }#T_067fd_row1_col3,#T_067fd_row3_col1{\n",
       "            background-color:  #d7e9d7;\n",
       "            color:  #000000;\n",
       "        }#T_067fd_row1_col4{\n",
       "            background-color:  #e8f2e8;\n",
       "            color:  #000000;\n",
       "        }#T_067fd_row2_col3{\n",
       "            background-color:  #e5f0e5;\n",
       "            color:  #000000;\n",
       "        }#T_067fd_row2_col4,#T_067fd_row4_col2{\n",
       "            background-color:  #c2dfc2;\n",
       "            color:  #000000;\n",
       "        }#T_067fd_row3_col2{\n",
       "            background-color:  #e3efe3;\n",
       "            color:  #000000;\n",
       "        }#T_067fd_row3_col4{\n",
       "            background-color:  #b5d9b5;\n",
       "            color:  #000000;\n",
       "        }#T_067fd_row4_col1{\n",
       "            background-color:  #e9f2e9;\n",
       "            color:  #000000;\n",
       "        }#T_067fd_row4_col3{\n",
       "            background-color:  #b6d9b6;\n",
       "            color:  #000000;\n",
       "        }</style><table id=\"T_067fd_\" ><thead>    <tr>        <th class=\"blank level0\" ></th>        <th class=\"col_heading level0 col0\" >0</th>        <th class=\"col_heading level0 col1\" >1</th>        <th class=\"col_heading level0 col2\" >2</th>        <th class=\"col_heading level0 col3\" >3</th>        <th class=\"col_heading level0 col4\" >4</th>    </tr></thead><tbody>\n",
       "                <tr>\n",
       "                        <th id=\"T_067fd_level0_row0\" class=\"row_heading level0 row0\" >0</th>\n",
       "                        <td id=\"T_067fd_row0_col0\" class=\"data row0 col0\" >1.000000</td>\n",
       "                        <td id=\"T_067fd_row0_col1\" class=\"data row0 col1\" >0.161415</td>\n",
       "                        <td id=\"T_067fd_row0_col2\" class=\"data row0 col2\" >0.000200</td>\n",
       "                        <td id=\"T_067fd_row0_col3\" class=\"data row0 col3\" >0.004318</td>\n",
       "                        <td id=\"T_067fd_row0_col4\" class=\"data row0 col4\" >0.000167</td>\n",
       "            </tr>\n",
       "            <tr>\n",
       "                        <th id=\"T_067fd_level0_row1\" class=\"row_heading level0 row1\" >1</th>\n",
       "                        <td id=\"T_067fd_row1_col0\" class=\"data row1 col0\" >0.161415</td>\n",
       "                        <td id=\"T_067fd_row1_col1\" class=\"data row1 col1\" >1.000000</td>\n",
       "                        <td id=\"T_067fd_row1_col2\" class=\"data row1 col2\" >0.006002</td>\n",
       "                        <td id=\"T_067fd_row1_col3\" class=\"data row1 col3\" >0.088284</td>\n",
       "                        <td id=\"T_067fd_row1_col4\" class=\"data row1 col4\" >0.014574</td>\n",
       "            </tr>\n",
       "            <tr>\n",
       "                        <th id=\"T_067fd_level0_row2\" class=\"row_heading level0 row2\" >2</th>\n",
       "                        <td id=\"T_067fd_row2_col0\" class=\"data row2 col0\" >0.000200</td>\n",
       "                        <td id=\"T_067fd_row2_col1\" class=\"data row2 col1\" >0.006002</td>\n",
       "                        <td id=\"T_067fd_row2_col2\" class=\"data row2 col2\" >1.000000</td>\n",
       "                        <td id=\"T_067fd_row2_col3\" class=\"data row2 col3\" >0.031491</td>\n",
       "                        <td id=\"T_067fd_row2_col4\" class=\"data row2 col4\" >0.172535</td>\n",
       "            </tr>\n",
       "            <tr>\n",
       "                        <th id=\"T_067fd_level0_row3\" class=\"row_heading level0 row3\" >3</th>\n",
       "                        <td id=\"T_067fd_row3_col0\" class=\"data row3 col0\" >0.004318</td>\n",
       "                        <td id=\"T_067fd_row3_col1\" class=\"data row3 col1\" >0.088284</td>\n",
       "                        <td id=\"T_067fd_row3_col2\" class=\"data row3 col2\" >0.031491</td>\n",
       "                        <td id=\"T_067fd_row3_col3\" class=\"data row3 col3\" >1.000000</td>\n",
       "                        <td id=\"T_067fd_row3_col4\" class=\"data row3 col4\" >0.228212</td>\n",
       "            </tr>\n",
       "            <tr>\n",
       "                        <th id=\"T_067fd_level0_row4\" class=\"row_heading level0 row4\" >4</th>\n",
       "                        <td id=\"T_067fd_row4_col0\" class=\"data row4 col0\" >0.000167</td>\n",
       "                        <td id=\"T_067fd_row4_col1\" class=\"data row4 col1\" >0.014574</td>\n",
       "                        <td id=\"T_067fd_row4_col2\" class=\"data row4 col2\" >0.172489</td>\n",
       "                        <td id=\"T_067fd_row4_col3\" class=\"data row4 col3\" >0.228212</td>\n",
       "                        <td id=\"T_067fd_row4_col4\" class=\"data row4 col4\" >1.000000</td>\n",
       "            </tr>\n",
       "    </tbody></table>"
      ],
      "text/plain": [
       "<pandas.io.formats.style.Styler at 0x7f3189e96910>"
      ]
     },
     "execution_count": 10,
     "metadata": {},
     "output_type": "execute_result"
    }
   ],
   "source": [
    "a = np.zeros(shape=(5, 5))\n",
    "x = [blue,orange,green,red,violet]\n",
    "for i,c in enumerate(x):\n",
    "    for j,b in enumerate(x):\n",
    "        a[i][j] = jacciboi(c,b)\n",
    "dfw = pd.DataFrame(a)\n",
    "cm = sns.light_palette(\"green\", as_cmap=True)\n",
    "s = dfw.style.background_gradient(cmap=cm)\n",
    "s"
   ]
  },
  {
   "cell_type": "code",
   "execution_count": null,
   "id": "common-promotion",
   "metadata": {},
   "outputs": [
    {
     "ename": "KeyboardInterrupt",
     "evalue": "",
     "output_type": "error",
     "traceback": [
      "\u001b[0;31m---------------------------------------------------------------------------\u001b[0m",
      "\u001b[0;31mKeyboardInterrupt\u001b[0m                         Traceback (most recent call last)",
      "\u001b[0;32m<__array_function__ internals>\u001b[0m in \u001b[0;36mwhere\u001b[0;34m(*args, **kwargs)\u001b[0m\n",
      "\u001b[0;31mKeyboardInterrupt\u001b[0m: "
     ]
    },
    {
     "name": "stderr",
     "output_type": "stream",
     "text": [
      "Exception ignored in: 'sklearn.cluster._k_means_fast._relocate_empty_clusters_dense'\n",
      "Traceback (most recent call last):\n",
      "  File \"<__array_function__ internals>\", line 2, in where\n",
      "KeyboardInterrupt: \n"
     ]
    }
   ],
   "source": [
    "w1,w2,r12 = gmm10k(blue,orange)\n",
    "w3,w4,r13 = gmm10k(blue,green)\n",
    "_,w4,r14 = gmm10k(blue,red)\n",
    "w1,w5,r15 = gmm10k(blue,violet)\n",
    "print(r12,r13,r14,r15)\n",
    "print(w1)\n",
    "print(w5)\n",
    "print(w4)"
   ]
  },
  {
   "cell_type": "code",
   "execution_count": 32,
   "id": "indonesian-demographic",
   "metadata": {},
   "outputs": [
    {
     "name": "stdout",
     "output_type": "stream",
     "text": [
      "37.58865193991653 292.5654214229174 1.2806083561205746 34.26009222288805\n"
     ]
    }
   ],
   "source": [
    "w1,w2,r12 = gmm10k(blue,orange)\n",
    "w3,w4,r13 = gmm10k(orange,green)\n",
    "_,_,r14 = gmm10k(orange,red)\n",
    "w1,w5,r15 = gmm10k(orange,violet)\n",
    "print(r12,r13,r14,r15)"
   ]
  },
  {
   "cell_type": "code",
   "execution_count": 11,
   "id": "voluntary-optimum",
   "metadata": {},
   "outputs": [
    {
     "data": {
      "text/plain": [
       "<AxesSubplot:ylabel='Density'>"
      ]
     },
     "execution_count": 11,
     "metadata": {},
     "output_type": "execute_result"
    },
    {
     "data": {
      "image/png": "[encoded data removed]",
      "text/plain": [
       "<Figure size 432x288 with 1 Axes>"
      ]
     },
     "metadata": {},
     "output_type": "display_data"
    }
   ],
   "source": [
    "value1 = np.random.normal(loc=5,scale=25,size=10000)\n",
    "value2 = np.random.normal(loc=75,scale=45,size=5000)\n",
    "blue = np.concatenate((value1,value2))\n",
    "value1 = np.random.normal(loc=175,scale=59,size=10000)\n",
    "value2 = np.random.normal(loc=100,scale=34,size=5000)\n",
    "orange = np.concatenate((value1,value2))\n",
    "value1 = np.random.normal(loc=500,scale=75,size=10000)\n",
    "value2 = np.random.normal(loc=550,scale=32,size=5000)\n",
    "green = np.concatenate((value1,value2))\n",
    "value1 = np.random.normal(loc=695,scale=35,size=10000)\n",
    "value2 = np.random.normal(loc=650,scale=20,size=5000)\n",
    "red = np.concatenate((value1,value2))\n",
    "value1 = np.random.normal(loc=795,scale=50,size=10000)\n",
    "value2 = np.random.normal(loc=825,scale=45,size=5000)\n",
    "violet = np.concatenate((value1,value2))\n",
    "sns.distplot(blue,bins=150)\n",
    "sns.distplot(orange,bins=150)\n",
    "sns.distplot(green,bins=150)\n",
    "sns.distplot(red,bins=150)\n",
    "sns.distplot(violet,bins=150)"
   ]
  },
  {
   "cell_type": "code",
   "execution_count": 12,
   "id": "designed-opposition",
   "metadata": {},
   "outputs": [
    {
     "data": {
      "text/html": [
       "<style  type=\"text/css\" >\n",
       "#T_ec588_row0_col0,#T_ec588_row1_col1,#T_ec588_row2_col2,#T_ec588_row3_col3,#T_ec588_row4_col4{\n",
       "            background-color:  #ebf3eb;\n",
       "            color:  #000000;\n",
       "        }#T_ec588_row0_col1{\n",
       "            background-color:  #bfdebf;\n",
       "            color:  #000000;\n",
       "        }#T_ec588_row0_col2,#T_ec588_row0_col3,#T_ec588_row0_col4,#T_ec588_row4_col0,#T_ec588_row4_col1{\n",
       "            background-color:  #008000;\n",
       "            color:  #f1f1f1;\n",
       "        }#T_ec588_row1_col0{\n",
       "            background-color:  #c6e1c6;\n",
       "            color:  #000000;\n",
       "        }#T_ec588_row1_col2{\n",
       "            background-color:  #3a9c3a;\n",
       "            color:  #000000;\n",
       "        }#T_ec588_row1_col3{\n",
       "            background-color:  #2b952b;\n",
       "            color:  #000000;\n",
       "        }#T_ec588_row1_col4{\n",
       "            background-color:  #259225;\n",
       "            color:  #000000;\n",
       "        }#T_ec588_row2_col0{\n",
       "            background-color:  #56aa56;\n",
       "            color:  #000000;\n",
       "        }#T_ec588_row2_col1{\n",
       "            background-color:  #67b267;\n",
       "            color:  #000000;\n",
       "        }#T_ec588_row2_col3{\n",
       "            background-color:  #b0d6b0;\n",
       "            color:  #000000;\n",
       "        }#T_ec588_row2_col4{\n",
       "            background-color:  #94c994;\n",
       "            color:  #000000;\n",
       "        }#T_ec588_row3_col0{\n",
       "            background-color:  #269226;\n",
       "            color:  #000000;\n",
       "        }#T_ec588_row3_col1{\n",
       "            background-color:  #2c962c;\n",
       "            color:  #000000;\n",
       "        }#T_ec588_row3_col2{\n",
       "            background-color:  #9ccd9c;\n",
       "            color:  #000000;\n",
       "        }#T_ec588_row3_col4{\n",
       "            background-color:  #c5e0c5;\n",
       "            color:  #000000;\n",
       "        }#T_ec588_row4_col2{\n",
       "            background-color:  #61af61;\n",
       "            color:  #000000;\n",
       "        }#T_ec588_row4_col3{\n",
       "            background-color:  #bdddbd;\n",
       "            color:  #000000;\n",
       "        }</style><table id=\"T_ec588_\" ><thead>    <tr>        <th class=\"blank level0\" ></th>        <th class=\"col_heading level0 col0\" >0</th>        <th class=\"col_heading level0 col1\" >1</th>        <th class=\"col_heading level0 col2\" >2</th>        <th class=\"col_heading level0 col3\" >3</th>        <th class=\"col_heading level0 col4\" >4</th>    </tr></thead><tbody>\n",
       "                <tr>\n",
       "                        <th id=\"T_ec588_level0_row0\" class=\"row_heading level0 row0\" >0</th>\n",
       "                        <td id=\"T_ec588_row0_col0\" class=\"data row0 col0\" >0.000000</td>\n",
       "                        <td id=\"T_ec588_row0_col1\" class=\"data row0 col1\" >122.183179</td>\n",
       "                        <td id=\"T_ec588_row0_col2\" class=\"data row0 col2\" >488.844902</td>\n",
       "                        <td id=\"T_ec588_row0_col3\" class=\"data row0 col3\" >652.026626</td>\n",
       "                        <td id=\"T_ec588_row0_col4\" class=\"data row0 col4\" >776.951077</td>\n",
       "            </tr>\n",
       "            <tr>\n",
       "                        <th id=\"T_ec588_level0_row1\" class=\"row_heading level0 row1\" >1</th>\n",
       "                        <td id=\"T_ec588_row1_col0\" class=\"data row1 col0\" >122.183179</td>\n",
       "                        <td id=\"T_ec588_row1_col1\" class=\"data row1 col1\" >0.000000</td>\n",
       "                        <td id=\"T_ec588_row1_col2\" class=\"data row1 col2\" >366.661723</td>\n",
       "                        <td id=\"T_ec588_row1_col3\" class=\"data row1 col3\" >529.843447</td>\n",
       "                        <td id=\"T_ec588_row1_col4\" class=\"data row1 col4\" >654.767898</td>\n",
       "            </tr>\n",
       "            <tr>\n",
       "                        <th id=\"T_ec588_level0_row2\" class=\"row_heading level0 row2\" >2</th>\n",
       "                        <td id=\"T_ec588_row2_col0\" class=\"data row2 col0\" >488.844902</td>\n",
       "                        <td id=\"T_ec588_row2_col1\" class=\"data row2 col1\" >366.661723</td>\n",
       "                        <td id=\"T_ec588_row2_col2\" class=\"data row2 col2\" >0.000000</td>\n",
       "                        <td id=\"T_ec588_row2_col3\" class=\"data row2 col3\" >163.181724</td>\n",
       "                        <td id=\"T_ec588_row2_col4\" class=\"data row2 col4\" >288.106176</td>\n",
       "            </tr>\n",
       "            <tr>\n",
       "                        <th id=\"T_ec588_level0_row3\" class=\"row_heading level0 row3\" >3</th>\n",
       "                        <td id=\"T_ec588_row3_col0\" class=\"data row3 col0\" >652.026626</td>\n",
       "                        <td id=\"T_ec588_row3_col1\" class=\"data row3 col1\" >529.843447</td>\n",
       "                        <td id=\"T_ec588_row3_col2\" class=\"data row3 col2\" >163.181724</td>\n",
       "                        <td id=\"T_ec588_row3_col3\" class=\"data row3 col3\" >0.000000</td>\n",
       "                        <td id=\"T_ec588_row3_col4\" class=\"data row3 col4\" >124.924451</td>\n",
       "            </tr>\n",
       "            <tr>\n",
       "                        <th id=\"T_ec588_level0_row4\" class=\"row_heading level0 row4\" >4</th>\n",
       "                        <td id=\"T_ec588_row4_col0\" class=\"data row4 col0\" >776.951077</td>\n",
       "                        <td id=\"T_ec588_row4_col1\" class=\"data row4 col1\" >654.767898</td>\n",
       "                        <td id=\"T_ec588_row4_col2\" class=\"data row4 col2\" >288.106176</td>\n",
       "                        <td id=\"T_ec588_row4_col3\" class=\"data row4 col3\" >124.924451</td>\n",
       "                        <td id=\"T_ec588_row4_col4\" class=\"data row4 col4\" >0.000000</td>\n",
       "            </tr>\n",
       "    </tbody></table>"
      ],
      "text/plain": [
       "<pandas.io.formats.style.Styler at 0x7f31857792e0>"
      ]
     },
     "execution_count": 12,
     "metadata": {},
     "output_type": "execute_result"
    }
   ],
   "source": [
    "a = np.zeros(shape=(5, 5))\n",
    "x = [blue,orange,green,red,violet]\n",
    "for i,c in enumerate(x):\n",
    "    for j,b in enumerate(x):\n",
    "        a[i][j] = wasserstein_distance(c,b)\n",
    "dfw = pd.DataFrame(a)\n",
    "cm = sns.light_palette(\"green\", as_cmap=True)\n",
    "s = dfw.style.background_gradient(cmap=cm)\n",
    "s"
   ]
  },
  {
   "cell_type": "code",
   "execution_count": 13,
   "id": "responsible-banner",
   "metadata": {},
   "outputs": [
    {
     "name": "stdout",
     "output_type": "stream",
     "text": [
      "1\n",
      "2\n",
      "3\n",
      "4\n",
      "5\n",
      "6\n",
      "7\n",
      "8\n",
      "9\n",
      "10\n",
      "11\n",
      "12\n",
      "13\n",
      "14\n",
      "15\n",
      "16\n",
      "17\n",
      "18\n",
      "19\n",
      "20\n",
      "21\n",
      "22\n",
      "23\n",
      "24\n",
      "25\n"
     ]
    },
    {
     "data": {
      "text/html": [
       "<style  type=\"text/css\" >\n",
       "#T_3d14b_row0_col0,#T_3d14b_row1_col1,#T_3d14b_row2_col2,#T_3d14b_row3_col3,#T_3d14b_row4_col4{\n",
       "            background-color:  #ebf3eb;\n",
       "            color:  #000000;\n",
       "        }#T_3d14b_row0_col1,#T_3d14b_row1_col0{\n",
       "            background-color:  #d4e8d4;\n",
       "            color:  #000000;\n",
       "        }#T_3d14b_row0_col2,#T_3d14b_row3_col4{\n",
       "            background-color:  #2e972e;\n",
       "            color:  #000000;\n",
       "        }#T_3d14b_row0_col3{\n",
       "            background-color:  #67b267;\n",
       "            color:  #000000;\n",
       "        }#T_3d14b_row0_col4{\n",
       "            background-color:  #6fb76f;\n",
       "            color:  #000000;\n",
       "        }#T_3d14b_row1_col2{\n",
       "            background-color:  #4da64d;\n",
       "            color:  #000000;\n",
       "        }#T_3d14b_row1_col3,#T_3d14b_row3_col1{\n",
       "            background-color:  #e5f0e5;\n",
       "            color:  #000000;\n",
       "        }#T_3d14b_row1_col4{\n",
       "            background-color:  #1e8f1e;\n",
       "            color:  #000000;\n",
       "        }#T_3d14b_row2_col0,#T_3d14b_row2_col4,#T_3d14b_row4_col1,#T_3d14b_row4_col2,#T_3d14b_row4_col3{\n",
       "            background-color:  #008000;\n",
       "            color:  #f1f1f1;\n",
       "        }#T_3d14b_row2_col1{\n",
       "            background-color:  #359a35;\n",
       "            color:  #000000;\n",
       "        }#T_3d14b_row2_col3{\n",
       "            background-color:  #4fa74f;\n",
       "            color:  #000000;\n",
       "        }#T_3d14b_row3_col0{\n",
       "            background-color:  #6ab46a;\n",
       "            color:  #000000;\n",
       "        }#T_3d14b_row3_col2{\n",
       "            background-color:  #6cb56c;\n",
       "            color:  #000000;\n",
       "        }#T_3d14b_row4_col0{\n",
       "            background-color:  #56aa56;\n",
       "            color:  #000000;\n",
       "        }</style><table id=\"T_3d14b_\" ><thead>    <tr>        <th class=\"blank level0\" ></th>        <th class=\"col_heading level0 col0\" >0</th>        <th class=\"col_heading level0 col1\" >1</th>        <th class=\"col_heading level0 col2\" >2</th>        <th class=\"col_heading level0 col3\" >3</th>        <th class=\"col_heading level0 col4\" >4</th>    </tr></thead><tbody>\n",
       "                <tr>\n",
       "                        <th id=\"T_3d14b_level0_row0\" class=\"row_heading level0 row0\" >0</th>\n",
       "                        <td id=\"T_3d14b_row0_col0\" class=\"data row0 col0\" >0.000034</td>\n",
       "                        <td id=\"T_3d14b_row0_col1\" class=\"data row0 col1\" >37.112245</td>\n",
       "                        <td id=\"T_3d14b_row0_col2\" class=\"data row0 col2\" >362.118618</td>\n",
       "                        <td id=\"T_3d14b_row0_col3\" class=\"data row0 col3\" >205.962684</td>\n",
       "                        <td id=\"T_3d14b_row0_col4\" class=\"data row0 col4\" >236.448236</td>\n",
       "            </tr>\n",
       "            <tr>\n",
       "                        <th id=\"T_3d14b_level0_row1\" class=\"row_heading level0 row1\" >1</th>\n",
       "                        <td id=\"T_3d14b_row1_col0\" class=\"data row1 col0\" >37.210086</td>\n",
       "                        <td id=\"T_3d14b_row1_col1\" class=\"data row1 col1\" >0.000058</td>\n",
       "                        <td id=\"T_3d14b_row1_col2\" class=\"data row1 col2\" >303.361045</td>\n",
       "                        <td id=\"T_3d14b_row1_col3\" class=\"data row1 col3\" >9.264535</td>\n",
       "                        <td id=\"T_3d14b_row1_col4\" class=\"data row1 col4\" >393.062221</td>\n",
       "            </tr>\n",
       "            <tr>\n",
       "                        <th id=\"T_3d14b_level0_row2\" class=\"row_heading level0 row2\" >2</th>\n",
       "                        <td id=\"T_3d14b_row2_col0\" class=\"data row2 col0\" >371.955882</td>\n",
       "                        <td id=\"T_3d14b_row2_col1\" class=\"data row2 col1\" >303.488767</td>\n",
       "                        <td id=\"T_3d14b_row2_col2\" class=\"data row2 col2\" >0.000056</td>\n",
       "                        <td id=\"T_3d14b_row2_col3\" class=\"data row2 col3\" >243.796705</td>\n",
       "                        <td id=\"T_3d14b_row2_col4\" class=\"data row2 col4\" >451.645622</td>\n",
       "            </tr>\n",
       "            <tr>\n",
       "                        <th id=\"T_3d14b_level0_row3\" class=\"row_heading level0 row3\" >3</th>\n",
       "                        <td id=\"T_3d14b_row3_col0\" class=\"data row3 col0\" >204.697014</td>\n",
       "                        <td id=\"T_3d14b_row3_col1\" class=\"data row3 col1\" >9.914870</td>\n",
       "                        <td id=\"T_3d14b_row3_col2\" class=\"data row3 col2\" >243.748879</td>\n",
       "                        <td id=\"T_3d14b_row3_col3\" class=\"data row3 col3\" >0.000026</td>\n",
       "                        <td id=\"T_3d14b_row3_col4\" class=\"data row3 col4\" >362.806381</td>\n",
       "            </tr>\n",
       "            <tr>\n",
       "                        <th id=\"T_3d14b_level0_row4\" class=\"row_heading level0 row4\" >4</th>\n",
       "                        <td id=\"T_3d14b_row4_col0\" class=\"data row4 col0\" >236.031073</td>\n",
       "                        <td id=\"T_3d14b_row4_col1\" class=\"data row4 col1\" >392.761203</td>\n",
       "                        <td id=\"T_3d14b_row4_col2\" class=\"data row4 col2\" >451.788454</td>\n",
       "                        <td id=\"T_3d14b_row4_col3\" class=\"data row4 col3\" >368.010287</td>\n",
       "                        <td id=\"T_3d14b_row4_col4\" class=\"data row4 col4\" >0.000000</td>\n",
       "            </tr>\n",
       "    </tbody></table>"
      ],
      "text/plain": [
       "<pandas.io.formats.style.Styler at 0x7f3185f483a0>"
      ]
     },
     "execution_count": 13,
     "metadata": {},
     "output_type": "execute_result"
    }
   ],
   "source": [
    "a = np.zeros(shape=(5, 5))\n",
    "x = [blue,orange,green,red,violet]\n",
    "qw=0\n",
    "for i,c in enumerate(x):\n",
    "    for j,b in enumerate(x):\n",
    "        _,_,a[i][j] = gmm10k(c,b)\n",
    "        qw=qw+1\n",
    "        print(qw)\n",
    "dfw = pd.DataFrame(a)\n",
    "cm = sns.light_palette(\"green\", as_cmap=True)\n",
    "s = dfw.style.background_gradient(cmap=cm)\n",
    "s"
   ]
  },
  {
   "cell_type": "code",
   "execution_count": 14,
   "id": "persistent-stone",
   "metadata": {},
   "outputs": [
    {
     "data": {
      "text/html": [
       "<style  type=\"text/css\" >\n",
       "#T_61b5e_row0_col0,#T_61b5e_row1_col1,#T_61b5e_row2_col2,#T_61b5e_row3_col3,#T_61b5e_row4_col4{\n",
       "            background-color:  #008000;\n",
       "            color:  #f1f1f1;\n",
       "        }#T_61b5e_row0_col1,#T_61b5e_row1_col0{\n",
       "            background-color:  #c5e0c5;\n",
       "            color:  #000000;\n",
       "        }#T_61b5e_row0_col2,#T_61b5e_row0_col3,#T_61b5e_row0_col4,#T_61b5e_row1_col3,#T_61b5e_row1_col4,#T_61b5e_row2_col0,#T_61b5e_row3_col0,#T_61b5e_row3_col1,#T_61b5e_row4_col0,#T_61b5e_row4_col1{\n",
       "            background-color:  #ebf3eb;\n",
       "            color:  #000000;\n",
       "        }#T_61b5e_row1_col2,#T_61b5e_row2_col1,#T_61b5e_row2_col4,#T_61b5e_row4_col2{\n",
       "            background-color:  #eaf2ea;\n",
       "            color:  #000000;\n",
       "        }#T_61b5e_row2_col3,#T_61b5e_row3_col2{\n",
       "            background-color:  #e1eee1;\n",
       "            color:  #000000;\n",
       "        }#T_61b5e_row3_col4,#T_61b5e_row4_col3{\n",
       "            background-color:  #d4e8d4;\n",
       "            color:  #000000;\n",
       "        }</style><table id=\"T_61b5e_\" ><thead>    <tr>        <th class=\"blank level0\" ></th>        <th class=\"col_heading level0 col0\" >0</th>        <th class=\"col_heading level0 col1\" >1</th>        <th class=\"col_heading level0 col2\" >2</th>        <th class=\"col_heading level0 col3\" >3</th>        <th class=\"col_heading level0 col4\" >4</th>    </tr></thead><tbody>\n",
       "                <tr>\n",
       "                        <th id=\"T_61b5e_level0_row0\" class=\"row_heading level0 row0\" >0</th>\n",
       "                        <td id=\"T_61b5e_row0_col0\" class=\"data row0 col0\" >1.000000</td>\n",
       "                        <td id=\"T_61b5e_row0_col1\" class=\"data row0 col1\" >0.163622</td>\n",
       "                        <td id=\"T_61b5e_row0_col2\" class=\"data row0 col2\" >0.000167</td>\n",
       "                        <td id=\"T_61b5e_row0_col3\" class=\"data row0 col3\" >0.000100</td>\n",
       "                        <td id=\"T_61b5e_row0_col4\" class=\"data row0 col4\" >0.000100</td>\n",
       "            </tr>\n",
       "            <tr>\n",
       "                        <th id=\"T_61b5e_level0_row1\" class=\"row_heading level0 row1\" >1</th>\n",
       "                        <td id=\"T_61b5e_row1_col0\" class=\"data row1 col0\" >0.163622</td>\n",
       "                        <td id=\"T_61b5e_row1_col1\" class=\"data row1 col1\" >1.000000</td>\n",
       "                        <td id=\"T_61b5e_row1_col2\" class=\"data row1 col2\" >0.005024</td>\n",
       "                        <td id=\"T_61b5e_row1_col3\" class=\"data row1 col3\" >0.000100</td>\n",
       "                        <td id=\"T_61b5e_row1_col4\" class=\"data row1 col4\" >0.000100</td>\n",
       "            </tr>\n",
       "            <tr>\n",
       "                        <th id=\"T_61b5e_level0_row2\" class=\"row_heading level0 row2\" >2</th>\n",
       "                        <td id=\"T_61b5e_row2_col0\" class=\"data row2 col0\" >0.000167</td>\n",
       "                        <td id=\"T_61b5e_row2_col1\" class=\"data row2 col1\" >0.005024</td>\n",
       "                        <td id=\"T_61b5e_row2_col2\" class=\"data row2 col2\" >1.000000</td>\n",
       "                        <td id=\"T_61b5e_row2_col3\" class=\"data row2 col3\" >0.040000</td>\n",
       "                        <td id=\"T_61b5e_row2_col4\" class=\"data row2 col4\" >0.007217</td>\n",
       "            </tr>\n",
       "            <tr>\n",
       "                        <th id=\"T_61b5e_level0_row3\" class=\"row_heading level0 row3\" >3</th>\n",
       "                        <td id=\"T_61b5e_row3_col0\" class=\"data row3 col0\" >0.000100</td>\n",
       "                        <td id=\"T_61b5e_row3_col1\" class=\"data row3 col1\" >0.000100</td>\n",
       "                        <td id=\"T_61b5e_row3_col2\" class=\"data row3 col2\" >0.040000</td>\n",
       "                        <td id=\"T_61b5e_row3_col3\" class=\"data row3 col3\" >1.000000</td>\n",
       "                        <td id=\"T_61b5e_row3_col4\" class=\"data row3 col4\" >0.097600</td>\n",
       "            </tr>\n",
       "            <tr>\n",
       "                        <th id=\"T_61b5e_level0_row4\" class=\"row_heading level0 row4\" >4</th>\n",
       "                        <td id=\"T_61b5e_row4_col0\" class=\"data row4 col0\" >0.000100</td>\n",
       "                        <td id=\"T_61b5e_row4_col1\" class=\"data row4 col1\" >0.000100</td>\n",
       "                        <td id=\"T_61b5e_row4_col2\" class=\"data row4 col2\" >0.007217</td>\n",
       "                        <td id=\"T_61b5e_row4_col3\" class=\"data row4 col3\" >0.097600</td>\n",
       "                        <td id=\"T_61b5e_row4_col4\" class=\"data row4 col4\" >1.000000</td>\n",
       "            </tr>\n",
       "    </tbody></table>"
      ],
      "text/plain": [
       "<pandas.io.formats.style.Styler at 0x7f3185655640>"
      ]
     },
     "execution_count": 14,
     "metadata": {},
     "output_type": "execute_result"
    }
   ],
   "source": [
    "a = np.zeros(shape=(5, 5))\n",
    "x = [blue,orange,green,red,violet]\n",
    "for i,c in enumerate(x):\n",
    "    for j,b in enumerate(x):\n",
    "        a[i][j] = jacciboi(c,b)\n",
    "dfw = pd.DataFrame(a)\n",
    "cm = sns.light_palette(\"green\", as_cmap=True)\n",
    "s = dfw.style.background_gradient(cmap=cm)\n",
    "s"
   ]
  },
  {
   "cell_type": "code",
   "execution_count": 34,
   "id": "descending-greeting",
   "metadata": {},
   "outputs": [
    {
     "name": "stdout",
     "output_type": "stream",
     "text": [
      "33.293973551251256 346.82488773497107 197.5294041598762 241.64869975254388\n",
      "[(0.7267839990374932, 6.377793571733376), (0.27321600096251, 86.1739496591768)] [(1.0, 804.6641204016516), (0, 0)]\n"
     ]
    }
   ],
   "source": [
    "w1,w2,r12 = gmm10k(blue,orange)\n",
    "w3,w4,r13 = gmm10k(blue,green)\n",
    "_,w4,r14 = gmm10k(blue,red)\n",
    "w1,w5,r15 = gmm10k(blue,violet)\n",
    "print(r12,r13,r14,r15)\n",
    "print(w1,w5)"
   ]
  },
  {
   "cell_type": "code",
   "execution_count": 35,
   "id": "faced-reducing",
   "metadata": {},
   "outputs": [
    {
     "name": "stdout",
     "output_type": "stream",
     "text": [
      "288.09356712335284\n",
      "[(0.5763443913271925, 111.39802597775777), (0.4236556086728079, 203.28661238677404), (0, 0), (0, 0)]\n",
      "[(0.41300507778846923, 544.1452154456598), (0.25309300474245106, 479.01330610149824), (0.1859532401925684, 590.4481377528524), (0.14794867727650995, 409.4969427318484)]\n"
     ]
    }
   ],
   "source": [
    "w2,w3,r23 = gmm10k(orange,green)\n",
    "print(r23)\n",
    "print(w2)\n",
    "print(w3)"
   ]
  },
  {
   "cell_type": "code",
   "execution_count": 36,
   "id": "realistic-alloy",
   "metadata": {},
   "outputs": [
    {
     "name": "stdout",
     "output_type": "stream",
     "text": [
      "122.14776075282857\n",
      "488.17054916283905\n",
      "651.6851784687055\n",
      "776.4847401715267\n"
     ]
    }
   ],
   "source": [
    "print(wasserstein_distance(blue,orange))\n",
    "print(wasserstein_distance(blue,green))\n",
    "print(wasserstein_distance(blue,red))\n",
    "print(wasserstein_distance(blue,violet))"
   ]
  },
  {
   "cell_type": "code",
   "execution_count": 37,
   "id": "bored-sacrifice",
   "metadata": {},
   "outputs": [
    {
     "data": {
      "text/plain": [
       "<AxesSubplot:ylabel='Density'>"
      ]
     },
     "execution_count": 37,
     "metadata": {},
     "output_type": "execute_result"
    },
    {
     "data": {
      "image/png": "[encoded data removed]",
      "text/plain": [
       "<Figure size 432x288 with 1 Axes>"
      ]
     },
     "metadata": {},
     "output_type": "display_data"
    }
   ],
   "source": [
    "value1 = np.random.normal(loc=10,scale=25,size=50000)\n",
    "value2 = np.random.normal(loc=110,scale=25,size=50000)\n",
    "value3 = np.random.normal(loc=210,scale=25,size=50000)\n",
    "sns.distplot(value1,bins=150)\n",
    "sns.distplot(value2,bins=150)\n",
    "sns.distplot(value3,bins=150)"
   ]
  },
  {
   "cell_type": "code",
   "execution_count": 38,
   "id": "metallic-baseball",
   "metadata": {},
   "outputs": [
    {
     "name": "stdout",
     "output_type": "stream",
     "text": [
      "100.07427504728768\n",
      "100.06374883846851\n",
      "200.1380238857562\n"
     ]
    }
   ],
   "source": [
    "print(wasserstein_distance(value1,value2))\n",
    "print(wasserstein_distance(value2,value3))\n",
    "print(wasserstein_distance(value1,value3))"
   ]
  },
  {
   "cell_type": "code",
   "execution_count": null,
   "id": "fabulous-administrator",
   "metadata": {},
   "outputs": [],
   "source": []
  },
  {
   "cell_type": "code",
   "execution_count": null,
   "id": "wired-campus",
   "metadata": {},
   "outputs": [],
   "source": []
  }
 ],
 "metadata": {
  "kernelspec": {
   "display_name": "Python 3",
   "language": "python",
   "name": "python3"
  },
  "language_info": {
   "codemirror_mode": {
    "name": "ipython",
    "version": 3
   },
   "file_extension": ".py",
   "mimetype": "text/x-python",
   "name": "python",
   "nbconvert_exporter": "python",
   "pygments_lexer": "ipython3",
   "version": "3.8.5"
  }
 },
 "nbformat": 4,
 "nbformat_minor": 5
}
