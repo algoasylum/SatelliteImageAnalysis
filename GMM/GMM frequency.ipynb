{
 "cells": [
  {
   "cell_type": "code",
   "execution_count": 70,
   "metadata": {},
   "outputs": [],
   "source": [
    "import pandas as pd\n",
    "import numpy as np\n",
    "import matplotlib\n",
    "\n",
    "import matplotlib.pyplot as plt\n",
    "import seaborn as sns\n",
    "from sklearn import mixture\n",
    "sns.set(style='whitegrid')\n",
    "sns.set_palette('bright')\n",
    "import warnings\n",
    "warnings.filterwarnings('ignore')"
   ]
  },
  {
   "cell_type": "code",
   "execution_count": 50,
   "metadata": {},
   "outputs": [
    {
     "data": {
      "text/plain": [
       "Index(['Amplitude', 'Frequency'], dtype='object')"
      ]
     },
     "execution_count": 50,
     "metadata": {},
     "output_type": "execute_result"
    }
   ],
   "source": [
    "df = pd.read_csv('fft_data1.csv')\n",
    "del df['Unnamed: 0']\n",
    "df.columns"
   ]
  },
  {
   "cell_type": "code",
   "execution_count": 51,
   "metadata": {},
   "outputs": [
    {
     "data": {
      "text/plain": [
       "<AxesSubplot:xlabel='Frequency', ylabel='Amplitude'>"
      ]
     },
     "execution_count": 51,
     "metadata": {},
     "output_type": "execute_result"
    },
    {
     "data": {
      "image/png": "[encoded data removed]",
      "text/plain": [
       "<Figure size 432x288 with 1 Axes>"
      ]
     },
     "metadata": {},
     "output_type": "display_data"
    }
   ],
   "source": [
    "sns.scatterplot(df.Frequency,df.Amplitude)"
   ]
  },
  {
   "cell_type": "code",
   "execution_count": 52,
   "metadata": {},
   "outputs": [
    {
     "data": {
      "text/html": [
       "<div>\n",
       "<style scoped>\n",
       "    .dataframe tbody tr th:only-of-type {\n",
       "        vertical-align: middle;\n",
       "    }\n",
       "\n",
       "    .dataframe tbody tr th {\n",
       "        vertical-align: top;\n",
       "    }\n",
       "\n",
       "    .dataframe thead th {\n",
       "        text-align: right;\n",
       "    }\n",
       "</style>\n",
       "<table border=\"1\" class=\"dataframe\">\n",
       "  <thead>\n",
       "    <tr style=\"text-align: right;\">\n",
       "      <th></th>\n",
       "      <th>Amplitude</th>\n",
       "      <th>Frequency</th>\n",
       "    </tr>\n",
       "  </thead>\n",
       "  <tbody>\n",
       "    <tr>\n",
       "      <th>0</th>\n",
       "      <td>12.814013</td>\n",
       "      <td>0.000000</td>\n",
       "    </tr>\n",
       "    <tr>\n",
       "      <th>1</th>\n",
       "      <td>9.547197</td>\n",
       "      <td>0.002740</td>\n",
       "    </tr>\n",
       "    <tr>\n",
       "      <th>2</th>\n",
       "      <td>3.262728</td>\n",
       "      <td>0.005479</td>\n",
       "    </tr>\n",
       "    <tr>\n",
       "      <th>3</th>\n",
       "      <td>2.508010</td>\n",
       "      <td>0.008219</td>\n",
       "    </tr>\n",
       "    <tr>\n",
       "      <th>4</th>\n",
       "      <td>3.605442</td>\n",
       "      <td>0.010959</td>\n",
       "    </tr>\n",
       "    <tr>\n",
       "      <th>...</th>\n",
       "      <td>...</td>\n",
       "      <td>...</td>\n",
       "    </tr>\n",
       "    <tr>\n",
       "      <th>178</th>\n",
       "      <td>1.110596</td>\n",
       "      <td>0.487671</td>\n",
       "    </tr>\n",
       "    <tr>\n",
       "      <th>179</th>\n",
       "      <td>1.853265</td>\n",
       "      <td>0.490411</td>\n",
       "    </tr>\n",
       "    <tr>\n",
       "      <th>180</th>\n",
       "      <td>1.603199</td>\n",
       "      <td>0.493151</td>\n",
       "    </tr>\n",
       "    <tr>\n",
       "      <th>181</th>\n",
       "      <td>0.332881</td>\n",
       "      <td>0.495890</td>\n",
       "    </tr>\n",
       "    <tr>\n",
       "      <th>182</th>\n",
       "      <td>1.937616</td>\n",
       "      <td>0.498630</td>\n",
       "    </tr>\n",
       "  </tbody>\n",
       "</table>\n",
       "<p>183 rows × 2 columns</p>\n",
       "</div>"
      ],
      "text/plain": [
       "     Amplitude  Frequency\n",
       "0    12.814013   0.000000\n",
       "1     9.547197   0.002740\n",
       "2     3.262728   0.005479\n",
       "3     2.508010   0.008219\n",
       "4     3.605442   0.010959\n",
       "..         ...        ...\n",
       "178   1.110596   0.487671\n",
       "179   1.853265   0.490411\n",
       "180   1.603199   0.493151\n",
       "181   0.332881   0.495890\n",
       "182   1.937616   0.498630\n",
       "\n",
       "[183 rows x 2 columns]"
      ]
     },
     "execution_count": 52,
     "metadata": {},
     "output_type": "execute_result"
    }
   ],
   "source": [
    "df"
   ]
  },
  {
   "cell_type": "code",
   "execution_count": 53,
   "metadata": {},
   "outputs": [],
   "source": [
    "lowest_bic = np.infty\n",
    "bic = []\n",
    "n_components_range = range(1, 7)\n",
    "cv_types = ['spherical', 'tied', 'diag', 'full']\n",
    "for cv_type in cv_types:\n",
    "    for n_components in n_components_range:\n",
    "        # Fit a Gaussian mixture with EM\n",
    "        gmm = mixture.GaussianMixture(n_components=n_components,\n",
    "                                      covariance_type=cv_type)\n",
    "        gmm.fit(df)\n",
    "        bic.append(gmm.bic(df))\n",
    "        if bic[-1] < lowest_bic:\n",
    "            lowest_bic = bic[-1]\n",
    "            best_gmm10 = gmm"
   ]
  },
  {
   "cell_type": "code",
   "execution_count": 54,
   "metadata": {},
   "outputs": [
    {
     "data": {
      "text/plain": [
       "array([0.4910708 , 0.3820892 , 0.01092897, 0.11591102])"
      ]
     },
     "execution_count": 54,
     "metadata": {},
     "output_type": "execute_result"
    }
   ],
   "source": [
    "best_gmm10.weights_"
   ]
  },
  {
   "cell_type": "code",
   "execution_count": 55,
   "metadata": {},
   "outputs": [],
   "source": [
    "x,y=best_gmm10.sample(183)\n",
    "amp=[]\n",
    "freq=[]\n",
    "for i in range(x.shape[0]):\n",
    "    amp.append(x[i][0])\n",
    "    freq.append(x[i][1])"
   ]
  },
  {
   "cell_type": "code",
   "execution_count": 56,
   "metadata": {},
   "outputs": [
    {
     "data": {
      "text/plain": [
       "<AxesSubplot:>"
      ]
     },
     "execution_count": 56,
     "metadata": {},
     "output_type": "execute_result"
    },
    {
     "data": {
      "image/png": "[encoded data removed]",
      "text/plain": [
       "<Figure size 432x288 with 1 Axes>"
      ]
     },
     "metadata": {},
     "output_type": "display_data"
    }
   ],
   "source": [
    "sns.scatterplot(freq,amp)"
   ]
  },
  {
   "cell_type": "code",
   "execution_count": 57,
   "metadata": {},
   "outputs": [
    {
     "data": {
      "text/plain": [
       "<AxesSubplot:xlabel='Frequency', ylabel='Amplitude'>"
      ]
     },
     "execution_count": 57,
     "metadata": {},
     "output_type": "execute_result"
    },
    {
     "data": {
      "image/png": "[encoded data removed]",
      "text/plain": [
       "<Figure size 432x288 with 1 Axes>"
      ]
     },
     "metadata": {},
     "output_type": "display_data"
    }
   ],
   "source": [
    "sns.scatterplot(df.Frequency,df.Amplitude)"
   ]
  },
  {
   "cell_type": "code",
   "execution_count": 58,
   "metadata": {},
   "outputs": [
    {
     "data": {
      "text/plain": [
       "{'covariance_type': 'diag',\n",
       " 'init_params': 'kmeans',\n",
       " 'max_iter': 100,\n",
       " 'means_init': None,\n",
       " 'n_components': 4,\n",
       " 'n_init': 1,\n",
       " 'precisions_init': None,\n",
       " 'random_state': None,\n",
       " 'reg_covar': 1e-06,\n",
       " 'tol': 0.001,\n",
       " 'verbose': 0,\n",
       " 'verbose_interval': 10,\n",
       " 'warm_start': False,\n",
       " 'weights_init': None}"
      ]
     },
     "execution_count": 58,
     "metadata": {},
     "output_type": "execute_result"
    }
   ],
   "source": [
    "best_gmm10.get_params()"
   ]
  },
  {
   "cell_type": "code",
   "execution_count": 59,
   "metadata": {},
   "outputs": [
    {
     "data": {
      "text/plain": [
       "array([[6.03842887e-01, 9.91268222e-03],\n",
       "       [2.25428781e-01, 4.94139082e-03],\n",
       "       [2.66807309e+00, 2.87653722e-06],\n",
       "       [4.75480145e-01, 1.84935345e-03]])"
      ]
     },
     "execution_count": 59,
     "metadata": {},
     "output_type": "execute_result"
    }
   ],
   "source": [
    "best_gmm10.covariances_"
   ]
  },
  {
   "cell_type": "code",
   "execution_count": 81,
   "metadata": {},
   "outputs": [],
   "source": [
    "def make_ellipses(gmm, ax):\n",
    "    for n in range(gmm.n_components):\n",
    "        if gmm.covariance_type == 'full':\n",
    "            covariances = gmm.covariances_[n]\n",
    "        elif gmm.covariance_type == 'tied':\n",
    "            covariances = gmm.covariances_\n",
    "        elif gmm.covariance_type == 'diag':\n",
    "            covariances = np.diag(gmm.covariances_[n])\n",
    "        elif gmm.covariance_type == 'spherical':\n",
    "            covariances = np.eye(gmm.means_.shape[1]) * gmm.covariances_[n]\n",
    "        v, w = np.linalg.eigh(covariances)\n",
    "        u = w[0] / np.linalg.norm(w[0])\n",
    "        angle = np.arctan2(u[1], u[0])\n",
    "        angle = 180 * angle / np.pi  # convert to degrees\n",
    "        v = 2. * np.sqrt(2.) * np.sqrt(v)\n",
    "        ell = matplotlib.patches.Ellipse(gmm.means_[n], v[0], v[1],\n",
    "                                  180 + angle, color=plt.cm.tab10(n))\n",
    "        ell.set_clip_box(ax.bbox)\n",
    "        ell.set_alpha(0.5)\n",
    "        ax.add_artist(ell)\n"
   ]
  },
  {
   "cell_type": "code",
   "execution_count": 83,
   "metadata": {},
   "outputs": [
    {
     "data": {
      "image/png": "[encoded data removed]",
      "text/plain": [
       "<Figure size 1800x1080 with 4 Axes>"
      ]
     },
     "metadata": {},
     "output_type": "display_data"
    }
   ],
   "source": [
    "X = x\n",
    "from sklearn.mixture import GaussianMixture\n",
    "# Try GMMs using different types of covariances.\n",
    "estimators = [GaussianMixture(n_components=3, covariance_type=cov_type, max_iter=20, random_state=0)\n",
    "              for cov_type in ['spherical', 'diag', 'tied', 'full']]\n",
    "\n",
    "n_estimators = len(estimators)\n",
    "\n",
    "fig, axes = plt.subplots(1, 4, figsize=(25, 15))\n",
    "titles = (\"spherical\\nn_components\", \"diag\\nn_features * n_components\",\n",
    "          \"tied\\n~n_features ** 2\", \"full\\n~n_components * n_features ** 2\")\n",
    "\n",
    "for ax, title, estimator in zip(axes, titles, estimators):\n",
    "    estimator.fit(X)\n",
    "\n",
    "    make_ellipses(estimator, ax)\n",
    "\n",
    "    pred = estimator.predict(X)    \n",
    "    ax.scatter(X[:, 0], X[:, 1], c=plt.cm.tab10(pred))\n",
    "\n",
    "    ax.set_xticks(())\n",
    "    ax.set_yticks(())\n",
    "    ax.set_title(title)\n",
    "    ax.set_aspect(\"equal\")"
   ]
  },
  {
   "cell_type": "code",
   "execution_count": 72,
   "metadata": {},
   "outputs": [],
   "source": [
    "rnd = np.random.RandomState(4)\n",
    "X1 = rnd.normal(size=(50, 2)) + rnd.normal(scale=10, size=(1, 2))\n",
    "X2 = rnd.normal(scale=(1, 5), size=(50, 2)) + rnd.normal(scale=(10, 1), size=(1, 2))\n",
    "X3 = np.dot(rnd.normal(scale=(1, 2), size=(50, 2)), [[1, -1], [1, 1]]) + rnd.normal(scale=(10, 1), size=(1, 2))\n",
    "\n",
    "X = np.vstack([X1, X2, X3])"
   ]
  },
  {
   "cell_type": "code",
   "execution_count": 73,
   "metadata": {},
   "outputs": [
    {
     "data": {
      "text/plain": [
       "array([[ 7.43303282,  7.00748364],\n",
       "       [ 6.38656218,  7.20113082],\n",
       "       [ 6.96416959,  4.92295508],\n",
       "       [ 6.73476435,  7.10610748],\n",
       "       [ 7.71472115,  5.36005568],\n",
       "       [ 8.0011408 ,  6.41954538],\n",
       "       [ 7.80754351,  6.83978546],\n",
       "       [ 6.22565485,  6.85852946],\n",
       "       [ 6.77558383,  8.05451164],\n",
       "       [ 8.10581272,  6.55366788],\n",
       "       [ 6.39947946,  6.56196505],\n",
       "       [ 7.54236405,  5.29858415],\n",
       "       [ 9.60583133,  6.90182752],\n",
       "       [ 9.07482883,  5.39472016],\n",
       "       [ 9.01821865,  5.14656672],\n",
       "       [ 6.73124528,  7.04998362],\n",
       "       [ 7.43047736,  4.14945868],\n",
       "       [ 6.27688707,  7.34536866],\n",
       "       [ 9.47034198,  7.42237327],\n",
       "       [ 7.10626776,  7.30404421],\n",
       "       [ 6.23867254,  7.01745209],\n",
       "       [ 6.03501082,  6.49817221],\n",
       "       [ 7.25176647,  7.30961892],\n",
       "       [ 7.07950715,  7.7095349 ],\n",
       "       [ 7.18572583,  7.34406101],\n",
       "       [ 8.1690734 ,  4.66665644],\n",
       "       [ 7.4200186 ,  6.54346036],\n",
       "       [ 6.60373119,  6.68694302],\n",
       "       [ 5.92693679,  7.06371753],\n",
       "       [ 7.89224997,  6.80797785],\n",
       "       [ 9.85905527,  6.85987571],\n",
       "       [ 7.44994211,  5.77526761],\n",
       "       [ 7.67961232,  5.54575551],\n",
       "       [ 8.65428973,  5.85988778],\n",
       "       [ 7.54094065,  8.49761533],\n",
       "       [ 8.54665867,  6.75019247],\n",
       "       [ 8.76239121,  6.4529736 ],\n",
       "       [ 8.17770506,  6.52662227],\n",
       "       [ 6.47703298,  6.93780364],\n",
       "       [ 8.31712118,  6.16143044],\n",
       "       [ 6.28534923,  5.97933624],\n",
       "       [ 5.00269584,  5.89984862],\n",
       "       [ 6.30718102,  8.52993738],\n",
       "       [ 6.81759582,  4.96460326],\n",
       "       [ 8.25331289,  6.33232178],\n",
       "       [ 7.43107412,  6.69617851],\n",
       "       [ 7.5917846 ,  6.13308739],\n",
       "       [ 8.33716971,  7.03077997],\n",
       "       [ 6.88665259,  6.3360677 ],\n",
       "       [ 6.43810251,  6.78839699],\n",
       "       [12.90687458,  0.96703454],\n",
       "       [13.8710082 ,  0.56396913],\n",
       "       [12.32220103, -0.08102168],\n",
       "       [12.37339772,  0.39725663],\n",
       "       [14.32431328,  3.72911108],\n",
       "       [10.60916906, -0.56955438],\n",
       "       [10.87590642,  5.99937249],\n",
       "       [13.66672718, -0.65533703],\n",
       "       [12.90566658,  0.5490947 ],\n",
       "       [12.70019212, 10.26187004],\n",
       "       [11.94268599, -4.5658066 ],\n",
       "       [13.01040834,  4.18267568],\n",
       "       [12.96593544,  6.73215236],\n",
       "       [11.61098552, -8.23019609],\n",
       "       [13.33304032, -0.44337405],\n",
       "       [11.08473349, -4.2415739 ],\n",
       "       [13.42050728,  2.50404408],\n",
       "       [12.59503599,  5.85181187],\n",
       "       [11.61523301, -4.02569544],\n",
       "       [11.43918267, -3.92299556],\n",
       "       [12.00103815, -2.85500115],\n",
       "       [12.33076916, -0.8043682 ],\n",
       "       [12.21215446,  4.84882919],\n",
       "       [13.69341084,  9.37956709],\n",
       "       [12.40705613,  2.66172895],\n",
       "       [11.78375372,  6.62978748],\n",
       "       [13.82392481, -1.3681315 ],\n",
       "       [13.05623962, -0.04795518],\n",
       "       [12.12101896,  2.5213013 ],\n",
       "       [11.89095713,  6.0753994 ],\n",
       "       [10.79628159, -1.87710703],\n",
       "       [12.17272251, -3.62424101],\n",
       "       [12.65277193, -5.97464398],\n",
       "       [12.34731152, -5.60144687],\n",
       "       [12.14688721,  4.14024401],\n",
       "       [14.49569797,  6.98804917],\n",
       "       [13.90937516,  1.93973848],\n",
       "       [14.40786979,  0.39358414],\n",
       "       [12.03993644, -4.81053663],\n",
       "       [12.5143857 ,  6.86787953],\n",
       "       [11.65827581, -0.25313344],\n",
       "       [11.82858898, -0.05738526],\n",
       "       [11.70175056, -5.15032111],\n",
       "       [13.67310208, -8.25888787],\n",
       "       [11.36505176,  3.31858477],\n",
       "       [13.30369569,  0.55687345],\n",
       "       [12.00888766,  1.84726023],\n",
       "       [12.03082191,  5.98358992],\n",
       "       [11.80925527, -3.32721479],\n",
       "       [11.81947114,  2.08121723],\n",
       "       [ 2.76059079, -2.43141385],\n",
       "       [ 8.95515022,  5.73204958],\n",
       "       [ 6.60131485,  1.41622121],\n",
       "       [ 6.64542456, -3.17997834],\n",
       "       [ 4.73260786, -0.86907735],\n",
       "       [ 6.59196726,  2.79296607],\n",
       "       [ 3.40659509, -4.71563765],\n",
       "       [ 6.59814862, -1.3561059 ],\n",
       "       [ 6.66773651,  0.30965068],\n",
       "       [ 4.16009169,  0.78233584],\n",
       "       [ 8.92796212,  4.91895536],\n",
       "       [ 8.44228713, -1.92024237],\n",
       "       [ 7.2215283 ,  3.58860714],\n",
       "       [ 9.38925937,  3.77842984],\n",
       "       [11.40290444,  1.47463246],\n",
       "       [ 3.69696317, -1.50335113],\n",
       "       [ 5.23263171,  0.56789853],\n",
       "       [ 7.55130188,  3.40808335],\n",
       "       [ 6.67790578, -0.62785573],\n",
       "       [ 6.98660817,  1.79656094],\n",
       "       [ 3.60720106, -5.14047125],\n",
       "       [ 5.72131517, -0.73726521],\n",
       "       [ 4.6616305 ,  0.15925671],\n",
       "       [ 9.96202036,  3.70215291],\n",
       "       [ 5.28589585, -0.81905168],\n",
       "       [ 6.40918056,  2.87272766],\n",
       "       [ 5.10901127,  0.62191959],\n",
       "       [ 6.9062002 , -0.5108066 ],\n",
       "       [ 5.35670383,  0.13832791],\n",
       "       [ 6.94744877, -0.84008246],\n",
       "       [ 7.17674232,  0.70056273],\n",
       "       [ 6.40971107,  1.08795658],\n",
       "       [ 8.07924968,  2.6420348 ],\n",
       "       [ 3.12950657, -3.86494714],\n",
       "       [ 8.09936741,  2.52324208],\n",
       "       [ 5.03047144, -0.53462995],\n",
       "       [ 4.91680362, -3.06139714],\n",
       "       [ 7.33373343,  1.21283044],\n",
       "       [ 4.87359948, -2.82108897],\n",
       "       [ 7.83127411,  4.33286508],\n",
       "       [ 5.13018155,  0.69619199],\n",
       "       [ 7.58909873, -3.26418247],\n",
       "       [ 9.4599148 ,  7.87321076],\n",
       "       [ 7.81853318, -0.19745869],\n",
       "       [ 8.71497536, -2.83012719],\n",
       "       [ 7.55922501, -1.32347391],\n",
       "       [ 7.0777565 ,  1.63821254],\n",
       "       [ 9.53749475,  1.77788592],\n",
       "       [ 6.285447  , -2.09441871],\n",
       "       [ 9.88337539,  4.05402142]])"
      ]
     },
     "execution_count": 73,
     "metadata": {},
     "output_type": "execute_result"
    }
   ],
   "source": [
    "X"
   ]
  },
  {
   "cell_type": "code",
   "execution_count": 75,
   "metadata": {},
   "outputs": [
    {
     "data": {
      "text/plain": [
       "array([[1.28140129e+01, 0.00000000e+00],\n",
       "       [9.54719672e+00, 2.73972603e-03],\n",
       "       [3.26272780e+00, 5.47945205e-03],\n",
       "       [2.50800951e+00, 8.21917808e-03],\n",
       "       [3.60544163e+00, 1.09589041e-02],\n",
       "       [2.63812585e+00, 1.36986301e-02],\n",
       "       [2.87809121e+00, 1.64383562e-02],\n",
       "       [2.39391603e+00, 1.91780822e-02],\n",
       "       [2.44687324e+00, 2.19178082e-02],\n",
       "       [3.55242830e+00, 2.46575342e-02],\n",
       "       [3.99194686e+00, 2.73972603e-02],\n",
       "       [5.18346155e+00, 3.01369863e-02],\n",
       "       [5.58607457e+00, 3.28767123e-02],\n",
       "       [4.72312072e+00, 3.56164384e-02],\n",
       "       [4.55432681e+00, 3.83561644e-02],\n",
       "       [4.80507331e+00, 4.10958904e-02],\n",
       "       [4.24206578e+00, 4.38356164e-02],\n",
       "       [2.37344330e+00, 4.65753425e-02],\n",
       "       [1.25740773e+00, 4.93150685e-02],\n",
       "       [1.43658621e+00, 5.20547945e-02],\n",
       "       [2.10881119e+00, 5.47945205e-02],\n",
       "       [1.70817360e+00, 5.75342466e-02],\n",
       "       [5.65444715e-01, 6.02739726e-02],\n",
       "       [2.83247768e+00, 6.30136986e-02],\n",
       "       [4.85197766e+00, 6.57534247e-02],\n",
       "       [5.13478224e+00, 6.84931507e-02],\n",
       "       [3.69929465e+00, 7.12328767e-02],\n",
       "       [2.79884098e+00, 7.39726027e-02],\n",
       "       [3.80104953e+00, 7.67123288e-02],\n",
       "       [3.87360411e+00, 7.94520548e-02],\n",
       "       [2.36436554e+00, 8.21917808e-02],\n",
       "       [8.11920189e-01, 8.49315068e-02],\n",
       "       [1.79905605e+00, 8.76712329e-02],\n",
       "       [2.18610114e+00, 9.04109589e-02],\n",
       "       [1.56747730e+00, 9.31506849e-02],\n",
       "       [3.21993069e+00, 9.58904110e-02],\n",
       "       [4.84512876e+00, 9.86301370e-02],\n",
       "       [3.91946947e+00, 1.01369863e-01],\n",
       "       [1.67637982e+00, 1.04109589e-01],\n",
       "       [1.48390310e+00, 1.06849315e-01],\n",
       "       [2.60887838e+00, 1.09589041e-01],\n",
       "       [3.69259586e+00, 1.12328767e-01],\n",
       "       [3.83670676e+00, 1.15068493e-01],\n",
       "       [1.90445217e+00, 1.17808219e-01],\n",
       "       [2.14987455e+00, 1.20547945e-01],\n",
       "       [3.42224413e+00, 1.23287671e-01],\n",
       "       [1.68757078e+00, 1.26027397e-01],\n",
       "       [2.71370070e+00, 1.28767123e-01],\n",
       "       [4.51393736e+00, 1.31506849e-01],\n",
       "       [4.17600881e+00, 1.34246575e-01],\n",
       "       [2.97234534e+00, 1.36986301e-01],\n",
       "       [1.77392707e+00, 1.39726027e-01],\n",
       "       [1.68170058e+00, 1.42465753e-01],\n",
       "       [2.68110714e+00, 1.45205479e-01],\n",
       "       [3.02890625e+00, 1.47945205e-01],\n",
       "       [1.78404286e+00, 1.50684932e-01],\n",
       "       [1.59235109e+00, 1.53424658e-01],\n",
       "       [1.39410698e+00, 1.56164384e-01],\n",
       "       [1.67295263e+00, 1.58904110e-01],\n",
       "       [3.61294641e+00, 1.61643836e-01],\n",
       "       [4.44037691e+00, 1.64383562e-01],\n",
       "       [3.76967295e+00, 1.67123288e-01],\n",
       "       [1.72389470e+00, 1.69863014e-01],\n",
       "       [1.30980720e+00, 1.72602740e-01],\n",
       "       [2.49762602e+00, 1.75342466e-01],\n",
       "       [2.67457276e+00, 1.78082192e-01],\n",
       "       [2.27880635e+00, 1.80821918e-01],\n",
       "       [6.25315422e-01, 1.83561644e-01],\n",
       "       [1.58502899e+00, 1.86301370e-01],\n",
       "       [3.20197595e+00, 1.89041096e-01],\n",
       "       [3.17087632e+00, 1.91780822e-01],\n",
       "       [9.28251308e-01, 1.94520548e-01],\n",
       "       [2.09570947e+00, 1.97260274e-01],\n",
       "       [3.06923771e+00, 2.00000000e-01],\n",
       "       [2.60638373e+00, 2.02739726e-01],\n",
       "       [2.36301011e+00, 2.05479452e-01],\n",
       "       [2.51492167e+00, 2.08219178e-01],\n",
       "       [2.59240467e+00, 2.10958904e-01],\n",
       "       [2.55895289e+00, 2.13698630e-01],\n",
       "       [1.85520108e+00, 2.16438356e-01],\n",
       "       [1.79754773e+00, 2.19178082e-01],\n",
       "       [2.13127651e+00, 2.21917808e-01],\n",
       "       [8.83066864e-01, 2.24657534e-01],\n",
       "       [1.41407914e+00, 2.27397260e-01],\n",
       "       [3.00747944e+00, 2.30136986e-01],\n",
       "       [3.22260964e+00, 2.32876712e-01],\n",
       "       [2.83054564e+00, 2.35616438e-01],\n",
       "       [2.15087156e+00, 2.38356164e-01],\n",
       "       [1.98942309e+00, 2.41095890e-01],\n",
       "       [3.31903209e+00, 2.43835616e-01],\n",
       "       [3.62424040e+00, 2.46575342e-01],\n",
       "       [2.07974220e+00, 2.49315068e-01],\n",
       "       [1.78228666e+00, 2.52054795e-01],\n",
       "       [1.90621345e+00, 2.54794521e-01],\n",
       "       [1.49329741e+00, 2.57534247e-01],\n",
       "       [1.75672200e+00, 2.60273973e-01],\n",
       "       [1.55329873e+00, 2.63013699e-01],\n",
       "       [1.24336824e+00, 2.65753425e-01],\n",
       "       [1.31614443e+00, 2.68493151e-01],\n",
       "       [9.32266588e-01, 2.71232877e-01],\n",
       "       [1.91997843e+00, 2.73972603e-01],\n",
       "       [3.55360600e+00, 2.76712329e-01],\n",
       "       [3.51073056e+00, 2.79452055e-01],\n",
       "       [2.62977506e+00, 2.82191781e-01],\n",
       "       [2.02622380e+00, 2.84931507e-01],\n",
       "       [1.36751701e+00, 2.87671233e-01],\n",
       "       [1.05098148e+00, 2.90410959e-01],\n",
       "       [6.76472661e-01, 2.93150685e-01],\n",
       "       [1.66730314e+00, 2.95890411e-01],\n",
       "       [1.60041636e+00, 2.98630137e-01],\n",
       "       [9.53525108e-01, 3.01369863e-01],\n",
       "       [1.17160426e+00, 3.04109589e-01],\n",
       "       [2.17409643e+00, 3.06849315e-01],\n",
       "       [3.06406635e+00, 3.09589041e-01],\n",
       "       [2.95821603e+00, 3.12328767e-01],\n",
       "       [2.04930520e+00, 3.15068493e-01],\n",
       "       [8.72564730e-01, 3.17808219e-01],\n",
       "       [1.44431111e+00, 3.20547945e-01],\n",
       "       [1.00567708e+00, 3.23287671e-01],\n",
       "       [7.20220409e-01, 3.26027397e-01],\n",
       "       [1.61359532e+00, 3.28767123e-01],\n",
       "       [1.59581611e+00, 3.31506849e-01],\n",
       "       [1.52020400e+00, 3.34246575e-01],\n",
       "       [1.19108451e+00, 3.36986301e-01],\n",
       "       [7.96382594e-01, 3.39726027e-01],\n",
       "       [1.66503695e+00, 3.42465753e-01],\n",
       "       [2.21883064e+00, 3.45205479e-01],\n",
       "       [1.32477351e+00, 3.47945205e-01],\n",
       "       [7.77889696e-01, 3.50684932e-01],\n",
       "       [1.44983038e+00, 3.53424658e-01],\n",
       "       [1.33255633e+00, 3.56164384e-01],\n",
       "       [8.83435686e-01, 3.58904110e-01],\n",
       "       [1.01466142e+00, 3.61643836e-01],\n",
       "       [8.14723816e-01, 3.64383562e-01],\n",
       "       [1.18928235e+00, 3.67123288e-01],\n",
       "       [1.35865894e+00, 3.69863014e-01],\n",
       "       [1.69388708e+00, 3.72602740e-01],\n",
       "       [2.86882232e+00, 3.75342466e-01],\n",
       "       [2.92357259e+00, 3.78082192e-01],\n",
       "       [2.33005892e+00, 3.80821918e-01],\n",
       "       [1.71170164e+00, 3.83561644e-01],\n",
       "       [1.20671226e+00, 3.86301370e-01],\n",
       "       [1.58437736e+00, 3.89041096e-01],\n",
       "       [1.67068018e+00, 3.91780822e-01],\n",
       "       [8.71743546e-01, 3.94520548e-01],\n",
       "       [8.83546679e-01, 3.97260274e-01],\n",
       "       [1.65229348e+00, 4.00000000e-01],\n",
       "       [4.25189764e-01, 4.02739726e-01],\n",
       "       [1.75561949e+00, 4.05479452e-01],\n",
       "       [3.10774109e+00, 4.08219178e-01],\n",
       "       [2.75236994e+00, 4.10958904e-01],\n",
       "       [1.23131814e+00, 4.13698630e-01],\n",
       "       [6.37330516e-01, 4.16438356e-01],\n",
       "       [1.66395448e+00, 4.19178082e-01],\n",
       "       [1.01685137e+00, 4.21917808e-01],\n",
       "       [1.10455227e+00, 4.24657534e-01],\n",
       "       [1.90058605e+00, 4.27397260e-01],\n",
       "       [1.44400772e+00, 4.30136986e-01],\n",
       "       [7.15793121e-01, 4.32876712e-01],\n",
       "       [3.47684963e-01, 4.35616438e-01],\n",
       "       [9.96347812e-01, 4.38356164e-01],\n",
       "       [1.43688496e+00, 4.41095890e-01],\n",
       "       [2.30970270e+00, 4.43835616e-01],\n",
       "       [1.94200042e+00, 4.46575342e-01],\n",
       "       [1.28326832e+00, 4.49315068e-01],\n",
       "       [9.51478874e-01, 4.52054795e-01],\n",
       "       [8.91166767e-01, 4.54794521e-01],\n",
       "       [1.43130390e+00, 4.57534247e-01],\n",
       "       [1.32359726e+00, 4.60273973e-01],\n",
       "       [9.58025117e-01, 4.63013699e-01],\n",
       "       [4.66631326e-01, 4.65753425e-01],\n",
       "       [7.66199489e-01, 4.68493151e-01],\n",
       "       [1.17365584e+00, 4.71232877e-01],\n",
       "       [2.04779166e+00, 4.73972603e-01],\n",
       "       [1.90693083e+00, 4.76712329e-01],\n",
       "       [5.97911566e-01, 4.79452055e-01],\n",
       "       [7.00555905e-01, 4.82191781e-01],\n",
       "       [7.70701615e-01, 4.84931507e-01],\n",
       "       [1.11059602e+00, 4.87671233e-01],\n",
       "       [1.85326532e+00, 4.90410959e-01],\n",
       "       [1.60319893e+00, 4.93150685e-01],\n",
       "       [3.32881424e-01, 4.95890411e-01],\n",
       "       [1.93761571e+00, 4.98630137e-01]])"
      ]
     },
     "execution_count": 75,
     "metadata": {},
     "output_type": "execute_result"
    }
   ],
   "source": [
    "x = np.asarray(df)\n",
    "x"
   ]
  },
  {
   "cell_type": "code",
   "execution_count": null,
   "metadata": {},
   "outputs": [],
   "source": []
  }
 ],
 "metadata": {
  "kernelspec": {
   "display_name": "Python 3",
   "language": "python",
   "name": "python3"
  },
  "language_info": {
   "codemirror_mode": {
    "name": "ipython",
    "version": 3
   },
   "file_extension": ".py",
   "mimetype": "text/x-python",
   "name": "python",
   "nbconvert_exporter": "python",
   "pygments_lexer": "ipython3",
   "version": "3.8.5"
  }
 },
 "nbformat": 4,
 "nbformat_minor": 4
}
