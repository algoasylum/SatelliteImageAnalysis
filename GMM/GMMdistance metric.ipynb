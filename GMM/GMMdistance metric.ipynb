{
 "cells": [
  {
   "cell_type": "code",
   "execution_count": 2,
   "metadata": {},
   "outputs": [],
   "source": [
    "import pandas as pd\n",
    "import numpy as np\n",
    "import matplotlib.pyplot as plt\n",
    "import seaborn as sns\n",
    "from sklearn import mixture\n",
    "sns.set(style='whitegrid')\n",
    "sns.set_palette('bright')\n",
    "import warnings\n",
    "warnings.filterwarnings('ignore')\n",
    "import collections\n",
    "from scipy.spatial import distance"
   ]
  },
  {
   "cell_type": "code",
   "execution_count": 3,
   "metadata": {},
   "outputs": [],
   "source": [
    "def ggen():\n",
    "    comp = np.random.randint(3,8)\n",
    "    print(comp)\n",
    "    val = []\n",
    "    xx = []\n",
    "    yy = []\n",
    "    for i in range(0,comp):\n",
    "        x = np.random.randint(50,250)\n",
    "        xx.append(x)\n",
    "        y = np.random.randint(50)\n",
    "        yy.append(y)\n",
    "        value = np.random.normal(loc=x,scale=y,size=10000)\n",
    "        val.append(list(value))\n",
    "    sns.distplot(val)\n",
    "    #plt.show()\n",
    "    return val, comp, xx, yy"
   ]
  },
  {
   "cell_type": "code",
   "execution_count": 4,
   "metadata": {},
   "outputs": [
    {
     "name": "stdout",
     "output_type": "stream",
     "text": [
      "6\n",
      "4\n"
     ]
    },
    {
     "data": {
      "image/png": "[encoded data removed]",
      "text/plain": [
       "<Figure size 432x288 with 1 Axes>"
      ]
     },
     "metadata": {},
     "output_type": "display_data"
    }
   ],
   "source": [
    "q1, x1 , mean1, std1 = ggen()\n",
    "q2, x2 , mean2, std2 = ggen()"
   ]
  },
  {
   "cell_type": "code",
   "execution_count": 5,
   "metadata": {},
   "outputs": [],
   "source": [
    "\n",
    "lowest_bic = np.infty\n",
    "bic = []\n",
    "n_components_range = range(1, 8)\n",
    "cv_types = ['spherical', 'tied', 'diag', 'full']\n",
    "for cv_type in cv_types:\n",
    "    for n_components in n_components_range:\n",
    "        # Fit a Gaussian mixture with EM\n",
    "        gmm = mixture.GaussianMixture(n_components=n_components,\n",
    "                                      covariance_type=cv_type)\n",
    "        q1 = np.asarray(q1)\n",
    "        q1 =q1.reshape(-1,1)\n",
    "        gmm.fit(q1)\n",
    "        bic.append(gmm.bic(q1))\n",
    "        if bic[-1] < lowest_bic:\n",
    "            lowest_bic = bic[-1]\n",
    "            best_gmmq1 = gmm\n",
    "            \n",
    "lowest_bic = np.infty\n",
    "bic = []\n",
    "n_components_range = range(1, 8)\n",
    "cv_types = ['spherical', 'tied', 'diag', 'full']\n",
    "for cv_type in cv_types:\n",
    "    for n_components in n_components_range:\n",
    "        # Fit a Gaussian mixture with EM\n",
    "        gmm = mixture.GaussianMixture(n_components=n_components,\n",
    "                                      covariance_type=cv_type)\n",
    "        q2 = np.asarray(q2)\n",
    "        q2 =q2.reshape(-1,1)\n",
    "        gmm.fit(q2)\n",
    "        bic.append(gmm.bic(q2))\n",
    "        if bic[-1] < lowest_bic:\n",
    "            lowest_bic = bic[-1]\n",
    "            best_gmmq2 = gmm\n",
    "    "
   ]
  },
  {
   "cell_type": "code",
   "execution_count": 6,
   "metadata": {},
   "outputs": [
    {
     "name": "stdout",
     "output_type": "stream",
     "text": [
      "{'covariance_type': 'spherical', 'init_params': 'kmeans', 'max_iter': 100, 'means_init': None, 'n_components': 7, 'n_init': 1, 'precisions_init': None, 'random_state': None, 'reg_covar': 1e-06, 'tol': 0.001, 'verbose': 0, 'verbose_interval': 10, 'warm_start': False, 'weights_init': None}\n",
      "{'covariance_type': 'full', 'init_params': 'kmeans', 'max_iter': 100, 'means_init': None, 'n_components': 3, 'n_init': 1, 'precisions_init': None, 'random_state': None, 'reg_covar': 1e-06, 'tol': 0.001, 'verbose': 0, 'verbose_interval': 10, 'warm_start': False, 'weights_init': None}\n",
      "[0.14838332 0.15923889 0.05850367 0.08233121 0.17446196 0.2702879\n",
      " 0.10679303]\n",
      "[0.31680714 0.26176288 0.42142999]\n",
      "[[180.70108865]\n",
      " [100.19380097]\n",
      " [  2.7987991 ]\n",
      " [265.09970458]\n",
      " [140.31036304]\n",
      " [222.32991074]\n",
      " [ 55.60949337]]\n",
      "[[ 53.14297986]\n",
      " [179.27664789]\n",
      " [100.1886065 ]]\n"
     ]
    }
   ],
   "source": [
    "print(best_gmmq1.get_params())\n",
    "print(best_gmmq2.get_params())\n",
    "print(best_gmmq1.weights_)\n",
    "print(best_gmmq2.weights_)\n",
    "print(best_gmmq1.means_)\n",
    "#print(mean1)\n",
    "print(best_gmmq2.means_)\n",
    "#print(mean2)"
   ]
  },
  {
   "cell_type": "code",
   "execution_count": 7,
   "metadata": {},
   "outputs": [
    {
     "data": {
      "text/plain": [
       "OrderedDict([(0.27028790251384566, array([222.32991074])),\n",
       "             (0.17446196139058495, array([140.31036304])),\n",
       "             (0.1592388908195893, array([100.19380097])),\n",
       "             (0.1483833232812753, array([180.70108865])),\n",
       "             (0.10679303410343072, array([55.60949337])),\n",
       "             (0.0823312136829995, array([265.09970458])),\n",
       "             (0.05850367420825969, array([2.7987991]))])"
      ]
     },
     "execution_count": 7,
     "metadata": {},
     "output_type": "execute_result"
    }
   ],
   "source": [
    "x = dict(zip(best_gmmq1.weights_,best_gmmq1.means_))\n",
    "od1 = collections.OrderedDict(sorted(x.items(),reverse=True))\n",
    "od1"
   ]
  },
  {
   "cell_type": "code",
   "execution_count": 8,
   "metadata": {},
   "outputs": [
    {
     "data": {
      "text/plain": [
       "OrderedDict([(0.42142998748840454, array([100.1886065])),\n",
       "             (0.3168071370208665, array([53.14297986])),\n",
       "             (0.26176287549072985, array([179.27664789]))])"
      ]
     },
     "execution_count": 8,
     "metadata": {},
     "output_type": "execute_result"
    }
   ],
   "source": [
    "y = dict(zip(best_gmmq2.weights_,best_gmmq2.means_))\n",
    "od2 = collections.OrderedDict(sorted(y.items(),reverse=True))\n",
    "od2"
   ]
  },
  {
   "cell_type": "code",
   "execution_count": 16,
   "metadata": {},
   "outputs": [
    {
     "data": {
      "text/plain": [
       "[(0.42142998748840454, array([100.1886065])),\n",
       " (0.3168071370208665, array([53.14297986])),\n",
       " (0.26176287549072985, array([179.27664789]))]"
      ]
     },
     "execution_count": 16,
     "metadata": {},
     "output_type": "execute_result"
    }
   ],
   "source": [
    "minsize=min(len(od1),len(od2))\n",
    "od1 = dict(od1).items()\n",
    "od1 = list(od1)[:minsize]\n",
    "od2 = dict(od2).items()\n",
    "od2 = list(od2)[:minsize]\n",
    "od2"
   ]
  },
  {
   "cell_type": "code",
   "execution_count": 24,
   "metadata": {},
   "outputs": [],
   "source": [
    "odw=[]\n",
    "odm=[]\n",
    "for i in range(len(od1)):\n",
    "    odw.append(abs(od1[i][0] - od2[i][0]))\n",
    "    odm.append(abs(od1[i][1][0] - od2[i][1][0]))\n",
    "    "
   ]
  },
  {
   "cell_type": "markdown",
   "metadata": {},
   "source": [
    "Manhattan"
   ]
  },
  {
   "cell_type": "code",
   "execution_count": 26,
   "metadata": {},
   "outputs": [
    {
     "data": {
      "text/plain": [
       "[(0.1511420849745589, 122.14130424207079),\n",
       " (0.14234517563028154, 87.1673831759421),\n",
       " (0.10252398467114054, 79.08284691755483)]"
      ]
     },
     "execution_count": 26,
     "metadata": {},
     "output_type": "execute_result"
    }
   ],
   "source": [
    "dmm = list(zip(odw,odm))\n",
    "dmm"
   ]
  },
  {
   "cell_type": "code",
   "execution_count": 28,
   "metadata": {},
   "outputs": [],
   "source": [
    "odw=[]\n",
    "odm=[]\n",
    "for i in range(len(od1)):\n",
    "    odw.append(np.sqrt((od1[i][0] - od2[i][0])**2))\n",
    "    odm.append(np.sqrt((od1[i][1][0] - od2[i][1][0])**2))\n"
   ]
  },
  {
   "cell_type": "markdown",
   "metadata": {},
   "source": [
    "Euclidean"
   ]
  },
  {
   "cell_type": "code",
   "execution_count": 31,
   "metadata": {},
   "outputs": [
    {
     "data": {
      "text/plain": [
       "[(0.1511420849745589, 122.14130424207079),\n",
       " (0.14234517563028154, 87.1673831759421),\n",
       " (0.10252398467114054, 79.08284691755483)]"
      ]
     },
     "execution_count": 31,
     "metadata": {},
     "output_type": "execute_result"
    }
   ],
   "source": [
    "dme = list(zip(odw,odm))\n",
    "dme"
   ]
  },
  {
   "cell_type": "code",
   "execution_count": 32,
   "metadata": {},
   "outputs": [],
   "source": [
    "odd1 = []\n",
    "odd2 = []\n",
    "for i in range(minsize):\n",
    "    odd1.append(od1[i][0] * od1[i][1][0])\n",
    "    odd2.append(od2[i][0] * od2[i][1][0])\n",
    "odd1 = np.asarray(odd1)\n",
    "odd2 = np.asarray(odd2)\n"
   ]
  },
  {
   "cell_type": "code",
   "execution_count": 33,
   "metadata": {},
   "outputs": [
    {
     "data": {
      "text/plain": [
       "array([60.09308524, 24.47882114, 15.95474973])"
      ]
     },
     "execution_count": 33,
     "metadata": {},
     "output_type": "execute_result"
    }
   ],
   "source": [
    "odd1"
   ]
  },
  {
   "cell_type": "markdown",
   "metadata": {},
   "source": [
    "Manhattan"
   ]
  },
  {
   "cell_type": "code",
   "execution_count": 34,
   "metadata": {},
   "outputs": [
    {
     "data": {
      "text/plain": [
       "array([17.87060206,  7.64274584, 30.97322113])"
      ]
     },
     "execution_count": 34,
     "metadata": {},
     "output_type": "execute_result"
    }
   ],
   "source": [
    "distm = abs(odd1-odd2)\n",
    "distm"
   ]
  },
  {
   "cell_type": "markdown",
   "metadata": {},
   "source": [
    "Euclidean"
   ]
  },
  {
   "cell_type": "code",
   "execution_count": 35,
   "metadata": {},
   "outputs": [
    {
     "data": {
      "text/plain": [
       "array([17.87060206,  7.64274584, 30.97322113])"
      ]
     },
     "execution_count": 35,
     "metadata": {},
     "output_type": "execute_result"
    }
   ],
   "source": [
    "dist = np.sqrt((odd1 - odd2)**2)\n",
    "dist"
   ]
  },
  {
   "cell_type": "code",
   "execution_count": null,
   "metadata": {},
   "outputs": [],
   "source": []
  },
  {
   "cell_type": "code",
   "execution_count": null,
   "metadata": {},
   "outputs": [],
   "source": []
  },
  {
   "cell_type": "code",
   "execution_count": null,
   "metadata": {},
   "outputs": [],
   "source": []
  }
 ],
 "metadata": {
  "kernelspec": {
   "display_name": "Python 3",
   "language": "python",
   "name": "python3"
  },
  "language_info": {
   "codemirror_mode": {
    "name": "ipython",
    "version": 3
   },
   "file_extension": ".py",
   "mimetype": "text/x-python",
   "name": "python",
   "nbconvert_exporter": "python",
   "pygments_lexer": "ipython3",
   "version": "3.8.5"
  }
 },
 "nbformat": 4,
 "nbformat_minor": 4
}
