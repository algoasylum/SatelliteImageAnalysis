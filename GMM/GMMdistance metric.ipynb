{
 "cells": [
  {
   "cell_type": "code",
   "execution_count": 107,
   "metadata": {},
   "outputs": [],
   "source": [
    "import pandas as pd\n",
    "import numpy as np\n",
    "import matplotlib.pyplot as plt\n",
    "import seaborn as sns\n",
    "from sklearn import mixture\n",
    "sns.set(style='whitegrid')\n",
    "sns.set_palette('bright')\n",
    "import warnings\n",
    "warnings.filterwarnings('ignore')\n",
    "import collections\n",
    "from scipy.spatial import distance"
   ]
  },
  {
   "cell_type": "code",
   "execution_count": 50,
   "metadata": {},
   "outputs": [],
   "source": [
    "def ggen():\n",
    "    comp = np.random.randint(3,8)\n",
    "    print(comp)\n",
    "    val = []\n",
    "    xx = []\n",
    "    yy = []\n",
    "    for i in range(0,comp):\n",
    "        x = np.random.randint(50,250)\n",
    "        xx.append(x)\n",
    "        y = np.random.randint(50)\n",
    "        yy.append(y)\n",
    "        value = np.random.normal(loc=x,scale=y,size=10000)\n",
    "        val.append(list(value))\n",
    "    sns.distplot(val)\n",
    "    #plt.show()\n",
    "    return val, comp, xx, yy"
   ]
  },
  {
   "cell_type": "code",
   "execution_count": 60,
   "metadata": {},
   "outputs": [
    {
     "name": "stdout",
     "output_type": "stream",
     "text": [
      "5\n",
      "6\n"
     ]
    },
    {
     "data": {
      "image/png": "[encoded data removed]",
      "text/plain": [
       "<Figure size 432x288 with 1 Axes>"
      ]
     },
     "metadata": {},
     "output_type": "display_data"
    }
   ],
   "source": [
    "q1, x1 , mean1, std1 = ggen()\n",
    "q2, x2 , mean2, std2 = ggen()"
   ]
  },
  {
   "cell_type": "code",
   "execution_count": 61,
   "metadata": {},
   "outputs": [],
   "source": [
    "\n",
    "lowest_bic = np.infty\n",
    "bic = []\n",
    "n_components_range = range(1, 8)\n",
    "cv_types = ['spherical', 'tied', 'diag', 'full']\n",
    "for cv_type in cv_types:\n",
    "    for n_components in n_components_range:\n",
    "        # Fit a Gaussian mixture with EM\n",
    "        gmm = mixture.GaussianMixture(n_components=n_components,\n",
    "                                      covariance_type=cv_type)\n",
    "        q1 = np.asarray(q1)\n",
    "        q1 =q1.reshape(-1,1)\n",
    "        gmm.fit(q1)\n",
    "        bic.append(gmm.bic(q1))\n",
    "        if bic[-1] < lowest_bic:\n",
    "            lowest_bic = bic[-1]\n",
    "            best_gmmq1 = gmm\n",
    "            \n",
    "lowest_bic = np.infty\n",
    "bic = []\n",
    "n_components_range = range(1, 8)\n",
    "cv_types = ['spherical', 'tied', 'diag', 'full']\n",
    "for cv_type in cv_types:\n",
    "    for n_components in n_components_range:\n",
    "        # Fit a Gaussian mixture with EM\n",
    "        gmm = mixture.GaussianMixture(n_components=n_components,\n",
    "                                      covariance_type=cv_type)\n",
    "        q2 = np.asarray(q2)\n",
    "        q2 =q2.reshape(-1,1)\n",
    "        gmm.fit(q2)\n",
    "        bic.append(gmm.bic(q2))\n",
    "        if bic[-1] < lowest_bic:\n",
    "            lowest_bic = bic[-1]\n",
    "            best_gmmq2 = gmm\n",
    "    "
   ]
  },
  {
   "cell_type": "code",
   "execution_count": 62,
   "metadata": {},
   "outputs": [
    {
     "name": "stdout",
     "output_type": "stream",
     "text": [
      "{'covariance_type': 'diag', 'init_params': 'kmeans', 'max_iter': 100, 'means_init': None, 'n_components': 6, 'n_init': 1, 'precisions_init': None, 'random_state': None, 'reg_covar': 1e-06, 'tol': 0.001, 'verbose': 0, 'verbose_interval': 10, 'warm_start': False, 'weights_init': None}\n",
      "{'covariance_type': 'spherical', 'init_params': 'kmeans', 'max_iter': 100, 'means_init': None, 'n_components': 4, 'n_init': 1, 'precisions_init': None, 'random_state': None, 'reg_covar': 1e-06, 'tol': 0.001, 'verbose': 0, 'verbose_interval': 10, 'warm_start': False, 'weights_init': None}\n",
      "[0.1181644  0.21221325 0.12841892 0.27170841 0.2030141  0.06648092]\n",
      "[0.38668227 0.24844059 0.11883942 0.24603772]\n",
      "[[171.27488804]\n",
      " [ 89.20469162]\n",
      " [227.83451744]\n",
      " [109.10491451]\n",
      " [200.23827518]\n",
      " [263.19116486]]\n",
      "[[ 97.85257611]\n",
      " [ 48.00683087]\n",
      " [240.20843927]\n",
      " [159.44766635]]\n"
     ]
    }
   ],
   "source": [
    "print(best_gmmq1.get_params())\n",
    "print(best_gmmq2.get_params())\n",
    "print(best_gmmq1.weights_)\n",
    "print(best_gmmq2.weights_)\n",
    "print(best_gmmq1.means_)\n",
    "#print(mean1)\n",
    "print(best_gmmq2.means_)\n",
    "#print(mean2)"
   ]
  },
  {
   "cell_type": "code",
   "execution_count": 69,
   "metadata": {},
   "outputs": [
    {
     "data": {
      "text/plain": [
       "OrderedDict([(0.2717084085957302, array([109.10491451])),\n",
       "             (0.2122132481730087, array([89.20469162])),\n",
       "             (0.20301410363232278, array([200.23827518])),\n",
       "             (0.12841892370152116, array([227.83451744])),\n",
       "             (0.11816439926661684, array([171.27488804])),\n",
       "             (0.0664809166307938, array([263.19116486]))])"
      ]
     },
     "execution_count": 69,
     "metadata": {},
     "output_type": "execute_result"
    }
   ],
   "source": [
    "x = dict(zip(best_gmmq1.weights_,best_gmmq1.means_))\n",
    "od1 = collections.OrderedDict(sorted(x.items(),reverse=True))\n",
    "od1"
   ]
  },
  {
   "cell_type": "code",
   "execution_count": 70,
   "metadata": {},
   "outputs": [
    {
     "data": {
      "text/plain": [
       "OrderedDict([(0.38668226546139506, array([97.85257611])),\n",
       "             (0.24844059099563975, array([48.00683087])),\n",
       "             (0.24603772487276238, array([159.44766635])),\n",
       "             (0.1188394186701977, array([240.20843927]))])"
      ]
     },
     "execution_count": 70,
     "metadata": {},
     "output_type": "execute_result"
    }
   ],
   "source": [
    "y = dict(zip(best_gmmq2.weights_,best_gmmq2.means_))\n",
    "od2 = collections.OrderedDict(sorted(y.items(),reverse=True))\n",
    "od2"
   ]
  },
  {
   "cell_type": "code",
   "execution_count": 88,
   "metadata": {},
   "outputs": [
    {
     "data": {
      "text/plain": [
       "[(0.38668226546139506, array([97.85257611])),\n",
       " (0.24844059099563975, array([48.00683087])),\n",
       " (0.24603772487276238, array([159.44766635])),\n",
       " (0.1188394186701977, array([240.20843927]))]"
      ]
     },
     "execution_count": 88,
     "metadata": {},
     "output_type": "execute_result"
    }
   ],
   "source": [
    "minsize=min(len(od1),len(od2))\n",
    "od1 = dict(od1).items()\n",
    "od1 = list(od1)[:minsize]\n",
    "od2 = dict(od2).items()\n",
    "od2 = list(od2)[:minsize]\n",
    "od2"
   ]
  },
  {
   "cell_type": "code",
   "execution_count": 104,
   "metadata": {},
   "outputs": [
    {
     "data": {
      "text/plain": [
       "array([-8.19313312,  7.00357193,  1.42105288,  0.71203223])"
      ]
     },
     "execution_count": 104,
     "metadata": {},
     "output_type": "execute_result"
    }
   ],
   "source": [
    "odd1 = []\n",
    "odd2 = []\n",
    "for i in range(minsize):\n",
    "    odd1.append(od1[i][0] * od1[i][1][0])\n",
    "    odd2.append(od2[i][0] * od2[i][1][0])\n",
    "odd1 = np.asarray(odd1)\n",
    "odd2 = np.asarray(odd2)\n"
   ]
  },
  {
   "cell_type": "markdown",
   "metadata": {},
   "source": [
    "Manhattan"
   ]
  },
  {
   "cell_type": "code",
   "execution_count": 116,
   "metadata": {},
   "outputs": [
    {
     "data": {
      "text/plain": [
       "array([8.19313312, 7.00357193, 1.42105288, 0.71203223])"
      ]
     },
     "execution_count": 116,
     "metadata": {},
     "output_type": "execute_result"
    }
   ],
   "source": [
    "distm = abs(odd1-odd2)\n",
    "distm"
   ]
  },
  {
   "cell_type": "markdown",
   "metadata": {},
   "source": [
    "Euclidean"
   ]
  },
  {
   "cell_type": "code",
   "execution_count": 117,
   "metadata": {},
   "outputs": [
    {
     "data": {
      "text/plain": [
       "array([23.5136928 , 14.70071629, 10.65437007,  6.41550179])"
      ]
     },
     "execution_count": 117,
     "metadata": {},
     "output_type": "execute_result"
    }
   ],
   "source": [
    "dist = np.sqrt(abs(odd1**2 - odd2**2))\n",
    "dist"
   ]
  },
  {
   "cell_type": "code",
   "execution_count": null,
   "metadata": {},
   "outputs": [],
   "source": []
  },
  {
   "cell_type": "code",
   "execution_count": null,
   "metadata": {},
   "outputs": [],
   "source": []
  },
  {
   "cell_type": "code",
   "execution_count": null,
   "metadata": {},
   "outputs": [],
   "source": []
  }
 ],
 "metadata": {
  "kernelspec": {
   "display_name": "Python 3",
   "language": "python",
   "name": "python3"
  },
  "language_info": {
   "codemirror_mode": {
    "name": "ipython",
    "version": 3
   },
   "file_extension": ".py",
   "mimetype": "text/x-python",
   "name": "python",
   "nbconvert_exporter": "python",
   "pygments_lexer": "ipython3",
   "version": "3.8.5"
  }
 },
 "nbformat": 4,
 "nbformat_minor": 4
}
