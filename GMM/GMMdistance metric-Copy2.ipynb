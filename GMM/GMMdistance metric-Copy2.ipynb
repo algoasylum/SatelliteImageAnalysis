{
 "cells": [
  {
   "cell_type": "code",
   "execution_count": 1,
   "metadata": {},
   "outputs": [],
   "source": [
    "import pandas as pd\n",
    "import numpy as np\n",
    "import random\n",
    "import matplotlib.pyplot as plt\n",
    "import seaborn as sns\n",
    "from sklearn import mixture\n",
    "sns.set(style='whitegrid')\n",
    "sns.set_palette('bright')\n",
    "import warnings\n",
    "warnings.filterwarnings('ignore')\n",
    "import collections\n",
    "from scipy.spatial import distance"
   ]
  },
  {
   "cell_type": "code",
   "execution_count": null,
   "metadata": {},
   "outputs": [],
   "source": []
  },
  {
   "cell_type": "code",
   "execution_count": null,
   "metadata": {},
   "outputs": [],
   "source": []
  },
  {
   "cell_type": "code",
   "execution_count": 2,
   "metadata": {},
   "outputs": [],
   "source": [
    "value1 = np.random.normal(loc=5,scale=25,size=10000)\n",
    "value2 =  np.random.normal(loc=175,scale=50,size=10000)\n",
    "value3 =  np.random.normal(loc=500,scale=75,size=10000)\n",
    "q1 = np.concatenate((value1,value2,value3))\n"
   ]
  },
  {
   "cell_type": "code",
   "execution_count": 3,
   "metadata": {},
   "outputs": [
    {
     "data": {
      "image/png": "[encoded data removed]",
      "text/plain": [
       "<Figure size 432x288 with 1 Axes>"
      ]
     },
     "metadata": {},
     "output_type": "display_data"
    }
   ],
   "source": [
    "value1 = np.random.normal(loc=90,scale=45,size=10000)\n",
    "value2 =  np.random.normal(loc=245,scale=25,size=10000)\n",
    "value3 =  np.random.normal(loc=650,scale=69,size=10000)\n",
    "value4 =  np.random.normal(loc=45,scale=23,size=10000)\n",
    "q2 = np.concatenate((value1,value2,value3,value4))\n",
    "sns.distplot(q1,bins=1000)\n",
    "sns.distplot(q2,bins=1000)\n",
    "plt.show()"
   ]
  },
  {
   "cell_type": "code",
   "execution_count": 4,
   "metadata": {},
   "outputs": [],
   "source": [
    "\n",
    "lowest_bic = np.infty\n",
    "bic = []\n",
    "n_components_range = range(1, 8)\n",
    "cv_types = ['spherical', 'tied', 'diag', 'full']\n",
    "for cv_type in cv_types:\n",
    "    for n_components in n_components_range:\n",
    "        # Fit a Gaussian mixture with EM\n",
    "        gmm = mixture.GaussianMixture(n_components=n_components,\n",
    "                                      covariance_type=cv_type)\n",
    "        q1 = np.asarray(q1)\n",
    "        q1 =q1.reshape(-1,1)\n",
    "        gmm.fit(q1)\n",
    "        bic.append(gmm.bic(q1))\n",
    "        if bic[-1] < lowest_bic:\n",
    "            lowest_bic = bic[-1]\n",
    "            best_gmmq1 = gmm\n",
    "            \n",
    "lowest_bic = np.infty\n",
    "bic = []\n",
    "n_components_range = range(1, 8)\n",
    "cv_types = ['spherical', 'tied', 'diag', 'full']\n",
    "for cv_type in cv_types:\n",
    "    for n_components in n_components_range:\n",
    "        # Fit a Gaussian mixture with EM\n",
    "        gmm = mixture.GaussianMixture(n_components=n_components,\n",
    "                                      covariance_type=cv_type)\n",
    "        q2 = np.asarray(q2)\n",
    "        q2 =q2.reshape(-1,1)\n",
    "        gmm.fit(q2)\n",
    "        bic.append(gmm.bic(q2))\n",
    "        if bic[-1] < lowest_bic:\n",
    "            lowest_bic = bic[-1]\n",
    "            best_gmmq2 = gmm\n",
    "    "
   ]
  },
  {
   "cell_type": "code",
   "execution_count": 5,
   "metadata": {},
   "outputs": [],
   "source": [
    "mins = min(best_gmmq1.n_components,best_gmmq2.n_components)\n",
    "if best_gmmq1.n_components > best_gmmq2.n_components:\n",
    "    lowest_bic = np.infty\n",
    "    bic = []\n",
    "    cv_types = ['spherical', 'tied', 'diag', 'full']\n",
    "    for cv_type in cv_types:\n",
    "        # Fit a Gaussian mixture with EM\n",
    "        gmm = mixture.GaussianMixture(n_components=mins,\n",
    "                                          covariance_type=cv_type)\n",
    "        q1 = np.asarray(q1)\n",
    "        q1 =q1.reshape(-1,1)\n",
    "        gmm.fit(q1)\n",
    "        bic.append(gmm.bic(q1))\n",
    "        if bic[-1] < lowest_bic:\n",
    "            lowest_bic = bic[-1]\n",
    "            best_gmmq1 = gmm\n",
    "else:\n",
    "    lowest_bic = np.infty\n",
    "    bic = []\n",
    "    cv_types = ['spherical', 'tied', 'diag', 'full']\n",
    "    for cv_type in cv_types:\n",
    "        # Fit a Gaussian mixture with EM\n",
    "        gmm = mixture.GaussianMixture(n_components=mins,\n",
    "                                          covariance_type=cv_type)\n",
    "        q2 = np.asarray(q2)\n",
    "        q2 =q2.reshape(-1,1)\n",
    "        gmm.fit(q2)\n",
    "        bic.append(gmm.bic(q2))\n",
    "        if bic[-1] < lowest_bic:\n",
    "            lowest_bic = bic[-1]\n",
    "            best_gmmq2 = gmm"
   ]
  },
  {
   "cell_type": "code",
   "execution_count": 6,
   "metadata": {},
   "outputs": [
    {
     "name": "stdout",
     "output_type": "stream",
     "text": [
      "{'covariance_type': 'spherical', 'init_params': 'kmeans', 'max_iter': 100, 'means_init': None, 'n_components': 3, 'n_init': 1, 'precisions_init': None, 'random_state': None, 'reg_covar': 1e-06, 'tol': 0.001, 'verbose': 0, 'verbose_interval': 10, 'warm_start': False, 'weights_init': None}\n",
      "{'covariance_type': 'diag', 'init_params': 'kmeans', 'max_iter': 100, 'means_init': None, 'n_components': 3, 'n_init': 1, 'precisions_init': None, 'random_state': None, 'reg_covar': 1e-06, 'tol': 0.001, 'verbose': 0, 'verbose_interval': 10, 'warm_start': False, 'weights_init': None}\n",
      "[0.33509834 0.33331751 0.33158416]\n",
      "[0.25994576 0.24998753 0.49006671]\n",
      "[[  5.19264571]\n",
      " [499.76777811]\n",
      " [175.90555691]]\n",
      "[[242.47425125]\n",
      " [650.58122784]\n",
      " [ 64.76799067]]\n",
      "[ 642.00267501 5514.90910439 2442.49230745]\n",
      "[[ 752.12126771]\n",
      " [4709.42893441]\n",
      " [1508.86240556]]\n"
     ]
    }
   ],
   "source": [
    "print(best_gmmq1.get_params())\n",
    "print(best_gmmq2.get_params())\n",
    "print(best_gmmq1.weights_)\n",
    "print(best_gmmq2.weights_)\n",
    "print(best_gmmq1.means_)\n",
    "#print(mean1)\n",
    "print(best_gmmq2.means_)\n",
    "#print(mean2)\n",
    "print(best_gmmq1.covariances_)\n",
    "print(best_gmmq2.covariances_)"
   ]
  },
  {
   "cell_type": "code",
   "execution_count": 7,
   "metadata": {},
   "outputs": [
    {
     "data": {
      "text/plain": [
       "<AxesSubplot:ylabel='Density'>"
      ]
     },
     "execution_count": 7,
     "metadata": {},
     "output_type": "execute_result"
    },
    {
     "data": {
      "image/png": "[encoded data removed]",
      "text/plain": [
       "<Figure size 432x288 with 1 Axes>"
      ]
     },
     "metadata": {},
     "output_type": "display_data"
    }
   ],
   "source": [
    "r1,_=best_gmmq1.sample(10000)\n",
    "sns.distplot(r1,bins=1000)\n",
    "r2,_=best_gmmq2.sample(10000)\n",
    "sns.distplot(r2,bins=1000)"
   ]
  },
  {
   "cell_type": "code",
   "execution_count": 8,
   "metadata": {},
   "outputs": [
    {
     "name": "stdout",
     "output_type": "stream",
     "text": [
      "-6.302742212414589\n"
     ]
    },
    {
     "data": {
      "text/plain": [
       "-6.17038291126016"
      ]
     },
     "execution_count": 8,
     "metadata": {},
     "output_type": "execute_result"
    }
   ],
   "source": [
    "print(best_gmmq1.score(r1))\n",
    "best_gmmq2.score(r2)"
   ]
  },
  {
   "cell_type": "code",
   "execution_count": 9,
   "metadata": {},
   "outputs": [
    {
     "name": "stdout",
     "output_type": "stream",
     "text": [
      "{'covariance_type': 'spherical', 'init_params': 'kmeans', 'max_iter': 100, 'means_init': None, 'n_components': 3, 'n_init': 1, 'precisions_init': None, 'random_state': None, 'reg_covar': 1e-06, 'tol': 0.001, 'verbose': 0, 'verbose_interval': 10, 'warm_start': False, 'weights_init': None}\n",
      "{'covariance_type': 'diag', 'init_params': 'kmeans', 'max_iter': 100, 'means_init': None, 'n_components': 3, 'n_init': 1, 'precisions_init': None, 'random_state': None, 'reg_covar': 1e-06, 'tol': 0.001, 'verbose': 0, 'verbose_interval': 10, 'warm_start': False, 'weights_init': None}\n",
      "[0.33509834 0.33331751 0.33158416]\n",
      "[0.25994576 0.24998753 0.49006671]\n",
      "[[  5.19264571]\n",
      " [499.76777811]\n",
      " [175.90555691]]\n",
      "[[242.47425125]\n",
      " [650.58122784]\n",
      " [ 64.76799067]]\n"
     ]
    }
   ],
   "source": [
    "print(best_gmmq1.get_params())\n",
    "print(best_gmmq2.get_params())\n",
    "print(best_gmmq1.weights_)\n",
    "print(best_gmmq2.weights_)\n",
    "print(best_gmmq1.means_)\n",
    "#print(mean1)\n",
    "print(best_gmmq2.means_)\n",
    "#print(mean2)"
   ]
  },
  {
   "cell_type": "code",
   "execution_count": 31,
   "metadata": {},
   "outputs": [
    {
     "data": {
      "text/plain": [
       "[5.192645712312085, 499.7677781078227, 175.90555691105607]"
      ]
     },
     "execution_count": 31,
     "metadata": {},
     "output_type": "execute_result"
    }
   ],
   "source": [
    "means=[]\n",
    "for i in range(len(best_gmmq1.means_)):\n",
    "    means.append(best_gmmq1.means_[i][0])\n",
    "means"
   ]
  },
  {
   "cell_type": "code",
   "execution_count": 34,
   "metadata": {},
   "outputs": [
    {
     "data": {
      "text/plain": [
       "OrderedDict([(499.7677781078227, 0.333317505457715),\n",
       "             (175.90555691105607, 0.33158415781089823),\n",
       "             (5.192645712312085, 0.3350983367313777)])"
      ]
     },
     "execution_count": 34,
     "metadata": {},
     "output_type": "execute_result"
    }
   ],
   "source": [
    "x = dict(zip(means,best_gmmq1.weights_))\n",
    "od1 = collections.OrderedDict(sorted(x.items(),reverse=True))\n",
    "od1"
   ]
  },
  {
   "cell_type": "code",
   "execution_count": 38,
   "metadata": {},
   "outputs": [
    {
     "data": {
      "text/plain": [
       "[242.4742512497811, 650.5812278369369, 64.76799067284479]"
      ]
     },
     "execution_count": 38,
     "metadata": {},
     "output_type": "execute_result"
    }
   ],
   "source": [
    "means=[]\n",
    "for i in range(len(best_gmmq2.means_)):\n",
    "    means.append(best_gmmq2.means_[i][0])\n",
    "means"
   ]
  },
  {
   "cell_type": "code",
   "execution_count": 39,
   "metadata": {},
   "outputs": [
    {
     "data": {
      "text/plain": [
       "OrderedDict([(650.5812278369369, 0.24998752958087808),\n",
       "             (242.4742512497811, 0.25994575851879403),\n",
       "             (64.76799067284479, 0.49006671190033346)])"
      ]
     },
     "execution_count": 39,
     "metadata": {},
     "output_type": "execute_result"
    }
   ],
   "source": [
    "x = dict(zip(means,best_gmmq2.weights_))\n",
    "od2 = collections.OrderedDict(sorted(x.items(),reverse=True))\n",
    "od2"
   ]
  },
  {
   "cell_type": "code",
   "execution_count": 49,
   "metadata": {},
   "outputs": [
    {
     "data": {
      "text/plain": [
       "[(650.5812278369369, 0.24998752958087808),\n",
       " (242.4742512497811, 0.25994575851879403),\n",
       " (64.76799067284479, 0.49006671190033346)]"
      ]
     },
     "execution_count": 49,
     "metadata": {},
     "output_type": "execute_result"
    }
   ],
   "source": [
    "minsize=min(len(od1),len(od2))\n",
    "od1 = dict(od1).items()\n",
    "od1 = list(od1)[:minsize]\n",
    "od2 = dict(od2).items()\n",
    "od2 = list(od2)[:minsize]\n",
    "od2"
   ]
  },
  {
   "cell_type": "code",
   "execution_count": 52,
   "metadata": {},
   "outputs": [],
   "source": [
    "odw=[]\n",
    "odm=[]\n",
    "for i in range(len(od1)):\n",
    "    odm.append(abs(od1[i][0] - od2[i][0]))\n",
    "    odw.append(abs(od1[i][1] - od2[i][1]))\n",
    "    "
   ]
  },
  {
   "cell_type": "code",
   "execution_count": null,
   "metadata": {},
   "outputs": [],
   "source": []
  },
  {
   "cell_type": "code",
   "execution_count": 56,
   "metadata": {},
   "outputs": [
    {
     "data": {
      "text/plain": [
       "[0.08332997587683691, 0.0716383992921042, 0.15496837516895579]"
      ]
     },
     "execution_count": 56,
     "metadata": {},
     "output_type": "execute_result"
    }
   ],
   "source": [
    "odw"
   ]
  },
  {
   "cell_type": "code",
   "execution_count": 57,
   "metadata": {},
   "outputs": [
    {
     "data": {
      "text/plain": [
       "[150.8134497291142, 66.56869433872504, 59.5753449605327]"
      ]
     },
     "execution_count": 57,
     "metadata": {},
     "output_type": "execute_result"
    }
   ],
   "source": [
    "odm"
   ]
  },
  {
   "cell_type": "markdown",
   "metadata": {},
   "source": [
    "Manhattan"
   ]
  },
  {
   "cell_type": "code",
   "execution_count": 59,
   "metadata": {},
   "outputs": [
    {
     "data": {
      "text/plain": [
       "[(150.8134497291142, 0.08332997587683691),\n",
       " (66.56869433872504, 0.0716383992921042),\n",
       " (59.5753449605327, 0.15496837516895579)]"
      ]
     },
     "execution_count": 59,
     "metadata": {},
     "output_type": "execute_result"
    }
   ],
   "source": [
    "dmm = list(zip(odm,odw))\n",
    "dmm"
   ]
  },
  {
   "cell_type": "code",
   "execution_count": null,
   "metadata": {},
   "outputs": [],
   "source": [
    "#Recalculation \n",
    "(0.003890734620188796, 40.18229975869491),\n",
    " (0.07746131132774492, 257.15852799431724),\n",
    " (0.08271556852881734, 475.730259847692)"
   ]
  },
  {
   "cell_type": "code",
   "execution_count": null,
   "metadata": {},
   "outputs": [],
   "source": [
    "#Snipping\n",
    "[(0.15573441997690457, 59.835426796165954),\n",
    " (0.07468192969168752, 256.1813654055088),\n",
    " (0.0810524902852065, 475.8826765223812)]"
   ]
  },
  {
   "cell_type": "code",
   "execution_count": 34,
   "metadata": {},
   "outputs": [
    {
     "name": "stdout",
     "output_type": "stream",
     "text": [
      "[0.15573441997690457, 0.07468192969168752, 0.0810524902852065]\n",
      "[59.835426796165954, 256.1813654055088, 475.8826765223812]\n"
     ]
    }
   ],
   "source": [
    "odw=[]\n",
    "odm=[]\n",
    "for i in range(len(od1)):\n",
    "    odw.append(np.sqrt((od1[i][0] - od2[i][0])**2))\n",
    "    odm.append(np.sqrt((od1[i][1][0] - od2[i][1][0])**2))\n",
    "print(odw)\n",
    "print(odm)"
   ]
  },
  {
   "cell_type": "markdown",
   "metadata": {},
   "source": [
    "Euclidean"
   ]
  },
  {
   "cell_type": "code",
   "execution_count": 35,
   "metadata": {},
   "outputs": [
    {
     "data": {
      "text/plain": [
       "[(0.15573441997690457, 59.835426796165954),\n",
       " (0.07468192969168752, 256.1813654055088),\n",
       " (0.0810524902852065, 475.8826765223812)]"
      ]
     },
     "execution_count": 35,
     "metadata": {},
     "output_type": "execute_result"
    }
   ],
   "source": [
    "dme = list(zip(odw,odm))\n",
    "dme"
   ]
  },
  {
   "cell_type": "code",
   "execution_count": null,
   "metadata": {},
   "outputs": [],
   "source": []
  },
  {
   "cell_type": "code",
   "execution_count": null,
   "metadata": {},
   "outputs": [],
   "source": []
  },
  {
   "cell_type": "markdown",
   "metadata": {},
   "source": [
    "Manhattan"
   ]
  },
  {
   "cell_type": "code",
   "execution_count": 32,
   "metadata": {},
   "outputs": [
    {
     "data": {
      "text/plain": [
       "array([ 30.18287449, 103.69937957, 104.8022087 ])"
      ]
     },
     "execution_count": 32,
     "metadata": {},
     "output_type": "execute_result"
    }
   ],
   "source": [
    "distm = abs(odd1-odd2)\n",
    "distm"
   ]
  },
  {
   "cell_type": "markdown",
   "metadata": {},
   "source": [
    "Euclidean"
   ]
  },
  {
   "cell_type": "code",
   "execution_count": 33,
   "metadata": {},
   "outputs": [
    {
     "data": {
      "text/plain": [
       "array([ 31.90065628, 154.32782825, 152.0381114 ])"
      ]
     },
     "execution_count": 33,
     "metadata": {},
     "output_type": "execute_result"
    }
   ],
   "source": [
    "dist = np.sqrt(abs((odd1)**2 - (odd2)**2))\n",
    "dist"
   ]
  },
  {
   "cell_type": "code",
   "execution_count": null,
   "metadata": {},
   "outputs": [],
   "source": [
    "[166.31412156,  61.9865077 , 151.74439034]"
   ]
  },
  {
   "cell_type": "code",
   "execution_count": null,
   "metadata": {},
   "outputs": [],
   "source": []
  },
  {
   "cell_type": "code",
   "execution_count": null,
   "metadata": {},
   "outputs": [],
   "source": []
  }
 ],
 "metadata": {
  "kernelspec": {
   "display_name": "Python 3",
   "language": "python",
   "name": "python3"
  },
  "language_info": {
   "codemirror_mode": {
    "name": "ipython",
    "version": 3
   },
   "file_extension": ".py",
   "mimetype": "text/x-python",
   "name": "python",
   "nbconvert_exporter": "python",
   "pygments_lexer": "ipython3",
   "version": "3.8.5"
  }
 },
 "nbformat": 4,
 "nbformat_minor": 4
}
