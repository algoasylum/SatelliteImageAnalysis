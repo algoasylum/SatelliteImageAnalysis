{
 "cells": [
  {
   "cell_type": "code",
   "execution_count": 4,
   "metadata": {},
   "outputs": [],
   "source": [
    "import pandas as pd\n",
    "import numpy as np\n",
    "import random\n",
    "import matplotlib.pyplot as plt\n",
    "import seaborn as sns\n",
    "from sklearn import mixture\n",
    "sns.set(style='whitegrid')\n",
    "sns.set_palette('bright')\n",
    "import warnings\n",
    "warnings.filterwarnings('ignore')\n",
    "import collections\n",
    "from scipy.spatial import distance"
   ]
  },
  {
   "cell_type": "code",
   "execution_count": 5,
   "metadata": {},
   "outputs": [],
   "source": [
    "def ggen():\n",
    "    comp = 3\n",
    "    print(comp)\n",
    "    val = []\n",
    "    xx = []\n",
    "    yy = []\n",
    "    for i in range(0,comp):\n",
    "        x = np.random.randint(50,250)\n",
    "        xx.append(x)\n",
    "        y = np.random.randint(50)\n",
    "        yy.append(y)\n",
    "        value = np.random.normal(loc=x,scale=y,size=10000)\n",
    "        val.append(list(value))\n",
    "    sns.distplot(val)\n",
    "    #plt.show()\n",
    "    return val, comp, xx, yy"
   ]
  },
  {
   "cell_type": "code",
   "execution_count": 6,
   "metadata": {},
   "outputs": [
    {
     "name": "stdout",
     "output_type": "stream",
     "text": [
      "3\n",
      "3\n"
     ]
    },
    {
     "data": {
      "image/png": "[encoded data removed]",
      "text/plain": [
       "<Figure size 432x288 with 1 Axes>"
      ]
     },
     "metadata": {},
     "output_type": "display_data"
    }
   ],
   "source": [
    "q1, x1 , mean1, std1 = ggen()\n",
    "q2, x2 , mean2, std2 = ggen()"
   ]
  },
  {
   "cell_type": "code",
   "execution_count": 5,
   "metadata": {},
   "outputs": [],
   "source": [
    "lowest_bic = np.infty\n",
    "bic = []\n",
    "n_components_range = range(1, 8)\n",
    "cv_types = ['spherical', 'tied', 'diag', 'full']\n",
    "for cv_type in cv_types:\n",
    "    for n_components in n_components_range:\n",
    "        # Fit a Gaussian mixture with EM\n",
    "        gmm = mixture.GaussianMixture(n_components=n_components,\n",
    "                                      covariance_type=cv_type)\n",
    "        q1 = np.asarray(q1)\n",
    "        q1 =q1.reshape(-1,1)\n",
    "        gmm.fit(q1)\n",
    "        bic.append(gmm.bic(q1))\n",
    "        if bic[-1] < lowest_bic:\n",
    "            lowest_bic = bic[-1]\n",
    "            best_gmmq1 = gmm\n",
    "lowest_bic = np.infty\n",
    "bic = []\n",
    "n_components_range = range(1, 8)\n",
    "cv_types = ['spherical', 'tied', 'diag', 'full']\n",
    "for cv_type in cv_types:\n",
    "    for n_components in n_components_range:\n",
    "        # Fit a Gaussian mixture with EM\n",
    "        gmm = mixture.GaussianMixture(n_components=n_components,\n",
    "                                      covariance_type=cv_type)\n",
    "        q2 = np.asarray(q2)\n",
    "        q2 =q2.reshape(-1,1)\n",
    "        gmm.fit(q2)\n",
    "        bic.append(gmm.bic(q2))\n",
    "        if bic[-1] < lowest_bic:\n",
    "            lowest_bic = bic[-1]\n",
    "            best_gmmq2 = gmm"
   ]
  },
  {
   "cell_type": "code",
   "execution_count": 6,
   "metadata": {},
   "outputs": [
    {
     "name": "stdout",
     "output_type": "stream",
     "text": [
      "{'covariance_type': 'full', 'init_params': 'kmeans', 'max_iter': 100, 'means_init': None, 'n_components': 2, 'n_init': 1, 'precisions_init': None, 'random_state': None, 'reg_covar': 1e-06, 'tol': 0.001, 'verbose': 0, 'verbose_interval': 10, 'warm_start': False, 'weights_init': None}\n",
      "{'covariance_type': 'full', 'init_params': 'kmeans', 'max_iter': 100, 'means_init': None, 'n_components': 2, 'n_init': 1, 'precisions_init': None, 'random_state': None, 'reg_covar': 1e-06, 'tol': 0.001, 'verbose': 0, 'verbose_interval': 10, 'warm_start': False, 'weights_init': None}\n"
     ]
    }
   ],
   "source": [
    "print(best_gmmq1.get_params())\n",
    "print(best_gmmq1.get_params())"
   ]
  },
  {
   "cell_type": "code",
   "execution_count": 7,
   "metadata": {},
   "outputs": [
    {
     "name": "stdout",
     "output_type": "stream",
     "text": [
      "[[ 34.36252567]\n",
      " [300.04340106]]\n",
      "[[272.25874282]\n",
      " [ 75.06318767]]\n",
      "[0.33332858 0.66667142]\n",
      "[0.32922962 0.67077038]\n"
     ]
    }
   ],
   "source": [
    "print(best_gmmq1.means_)\n",
    "print(best_gmmq2.means_)\n",
    "print(best_gmmq1.weights_)\n",
    "print(best_gmmq2.weights_)"
   ]
  },
  {
   "cell_type": "markdown",
   "metadata": {},
   "source": [
    "## OrderbyMeans"
   ]
  },
  {
   "cell_type": "code",
   "execution_count": 8,
   "metadata": {},
   "outputs": [
    {
     "data": {
      "text/plain": [
       "OrderedDict([(300.04340106175016, 0.6666714159661873),\n",
       "             (34.362525668641766, 0.3333285840338131)])"
      ]
     },
     "execution_count": 8,
     "metadata": {},
     "output_type": "execute_result"
    }
   ],
   "source": [
    "means=[]\n",
    "for i in range(len(best_gmmq1.means_)):\n",
    "    means.append(best_gmmq1.means_[i][0])\n",
    "x = dict(zip(means,best_gmmq1.weights_))\n",
    "od1 = collections.OrderedDict(sorted(x.items(),reverse=True))\n",
    "od1"
   ]
  },
  {
   "cell_type": "code",
   "execution_count": 9,
   "metadata": {},
   "outputs": [
    {
     "data": {
      "text/plain": [
       "OrderedDict([(272.25874282362764, 0.32922962293822033),\n",
       "             (75.06318767078143, 0.6707703770617822)])"
      ]
     },
     "execution_count": 9,
     "metadata": {},
     "output_type": "execute_result"
    }
   ],
   "source": [
    "means=[]\n",
    "for i in range(len(best_gmmq2.means_)):\n",
    "    means.append(best_gmmq2.means_[i][0])\n",
    "x = dict(zip(means,best_gmmq2.weights_))\n",
    "od2 = collections.OrderedDict(sorted(x.items(),reverse=True))\n",
    "od2"
   ]
  },
  {
   "cell_type": "markdown",
   "metadata": {},
   "source": [
    "## OrderbyWeights"
   ]
  },
  {
   "cell_type": "code",
   "execution_count": 10,
   "metadata": {},
   "outputs": [
    {
     "data": {
      "text/plain": [
       "[(0.6666714159661873, 300.04340106175016),\n",
       " (0.3333285840338131, 34.362525668641766)]"
      ]
     },
     "execution_count": 10,
     "metadata": {},
     "output_type": "execute_result"
    }
   ],
   "source": [
    "means=[]\n",
    "for i in range(len(best_gmmq1.means_)):\n",
    "    means.append(best_gmmq1.means_[i][0])\n",
    "x = dict(zip(best_gmmq1.weights_,means))\n",
    "od1 = collections.OrderedDict(sorted(x.items(),reverse=True))\n",
    "od1 = list(zip(list(od1.keys()),list(od1.values())))\n",
    "od1"
   ]
  },
  {
   "cell_type": "code",
   "execution_count": 11,
   "metadata": {},
   "outputs": [
    {
     "data": {
      "text/plain": [
       "[(0.6707703770617822, 75.06318767078143),\n",
       " (0.32922962293822033, 272.25874282362764)]"
      ]
     },
     "execution_count": 11,
     "metadata": {},
     "output_type": "execute_result"
    }
   ],
   "source": [
    "means=[]\n",
    "for i in range(len(best_gmmq2.means_)):\n",
    "    means.append(best_gmmq2.means_[i][0])\n",
    "y = dict(zip(best_gmmq2.weights_,means))\n",
    "od2 = collections.OrderedDict(sorted(y.items(),reverse=True))\n",
    "od2 = list(zip(list(od2.keys()),list(od2.values())))\n",
    "od2"
   ]
  },
  {
   "cell_type": "code",
   "execution_count": 12,
   "metadata": {},
   "outputs": [],
   "source": [
    "thres = 0.05\n",
    "diffmean = []\n",
    "diffweights = []\n",
    "for i in range(len(od1)):\n",
    "    diffmean.append(od1[i][1] - od2[i][1])\n",
    "    diffweights.append(od1[i][0] - od2[i][0])        "
   ]
  },
  {
   "cell_type": "code",
   "execution_count": 13,
   "metadata": {},
   "outputs": [
    {
     "name": "stdout",
     "output_type": "stream",
     "text": [
      "[224.98021339096874, -237.8962171549859]\n",
      "[-0.004098961095594933, 0.004098961095592768]\n"
     ]
    }
   ],
   "source": [
    "print(diffmean)\n",
    "print(diffweights)"
   ]
  },
  {
   "cell_type": "code",
   "execution_count": null,
   "metadata": {},
   "outputs": [],
   "source": []
  }
 ],
 "metadata": {
  "kernelspec": {
   "display_name": "Python 3",
   "language": "python",
   "name": "python3"
  },
  "language_info": {
   "codemirror_mode": {
    "name": "ipython",
    "version": 3
   },
   "file_extension": ".py",
   "mimetype": "text/x-python",
   "name": "python",
   "nbconvert_exporter": "python",
   "pygments_lexer": "ipython3",
   "version": "3.8.5"
  }
 },
 "nbformat": 4,
 "nbformat_minor": 4
}
