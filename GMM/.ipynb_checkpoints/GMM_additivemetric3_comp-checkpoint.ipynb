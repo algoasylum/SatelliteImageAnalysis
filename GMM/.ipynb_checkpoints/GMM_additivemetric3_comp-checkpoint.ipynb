{
 "cells": [
  {
   "cell_type": "code",
   "execution_count": 2,
   "metadata": {},
   "outputs": [],
   "source": [
    "import pandas as pd\n",
    "import numpy as np\n",
    "import random\n",
    "import matplotlib.pyplot as plt\n",
    "import seaborn as sns\n",
    "from sklearn import mixture\n",
    "sns.set(style='whitegrid')\n",
    "sns.set_palette('bright')\n",
    "import warnings\n",
    "warnings.filterwarnings('ignore')\n",
    "import collections\n",
    "from scipy.spatial import distance"
   ]
  },
  {
   "cell_type": "code",
   "execution_count": 3,
   "metadata": {},
   "outputs": [
    {
     "data": {
      "text/plain": [
       "<AxesSubplot:ylabel='Density'>"
      ]
     },
     "execution_count": 3,
     "metadata": {},
     "output_type": "execute_result"
    },
    {
     "data": {
      "image/png": "[encoded data removed]",
      "text/plain": [
       "<Figure size 432x288 with 1 Axes>"
      ]
     },
     "metadata": {},
     "output_type": "display_data"
    }
   ],
   "source": [
    "value1 = np.random.normal(loc=35,scale=50,size=5000)\n",
    "value2 =  np.random.normal(loc=300,scale=20,size=10000)\n",
    "q1 = np.concatenate((value1,value2))\n",
    "value1 = np.random.normal(loc=300,scale=50,size=5000)\n",
    "value2 =  np.random.normal(loc=35,scale=20,size=10000)\n",
    "q2 = np.concatenate((value1,value2))\n",
    "sns.distplot(q1,bins=100)\n",
    "sns.distplot(q2,bins=100)"
   ]
  },
  {
   "cell_type": "code",
   "execution_count": 12,
   "metadata": {},
   "outputs": [],
   "source": [
    "lowest_bic = np.infty\n",
    "bic = []\n",
    "n_components_range = range(1, 8)\n",
    "cv_types = ['spherical', 'tied', 'diag', 'full']\n",
    "for cv_type in cv_types:\n",
    "    for n_components in n_components_range:\n",
    "        # Fit a Gaussian mixture with EM\n",
    "        gmm = mixture.GaussianMixture(n_components=n_components,\n",
    "                                      covariance_type=cv_type)\n",
    "        q1 = np.asarray(q1)\n",
    "        q1 =q1.reshape(-1,1)\n",
    "        gmm.fit(q1)\n",
    "        bic.append(gmm.bic(q1))\n",
    "        if bic[-1] < lowest_bic:\n",
    "            lowest_bic = bic[-1]\n",
    "            best_gmmq1 = gmm\n",
    "lowest_bic = np.infty\n",
    "bic = []\n",
    "n_components_range = range(1, 8)\n",
    "cv_types = ['spherical', 'tied', 'diag', 'full']\n",
    "for cv_type in cv_types:\n",
    "    for n_components in n_components_range:\n",
    "        # Fit a Gaussian mixture with EM\n",
    "        gmm = mixture.GaussianMixture(n_components=n_components,\n",
    "                                      covariance_type=cv_type)\n",
    "        q2 = np.asarray(q2)\n",
    "        q2 =q2.reshape(-1,1)\n",
    "        gmm.fit(q2)\n",
    "        bic.append(gmm.bic(q2))\n",
    "        if bic[-1] < lowest_bic:\n",
    "            lowest_bic = bic[-1]\n",
    "            best_gmmq2 = gmm"
   ]
  },
  {
   "cell_type": "code",
   "execution_count": 13,
   "metadata": {},
   "outputs": [
    {
     "name": "stdout",
     "output_type": "stream",
     "text": [
      "{'covariance_type': 'spherical', 'init_params': 'kmeans', 'max_iter': 100, 'means_init': None, 'n_components': 2, 'n_init': 1, 'precisions_init': None, 'random_state': None, 'reg_covar': 1e-06, 'tol': 0.001, 'verbose': 0, 'verbose_interval': 10, 'warm_start': False, 'weights_init': None}\n",
      "{'covariance_type': 'spherical', 'init_params': 'kmeans', 'max_iter': 100, 'means_init': None, 'n_components': 2, 'n_init': 1, 'precisions_init': None, 'random_state': None, 'reg_covar': 1e-06, 'tol': 0.001, 'verbose': 0, 'verbose_interval': 10, 'warm_start': False, 'weights_init': None}\n"
     ]
    }
   ],
   "source": [
    "print(best_gmmq1.get_params())\n",
    "print(best_gmmq1.get_params())"
   ]
  },
  {
   "cell_type": "code",
   "execution_count": 14,
   "metadata": {},
   "outputs": [
    {
     "name": "stdout",
     "output_type": "stream",
     "text": [
      "[[299.8246721 ]\n",
      " [ 36.08380418]]\n",
      "[[ 34.99597033]\n",
      " [300.72096594]]\n",
      "[0.66666496 0.33333504]\n",
      "[0.66665414 0.33334586]\n"
     ]
    }
   ],
   "source": [
    "print(best_gmmq1.means_)\n",
    "print(best_gmmq2.means_)\n",
    "print(best_gmmq1.weights_)\n",
    "print(best_gmmq2.weights_)"
   ]
  },
  {
   "cell_type": "markdown",
   "metadata": {},
   "source": [
    "## OrderbyMeans"
   ]
  },
  {
   "cell_type": "code",
   "execution_count": 17,
   "metadata": {},
   "outputs": [
    {
     "data": {
      "text/plain": [
       "OrderedDict([(299.8246720963777, 0.666664964430211),\n",
       "             (36.08380418101256, 0.33333503556978816)])"
      ]
     },
     "execution_count": 17,
     "metadata": {},
     "output_type": "execute_result"
    }
   ],
   "source": [
    "means=[]\n",
    "for i in range(len(best_gmmq1.means_)):\n",
    "    means.append(best_gmmq1.means_[i][0])\n",
    "x = dict(zip(means,best_gmmq1.weights_))\n",
    "od1 = collections.OrderedDict(sorted(x.items(),reverse=True))\n",
    "od1"
   ]
  },
  {
   "cell_type": "code",
   "execution_count": 18,
   "metadata": {},
   "outputs": [
    {
     "data": {
      "text/plain": [
       "OrderedDict([(300.7209659444714, 0.33334585816203954),\n",
       "             (34.995970329818334, 0.6666541418379589)])"
      ]
     },
     "execution_count": 18,
     "metadata": {},
     "output_type": "execute_result"
    }
   ],
   "source": [
    "means=[]\n",
    "for i in range(len(best_gmmq2.means_)):\n",
    "    means.append(best_gmmq2.means_[i][0])\n",
    "x = dict(zip(means,best_gmmq2.weights_))\n",
    "od2 = collections.OrderedDict(sorted(x.items(),reverse=True))\n",
    "od2"
   ]
  },
  {
   "cell_type": "markdown",
   "metadata": {},
   "source": [
    "## OrderbyWeights"
   ]
  },
  {
   "cell_type": "code",
   "execution_count": 42,
   "metadata": {},
   "outputs": [
    {
     "data": {
      "text/plain": [
       "[(0.666664964430211, 299.8246720963777),\n",
       " (0.33333503556978816, 36.08380418101256)]"
      ]
     },
     "execution_count": 42,
     "metadata": {},
     "output_type": "execute_result"
    }
   ],
   "source": [
    "means=[]\n",
    "for i in range(len(best_gmmq1.means_)):\n",
    "    means.append(best_gmmq1.means_[i][0])\n",
    "x = dict(zip(best_gmmq1.weights_,means))\n",
    "od1 = collections.OrderedDict(sorted(x.items(),reverse=True))\n",
    "od1 = list(zip(list(od1.keys()),list(od1.values())))\n",
    "od1"
   ]
  },
  {
   "cell_type": "code",
   "execution_count": 43,
   "metadata": {},
   "outputs": [
    {
     "data": {
      "text/plain": [
       "[(0.6666541418379589, 34.995970329818334),\n",
       " (0.33334585816203954, 300.7209659444714)]"
      ]
     },
     "execution_count": 43,
     "metadata": {},
     "output_type": "execute_result"
    }
   ],
   "source": [
    "means=[]\n",
    "for i in range(len(best_gmmq2.means_)):\n",
    "    means.append(best_gmmq2.means_[i][0])\n",
    "y = dict(zip(best_gmmq2.weights_,means))\n",
    "od2 = collections.OrderedDict(sorted(y.items(),reverse=True))\n",
    "od2 = list(zip(list(od2.keys()),list(od2.values())))\n",
    "od2"
   ]
  },
  {
   "cell_type": "code",
   "execution_count": 46,
   "metadata": {},
   "outputs": [],
   "source": [
    "thres = 0.05\n",
    "diffmean = []\n",
    "diffweights = []\n",
    "for i in range(len(od1)):\n",
    "    diffmean.append(od1[i][1] - od2[i][1])\n",
    "    diffweights.append(od1[i][0] - od2[i][0])        "
   ]
  },
  {
   "cell_type": "code",
   "execution_count": 51,
   "metadata": {},
   "outputs": [
    {
     "name": "stdout",
     "output_type": "stream",
     "text": [
      "[264.82870176655933, -264.63716176345883]\n",
      "[1.0822592252046626e-05, -1.0822592251380492e-05]\n"
     ]
    }
   ],
   "source": [
    "print(diffmean)\n",
    "print(diffweights)"
   ]
  },
  {
   "cell_type": "code",
   "execution_count": null,
   "metadata": {},
   "outputs": [],
   "source": []
  }
 ],
 "metadata": {
  "kernelspec": {
   "display_name": "Python 3",
   "language": "python",
   "name": "python3"
  },
  "language_info": {
   "codemirror_mode": {
    "name": "ipython",
    "version": 3
   },
   "file_extension": ".py",
   "mimetype": "text/x-python",
   "name": "python",
   "nbconvert_exporter": "python",
   "pygments_lexer": "ipython3",
   "version": "3.8.3"
  }
 },
 "nbformat": 4,
 "nbformat_minor": 4
}
