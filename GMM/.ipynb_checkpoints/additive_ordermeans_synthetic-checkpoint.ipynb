{
 "cells": [
  {
   "cell_type": "code",
   "execution_count": 33,
   "id": "disturbed-crisis",
   "metadata": {},
   "outputs": [],
   "source": [
    "import pandas as pd\n",
    "import numpy as np\n",
    "import random\n",
    "import matplotlib.pyplot as plt\n",
    "import seaborn as sns\n",
    "from sklearn import mixture\n",
    "sns.set(style='whitegrid')\n",
    "sns.set_palette('bright')\n",
    "import warnings\n",
    "warnings.filterwarnings('ignore')\n",
    "import collections\n",
    "from scipy.spatial import distance\n",
    "from scipy.stats import norm\n",
    "from scipy import stats\n",
    "from scipy.stats import wasserstein_distance\n"
   ]
  },
  {
   "cell_type": "code",
   "execution_count": 2,
   "id": "specific-holiday",
   "metadata": {},
   "outputs": [],
   "source": [
    "def gmm20k(q1,q2):\n",
    "    lowest_bic = np.infty\n",
    "    bic = []\n",
    "    n_components_range = range(1, 8)\n",
    "    cv_types = ['spherical', 'tied', 'diag', 'full']\n",
    "    for cv_type in cv_types:\n",
    "        for n_components in n_components_range:\n",
    "            # Fit a Gaussian mixture with EM\n",
    "            gmm = mixture.GaussianMixture(n_components=n_components,\n",
    "                                          covariance_type=cv_type)\n",
    "            q1 = np.asarray(q1)\n",
    "            q1 =q1.reshape(-1,1)\n",
    "            gmm.fit(q1)\n",
    "            bic.append(gmm.bic(q1))\n",
    "            if bic[-1] < lowest_bic:\n",
    "                lowest_bic = bic[-1]\n",
    "                best_gmmq1 = gmm\n",
    "    lowest_bic = np.infty\n",
    "    bic = []\n",
    "    n_components_range = range(1, 8)\n",
    "    cv_types = ['spherical', 'tied', 'diag', 'full']\n",
    "    for cv_type in cv_types:\n",
    "        for n_components in n_components_range:\n",
    "            # Fit a Gaussian mixture with EM\n",
    "            gmm = mixture.GaussianMixture(n_components=n_components,\n",
    "                                          covariance_type=cv_type)\n",
    "            q2 = np.asarray(q2)\n",
    "            q2 =q2.reshape(-1,1)\n",
    "            gmm.fit(q2)\n",
    "            bic.append(gmm.bic(q2))\n",
    "            if bic[-1] < lowest_bic:\n",
    "                lowest_bic = bic[-1]\n",
    "                best_gmmq2 = gmm\n",
    "    \n",
    "    means=[]\n",
    "    for tt in range(len(best_gmmq1.means_)):\n",
    "        means.append(best_gmmq1.means_[tt][0])\n",
    "    x = dict(zip(means,best_gmmq1.weights_))\n",
    "    od1 = collections.OrderedDict(sorted(x.items(),reverse=True))\n",
    "    od1 = list(zip(list(od1.keys()),list(od1.values())))\n",
    "    #print(od1)\n",
    "    means=[]\n",
    "    for tt in range(len(best_gmmq2.means_)):\n",
    "        means.append(best_gmmq2.means_[tt][0])\n",
    "    y = dict(zip(means,best_gmmq2.weights_))\n",
    "    od2 = collections.OrderedDict(sorted(y.items(),reverse=True))\n",
    "    od2 = list(zip(list(od2.keys()),list(od2.values())))\n",
    "    #print(od2)\n",
    "    maxx = max(len(od1),len(od2))\n",
    "    diff = abs(len(od1) - len(od2))\n",
    "    if len(od2) > len(od1):\n",
    "        for i in range(0,diff):\n",
    "            od1.append((0,0))\n",
    "    elif len(od2) < len(od1):\n",
    "        for i in range(0,diff):\n",
    "            od2.append((0,0))\n",
    "\n",
    "    diffmean = []\n",
    "    diffweights = []\n",
    "    for tt in range(len(od2)):\n",
    "        diffmean.append(abs(od1[tt][1] - od2[tt][1]))\n",
    "        diffweights.append(abs(od1[tt][0] - od2[tt][0])) \n",
    "    #print(diffweights)\n",
    "    r=[]\n",
    "    for i in range(0,len(diffmean)):\n",
    "        r.append(diffmean[i] * diffweights[i])\n",
    "    #print(len(od1) , len(od2))\n",
    "    return od1,od2,sum(r)"
   ]
  },
  {
   "cell_type": "code",
   "execution_count": 23,
   "id": "residential-absence",
   "metadata": {},
   "outputs": [],
   "source": [
    "def gmm10k(q1,q2):\n",
    "    lowest_bic = np.infty\n",
    "    bic = []\n",
    "    n_components_range = range(1, 8)\n",
    "    cv_types = ['spherical', 'tied', 'diag', 'full']\n",
    "    for cv_type in cv_types:\n",
    "        for n_components in n_components_range:\n",
    "            # Fit a Gaussian mixture with EM\n",
    "            gmm = mixture.GaussianMixture(n_components=n_components,\n",
    "                                          covariance_type=cv_type)\n",
    "            q1 = np.asarray(q1)\n",
    "            q1 =q1.reshape(-1,1)\n",
    "            gmm.fit(q1)\n",
    "            bic.append(gmm.bic(q1))\n",
    "            if bic[-1] < lowest_bic:\n",
    "                lowest_bic = bic[-1]\n",
    "                best_gmmq1 = gmm\n",
    "    lowest_bic = np.infty\n",
    "    bic = []\n",
    "    n_components_range = range(1, 8)\n",
    "    cv_types = ['spherical', 'tied', 'diag', 'full']\n",
    "    for cv_type in cv_types:\n",
    "        for n_components in n_components_range:\n",
    "            # Fit a Gaussian mixture with EM\n",
    "            gmm = mixture.GaussianMixture(n_components=n_components,\n",
    "                                          covariance_type=cv_type)\n",
    "            q2 = np.asarray(q2)\n",
    "            q2 =q2.reshape(-1,1)\n",
    "            gmm.fit(q2)\n",
    "            bic.append(gmm.bic(q2))\n",
    "            if bic[-1] < lowest_bic:\n",
    "                lowest_bic = bic[-1]\n",
    "                best_gmmq2 = gmm\n",
    "    \n",
    "    #print(best_gmmq1.get_params())\n",
    "    #print(best_gmmq2.get_params())\n",
    "    #print(best_gmmq1.means_)\n",
    "    #print(best_gmmq2.means_)\n",
    "    #print(best_gmmq1.weights_)\n",
    "    #print(best_gmmq2.weights_)\n",
    "    means=[]\n",
    "    for tt in range(len(best_gmmq1.means_)):\n",
    "        means.append(best_gmmq1.means_[tt][0])\n",
    "    x = dict(zip(best_gmmq1.weights_,means))\n",
    "    od1 = collections.OrderedDict(sorted(x.items(),reverse=True))\n",
    "    od1 = list(zip(list(od1.keys()),list(od1.values())))\n",
    "    means=[]\n",
    "    for tt in range(len(best_gmmq2.means_)):\n",
    "        means.append(best_gmmq2.means_[tt][0])\n",
    "    y = dict(zip(best_gmmq2.weights_,means))\n",
    "    od2 = collections.OrderedDict(sorted(y.items(),reverse=True))\n",
    "    od2 = list(zip(list(od2.keys()),list(od2.values())))\n",
    "    maxx = max(len(od1),len(od2))\n",
    "    diff = abs(len(od1) - len(od2))\n",
    "    if len(od2) > len(od1):\n",
    "        for i in range(0,diff):\n",
    "            od1.append((0,0))\n",
    "    elif len(od2) < len(od1):\n",
    "        for i in range(0,diff):\n",
    "            od2.append((0,0))\n",
    "    #print(maxx)\n",
    "    #print(od1)\n",
    "    #print(od2)\n",
    "    diffmean = []\n",
    "    diffweights = []\n",
    "    for tt in range(len(od2)):\n",
    "        diffmean.append(abs(od1[tt][1] - od2[tt][1]))\n",
    "        diffweights.append(abs(od1[tt][0] - od2[tt][0])) \n",
    "    #print(diffweights)\n",
    "    r=[]\n",
    "    for i in range(0,len(diffmean)):\n",
    "        r.append(diffmean[i] * diffweights[i])\n",
    "    #print(len(od1) , len(od2))\n",
    "    return od1,od2,sum(r)"
   ]
  },
  {
   "cell_type": "code",
   "execution_count": 41,
   "id": "acknowledged-sixth",
   "metadata": {},
   "outputs": [],
   "source": [
    "def jacciboi(q1,q2):\n",
    "    q1 = np.append(q1,q2.max())\n",
    "    q1 = np.append(q1,q2.min())\n",
    "    q2 = np.append(q2,q1.max())\n",
    "    q2 = np.append(q2,q1.min())\n",
    "    count1, bin_edges1 = np.histogram(q1, bins=20)\n",
    "    count2, bin_edges2 = np.histogram(q2, bins=20)\n",
    "    intersect=[]\n",
    "    union=[]\n",
    "    for x in range(count1.shape[0]):\n",
    "        intersect.append(min(count1[x],count2[x]))\n",
    "    intersect = np.array([intersect])\n",
    "    isum = intersect.sum()\n",
    "    for x in range(count1.shape[0]):\n",
    "        union.append(max(count1[x],count2[x]))\n",
    "    union = np.array([union])\n",
    "    usum = union.sum()\n",
    "    jacc1 = isum/usum\n",
    "    jacc1\n",
    "    return jacc1"
   ]
  },
  {
   "cell_type": "code",
   "execution_count": 24,
   "id": "informal-setting",
   "metadata": {},
   "outputs": [
    {
     "data": {
      "text/plain": [
       "<AxesSubplot:ylabel='Density'>"
      ]
     },
     "execution_count": 24,
     "metadata": {},
     "output_type": "execute_result"
    },
    {
     "data": {
      "image/png": "[encoded data removed]",
      "text/plain": [
       "<Figure size 432x288 with 1 Axes>"
      ]
     },
     "metadata": {},
     "output_type": "display_data"
    }
   ],
   "source": [
    "value1 = np.random.normal(loc=5,scale=25,size=10000)\n",
    "value2 =  np.random.normal(loc=175,scale=50,size=10000)\n",
    "value3 =  np.random.normal(loc=500,scale=75,size=10000)\n",
    "q1 = np.concatenate((value1,value2,value3))\n",
    "sns.distplot(value1,bins=50)\n",
    "sns.distplot(value2,bins=50)\n",
    "sns.distplot(value3,bins=50)"
   ]
  },
  {
   "cell_type": "code",
   "execution_count": 10,
   "id": "likely-dollar",
   "metadata": {},
   "outputs": [],
   "source": [
    "_,_,r12 = gmm10k(value1,value2)\n",
    "_,_,r23 = gmm10k(value2,value3)\n",
    "_,_,r13 = gmm10k(value1,value3)"
   ]
  },
  {
   "cell_type": "markdown",
   "id": "catholic-pacific",
   "metadata": {},
   "source": [
    "## Edge case - one component only so diffweight = 0, metric = 0"
   ]
  },
  {
   "cell_type": "code",
   "execution_count": 11,
   "id": "removable-montgomery",
   "metadata": {},
   "outputs": [
    {
     "name": "stdout",
     "output_type": "stream",
     "text": [
      "0.0 0.0 0.0\n"
     ]
    }
   ],
   "source": [
    "print(r12,r23,r13)"
   ]
  },
  {
   "cell_type": "code",
   "execution_count": 12,
   "id": "czech-solomon",
   "metadata": {},
   "outputs": [],
   "source": [
    "_,_,r12 = gmm20k(value1,value2)\n",
    "_,_,r23 = gmm20k(value2,value3)\n",
    "_,_,r13 = gmm20k(value1,value3)"
   ]
  },
  {
   "cell_type": "code",
   "execution_count": 13,
   "id": "fifty-interstate",
   "metadata": {},
   "outputs": [
    {
     "name": "stdout",
     "output_type": "stream",
     "text": [
      "0.0 0.0 0.0\n"
     ]
    }
   ],
   "source": [
    "print(r12,r23,r13)"
   ]
  },
  {
   "cell_type": "code",
   "execution_count": 25,
   "id": "robust-bicycle",
   "metadata": {},
   "outputs": [
    {
     "data": {
      "text/plain": [
       "<AxesSubplot:ylabel='Density'>"
      ]
     },
     "execution_count": 25,
     "metadata": {},
     "output_type": "execute_result"
    },
    {
     "data": {
      "image/png": "[encoded data removed]",
      "text/plain": [
       "<Figure size 432x288 with 1 Axes>"
      ]
     },
     "metadata": {},
     "output_type": "display_data"
    }
   ],
   "source": [
    "value1 = np.random.normal(loc=5,scale=25,size=10000)\n",
    "value2 = np.random.normal(loc=75,scale=45,size=5000)\n",
    "q1 = np.concatenate((value1,value2))\n",
    "value1 = np.random.normal(loc=175,scale=59,size=10000)\n",
    "value2 = np.random.normal(loc=100,scale=34,size=5000)\n",
    "q2 = np.concatenate((value1,value2))\n",
    "value1 = np.random.normal(loc=500,scale=75,size=10000)\n",
    "value2 = np.random.normal(loc=550,scale=32,size=5000)\n",
    "q3 = np.concatenate((value1,value2))\n",
    "sns.distplot(q1,bins=50)\n",
    "sns.distplot(q2,bins=50)\n",
    "sns.distplot(q3,bins=50)"
   ]
  },
  {
   "cell_type": "code",
   "execution_count": 26,
   "id": "occupational-billy",
   "metadata": {},
   "outputs": [],
   "source": [
    "w1,w2,r12 = gmm10k(q1,q2)\n",
    "w3,w4,r23 = gmm10k(q2,q3)\n",
    "_,_,r13 = gmm10k(q1,q3)"
   ]
  },
  {
   "cell_type": "code",
   "execution_count": 27,
   "id": "ordered-python",
   "metadata": {},
   "outputs": [
    {
     "data": {
      "text/plain": [
       "[(0.7377608381836042, 6.977606783999541),\n",
       " (0.2622391618163935, 87.46872034617418)]"
      ]
     },
     "execution_count": 27,
     "metadata": {},
     "output_type": "execute_result"
    }
   ],
   "source": [
    "w1"
   ]
  },
  {
   "cell_type": "code",
   "execution_count": 28,
   "id": "appreciated-xerox",
   "metadata": {},
   "outputs": [
    {
     "data": {
      "text/plain": [
       "[(0.5693352259652763, 109.71960329414895),\n",
       " (0.4306647740347245, 201.1046529736306)]"
      ]
     },
     "execution_count": 28,
     "metadata": {},
     "output_type": "execute_result"
    }
   ],
   "source": [
    "w2"
   ]
  },
  {
   "cell_type": "code",
   "execution_count": 29,
   "id": "quiet-knight",
   "metadata": {},
   "outputs": [
    {
     "data": {
      "text/plain": [
       "[(0.5700869614554023, 109.77475294961633),\n",
       " (0.4299130385445976, 201.19131535011215),\n",
       " (0, 0),\n",
       " (0, 0),\n",
       " (0, 0)]"
      ]
     },
     "execution_count": 29,
     "metadata": {},
     "output_type": "execute_result"
    }
   ],
   "source": [
    "w3"
   ]
  },
  {
   "cell_type": "code",
   "execution_count": 30,
   "id": "interior-lighter",
   "metadata": {},
   "outputs": [
    {
     "data": {
      "text/plain": [
       "[(0.3764324960535357, 561.3673522486582),\n",
       " (0.32170462540543115, 518.420675554224),\n",
       " (0.20405300337940388, 447.40554538779236),\n",
       " (0.05519687857908262, 371.1528554505305),\n",
       " (0.04261299658254804, 639.5992160589935)]"
      ]
     },
     "execution_count": 30,
     "metadata": {},
     "output_type": "execute_result"
    }
   ],
   "source": [
    "w4"
   ]
  },
  {
   "cell_type": "code",
   "execution_count": 31,
   "id": "invisible-relief",
   "metadata": {},
   "outputs": [
    {
     "name": "stdout",
     "output_type": "stream",
     "text": [
      "36.44358518553558 260.81597263521957 421.76273313079247\n"
     ]
    }
   ],
   "source": [
    "print(r12,r23,r13)"
   ]
  },
  {
   "cell_type": "code",
   "execution_count": 34,
   "id": "whole-harbor",
   "metadata": {},
   "outputs": [
    {
     "name": "stdout",
     "output_type": "stream",
     "text": [
      "120.99039612630284\n",
      "368.0554813466983\n",
      "489.0458774730012\n"
     ]
    }
   ],
   "source": [
    "print(wasserstein_distance(q2,q1))\n",
    "print(wasserstein_distance(q2,q3))\n",
    "print(wasserstein_distance(q3,q1))"
   ]
  },
  {
   "cell_type": "code",
   "execution_count": 42,
   "id": "negative-geography",
   "metadata": {},
   "outputs": [
    {
     "name": "stdout",
     "output_type": "stream",
     "text": [
      "0.15899258343634115\n",
      "0.005597077454167644\n",
      "0.00030005000833472245\n"
     ]
    }
   ],
   "source": [
    "print(jacciboi(q2,q1))\n",
    "print(jacciboi(q2,q3))\n",
    "print(jacciboi(q3,q1))"
   ]
  },
  {
   "cell_type": "code",
   "execution_count": 39,
   "id": "completed-symposium",
   "metadata": {},
   "outputs": [],
   "source": []
  },
  {
   "cell_type": "code",
   "execution_count": 40,
   "id": "consecutive-breeding",
   "metadata": {},
   "outputs": [
    {
     "name": "stdout",
     "output_type": "stream",
     "text": [
      "0.15899258343634115\n"
     ]
    }
   ],
   "source": []
  },
  {
   "cell_type": "code",
   "execution_count": null,
   "id": "guilty-valley",
   "metadata": {},
   "outputs": [],
   "source": []
  }
 ],
 "metadata": {
  "kernelspec": {
   "display_name": "Python 3",
   "language": "python",
   "name": "python3"
  },
  "language_info": {
   "codemirror_mode": {
    "name": "ipython",
    "version": 3
   },
   "file_extension": ".py",
   "mimetype": "text/x-python",
   "name": "python",
   "nbconvert_exporter": "python",
   "pygments_lexer": "ipython3",
   "version": "3.8.5"
  }
 },
 "nbformat": 4,
 "nbformat_minor": 5
}
